{
 "cells": [
  {
   "cell_type": "markdown",
   "id": "bae980c5-42bc-43c5-b06f-36a5dfef12ac",
   "metadata": {},
   "source": [
    "# Lecture 5: Time Series Analysis"
   ]
  },
  {
   "cell_type": "markdown",
   "id": "f7976fee-f81a-48a8-88f7-e8dc4a9c84d4",
   "metadata": {},
   "source": [
    "Today we focus on a special type of datasets: time series.\n",
    "\n",
    "Time series occur in environmental monitoring a lot, but they are also used in business developement, market analysis. So what you learn today, is relevant for a wide range of fields. \n",
    "\n",
    "## 5.1 What are time series?\n",
    "\n",
    "A time series is any type of time-resolved data. It could be the number of cofees you drink every day. It could be the market value of bitcoin on a daily-basis. But it can also be the number of subway passengers in Vienna on a hourly-basis. What makes them unique, is that the \"independent\" variable is structured: There is a direction, i.e. there is a sense of \"previous\" and \"future\". The \"dependent\" variables can not be only a simple scalar, but vectors, sets of datas etc. \n",
    "\n",
    "- Time series data are often auto-correlated: Neighbouring data points are often similar and have some dependency on each other\n",
    "- Time series data is often structured in discrete intervals (hourly, daily, yearly)\n",
    "- Time series analysis is a classical data science topic: We dig into datasets to just find the patterns which occur, not necessarily driven by a prior hypothesis. \n",
    "- Time series data can be used for forecasting: Predict the future from the past"
   ]
  },
  {
   "cell_type": "markdown",
   "id": "5270de2d-4e05-4f75-be64-4ecfd822cd12",
   "metadata": {},
   "source": [
    "### 5.1.1 Base level, trend, seasonality, cycles and irregularities"
   ]
  },
  {
   "cell_type": "markdown",
   "id": "d7c79f8f-4eb8-47bc-82bf-00eb2be7aadc",
   "metadata": {},
   "source": [
    "### 5.1.2 Stationary vs non-stationary"
   ]
  },
  {
   "cell_type": "markdown",
   "id": "1b3f3abc-5aa2-4450-a256-476a0d52f608",
   "metadata": {},
   "source": [
    "## 5.2 Time series: pandas functionality"
   ]
  },
  {
   "cell_type": "markdown",
   "id": "ba421d8f-360e-40d4-95fd-45a3701ead66",
   "metadata": {},
   "source": [
    "`pandas` is very convenient for dealing with time resolved data.\n",
    "\n",
    "First, it has its built-in data type, the `pd.Timestamp`, which inheritly knows what time is and how it works, i.e. it knows how our calendars and clocks work. "
   ]
  },
  {
   "cell_type": "markdown",
   "id": "4d90924a-1f4e-4d0a-854a-1e122560a812",
   "metadata": {},
   "source": [
    "A particular feature of the Series and DataFrames data structures is that they both have a labeled axis called index. A specific type of index that you will often see with time series data is the DatetimeIndex which you will explore further in this chapter. Generally, the index makes slicing and dicing operations very intuitive. For example, to make a DataFrame ready for time series analysis, you will learn how to create DataFrames with an index of type DatetimeIndex."
   ]
  },
  {
   "cell_type": "code",
   "execution_count": null,
   "id": "f12976de-986c-4241-9f60-32f5bb1db82a",
   "metadata": {},
   "outputs": [],
   "source": []
  }
 ],
 "metadata": {
  "kernelspec": {
   "display_name": "Python 3",
   "language": "python",
   "name": "python3"
  },
  "language_info": {
   "codemirror_mode": {
    "name": "ipython",
    "version": 3
   },
   "file_extension": ".py",
   "mimetype": "text/x-python",
   "name": "python",
   "nbconvert_exporter": "python",
   "pygments_lexer": "ipython3",
   "version": "3.11.10"
  }
 },
 "nbformat": 4,
 "nbformat_minor": 5
}

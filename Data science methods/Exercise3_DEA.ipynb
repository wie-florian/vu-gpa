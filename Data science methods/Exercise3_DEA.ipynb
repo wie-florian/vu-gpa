{
 "cells": [
  {
   "metadata": {},
   "cell_type": "markdown",
   "source": "# Loading all necessary packages",
   "id": "ad2ecace5a4e32c2"
  },
  {
   "metadata": {
    "ExecuteTime": {
     "end_time": "2025-05-06T05:55:56.025218Z",
     "start_time": "2025-05-06T05:55:56.021219Z"
    }
   },
   "cell_type": "code",
   "source": [
    "import numpy as np\n",
    "import pandas as pd\n",
    "import matplotlib.pyplot as plt\n",
    "\n",
    "from sklearn.cluster import AgglomerativeClustering, KMeans\n",
    "from scipy.cluster import hierarchy\n",
    "\n",
    "from pulp import LpVariable, LpProblem, LpMinimize, lpSum, value, LpStatus\n"
   ],
   "id": "3e9f1e16a22d250",
   "outputs": [],
   "execution_count": 91
  },
  {
   "metadata": {},
   "cell_type": "markdown",
   "source": [
    "# Part 1 - Import and preprocess\n",
    "1. Read Excel file and set column 0 as index\n",
    "2. Dropping empty lines\n",
    "3. Keeping a copy of the raw data in `df_raw`\n",
    "4. Normalizing data in `df`"
   ],
   "id": "be96557e77bb7d9b"
  },
  {
   "cell_type": "code",
   "id": "initial_id",
   "metadata": {
    "collapsed": true,
    "ExecuteTime": {
     "end_time": "2025-05-06T04:51:01.984406Z",
     "start_time": "2025-05-06T04:51:01.942524Z"
    }
   },
   "source": [
    "# Read in Data using pandas\n",
    "df_raw = pd.read_excel('Exercise3_data.xlsx', index_col=0)\n",
    "\n",
    "# Dropping empty lines\n",
    "df_raw = df_raw.drop(df_raw.index[0:3])\n",
    "df = df_raw.copy()\n",
    "\n",
    "# normalize by column\n",
    "df = (df - df.min()) / (df.max() - df.min())\n",
    "\n",
    "df"
   ],
   "outputs": [
    {
     "data": {
      "text/plain": [
       "               Distance      Cost        LO     Water       GWP      FWET  \\\n",
       "BD20 algae          1.0  0.661017  0.003428   0.02439   0.97166  0.324324   \n",
       "BD20 Camelina       1.0  0.559322  0.195373  0.117517  0.927126  0.201201   \n",
       "BD20 canola         1.0  0.610169  0.101971  0.064302  0.927126  0.201201   \n",
       "BD20 corn           1.0  0.525424  0.312768  0.137472  0.959514  0.231231   \n",
       "BD20 Jatropha       1.0  0.525424  0.093402  0.055432   0.94332  0.231231   \n",
       "...                 ...       ...       ...       ...       ...       ...   \n",
       "RDII canola    0.923077  0.771186  0.520137   0.32816  0.032389  0.162162   \n",
       "RDII corn      0.923077   0.29661  0.841474  0.055432  0.165992  0.339339   \n",
       "RDII Jatropha  0.923077  0.288136  0.474722  0.280488   0.11336  0.327327   \n",
       "RDII palm      0.923077  0.491525  0.239075       1.0       0.0  0.144144   \n",
       "RDII soy       0.923077  0.669492   0.97515  0.386918  0.020243  0.138138   \n",
       "\n",
       "                   FWEU        HT      PMPF      POFP        TA        TE  \n",
       "BD20 algae     0.223653  0.253165  0.387805  0.534848  0.628959  0.649123  \n",
       "BD20 Camelina  0.032787  0.063291  0.209756  0.386364  0.473605   0.54386  \n",
       "BD20 canola    0.038642  0.063291  0.197561  0.356061  0.455505  0.596491  \n",
       "BD20 corn      0.045667  0.075949  0.285366  0.522727  0.556561  0.508772  \n",
       "BD20 Jatropha  0.038642  0.075949  0.236585  0.431818  0.505279  0.508772  \n",
       "...                 ...       ...       ...       ...       ...       ...  \n",
       "RDII canola    0.067916  0.037975  0.043902  0.087879  0.033183  0.763158  \n",
       "RDII corn      0.096019  0.113924  0.421951  0.822727  0.461538   0.27193  \n",
       "RDII Jatropha  0.069087  0.088608  0.243902  0.477273  0.285068  0.263158  \n",
       "RDII palm      0.038642  0.012658  0.080488  0.190909  0.095023  0.473684  \n",
       "RDII soy       0.044496  0.037975  0.029268  0.072727  0.037707  0.657895  \n",
       "\n",
       "[72 rows x 12 columns]"
      ],
      "text/html": [
       "<div>\n",
       "<style scoped>\n",
       "    .dataframe tbody tr th:only-of-type {\n",
       "        vertical-align: middle;\n",
       "    }\n",
       "\n",
       "    .dataframe tbody tr th {\n",
       "        vertical-align: top;\n",
       "    }\n",
       "\n",
       "    .dataframe thead th {\n",
       "        text-align: right;\n",
       "    }\n",
       "</style>\n",
       "<table border=\"1\" class=\"dataframe\">\n",
       "  <thead>\n",
       "    <tr style=\"text-align: right;\">\n",
       "      <th></th>\n",
       "      <th>Distance</th>\n",
       "      <th>Cost</th>\n",
       "      <th>LO</th>\n",
       "      <th>Water</th>\n",
       "      <th>GWP</th>\n",
       "      <th>FWET</th>\n",
       "      <th>FWEU</th>\n",
       "      <th>HT</th>\n",
       "      <th>PMPF</th>\n",
       "      <th>POFP</th>\n",
       "      <th>TA</th>\n",
       "      <th>TE</th>\n",
       "    </tr>\n",
       "  </thead>\n",
       "  <tbody>\n",
       "    <tr>\n",
       "      <th>BD20 algae</th>\n",
       "      <td>1.0</td>\n",
       "      <td>0.661017</td>\n",
       "      <td>0.003428</td>\n",
       "      <td>0.02439</td>\n",
       "      <td>0.97166</td>\n",
       "      <td>0.324324</td>\n",
       "      <td>0.223653</td>\n",
       "      <td>0.253165</td>\n",
       "      <td>0.387805</td>\n",
       "      <td>0.534848</td>\n",
       "      <td>0.628959</td>\n",
       "      <td>0.649123</td>\n",
       "    </tr>\n",
       "    <tr>\n",
       "      <th>BD20 Camelina</th>\n",
       "      <td>1.0</td>\n",
       "      <td>0.559322</td>\n",
       "      <td>0.195373</td>\n",
       "      <td>0.117517</td>\n",
       "      <td>0.927126</td>\n",
       "      <td>0.201201</td>\n",
       "      <td>0.032787</td>\n",
       "      <td>0.063291</td>\n",
       "      <td>0.209756</td>\n",
       "      <td>0.386364</td>\n",
       "      <td>0.473605</td>\n",
       "      <td>0.54386</td>\n",
       "    </tr>\n",
       "    <tr>\n",
       "      <th>BD20 canola</th>\n",
       "      <td>1.0</td>\n",
       "      <td>0.610169</td>\n",
       "      <td>0.101971</td>\n",
       "      <td>0.064302</td>\n",
       "      <td>0.927126</td>\n",
       "      <td>0.201201</td>\n",
       "      <td>0.038642</td>\n",
       "      <td>0.063291</td>\n",
       "      <td>0.197561</td>\n",
       "      <td>0.356061</td>\n",
       "      <td>0.455505</td>\n",
       "      <td>0.596491</td>\n",
       "    </tr>\n",
       "    <tr>\n",
       "      <th>BD20 corn</th>\n",
       "      <td>1.0</td>\n",
       "      <td>0.525424</td>\n",
       "      <td>0.312768</td>\n",
       "      <td>0.137472</td>\n",
       "      <td>0.959514</td>\n",
       "      <td>0.231231</td>\n",
       "      <td>0.045667</td>\n",
       "      <td>0.075949</td>\n",
       "      <td>0.285366</td>\n",
       "      <td>0.522727</td>\n",
       "      <td>0.556561</td>\n",
       "      <td>0.508772</td>\n",
       "    </tr>\n",
       "    <tr>\n",
       "      <th>BD20 Jatropha</th>\n",
       "      <td>1.0</td>\n",
       "      <td>0.525424</td>\n",
       "      <td>0.093402</td>\n",
       "      <td>0.055432</td>\n",
       "      <td>0.94332</td>\n",
       "      <td>0.231231</td>\n",
       "      <td>0.038642</td>\n",
       "      <td>0.075949</td>\n",
       "      <td>0.236585</td>\n",
       "      <td>0.431818</td>\n",
       "      <td>0.505279</td>\n",
       "      <td>0.508772</td>\n",
       "    </tr>\n",
       "    <tr>\n",
       "      <th>...</th>\n",
       "      <td>...</td>\n",
       "      <td>...</td>\n",
       "      <td>...</td>\n",
       "      <td>...</td>\n",
       "      <td>...</td>\n",
       "      <td>...</td>\n",
       "      <td>...</td>\n",
       "      <td>...</td>\n",
       "      <td>...</td>\n",
       "      <td>...</td>\n",
       "      <td>...</td>\n",
       "      <td>...</td>\n",
       "    </tr>\n",
       "    <tr>\n",
       "      <th>RDII canola</th>\n",
       "      <td>0.923077</td>\n",
       "      <td>0.771186</td>\n",
       "      <td>0.520137</td>\n",
       "      <td>0.32816</td>\n",
       "      <td>0.032389</td>\n",
       "      <td>0.162162</td>\n",
       "      <td>0.067916</td>\n",
       "      <td>0.037975</td>\n",
       "      <td>0.043902</td>\n",
       "      <td>0.087879</td>\n",
       "      <td>0.033183</td>\n",
       "      <td>0.763158</td>\n",
       "    </tr>\n",
       "    <tr>\n",
       "      <th>RDII corn</th>\n",
       "      <td>0.923077</td>\n",
       "      <td>0.29661</td>\n",
       "      <td>0.841474</td>\n",
       "      <td>0.055432</td>\n",
       "      <td>0.165992</td>\n",
       "      <td>0.339339</td>\n",
       "      <td>0.096019</td>\n",
       "      <td>0.113924</td>\n",
       "      <td>0.421951</td>\n",
       "      <td>0.822727</td>\n",
       "      <td>0.461538</td>\n",
       "      <td>0.27193</td>\n",
       "    </tr>\n",
       "    <tr>\n",
       "      <th>RDII Jatropha</th>\n",
       "      <td>0.923077</td>\n",
       "      <td>0.288136</td>\n",
       "      <td>0.474722</td>\n",
       "      <td>0.280488</td>\n",
       "      <td>0.11336</td>\n",
       "      <td>0.327327</td>\n",
       "      <td>0.069087</td>\n",
       "      <td>0.088608</td>\n",
       "      <td>0.243902</td>\n",
       "      <td>0.477273</td>\n",
       "      <td>0.285068</td>\n",
       "      <td>0.263158</td>\n",
       "    </tr>\n",
       "    <tr>\n",
       "      <th>RDII palm</th>\n",
       "      <td>0.923077</td>\n",
       "      <td>0.491525</td>\n",
       "      <td>0.239075</td>\n",
       "      <td>1.0</td>\n",
       "      <td>0.0</td>\n",
       "      <td>0.144144</td>\n",
       "      <td>0.038642</td>\n",
       "      <td>0.012658</td>\n",
       "      <td>0.080488</td>\n",
       "      <td>0.190909</td>\n",
       "      <td>0.095023</td>\n",
       "      <td>0.473684</td>\n",
       "    </tr>\n",
       "    <tr>\n",
       "      <th>RDII soy</th>\n",
       "      <td>0.923077</td>\n",
       "      <td>0.669492</td>\n",
       "      <td>0.97515</td>\n",
       "      <td>0.386918</td>\n",
       "      <td>0.020243</td>\n",
       "      <td>0.138138</td>\n",
       "      <td>0.044496</td>\n",
       "      <td>0.037975</td>\n",
       "      <td>0.029268</td>\n",
       "      <td>0.072727</td>\n",
       "      <td>0.037707</td>\n",
       "      <td>0.657895</td>\n",
       "    </tr>\n",
       "  </tbody>\n",
       "</table>\n",
       "<p>72 rows × 12 columns</p>\n",
       "</div>"
      ]
     },
     "execution_count": 27,
     "metadata": {},
     "output_type": "execute_result"
    }
   ],
   "execution_count": 27
  },
  {
   "metadata": {},
   "cell_type": "markdown",
   "source": [
    "# Part 2 - Hierarchical clustering\n",
    "1. Single linkage\n",
    "2. Ward\n",
    "3. Complete linkage"
   ],
   "id": "2d3cbf01a4ca7d17"
  },
  {
   "metadata": {
    "ExecuteTime": {
     "end_time": "2025-05-06T05:44:48.089921Z",
     "start_time": "2025-05-06T05:44:47.798497Z"
    }
   },
   "cell_type": "code",
   "source": [
    "single = hierarchy.linkage(df,'single') # doing the clustering with 'single'\n",
    "hierarchy.dendrogram(single, labels=df.index, leaf_rotation=90, color_threshold=0.65)   # drawing the dendrogram\n",
    "plt.title('Single linkage') # giving a title to the plot"
   ],
   "id": "3020454aab2727cd",
   "outputs": [
    {
     "data": {
      "text/plain": [
       "Text(0.5, 1.0, 'Single linkage')"
      ]
     },
     "execution_count": 76,
     "metadata": {},
     "output_type": "execute_result"
    },
    {
     "data": {
      "text/plain": [
       "<Figure size 640x480 with 1 Axes>"
      ],
      "image/png": "[encoded data removed]"
     },
     "metadata": {},
     "output_type": "display_data"
    }
   ],
   "execution_count": 76
  },
  {
   "metadata": {
    "ExecuteTime": {
     "end_time": "2025-05-06T05:45:13.452201Z",
     "start_time": "2025-05-06T05:45:13.087663Z"
    }
   },
   "cell_type": "code",
   "source": [
    "ward=hierarchy.linkage(df,'ward') # doing the clustering with 'ward'\n",
    "hierarchy.dendrogram(ward, labels=df.index, leaf_rotation=90, color_threshold=2.8)   # drawing the dendrogram\n",
    "plt.title('Ward')   # giving a title to the plot"
   ],
   "id": "dc7b54a2b44a0809",
   "outputs": [
    {
     "data": {
      "text/plain": [
       "Text(0.5, 1.0, 'Ward')"
      ]
     },
     "execution_count": 80,
     "metadata": {},
     "output_type": "execute_result"
    },
    {
     "data": {
      "text/plain": [
       "<Figure size 640x480 with 1 Axes>"
      ],
      "image/png": "[encoded data removed]"
     },
     "metadata": {},
     "output_type": "display_data"
    }
   ],
   "execution_count": 80
  },
  {
   "metadata": {
    "ExecuteTime": {
     "end_time": "2025-05-06T05:45:28.868774Z",
     "start_time": "2025-05-06T05:45:28.573910Z"
    }
   },
   "cell_type": "code",
   "source": [
    "complete = hierarchy.linkage(df,'complete') # doing the clustering with 'complete'\n",
    "hierarchy.dendrogram(complete, labels=df.index, leaf_rotation=90, color_threshold=1.5)   # drawing the dendrogram\n",
    "plt.title('Complete linkage')   # giving a title to the plot"
   ],
   "id": "b3e19429e080380",
   "outputs": [
    {
     "data": {
      "text/plain": [
       "Text(0.5, 1.0, 'Complete linkage')"
      ]
     },
     "execution_count": 82,
     "metadata": {},
     "output_type": "execute_result"
    },
    {
     "data": {
      "text/plain": [
       "<Figure size 640x480 with 1 Axes>"
      ],
      "image/png": "[encoded data removed]"
     },
     "metadata": {},
     "output_type": "display_data"
    }
   ],
   "execution_count": 82
  },
  {
   "metadata": {},
   "cell_type": "markdown",
   "source": [
    "## Task II & III\n",
    "Hierarchical clustering, particularly using single linkage, shows that the five fuel types (E85, E110, RDI, RDI algae, BD20) naturally form their own groups because of their properties. This supports choosing five clusters, one for each fuel type. Using average linkage gives a similar picture. The category of fuel within the name can be used for the cluster names."
   ],
   "id": "340b19a8efde8487"
  },
  {
   "metadata": {},
   "cell_type": "markdown",
   "source": [
    "# Part 3 - k-means clustering\n",
    "1. Setting number of clusters based on part 2\n",
    "2. k-means based on hierarchical seeding\n",
    "3. k-means startin with random seeds"
   ],
   "id": "2fa9129e4d4889c8"
  },
  {
   "metadata": {
    "ExecuteTime": {
     "end_time": "2025-05-06T05:36:31.146501Z",
     "start_time": "2025-05-06T05:36:31.137500Z"
    }
   },
   "cell_type": "code",
   "source": [
    "n_cluster = 5   # number of clusters\n",
    "\n",
    "# Calculating initial centroids using Agglomerative Clustering\n",
    "agg_clustering = AgglomerativeClustering(n_clusters=n_clusters, linkage='single')\n",
    "agg_labels = agg_clustering.fit_predict(df)\n",
    "centroids = np.array([df[agg_labels == i].mean(axis=0) for i in range(n_clusters)])\n",
    "\n",
    "centroids"
   ],
   "id": "5ca6b5a4f476ef22",
   "outputs": [
    {
     "data": {
      "text/plain": [
       "array([[0.9230769230769232, 0.46327683615819204, 0.6441730934018851,\n",
       "        0.373429416112343, 0.11673414304993253, 0.20395395395395396,\n",
       "        0.05776736924277907, 0.04746835443037975, 0.14207317073170736,\n",
       "        0.2946969696969697, 0.15623428858722976, 0.4444444444444444],\n",
       "       [0.0, 0.17864406779661013, 0.15578406169665812,\n",
       "        0.14766740576496676, 0.3982186234817814, 0.5268468468468468,\n",
       "        0.14903981264637, 0.25518987341772154, 0.338829268292683,\n",
       "        0.5371515151515149, 0.6137556561085974, 0.18157894736842095],\n",
       "       [0.32307692307692293, 0.48372881355932207, 0.013127677806341047,\n",
       "        0.01942350332594235, 0.9250202429149798, 0.11159159159159157,\n",
       "        0.04505854800936768, 0.029367088607594932, 0.18682926829268298,\n",
       "        0.25569696969696964, 0.47867269984917044, 0.4284210526315789],\n",
       "       [0.9230769230769231, 0.9449152542372881, 0.017994858611825194,\n",
       "        0.02716186252771619, 0.3157894736842105, 0.7702702702702702,\n",
       "        0.9197892271662763, 0.9177215189873418, 0.9097560975609755,\n",
       "        0.9106060606060606, 0.8205128205128205, 0.9429824561403508],\n",
       "       [1.0, 0.6101694915254237, 0.12146529562982003,\n",
       "        0.07677383592017738, 0.9367408906882589, 0.22034534534534536,\n",
       "        0.06045081967213113, 0.09018987341772151, 0.2396341463414634,\n",
       "        0.4145833333333333, 0.5007541478129713, 0.5964912280701753]],\n",
       "      dtype=object)"
      ]
     },
     "execution_count": 67,
     "metadata": {},
     "output_type": "execute_result"
    }
   ],
   "execution_count": 67
  },
  {
   "metadata": {
    "ExecuteTime": {
     "end_time": "2025-05-06T05:42:29.608760Z",
     "start_time": "2025-05-06T05:42:29.592488Z"
    }
   },
   "cell_type": "code",
   "source": [
    "# Scenario 1: Hierarchical Seeding\n",
    "kmeans_seed = KMeans(n_clusters=n_clusters, init=centroids, n_init=1)\n",
    "kmeans_seed_labels = kmeans_seed.fit_predict(df)\n",
    "\n",
    "# Calculating Cluster Centers and Inertia for Scenario 1\n",
    "cluster_centers_1 = kmeans_seed.cluster_centers_\n",
    "inertia_1 = kmeans_seed.inertia_\n",
    "\n",
    "# Assigning data point names (indices) to clusters\n",
    "cluster_members_1 = {i: [] for i in range(n_clusters)}\n",
    "for i, label in enumerate(kmeans_seed_labels):\n",
    "    cluster_members_1[label].append(df.index[i])\n",
    "\n",
    "# cluster_centers_1\n",
    "# cluster_members_1\n",
    "\n",
    "for i in range(n_clusters):\n",
    "    print(f\"\\nCluster {i}:\")\n",
    "    print(cluster_members_1[i])"
   ],
   "id": "99b2fb16fa550fe9",
   "outputs": [
    {
     "name": "stdout",
     "output_type": "stream",
     "text": [
      "\n",
      "Cluster 0:\n",
      "['RDI Camelina', 'RDI canola', 'RDI corn', 'RDI\\xa0Jatropha', 'RDI\\xa0palm', 'RDI\\xa0soy', 'RDII\\xa0Camelina', 'RDII canola', 'RDII corn', 'RDII Jatropha', 'RDII palm', 'RDII soy']\n",
      "\n",
      "Cluster 1:\n",
      "['E85 corn A', 'E85 corn B', 'E85 corn C', 'E85 corn D', 'E85 corn E', 'E85 corn stover', 'E85 corn stover*G', 'E85 corn/stover A', 'E85 corn/stover B', 'E85 forage sorghum', 'E85 forest residue', 'E85 forest residue*G', 'E85 grain sorghum', 'E85 Miscanthus', 'E85 Miscanthus*G', 'E85 MSW', 'E85 poplar', 'E85 poplar*G', 'E85 sugarcane', 'E85 sweet sorghum A', 'E85 sweet sorghum B', 'E85 switchgrass', 'E85 switchgrass*G', 'E85 willow', 'E85 willow*G']\n",
      "\n",
      "Cluster 2:\n",
      "['E10 corn A', 'E10 corn B', 'E10 corn C', 'E10 corn D', 'E10 corn E', 'E10 corn stover', 'E10 corn stover*G', 'E10 corn/stover A', 'E10 corn/stover B', 'E10 forage sorghum', 'E10 forest residue', 'E10 forest residue*G', 'E10 grain sorghum', 'E10 Miscanthus', 'E10 Miscanthus*G', 'E10 MSW', 'E10 poplar', 'E10 poplar*G', 'E10 sugarcane', 'E10 sweet sorghum A', 'E10 sweet sorghum B', 'E10 switchgrass', 'E10 switchgrass*G', 'E10 willow', 'E10 willow*G']\n",
      "\n",
      "Cluster 3:\n",
      "['RDI algae', 'RDII\\xa0algae']\n",
      "\n",
      "Cluster 4:\n",
      "['BD20 algae', 'BD20 Camelina', 'BD20 canola', 'BD20 corn', 'BD20 Jatropha', 'BD20 palm', 'BD20 tallow', 'BD20 soy']\n"
     ]
    }
   ],
   "execution_count": 72
  },
  {
   "metadata": {},
   "cell_type": "markdown",
   "source": [
    "#### Hierarchical Seeding\n",
    "The cluster names could be: RDI, E85, E10, BD20\n",
    "Only one cluster is a bit tricky, since it only contains RDI algae and RDII algae, it could be named RD algae"
   ],
   "id": "f12964b418ab80f9"
  },
  {
   "metadata": {
    "ExecuteTime": {
     "end_time": "2025-05-06T05:42:00.258353Z",
     "start_time": "2025-05-06T05:42:00.192834Z"
    }
   },
   "cell_type": "code",
   "source": [
    "# Scenario 1: Random Seeding\n",
    "kmeans_rnd = KMeans(n_clusters=n_clusters, init='random',n_init=10)\n",
    "kmeans_rnd_labels = kmeans_rnd.fit_predict(df)\n",
    "\n",
    "# Calculating Cluster Centers and Inertia for Scenario 2\n",
    "cluster_centers_2 = kmeans_rnd.cluster_centers_\n",
    "inertia_2 = kmeans_rnd.inertia_\n",
    "\n",
    "# Assigning data point names (indices) to clusters\n",
    "cluster_members_2 = {i: [] for i in range(n_clusters)}\n",
    "for i, label in enumerate(kmeans_rnd_labels):\n",
    "    cluster_members_2[label].append(df.index[i])\n",
    "\n",
    "# cluster_centers_2\n",
    "# cluster_members_2\n",
    "\n",
    "for i in range(n_clusters):\n",
    "    print(f\"\\nCluster {i}:\")\n",
    "    print(cluster_members_2[i])"
   ],
   "id": "59a358f0d75e37b6",
   "outputs": [
    {
     "name": "stdout",
     "output_type": "stream",
     "text": [
      "\n",
      "Cluster 0:\n",
      "['RDI Camelina', 'RDI canola', 'RDI corn', 'RDI\\xa0Jatropha', 'RDI\\xa0palm', 'RDI\\xa0soy', 'RDII\\xa0Camelina', 'RDII canola', 'RDII corn', 'RDII Jatropha', 'RDII palm', 'RDII soy']\n",
      "\n",
      "Cluster 1:\n",
      "['RDI algae', 'RDII\\xa0algae']\n",
      "\n",
      "Cluster 2:\n",
      "['E10 corn A', 'E10 corn B', 'E10 corn C', 'E10 corn D', 'E10 corn E', 'E10 corn stover', 'E10 corn stover*G', 'E10 corn/stover A', 'E10 corn/stover B', 'E10 forage sorghum', 'E10 forest residue', 'E10 forest residue*G', 'E10 grain sorghum', 'E10 Miscanthus', 'E10 Miscanthus*G', 'E10 MSW', 'E10 poplar', 'E10 poplar*G', 'E10 sugarcane', 'E10 sweet sorghum A', 'E10 sweet sorghum B', 'E10 switchgrass', 'E10 switchgrass*G', 'E10 willow', 'E10 willow*G']\n",
      "\n",
      "Cluster 3:\n",
      "['E85 corn A', 'E85 corn B', 'E85 corn C', 'E85 corn D', 'E85 corn E', 'E85 corn stover', 'E85 corn stover*G', 'E85 corn/stover A', 'E85 corn/stover B', 'E85 forage sorghum', 'E85 forest residue', 'E85 forest residue*G', 'E85 grain sorghum', 'E85 Miscanthus', 'E85 Miscanthus*G', 'E85 MSW', 'E85 poplar', 'E85 poplar*G', 'E85 sugarcane', 'E85 sweet sorghum A', 'E85 sweet sorghum B', 'E85 switchgrass', 'E85 switchgrass*G', 'E85 willow', 'E85 willow*G']\n",
      "\n",
      "Cluster 4:\n",
      "['BD20 algae', 'BD20 Camelina', 'BD20 canola', 'BD20 corn', 'BD20 Jatropha', 'BD20 palm', 'BD20 tallow', 'BD20 soy']\n"
     ]
    }
   ],
   "execution_count": 71
  },
  {
   "metadata": {},
   "cell_type": "markdown",
   "source": [
    "#### Random Seeding\n",
    "The cluster seem a bit mixed up in this case. The RDI algae and RDII algae is still it's own cluster but the others are mixed compared to the previous. The E85 cluster remained, so this can be named E85 again."
   ],
   "id": "19955085426782e3"
  },
  {
   "metadata": {},
   "cell_type": "markdown",
   "source": "# Part 4 - DEA",
   "id": "23870a60868999b4"
  },
  {
   "metadata": {
    "ExecuteTime": {
     "end_time": "2025-05-06T06:50:26.020264Z",
     "start_time": "2025-05-06T06:50:23.087548Z"
    }
   },
   "cell_type": "code",
   "source": [
    "df_dea = df.copy()\n",
    "\n",
    "# all inputs - excluding distance, as I think this metric should not be minimized in this case\n",
    "input_cols = ['Cost', 'LO', 'Water', 'GWP', 'FWET', 'FWEU', 'HT', 'PMPF', 'POFP', 'TA', 'TE']\n",
    "# outputs\n",
    "output_cols = ['Output']\n",
    "\n",
    "X = df_dea[input_cols].values  # inputs matrix\n",
    "num_dmus = X.shape[0]\n",
    "num_inputs = X.shape[1]\n",
    "num_outputs = 1\n",
    "\n",
    "# initialize a Y matrix\n",
    "Y = np.ones((num_dmus, num_outputs))\n",
    "\n",
    "dmu_names = df_dea.index.tolist() # get DMU names\n",
    "\n",
    "print(f\"\\nNumber of DMUs: {num_dmus}\")\n",
    "print(f\"Number of Inputs: {num_inputs} ({', '.join(input_cols)})\")\n",
    "print(f\"Number of Outputs: {num_outputs}\")\n",
    "\n",
    "\n",
    "# solve LP for each dmu\n",
    "efficiency_scores = np.zeros(num_dmus)\n",
    "lambdas = np.zeros((num_dmus, num_dmus))\n",
    "input_slacks = np.zeros((num_dmus, num_inputs))\n",
    "output_slacks = np.zeros((num_dmus, num_outputs))\n",
    "\n",
    "for k in range(num_dmus):  # Iterate through each dmu\n",
    "    # define problem\n",
    "    prob = LpProblem(f\"DEA_DMU_{k}\", LpMinimize)\n",
    "\n",
    "    # define decision variables\n",
    "    theta = LpVariable(f\"theta_{k}\", lowBound=0) # efficiency score\n",
    "    lambda_vars = [LpVariable(f\"lambda_{k}_{j}\", lowBound=0) for j in range(num_dmus)] # lambda\n",
    "\n",
    "    # objective function\n",
    "    prob += theta\n",
    "\n",
    "    # define constraints\n",
    "    # input constraints - sum(lambda_j * x_ij) <= theta * x_ik\n",
    "    for i in range(num_inputs):\n",
    "        prob += lpSum(lambda_vars[j] * X[j, i] for j in range(num_dmus)) <= theta * X[k, i], f\"Input_{i}_Constraint\"\n",
    "\n",
    "    # output constraints - sum(lambda_j * y_rj) >= y_rk (here y_rj=1 and y_rk=1)\n",
    "    for r in range(num_outputs):\n",
    "        prob += lpSum(lambda_vars[j] * Y[j, r] for j in range(num_dmus)) >= Y[k, r], f\"Output_{r}_Constraint\"\n",
    "\n",
    "    # VRS constraint: sum(lambda_j) = 1\n",
    "    prob += lpSum(lambda_vars[j] for j in range(num_dmus)) == 1, \"VRS_Constraint\"\n",
    "\n",
    "    # solve the problem\n",
    "    prob.solve(solver=None)\n",
    "\n",
    "    # store results\n",
    "    efficiency_scores[k] = value(theta)\n",
    "    for j in range(num_dmus):\n",
    "        # handle potential none values\n",
    "        lambda_val = value(lambda_vars[j])\n",
    "        lambdas[k, j] = lambda_val if lambda_val is not None else 0.0\n",
    "\n",
    "    # calculate slacks directly using optimal values\n",
    "    theta_star = efficiency_scores[k]\n",
    "    lambda_star = lambdas[k, :]\n",
    "\n",
    "    projected_inputs = np.dot(lambda_star, X)\n",
    "    projected_outputs = np.dot(lambda_star, Y) # this will be 1 if sum(lambda)=1\n",
    "\n",
    "    input_slacks[k, :] = (theta_star * X[k, :]) - projected_inputs\n",
    "    # calculate output slack for the single output\n",
    "    output_slacks[k, :] = projected_outputs - Y[k, :] # should be close to 0 if sum(lambda)=1\n",
    "\n",
    "    print(f\"dmu {k} ({dmu_names[k]}): status={LpStatus[prob.status]}, theta={efficiency_scores[k]:.4f}\")\n"
   ],
   "id": "ee1c98e582e13e22",
   "outputs": [
    {
     "name": "stdout",
     "output_type": "stream",
     "text": [
      "\n",
      "Number of DMUs: 72\n",
      "Number of Inputs: 11 (Cost, LO, Water, GWP, FWET, FWEU, HT, PMPF, POFP, TA, TE)\n",
      "Number of Outputs: 1\n",
      "dmu 0 (BD20 algae): status=Optimal, theta=0.5482\n",
      "dmu 1 (BD20 Camelina): status=Optimal, theta=0.7751\n",
      "dmu 2 (BD20 canola): status=Optimal, theta=0.7504\n",
      "dmu 3 (BD20 corn): status=Optimal, theta=0.6912\n",
      "dmu 4 (BD20 Jatropha): status=Optimal, theta=0.7471\n",
      "dmu 5 (BD20 palm): status=Optimal, theta=0.8057\n",
      "dmu 6 (BD20 tallow): status=Optimal, theta=1.0000\n",
      "dmu 7 (BD20 soy): status=Optimal, theta=0.9714\n",
      "dmu 8 (E10 corn A): status=Optimal, theta=0.9398\n",
      "dmu 9 (E10 corn B): status=Optimal, theta=0.9485\n",
      "dmu 10 (E10 corn C): status=Optimal, theta=0.9618\n",
      "dmu 11 (E10 corn D): status=Optimal, theta=0.7377\n",
      "dmu 12 (E10 corn E): status=Optimal, theta=0.8882\n",
      "dmu 13 (E10 corn stover): status=Optimal, theta=0.9906\n",
      "dmu 14 (E10 corn stover*G): status=Optimal, theta=0.8580\n",
      "dmu 15 (E10 corn/stover A): status=Optimal, theta=0.9360\n",
      "dmu 16 (E10 corn/stover B): status=Optimal, theta=0.8652\n",
      "dmu 17 (E10 forage sorghum): status=Optimal, theta=0.9070\n",
      "dmu 18 (E10 forest residue): status=Optimal, theta=1.0000\n",
      "dmu 19 (E10 forest residue*G): status=Optimal, theta=0.8683\n",
      "dmu 20 (E10 grain sorghum): status=Optimal, theta=0.8759\n",
      "dmu 21 (E10 Miscanthus): status=Optimal, theta=0.9795\n",
      "dmu 22 (E10 Miscanthus*G): status=Optimal, theta=0.9230\n",
      "dmu 23 (E10 MSW): status=Optimal, theta=1.0000\n",
      "dmu 24 (E10 poplar): status=Optimal, theta=0.9980\n",
      "dmu 25 (E10 poplar*G): status=Optimal, theta=0.9441\n",
      "dmu 26 (E10 sugarcane): status=Optimal, theta=0.9916\n",
      "dmu 27 (E10 sweet sorghum A): status=Optimal, theta=1.0000\n",
      "dmu 28 (E10 sweet sorghum B): status=Optimal, theta=0.8083\n",
      "dmu 29 (E10 switchgrass): status=Optimal, theta=0.9596\n",
      "dmu 30 (E10 switchgrass*G): status=Optimal, theta=0.8426\n",
      "dmu 31 (E10 willow): status=Optimal, theta=1.0000\n",
      "dmu 32 (E10 willow*G): status=Optimal, theta=1.0000\n",
      "dmu 33 (E85 corn A): status=Optimal, theta=0.6079\n",
      "dmu 34 (E85 corn B): status=Optimal, theta=0.6079\n",
      "dmu 35 (E85 corn C): status=Optimal, theta=0.4888\n",
      "dmu 36 (E85 corn D): status=Optimal, theta=0.3706\n",
      "dmu 37 (E85 corn E): status=Optimal, theta=0.5599\n",
      "dmu 38 (E85 corn stover): status=Optimal, theta=1.0000\n",
      "dmu 39 (E85 corn stover*G): status=Optimal, theta=1.0000\n",
      "dmu 40 (E85 corn/stover A): status=Optimal, theta=0.6273\n",
      "dmu 41 (E85 corn/stover B): status=Optimal, theta=0.4027\n",
      "dmu 42 (E85 forage sorghum): status=Optimal, theta=0.6650\n",
      "dmu 43 (E85 forest residue): status=Optimal, theta=1.0000\n",
      "dmu 44 (E85 forest residue*G): status=Optimal, theta=1.0000\n",
      "dmu 45 (E85 grain sorghum): status=Optimal, theta=0.5902\n",
      "dmu 46 (E85 Miscanthus): status=Optimal, theta=1.0000\n",
      "dmu 47 (E85 Miscanthus*G): status=Optimal, theta=1.0000\n",
      "dmu 48 (E85 MSW): status=Optimal, theta=1.0000\n",
      "dmu 49 (E85 poplar): status=Optimal, theta=1.0000\n",
      "dmu 50 (E85 poplar*G): status=Optimal, theta=1.0000\n",
      "dmu 51 (E85 sugarcane): status=Optimal, theta=0.8915\n",
      "dmu 52 (E85 sweet sorghum A): status=Optimal, theta=0.7311\n",
      "dmu 53 (E85 sweet sorghum B): status=Optimal, theta=0.4753\n",
      "dmu 54 (E85 switchgrass): status=Optimal, theta=0.9470\n",
      "dmu 55 (E85 switchgrass*G): status=Optimal, theta=0.8044\n",
      "dmu 56 (E85 willow): status=Optimal, theta=1.0000\n",
      "dmu 57 (E85 willow*G): status=Optimal, theta=1.0000\n",
      "dmu 58 (RDI algae): status=Optimal, theta=0.6285\n",
      "dmu 59 (RDI Camelina): status=Optimal, theta=1.0000\n",
      "dmu 60 (RDI canola): status=Optimal, theta=1.0000\n",
      "dmu 61 (RDI corn): status=Optimal, theta=0.6703\n",
      "dmu 62 (RDI Jatropha): status=Optimal, theta=1.0000\n",
      "dmu 63 (RDI palm): status=Optimal, theta=1.0000\n",
      "dmu 64 (RDI soy): status=Optimal, theta=1.0000\n",
      "dmu 65 (RDII algae): status=Optimal, theta=0.7847\n",
      "dmu 66 (RDII Camelina): status=Optimal, theta=1.0000\n",
      "dmu 67 (RDII canola): status=Optimal, theta=1.0000\n",
      "dmu 68 (RDII corn): status=Optimal, theta=1.0000\n",
      "dmu 69 (RDII Jatropha): status=Optimal, theta=1.0000\n",
      "dmu 70 (RDII palm): status=Optimal, theta=1.0000\n",
      "dmu 71 (RDII soy): status=Optimal, theta=1.0000\n"
     ]
    }
   ],
   "execution_count": 152
  },
  {
   "metadata": {
    "ExecuteTime": {
     "end_time": "2025-05-06T06:50:32.318392Z",
     "start_time": "2025-05-06T06:50:32.296797Z"
    }
   },
   "cell_type": "code",
   "source": [
    "results_df = pd.DataFrame(index=dmu_names) # Use DMU names as index\n",
    "results_df['Efficiency_Score (theta)'] = efficiency_scores\n",
    "\n",
    "# add lambda columns\n",
    "for j in range(num_dmus):\n",
    "    results_df[f'lambda_{dmu_names[j]}'] = lambdas[:, j] # Use DMU names in lambda column headers\n",
    "\n",
    "# add input slack columns\n",
    "for i in range(num_inputs):\n",
    "    results_df[f's_minus_{input_cols[i]}'] = input_slacks[:, i]\n",
    "\n",
    "# add output slack columns\n",
    "for r in range(num_outputs):\n",
    "    results_df[f's_plus_{output_cols[r]}'] = output_slacks[:, r]\n",
    "\n",
    "# Determine efficient routes\n",
    "results_df['Is_Efficient'] = (np.isclose(results_df['Efficiency_Score (theta)'], 1.0)) & \\\n",
    "                             (np.all(np.isclose(input_slacks, 0), axis=1)) & \\\n",
    "                             (np.all(np.isclose(output_slacks, 0), axis=1))\n",
    "\n",
    "\n",
    "print(\"\\nEfficiency Scores and Status:\")\n",
    "print(results_df[['Efficiency_Score (theta)', 'Is_Efficient']])\n",
    "\n",
    "# Save the full table to a CSV file to view all columns\n",
    "results_df.to_csv('dea_results.csv')\n",
    "\n",
    "# --- Identify Efficient Routes ---\n",
    "efficient_routes = results_df[results_df['Is_Efficient']].index.tolist()\n",
    "print(f\"\\nEfficient Routes ({len(efficient_routes)}):\")\n",
    "print(efficient_routes)\n",
    "\n"
   ],
   "id": "7fdda8c16ec601fb",
   "outputs": [
    {
     "name": "stdout",
     "output_type": "stream",
     "text": [
      "\n",
      "Efficiency Scores and Status:\n",
      "               Efficiency_Score (theta)  Is_Efficient\n",
      "BD20 algae                     0.548178         False\n",
      "BD20 Camelina                  0.775056         False\n",
      "BD20 canola                    0.750406         False\n",
      "BD20 corn                      0.691217         False\n",
      "BD20 Jatropha                  0.747144         False\n",
      "...                                 ...           ...\n",
      "RDII canola                    1.000000          True\n",
      "RDII corn                      1.000000          True\n",
      "RDII Jatropha                  1.000000          True\n",
      "RDII palm                      1.000000          True\n",
      "RDII soy                       1.000000          True\n",
      "\n",
      "[72 rows x 2 columns]\n",
      "\n",
      "Efficient Routes (28):\n",
      "['BD20 tallow', 'E10 forest residue', 'E10 MSW', 'E10 sweet sorghum A', 'E10 willow', 'E10 willow*G', 'E85 corn stover', 'E85 corn stover*G', 'E85 forest residue', 'E85 forest residue*G', 'E85 Miscanthus', 'E85 Miscanthus*G', 'E85 MSW', 'E85 poplar', 'E85 poplar*G', 'E85 willow', 'E85 willow*G', 'RDI Camelina', 'RDI canola', 'RDI\\xa0Jatropha', 'RDI\\xa0palm', 'RDI\\xa0soy', 'RDII\\xa0Camelina', 'RDII canola', 'RDII corn', 'RDII Jatropha', 'RDII palm', 'RDII soy']\n"
     ]
    }
   ],
   "execution_count": 154
  },
  {
   "metadata": {
    "ExecuteTime": {
     "end_time": "2025-05-06T06:52:03.863332Z",
     "start_time": "2025-05-06T06:52:03.854390Z"
    }
   },
   "cell_type": "code",
   "source": [
    "# find inefficient routes\n",
    "inefficient_routes = results_df[~results_df['Is_Efficient']].index.tolist()\n",
    "print(inefficient_routes)\n",
    "\n",
    "# selecting the first two inefficient routes for demonstration\n",
    "selected_inefficient_routes = ['BD20 algae', 'BD20 Camelina']\n",
    "\n",
    "\n",
    "for idx, ineff_route in enumerate(selected_inefficient_routes):\n",
    "    print(f\"Route {idx+1}: {ineff_route}\")\n",
    "\n",
    "    dmu_idx = dmu_names.index(ineff_route)\n",
    "    efficiency = efficiency_scores[dmu_idx]\n",
    "\n",
    "    print(f\"Efficiency Score: {efficiency:.4f}\")\n",
    "\n",
    "    peer_indices = np.where(lambdas[dmu_idx, :] > 1e-6)[0]\n",
    "    peer_group = [dmu_names[j] for j in peer_indices]\n",
    "    peer_lambdas = [lambdas[dmu_idx, j] for j in peer_indices]\n",
    "\n",
    "    for i, peer in enumerate(peer_group):\n",
    "        print(f\"  - {peer} (λ = {peer_lambdas[i]:.4f})\")\n",
    "\n",
    "    current_inputs = X[dmu_idx, :]\n",
    "    current_outputs = Y[dmu_idx, :]\n",
    "\n",
    "    input_target = efficiency * current_inputs - input_slacks[dmu_idx, :]\n",
    "    output_target = current_outputs + output_slacks[dmu_idx, :]\n",
    "\n",
    "    print(\"Inputs:\")\n",
    "    for i, col in enumerate(input_cols):\n",
    "        print(f\"  - {col}: Current = {current_inputs[i]:.4f}, Target = {input_target[i]:.4f}, Reduction = {current_inputs[i] - input_target[i]:.4f} ({(1 - input_target[i]/current_inputs[i])*100:.2f}%)\")\n",
    "\n",
    "    print(\"Outputs:\")\n",
    "    for i, col in enumerate(output_cols):\n",
    "        print(f\"  - {col}: Current = {current_outputs[i]:.4f}, Target = {output_target[i]:.4f}, Increase = {output_target[i] - current_outputs[i]:.4f} ({(output_target[i]/current_outputs[i] - 1)*100:.2f}%)\")\n",
    "\n"
   ],
   "id": "677d8fe0603ff9e8",
   "outputs": [
    {
     "name": "stdout",
     "output_type": "stream",
     "text": [
      "['BD20 algae', 'BD20 Camelina', 'BD20 canola', 'BD20 corn', 'BD20 Jatropha', 'BD20 palm', 'BD20 soy', 'E10 corn A', 'E10 corn B', 'E10 corn C', 'E10 corn D', 'E10 corn E', 'E10 corn stover', 'E10 corn stover*G', 'E10 corn/stover A', 'E10 corn/stover B', 'E10 forage sorghum', 'E10 forest residue*G', 'E10 grain sorghum', 'E10 Miscanthus', 'E10 Miscanthus*G', 'E10 poplar', 'E10 poplar*G', 'E10 sugarcane', 'E10 sweet sorghum B', 'E10 switchgrass', 'E10 switchgrass*G', 'E85 corn A', 'E85 corn B', 'E85 corn C', 'E85 corn D', 'E85 corn E', 'E85 corn/stover A', 'E85 corn/stover B', 'E85 forage sorghum', 'E85 grain sorghum', 'E85 sugarcane', 'E85 sweet sorghum A', 'E85 sweet sorghum B', 'E85 switchgrass', 'E85 switchgrass*G', 'RDI algae', 'RDI corn', 'RDII\\xa0algae']\n",
      "Route 1: BD20 algae\n",
      "Efficiency Score: 0.5482\n",
      "  - E10 MSW (λ = 0.1473)\n",
      "  - E10 sweet sorghum A (λ = 0.3220)\n",
      "  - E85 forest residue (λ = 0.0005)\n",
      "  - E85 MSW (λ = 0.5281)\n",
      "  - E85 poplar*G (λ = 0.0021)\n",
      "Inputs:\n",
      "  - Cost: Current = 0.6610, Target = 0.3067, Reduction = 0.3544 (53.61%)\n",
      "  - LO: Current = 0.0034, Target = 0.0019, Reduction = 0.0015 (45.18%)\n",
      "  - Water: Current = 0.0244, Target = 0.0134, Reduction = 0.0110 (45.18%)\n",
      "  - GWP: Current = 0.9717, Target = 0.5326, Reduction = 0.4390 (45.18%)\n",
      "  - FWET: Current = 0.3243, Target = 0.1778, Reduction = 0.1465 (45.18%)\n",
      "  - FWEU: Current = 0.2237, Target = 0.0449, Reduction = 0.1788 (79.94%)\n",
      "  - HT: Current = 0.2532, Target = 0.0157, Reduction = 0.2375 (93.80%)\n",
      "  - PMPF: Current = 0.3878, Target = 0.1213, Reduction = 0.2665 (68.73%)\n",
      "  - POFP: Current = 0.5348, Target = 0.0843, Reduction = 0.4505 (84.24%)\n",
      "  - TA: Current = 0.6290, Target = 0.3448, Reduction = 0.2842 (45.18%)\n",
      "  - TE: Current = 0.6491, Target = 0.2828, Reduction = 0.3663 (56.43%)\n",
      "Outputs:\n",
      "  - Output: Current = 1.0000, Target = 1.0000, Increase = 0.0000 (0.00%)\n",
      "Route 2: BD20 Camelina\n",
      "Efficiency Score: 0.7751\n",
      "  - E10 sweet sorghum A (λ = 0.7879)\n",
      "  - E85 corn stover*G (λ = 0.0057)\n",
      "  - E85 forest residue*G (λ = 0.1797)\n",
      "  - RDI soy (λ = 0.0221)\n",
      "  - RDII palm (λ = 0.0044)\n",
      "Inputs:\n",
      "  - Cost: Current = 0.5593, Target = 0.4155, Reduction = 0.1438 (25.71%)\n",
      "  - LO: Current = 0.1954, Target = 0.1514, Reduction = 0.0439 (22.49%)\n",
      "  - Water: Current = 0.1175, Target = 0.0449, Reduction = 0.0726 (61.77%)\n",
      "  - GWP: Current = 0.9271, Target = 0.7186, Reduction = 0.2086 (22.49%)\n",
      "  - FWET: Current = 0.2012, Target = 0.1559, Reduction = 0.0453 (22.49%)\n",
      "  - FWEU: Current = 0.0328, Target = 0.0254, Reduction = 0.0074 (22.49%)\n",
      "  - HT: Current = 0.0633, Target = 0.0491, Reduction = 0.0142 (22.49%)\n",
      "  - PMPF: Current = 0.2098, Target = 0.1483, Reduction = 0.0615 (29.31%)\n",
      "  - POFP: Current = 0.3864, Target = 0.2520, Reduction = 0.1343 (34.77%)\n",
      "  - TA: Current = 0.4736, Target = 0.3591, Reduction = 0.1145 (24.18%)\n",
      "  - TE: Current = 0.5439, Target = 0.4141, Reduction = 0.1298 (23.87%)\n",
      "Outputs:\n",
      "  - Output: Current = 1.0000, Target = 1.0000, Increase = -0.0000 (-0.00%)\n"
     ]
    }
   ],
   "execution_count": 161
  }
 ],
 "metadata": {
  "kernelspec": {
   "display_name": "Python 3",
   "language": "python",
   "name": "python3"
  },
  "language_info": {
   "codemirror_mode": {
    "name": "ipython",
    "version": 2
   },
   "file_extension": ".py",
   "mimetype": "text/x-python",
   "name": "python",
   "nbconvert_exporter": "python",
   "pygments_lexer": "ipython2",
   "version": "2.7.6"
  }
 },
 "nbformat": 4,
 "nbformat_minor": 5
}

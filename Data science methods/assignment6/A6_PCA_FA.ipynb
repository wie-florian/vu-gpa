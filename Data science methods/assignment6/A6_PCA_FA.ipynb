{
 "cells": [
  {
   "cell_type": "markdown",
   "id": "39c47eb4-4ba1-462b-a88f-0ac86a4e5ed0",
   "metadata": {
    "deletable": false,
    "editable": false,
    "nbgrader": {
     "cell_type": "markdown",
     "checksum": "1f67354ff43b0a4f5442965a18a4f2c9",
     "grade": false,
     "grade_id": "cell-97cf22c91bbda094",
     "locked": true,
     "schema_version": 3,
     "solution": false,
     "task": false
    }
   },
   "source": [
    "# Assignment 6: Dimensionality reduction on PM$_{2.5}$ speciation of the EPA"
   ]
  },
  {
   "cell_type": "markdown",
   "id": "1966e8dd-643e-4570-93f2-b962d9043765",
   "metadata": {
    "deletable": false,
    "editable": false,
    "nbgrader": {
     "cell_type": "markdown",
     "checksum": "a8dfebc40fa18092771cb50a4040c1c8",
     "grade": false,
     "grade_id": "cell-82dd1c4a5c86a19e",
     "locked": true,
     "schema_version": 3,
     "solution": false,
     "task": false
    }
   },
   "source": [
    "## Exercise 1:\n",
    "\n",
    "In this assignment we explore dimensionality reduction using different techniques with a dataset from the US - Environmental Protection Agency (EPA). From the large dataset available from the [EPA](https://aqs.epa.gov/aqsweb/airdata/download_files.html#Daily) we use only the data from one station (A roadsite in downtown Los Angeles). The dataset contains daily mean PM$_{2.5}$, speciation data, i.e. it gives the aerosol chemical composition (in $\\mu$g m$^{-3}$) of the major PM$_{2.5}$ constituents such as sulfate, nitrate, organic and elemental carbon and many trace elements, especially metals. \n",
    "\n",
    "This time the focus is on straight-forward application of the tools from the lecture and interpretation of the results more than on data preparation. The first code cell will therefore already load you a cleaned (all NaNs removed) and well-prepared dataset, with a `pd.DatetimeIndex` and the columns specifying the concentrations of the different constituents of the aerosol particles smaller than 2.5 microns. "
   ]
  },
  {
   "cell_type": "code",
   "execution_count": null,
   "id": "404b9966-0f05-4af7-ad75-ba3dbe7dd6fb",
   "metadata": {
    "deletable": false,
    "editable": false,
    "nbgrader": {
     "cell_type": "code",
     "checksum": "0ce0aa74e6d08d4b3ebeaed9efba69d2",
     "grade": false,
     "grade_id": "cell-13feb22bb7257312",
     "locked": true,
     "schema_version": 3,
     "solution": false,
     "task": false
    }
   },
   "outputs": [],
   "source": [
    "import pandas as pd\n",
    "\n",
    "df = pd.read_csv('Daily_PM25_LA.csv')\n",
    "df.index = pd.to_datetime(df.loc[:, 'time'])\n",
    "df.drop('time', axis=1, inplace=True)\n",
    "\n",
    "df"
   ]
  },
  {
   "cell_type": "markdown",
   "id": "be8bd00e-d5a5-4deb-b65f-9ffa0a6853ed",
   "metadata": {
    "deletable": false,
    "editable": false,
    "nbgrader": {
     "cell_type": "markdown",
     "checksum": "4f8944632e2d747f8bb8ba8fe76eb1b6",
     "grade": false,
     "grade_id": "cell-30b84748094d179a",
     "locked": true,
     "schema_version": 3,
     "solution": false,
     "task": false
    }
   },
   "source": [
    "### 1.a (8 points) PCA"
   ]
  },
  {
   "cell_type": "markdown",
   "id": "4734169f-3083-48de-a2d8-2ce6f45532de",
   "metadata": {
    "deletable": false,
    "editable": false,
    "nbgrader": {
     "cell_type": "markdown",
     "checksum": "f0a293f11e81f2e0fd58a6112d99d028",
     "grade": false,
     "grade_id": "cell-1ac19a3bac4dae24",
     "locked": true,
     "schema_version": 3,
     "solution": false,
     "task": false
    }
   },
   "source": [
    "**Perform a PCA analysis on the data using `sklearn.decomposition.PCA`. Don't forget to standardize your data. We are only interested in the three major principle components.**\n",
    "\n",
    "1) Plot the variance explained for each component and its cumulative sum. In the variable `answer1` write a statement whether you think that analyzing the first three principle components give a good understanding of the sources of PM$_{2.5}$ in downtown Los Angeles. \n",
    "2) Plot the principle components composition for the three major components. In the variable `answer2` describe which constituents dominate which factors and if you think that the factors have well-defined and interpretable profiles (are they *sparse* enough to understand them?)\n",
    "3) Plot the mean annual cycle (grouped by monthly means or medians) of the components. In the variable `answer3` briefly describe what seasonality you find for the components. \n",
    "4) Make some guess what sources the components could potentially represent in `answer4`: we are not in aerosol lecture here, either make some guess on your basic understanding of chemistry or ask ChatGPT what it thinks are the possible sources given the composition (`answer2`) and the annual cycles (`answer3`)."
   ]
  },
  {
   "cell_type": "code",
   "execution_count": null,
   "id": "9615c3a2-9527-477a-8465-709c84ad41fb",
   "metadata": {
    "deletable": false,
    "nbgrader": {
     "cell_type": "code",
     "checksum": "4a96142b9369e993c63da45ad9bf2381",
     "grade": true,
     "grade_id": "cell-edbabe46f786ec56",
     "locked": false,
     "points": 8,
     "schema_version": 3,
     "solution": true,
     "task": false
    },
    "revert": "answer1 = ''\nanswer2 = ''\nanswer3 = ''\nanswer4 = ''\n\n# YOUR CODE HERE\nraise NotImplementedError()"
   },
   "outputs": [],
   "source": [
    "answer1 = ''\n",
    "answer2 = ''\n",
    "answer3 = ''\n",
    "answer4 = ''\n",
    "\n",
    "# YOUR CODE HERE\n",
    "raise NotImplementedError()"
   ]
  },
  {
   "cell_type": "markdown",
   "id": "1edd2457-6a50-461e-9a67-a2ba692bf04a",
   "metadata": {
    "deletable": false,
    "editable": false,
    "nbgrader": {
     "cell_type": "markdown",
     "checksum": "2e782b84cd5fc81dc781e78ac3339efb",
     "grade": false,
     "grade_id": "cell-9bbeab1b4d11ccf0",
     "locked": true,
     "schema_version": 3,
     "solution": false,
     "task": false
    }
   },
   "source": [
    "### 1.b (7 points) FA"
   ]
  },
  {
   "cell_type": "markdown",
   "id": "d91005aa-ddb8-43a3-b2b0-d1d65f47d920",
   "metadata": {
    "deletable": false,
    "editable": false,
    "nbgrader": {
     "cell_type": "markdown",
     "checksum": "acac635aae91844f26db806d9f6b275d",
     "grade": false,
     "grade_id": "cell-e9fbc3afaac793b8",
     "locked": true,
     "schema_version": 3,
     "solution": false,
     "task": false
    }
   },
   "source": [
    "**Perform Factor Analysis on the data using `sklearn.decomposition.FactorAnalysis`.** "
   ]
  },
  {
   "cell_type": "markdown",
   "id": "3ab57958-0dc9-47c8-840a-a5e1e2c5d607",
   "metadata": {
    "deletable": false,
    "editable": false,
    "nbgrader": {
     "cell_type": "markdown",
     "checksum": "8832eb8c045c0873c02f2b6307207442",
     "grade": false,
     "grade_id": "cell-0b788c80bf36af06",
     "locked": true,
     "schema_version": 3,
     "solution": false,
     "task": false
    }
   },
   "source": [
    "1) Plot the  factor profiles (loadings) for a three factor solution including a 'varimax' rotation (loadings). In the variable `answer1` describe which constituents dominate which factors and if you think that the factors have well-defined and interpretable profiles (are they *sparse* enough to understand them?).\n",
    "2) Plot the mean annual cycle (grouped by monthly means or medians) of the factors. In the variable `answer2` briefly describe what seasonality you find for the components. \n",
    "3) Repeat the same for a higher number of factors. Discuss in variable `answer3` if the solutions (factor loadings and temporal trends) are better interpretable if a different number of factors is chosen. "
   ]
  },
  {
   "cell_type": "code",
   "execution_count": null,
   "id": "9f03c160-0547-4e17-b63a-f11d8650bc96",
   "metadata": {
    "deletable": false,
    "nbgrader": {
     "cell_type": "code",
     "checksum": "a42723da2cef73daee8b8f9ac3c24e04",
     "grade": true,
     "grade_id": "cell-32cbf489bbd34139",
     "locked": false,
     "points": 7,
     "schema_version": 3,
     "solution": true,
     "task": false
    },
    "revert": "answer1 = ''\nanswer2 = ''\nanswer3 = ''\n\n# YOUR CODE HERE\nraise NotImplementedError()"
   },
   "outputs": [],
   "source": [
    "answer1 = ''\n",
    "answer2 = ''\n",
    "answer3 = ''\n",
    "\n",
    "# YOUR CODE HERE\n",
    "raise NotImplementedError()"
   ]
  }
 ],
 "metadata": {
  "kernelspec": {
   "display_name": "Python 3",
   "language": "python",
   "name": "python3"
  },
  "language_info": {
   "codemirror_mode": {
    "name": "ipython",
    "version": 3
   },
   "file_extension": ".py",
   "mimetype": "text/x-python",
   "name": "python",
   "nbconvert_exporter": "python",
   "pygments_lexer": "ipython3",
   "version": "3.11.10"
  }
 },
 "nbformat": 4,
 "nbformat_minor": 5
}

{
 "cells": [
  {
   "cell_type": "code",
   "id": "initial_id",
   "metadata": {
    "collapsed": true,
    "ExecuteTime": {
     "end_time": "2025-04-08T07:35:25.502405Z",
     "start_time": "2025-04-08T07:35:24.206902Z"
    }
   },
   "source": [
    "from pulp import LpProblem, LpVariable, LpMaximize, LpStatus\n",
    "\n",
    "#Initalize the LP\n",
    "prob=LpProblem(\"Problem_1\", LpMaximize)\n",
    "\n",
    "#Decision Variables\n",
    "x=LpVariable.dicts(\"x\", [1,2], lowBound=0, cat=\"Continuous\")\n",
    "\n",
    "#Objective Function\n",
    "prob +=10*x[1]+20*x[2]\n",
    "\n",
    "#Constraints\n",
    "prob +=-x[1]+2*x[2]<=15\n",
    "prob +=x[1]+x[2]<=12\n",
    "prob +=5*x[1]+3*x[2]<=45\n",
    "\n",
    "print(prob)\n",
    "\n",
    "#Solve Problem\n",
    "status=prob.solve()\n",
    "print(LpStatus[status])\n",
    "\n",
    "#Display Objective Value\n",
    "print()\n",
    "\n",
    "#Display Variables\n",
    "for var in prob.variables():\n",
    "    print(f\"{var.name}={var.varValue}\")\n",
    "\n",
    "print(f\"OBJECTIVE VALUE: {prob.objective.value()}\")\n",
    "\n"
   ],
   "outputs": [
    {
     "name": "stdout",
     "output_type": "stream",
     "text": [
      "Problem_1:\n",
      "MAXIMIZE\n",
      "10*x_1 + 20*x_2 + 0\n",
      "SUBJECT TO\n",
      "_C1: - x_1 + 2 x_2 <= 15\n",
      "\n",
      "_C2: x_1 + x_2 <= 12\n",
      "\n",
      "_C3: 5 x_1 + 3 x_2 <= 45\n",
      "\n",
      "VARIABLES\n",
      "x_1 Continuous\n",
      "x_2 Continuous\n",
      "\n",
      "Optimal\n",
      "\n",
      "x_1=3.0\n",
      "x_2=9.0\n",
      "OBJECTIVE VALUE: 210.0\n"
     ]
    }
   ],
   "execution_count": 6
  }
 ],
 "metadata": {
  "kernelspec": {
   "display_name": "Python 3",
   "language": "python",
   "name": "python3"
  },
  "language_info": {
   "codemirror_mode": {
    "name": "ipython",
    "version": 2
   },
   "file_extension": ".py",
   "mimetype": "text/x-python",
   "name": "python",
   "nbconvert_exporter": "python",
   "pygments_lexer": "ipython2",
   "version": "2.7.6"
  }
 },
 "nbformat": 4,
 "nbformat_minor": 5
}

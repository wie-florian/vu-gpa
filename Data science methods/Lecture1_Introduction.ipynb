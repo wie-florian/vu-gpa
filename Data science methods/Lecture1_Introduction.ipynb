{
 "cells": [
  {
   "cell_type": "markdown",
   "id": "225e6450-0260-4956-9ff4-c2d5d570dd6b",
   "metadata": {},
   "source": [
    "## 1.1 Our tools\n",
    "\n",
    "In this course we will use [**jupyter notebooks**](https://jupyter.org/) using [**python**](https://www.python.org/).  What is this?\n",
    "\n",
    "**python** is a programming language: \n",
    "\n",
    "> \"A programming language is a system of notation for writing computer programs.\n",
    "> Programming languages are described in terms of their **syntax** (form) and **semantics** (meaning), usually defined by a formal language.\n",
    "> Languages usually provide features such as a type system, **variables** and mechanisms for error handling.\n",
    "> An implementation of a programming language is required in order to execute programs, namely a compiler or an interpreter.\n",
    "> An interpreter directly executes the source code, while a compiler produces an executable program.\"\n",
    ">\n",
    "> \\- *Wikipedia*\n",
    "\n",
    "**jupyter notebooks** are web-browser based environments for interactively hosting programs and other content:\n",
    "\n",
    "> Jupyter Notebook (formerly IPython Notebook) is a **web-based interactive computational environment** for creating notebook documents.\n",
    "> Jupyter Notebook is built using several open-source libraries, including **Python** (...).\n",
    "> A Jupyter Notebook application is (...) browser-based (...) containing a (...) list of input/output cells which can contain code, text, mathematics, plots and rich media.\n",
    ">\n",
    "> \\- *Wikipedia*\n",
    "\n",
    "So that's where we are: In a **jupyter notebook** where we can execute **python** along with explanations, plots, etc. \n",
    "\n",
    "What is the **alternative** to **jupyter**?\n",
    "\n",
    "- On Windows PC, it's easiest to install python via the [**Anaconda**](https://www.anaconda.com/download) distribution.\n",
    "- On Linux and Mac, basic python is typically pre-installed\n",
    "- From a **terminal** (e.g., Anaconda Powershell Prompt on Windows) python scripts (files which contain python code) can be run simply by: ``python script.py`` \n",
    "- You can also just start a python shell by just running ``python``, i.e. calling the python interpreter\n",
    "- However, it might be more useful to work with **IPython** which is also the underlying interpreter of **jupyter notebooks**. In the Anaconda Powershell Promt you call it via ``ipython3``"
   ]
  },
  {
   "cell_type": "markdown",
   "id": "8e3df48a-de87-4d42-8b1f-5cdf691d43af",
   "metadata": {},
   "source": [
    "## 1.2 Let'start with some python code\n",
    "\n",
    "The most simple program is the classic **hello world**. We can execute that here in our jupyter-cell directly and see it's output:"
   ]
  },
  {
   "cell_type": "code",
   "execution_count": null,
   "id": "c0719e4d-f50d-423f-b97b-654ccf25a0d7",
   "metadata": {},
   "outputs": [],
   "source": [
    "print('hello world')"
   ]
  },
  {
   "cell_type": "markdown",
   "id": "0d60435e-5a6e-4f8b-b656-3d43d80b3196",
   "metadata": {},
   "source": [
    "Python also knows **basic math**, it can be used as a simple calculator:"
   ]
  },
  {
   "cell_type": "code",
   "execution_count": null,
   "id": "2fee4de5-1637-4be1-bb0c-0b2cdfda6137",
   "metadata": {},
   "outputs": [],
   "source": [
    "4 + 4"
   ]
  },
  {
   "cell_type": "code",
   "execution_count": null,
   "id": "d2d588f1-0392-449b-afb7-dd7fb0b01b71",
   "metadata": {},
   "outputs": [],
   "source": [
    "3 * 3"
   ]
  },
  {
   "cell_type": "code",
   "execution_count": null,
   "id": "3f875103-4797-41e6-89f0-949f9259a011",
   "metadata": {},
   "outputs": [],
   "source": [
    "2 / 2"
   ]
  },
  {
   "cell_type": "code",
   "execution_count": null,
   "id": "0073b59d-abc3-42f1-9336-db49efb12787",
   "metadata": {},
   "outputs": [],
   "source": [
    "1 - 1"
   ]
  },
  {
   "cell_type": "code",
   "execution_count": null,
   "id": "bbcb18b3-a0a6-447c-92c9-d23ca0cbb439",
   "metadata": {},
   "outputs": [],
   "source": [
    "2**3"
   ]
  },
  {
   "cell_type": "markdown",
   "id": "3bf9d010-cd97-47e5-ade7-69cab7433ad1",
   "metadata": {},
   "source": [
    "Python is *dynamically* typed (different to e.g., C++), so we can do the following assignments without declaring the types of\n",
    "width and height."
   ]
  },
  {
   "cell_type": "code",
   "execution_count": null,
   "id": "91c19bd0-f25d-4b14-92cb-a4ff8d3e5ee2",
   "metadata": {},
   "outputs": [],
   "source": [
    "width = 2\n",
    "height = 4.0\n",
    "area = width*height\n",
    "# we calculate the area now\n",
    "print(area)"
   ]
  },
  {
   "cell_type": "markdown",
   "id": "fe18860e-c318-4bf8-b5ac-fc0d8cf048e8",
   "metadata": {},
   "source": [
    "As in almost every programming language, python provides a tool to also write stuff into code which isn't code, so-called **comments**.\n",
    "\n",
    "In python these parts of code always begin with a hashtag `# this is a comment`:"
   ]
  },
  {
   "cell_type": "code",
   "execution_count": null,
   "id": "cc1dbb4f-f0bb-4cf5-800d-726f8a14df45",
   "metadata": {},
   "outputs": [],
   "source": [
    "# this is a comment and doesn't do anything!"
   ]
  },
  {
   "cell_type": "markdown",
   "id": "84ee3faf-ad84-4a64-94ae-229a2f911379",
   "metadata": {},
   "source": [
    "### Coding style\n",
    "\n",
    "This course is not a programming course, where you learn all details of how code should look like and how to structure entire programs properly. \n",
    "\n",
    "Coding style is important to make code easily readable for other programmers and there are some official conventions on how python code should look like.\n",
    "These can be found under [PEP8](https://peps.python.org/pep-0008/) coding conventions. \n",
    "\n",
    "I really suggest that everybody has a look at this. I will try to follow those conventions as much as possible, but I am no programmer, so don't learn my *bad* style. \n",
    "\n",
    "There is even more to learn on how to structure python code such that entire sets of programs and packages can be constructed and easily distributed. To learn this, I suggest you take the excellent course [164.373 Programming for Chemists](https://tiss.tuwien.ac.at/course/courseDetails.xhtml?dswid=4614&dsrid=750&semester=2025S&courseNr=164373)."
   ]
  },
  {
   "cell_type": "markdown",
   "id": "719264a4-e8d1-4fb6-a782-06324705f2a1",
   "metadata": {},
   "source": [
    "### Variables, types and built-in functions\n",
    "\n",
    "#### Variables and their types\n",
    "\n",
    "We have seen now that python can handle basic math operations, introduce variables and act on these variables. There are also certain basic functions available which perform certain tasks:\n",
    "- ``2 + 2`` was a simple math operation\n",
    "- variables were declared and assigned like ``width = 2``, afterwards the name of the variable was used to perform a mathematical operation\n",
    "- it is important to realize that every variable in programming typically has a value and a type, with the latter defining the meaning of the variable\n",
    "- numbers can be e.g. of type ``int`` (integer) or ``float`` (floating point number)\n",
    "- another type are e.g. strings: ``str``, i.e. series of characters\n",
    "- the third important type of variables are booleans (``bool``), which is a variable which can be either ``True`` or ``False``\n",
    "- a variable always has a type according to their first declarations, and there is typically no need to specify the type of variable within python\n",
    "- python also offers some built-in functions, which execute certain pre-defined pieces of code and often take arguments (they are also referred to as callables)\n",
    "- the print() function interacts with the console I/O and outputs its argument\n",
    "- the type() function returns the type of the object\n"
   ]
  },
  {
   "cell_type": "code",
   "execution_count": null,
   "id": "47ab8bbd-d30c-4a0b-a0dd-4a75765622f8",
   "metadata": {},
   "outputs": [],
   "source": [
    "type(width)"
   ]
  },
  {
   "cell_type": "code",
   "execution_count": null,
   "id": "b4815aba-de67-42e2-bb75-d6d66d3fa458",
   "metadata": {},
   "outputs": [],
   "source": [
    "type(height)"
   ]
  },
  {
   "cell_type": "code",
   "execution_count": null,
   "id": "6aa0638a-a594-4c08-9a52-931c777ac194",
   "metadata": {},
   "outputs": [],
   "source": [
    "type(area)"
   ]
  },
  {
   "cell_type": "code",
   "execution_count": null,
   "id": "9129f333-81cd-4f0b-8ead-7bdf68a49256",
   "metadata": {},
   "outputs": [],
   "source": [
    "text = 'i am a string'\n",
    "type(text)"
   ]
  },
  {
   "cell_type": "code",
   "execution_count": null,
   "id": "f8d9d468-a0f3-4e80-b0cd-285720b546d1",
   "metadata": {},
   "outputs": [],
   "source": [
    "boolean = True\n",
    "type(boolean)"
   ]
  },
  {
   "cell_type": "markdown",
   "id": "3744749b-3381-4d04-8e7b-13bf6a1093e1",
   "metadata": {},
   "source": [
    "#### Built-in functions\n",
    "\n",
    "Built-in functions are very powerful and extremely important for any python code. It is recommended that their names are never used as variable names for anything else. \n",
    "\n",
    "The following Table shows the most important built-in functions in python3:\n",
    "\n",
    "\n",
    "| Built-in function    | Usage                                                                             |\n",
    "| -------------------- | ----------------------------------------------------------------------------------|\n",
    "| ``abs()``            | returns the absolute value of a number                                            |\n",
    "| ``all()``            | returns ``True`` if all elements of the iterable are true                         |\n",
    "| ``any()``            | returns ``True`` if any element of the iterable is true                           |\n",
    "| ``bool()``           | returns a Boolean value, i.e. one of ``True`` or ``False``                        |\n",
    "| ``callable()``       | returns ``True`` if the object argument appears callable                          |\n",
    "| ``float()``          | returns a floating-point number constructed from a number or a string             |\n",
    "| ``help()``           | invokes the built-in help system                                                  |\n",
    "| ``input()``          | reads a line from input, converts it to a string, and returns that                |\n",
    "| ``int()``            | returns an integer object constructed from a number or a string                   |\n",
    "| ``isinstance()``     | returns True if the object argument is an instance of the classinfo argument      |\n",
    "| ``len()``            | returns the length (the number of items) of an object                             |\n",
    "| ``list()``           | type constructor for an iterable list                                             |\n",
    "| ``min()``            | returns the smallest item in an iterable or the smallest of two or more arguments |\n",
    "| ``max()``            | returns the largest item in an iterable or the largest of two or more arguments   |\n",
    "| ``open()``           | opens file and return a corresponding file object                                 |\n",
    "| ``print()``          | print objects to the text output stream, i.e. the terminal, but can be a file too |\n",
    "| ``round()``          | returns number rounded to n digits precision after the decimal point              |\n",
    "| ``sum()``            | sums the items of an iterable from left to right and returns the total            |\n",
    "| ``str()``            | returns a str version of object                                                   |\n",
    "| ``type()``           | returns the type of an object                                                     |\n",
    "\n",
    "all other built-in functions together with their documentation can be found in the [Python Docs](https://docs.python.org/3/library/functions.html)"
   ]
  },
  {
   "cell_type": "code",
   "execution_count": null,
   "id": "424b8402-3beb-4fa7-9851-db534264e12d",
   "metadata": {},
   "outputs": [],
   "source": [
    "string_number = 'hello world'"
   ]
  },
  {
   "cell_type": "markdown",
   "id": "60f9dd95-d7c5-4b34-a7d9-e4f6938a9a92",
   "metadata": {},
   "source": [
    "### User-defined functions\n",
    "\n",
    "Besides the built-in functions (which are not all by default functions in the sense of python, more on that later), we the user can define a function.\n",
    "Functions take arguments, modify these and return other values. The are used to structure code (sort pieces of well-defined operations out and give them reasonable names, but also to make certain chunks of code repetitively available. \n",
    "\n",
    "Let's see how we define functions in python:"
   ]
  },
  {
   "cell_type": "code",
   "execution_count": null,
   "id": "b43219af-a5cf-4e8f-ad8f-760c528a3ed8",
   "metadata": {},
   "outputs": [],
   "source": [
    "def exponential(x):\n",
    "    expo = 1 + x + x**2/2 + x**3/(3*2) + x**4/(4*3*2) + x**5/(5*4*3*2) + x**6/(6*5*4*3*2)\n",
    "    return expo\n",
    "\n",
    "\n",
    "def maximum(x, y):\n",
    "    if x > y:\n",
    "        return x\n",
    "    elif y > x:\n",
    "        return y\n",
    "    else:\n",
    "        raise ValueError(\"no maximum found\")"
   ]
  },
  {
   "cell_type": "markdown",
   "id": "1500cb72-798f-4857-9e27-7283418cc424",
   "metadata": {},
   "source": [
    "Here we find several new features of python. Let's go through them step-by-step:\n",
    "\n",
    "1. The function is defined by the key-word ``def`` followed by the name of the function and in brackets the arguments, which the function requires as input (here to variables named x and y). These variables are available inside the function for manipulation. \n",
    "2. The colon marks the end of the defining line of the function. The next line starts with an indent (4 spaces or a tab). This is always the case in python after colons. Indentation is generally used to group lines of code together in python, here the core of the function ``maximum``. It replaces the extensive usage of brackets in other programming languages and makes code easily readable as the user is forced to use indents.\n",
    "3. Inside the function, we have an ``if``, ``elif``, ``else`` statement. They are simple conditional statements. If ``True``, than the followin code is executed. If ``False``, the next statement (``elif``) is tested until we reach ``else``, which is executed only if none of the previous ``if`` or ``elif`` statements was ``True``.\n",
    "4. The keyword ``return`` marks the return value of the function. Whenever executed, the function is terminated and the ``return`` statement is then available as the output of the function.\n",
    "5. Last, the function contains a built-in exception (``ValueError``), i.e. an Error message, which is returned as soon as both variables are either no numbers (such that no maximum exists), or if the numbers are equal. It is used together with the ``raise`` statement, which terminates the execution of the code at that point, where the error is raised. \n",
    "\n",
    "Let's see how the function works in practice:"
   ]
  },
  {
   "cell_type": "code",
   "execution_count": null,
   "id": "765ab0a9-3c47-40c3-996d-c5448651c595",
   "metadata": {},
   "outputs": [],
   "source": [
    "a = 4\n",
    "b = 2\n",
    "result = maximum(a, b)\n",
    "print(result)\n",
    "a = 2\n",
    "print(maximum(a, b))"
   ]
  },
  {
   "cell_type": "markdown",
   "id": "4b86eb11-c16d-4a17-97d7-5bf517650cd5",
   "metadata": {},
   "source": [
    "We see that the first execution of ``maximum`` resulted in the correct answer. Here we used the function such that its return value is saved in a new variable, called ``result`` and subsequently that variable was printed to the output. \n",
    "\n",
    "In the second execution we executed the function inside the print function, which should directly print the maximum to the output. However, as the variable ``a`` is modified in the meantime to have the same value as ``b``, no maximum can be found and the function raises an error. Python execution is **aborted** and the error message points us to the line of code, where the execution fails. This can be extremely helpful in big prograqmming projects. In addition, Errors can be programmed such, that certain types of Errors can be handeled and do not directly induce the program to fail. For more details see the [Python Docs](https://docs.python.org/3/tutorial/errors.html)."
   ]
  },
  {
   "cell_type": "markdown",
   "id": "f7d30a93-ed94-4be5-b7fc-410fa9adaa88",
   "metadata": {},
   "source": [
    "### Iterables and loops\n",
    "\n",
    "#### Lists\n",
    "\n",
    "The next essential type we are getting to know is the ``list``, which is a so-called Iterable. So far our data types were stroing individual peices of data, i.e. one number, one string, one boolean. \n",
    "If we want to store a collection of data, specifically an ordered collection of items, then we use a ``list``, which is a new datatype by itself. \n",
    "\n",
    "Let's see how lists work:"
   ]
  },
  {
   "cell_type": "code",
   "execution_count": null,
   "id": "7b649098-a51f-47ab-b47d-1f2935e5d8c0",
   "metadata": {},
   "outputs": [],
   "source": [
    "fruits = ['apples', 'bananas', 'oranges']\n",
    "type(fruits)"
   ]
  },
  {
   "cell_type": "markdown",
   "id": "e2ac8adb-5cd8-47b1-a5b7-d815947a562f",
   "metadata": {},
   "source": [
    "We can also check if certain elements are found in a list with a very inuitive syntax:"
   ]
  },
  {
   "cell_type": "code",
   "execution_count": null,
   "id": "807c4ad4-328d-442e-b826-3fae35912fd5",
   "metadata": {},
   "outputs": [],
   "source": [
    "'apples' in fruits"
   ]
  },
  {
   "cell_type": "markdown",
   "id": "132fb55c-d755-40e1-8d48-c0ff62205ee4",
   "metadata": {},
   "source": [
    "We defined a list using square-brackets [] with the elements of the list separated by commas, here we had a list of different strings. And with the statement ``'apples' in fruits`` we were able to check if a certain expression was in that list, i.e. it returend the boolean ``True`` as the string ``'apples'`` was an itemj in that list. This also works for other variable types, we can also have a list of numbers and check if a certain number is in that list. \n",
    "\n",
    "Our list names fruits contained three items. We can actually obtain the length of the list with the built-in function ``len()``:"
   ]
  },
  {
   "cell_type": "code",
   "execution_count": null,
   "id": "e4a71e7b-16a8-4ec0-ace1-0fdddb0d3ef4",
   "metadata": {},
   "outputs": [],
   "source": [
    "len(fruits)"
   ]
  },
  {
   "cell_type": "markdown",
   "id": "8e47fb22-9416-42b5-82b9-733946821b79",
   "metadata": {},
   "source": [
    "We can access individual items of that list using the square brackets and the index of the element. We always start at 0 for the left-most element, but we can also index from the other end (using negative numbers): "
   ]
  },
  {
   "cell_type": "code",
   "execution_count": null,
   "id": "b92fd9cb-3956-4905-8170-1c7ab91e3a21",
   "metadata": {},
   "outputs": [],
   "source": [
    "fruits[0]"
   ]
  },
  {
   "cell_type": "code",
   "execution_count": null,
   "id": "975796f8-dc74-41bd-9e44-71f736899b2e",
   "metadata": {},
   "outputs": [],
   "source": [
    "fruits[-1]"
   ]
  },
  {
   "cell_type": "code",
   "execution_count": null,
   "id": "6ad21dc2-27d1-4fdb-89cd-65889d54a96a",
   "metadata": {},
   "outputs": [],
   "source": [
    "print(fruits[-2])\n",
    "print(fruits[1])"
   ]
  },
  {
   "cell_type": "markdown",
   "id": "d52dec2e-85d7-4b0d-829e-4bba496b4f27",
   "metadata": {},
   "source": [
    "here we saw that ``fruits[-2]`` returns the same item than ``fruits[1]``. \n",
    "\n",
    "``list`` is a powerful data-type which also gives access to many built-in methods, which operate on list objects. Basically methods are functions, which are accessible for each element of a certain type. We will see later how this is connected to the ``class``. \n",
    "\n",
    "One of the built-in methods for lists allows us to add a new item at the end of the list. This built-in method is a calles ``list.append()``, see also [Python Docs](https://docs.python.org/3/tutorial/datastructures.html) what other methods are available for the type ``list``."
   ]
  },
  {
   "cell_type": "code",
   "execution_count": null,
   "id": "8ab51aff-9114-4077-9377-b51d2152610d",
   "metadata": {},
   "outputs": [],
   "source": [
    "fruits.append('plums')\n",
    "fruits"
   ]
  },
  {
   "cell_type": "code",
   "execution_count": null,
   "id": "3ec5351e-80ae-47c9-be5d-7ffa90d5b7f7",
   "metadata": {},
   "outputs": [],
   "source": [
    "len(fruits)"
   ]
  },
  {
   "cell_type": "markdown",
   "id": "50b81ef1-c9a7-4f63-ace7-666f14d01be9",
   "metadata": {},
   "source": [
    "We can also remove items with such built-in methods and we then see that our ``'apples' in fruits`` call now returns ``False``:"
   ]
  },
  {
   "cell_type": "code",
   "execution_count": null,
   "id": "0cd56ec1-2d48-46c7-8faa-8f5db164cfd8",
   "metadata": {},
   "outputs": [],
   "source": [
    "fruits.remove('apples')\n",
    "'apples' in fruits"
   ]
  },
  {
   "cell_type": "markdown",
   "id": "4c2b12b8-c0c1-438b-94d9-0ba666b87ced",
   "metadata": {},
   "source": [
    "If we now try to remove ``'apples'`` once again, we will get a ``ValueError`` raised, because it is not in the list anymore:"
   ]
  },
  {
   "cell_type": "code",
   "execution_count": null,
   "id": "5e32611d-7eea-42d3-b7eb-e3f9ea10cc66",
   "metadata": {
    "scrolled": true
   },
   "outputs": [],
   "source": [
    "fruits.remove('apples')"
   ]
  },
  {
   "cell_type": "markdown",
   "id": "5fc7e7a3-d471-46bc-b1c0-e9f489a7623f",
   "metadata": {},
   "source": [
    "Interestingly, **strings work very similar to lists**, i.e. individual letters of a string can be found and accessed with the same syntax:"
   ]
  },
  {
   "cell_type": "code",
   "execution_count": null,
   "id": "5d3c8c73-9081-4725-b691-1d01bef2f302",
   "metadata": {},
   "outputs": [],
   "source": [
    "my_name = 'Dominik'\n",
    "print(my_name[0])\n",
    "print('i' in my_name)"
   ]
  },
  {
   "cell_type": "markdown",
   "id": "f91365db-c974-4c8f-bf45-7200a41ddb75",
   "metadata": {},
   "source": [
    "But the difference is that the built-ion methods associated with ``list`` are not available:"
   ]
  },
  {
   "cell_type": "code",
   "execution_count": null,
   "id": "baf6a248-f9c0-4aab-92f6-3a03e00442a6",
   "metadata": {},
   "outputs": [],
   "source": [
    "my_name.append(' Stolzenburg')\n",
    "print(my_name)"
   ]
  },
  {
   "cell_type": "markdown",
   "id": "4b88e577-c594-48ce-bddd-49be26927ff9",
   "metadata": {},
   "source": [
    "Here we get an ``AttributeError`` which shows that this method is not part of the dataytpe ``str``. "
   ]
  },
  {
   "cell_type": "markdown",
   "id": "bc05d0fb-2dfb-4eec-9298-714771c9296c",
   "metadata": {},
   "source": [
    "#### Loops\n",
    "\n",
    "Most powerful are Iterables, because they can be used within loops. The most simple syntax to loop over all elements of a list is the ``for`` loop:"
   ]
  },
  {
   "cell_type": "code",
   "execution_count": null,
   "id": "1baa03c7-8306-4ca4-a259-f195be279fb8",
   "metadata": {},
   "outputs": [],
   "source": [
    "drinks = []\n",
    "drinks.append('whiskey')\n",
    "drinks.append('aperol')\n",
    "drinks.append('spritzer')\n",
    "\n",
    "for k in drinks:\n",
    "    print(k)"
   ]
  },
  {
   "cell_type": "markdown",
   "id": "e1e178f4-19bf-40d1-a104-886b91b5c31a",
   "metadata": {},
   "source": [
    "In that case, everything after the colon and within the next indent was executed for all elements in the list drinks. So in the first iteration the code is executed as if ``element='whiskey'`` and in the next iteration it is executed as if ``element='aperol'``, etc. \n",
    "\n",
    "If you imagine that the used ``list`` can contain thousands of elements, then you can execuate thousands of operations with just two lines of code. That's the **power of loops**. "
   ]
  },
  {
   "cell_type": "markdown",
   "id": "ede64557-b97a-4e55-9222-e48a8a5a87d7",
   "metadata": {},
   "source": [
    "While `for` loops are often used to loop over the elements of a list, they are also often used to execute a certain operation a defined number of times. If a `for` loop is designed for that purpose we often loop over a *fake* list of just integer number (the numbers of executions):"
   ]
  },
  {
   "cell_type": "code",
   "execution_count": null,
   "id": "43ac189e-3950-4ac5-83f6-037a14c6b9f6",
   "metadata": {},
   "outputs": [],
   "source": [
    "for i in [0, 1, 2, 3, 4]:\n",
    "    print(i)"
   ]
  },
  {
   "cell_type": "code",
   "execution_count": null,
   "id": "6f606229-7c6e-4dca-b7c8-039406acaaf2",
   "metadata": {},
   "outputs": [],
   "source": [
    "for i in range(5):\n",
    "    print(i)"
   ]
  },
  {
   "cell_type": "markdown",
   "id": "faaf62fd-239b-4a1e-862f-17626a1e96f8",
   "metadata": {},
   "source": [
    "There is a third purpose of a loop, which is we want to execute some code over and over again as long as a condition is `TRUE`.  For that purpose python has the built-in `while` loops. \n",
    "\n",
    "That way, we can actually code the very same operation (printing 'Hello' five times) but with a different syntax:"
   ]
  },
  {
   "cell_type": "code",
   "execution_count": null,
   "id": "ac865595-bf92-4eb9-b744-fda8b65c3e66",
   "metadata": {},
   "outputs": [],
   "source": [
    "counter = 0\n",
    "while counter < 5:\n",
    "    print('Hello')\n",
    "    counter = counter + 1"
   ]
  },
  {
   "cell_type": "markdown",
   "id": "dc27afb9-2db2-4fc8-b9fd-63b5d701db96",
   "metadata": {},
   "source": [
    "#### Dictonaries\n",
    "\n",
    "So far, we have learned about a container for several items, the `list`, which stores objects in an ordered manner and lets use retrieve these objects according to their position in the `list`. They are powerful tools, where we can loop over with the help of `for`loops. \n",
    "\n",
    "`Dictionaries` are another data type where you can iterate over, but they are really more like a classical dictionary book or a phone book. It's more about setting different things into relation to each other. In a phone book, you go look for a name of a certain person and then you find its phone number. Or in chemistry database you look for a molecules name and you might find its enthalpy of combustion.  \n",
    "\n",
    "Unlike lists, which are indexed by a range of numbers, dictionaries are indexed by keys, which can strings and numbers but also other types. A dictionary is a collection of key-value pairs. It is defined using curly braces {}."
   ]
  },
  {
   "cell_type": "code",
   "execution_count": null,
   "id": "12e46bb7-6362-4664-bb56-803d5042e6f1",
   "metadata": {},
   "outputs": [],
   "source": [
    "dictionary_example = {\"name\": \"Alice\", \"age\": 25, \"city\": \"New York\"}\n",
    "\n",
    "for key in dictionary_example.keys():\n",
    "    print(key)"
   ]
  },
  {
   "cell_type": "markdown",
   "id": "56953b47-4d48-4ae5-b502-e1c37c381d13",
   "metadata": {},
   "source": [
    "Iterating over the values corresponding to the keys can be done in two different ways:"
   ]
  },
  {
   "cell_type": "code",
   "execution_count": null,
   "id": "640c66b8-13a7-494a-b9f8-c4738ff1ac90",
   "metadata": {},
   "outputs": [],
   "source": [
    "for value in dictionary_example.values():\n",
    "    print(value)\n",
    "\n",
    "for key in dictionary_example.keys():\n",
    "    print(dictionary_example[key])\n",
    "\n"
   ]
  },
  {
   "cell_type": "markdown",
   "id": "fb0e767c-3c3c-467a-9fad-3ea02fb3a834",
   "metadata": {},
   "source": [
    "And also iterating over key-value pairs can be done, also showcasing another power of `for`loops:"
   ]
  },
  {
   "cell_type": "code",
   "execution_count": null,
   "id": "6756d053-8c47-4124-8958-48ce61fff41e",
   "metadata": {},
   "outputs": [],
   "source": [
    "print(\"\\nIterating over key-value pairs:\")\n",
    "for k, v in dictionary_example.items():\n",
    "    print(str(k) + \" : \" + str(v))"
   ]
  },
  {
   "cell_type": "markdown",
   "id": "53d5e0b3-a00b-44b0-b8fb-1d6142aed8b0",
   "metadata": {},
   "source": [
    "So dictionaries have apprently at least three built-in methods, which can be called using the `.` operator. \n",
    "\n",
    "These are `dictionary.keys()`, `dictionary.values()` and `dictionary.items()`. \n",
    "\n",
    "We can also manipulate dictionaries similar to lists, i.e., we can add new items and delete them:"
   ]
  },
  {
   "cell_type": "code",
   "execution_count": null,
   "id": "af0b1b20-331b-492e-ad2e-08bdc72c7edd",
   "metadata": {},
   "outputs": [],
   "source": [
    "dictionary_example[\"country\"] = \"USA\"\n",
    "print(dictionary_example)\n",
    "\n",
    "del dictionary_example[\"age\"]\n",
    "print(dictionary_example)"
   ]
  },
  {
   "cell_type": "markdown",
   "id": "37011184-41a0-4cbf-a2bf-6032e618f7c1",
   "metadata": {},
   "source": [
    "Note that the syntax for deleting an item is different compared to the `list`. However, the syntax used now would also work on a `list`:"
   ]
  },
  {
   "cell_type": "code",
   "execution_count": null,
   "id": "71e24d4c-41bd-45a8-941f-ec41773a8879",
   "metadata": {},
   "outputs": [],
   "source": [
    "print(fruits)\n",
    "del fruits[-1]\n",
    "print(fruits)"
   ]
  },
  {
   "cell_type": "markdown",
   "id": "36799324-216c-4d91-b628-bc34bebf57ca",
   "metadata": {},
   "source": [
    "## 1.3 First steps in python\n",
    "\n",
    "---\n",
    "**EXERCISE**\n",
    "\n",
    "Write a function (called ``mapping``), which applies another function (e.g., a quadratic polynomial) to each element (in that case of type ``float``) of an Iterable (here a ``list``). \n",
    "\n",
    "---\n",
    "\n",
    "We will do that as an assignment within **JupyterHub**, such that you see, how the assignments work. "
   ]
  },
  {
   "cell_type": "markdown",
   "id": "cd862166-ff55-4121-b829-8a80eb8128e1",
   "metadata": {},
   "source": [
    "## 1.4 Python packages\n",
    "\n",
    "While there are so-called built-in functions, which are contained in any basic python installation, the true power of the programming language is only unfolded, when we use certain `packages` which provide a lot more pre-defined functionalization compared to basic python. The most important packages, which we will use during this course very frequently, are:\n",
    "\n",
    "- [Numpy](https://numpy.org/): The fundamental package for scientific computing with Python\n",
    "- [Matplotlib](https://matplotlib.org/): Matplotlib is a comprehensive library for creating static, animated, and interactive visualizations in Python\n",
    "- [Pandas](https://pandas.pydata.org/): Pandas is a fast, powerful, flexible and easy to use open source data analysis and manipulation tool\n",
    "- [Scipy](https://scipy.org/): Fundamental algorithms for scientific computing in Python\n",
    "- [Scikit-learn](https://scikit-learn.org/stable/): Simple and efficient tools for predictive data analysis including machine learning\n",
    "\n",
    "So how can we access these packages?"
   ]
  },
  {
   "cell_type": "code",
   "execution_count": null,
   "id": "0f8616d2-e218-4257-a92e-66c0f19fa727",
   "metadata": {},
   "outputs": [],
   "source": [
    "import numpy"
   ]
  },
  {
   "cell_type": "markdown",
   "id": "de920d46-c627-4ad1-8fc6-04773c4763c3",
   "metadata": {},
   "source": [
    "We do that with the `import` statement. However, this only works, if the content of the packages is installed into your python distribution (environment). For the JupyterHub you do need to care, most important things are pre-installed. On your local machine, it depends on your setup, on how to install packages from the internet. It is importnat to know that packages typically depend on other packages and therefore some sort of package management needs to be implemented and used for package installation (more info on the [lecture slides](https://tuwel.tuwien.ac.at/mod/resource/view.php?id=2485853)).\n",
    "\n",
    "After the import statement, we can access all functionality of the packages:"
   ]
  },
  {
   "cell_type": "code",
   "execution_count": null,
   "id": "e236c2ea-8138-430d-a7d8-372931e2ab8b",
   "metadata": {},
   "outputs": [],
   "source": [
    "print(numpy.log10(10))\n",
    "print(numpy.exp(1))\n",
    "print(numpy.cos(numpy.pi))"
   ]
  },
  {
   "cell_type": "markdown",
   "id": "cbc43d91-6d90-4099-ac05-fead82211897",
   "metadata": {},
   "source": [
    "### Guess the sum formula: An example of all we learned so far\n",
    "\n",
    "We are now building a sum formula guesser program, where the user will be prompted with a trivial name of a certain substance and they need to guess its sum formula, with the programm answering if the guess was correct and counting the points.\n",
    "\n",
    "- First, we will build a dictionary which contains all the assignments:\n",
    "Remember the syntax for dictionarys:  ```dict = {key1 : item1, key2 : item2, ... }```"
   ]
  },
  {
   "cell_type": "code",
   "execution_count": null,
   "id": "13886a1f-4a8d-48dc-be2e-eb69048557fc",
   "metadata": {},
   "outputs": [],
   "source": [
    "molecule_dict = {\n",
    "    \"Water\": \"H2O\",\n",
    "    \"Methane\": \"CH4\",\n",
    "    \"Ethanol\": \"C2H5OH\",\n",
    "    \"Glucose\": \"C6H12O6\",\n",
    "    \"Sucrose\": \"C12H22O11\",\n",
    "    \"Carbon dioxide\": \"CO2\",\n",
    "    \"Carbon monoxide\": \"CO\",\n",
    "    \"Oxygen\": \"O2\",\n",
    "    \"Nitrogen\": \"N2\",\n",
    "    \"Ammonia\": \"NH3\",\n",
    "    \"Hydrogen peroxide\": \"H2O2\",\n",
    "    \"Acetic acid\": \"CH3COOH\",\n",
    "    \"Formaldehyde\": \"CH2O\",\n",
    "    \"Benzene\": \"C6H6\",\n",
    "    \"Phenol\": \"C6H5OH\",\n",
    "    \"Toluene\": \"C7H8\",\n",
    "    \"Acetone\": \"C3H6O\",\n",
    "    \"Butane\": \"C4H10\",\n",
    "    \"Isobutane\": \"C4H10\",\n",
    "    \"Propane\": \"C3H8\",\n",
    "    \"Pentane\": \"C5H12\",\n",
    "    \"Hexane\": \"C6H14\",\n",
    "    \"Heptane\": \"C7H16\",\n",
    "    \"Octane\": \"C8H18\",\n",
    "    \"Ethanediol (Ethylene glycol)\": \"C2H6O2\",\n",
    "    \"Glycerol\": \"C3H8O3\",\n",
    "    \"Nitric acid\": \"HNO3\",\n",
    "    \"Sulfuric acid\": \"H2SO4\",\n",
    "    \"Hydrochloric acid\": \"HCl\",\n",
    "    \"Sodium chloride (table salt)\": \"NaCl\",\n",
    "    \"Calcium carbonate\": \"CaCO3\",\n",
    "    \"Sodium bicarbonate (baking soda)\": \"NaHCO3\",\n",
    "    \"Sodium hydroxide\": \"NaOH\",\n",
    "    \"Potassium hydroxide\": \"KOH\",\n",
    "    \"Urea\": \"CH4N2O\",\n",
    "    \"Hydrogen cyanide\": \"HCN\",\n",
    "    \"Phosphoric acid\": \"H3PO4\",\n",
    "    \"Methanol\": \"CH3OH\",\n",
    "    \"Propionic acid\": \"C2H5COOH\",\n",
    "    \"Acetylene\": \"C2H2\",\n",
    "    \"Ethylene\": \"C2H4\",\n",
    "    \"Chloroform\": \"CHCl3\",\n",
    "    \"Caffeine\": \"C8H10N4O2\",\n",
    "    \"Citric acid\": \"C6H8O7\",\n",
    "    \"Lactic acid\": \"C3H6O3\",\n",
    "    \"Ascorbic acid (Vitamin C)\": \"C6H8O6\",\n",
    "    \"Aniline\": \"C6H5NH2\",\n",
    "    \"Formic acid\": \"HCOOH\",\n",
    "    \"Oxalic acid\": \"C2H2O4\",\n",
    "    \"Uric acid\": \"C5H4N4O3\"\n",
    "}"
   ]
  },
  {
   "cell_type": "markdown",
   "id": "b84a8813-4e4b-41b4-84e4-d8cb73e01b10",
   "metadata": {},
   "source": [
    "- Second, we pull a list of all compound names. As our solutions is stored in a dictionary, we will pull the keys of that dictionary: "
   ]
  },
  {
   "cell_type": "code",
   "execution_count": null,
   "id": "7d7ed0b2-518a-4e5a-8251-8a6b1e112608",
   "metadata": {},
   "outputs": [],
   "source": [
    "compounds = list(molecule_dict.keys())"
   ]
  },
  {
   "cell_type": "markdown",
   "id": "6181070f-830e-4af6-83f4-6d63a9e22d7d",
   "metadata": {},
   "source": [
    "- Third, we need to make a random choice that one of these compound names is prompted to the user. For that we will use `numpy.random`, which provides all sorts of functions for random distributions. Using the function `np.random.choice()` on the array of compounds, you'll see that you obtain a different compound every time you run the code below:"
   ]
  },
  {
   "cell_type": "code",
   "execution_count": null,
   "id": "9ef84d55-dd2e-4155-8024-3872a3732941",
   "metadata": {},
   "outputs": [],
   "source": [
    "import numpy as np\n",
    "\n",
    "compound = np.random.choice(compounds)\n",
    "\n",
    "print(compound)"
   ]
  },
  {
   "cell_type": "markdown",
   "id": "78357a49-358b-4ded-ac9d-4a7ca55b3162",
   "metadata": {},
   "source": [
    "- Fourth, after selection of a compound, we want to ask the user for input of the sum formula. For that we will use the built-in function `input()`:"
   ]
  },
  {
   "cell_type": "code",
   "execution_count": null,
   "id": "a6e0787c-45fa-4894-a170-dabeac0dc4a8",
   "metadata": {},
   "outputs": [],
   "source": [
    "sumformula = input('Sum Formula >')"
   ]
  },
  {
   "cell_type": "markdown",
   "id": "c28cc3b6-2e6a-4d42-9ac7-8c0a62bcee9f",
   "metadata": {},
   "source": [
    "- Last, we check if the user-input was correct using if clauses:"
   ]
  },
  {
   "cell_type": "code",
   "execution_count": null,
   "id": "c9105b39-1d8e-4ba1-a85a-c516c2a12423",
   "metadata": {},
   "outputs": [],
   "source": [
    "if molecule_dict[compound] == sumformula:\n",
    "    print('Correct!')\n",
    "else:\n",
    "    print('Wrong formula, the correct answer would have been:'\n",
    "          + str(molecule_dict[compound]))"
   ]
  },
  {
   "cell_type": "markdown",
   "id": "9391f0aa-82b4-4745-94ef-95d6c2ec710a",
   "metadata": {},
   "source": [
    "---\n",
    "**EXERCISE**\n",
    "\n",
    "Write a function (called `guess_sum_formula()`), which, when executed let's the user play the guess the sum formula game five times in a row, counting correct answers and when finished returns the score. \n",
    "\n",
    "---"
   ]
  },
  {
   "cell_type": "markdown",
   "id": "e85736b5-5593-4127-aea0-ec521ebbac01",
   "metadata": {},
   "source": [
    "## 1.5 The power of Numpy\n",
    "\n",
    "Now, we will explore the basics of NumPy and highlight how it compares to standard Python lists.\n",
    "\n",
    "To do so, we will use a library called `time`, which allows us to measure the computational time of certain code snipplets. "
   ]
  },
  {
   "cell_type": "code",
   "execution_count": null,
   "id": "67b65651-8a6b-46ce-bdaa-1821110ca4d9",
   "metadata": {},
   "outputs": [],
   "source": [
    "import time"
   ]
  },
  {
   "cell_type": "markdown",
   "id": "a5a8ed3c-74b8-41e4-8e27-cae572ca3bc2",
   "metadata": {},
   "source": [
    "### Creating NumPy Arrays and performance comparison\n",
    "\n",
    "NumPy arrays can be created from Python lists or generated using built-in functions.\n"
   ]
  },
  {
   "cell_type": "code",
   "execution_count": null,
   "id": "aeac7064-4307-4759-a9f8-76a791243106",
   "metadata": {},
   "outputs": [],
   "source": [
    "python_list = [1, 2, 3, 4, 5]\n",
    "numpy_array = np.array(python_list)\n",
    "print(\"Python List:\", python_list)\n",
    "print(\"NumPy Array:\", numpy_array)"
   ]
  },
  {
   "cell_type": "markdown",
   "id": "2bb59112-7cfe-4482-ba15-03be4a49f3b7",
   "metadata": {},
   "source": [
    "Generating an array of zeros:"
   ]
  },
  {
   "cell_type": "code",
   "execution_count": null,
   "id": "a8a480b3-dc9f-4fa6-8c9d-4067e707742d",
   "metadata": {},
   "outputs": [],
   "source": [
    "zeros_array = np.zeros(5)\n",
    "print(\"Array of Zeros:\", zeros_array)"
   ]
  },
  {
   "cell_type": "markdown",
   "id": "ebbb4a7d-4428-4da3-8a3f-3b800cc07ab6",
   "metadata": {},
   "source": [
    "Generating an array of evenly spaced values:"
   ]
  },
  {
   "cell_type": "code",
   "execution_count": null,
   "id": "8892bfb0-7aea-4c1e-88e0-bdfaf45d0a7a",
   "metadata": {},
   "outputs": [],
   "source": [
    "linspace_array = np.linspace(0, 1, 5)  # 5 values from 0 to 1\n",
    "print(\"Linspace Array:\", linspace_array)"
   ]
  },
  {
   "cell_type": "markdown",
   "id": "98103e4b-2785-4300-88ca-e8f330ef5c9f",
   "metadata": {},
   "source": [
    "Let's compare the performance of a simple operation: adding 1 to each element in a list/array.\n",
    "\n",
    "First, we define a large dataset: "
   ]
  },
  {
   "cell_type": "code",
   "execution_count": null,
   "id": "1ed4985c-a0a7-4b1b-a07e-208f82bb09d5",
   "metadata": {},
   "outputs": [],
   "source": [
    "size = 10**7\n",
    "python_list_large = list(range(size))\n",
    "numpy_array_large = np.arange(size)\n",
    "\n",
    "numpy_array_large"
   ]
  },
  {
   "cell_type": "markdown",
   "id": "e38eedaa-d167-4da9-8898-160b9eca71ac",
   "metadata": {},
   "source": [
    "Measure time for Python list"
   ]
  },
  {
   "cell_type": "code",
   "execution_count": null,
   "id": "6ea6d5ac-773e-473e-8468-b2ee28aba8a2",
   "metadata": {},
   "outputs": [],
   "source": [
    "start = time.time()\n",
    "python_list_result = [x + 1 for x in python_list_large]\n",
    "end = time.time()\n",
    "print(\"Time taken with Python list:\", end - start, \"seconds\")"
   ]
  },
  {
   "cell_type": "markdown",
   "id": "66d3397b-f5a3-4651-bd57-bcfe45265095",
   "metadata": {},
   "source": [
    "Measure time for NumPy array"
   ]
  },
  {
   "cell_type": "code",
   "execution_count": null,
   "id": "0b658c15-4df7-46f9-be37-7b4465aa29c7",
   "metadata": {},
   "outputs": [],
   "source": [
    "start = time.time()\n",
    "numpy_array_result = numpy_array_large + 1\n",
    "end = time.time()\n",
    "print(\"Time taken with NumPy array:\", end - start, \"seconds\")"
   ]
  },
  {
   "cell_type": "markdown",
   "id": "fe2a9996-80ea-4af1-b895-4b0a9e4ee07a",
   "metadata": {},
   "source": [
    "**It's more than 10 times faster!!!**"
   ]
  },
  {
   "cell_type": "markdown",
   "id": "2979be37-6f06-4937-acaa-79c6c48d6dcd",
   "metadata": {},
   "source": [
    "**NumPy offers powerful features such as:**\n",
    " - Efficient operations on large datasets\n",
    " - Broadcasting for arrays of different shapes\n",
    " - Easy-to-use mathematical functions\n",
    " - Advanced array manipulation capabilities\n",
    " - Simplified matrix mathematics"
   ]
  },
  {
   "cell_type": "markdown",
   "id": "2ddf2968-2893-4b72-9831-73291aed0c62",
   "metadata": {},
   "source": [
    "## 1.6 Reading and writing to files\n",
    "\n",
    "NumPy is the base module for most of our work, but now we will get to know another package which comes in even more handy for dataset manipulation and is very helpful for read-in datasets from files. \n",
    "\n",
    "This module is named **pandas**. \n",
    "\n",
    "### Read/write files with built-in functions\n",
    "\n",
    "First we have a look how python reads-in a file with built-in functions.\n",
    "\n",
    "In the same directory than our lecture we have a file named *molecule_dict.txt* . It contains the same list of molecules which we hard-coded in above as a dictionary. \n",
    "\n",
    "To open it with a buil-in function, we use `open()`, see its documentation [here](https://docs.python.org/3/library/functions.html#open)."
   ]
  },
  {
   "cell_type": "code",
   "execution_count": null,
   "id": "7bf678bd-1135-46dd-a92a-4c66a9dd5aa3",
   "metadata": {},
   "outputs": [],
   "source": [
    "file = open('molecules.txt', 'r')\n",
    "\n",
    "file"
   ]
  },
  {
   "cell_type": "markdown",
   "id": "c7bbacae-8f34-49b1-8af1-135878f6cccd",
   "metadata": {},
   "source": [
    "Apparently, open returns a file handle, i.e. a variable which stores the open file object, a `_io.TextIOWrpper`. As arguments it takes the name (the path) where the file is found and a second argument, which explains the mode the file is opened (`'r'` stands for read). \n",
    "\n",
    "Now we can loop over the content of the file, using our `for` loop and afterwards we close our file again with `file.close()` (this is important that we can start from scratch again when opening the file once again below):"
   ]
  },
  {
   "cell_type": "code",
   "execution_count": null,
   "id": "5a805331-f177-4a79-bb9a-f7da2cf4136f",
   "metadata": {},
   "outputs": [],
   "source": [
    "for line in file:\n",
    "    print(line)\n",
    "\n",
    "file.close()"
   ]
  },
  {
   "cell_type": "markdown",
   "id": "3a547b21-e992-4928-8531-efac53eef8c7",
   "metadata": {},
   "source": [
    "Now, we want to store that information in an array or a list, such that we can work with it as previously. \n",
    "\n",
    "For that we could just append every line to an numpy array which is empty at the beginning. "
   ]
  },
  {
   "cell_type": "code",
   "execution_count": null,
   "id": "faec4224-988d-4b15-855b-5c19ae018976",
   "metadata": {},
   "outputs": [],
   "source": [
    "file = open('molecules.txt', 'r')\n",
    "\n",
    "file_content = []\n",
    "\n",
    "for line in file:\n",
    "    file_content.append(line)\n",
    "\n",
    "file.close()\n",
    "\n",
    "file_content"
   ]
  },
  {
   "cell_type": "markdown",
   "id": "8e509e2d-99fe-405d-9665-8dbbcb555eaf",
   "metadata": {},
   "source": [
    "When inspecting the list, we see that the lines contain a newline character `'\\n'`, which also introduced the empty lines after each `print()` statement above. We should get rid of it. \n",
    "\n",
    "Moreover, like this we still haven't seperated the names of the molecules from the sumformulas. \n",
    "\n",
    "We will use the built-in method [`split()`](https://docs.python.org/3.3/library/stdtypes.html) for `str` to achieve both:"
   ]
  },
  {
   "cell_type": "code",
   "execution_count": null,
   "id": "f2ec941e-c96b-40e1-8beb-6f4defddfe68",
   "metadata": {},
   "outputs": [],
   "source": [
    "file = open('molecules.txt', 'r')\n",
    "\n",
    "names = []\n",
    "sum_formulas = []\n",
    "\n",
    "for line in file:\n",
    "    text_in_line = line.split('\\n')[0]\n",
    "    name, sum_formula = text_in_line.split(',')\n",
    "    names.append(name)\n",
    "    sum_formulas.append(sum_formula)\n",
    "\n",
    "file.close()\n",
    "\n",
    "names, sum_formulas"
   ]
  },
  {
   "cell_type": "markdown",
   "id": "3dc3f1fc-334b-411c-b2f6-47929dfce098",
   "metadata": {},
   "source": [
    "You see that now, the molecule names got separated from the sum formulas in two seperate lists, which can be easily combined into a dictionary again:"
   ]
  },
  {
   "cell_type": "code",
   "execution_count": null,
   "id": "571066ba-3d6b-4aae-9662-9c3cb75cb206",
   "metadata": {},
   "outputs": [],
   "source": [
    "molecule_dict = {n:s for n,s in zip(names, sum_formulas)}\n",
    "\n",
    "molecule_dict"
   ]
  },
  {
   "cell_type": "markdown",
   "id": "d2f6489b-87e0-4296-afc1-d0ec7fa1114a",
   "metadata": {},
   "source": [
    "Here, we get to know the built-in function `zip()` which iterates over several iterables in parallel, producing tuples with an item from each one. More details can be found [here](https://docs.python.org/3/library/functions.html#zip).\n",
    "\n",
    "### Pandas\n",
    "\n",
    "Now we want to combine the power of dictonaries with the power of numpy arrays, and the data type combining advantages of both are so-called Pandas DataFrames. \n",
    "\n",
    ">pandas is a fast, powerful, flexible and easy to use open source data analysis and manipulation tool, built on top of the Python programming language.\n",
    ">\n",
    ">\\-https://pandas.pydata.org/\n",
    "\n",
    "The pandas DataFrame is a fast and efficient object for data manipulation with integrated indexing. The advantage compared to a numpy array is that our data can structured into named columns and named indices, which facilitates better organization. \n",
    "\n",
    "To create a DataFrame with our data above, we construct a dictionary pointing to the list of names and list of sum formulas:"
   ]
  },
  {
   "cell_type": "code",
   "execution_count": null,
   "id": "00a711df-bd70-4177-9866-e1aa4783a484",
   "metadata": {},
   "outputs": [],
   "source": [
    "import pandas as pd  # pd is the most commonly used abbreviation for the pandas import\n",
    "\n",
    "dataset = {'name': names, 'sum formula': sum_formulas}\n",
    "\n",
    "df = pd.DataFrame(dataset)\n",
    "\n",
    "df"
   ]
  },
  {
   "cell_type": "markdown",
   "id": "4067504e-8a69-4a0e-9597-a252662071f9",
   "metadata": {},
   "source": [
    "We see that the pandas DataFrame is a beautifully structured Table with numbers representing the rows and named columns.\n",
    "\n",
    "This makes precise indexing much easier and more meaningful:"
   ]
  },
  {
   "cell_type": "code",
   "execution_count": null,
   "id": "48174519-029c-4e82-b054-0168673d44f8",
   "metadata": {},
   "outputs": [],
   "source": [
    "caffeine = df['sum formula'][42]\n",
    "\n",
    "caffeine"
   ]
  },
  {
   "cell_type": "markdown",
   "id": "2ae22e71-3d3c-406b-8998-b55709d7aadc",
   "metadata": {},
   "source": [
    "In practice we will mainly use the `.loc` method to slice and call subsets of the DataFrame: "
   ]
  },
  {
   "cell_type": "code",
   "execution_count": null,
   "id": "e5acf6ed-4497-4227-91e7-ca19a4122313",
   "metadata": {},
   "outputs": [],
   "source": [
    "caffeine = df.loc[42, 'sum formula']\n",
    "\n",
    "caffeine"
   ]
  },
  {
   "cell_type": "markdown",
   "id": "8530a06d-4b71-460b-8286-c1b9892aa7fa",
   "metadata": {},
   "source": [
    "This is because we still can use the indexing known from NumPy, which only goes after the position in the Table by using the `.iloc` method:"
   ]
  },
  {
   "cell_type": "code",
   "execution_count": null,
   "id": "d63dfb48-530f-45f4-b1d8-c2870dbd75e7",
   "metadata": {},
   "outputs": [],
   "source": [
    "caffeine = df.iloc[42, 1]\n",
    "\n",
    "caffeine"
   ]
  },
  {
   "cell_type": "markdown",
   "id": "78110b2c-692c-406e-9fce-558d23def47b",
   "metadata": {},
   "source": [
    "Pandas is really practical in handling tabulized data and it is also very handy to read files, such that we do not need the cumbersome built-in file read functionality:"
   ]
  },
  {
   "cell_type": "code",
   "execution_count": 2,
   "id": "1f8924ca-3501-4c2d-81ef-77f3f3a18cc6",
   "metadata": {},
   "outputs": [
    {
     "data": {
      "text/plain": [
       "'C8H10N4O2'"
      ]
     },
     "execution_count": 2,
     "metadata": {},
     "output_type": "execute_result"
    }
   ],
   "source": [
    "df2 = pd.read_csv('molecules.txt', names=['name', 'sum formula'])\n",
    "\n",
    "caffeine = df2.loc[42, 'sum formula']\n",
    "\n",
    "caffeine"
   ]
  },
  {
   "cell_type": "markdown",
   "id": "75bd79d7-41a2-4823-93bb-b8d9f607f8d4",
   "metadata": {},
   "source": [
    "**Pandas offers:**\n",
    "\n",
    "- Efficient data manipulation: Pandas provides powerful tools for filtering, aggregating, merging, reshaping, and cleaning data, enabling users to handle complex data transformation tasks with minimal code.\n",
    "- Versatile data integration: It supports reading and writing data from various file formats, such as CSV, Excel, SQL, and JSON, making it easy to integrate data from multiple sources into a single workflow.\n",
    "- Robust analytical capabilities: Pandas offers a wide range of built-in functions for descriptive statistics, time-series analysis, and data grouping, enabling comprehensive and detailed data exploration.\n",
    "- Optimized performance: Its underlying integration with NumPy allows pandas to handle large datasets efficiently, leveraging vectorized operations and optimized memory usage for speed and scalability."
   ]
  },
  {
   "cell_type": "markdown",
   "id": "2b555e1b-46f3-4365-99c7-0e7bb9c3694f",
   "metadata": {},
   "source": [
    "## 1.7 Data manipulation: a first example"
   ]
  },
  {
   "cell_type": "markdown",
   "id": "2c830ec6-c840-4f44-92d3-4bf31c730145",
   "metadata": {},
   "source": [
    "We now approach a first task to showcase the power of programming. \n",
    "\n",
    "So far we could read-in a file and structure the data within an object which seemed to be quite useful, the pandas DataFrame. We also explored how to do mathematical operations and to write a little user-interactive program. But now we will start to manipulate (i.e. work on) some data such that we can use them in a different context and for different targets. \n",
    "\n",
    "We start with our *molecule.txt* file, where we just have a list of molecule names and their sum formulas. Now we want to extract the chemical composition from these sum formulas such that we can use them, i.e. we could only pick moelcules from our data set which contain at least one carbon atom (i.e. all organic molecules).\n",
    "\n",
    "### Regular expressions\n",
    "\n",
    "To do that we first need to transform the string representing the sum formula into a dictionary which gives the element and its abundance within that molecule. We will use regular expressions for that. Regular expressions are patterns used to match and manipulate text. They are incredibly powerful for tasks like:\n",
    "- Searching for patterns in text.\n",
    "- Extracting specific parts of a string.\n",
    "- Replacing or modifying text based on patterns.\n",
    "  \n",
    "Common use cases for regular expressions are:\n",
    "- Validation: Check if a string follows a specific format (e.g., email addresses, phone numbers).\n",
    "- Extraction: Extract meaningful parts from text (e.g., dates, URLs, or chemical formulas).\n",
    "- Search and Replace: Replace parts of a string that match a pattern.\n",
    "\n",
    "The `re` library provides very useful methods to find and replace regular expressions. "
   ]
  },
  {
   "cell_type": "code",
   "execution_count": null,
   "id": "834e20a6-7fb4-42f0-98b3-f01bb04cce59",
   "metadata": {},
   "outputs": [],
   "source": [
    "import re"
   ]
  },
  {
   "cell_type": "markdown",
   "id": "0ab75bbf-ea48-43ff-8f96-c0f7f0c6758d",
   "metadata": {},
   "source": [
    "Let's start with building a regular expression, which is done by defining a string with a leading `r` and we can the use `re.search` to find the first occurrence and `re.findall()` to find all occurrences of the regular expression in a string:"
   ]
  },
  {
   "cell_type": "code",
   "execution_count": null,
   "id": "3e8b3a47-920b-461e-9c7e-a06347acfb3d",
   "metadata": {},
   "outputs": [],
   "source": [
    "pattern = r\"[A-Z]\"\n",
    "string = \"ahjdcdsacMcdsajkB\"\n",
    "first_capital_letter = re.findall(pattern, string)\n",
    "first_capital_letter[0]"
   ]
  },
  {
   "cell_type": "markdown",
   "id": "d62fcb84-5bdb-4f91-b97d-4f8ee0151c42",
   "metadata": {},
   "source": [
    "The regular expression `[A-Z]` identifies any capital letter from A-Z and hence the `re.findall` method returns the matches with that regular expression. \n",
    "\n",
    "Other regular expressions exist: \n",
    "\n",
    "- `[abc]` matches any one character that is either 'a', 'b', or 'c'.\n",
    "- `[a-z]` matches any one lowercase letter from 'a' to 'z'.\n",
    "- `[0-9]` matches any one digit from '0' to '9'. Optionaly, use \\d metacharacter.\n",
    "- `[^abc]` matches any one character that is not 'a', 'b', or 'c'.\n",
    "- `[\\w]` matches any one-word character, including letters, digits, and underscore.\n",
    "- `[\\s]` matches any whitespace character, including space, tab, and newline.\n",
    "- `*` matches zero or more of the preceding character.\n",
    "- `(...)` captures parts of the match for later use.\n",
    "\n",
    "With that we can built a pattern which matches the structure of an element with a following number of its occurrences:"
   ]
  },
  {
   "cell_type": "code",
   "execution_count": null,
   "id": "d74a221b-a2d4-4161-b336-37b21d8061b6",
   "metadata": {},
   "outputs": [],
   "source": [
    "pattern = r\"([A-Z][a-z]*)([0-9]*)\"\n",
    "\n",
    "elements = re.findall(pattern, caffeine)\n",
    "\n",
    "for i in range(len(elements)):\n",
    "    print(elements[i])"
   ]
  },
  {
   "cell_type": "markdown",
   "id": "ec936fbe-56d7-4d40-ac84-e098958d8d0b",
   "metadata": {},
   "source": [
    "#### Expanding a pandas DataFrame \n",
    "\n",
    "That worked. Let's now use this to expand our pandas DataFrame of molecule names and molecule sum formulas with columns indicating the abundances of different elements. \n",
    "\n",
    "Let's first introduce a way how to loop over the rows in a DataFrame, using `df.index`:"
   ]
  },
  {
   "cell_type": "code",
   "execution_count": null,
   "id": "afc81ee8-1880-430f-8583-f00203dbb855",
   "metadata": {},
   "outputs": [],
   "source": [
    "import pandas as pd\n",
    "\n",
    "df = pd.read_csv('molecules.txt', names=['name', 'sum formula'])\n",
    "pattern = r\"([A-Z][a-z]*)([0-9]*)\"\n",
    "\n",
    "for idx in df.index:    \n",
    "    parsed = re.findall(pattern, df.loc[idx, 'sum formula'])\n",
    "    for element in parsed:\n",
    "        print(element)"
   ]
  },
  {
   "cell_type": "markdown",
   "id": "d8736c5d-da30-442c-8d0f-8b8f977bd923",
   "metadata": {},
   "source": [
    "Now, we create a new column for each element with the element symbol as header and containing its abundance per molecule. \n",
    "\n",
    "To do so, we need to check if the element-column already has been created whenever a new row is called and the sum formula disentengled, and create it if it wasn't done so far. We will use `df.columns` to access the columns of the DataFrame. "
   ]
  },
  {
   "cell_type": "code",
   "execution_count": null,
   "id": "4f0a4c38-6a6a-4f58-b1c1-72fc8fdc0ac0",
   "metadata": {},
   "outputs": [],
   "source": [
    "import pandas as pd\n",
    "\n",
    "df = pd.read_csv('molecules.txt', names=['name', 'sum formula'])\n",
    "pattern = r\"([A-Z][a-z]*)([0-9]*)\"\n",
    "\n",
    "for idx in df.index:    \n",
    "    parsed = re.findall(pattern, df.loc[idx, 'sum formula'])\n",
    "    for element in parsed:\n",
    "        if element[0] not in df.columns:\n",
    "            df[element[0]] = 0\n",
    "\n",
    "df"
   ]
  },
  {
   "cell_type": "markdown",
   "id": "a9d89001-8017-4424-a0dd-c4398f8416a6",
   "metadata": {},
   "source": [
    "And the last step is to fill each of the entries directly with the count of the disentengled sum formula (careful, our regular expression returned an empty string if the count is actually 1):"
   ]
  },
  {
   "cell_type": "code",
   "execution_count": null,
   "id": "68d58c2e-6bad-4a4e-9f47-5184b69aeacb",
   "metadata": {},
   "outputs": [],
   "source": [
    "import pandas as pd\n",
    "\n",
    "df = pd.read_csv('molecules.txt', names=['name', 'sum formula'])\n",
    "pattern = r\"([A-Z][a-z]*)([0-9]*)\"\n",
    "\n",
    "for idx in df.index:    \n",
    "    parsed = re.findall(pattern, df.loc[idx, 'sum formula'])\n",
    "    for element in parsed:\n",
    "        if element[0] not in df.columns:\n",
    "                df[element[0]] = 0\n",
    "        if element[1] == '':\n",
    "            df.loc[idx, element[0]] = 1\n",
    "        else:\n",
    "            df.loc[idx, element[0]] = int(element[1])\n",
    "\n",
    "df"
   ]
  },
  {
   "cell_type": "markdown",
   "id": "330f2c10-4e53-4d11-8793-2a9d3d56982b",
   "metadata": {},
   "source": [
    "#### Slicing a pandas DataFrame: Data selection/reduction\n",
    "\n",
    "And now we can finally slice our DataFrame such that we reduce it to only organics (i.e. somethind with `df['C']>0`), which is an extremly simple operation in pandas. "
   ]
  },
  {
   "cell_type": "code",
   "execution_count": null,
   "id": "849b06ba-9999-4d07-a833-f2f8eab5422e",
   "metadata": {},
   "outputs": [],
   "source": [
    "organics = df.loc[df['C']>0, :]\n",
    "\n",
    "organics"
   ]
  },
  {
   "cell_type": "markdown",
   "id": "cc46509e-5e2a-4e57-9ee9-0d691d529743",
   "metadata": {},
   "source": [
    "As boolean statements can be combined, we can also slice the DataFrame on combinations of conditions:"
   ]
  },
  {
   "cell_type": "code",
   "execution_count": null,
   "id": "e1f07773-b4ef-4651-bf5d-d53cf0c2961a",
   "metadata": {},
   "outputs": [],
   "source": [
    "ox_organics = df.loc[(df['C']>0) & (df['O']>0), :]\n",
    "\n",
    "ox_organics"
   ]
  },
  {
   "cell_type": "markdown",
   "id": "493acd22-3fe0-41ad-b30c-2b3359d53b3f",
   "metadata": {},
   "source": [
    "Here the `&` operator ([bitwise AND](https://www.geeksforgeeks.org/difference-between-and-and-in-python/)) to make sure that only if both statements in are true in each row, that row is sliced into the final DataFrame. Similarily, the `|` is the bitewise equivalent for OR. "
   ]
  }
 ],
 "metadata": {
  "kernelspec": {
   "display_name": "Python 3",
   "language": "python",
   "name": "python3"
  },
  "language_info": {
   "codemirror_mode": {
    "name": "ipython",
    "version": 3
   },
   "file_extension": ".py",
   "mimetype": "text/x-python",
   "name": "python",
   "nbconvert_exporter": "python",
   "pygments_lexer": "ipython3",
   "version": "3.11.10"
  }
 },
 "nbformat": 4,
 "nbformat_minor": 5
}

{
 "cells": [
  {
   "cell_type": "markdown",
   "id": "93e638cd-b23f-448d-84ed-33b095a9cf9a",
   "metadata": {},
   "source": [
    "# Lecture 6: Principle Component Analysis and Factor Analysis"
   ]
  },
  {
   "cell_type": "markdown",
   "id": "6eb7b187-0bb9-4c07-92b9-bf81e9d955d3",
   "metadata": {},
   "source": [
    "In data science we explicity often deal with **multivariate** data, that means we have many observables which are often in relation with each other. \n",
    "\n",
    "We already explored how correlation between different variables can give us a hint on how the different variables depend on each other and we have also looked into non-linear relationships. \n",
    "However, data science often deals with datasets which are so large and contain so many different variables, that it is impossible to obtain meaningful predictors from individual variable correlations. \n",
    "\n",
    "The key against this problem is **dimensionality reduction**. "
   ]
  },
  {
   "cell_type": "markdown",
   "id": "e25ad3a1-7615-4ddf-ad60-0fa2f4fe6401",
   "metadata": {},
   "source": [
    "## 6.1 Why dimensionality reduction?"
   ]
  },
  {
   "cell_type": "markdown",
   "id": "54d1a10f-b1e6-4381-947c-32f5afed8026",
   "metadata": {},
   "source": [
    "With a large number of variables, the covariance matrix may be too large to study and interpret properly. There would be too many pairwise correlations between the variables to consider. Graphical displays may also not be particularly helpful when the data set is very large. With 12 variables, for example, there will be more than 200 three-dimensional scatterplots."
   ]
  },
  {
   "cell_type": "markdown",
   "id": "b1817e1f-9c14-4025-a877-c0ccf6172bf7",
   "metadata": {},
   "source": [
    "**The covariance matrix**\n",
    "\n",
    "Let's recall what the *covariance matrix* of a dataset expresses. We take the dataset of trace gases, aerosol measurements and meteorolgical data measured in Helsinki from 2016-2024 as our example. Let's load the data first and compute the *covariance matrix*: "
   ]
  },
  {
   "cell_type": "code",
   "id": "70297b24-8b3f-4a6e-814f-1871e4d109ee",
   "metadata": {
    "ExecuteTime": {
     "end_time": "2025-05-27T07:55:56.175636Z",
     "start_time": "2025-05-27T07:55:55.634583Z"
    }
   },
   "source": [
    "import pandas as pd\n",
    "\n",
    "met = pd.read_csv('./smeardata_meteorology_20250521.csv', na_values='NaN')\n",
    "rad = pd.read_csv('./smeardata_radiation_20250516.csv', na_values='NaN')\n",
    "aer = pd.read_csv('./smeardata_aerosol_20250516.csv', na_values='NaN')\n",
    "gas = pd.read_csv('./smeardata_tracegases_20250516.csv', na_values='NaN')\n",
    "\n",
    "hel = pd.concat([met, rad.iloc[:, 6:], aer.iloc[:, 6:], gas.iloc[:, 6:]], axis=1)\n",
    "hel['time'] = pd.to_datetime(hel[['Year', 'Month', 'Day', 'Hour', 'Minute']])\n",
    "hel.set_index('time', drop=True, inplace=True)\n",
    "hel.drop(['Year', 'Month', 'Day', 'Hour', 'Minute','Second'], axis=1, inplace=True)\n",
    "\n",
    "hel.cov()"
   ],
   "outputs": [
    {
     "data": {
      "text/plain": [
       "                          KUM_META.t   KUM_META.rh  KUM_META.Tower_GLOB_32m  \\\n",
       "KUM_META.t                 77.300344    -58.965617               812.594310   \n",
       "KUM_META.rh               -58.965617    315.723179             -2021.057614   \n",
       "KUM_META.Tower_GLOB_32m   812.594310  -2021.057614             40740.178166   \n",
       "KUM_META.PM10_TEOM          7.614999    -41.018475               281.902870   \n",
       "KUM_META.BC_MAAP         -318.337433    289.202392             -3611.786104   \n",
       "KUM_META.cn             -1016.151680 -10333.304020             78423.754518   \n",
       "KUM_META.PM25_TEOM         -1.686195      1.629179               -22.968384   \n",
       "KUM_META.NO_x             -19.871928     13.961550               -92.536644   \n",
       "KUM_META.O_3               28.994623    -98.782442               770.786717   \n",
       "KUM_META.SO_2              -0.567767     -1.399511                21.286225   \n",
       "KUM_META.NO                -8.852719      3.837123                31.390301   \n",
       "KUM_META.CO              -286.296610    160.406598             -2524.334492   \n",
       "\n",
       "                         KUM_META.PM10_TEOM  KUM_META.BC_MAAP   KUM_META.cn  \\\n",
       "KUM_META.t                         7.614999       -318.337433 -1.016152e+03   \n",
       "KUM_META.rh                      -41.018475        289.202392 -1.033330e+04   \n",
       "KUM_META.Tower_GLOB_32m          281.902870      -3611.786104  7.842375e+04   \n",
       "KUM_META.PM10_TEOM               740.617163       1304.652727  9.898632e+03   \n",
       "KUM_META.BC_MAAP                1304.652727     150557.457403  4.226317e+05   \n",
       "KUM_META.cn                     9898.631637     422631.662634  9.539465e+06   \n",
       "KUM_META.PM25_TEOM               756.168965        678.077357  3.506777e+03   \n",
       "KUM_META.NO_x                     33.623082       1928.582372  2.126002e+04   \n",
       "KUM_META.O_3                       7.139398       -803.911331 -7.982521e+03   \n",
       "KUM_META.SO_2                      0.890502         32.652220  5.888546e+02   \n",
       "KUM_META.NO                       15.400283       1259.696644  1.177414e+04   \n",
       "KUM_META.CO                      153.322586       9673.291473  6.509709e+04   \n",
       "\n",
       "                         KUM_META.PM25_TEOM  KUM_META.NO_x  KUM_META.O_3  \\\n",
       "KUM_META.t                        -1.686195     -19.871928     28.994623   \n",
       "KUM_META.rh                        1.629179      13.961550    -98.782442   \n",
       "KUM_META.Tower_GLOB_32m          -22.968384     -92.536644    770.786717   \n",
       "KUM_META.PM10_TEOM               756.168965      33.623082      7.139398   \n",
       "KUM_META.BC_MAAP                 678.077357    1928.582372   -803.911331   \n",
       "KUM_META.cn                     3506.777118   21260.017330  -7982.520539   \n",
       "KUM_META.PM25_TEOM               829.288074      16.681072     -2.438280   \n",
       "KUM_META.NO_x                     16.681072     120.310627    -47.418831   \n",
       "KUM_META.O_3                      -2.438280     -47.418831    108.555787   \n",
       "KUM_META.SO_2                      0.274942       1.437749      0.067272   \n",
       "KUM_META.NO                        7.650788      75.930422    -20.890247   \n",
       "KUM_META.CO                      105.469704     368.334300   -208.245772   \n",
       "\n",
       "                         KUM_META.SO_2   KUM_META.NO   KUM_META.CO  \n",
       "KUM_META.t                   -0.567767     -8.852719   -286.296610  \n",
       "KUM_META.rh                  -1.399511      3.837123    160.406598  \n",
       "KUM_META.Tower_GLOB_32m      21.286225     31.390301  -2524.334492  \n",
       "KUM_META.PM10_TEOM            0.890502     15.400283    153.322586  \n",
       "KUM_META.BC_MAAP             32.652220   1259.696644   9673.291473  \n",
       "KUM_META.cn                 588.854555  11774.138731  65097.088343  \n",
       "KUM_META.PM25_TEOM            0.274942      7.650788    105.469704  \n",
       "KUM_META.NO_x                 1.437749     75.930422    368.334300  \n",
       "KUM_META.O_3                  0.067272    -20.890247   -208.245772  \n",
       "KUM_META.SO_2                 0.946346      0.736439      7.013071  \n",
       "KUM_META.NO                   0.736439     57.260623    210.368659  \n",
       "KUM_META.CO                   7.013071    210.368659   3333.597733  "
      ],
      "text/html": [
       "<div>\n",
       "<style scoped>\n",
       "    .dataframe tbody tr th:only-of-type {\n",
       "        vertical-align: middle;\n",
       "    }\n",
       "\n",
       "    .dataframe tbody tr th {\n",
       "        vertical-align: top;\n",
       "    }\n",
       "\n",
       "    .dataframe thead th {\n",
       "        text-align: right;\n",
       "    }\n",
       "</style>\n",
       "<table border=\"1\" class=\"dataframe\">\n",
       "  <thead>\n",
       "    <tr style=\"text-align: right;\">\n",
       "      <th></th>\n",
       "      <th>KUM_META.t</th>\n",
       "      <th>KUM_META.rh</th>\n",
       "      <th>KUM_META.Tower_GLOB_32m</th>\n",
       "      <th>KUM_META.PM10_TEOM</th>\n",
       "      <th>KUM_META.BC_MAAP</th>\n",
       "      <th>KUM_META.cn</th>\n",
       "      <th>KUM_META.PM25_TEOM</th>\n",
       "      <th>KUM_META.NO_x</th>\n",
       "      <th>KUM_META.O_3</th>\n",
       "      <th>KUM_META.SO_2</th>\n",
       "      <th>KUM_META.NO</th>\n",
       "      <th>KUM_META.CO</th>\n",
       "    </tr>\n",
       "  </thead>\n",
       "  <tbody>\n",
       "    <tr>\n",
       "      <th>KUM_META.t</th>\n",
       "      <td>77.300344</td>\n",
       "      <td>-58.965617</td>\n",
       "      <td>812.594310</td>\n",
       "      <td>7.614999</td>\n",
       "      <td>-318.337433</td>\n",
       "      <td>-1.016152e+03</td>\n",
       "      <td>-1.686195</td>\n",
       "      <td>-19.871928</td>\n",
       "      <td>28.994623</td>\n",
       "      <td>-0.567767</td>\n",
       "      <td>-8.852719</td>\n",
       "      <td>-286.296610</td>\n",
       "    </tr>\n",
       "    <tr>\n",
       "      <th>KUM_META.rh</th>\n",
       "      <td>-58.965617</td>\n",
       "      <td>315.723179</td>\n",
       "      <td>-2021.057614</td>\n",
       "      <td>-41.018475</td>\n",
       "      <td>289.202392</td>\n",
       "      <td>-1.033330e+04</td>\n",
       "      <td>1.629179</td>\n",
       "      <td>13.961550</td>\n",
       "      <td>-98.782442</td>\n",
       "      <td>-1.399511</td>\n",
       "      <td>3.837123</td>\n",
       "      <td>160.406598</td>\n",
       "    </tr>\n",
       "    <tr>\n",
       "      <th>KUM_META.Tower_GLOB_32m</th>\n",
       "      <td>812.594310</td>\n",
       "      <td>-2021.057614</td>\n",
       "      <td>40740.178166</td>\n",
       "      <td>281.902870</td>\n",
       "      <td>-3611.786104</td>\n",
       "      <td>7.842375e+04</td>\n",
       "      <td>-22.968384</td>\n",
       "      <td>-92.536644</td>\n",
       "      <td>770.786717</td>\n",
       "      <td>21.286225</td>\n",
       "      <td>31.390301</td>\n",
       "      <td>-2524.334492</td>\n",
       "    </tr>\n",
       "    <tr>\n",
       "      <th>KUM_META.PM10_TEOM</th>\n",
       "      <td>7.614999</td>\n",
       "      <td>-41.018475</td>\n",
       "      <td>281.902870</td>\n",
       "      <td>740.617163</td>\n",
       "      <td>1304.652727</td>\n",
       "      <td>9.898632e+03</td>\n",
       "      <td>756.168965</td>\n",
       "      <td>33.623082</td>\n",
       "      <td>7.139398</td>\n",
       "      <td>0.890502</td>\n",
       "      <td>15.400283</td>\n",
       "      <td>153.322586</td>\n",
       "    </tr>\n",
       "    <tr>\n",
       "      <th>KUM_META.BC_MAAP</th>\n",
       "      <td>-318.337433</td>\n",
       "      <td>289.202392</td>\n",
       "      <td>-3611.786104</td>\n",
       "      <td>1304.652727</td>\n",
       "      <td>150557.457403</td>\n",
       "      <td>4.226317e+05</td>\n",
       "      <td>678.077357</td>\n",
       "      <td>1928.582372</td>\n",
       "      <td>-803.911331</td>\n",
       "      <td>32.652220</td>\n",
       "      <td>1259.696644</td>\n",
       "      <td>9673.291473</td>\n",
       "    </tr>\n",
       "    <tr>\n",
       "      <th>KUM_META.cn</th>\n",
       "      <td>-1016.151680</td>\n",
       "      <td>-10333.304020</td>\n",
       "      <td>78423.754518</td>\n",
       "      <td>9898.631637</td>\n",
       "      <td>422631.662634</td>\n",
       "      <td>9.539465e+06</td>\n",
       "      <td>3506.777118</td>\n",
       "      <td>21260.017330</td>\n",
       "      <td>-7982.520539</td>\n",
       "      <td>588.854555</td>\n",
       "      <td>11774.138731</td>\n",
       "      <td>65097.088343</td>\n",
       "    </tr>\n",
       "    <tr>\n",
       "      <th>KUM_META.PM25_TEOM</th>\n",
       "      <td>-1.686195</td>\n",
       "      <td>1.629179</td>\n",
       "      <td>-22.968384</td>\n",
       "      <td>756.168965</td>\n",
       "      <td>678.077357</td>\n",
       "      <td>3.506777e+03</td>\n",
       "      <td>829.288074</td>\n",
       "      <td>16.681072</td>\n",
       "      <td>-2.438280</td>\n",
       "      <td>0.274942</td>\n",
       "      <td>7.650788</td>\n",
       "      <td>105.469704</td>\n",
       "    </tr>\n",
       "    <tr>\n",
       "      <th>KUM_META.NO_x</th>\n",
       "      <td>-19.871928</td>\n",
       "      <td>13.961550</td>\n",
       "      <td>-92.536644</td>\n",
       "      <td>33.623082</td>\n",
       "      <td>1928.582372</td>\n",
       "      <td>2.126002e+04</td>\n",
       "      <td>16.681072</td>\n",
       "      <td>120.310627</td>\n",
       "      <td>-47.418831</td>\n",
       "      <td>1.437749</td>\n",
       "      <td>75.930422</td>\n",
       "      <td>368.334300</td>\n",
       "    </tr>\n",
       "    <tr>\n",
       "      <th>KUM_META.O_3</th>\n",
       "      <td>28.994623</td>\n",
       "      <td>-98.782442</td>\n",
       "      <td>770.786717</td>\n",
       "      <td>7.139398</td>\n",
       "      <td>-803.911331</td>\n",
       "      <td>-7.982521e+03</td>\n",
       "      <td>-2.438280</td>\n",
       "      <td>-47.418831</td>\n",
       "      <td>108.555787</td>\n",
       "      <td>0.067272</td>\n",
       "      <td>-20.890247</td>\n",
       "      <td>-208.245772</td>\n",
       "    </tr>\n",
       "    <tr>\n",
       "      <th>KUM_META.SO_2</th>\n",
       "      <td>-0.567767</td>\n",
       "      <td>-1.399511</td>\n",
       "      <td>21.286225</td>\n",
       "      <td>0.890502</td>\n",
       "      <td>32.652220</td>\n",
       "      <td>5.888546e+02</td>\n",
       "      <td>0.274942</td>\n",
       "      <td>1.437749</td>\n",
       "      <td>0.067272</td>\n",
       "      <td>0.946346</td>\n",
       "      <td>0.736439</td>\n",
       "      <td>7.013071</td>\n",
       "    </tr>\n",
       "    <tr>\n",
       "      <th>KUM_META.NO</th>\n",
       "      <td>-8.852719</td>\n",
       "      <td>3.837123</td>\n",
       "      <td>31.390301</td>\n",
       "      <td>15.400283</td>\n",
       "      <td>1259.696644</td>\n",
       "      <td>1.177414e+04</td>\n",
       "      <td>7.650788</td>\n",
       "      <td>75.930422</td>\n",
       "      <td>-20.890247</td>\n",
       "      <td>0.736439</td>\n",
       "      <td>57.260623</td>\n",
       "      <td>210.368659</td>\n",
       "    </tr>\n",
       "    <tr>\n",
       "      <th>KUM_META.CO</th>\n",
       "      <td>-286.296610</td>\n",
       "      <td>160.406598</td>\n",
       "      <td>-2524.334492</td>\n",
       "      <td>153.322586</td>\n",
       "      <td>9673.291473</td>\n",
       "      <td>6.509709e+04</td>\n",
       "      <td>105.469704</td>\n",
       "      <td>368.334300</td>\n",
       "      <td>-208.245772</td>\n",
       "      <td>7.013071</td>\n",
       "      <td>210.368659</td>\n",
       "      <td>3333.597733</td>\n",
       "    </tr>\n",
       "  </tbody>\n",
       "</table>\n",
       "</div>"
      ]
     },
     "execution_count": 3,
     "metadata": {},
     "output_type": "execute_result"
    }
   ],
   "execution_count": 3
  },
  {
   "cell_type": "code",
   "id": "6599ea28-f2c8-451c-b900-1c845ea2dd38",
   "metadata": {
    "ExecuteTime": {
     "end_time": "2025-05-27T08:27:11.587428Z",
     "start_time": "2025-05-27T08:27:11.537338Z"
    }
   },
   "source": "hel.cov()\n",
   "outputs": [
    {
     "data": {
      "text/plain": [
       "                          KUM_META.t   KUM_META.rh  KUM_META.Tower_GLOB_32m  \\\n",
       "KUM_META.t                 77.300344    -58.965617               812.594310   \n",
       "KUM_META.rh               -58.965617    315.723179             -2021.057614   \n",
       "KUM_META.Tower_GLOB_32m   812.594310  -2021.057614             40740.178166   \n",
       "KUM_META.PM10_TEOM          7.614999    -41.018475               281.902870   \n",
       "KUM_META.BC_MAAP         -318.337433    289.202392             -3611.786104   \n",
       "KUM_META.cn             -1016.151680 -10333.304020             78423.754518   \n",
       "KUM_META.PM25_TEOM         -1.686195      1.629179               -22.968384   \n",
       "KUM_META.NO_x             -19.871928     13.961550               -92.536644   \n",
       "KUM_META.O_3               28.994623    -98.782442               770.786717   \n",
       "KUM_META.SO_2              -0.567767     -1.399511                21.286225   \n",
       "KUM_META.NO                -8.852719      3.837123                31.390301   \n",
       "KUM_META.CO              -286.296610    160.406598             -2524.334492   \n",
       "\n",
       "                         KUM_META.PM10_TEOM  KUM_META.BC_MAAP   KUM_META.cn  \\\n",
       "KUM_META.t                         7.614999       -318.337433 -1.016152e+03   \n",
       "KUM_META.rh                      -41.018475        289.202392 -1.033330e+04   \n",
       "KUM_META.Tower_GLOB_32m          281.902870      -3611.786104  7.842375e+04   \n",
       "KUM_META.PM10_TEOM               740.617163       1304.652727  9.898632e+03   \n",
       "KUM_META.BC_MAAP                1304.652727     150557.457403  4.226317e+05   \n",
       "KUM_META.cn                     9898.631637     422631.662634  9.539465e+06   \n",
       "KUM_META.PM25_TEOM               756.168965        678.077357  3.506777e+03   \n",
       "KUM_META.NO_x                     33.623082       1928.582372  2.126002e+04   \n",
       "KUM_META.O_3                       7.139398       -803.911331 -7.982521e+03   \n",
       "KUM_META.SO_2                      0.890502         32.652220  5.888546e+02   \n",
       "KUM_META.NO                       15.400283       1259.696644  1.177414e+04   \n",
       "KUM_META.CO                      153.322586       9673.291473  6.509709e+04   \n",
       "\n",
       "                         KUM_META.PM25_TEOM  KUM_META.NO_x  KUM_META.O_3  \\\n",
       "KUM_META.t                        -1.686195     -19.871928     28.994623   \n",
       "KUM_META.rh                        1.629179      13.961550    -98.782442   \n",
       "KUM_META.Tower_GLOB_32m          -22.968384     -92.536644    770.786717   \n",
       "KUM_META.PM10_TEOM               756.168965      33.623082      7.139398   \n",
       "KUM_META.BC_MAAP                 678.077357    1928.582372   -803.911331   \n",
       "KUM_META.cn                     3506.777118   21260.017330  -7982.520539   \n",
       "KUM_META.PM25_TEOM               829.288074      16.681072     -2.438280   \n",
       "KUM_META.NO_x                     16.681072     120.310627    -47.418831   \n",
       "KUM_META.O_3                      -2.438280     -47.418831    108.555787   \n",
       "KUM_META.SO_2                      0.274942       1.437749      0.067272   \n",
       "KUM_META.NO                        7.650788      75.930422    -20.890247   \n",
       "KUM_META.CO                      105.469704     368.334300   -208.245772   \n",
       "\n",
       "                         KUM_META.SO_2   KUM_META.NO   KUM_META.CO  \n",
       "KUM_META.t                   -0.567767     -8.852719   -286.296610  \n",
       "KUM_META.rh                  -1.399511      3.837123    160.406598  \n",
       "KUM_META.Tower_GLOB_32m      21.286225     31.390301  -2524.334492  \n",
       "KUM_META.PM10_TEOM            0.890502     15.400283    153.322586  \n",
       "KUM_META.BC_MAAP             32.652220   1259.696644   9673.291473  \n",
       "KUM_META.cn                 588.854555  11774.138731  65097.088343  \n",
       "KUM_META.PM25_TEOM            0.274942      7.650788    105.469704  \n",
       "KUM_META.NO_x                 1.437749     75.930422    368.334300  \n",
       "KUM_META.O_3                  0.067272    -20.890247   -208.245772  \n",
       "KUM_META.SO_2                 0.946346      0.736439      7.013071  \n",
       "KUM_META.NO                   0.736439     57.260623    210.368659  \n",
       "KUM_META.CO                   7.013071    210.368659   3333.597733  "
      ],
      "text/html": [
       "<div>\n",
       "<style scoped>\n",
       "    .dataframe tbody tr th:only-of-type {\n",
       "        vertical-align: middle;\n",
       "    }\n",
       "\n",
       "    .dataframe tbody tr th {\n",
       "        vertical-align: top;\n",
       "    }\n",
       "\n",
       "    .dataframe thead th {\n",
       "        text-align: right;\n",
       "    }\n",
       "</style>\n",
       "<table border=\"1\" class=\"dataframe\">\n",
       "  <thead>\n",
       "    <tr style=\"text-align: right;\">\n",
       "      <th></th>\n",
       "      <th>KUM_META.t</th>\n",
       "      <th>KUM_META.rh</th>\n",
       "      <th>KUM_META.Tower_GLOB_32m</th>\n",
       "      <th>KUM_META.PM10_TEOM</th>\n",
       "      <th>KUM_META.BC_MAAP</th>\n",
       "      <th>KUM_META.cn</th>\n",
       "      <th>KUM_META.PM25_TEOM</th>\n",
       "      <th>KUM_META.NO_x</th>\n",
       "      <th>KUM_META.O_3</th>\n",
       "      <th>KUM_META.SO_2</th>\n",
       "      <th>KUM_META.NO</th>\n",
       "      <th>KUM_META.CO</th>\n",
       "    </tr>\n",
       "  </thead>\n",
       "  <tbody>\n",
       "    <tr>\n",
       "      <th>KUM_META.t</th>\n",
       "      <td>77.300344</td>\n",
       "      <td>-58.965617</td>\n",
       "      <td>812.594310</td>\n",
       "      <td>7.614999</td>\n",
       "      <td>-318.337433</td>\n",
       "      <td>-1.016152e+03</td>\n",
       "      <td>-1.686195</td>\n",
       "      <td>-19.871928</td>\n",
       "      <td>28.994623</td>\n",
       "      <td>-0.567767</td>\n",
       "      <td>-8.852719</td>\n",
       "      <td>-286.296610</td>\n",
       "    </tr>\n",
       "    <tr>\n",
       "      <th>KUM_META.rh</th>\n",
       "      <td>-58.965617</td>\n",
       "      <td>315.723179</td>\n",
       "      <td>-2021.057614</td>\n",
       "      <td>-41.018475</td>\n",
       "      <td>289.202392</td>\n",
       "      <td>-1.033330e+04</td>\n",
       "      <td>1.629179</td>\n",
       "      <td>13.961550</td>\n",
       "      <td>-98.782442</td>\n",
       "      <td>-1.399511</td>\n",
       "      <td>3.837123</td>\n",
       "      <td>160.406598</td>\n",
       "    </tr>\n",
       "    <tr>\n",
       "      <th>KUM_META.Tower_GLOB_32m</th>\n",
       "      <td>812.594310</td>\n",
       "      <td>-2021.057614</td>\n",
       "      <td>40740.178166</td>\n",
       "      <td>281.902870</td>\n",
       "      <td>-3611.786104</td>\n",
       "      <td>7.842375e+04</td>\n",
       "      <td>-22.968384</td>\n",
       "      <td>-92.536644</td>\n",
       "      <td>770.786717</td>\n",
       "      <td>21.286225</td>\n",
       "      <td>31.390301</td>\n",
       "      <td>-2524.334492</td>\n",
       "    </tr>\n",
       "    <tr>\n",
       "      <th>KUM_META.PM10_TEOM</th>\n",
       "      <td>7.614999</td>\n",
       "      <td>-41.018475</td>\n",
       "      <td>281.902870</td>\n",
       "      <td>740.617163</td>\n",
       "      <td>1304.652727</td>\n",
       "      <td>9.898632e+03</td>\n",
       "      <td>756.168965</td>\n",
       "      <td>33.623082</td>\n",
       "      <td>7.139398</td>\n",
       "      <td>0.890502</td>\n",
       "      <td>15.400283</td>\n",
       "      <td>153.322586</td>\n",
       "    </tr>\n",
       "    <tr>\n",
       "      <th>KUM_META.BC_MAAP</th>\n",
       "      <td>-318.337433</td>\n",
       "      <td>289.202392</td>\n",
       "      <td>-3611.786104</td>\n",
       "      <td>1304.652727</td>\n",
       "      <td>150557.457403</td>\n",
       "      <td>4.226317e+05</td>\n",
       "      <td>678.077357</td>\n",
       "      <td>1928.582372</td>\n",
       "      <td>-803.911331</td>\n",
       "      <td>32.652220</td>\n",
       "      <td>1259.696644</td>\n",
       "      <td>9673.291473</td>\n",
       "    </tr>\n",
       "    <tr>\n",
       "      <th>KUM_META.cn</th>\n",
       "      <td>-1016.151680</td>\n",
       "      <td>-10333.304020</td>\n",
       "      <td>78423.754518</td>\n",
       "      <td>9898.631637</td>\n",
       "      <td>422631.662634</td>\n",
       "      <td>9.539465e+06</td>\n",
       "      <td>3506.777118</td>\n",
       "      <td>21260.017330</td>\n",
       "      <td>-7982.520539</td>\n",
       "      <td>588.854555</td>\n",
       "      <td>11774.138731</td>\n",
       "      <td>65097.088343</td>\n",
       "    </tr>\n",
       "    <tr>\n",
       "      <th>KUM_META.PM25_TEOM</th>\n",
       "      <td>-1.686195</td>\n",
       "      <td>1.629179</td>\n",
       "      <td>-22.968384</td>\n",
       "      <td>756.168965</td>\n",
       "      <td>678.077357</td>\n",
       "      <td>3.506777e+03</td>\n",
       "      <td>829.288074</td>\n",
       "      <td>16.681072</td>\n",
       "      <td>-2.438280</td>\n",
       "      <td>0.274942</td>\n",
       "      <td>7.650788</td>\n",
       "      <td>105.469704</td>\n",
       "    </tr>\n",
       "    <tr>\n",
       "      <th>KUM_META.NO_x</th>\n",
       "      <td>-19.871928</td>\n",
       "      <td>13.961550</td>\n",
       "      <td>-92.536644</td>\n",
       "      <td>33.623082</td>\n",
       "      <td>1928.582372</td>\n",
       "      <td>2.126002e+04</td>\n",
       "      <td>16.681072</td>\n",
       "      <td>120.310627</td>\n",
       "      <td>-47.418831</td>\n",
       "      <td>1.437749</td>\n",
       "      <td>75.930422</td>\n",
       "      <td>368.334300</td>\n",
       "    </tr>\n",
       "    <tr>\n",
       "      <th>KUM_META.O_3</th>\n",
       "      <td>28.994623</td>\n",
       "      <td>-98.782442</td>\n",
       "      <td>770.786717</td>\n",
       "      <td>7.139398</td>\n",
       "      <td>-803.911331</td>\n",
       "      <td>-7.982521e+03</td>\n",
       "      <td>-2.438280</td>\n",
       "      <td>-47.418831</td>\n",
       "      <td>108.555787</td>\n",
       "      <td>0.067272</td>\n",
       "      <td>-20.890247</td>\n",
       "      <td>-208.245772</td>\n",
       "    </tr>\n",
       "    <tr>\n",
       "      <th>KUM_META.SO_2</th>\n",
       "      <td>-0.567767</td>\n",
       "      <td>-1.399511</td>\n",
       "      <td>21.286225</td>\n",
       "      <td>0.890502</td>\n",
       "      <td>32.652220</td>\n",
       "      <td>5.888546e+02</td>\n",
       "      <td>0.274942</td>\n",
       "      <td>1.437749</td>\n",
       "      <td>0.067272</td>\n",
       "      <td>0.946346</td>\n",
       "      <td>0.736439</td>\n",
       "      <td>7.013071</td>\n",
       "    </tr>\n",
       "    <tr>\n",
       "      <th>KUM_META.NO</th>\n",
       "      <td>-8.852719</td>\n",
       "      <td>3.837123</td>\n",
       "      <td>31.390301</td>\n",
       "      <td>15.400283</td>\n",
       "      <td>1259.696644</td>\n",
       "      <td>1.177414e+04</td>\n",
       "      <td>7.650788</td>\n",
       "      <td>75.930422</td>\n",
       "      <td>-20.890247</td>\n",
       "      <td>0.736439</td>\n",
       "      <td>57.260623</td>\n",
       "      <td>210.368659</td>\n",
       "    </tr>\n",
       "    <tr>\n",
       "      <th>KUM_META.CO</th>\n",
       "      <td>-286.296610</td>\n",
       "      <td>160.406598</td>\n",
       "      <td>-2524.334492</td>\n",
       "      <td>153.322586</td>\n",
       "      <td>9673.291473</td>\n",
       "      <td>6.509709e+04</td>\n",
       "      <td>105.469704</td>\n",
       "      <td>368.334300</td>\n",
       "      <td>-208.245772</td>\n",
       "      <td>7.013071</td>\n",
       "      <td>210.368659</td>\n",
       "      <td>3333.597733</td>\n",
       "    </tr>\n",
       "  </tbody>\n",
       "</table>\n",
       "</div>"
      ]
     },
     "execution_count": 26,
     "metadata": {},
     "output_type": "execute_result"
    }
   ],
   "execution_count": 26
  },
  {
   "cell_type": "markdown",
   "id": "8f437889-0fbe-4bdd-bb3e-6f77c9778d28",
   "metadata": {},
   "source": [
    "We have:\n",
    "$$\n",
    "\\text{Cov}(X, Y) = E((X-E(X))\\cdot(Y-E(Y))) = \\frac{1}{n} \\sum_m^n (x_m - \\mu_x)\\cdot(y_m-\\mu_y)\n",
    "$$\n",
    "with $X$ and $Y$ being each $n$ observations of two of the multivariate dataset (of $p$ observed variables) to be investigated. The value of this metric provides information about whether high values of one random variable tend to be associated with high or low values of the other random variable. Covariance is a measure of association, i.e., it quantifies the degree of (in)dependence between two random variables."
   ]
  },
  {
   "cell_type": "markdown",
   "id": "f36c6fb3-3b52-443e-b062-6dda09387b71",
   "metadata": {},
   "source": [
    "**Breaking down the covariance matrix**\n",
    "\n",
    "Assume that we transform our observations $X_{i}$ into:\n",
    "$$\n",
    "\\begin{align}\n",
    "Y_1 &= e_{11}X_1 + e_{12}X_2 + ... + e_{1,p}X_p \\\\\n",
    "Y_2 &= e_{21}X_1 + e_{22}X_2 + ... + e_{2,p}X_p \\\\\n",
    "&... \\\\\n",
    "Y_p &= e_{p1}X_1 + e_{p2}X_2 + ... + e_{p,p}X_p \n",
    "\\end{align}\n",
    "$$\n",
    "i.e. we rewrote everything as a linear combination of the initial variables. Each of these can be thought of as linear regression, predicting $Y_i$ from $X_1, X_2, ..., X_p$ with the regression coefficients $e_{i1}, e_{i2}, ... , e_{ip}$, different for each $i$. \n",
    "\n",
    "The variance of these new variables is given by $\\text{Var}(Y_1)$:\n",
    "$$\n",
    "\\text{Var}(Y_1) = \\frac{1}{n} \\sum_m^n (y_1(m)-E(Y_1))^2 = \\sum_l^p \\sum_k^p e_{1l}e_{1k}\\text{Var}(X_l, X_k)\n",
    "$$\n",
    "or generally:\n",
    "$$\n",
    "\\text{Var}(Y_i) = \\frac{1}{n} \\sum_m (y_i(m)-E(Y_1))^2 = \\sum_l^p \\sum_k^p e_{il}e_{ik}\\text{Var}(X_l, X_k)\n",
    "$$"
   ]
  },
  {
   "cell_type": "markdown",
   "id": "74a6a0ac-d09a-4877-b494-2fb92bd92a65",
   "metadata": {},
   "source": [
    "**Reducing dimensions**\n",
    "\n",
    "When we have a correlation (multicollinearity) between the x-variables, the data may more or less fall on a line or plane in a lower number of dimensions. For instance, imagine a plot of two x-variables that have a nearly perfect correlation. The data points will fall close to a straight line. That line could be used as a new (one-dimensional) axis to represent the variation among data points. Our aim is to find these redundant directions in our Covariance matrix. "
   ]
  },
  {
   "cell_type": "markdown",
   "id": "48b7e8ad-4e85-47d1-b425-1a7f02a098fd",
   "metadata": {},
   "source": [
    "## 6.2 The principle components"
   ]
  },
  {
   "cell_type": "markdown",
   "id": "05ef662d-2485-4736-a1f5-49183de73aaa",
   "metadata": {},
   "source": [
    "If we now optimize the search for these regression coefficients $e_{1l}$ such that we try to maximize the variance of $Y_{1}$, then $Y_{1}$ would represent a variable which incoporates most of the variation found in the original data $X_i$. Generally speaking, this would mean that with the found linear combination we can explain almost most of the differences in the original data. That's why $Y_1$ can then be called the **first principle component**. "
   ]
  },
  {
   "cell_type": "markdown",
   "id": "e486955e-98bc-48af-87dd-4e407ec5ac31",
   "metadata": {},
   "source": [
    "**How to find the coefficients for the principle components?**"
   ]
  },
  {
   "cell_type": "markdown",
   "id": "d1151aeb-cb6a-41f5-bca2-50c7ea44644c",
   "metadata": {},
   "source": [
    "Interestingly, the solution to this problem involves the eigenvalues and eigenvectors of the covariance matrix. \n",
    "\n",
    "Recall that an eigenvector stays in the same direction upon matrix multiplication, instead of rotating or changing direction  — they are the matrix’s \"natural directions\". In mathematical terms:\n",
    "$$\n",
    "A e=\\lambda e\n",
    "$$\n",
    "In that case $e$ is an *eigenvector* of $A$ and $\\lambda$ the corresponding *eigenvalue*. "
   ]
  },
  {
   "cell_type": "markdown",
   "id": "4f1cc6c7-1dda-4075-886c-c61db7601683",
   "metadata": {},
   "source": [
    "The natural direction of the Covariance matrix are the *eigenvectors* (they are orthogonal to each other), and therefore it is logical that they represent the set of coefficients $e_{ip}$ we are looking for. In addition, the larger the *eigenvalue* of a certain *eigenvector* is, the larger the matrix (i.e. the covariances) stretch out into that direction. This means, the problem described above can be summarized as follows:\n",
    "\n",
    "1. find the *eigenvectors* and *eigenvalues* of the covariance matrix $\\text{Cov}(X)=\\Sigma$\n",
    "2. sort the *eigenvalues*\n",
    "3. the largest *eigenvalues* and corresponding *eigenvectors* explain most of the variability in the original data $X$\n",
    "\n",
    "An eigenwert problem of a square, symmetric matrix is easily solved using [`np.linalg.eigh`](https://numpy.org/doc/2.1/reference/generated/numpy.linalg.eigh.html)"
   ]
  },
  {
   "cell_type": "code",
   "id": "29f3fbef-79fa-441d-b2f3-c65a9aa4dbef",
   "metadata": {
    "ExecuteTime": {
     "end_time": "2025-05-27T08:06:14.083769Z",
     "start_time": "2025-05-27T08:06:14.041175Z"
    }
   },
   "source": [
    "import numpy as np\n",
    "\n",
    "A = np.array(hel.cov()) # make an array of the covariance matrix\n",
    "lambdas, E = np.linalg.eigh(A)\n",
    "\n",
    "lambda1 = np.argmax(lambdas)\n",
    "E[lambda1]"
   ],
   "outputs": [
    {
     "data": {
      "text/plain": [
       "array([-4.26788366e-04, -7.93609563e-03,  1.98629367e-02,  9.53826563e-02,\n",
       "        1.61949504e-03,  6.04125163e-02,  5.93271958e-02,  8.63949180e-02,\n",
       "       -9.84020005e-01,  6.77153488e-02, -5.36723490e-02, -6.84806257e-03])"
      ]
     },
     "execution_count": 12,
     "metadata": {},
     "output_type": "execute_result"
    }
   ],
   "execution_count": 12
  },
  {
   "cell_type": "markdown",
   "id": "c38c6fe9-e3c0-48ce-9f3b-c821e85ddee3",
   "metadata": {},
   "source": [
    "**How to interprete the principle components?**"
   ]
  },
  {
   "cell_type": "markdown",
   "id": "76296530-0217-433a-adff-561d18ca01ba",
   "metadata": {},
   "source": [
    "The proportion of variation explained by the ith principal component is then defined to be the eigenvalue for that component divided by the sum of the eigenvalues. In other words, the ith principal component explains the following proportion of the total variation:\n",
    "$$\n",
    "\\frac{\\lambda_i}{\\lambda_1+\\lambda_2+...+\\lambda_p}\n",
    "$$\n",
    "A related quantity is the proportion of variation explained by the first k principal component. This would be the sum of the first k eigenvalues divided by its total variation.\n",
    "$$\n",
    "\\frac{\\lambda_1+\\lambda_2+...+\\lambda_k}{\\lambda_1+\\lambda_2+...+\\lambda_p}\n",
    "$$\n",
    "Naturally, if the proportion of variation explained by the first k principal components is large, then not much information is lost by considering only the first k principal components."
   ]
  },
  {
   "cell_type": "markdown",
   "id": "f6ddeb16-6b09-4abf-99d6-8f96ca7c896a",
   "metadata": {},
   "source": [
    "## 6.3 Principle Component Analysis"
   ]
  },
  {
   "cell_type": "markdown",
   "id": "4a71b416-d5ae-4c22-95b1-e4c1823e81f4",
   "metadata": {},
   "source": [
    "### 6.3.1 Standardization\n",
    "\n",
    "PCA will tend to give more emphasis to those variables that have higher variances than to those variables that have lower variances, as it works to solve the *eigenvalue*-problem of the Covaraiance matrix (which is not normalized). \n",
    "\n",
    "In effect, the results of the analysis will depend on the units of measurement used to measure each variable. That would imply that a principal component analysis should only be used with the raw data if all variables have the same units of measure. \n",
    "\n",
    "**Example**: Think of an ecological setting where you are looking at counts of different species of organisms at a number of different sample sites. Here, one may want to give more weight to the more common species that are observed. By analyzing the raw data you will tend to find that more common species will also show higher variances and will be given more emphasis. If you were to do a principal component analysis on standardized counts, all species would be weighted equally regardless of how abundant they are. This might be wanted or unwanted, and needs to be decided by the data scientist.  "
   ]
  },
  {
   "cell_type": "markdown",
   "id": "974e6c6a-82c0-4832-a591-94122d680a3c",
   "metadata": {},
   "source": [
    "A straight-foward way to make the variables comparable, is to *standardize* them by the following transformation:\n",
    "$$\n",
    "z_i = \\frac{x_i-\\mu_x}{\\sigma_x}\n",
    "$$\n",
    "This means all variables $Z$ used in the PCA have mean 0 and variance 1 &rarr; they are now **comparable**! \n",
    "\n",
    "The python library [`scikit-learn`](https://scikit-learn.org/stable/) provides a straight forward way to standardize even huge datasets:"
   ]
  },
  {
   "cell_type": "code",
   "id": "d57a9e0a-c8b4-4a84-aea8-0f9b8d6a6da5",
   "metadata": {
    "ExecuteTime": {
     "end_time": "2025-05-27T08:06:16.773824Z",
     "start_time": "2025-05-27T08:06:16.703093Z"
    }
   },
   "source": [
    "from sklearn.preprocessing import StandardScaler\n",
    "\n",
    "scaler = StandardScaler()\n",
    "hel_scaled = scaler.fit_transform(hel)\n",
    "hel_scaled = pd.DataFrame(hel_scaled, index=hel.index, columns=hel.columns)\n",
    "hel_scaled"
   ],
   "outputs": [
    {
     "data": {
      "text/plain": [
       "                     KUM_META.t  KUM_META.rh  KUM_META.Tower_GLOB_32m  \\\n",
       "time                                                                    \n",
       "2016-01-01 00:00:00   -1.289340    -0.158528                -0.586859   \n",
       "2016-01-01 01:00:00   -1.278534    -0.051598                -0.585304   \n",
       "2016-01-01 02:00:00   -1.263558     0.007496                -0.585188   \n",
       "2016-01-01 03:00:00   -1.269814    -0.032838                -0.585343   \n",
       "2016-01-01 04:00:00   -1.229058    -0.035652                -0.585343   \n",
       "...                         ...          ...                      ...   \n",
       "2024-12-31 19:00:00   -1.058258    -0.441802                -0.608392   \n",
       "2024-12-31 20:00:00   -1.093518    -0.263583                -0.608256   \n",
       "2024-12-31 21:00:00   -1.126692    -0.085365                -0.605112   \n",
       "2024-12-31 22:00:00   -1.114369    -0.123823                -0.600041   \n",
       "2024-12-31 23:00:00   -1.110200    -0.193234                -0.597244   \n",
       "\n",
       "                     KUM_META.PM10_TEOM  KUM_META.BC_MAAP  KUM_META.cn  \\\n",
       "time                                                                     \n",
       "2016-01-01 00:00:00                 NaN          0.378305    -0.856290   \n",
       "2016-01-01 01:00:00                 NaN          0.312156    -0.984096   \n",
       "2016-01-01 02:00:00                 NaN          0.260826    -1.126833   \n",
       "2016-01-01 03:00:00                 NaN          0.206060    -1.137650   \n",
       "2016-01-01 04:00:00                 NaN          0.275645    -1.145831   \n",
       "...                                 ...               ...          ...   \n",
       "2024-12-31 19:00:00            0.108605         -0.486222    -0.600556   \n",
       "2024-12-31 20:00:00            0.146975         -0.485943    -0.312620   \n",
       "2024-12-31 21:00:00            0.090770         -0.485825     0.026523   \n",
       "2024-12-31 22:00:00            0.038043         -0.485867    -0.044777   \n",
       "2024-12-31 23:00:00            0.010322         -0.485930     0.073423   \n",
       "\n",
       "                     KUM_META.PM25_TEOM  KUM_META.NO_x  KUM_META.O_3  \\\n",
       "time                                                                   \n",
       "2016-01-01 00:00:00                 NaN      -0.456848      0.618076   \n",
       "2016-01-01 01:00:00                 NaN      -0.507255      0.539036   \n",
       "2016-01-01 02:00:00                 NaN      -0.494342      0.425719   \n",
       "2016-01-01 03:00:00                 NaN      -0.534415      0.483477   \n",
       "2016-01-01 04:00:00                 NaN      -0.533509      0.355398   \n",
       "...                                 ...            ...           ...   \n",
       "2024-12-31 19:00:00            0.047962      -0.465555      0.777816   \n",
       "2024-12-31 20:00:00            0.117233      -0.446982      0.688441   \n",
       "2024-12-31 21:00:00            0.113307      -0.470937      0.618743   \n",
       "2024-12-31 22:00:00            0.079777      -0.375687      0.517515   \n",
       "2024-12-31 23:00:00            0.055331      -0.449179      0.644109   \n",
       "\n",
       "                     KUM_META.SO_2  KUM_META.NO  KUM_META.CO  \n",
       "time                                                          \n",
       "2016-01-01 00:00:00       0.176543    -0.168712     0.720798  \n",
       "2016-01-01 01:00:00      -0.019325    -0.197282     0.748326  \n",
       "2016-01-01 02:00:00      -0.065943    -0.182260     0.730278  \n",
       "2016-01-01 03:00:00      -0.011636    -0.206001     0.698912  \n",
       "2016-01-01 04:00:00       0.174601    -0.207936     0.753556  \n",
       "...                            ...          ...          ...  \n",
       "2024-12-31 19:00:00      -0.099619    -0.214298    -1.018877  \n",
       "2024-12-31 20:00:00      -0.103813    -0.205652    -0.968741  \n",
       "2024-12-31 21:00:00      -0.152600    -0.200003    -0.909488  \n",
       "2024-12-31 22:00:00      -0.140008    -0.206606    -1.055340  \n",
       "2024-12-31 23:00:00      -0.120867    -0.204005    -1.064963  \n",
       "\n",
       "[78912 rows x 12 columns]"
      ],
      "text/html": [
       "<div>\n",
       "<style scoped>\n",
       "    .dataframe tbody tr th:only-of-type {\n",
       "        vertical-align: middle;\n",
       "    }\n",
       "\n",
       "    .dataframe tbody tr th {\n",
       "        vertical-align: top;\n",
       "    }\n",
       "\n",
       "    .dataframe thead th {\n",
       "        text-align: right;\n",
       "    }\n",
       "</style>\n",
       "<table border=\"1\" class=\"dataframe\">\n",
       "  <thead>\n",
       "    <tr style=\"text-align: right;\">\n",
       "      <th></th>\n",
       "      <th>KUM_META.t</th>\n",
       "      <th>KUM_META.rh</th>\n",
       "      <th>KUM_META.Tower_GLOB_32m</th>\n",
       "      <th>KUM_META.PM10_TEOM</th>\n",
       "      <th>KUM_META.BC_MAAP</th>\n",
       "      <th>KUM_META.cn</th>\n",
       "      <th>KUM_META.PM25_TEOM</th>\n",
       "      <th>KUM_META.NO_x</th>\n",
       "      <th>KUM_META.O_3</th>\n",
       "      <th>KUM_META.SO_2</th>\n",
       "      <th>KUM_META.NO</th>\n",
       "      <th>KUM_META.CO</th>\n",
       "    </tr>\n",
       "    <tr>\n",
       "      <th>time</th>\n",
       "      <th></th>\n",
       "      <th></th>\n",
       "      <th></th>\n",
       "      <th></th>\n",
       "      <th></th>\n",
       "      <th></th>\n",
       "      <th></th>\n",
       "      <th></th>\n",
       "      <th></th>\n",
       "      <th></th>\n",
       "      <th></th>\n",
       "      <th></th>\n",
       "    </tr>\n",
       "  </thead>\n",
       "  <tbody>\n",
       "    <tr>\n",
       "      <th>2016-01-01 00:00:00</th>\n",
       "      <td>-1.289340</td>\n",
       "      <td>-0.158528</td>\n",
       "      <td>-0.586859</td>\n",
       "      <td>NaN</td>\n",
       "      <td>0.378305</td>\n",
       "      <td>-0.856290</td>\n",
       "      <td>NaN</td>\n",
       "      <td>-0.456848</td>\n",
       "      <td>0.618076</td>\n",
       "      <td>0.176543</td>\n",
       "      <td>-0.168712</td>\n",
       "      <td>0.720798</td>\n",
       "    </tr>\n",
       "    <tr>\n",
       "      <th>2016-01-01 01:00:00</th>\n",
       "      <td>-1.278534</td>\n",
       "      <td>-0.051598</td>\n",
       "      <td>-0.585304</td>\n",
       "      <td>NaN</td>\n",
       "      <td>0.312156</td>\n",
       "      <td>-0.984096</td>\n",
       "      <td>NaN</td>\n",
       "      <td>-0.507255</td>\n",
       "      <td>0.539036</td>\n",
       "      <td>-0.019325</td>\n",
       "      <td>-0.197282</td>\n",
       "      <td>0.748326</td>\n",
       "    </tr>\n",
       "    <tr>\n",
       "      <th>2016-01-01 02:00:00</th>\n",
       "      <td>-1.263558</td>\n",
       "      <td>0.007496</td>\n",
       "      <td>-0.585188</td>\n",
       "      <td>NaN</td>\n",
       "      <td>0.260826</td>\n",
       "      <td>-1.126833</td>\n",
       "      <td>NaN</td>\n",
       "      <td>-0.494342</td>\n",
       "      <td>0.425719</td>\n",
       "      <td>-0.065943</td>\n",
       "      <td>-0.182260</td>\n",
       "      <td>0.730278</td>\n",
       "    </tr>\n",
       "    <tr>\n",
       "      <th>2016-01-01 03:00:00</th>\n",
       "      <td>-1.269814</td>\n",
       "      <td>-0.032838</td>\n",
       "      <td>-0.585343</td>\n",
       "      <td>NaN</td>\n",
       "      <td>0.206060</td>\n",
       "      <td>-1.137650</td>\n",
       "      <td>NaN</td>\n",
       "      <td>-0.534415</td>\n",
       "      <td>0.483477</td>\n",
       "      <td>-0.011636</td>\n",
       "      <td>-0.206001</td>\n",
       "      <td>0.698912</td>\n",
       "    </tr>\n",
       "    <tr>\n",
       "      <th>2016-01-01 04:00:00</th>\n",
       "      <td>-1.229058</td>\n",
       "      <td>-0.035652</td>\n",
       "      <td>-0.585343</td>\n",
       "      <td>NaN</td>\n",
       "      <td>0.275645</td>\n",
       "      <td>-1.145831</td>\n",
       "      <td>NaN</td>\n",
       "      <td>-0.533509</td>\n",
       "      <td>0.355398</td>\n",
       "      <td>0.174601</td>\n",
       "      <td>-0.207936</td>\n",
       "      <td>0.753556</td>\n",
       "    </tr>\n",
       "    <tr>\n",
       "      <th>...</th>\n",
       "      <td>...</td>\n",
       "      <td>...</td>\n",
       "      <td>...</td>\n",
       "      <td>...</td>\n",
       "      <td>...</td>\n",
       "      <td>...</td>\n",
       "      <td>...</td>\n",
       "      <td>...</td>\n",
       "      <td>...</td>\n",
       "      <td>...</td>\n",
       "      <td>...</td>\n",
       "      <td>...</td>\n",
       "    </tr>\n",
       "    <tr>\n",
       "      <th>2024-12-31 19:00:00</th>\n",
       "      <td>-1.058258</td>\n",
       "      <td>-0.441802</td>\n",
       "      <td>-0.608392</td>\n",
       "      <td>0.108605</td>\n",
       "      <td>-0.486222</td>\n",
       "      <td>-0.600556</td>\n",
       "      <td>0.047962</td>\n",
       "      <td>-0.465555</td>\n",
       "      <td>0.777816</td>\n",
       "      <td>-0.099619</td>\n",
       "      <td>-0.214298</td>\n",
       "      <td>-1.018877</td>\n",
       "    </tr>\n",
       "    <tr>\n",
       "      <th>2024-12-31 20:00:00</th>\n",
       "      <td>-1.093518</td>\n",
       "      <td>-0.263583</td>\n",
       "      <td>-0.608256</td>\n",
       "      <td>0.146975</td>\n",
       "      <td>-0.485943</td>\n",
       "      <td>-0.312620</td>\n",
       "      <td>0.117233</td>\n",
       "      <td>-0.446982</td>\n",
       "      <td>0.688441</td>\n",
       "      <td>-0.103813</td>\n",
       "      <td>-0.205652</td>\n",
       "      <td>-0.968741</td>\n",
       "    </tr>\n",
       "    <tr>\n",
       "      <th>2024-12-31 21:00:00</th>\n",
       "      <td>-1.126692</td>\n",
       "      <td>-0.085365</td>\n",
       "      <td>-0.605112</td>\n",
       "      <td>0.090770</td>\n",
       "      <td>-0.485825</td>\n",
       "      <td>0.026523</td>\n",
       "      <td>0.113307</td>\n",
       "      <td>-0.470937</td>\n",
       "      <td>0.618743</td>\n",
       "      <td>-0.152600</td>\n",
       "      <td>-0.200003</td>\n",
       "      <td>-0.909488</td>\n",
       "    </tr>\n",
       "    <tr>\n",
       "      <th>2024-12-31 22:00:00</th>\n",
       "      <td>-1.114369</td>\n",
       "      <td>-0.123823</td>\n",
       "      <td>-0.600041</td>\n",
       "      <td>0.038043</td>\n",
       "      <td>-0.485867</td>\n",
       "      <td>-0.044777</td>\n",
       "      <td>0.079777</td>\n",
       "      <td>-0.375687</td>\n",
       "      <td>0.517515</td>\n",
       "      <td>-0.140008</td>\n",
       "      <td>-0.206606</td>\n",
       "      <td>-1.055340</td>\n",
       "    </tr>\n",
       "    <tr>\n",
       "      <th>2024-12-31 23:00:00</th>\n",
       "      <td>-1.110200</td>\n",
       "      <td>-0.193234</td>\n",
       "      <td>-0.597244</td>\n",
       "      <td>0.010322</td>\n",
       "      <td>-0.485930</td>\n",
       "      <td>0.073423</td>\n",
       "      <td>0.055331</td>\n",
       "      <td>-0.449179</td>\n",
       "      <td>0.644109</td>\n",
       "      <td>-0.120867</td>\n",
       "      <td>-0.204005</td>\n",
       "      <td>-1.064963</td>\n",
       "    </tr>\n",
       "  </tbody>\n",
       "</table>\n",
       "<p>78912 rows × 12 columns</p>\n",
       "</div>"
      ]
     },
     "execution_count": 13,
     "metadata": {},
     "output_type": "execute_result"
    }
   ],
   "execution_count": 13
  },
  {
   "cell_type": "markdown",
   "id": "8cee5687-f9f6-4213-8024-6ee96c77d35a",
   "metadata": {},
   "source": [
    "We remember that the *correlation matrix* was given by:\n",
    "$$\n",
    "\\text{Corr}(X, Y) = \\text{Cov}(X, Y)/\\sqrt{\\text{Var}(X) \\cdot \\text{Var}(Y)}\n",
    "$$\n",
    "So simply put, the correlation matrix contains the covariances of all variable pairs of the multivariate datset devided by the individual variances. That way all covariances get normalized as well and independent of the original units. So solving the *eigenvalue* problem for the *correlation matrix* is the same than doing PCA on standardized variables. "
   ]
  },
  {
   "cell_type": "markdown",
   "id": "e2ca9168-c90a-4a12-b7ff-b7258b6035dc",
   "metadata": {},
   "source": [
    "### 6.3.2 PCA in `scikit-learn`\n",
    "\n",
    "Instead of solving the *eigenvalue* problem step-by-step, ordering the *eigenvalues* and then extracting the components, [`scikit-learn.decomposition.PCA`](https://scikit-learn.org/stable/modules/generated/sklearn.decomposition.PCA.html) provides the functionality directly. Moreover, it uses a more robust approach for solving the *eigenvalue* problem. "
   ]
  },
  {
   "cell_type": "markdown",
   "id": "fdc55d3a-4734-4c91-b2ce-f12863365097",
   "metadata": {},
   "source": [
    "It is important to note that `sklearn.decomposition.PCA` cannot deal with input `NaN`, which is often a [problem](https://stackoverflow.com/questions/29420737/pca-with-missing-values-in-python).\n",
    "\n",
    "To solve this, we need to either drop the `NaN` data or use some padding technique which we have learnt until now. Straight forward is to just fill in the mising data with the column mean (as for standardization we anyways try to get rid of the mean), but then the application of PCA is straight-forward: "
   ]
  },
  {
   "cell_type": "code",
   "id": "45fb97cc-8be4-43a7-8487-8588e50b8641",
   "metadata": {
    "ExecuteTime": {
     "end_time": "2025-05-27T08:06:18.805176Z",
     "start_time": "2025-05-27T08:06:18.735037Z"
    }
   },
   "source": [
    "from sklearn.decomposition import PCA\n",
    "\n",
    "hel_clean = hel.fillna(hel.mean())  # handling NaNs with mean, for standardized data that means it's just 0 in the matrix. interpolating is also possible\n",
    "scaler = StandardScaler()   # initialize scaler, standardize data to -1 to 1 to remove bias\n",
    "hel_scaled = scaler.fit_transform(hel_clean)    # do scaling of the whole hel_clean dataframe\n",
    "pca = PCA(n_components=3)   # initialize PCA with 3 principal components (trial and error with the number of components)\n",
    "# after setting n_components test ..... to check if n is good or test with another number\n",
    "hel_pca = pca.fit_transform(hel_scaled)\n",
    "\n",
    "hel_pca = pd.DataFrame(hel_pca, index=hel_clean.index, columns=[f'PC{i+1}' for i in range(hel_pca.shape[1])]) # columns= ['PC1',...,'PCn']\n",
    "hel_pca"
   ],
   "outputs": [
    {
     "data": {
      "text/plain": [
       "                          PC1       PC2       PC3\n",
       "time                                             \n",
       "2016-01-01 00:00:00  0.080922  0.791820  0.416598\n",
       "2016-01-01 01:00:00  0.015686  0.954363  0.495182\n",
       "2016-01-01 02:00:00 -0.002148  1.058972  0.538256\n",
       "2016-01-01 03:00:00 -0.087427  1.040731  0.537988\n",
       "2016-01-01 04:00:00  0.005207  1.027123  0.522135\n",
       "...                       ...       ...       ...\n",
       "2024-12-31 19:00:00 -1.069394  0.515595  0.485905\n",
       "2024-12-31 20:00:00 -0.861052  0.512116  0.560427\n",
       "2024-12-31 21:00:00 -0.681599  0.561696  0.503952\n",
       "2024-12-31 22:00:00 -0.706655  0.591327  0.431214\n",
       "2024-12-31 23:00:00 -0.767133  0.514361  0.357063\n",
       "\n",
       "[78912 rows x 3 columns]"
      ],
      "text/html": [
       "<div>\n",
       "<style scoped>\n",
       "    .dataframe tbody tr th:only-of-type {\n",
       "        vertical-align: middle;\n",
       "    }\n",
       "\n",
       "    .dataframe tbody tr th {\n",
       "        vertical-align: top;\n",
       "    }\n",
       "\n",
       "    .dataframe thead th {\n",
       "        text-align: right;\n",
       "    }\n",
       "</style>\n",
       "<table border=\"1\" class=\"dataframe\">\n",
       "  <thead>\n",
       "    <tr style=\"text-align: right;\">\n",
       "      <th></th>\n",
       "      <th>PC1</th>\n",
       "      <th>PC2</th>\n",
       "      <th>PC3</th>\n",
       "    </tr>\n",
       "    <tr>\n",
       "      <th>time</th>\n",
       "      <th></th>\n",
       "      <th></th>\n",
       "      <th></th>\n",
       "    </tr>\n",
       "  </thead>\n",
       "  <tbody>\n",
       "    <tr>\n",
       "      <th>2016-01-01 00:00:00</th>\n",
       "      <td>0.080922</td>\n",
       "      <td>0.791820</td>\n",
       "      <td>0.416598</td>\n",
       "    </tr>\n",
       "    <tr>\n",
       "      <th>2016-01-01 01:00:00</th>\n",
       "      <td>0.015686</td>\n",
       "      <td>0.954363</td>\n",
       "      <td>0.495182</td>\n",
       "    </tr>\n",
       "    <tr>\n",
       "      <th>2016-01-01 02:00:00</th>\n",
       "      <td>-0.002148</td>\n",
       "      <td>1.058972</td>\n",
       "      <td>0.538256</td>\n",
       "    </tr>\n",
       "    <tr>\n",
       "      <th>2016-01-01 03:00:00</th>\n",
       "      <td>-0.087427</td>\n",
       "      <td>1.040731</td>\n",
       "      <td>0.537988</td>\n",
       "    </tr>\n",
       "    <tr>\n",
       "      <th>2016-01-01 04:00:00</th>\n",
       "      <td>0.005207</td>\n",
       "      <td>1.027123</td>\n",
       "      <td>0.522135</td>\n",
       "    </tr>\n",
       "    <tr>\n",
       "      <th>...</th>\n",
       "      <td>...</td>\n",
       "      <td>...</td>\n",
       "      <td>...</td>\n",
       "    </tr>\n",
       "    <tr>\n",
       "      <th>2024-12-31 19:00:00</th>\n",
       "      <td>-1.069394</td>\n",
       "      <td>0.515595</td>\n",
       "      <td>0.485905</td>\n",
       "    </tr>\n",
       "    <tr>\n",
       "      <th>2024-12-31 20:00:00</th>\n",
       "      <td>-0.861052</td>\n",
       "      <td>0.512116</td>\n",
       "      <td>0.560427</td>\n",
       "    </tr>\n",
       "    <tr>\n",
       "      <th>2024-12-31 21:00:00</th>\n",
       "      <td>-0.681599</td>\n",
       "      <td>0.561696</td>\n",
       "      <td>0.503952</td>\n",
       "    </tr>\n",
       "    <tr>\n",
       "      <th>2024-12-31 22:00:00</th>\n",
       "      <td>-0.706655</td>\n",
       "      <td>0.591327</td>\n",
       "      <td>0.431214</td>\n",
       "    </tr>\n",
       "    <tr>\n",
       "      <th>2024-12-31 23:00:00</th>\n",
       "      <td>-0.767133</td>\n",
       "      <td>0.514361</td>\n",
       "      <td>0.357063</td>\n",
       "    </tr>\n",
       "  </tbody>\n",
       "</table>\n",
       "<p>78912 rows × 3 columns</p>\n",
       "</div>"
      ]
     },
     "execution_count": 14,
     "metadata": {},
     "output_type": "execute_result"
    }
   ],
   "execution_count": 14
  },
  {
   "cell_type": "markdown",
   "id": "b7d32d07-1514-4b86-878c-53bfc8236417",
   "metadata": {},
   "source": [
    "Let's inspect the time series of the principal components:"
   ]
  },
  {
   "cell_type": "code",
   "id": "9eac0141-f062-4dc8-b49c-a93801fd9cdd",
   "metadata": {
    "ExecuteTime": {
     "end_time": "2025-05-27T08:06:22.363939Z",
     "start_time": "2025-05-27T08:06:22.138778Z"
    }
   },
   "source": [
    "import matplotlib.pyplot as plt\n",
    "\n",
    "plt.plot(hel_pca.index, hel_pca['PC1'])"
   ],
   "outputs": [
    {
     "data": {
      "text/plain": [
       "[<matplotlib.lines.Line2D at 0x13af28ed3d0>]"
      ]
     },
     "execution_count": 15,
     "metadata": {},
     "output_type": "execute_result"
    },
    {
     "data": {
      "text/plain": [
       "<Figure size 640x480 with 1 Axes>"
      ],
      "image/png": "[encoded data removed]"
     },
     "metadata": {},
     "output_type": "display_data"
    }
   ],
   "execution_count": 15
  },
  {
   "cell_type": "markdown",
   "id": "a47bfc6a-abae-4946-8633-f94b1fa9b19d",
   "metadata": {},
   "source": [
    "And their annual and seasonal medians:"
   ]
  },
  {
   "cell_type": "code",
   "id": "d38255ac-4167-4a11-8765-a07824981c90",
   "metadata": {
    "ExecuteTime": {
     "end_time": "2025-05-27T08:09:50.162163Z",
     "start_time": "2025-05-27T08:09:50.018034Z"
    }
   },
   "source": [
    "hel_pca_monthly = hel_pca.groupby(hel_pca.index.month).mean() #groupby month, and calc mean of month --> looking into annual cycle of PC1\n",
    "plt.plot(hel_pca_monthly.index, hel_pca_monthly['PC1'])"
   ],
   "outputs": [
    {
     "data": {
      "text/plain": [
       "[<matplotlib.lines.Line2D at 0x13af520f8f0>]"
      ]
     },
     "execution_count": 24,
     "metadata": {},
     "output_type": "execute_result"
    },
    {
     "data": {
      "text/plain": [
       "<Figure size 640x480 with 1 Axes>"
      ],
      "image/png": "[encoded data removed]"
     },
     "metadata": {},
     "output_type": "display_data"
    }
   ],
   "execution_count": 24
  },
  {
   "cell_type": "code",
   "id": "c190e72a-053a-40e1-8639-787cb99b967d",
   "metadata": {
    "ExecuteTime": {
     "end_time": "2025-05-27T08:09:56.131523Z",
     "start_time": "2025-05-27T08:09:55.986176Z"
    }
   },
   "source": [
    "hel_pca_daily = hel_pca.groupby(hel_pca.index.hour).mean()  # groupby hour, and calc mean of hour --> looking into daily cycle of PC1\n",
    "plt.plot(hel_pca_daily.index, hel_pca_daily['PC2'])"
   ],
   "outputs": [
    {
     "data": {
      "text/plain": [
       "[<matplotlib.lines.Line2D at 0x13af5244dd0>]"
      ]
     },
     "execution_count": 25,
     "metadata": {},
     "output_type": "execute_result"
    },
    {
     "data": {
      "text/plain": [
       "<Figure size 640x480 with 1 Axes>"
      ],
      "image/png": "[encoded data removed]"
     },
     "metadata": {},
     "output_type": "display_data"
    }
   ],
   "execution_count": 25
  },
  {
   "metadata": {},
   "cell_type": "markdown",
   "source": [
    "### Probably traffic -> NOx\n",
    "--> peak in the morning, weaker peak in the afternoon\n",
    "--> PC1 is not just NOx but a combination of NOx, PM2.5, etc all that is influenced by traffic"
   ],
   "id": "fc78714b670d6d3c"
  },
  {
   "cell_type": "markdown",
   "id": "d1ff7d60-f503-49eb-a255-072861bbfbc4",
   "metadata": {},
   "source": [
    "`sklearn.decomposition.PCA` also provides direct access to the variance explained by our first principal components."
   ]
  },
  {
   "cell_type": "code",
   "id": "8fe3d204-b36c-42de-ade7-c2a5a1879fd9",
   "metadata": {
    "ExecuteTime": {
     "end_time": "2025-05-27T08:08:18.649431Z",
     "start_time": "2025-05-27T08:08:18.510548Z"
    }
   },
   "source": [
    "plt.figure(figsize=(6, 4))\n",
    "plt.bar(range(1, 4), pca.explained_variance_ratio_)\n",
    "plt.plot(range(1, 4), pca.explained_variance_ratio_.cumsum())\n",
    "plt.ylabel('Variance explained')\n",
    "plt.title('Explained Variance by Principal Component')\n",
    "plt.tight_layout()\n",
    "plt.show()"
   ],
   "outputs": [
    {
     "data": {
      "text/plain": [
       "<Figure size 600x400 with 1 Axes>"
      ],
      "image/png": "[encoded data removed]"
     },
     "metadata": {},
     "output_type": "display_data"
    }
   ],
   "execution_count": 22
  },
  {
   "metadata": {},
   "cell_type": "markdown",
   "source": [
    "# Graph above\n",
    "-> PC1 explains about 30% of the variance of the data, PC2 about 20% etc. PC1, PC2, PC3 explain more than 60% of variance in the data"
   ],
   "id": "d6ba5366f36f87df"
  },
  {
   "metadata": {},
   "cell_type": "markdown",
   "source": [
    "# Next step\n",
    "-> look into the PC and look what goes into PC.\n",
    "e.g. PC1 probably NOx, PM2.5 etc"
   ],
   "id": "bdc6dc6dded83921"
  },
  {
   "cell_type": "code",
   "id": "8fac4807-31a4-4c0d-a77f-8bd49d8d6447",
   "metadata": {
    "ExecuteTime": {
     "end_time": "2025-05-27T08:07:16.431679Z",
     "start_time": "2025-05-27T08:07:16.423178Z"
    }
   },
   "source": [
    "loadings = pca.components_\n",
    "loadings"
   ],
   "outputs": [
    {
     "data": {
      "text/plain": [
       "array([[-2.70888369e-01,  1.72867263e-01, -1.65407857e-01,\n",
       "         7.95910006e-02,  2.79748856e-01,  3.20838113e-01,\n",
       "         6.60564894e-02,  4.71271643e-01, -3.29913197e-01,\n",
       "         8.98727307e-02,  4.19839307e-01,  4.02740743e-01],\n",
       "       [-3.35080377e-01,  4.81847720e-01, -4.69217274e-01,\n",
       "        -3.15089977e-01, -1.28561362e-01, -2.92784824e-01,\n",
       "        -2.63166250e-01, -1.77730973e-01, -2.61814121e-01,\n",
       "        -1.43982889e-01, -2.04801126e-01,  4.21949481e-02],\n",
       "       [-1.18475323e-01,  1.90130602e-01, -2.04364364e-01,\n",
       "         6.25166527e-01, -4.36267207e-02, -1.69991711e-01,\n",
       "         6.54422046e-01, -1.42617788e-01, -5.86150007e-02,\n",
       "        -8.42062139e-02, -1.65168847e-01, -5.47371220e-04]])"
      ]
     },
     "execution_count": 19,
     "metadata": {},
     "output_type": "execute_result"
    }
   ],
   "execution_count": 19
  },
  {
   "cell_type": "code",
   "id": "a2351054-073c-4f2c-b33f-8f167172c46c",
   "metadata": {
    "ExecuteTime": {
     "end_time": "2025-05-27T08:07:16.725324Z",
     "start_time": "2025-05-27T08:07:16.717349Z"
    }
   },
   "source": [
    "hel_clean.iloc[:, 8].name"
   ],
   "outputs": [
    {
     "data": {
      "text/plain": [
       "'KUM_META.O_3'"
      ]
     },
     "execution_count": 20,
     "metadata": {},
     "output_type": "execute_result"
    }
   ],
   "execution_count": 20
  },
  {
   "cell_type": "code",
   "id": "74342ce2-79ec-4048-ba12-c242107fc777",
   "metadata": {
    "ExecuteTime": {
     "end_time": "2025-05-27T08:07:17.428485Z",
     "start_time": "2025-05-27T08:07:17.285817Z"
    }
   },
   "source": [
    "var_names = ['T','rh','rad','PM10','BC','CN','PM2.5','NOx','O3','SO2','NO','CO']\n",
    "\n",
    "plt.bar(var_names, pca.components_[0], width=0.9) # blue bars\n",
    "plt.bar(var_names, pca.components_[1], width=0.6)\n",
    "plt.bar(var_names, pca.components_[2], width=0.3)\n",
    "plt.tight_layout()\n",
    "plt.show()"
   ],
   "outputs": [
    {
     "data": {
      "text/plain": [
       "<Figure size 640x480 with 1 Axes>"
      ],
      "image/png": "[encoded data removed]"
     },
     "metadata": {},
     "output_type": "display_data"
    }
   ],
   "execution_count": 21
  },
  {
   "cell_type": "markdown",
   "id": "c4e71dc3-0783-4f37-8f8e-17e5470071c5",
   "metadata": {},
   "source": [
    "### PC1\n",
    "\n",
    "We see that the first principal component is dominated by **NO$_x$**, **NO**, **CO** and **CN**, exhibts a clear seasonal feature with winter maximum and a daily pattern with morning time maximum. Especially the daily pattern looks like traffic being a dominant contributor.\n",
    "\n",
    "**This means, our PCA has revealed that more than 25% of the variation in air quality monitoring data can be attributed to a strong traffic source.**"
   ]
  },
  {
   "cell_type": "markdown",
   "id": "131ce1e9-05bb-415e-be4e-45dbf5c7226b",
   "metadata": {},
   "source": [
    "### PC3\n",
    "\n",
    "In contrast the second largest principal component is dominated **PM$_{10}$** and **PM$_{2.5}$**, no other variables seem to stick out. It has a spring to summer maximum and a diurnal cycle following closely with temperature. What could it be? The third principal component has similar diurnal and seasonal pattern but is dominated by **global radiation** and **ozone**. It is following very clearly the oxidizing capacity of the atmosphere, probably photochemistry as air pollution source."
   ]
  },
  {
   "cell_type": "markdown",
   "id": "cc5416ab-c065-4542-927c-fadcb843b754",
   "metadata": {},
   "source": [
    "### PC2\n",
    "One can interpret this component by component. One method of deciding how many components to include is to choose only those that give unambiguous results, i.e., where no variable appears in two different columns as a significant contribution.\n",
    "\n",
    "**Note!** The primary purpose of this analysis is descriptive - it is not hypothesis testing! So your decision in many respects needs to be made based on what provides you with a good, concise description of the data."
   ]
  },
  {
   "metadata": {},
   "cell_type": "markdown",
   "source": [
    "## Problem\n",
    "1. negative contributions don't make sense"
   ],
   "id": "af66205cacb1767b"
  },
  {
   "metadata": {},
   "cell_type": "markdown",
   "source": [
    "# PCA Challenge\n",
    "**easy: What does the first principal component represent in PCA**\n",
    "\n",
    "_Answer_\n",
    "A combination of the initial values that give the have the highest variance, and therefore explains the highest variation in the data\n",
    "\n",
    "**medium: You have a raw dataset with different units. What preprocessing step should you apply before PCA and why?**\n",
    "\n",
    "_Answer_\n",
    "Scaling (standardizations) removes a bias from bigger numbers if a factor has much higher absolute variance in numbers than others\n",
    "\n",
    "\n",
    "**hard: PCA finds directions that explain as much variance in the data as possible. Do you think all of this variance is equally meaningful or useful in real-world data? Explain breifly**\n",
    "\n",
    "_Answer_\n",
    "some PC will only adapt to noise in the data,\n",
    "\n"
   ],
   "id": "27c52c78f660126f"
  },
  {
   "cell_type": "markdown",
   "id": "8468ad15-22de-4158-8878-f8e143b8c28f",
   "metadata": {},
   "source": [
    "## 6.4 Factor Analysis"
   ]
  },
  {
   "cell_type": "markdown",
   "id": "fbbc3cdf-c388-42e2-b32a-eb92aa3ca9f6",
   "metadata": {},
   "source": [
    "### 6.4.1  Statistical Modeling instead of Geometric Decomposition\n",
    "\n",
    "In PCA, the interpretation of the principal components is often not very clean. A particular variable may, on occasion, contribute significantly to more than one of the components.\n",
    "\n",
    "In factor analysis we turn the tables around: We try to model the observed variables, and their covariance structure, in terms of a smaller number of underlying unobservable (latent) “factors.” The factors typically are viewed as broad concepts or ideas that may describe an observed phenomenon."
   ]
  },
  {
   "cell_type": "markdown",
   "id": "4ab7f681-1818-4810-8edf-5b3be6eec41d",
   "metadata": {},
   "source": [
    "Instead of assigning with a linear combination the observed variables to new variables (the principal components), we try to express the observed variables as a combination of the factors:\n",
    "\n",
    "$$\n",
    "\\begin{align}\n",
    "X_1 &= \\mu_1 + l_{11}f_1 + l_{12}f_2 + ... + l_{1,m}f_m + \\epsilon_1 \\\\\n",
    "X_2 &= \\mu_2 + l_{21}f_1 + l_{22}f_2 + ... + l_{2,m}f_m + \\epsilon_2 \\\\\n",
    "&... \\\\\n",
    "X_p &= \\mu_p + l_{p1}f_1 + l_{p2}f_2 + ... + l_{p,m}f_m + \\epsilon_p\n",
    "\\end{align}\n",
    "$$\n",
    "If we think that each $X_i$ has $n$ observations in time, then for each observation at time-step $m$ we assume:\n",
    "$$\n",
    "x_{m} = \\mu + L f_{m} + \\epsilon_m \n",
    "$$\n",
    "\n",
    "Or, more general in matrix-notation:\n",
    "$$\n",
    "X = \\mu + LF + \\epsilon\n",
    "$$\n",
    "\n",
    "And remember, that we often deal with *centered* data, so we reduce the model to:\n",
    "$$\n",
    "X' = X-\\mu = LF + \\epsilon\n",
    "$$"
   ]
  },
  {
   "metadata": {},
   "cell_type": "markdown",
   "source": [
    "## Notes\n",
    "* now we have factors f with certain loadings that make up our measured variables X\n",
    "*\n"
   ],
   "id": "c5dffe71fbb2e02c"
  },
  {
   "cell_type": "markdown",
   "id": "8c60cdf5-94d3-4cfa-b72b-15f09b6bef23",
   "metadata": {},
   "source": [
    "Let's quickly recall the dimensions of our variables, factors and loadings:\n",
    "\n",
    "- $X \\in \\mathbb{R}^{p \\times n}$: Are our $p$ observed variables (SO$_2$, NO$_x$, etc.) at $n$ different timepoints. \n",
    "- $L \\in \\mathbb{R}^{k \\times p}$: Are the $k$ time-independent loadings of the factors, i.e. how much each of the $p$ observed variable contribute to each factor. We can identify these factors as potential *source profiles* in our dataset. \n",
    "- $f \\in \\mathbb{R}^{n \\times k}$: Are the factor scores, giving strengths of each factor $k$ for each timepoint $n$. They model the variability in the data.\n",
    "- $\\epsilon$ are the $p$ residuals, that means the specific (unshared) variance of each variable $p$ at the timepoints $n$\n",
    "\n",
    "In summary, the basic model is like a regression model. Importantly, for the model we assume:\n",
    "- $\\text{Cov}(f_i) = I_k$\n",
    "- $\\text{Cov}(\\epsilon_i) = \\Psi = \\text{diag}(\\psi_1, \\dots, \\psi_p)$\n",
    "\n",
    "Under these assumptions, FA tries to find model coefficients ($L$, $\\Psi$) to describe the observations $X$ (through regression)."
   ]
  },
  {
   "cell_type": "markdown",
   "id": "2f3f1bcf-3068-48df-abfa-261278b3683a",
   "metadata": {},
   "source": [
    "&rarr; We now see that the underlying model is different in FA than in PCA:\n",
    "$$\n",
    "\\text{Cov}(X, Y) = LL^T + \\Psi \n",
    "$$"
   ]
  },
  {
   "cell_type": "markdown",
   "id": "d3a15ea7-8ae5-4c07-8428-7525f7149bcd",
   "metadata": {},
   "source": [
    "Factor anaylsis says that the covariance in the data can be explained by shared (co-)variance ($LL^T$) of a lower rank and some unqiue/specific variance of each variable ($\\Psi=Cov(\\epsilon)=diag(\\psi_1, \\psi_2, ... , \\psi_p)$). While, PCA aims to explain all variance in the data using a new set of directions such that higher-order components can be truncated at they contribute little to the explained variance, Factor Analysis (FA) assumes that only the common variance among variables is explained by a smaller set of latent factors, while residual variance specific to each variable (unique variance) is explicitly modeled and not explained by the common factors.\n",
    "\n",
    "**PCA will try to explain all variation in NO$_x$, SO₂, CO, etc., even variation that's unique to a sensor or a random fluctuation. In FA, some of this variation is shared between pollutants (due to common sources), and some is just unique sensor error or local effects, the factors are not forced to explain that part!**"
   ]
  },
  {
   "cell_type": "markdown",
   "id": "509fb8e3-9429-49e3-8f93-e56ca8f51537",
   "metadata": {},
   "source": [
    "### 6.4.2 Factor Analysis step-by-step"
   ]
  },
  {
   "cell_type": "markdown",
   "id": "353645d6-14b6-4fa9-8eec-02312fd6cc5e",
   "metadata": {},
   "source": [
    "**Goal**:\n",
    "\n",
    "Estimate $L$ and $\\Psi$ such that the **observed covariance** $\\Sigma$ is approximated by:\n",
    "\n",
    "$$\n",
    "\\Sigma \\approx LL^\\top + \\Psi\n",
    "$$\n",
    "\n",
    "**Data Preparation**\n",
    "\n",
    "- **Input**: Matrix $X \\in \\mathbb{R}^{n \\times p}$\n",
    "- **Center** the data (subtract mean of each variable)\n",
    "- **Do not necessarily standardize** unless variables are on different scales (units) and comparability is desired\n",
    "- **Handle missing values**: impute or remove incomplete rows\n",
    "\n",
    "So up-to-now there is nothing new (and for our dataset with different units we still need to standardize):"
   ]
  },
  {
   "cell_type": "code",
   "id": "537a4e7c-88e1-4a42-b4ad-bb4df48bd519",
   "metadata": {
    "ExecuteTime": {
     "end_time": "2025-05-27T08:42:12.987369Z",
     "start_time": "2025-05-27T08:42:12.920501Z"
    }
   },
   "source": [
    "from sklearn.preprocessing import StandardScaler\n",
    "\n",
    "scaler = StandardScaler()\n",
    "hel_scaled = scaler.fit_transform(hel)\n",
    "hel_scaled = pd.DataFrame(hel_scaled, index=hel.index, columns=hel.columns)\n",
    "hel_scaled"
   ],
   "outputs": [
    {
     "data": {
      "text/plain": [
       "                     KUM_META.t  KUM_META.rh  KUM_META.Tower_GLOB_32m  \\\n",
       "time                                                                    \n",
       "2016-01-01 00:00:00   -1.289340    -0.158528                -0.586859   \n",
       "2016-01-01 01:00:00   -1.278534    -0.051598                -0.585304   \n",
       "2016-01-01 02:00:00   -1.263558     0.007496                -0.585188   \n",
       "2016-01-01 03:00:00   -1.269814    -0.032838                -0.585343   \n",
       "2016-01-01 04:00:00   -1.229058    -0.035652                -0.585343   \n",
       "...                         ...          ...                      ...   \n",
       "2024-12-31 19:00:00   -1.058258    -0.441802                -0.608392   \n",
       "2024-12-31 20:00:00   -1.093518    -0.263583                -0.608256   \n",
       "2024-12-31 21:00:00   -1.126692    -0.085365                -0.605112   \n",
       "2024-12-31 22:00:00   -1.114369    -0.123823                -0.600041   \n",
       "2024-12-31 23:00:00   -1.110200    -0.193234                -0.597244   \n",
       "\n",
       "                     KUM_META.PM10_TEOM  KUM_META.BC_MAAP  KUM_META.cn  \\\n",
       "time                                                                     \n",
       "2016-01-01 00:00:00                 NaN          0.378305    -0.856290   \n",
       "2016-01-01 01:00:00                 NaN          0.312156    -0.984096   \n",
       "2016-01-01 02:00:00                 NaN          0.260826    -1.126833   \n",
       "2016-01-01 03:00:00                 NaN          0.206060    -1.137650   \n",
       "2016-01-01 04:00:00                 NaN          0.275645    -1.145831   \n",
       "...                                 ...               ...          ...   \n",
       "2024-12-31 19:00:00            0.108605         -0.486222    -0.600556   \n",
       "2024-12-31 20:00:00            0.146975         -0.485943    -0.312620   \n",
       "2024-12-31 21:00:00            0.090770         -0.485825     0.026523   \n",
       "2024-12-31 22:00:00            0.038043         -0.485867    -0.044777   \n",
       "2024-12-31 23:00:00            0.010322         -0.485930     0.073423   \n",
       "\n",
       "                     KUM_META.PM25_TEOM  KUM_META.NO_x  KUM_META.O_3  \\\n",
       "time                                                                   \n",
       "2016-01-01 00:00:00                 NaN      -0.456848      0.618076   \n",
       "2016-01-01 01:00:00                 NaN      -0.507255      0.539036   \n",
       "2016-01-01 02:00:00                 NaN      -0.494342      0.425719   \n",
       "2016-01-01 03:00:00                 NaN      -0.534415      0.483477   \n",
       "2016-01-01 04:00:00                 NaN      -0.533509      0.355398   \n",
       "...                                 ...            ...           ...   \n",
       "2024-12-31 19:00:00            0.047962      -0.465555      0.777816   \n",
       "2024-12-31 20:00:00            0.117233      -0.446982      0.688441   \n",
       "2024-12-31 21:00:00            0.113307      -0.470937      0.618743   \n",
       "2024-12-31 22:00:00            0.079777      -0.375687      0.517515   \n",
       "2024-12-31 23:00:00            0.055331      -0.449179      0.644109   \n",
       "\n",
       "                     KUM_META.SO_2  KUM_META.NO  KUM_META.CO  \n",
       "time                                                          \n",
       "2016-01-01 00:00:00       0.176543    -0.168712     0.720798  \n",
       "2016-01-01 01:00:00      -0.019325    -0.197282     0.748326  \n",
       "2016-01-01 02:00:00      -0.065943    -0.182260     0.730278  \n",
       "2016-01-01 03:00:00      -0.011636    -0.206001     0.698912  \n",
       "2016-01-01 04:00:00       0.174601    -0.207936     0.753556  \n",
       "...                            ...          ...          ...  \n",
       "2024-12-31 19:00:00      -0.099619    -0.214298    -1.018877  \n",
       "2024-12-31 20:00:00      -0.103813    -0.205652    -0.968741  \n",
       "2024-12-31 21:00:00      -0.152600    -0.200003    -0.909488  \n",
       "2024-12-31 22:00:00      -0.140008    -0.206606    -1.055340  \n",
       "2024-12-31 23:00:00      -0.120867    -0.204005    -1.064963  \n",
       "\n",
       "[78912 rows x 12 columns]"
      ],
      "text/html": [
       "<div>\n",
       "<style scoped>\n",
       "    .dataframe tbody tr th:only-of-type {\n",
       "        vertical-align: middle;\n",
       "    }\n",
       "\n",
       "    .dataframe tbody tr th {\n",
       "        vertical-align: top;\n",
       "    }\n",
       "\n",
       "    .dataframe thead th {\n",
       "        text-align: right;\n",
       "    }\n",
       "</style>\n",
       "<table border=\"1\" class=\"dataframe\">\n",
       "  <thead>\n",
       "    <tr style=\"text-align: right;\">\n",
       "      <th></th>\n",
       "      <th>KUM_META.t</th>\n",
       "      <th>KUM_META.rh</th>\n",
       "      <th>KUM_META.Tower_GLOB_32m</th>\n",
       "      <th>KUM_META.PM10_TEOM</th>\n",
       "      <th>KUM_META.BC_MAAP</th>\n",
       "      <th>KUM_META.cn</th>\n",
       "      <th>KUM_META.PM25_TEOM</th>\n",
       "      <th>KUM_META.NO_x</th>\n",
       "      <th>KUM_META.O_3</th>\n",
       "      <th>KUM_META.SO_2</th>\n",
       "      <th>KUM_META.NO</th>\n",
       "      <th>KUM_META.CO</th>\n",
       "    </tr>\n",
       "    <tr>\n",
       "      <th>time</th>\n",
       "      <th></th>\n",
       "      <th></th>\n",
       "      <th></th>\n",
       "      <th></th>\n",
       "      <th></th>\n",
       "      <th></th>\n",
       "      <th></th>\n",
       "      <th></th>\n",
       "      <th></th>\n",
       "      <th></th>\n",
       "      <th></th>\n",
       "      <th></th>\n",
       "    </tr>\n",
       "  </thead>\n",
       "  <tbody>\n",
       "    <tr>\n",
       "      <th>2016-01-01 00:00:00</th>\n",
       "      <td>-1.289340</td>\n",
       "      <td>-0.158528</td>\n",
       "      <td>-0.586859</td>\n",
       "      <td>NaN</td>\n",
       "      <td>0.378305</td>\n",
       "      <td>-0.856290</td>\n",
       "      <td>NaN</td>\n",
       "      <td>-0.456848</td>\n",
       "      <td>0.618076</td>\n",
       "      <td>0.176543</td>\n",
       "      <td>-0.168712</td>\n",
       "      <td>0.720798</td>\n",
       "    </tr>\n",
       "    <tr>\n",
       "      <th>2016-01-01 01:00:00</th>\n",
       "      <td>-1.278534</td>\n",
       "      <td>-0.051598</td>\n",
       "      <td>-0.585304</td>\n",
       "      <td>NaN</td>\n",
       "      <td>0.312156</td>\n",
       "      <td>-0.984096</td>\n",
       "      <td>NaN</td>\n",
       "      <td>-0.507255</td>\n",
       "      <td>0.539036</td>\n",
       "      <td>-0.019325</td>\n",
       "      <td>-0.197282</td>\n",
       "      <td>0.748326</td>\n",
       "    </tr>\n",
       "    <tr>\n",
       "      <th>2016-01-01 02:00:00</th>\n",
       "      <td>-1.263558</td>\n",
       "      <td>0.007496</td>\n",
       "      <td>-0.585188</td>\n",
       "      <td>NaN</td>\n",
       "      <td>0.260826</td>\n",
       "      <td>-1.126833</td>\n",
       "      <td>NaN</td>\n",
       "      <td>-0.494342</td>\n",
       "      <td>0.425719</td>\n",
       "      <td>-0.065943</td>\n",
       "      <td>-0.182260</td>\n",
       "      <td>0.730278</td>\n",
       "    </tr>\n",
       "    <tr>\n",
       "      <th>2016-01-01 03:00:00</th>\n",
       "      <td>-1.269814</td>\n",
       "      <td>-0.032838</td>\n",
       "      <td>-0.585343</td>\n",
       "      <td>NaN</td>\n",
       "      <td>0.206060</td>\n",
       "      <td>-1.137650</td>\n",
       "      <td>NaN</td>\n",
       "      <td>-0.534415</td>\n",
       "      <td>0.483477</td>\n",
       "      <td>-0.011636</td>\n",
       "      <td>-0.206001</td>\n",
       "      <td>0.698912</td>\n",
       "    </tr>\n",
       "    <tr>\n",
       "      <th>2016-01-01 04:00:00</th>\n",
       "      <td>-1.229058</td>\n",
       "      <td>-0.035652</td>\n",
       "      <td>-0.585343</td>\n",
       "      <td>NaN</td>\n",
       "      <td>0.275645</td>\n",
       "      <td>-1.145831</td>\n",
       "      <td>NaN</td>\n",
       "      <td>-0.533509</td>\n",
       "      <td>0.355398</td>\n",
       "      <td>0.174601</td>\n",
       "      <td>-0.207936</td>\n",
       "      <td>0.753556</td>\n",
       "    </tr>\n",
       "    <tr>\n",
       "      <th>...</th>\n",
       "      <td>...</td>\n",
       "      <td>...</td>\n",
       "      <td>...</td>\n",
       "      <td>...</td>\n",
       "      <td>...</td>\n",
       "      <td>...</td>\n",
       "      <td>...</td>\n",
       "      <td>...</td>\n",
       "      <td>...</td>\n",
       "      <td>...</td>\n",
       "      <td>...</td>\n",
       "      <td>...</td>\n",
       "    </tr>\n",
       "    <tr>\n",
       "      <th>2024-12-31 19:00:00</th>\n",
       "      <td>-1.058258</td>\n",
       "      <td>-0.441802</td>\n",
       "      <td>-0.608392</td>\n",
       "      <td>0.108605</td>\n",
       "      <td>-0.486222</td>\n",
       "      <td>-0.600556</td>\n",
       "      <td>0.047962</td>\n",
       "      <td>-0.465555</td>\n",
       "      <td>0.777816</td>\n",
       "      <td>-0.099619</td>\n",
       "      <td>-0.214298</td>\n",
       "      <td>-1.018877</td>\n",
       "    </tr>\n",
       "    <tr>\n",
       "      <th>2024-12-31 20:00:00</th>\n",
       "      <td>-1.093518</td>\n",
       "      <td>-0.263583</td>\n",
       "      <td>-0.608256</td>\n",
       "      <td>0.146975</td>\n",
       "      <td>-0.485943</td>\n",
       "      <td>-0.312620</td>\n",
       "      <td>0.117233</td>\n",
       "      <td>-0.446982</td>\n",
       "      <td>0.688441</td>\n",
       "      <td>-0.103813</td>\n",
       "      <td>-0.205652</td>\n",
       "      <td>-0.968741</td>\n",
       "    </tr>\n",
       "    <tr>\n",
       "      <th>2024-12-31 21:00:00</th>\n",
       "      <td>-1.126692</td>\n",
       "      <td>-0.085365</td>\n",
       "      <td>-0.605112</td>\n",
       "      <td>0.090770</td>\n",
       "      <td>-0.485825</td>\n",
       "      <td>0.026523</td>\n",
       "      <td>0.113307</td>\n",
       "      <td>-0.470937</td>\n",
       "      <td>0.618743</td>\n",
       "      <td>-0.152600</td>\n",
       "      <td>-0.200003</td>\n",
       "      <td>-0.909488</td>\n",
       "    </tr>\n",
       "    <tr>\n",
       "      <th>2024-12-31 22:00:00</th>\n",
       "      <td>-1.114369</td>\n",
       "      <td>-0.123823</td>\n",
       "      <td>-0.600041</td>\n",
       "      <td>0.038043</td>\n",
       "      <td>-0.485867</td>\n",
       "      <td>-0.044777</td>\n",
       "      <td>0.079777</td>\n",
       "      <td>-0.375687</td>\n",
       "      <td>0.517515</td>\n",
       "      <td>-0.140008</td>\n",
       "      <td>-0.206606</td>\n",
       "      <td>-1.055340</td>\n",
       "    </tr>\n",
       "    <tr>\n",
       "      <th>2024-12-31 23:00:00</th>\n",
       "      <td>-1.110200</td>\n",
       "      <td>-0.193234</td>\n",
       "      <td>-0.597244</td>\n",
       "      <td>0.010322</td>\n",
       "      <td>-0.485930</td>\n",
       "      <td>0.073423</td>\n",
       "      <td>0.055331</td>\n",
       "      <td>-0.449179</td>\n",
       "      <td>0.644109</td>\n",
       "      <td>-0.120867</td>\n",
       "      <td>-0.204005</td>\n",
       "      <td>-1.064963</td>\n",
       "    </tr>\n",
       "  </tbody>\n",
       "</table>\n",
       "<p>78912 rows × 12 columns</p>\n",
       "</div>"
      ]
     },
     "execution_count": 29,
     "metadata": {},
     "output_type": "execute_result"
    }
   ],
   "execution_count": 29
  },
  {
   "cell_type": "markdown",
   "id": "ec7783d7-72c7-41e8-a935-88af92034266",
   "metadata": {},
   "source": [
    "**Estimating Loadings $L$ and Uniquenesses $\\Psi$**\n",
    "\n",
    "There are several approaches how to find $L$ and $\\Psi$ using optimization (fitting):\n",
    "\n",
    "| Method                        | Optimizes / Minimizes                                                                     | Assumptions                   | Iterative | Uses eigen decomposition   | Fit statistics |\n",
    "| ----------------------------- | ----------------------------------------------------------------------------------------- | ----------------------------- | --------- | -------------------------- | -------------- |\n",
    "| **Principal Axis Factoring**  | Difference between observed and model-implied **diagonals** (communalities)               | No distributional assumptions | Yes       | Yes                        | No             |\n",
    "| **Minimum Residual (MinRes)** | Sum of squared **off-diagonal residuals**:  $\\sum_{i \\neq j} (R_{ij} - (LL^\\top)_{ij})^2$ | No distributional assumptions | Yes       | Often (for initialization) | No             |\n",
    "| **Maximum Likelihood (MLFA)** | Negative log-likelihood under $X \\sim \\mathcal{N}(0, \\Sigma = LL^\\top + \\Psi)$            | Multivariate normality        | Yes       | No                         | Yes            |\n",
    "\n",
    "Let's look at such an algorithm step-by-step, here the most straight-forward **Principal Axis Factoring**, which has many similarities with PCA:\n",
    "1. Start with some guess of the uniqueness (can be as simple as $\\psi_i$=0.5 for all $i$)\n",
    "2. Calculate the reduced covariance $ \\text{Cov}_{red}=\\text{Cov}-\\Psi $\n",
    "3. Perform a *eigen decomposition* of $ \\text{Cov}_{red}$ as in PCA, obtaining the *eigenvalues* $\\Lambda = \\text{diag}(\\lambda_1, ..., \\lambda_p)$ and *eigenvectors* $V$ (matrix of all *eigenvectors*), i.e. rewrite $\\text{Cov}_{red} = V \\Lambda V^T $\n",
    "4. As the model is $\\text{Cov}(X, Y) = LL^T + \\Psi$, we know that $LL^T = \\text{Cov}_{red}$, and by taking only the first $k$ (assumed number of factors) *eigen decompositions* we can hence approximate $L \\approx V_k \\Lambda_k^{1/2}$\n",
    "5. We can now update our initial guess of the uniqueness by $\\psi_j = 1 - \\sum_{i=1} L_{ij}^2$ and repeat the algorithm till convergence\n",
    "We see that the algorithm in step 4. and 5. tries to optimize $L$ until $diag(LL^T + \\Psi) = diag(\\text{Cov})$, it tries to find the optimal solution for $L$ such that the variances of the indvidual observed variables are best explained by the set of $k$ common factors.\n",
    "\n",
    "***In contrast***: MinRes tries to find a loading matrix $L$ such that the relationships between variables — that is, the off-diagonal entries of the correlation matrix — are best explained by a small number of common factors."
   ]
  },
  {
   "metadata": {},
   "cell_type": "markdown",
   "source": [
    "# Maximum Likelihood\n",
    "needs normal distributed data (e.g. does not work for charging states of molecules - can only be integers 1, 2, -1 etc"
   ],
   "id": "9d9bd73a41c87b91"
  },
  {
   "cell_type": "markdown",
   "id": "6b60f4a4-1532-4457-af37-2b092614c0d2",
   "metadata": {},
   "source": [
    "**Regress the factor scores $f$**\n",
    "\n",
    "After the loadings $L$ and the uniqueness $\\Psi$ have been estimated, we return to the model equation $X = LF + \\epsilon$ and use a simple regression to optimize the factor scores such that across all timesteps $m \\in N$ we achieve the minimum deviation for all $x_m = Lf_m + \\epsilon_m$ (using a typical least-square approach is sufficient)."
   ]
  },
  {
   "cell_type": "markdown",
   "id": "88f9948b-369d-40d6-aedd-43065cfcbbcd",
   "metadata": {},
   "source": [
    "**Rotation**:\n",
    "\n",
    "Last, we need to realize that Factor Analysis is a underdetermined problem, many different loading matrices can explain the same data equally well. \n",
    "\n",
    "*Why?* \n",
    "\n",
    "Assume we have an *orthogonal matrix* $T$ (i.e. $TT^T=I$) which we apply on both the loading matrix $L$ and the factor score matrix $F$: $L_{rot}=LT$ and $F_{rot} = T^TF$, which doesn't change the model as $X = L_{rot}F_{rot} + \\epsilon = LTT^TF + \\epsilon = LF + \\epsilon$ and also doesn't change the covariance structure we optimized to fit with the model as $\\text{Cov}(X) = L_{rot}L_{rot}^T + \\Psi = LT(LT)^T + \\Psi = LTT^TL^T + \\Psi = LT + \\Psi$\n",
    "\n",
    "So we can apply any orthogonal matrix to our solution, to find another.\n",
    "\n",
    "***Make use of it***: We can try to find rotations which make the solutions more meaningful. Factor loadings are often spread across many factors and we can try to find rotations which transform the solution such that variables have often a high load on one factor and are low on others \n",
    "\n",
    "&rarr; most python libraries for factor analysis provide these tools!"
   ]
  },
  {
   "cell_type": "markdown",
   "id": "52ffdecc-29c5-4668-b287-d7dcdce00c13",
   "metadata": {},
   "source": [
    "### 6.4.3 Factor analysis in practice: `scikit-learn` "
   ]
  },
  {
   "cell_type": "markdown",
   "id": "d9b71d86-3d5a-4121-a106-7f304431513e",
   "metadata": {},
   "source": [
    "Let's perform factor analysis again on our Helsinki dataset.\n",
    "\n",
    "We are using [`sklearn.decompose.FactorAnalysis`](https://scikit-learn.org/stable/modules/generated/sklearn.decomposition.FactorAnalysis.html), however, it needs to be pointed out that its abilities are quite limited. For more in-depth adjustement of FA parameters, solvers (e.g. scikit-learn only uses Maximum Likelihood for solving the problem), etc. the usage of the [`factor_analyzer`](https://pypi.org/project/factor-analyzer/) module is recommended but not covered here. \n",
    "\n",
    "Let's see how FA works in scikit-learn:"
   ]
  },
  {
   "cell_type": "code",
   "id": "4aa46efe-1cdc-4276-a6c9-f01126414e28",
   "metadata": {
    "ExecuteTime": {
     "end_time": "2025-05-27T08:47:42.094782Z",
     "start_time": "2025-05-27T08:45:49.057566Z"
    }
   },
   "source": [
    "from sklearn.decomposition import FactorAnalysis\n",
    "\n",
    "scaler = StandardScaler()\n",
    "hel_scaled = scaler.fit_transform(hel_clean)\n",
    "hel_scaled = pd.DataFrame(hel_scaled, index=hel.index, columns=hel.columns)\n",
    "\n",
    "fa = FactorAnalysis(n_components=4, random_state=42)    # n_components needs to be tested with trial and errors, PCA typically 3 is a good starting point for FA not necessarily\n",
    "# random_state is good for knowing how you got there. FA has many solutions\n",
    "fa.fit(hel_scaled)\n",
    "\n",
    "fa.components_.T"
   ],
   "outputs": [
    {
     "name": "stderr",
     "output_type": "stream",
     "text": [
      "C:\\Users\\flori\\PycharmProjects\\vu-gpa\\.venv\\Lib\\site-packages\\sklearn\\decomposition\\_factor_analysis.py:296: ConvergenceWarning: FactorAnalysis did not converge. You might want to increase the number of iterations.\n",
      "  warnings.warn(\n"
     ]
    },
    {
     "data": {
      "text/plain": [
       "array([[-1.95321126e-01, -4.44263922e-02,  5.69974335e-01,\n",
       "         4.41678203e-01],\n",
       "       [ 6.70996685e-02,  7.23397903e-02, -8.45212692e-01,\n",
       "         2.44825177e-01],\n",
       "       [-3.92480745e-02, -4.35379216e-02,  6.74416331e-01,\n",
       "         3.00537103e-02],\n",
       "       [ 1.05822494e-01, -9.91603983e-01,  4.81727163e-03,\n",
       "        -3.00165210e-03],\n",
       "       [ 3.71041522e-01, -5.76760650e-02, -3.08405782e-02,\n",
       "        -1.57272849e-01],\n",
       "       [ 5.87365034e-01, -3.03704204e-02,  1.98626848e-01,\n",
       "        -1.69471978e-01],\n",
       "       [ 5.85620690e-02, -9.67220643e-01, -7.22976395e-02,\n",
       "         3.75192415e-02],\n",
       "       [ 9.99401604e-01,  1.76333179e-02,  7.06638161e-04,\n",
       "         8.06655371e-04],\n",
       "       [-4.00921364e-01, -5.98404954e-02,  5.29175662e-01,\n",
       "        -7.69354170e-02],\n",
       "       [ 1.26010972e-01, -1.26583247e-02,  8.13923008e-02,\n",
       "        -1.48598764e-01],\n",
       "       [ 9.14515082e-01,  3.73327945e-02,  6.81780049e-02,\n",
       "         5.80795323e-02],\n",
       "       [ 5.15421456e-01, -1.70698875e-02, -2.89947840e-01,\n",
       "        -5.71730081e-01]])"
      ]
     },
     "execution_count": 31,
     "metadata": {},
     "output_type": "execute_result"
    }
   ],
   "execution_count": 31
  },
  {
   "cell_type": "markdown",
   "id": "f0576e65-b837-479c-b547-1d0fd7ff76af",
   "metadata": {},
   "source": [
    "Apparently, there is a convergence issue. We already see, that peforming factor analysis might be much more challenging than PCA.\n",
    "\n",
    "&rarr; this is no surprise, the underlying model to be fit is quite a challenging proceess especially if you have many many observations (time-steps\n",
    "\n",
    "Let's try to further clean our dataset:"
   ]
  },
  {
   "cell_type": "code",
   "id": "1ca6de8b-8f80-4e89-a259-a5b7f4d556cd",
   "metadata": {
    "ExecuteTime": {
     "end_time": "2025-05-27T08:47:42.993399Z",
     "start_time": "2025-05-27T08:47:42.192804Z"
    }
   },
   "source": [
    "# Do a rolling average to remove outliers\n",
    "hel_smoothed = hel.rolling(window=6).median()\n",
    "\n",
    "# outlier detection, and put in NaN\n",
    "pos_outliers = hel_smoothed.loc[:, :] > hel_smoothed.loc[:, :].mean() + 5*hel_smoothed.loc[:, :].std()\n",
    "neg_outliers = hel_smoothed.loc[:, :] < hel_smoothed.loc[:, :].mean() - 5*hel_smoothed.loc[:, :].std()\n",
    "hel_smoothed[(pos_outliers | neg_outliers)] = np.nan\n",
    "\n",
    "# Drop NaN\n",
    "hel_smoothed.dropna(axis=0, inplace=True)\n",
    "\n",
    "hel_smoothed"
   ],
   "outputs": [
    {
     "data": {
      "text/plain": [
       "                     KUM_META.t  KUM_META.rh  KUM_META.Tower_GLOB_32m  \\\n",
       "time                                                                    \n",
       "2018-03-08 20:00:00   -3.862500    81.283335                 7.889595   \n",
       "2018-03-08 21:00:00   -3.355835    83.641665                 0.191460   \n",
       "2018-03-08 22:00:00   -3.145000    87.866665                 0.018050   \n",
       "2018-03-08 23:00:00   -2.865000    92.075000                -0.014905   \n",
       "2018-03-09 00:00:00   -2.505835    92.983335                -0.057280   \n",
       "...                         ...          ...                      ...   \n",
       "2024-12-31 19:00:00   -1.499170    61.791665                -4.756195   \n",
       "2024-12-31 20:00:00   -1.701670    62.741665                -4.854550   \n",
       "2024-12-31 21:00:00   -2.000835    65.633330                -4.854550   \n",
       "2024-12-31 22:00:00   -2.360000    69.166665                -4.822815   \n",
       "2024-12-31 23:00:00   -2.588335    71.375000                -4.683270   \n",
       "\n",
       "                     KUM_META.PM10_TEOM  KUM_META.BC_MAAP  KUM_META.cn  \\\n",
       "time                                                                     \n",
       "2018-03-08 20:00:00           15.367480        917.083330  6798.922880   \n",
       "2018-03-08 21:00:00           14.318405        801.166665  6102.877555   \n",
       "2018-03-08 22:00:00           13.866300        726.250000  5447.809995   \n",
       "2018-03-08 23:00:00           13.600815        667.583335  4732.788450   \n",
       "2018-03-09 00:00:00           12.369000        660.125000  4046.609950   \n",
       "...                                 ...               ...          ...   \n",
       "2024-12-31 19:00:00           10.960185          0.136670  1986.073125   \n",
       "2024-12-31 20:00:00           11.005430          0.162920  2075.450690   \n",
       "2024-12-31 21:00:00           10.901090          0.201250  2310.131465   \n",
       "2024-12-31 22:00:00           10.675530          0.272500  2916.382900   \n",
       "2024-12-31 23:00:00           10.477725          0.329170  3774.667075   \n",
       "\n",
       "                     KUM_META.PM25_TEOM  KUM_META.NO_x  KUM_META.O_3  \\\n",
       "time                                                                   \n",
       "2018-03-08 20:00:00            9.978860      15.552660     31.234680   \n",
       "2018-03-08 21:00:00            9.978860      12.113385     34.033305   \n",
       "2018-03-08 22:00:00            9.752625       9.878625     34.876760   \n",
       "2018-03-08 23:00:00            9.214995       7.323340     35.941980   \n",
       "2018-03-09 00:00:00            9.187480       5.459100     36.532475   \n",
       "...                                 ...            ...           ...   \n",
       "2024-12-31 19:00:00            2.319095       1.916480     34.760415   \n",
       "2024-12-31 20:00:00            2.729390       1.881685     34.669025   \n",
       "2024-12-31 21:00:00            3.826645       1.779825     34.669025   \n",
       "2024-12-31 22:00:00            5.027855       1.779825     34.095985   \n",
       "2024-12-31 23:00:00            5.133960       1.850430     33.399445   \n",
       "\n",
       "                     KUM_META.SO_2  KUM_META.NO  KUM_META.CO  \n",
       "time                                                          \n",
       "2018-03-08 20:00:00       0.924955     2.129470   217.817030  \n",
       "2018-03-08 21:00:00       0.797070     1.077100   213.076470  \n",
       "2018-03-08 22:00:00       0.729060     0.776010   212.008410  \n",
       "2018-03-08 23:00:00       0.639310     0.418265   210.812485  \n",
       "2018-03-09 00:00:00       0.565710     0.127255   209.480430  \n",
       "...                            ...          ...          ...  \n",
       "2024-12-31 19:00:00       0.077825     0.017205   118.703300  \n",
       "2024-12-31 20:00:00       0.090075     0.017505   120.909775  \n",
       "2024-12-31 21:00:00       0.093395     0.024565   120.909775  \n",
       "2024-12-31 22:00:00       0.099520     0.019620   121.052630  \n",
       "2024-12-31 23:00:00       0.112660     0.019620   121.052630  \n",
       "\n",
       "[28924 rows x 12 columns]"
      ],
      "text/html": [
       "<div>\n",
       "<style scoped>\n",
       "    .dataframe tbody tr th:only-of-type {\n",
       "        vertical-align: middle;\n",
       "    }\n",
       "\n",
       "    .dataframe tbody tr th {\n",
       "        vertical-align: top;\n",
       "    }\n",
       "\n",
       "    .dataframe thead th {\n",
       "        text-align: right;\n",
       "    }\n",
       "</style>\n",
       "<table border=\"1\" class=\"dataframe\">\n",
       "  <thead>\n",
       "    <tr style=\"text-align: right;\">\n",
       "      <th></th>\n",
       "      <th>KUM_META.t</th>\n",
       "      <th>KUM_META.rh</th>\n",
       "      <th>KUM_META.Tower_GLOB_32m</th>\n",
       "      <th>KUM_META.PM10_TEOM</th>\n",
       "      <th>KUM_META.BC_MAAP</th>\n",
       "      <th>KUM_META.cn</th>\n",
       "      <th>KUM_META.PM25_TEOM</th>\n",
       "      <th>KUM_META.NO_x</th>\n",
       "      <th>KUM_META.O_3</th>\n",
       "      <th>KUM_META.SO_2</th>\n",
       "      <th>KUM_META.NO</th>\n",
       "      <th>KUM_META.CO</th>\n",
       "    </tr>\n",
       "    <tr>\n",
       "      <th>time</th>\n",
       "      <th></th>\n",
       "      <th></th>\n",
       "      <th></th>\n",
       "      <th></th>\n",
       "      <th></th>\n",
       "      <th></th>\n",
       "      <th></th>\n",
       "      <th></th>\n",
       "      <th></th>\n",
       "      <th></th>\n",
       "      <th></th>\n",
       "      <th></th>\n",
       "    </tr>\n",
       "  </thead>\n",
       "  <tbody>\n",
       "    <tr>\n",
       "      <th>2018-03-08 20:00:00</th>\n",
       "      <td>-3.862500</td>\n",
       "      <td>81.283335</td>\n",
       "      <td>7.889595</td>\n",
       "      <td>15.367480</td>\n",
       "      <td>917.083330</td>\n",
       "      <td>6798.922880</td>\n",
       "      <td>9.978860</td>\n",
       "      <td>15.552660</td>\n",
       "      <td>31.234680</td>\n",
       "      <td>0.924955</td>\n",
       "      <td>2.129470</td>\n",
       "      <td>217.817030</td>\n",
       "    </tr>\n",
       "    <tr>\n",
       "      <th>2018-03-08 21:00:00</th>\n",
       "      <td>-3.355835</td>\n",
       "      <td>83.641665</td>\n",
       "      <td>0.191460</td>\n",
       "      <td>14.318405</td>\n",
       "      <td>801.166665</td>\n",
       "      <td>6102.877555</td>\n",
       "      <td>9.978860</td>\n",
       "      <td>12.113385</td>\n",
       "      <td>34.033305</td>\n",
       "      <td>0.797070</td>\n",
       "      <td>1.077100</td>\n",
       "      <td>213.076470</td>\n",
       "    </tr>\n",
       "    <tr>\n",
       "      <th>2018-03-08 22:00:00</th>\n",
       "      <td>-3.145000</td>\n",
       "      <td>87.866665</td>\n",
       "      <td>0.018050</td>\n",
       "      <td>13.866300</td>\n",
       "      <td>726.250000</td>\n",
       "      <td>5447.809995</td>\n",
       "      <td>9.752625</td>\n",
       "      <td>9.878625</td>\n",
       "      <td>34.876760</td>\n",
       "      <td>0.729060</td>\n",
       "      <td>0.776010</td>\n",
       "      <td>212.008410</td>\n",
       "    </tr>\n",
       "    <tr>\n",
       "      <th>2018-03-08 23:00:00</th>\n",
       "      <td>-2.865000</td>\n",
       "      <td>92.075000</td>\n",
       "      <td>-0.014905</td>\n",
       "      <td>13.600815</td>\n",
       "      <td>667.583335</td>\n",
       "      <td>4732.788450</td>\n",
       "      <td>9.214995</td>\n",
       "      <td>7.323340</td>\n",
       "      <td>35.941980</td>\n",
       "      <td>0.639310</td>\n",
       "      <td>0.418265</td>\n",
       "      <td>210.812485</td>\n",
       "    </tr>\n",
       "    <tr>\n",
       "      <th>2018-03-09 00:00:00</th>\n",
       "      <td>-2.505835</td>\n",
       "      <td>92.983335</td>\n",
       "      <td>-0.057280</td>\n",
       "      <td>12.369000</td>\n",
       "      <td>660.125000</td>\n",
       "      <td>4046.609950</td>\n",
       "      <td>9.187480</td>\n",
       "      <td>5.459100</td>\n",
       "      <td>36.532475</td>\n",
       "      <td>0.565710</td>\n",
       "      <td>0.127255</td>\n",
       "      <td>209.480430</td>\n",
       "    </tr>\n",
       "    <tr>\n",
       "      <th>...</th>\n",
       "      <td>...</td>\n",
       "      <td>...</td>\n",
       "      <td>...</td>\n",
       "      <td>...</td>\n",
       "      <td>...</td>\n",
       "      <td>...</td>\n",
       "      <td>...</td>\n",
       "      <td>...</td>\n",
       "      <td>...</td>\n",
       "      <td>...</td>\n",
       "      <td>...</td>\n",
       "      <td>...</td>\n",
       "    </tr>\n",
       "    <tr>\n",
       "      <th>2024-12-31 19:00:00</th>\n",
       "      <td>-1.499170</td>\n",
       "      <td>61.791665</td>\n",
       "      <td>-4.756195</td>\n",
       "      <td>10.960185</td>\n",
       "      <td>0.136670</td>\n",
       "      <td>1986.073125</td>\n",
       "      <td>2.319095</td>\n",
       "      <td>1.916480</td>\n",
       "      <td>34.760415</td>\n",
       "      <td>0.077825</td>\n",
       "      <td>0.017205</td>\n",
       "      <td>118.703300</td>\n",
       "    </tr>\n",
       "    <tr>\n",
       "      <th>2024-12-31 20:00:00</th>\n",
       "      <td>-1.701670</td>\n",
       "      <td>62.741665</td>\n",
       "      <td>-4.854550</td>\n",
       "      <td>11.005430</td>\n",
       "      <td>0.162920</td>\n",
       "      <td>2075.450690</td>\n",
       "      <td>2.729390</td>\n",
       "      <td>1.881685</td>\n",
       "      <td>34.669025</td>\n",
       "      <td>0.090075</td>\n",
       "      <td>0.017505</td>\n",
       "      <td>120.909775</td>\n",
       "    </tr>\n",
       "    <tr>\n",
       "      <th>2024-12-31 21:00:00</th>\n",
       "      <td>-2.000835</td>\n",
       "      <td>65.633330</td>\n",
       "      <td>-4.854550</td>\n",
       "      <td>10.901090</td>\n",
       "      <td>0.201250</td>\n",
       "      <td>2310.131465</td>\n",
       "      <td>3.826645</td>\n",
       "      <td>1.779825</td>\n",
       "      <td>34.669025</td>\n",
       "      <td>0.093395</td>\n",
       "      <td>0.024565</td>\n",
       "      <td>120.909775</td>\n",
       "    </tr>\n",
       "    <tr>\n",
       "      <th>2024-12-31 22:00:00</th>\n",
       "      <td>-2.360000</td>\n",
       "      <td>69.166665</td>\n",
       "      <td>-4.822815</td>\n",
       "      <td>10.675530</td>\n",
       "      <td>0.272500</td>\n",
       "      <td>2916.382900</td>\n",
       "      <td>5.027855</td>\n",
       "      <td>1.779825</td>\n",
       "      <td>34.095985</td>\n",
       "      <td>0.099520</td>\n",
       "      <td>0.019620</td>\n",
       "      <td>121.052630</td>\n",
       "    </tr>\n",
       "    <tr>\n",
       "      <th>2024-12-31 23:00:00</th>\n",
       "      <td>-2.588335</td>\n",
       "      <td>71.375000</td>\n",
       "      <td>-4.683270</td>\n",
       "      <td>10.477725</td>\n",
       "      <td>0.329170</td>\n",
       "      <td>3774.667075</td>\n",
       "      <td>5.133960</td>\n",
       "      <td>1.850430</td>\n",
       "      <td>33.399445</td>\n",
       "      <td>0.112660</td>\n",
       "      <td>0.019620</td>\n",
       "      <td>121.052630</td>\n",
       "    </tr>\n",
       "  </tbody>\n",
       "</table>\n",
       "<p>28924 rows × 12 columns</p>\n",
       "</div>"
      ]
     },
     "execution_count": 32,
     "metadata": {},
     "output_type": "execute_result"
    }
   ],
   "execution_count": 32
  },
  {
   "cell_type": "markdown",
   "id": "773cee98-cda3-47a8-9fe4-f32680ce93a5",
   "metadata": {},
   "source": [
    "Running the FA again, we see that convergence is achieved rapidly now:"
   ]
  },
  {
   "cell_type": "code",
   "id": "43f0a01d-36a5-4de6-98c1-f7dea300faac",
   "metadata": {
    "ExecuteTime": {
     "end_time": "2025-05-27T08:48:03.927528Z",
     "start_time": "2025-05-27T08:47:52.165320Z"
    }
   },
   "source": [
    "scaler = StandardScaler()\n",
    "hel_scaled = scaler.fit_transform(hel_smoothed)\n",
    "hel_scaled = pd.DataFrame(hel_scaled, index=hel_smoothed.index, columns=hel_smoothed.columns)\n",
    "\n",
    "fa = FactorAnalysis(n_components=3, random_state=42)\n",
    "fa.fit(hel_scaled)\n",
    "\n",
    "fa.components_.T"
   ],
   "outputs": [
    {
     "data": {
      "text/plain": [
       "array([[-0.22585959, -0.32766754, -0.34006461],\n",
       "       [ 0.09882069,  0.38735255,  0.73395094],\n",
       "       [-0.05168887, -0.2706378 , -0.61995583],\n",
       "       [ 0.36623467, -0.86604243,  0.0704006 ],\n",
       "       [ 0.23855459, -0.28873256,  0.14607045],\n",
       "       [ 0.60890578, -0.15407997, -0.27752409],\n",
       "       [ 0.34257155, -0.73011222,  0.33589994],\n",
       "       [ 0.98339392,  0.08515972, -0.02850917],\n",
       "       [-0.47109192, -0.35500049, -0.4160085 ],\n",
       "       [ 0.21513488, -0.15477593, -0.10214065],\n",
       "       [ 0.8123336 ,  0.11465264, -0.1357838 ],\n",
       "       [ 0.54841468, -0.06448505,  0.28311287]])"
      ]
     },
     "execution_count": 33,
     "metadata": {},
     "output_type": "execute_result"
    }
   ],
   "execution_count": 33
  },
  {
   "cell_type": "markdown",
   "id": "9e9090b0-ce11-43a5-8f6c-c547518d787b",
   "metadata": {},
   "source": [
    "Let's see if the output changes, if we include a rotation to the results (using varimax, which tries to find a rotation such that individual variables get maximized in one component): "
   ]
  },
  {
   "cell_type": "code",
   "id": "45a110cc-76f4-433f-979c-6b81e90356ea",
   "metadata": {
    "ExecuteTime": {
     "end_time": "2025-05-27T08:50:12.156455Z",
     "start_time": "2025-05-27T08:49:59.263097Z"
    }
   },
   "source": [
    "fa = FactorAnalysis(n_components=3, random_state=42, rotation='varimax') # take rotations into accounts, to find a good solution\n",
    "fa.fit(hel_scaled)\n",
    "\n",
    "fa.components_.T"
   ],
   "outputs": [
    {
     "data": {
      "text/plain": [
       "array([[-0.21542721, -0.13051667, -0.4588889 ],\n",
       "       [ 0.02755545,  0.09087362,  0.83034582],\n",
       "       [ 0.01863872, -0.03347179, -0.67734335],\n",
       "       [ 0.16222155, -0.90609832, -0.20441031],\n",
       "       [ 0.14146401, -0.37167545,  0.0587933 ],\n",
       "       [ 0.60786533, -0.20837797, -0.24208442],\n",
       "       [ 0.11436319, -0.86168271,  0.08758917],\n",
       "       [ 0.96601589, -0.16750085,  0.11783593],\n",
       "       [-0.44109107, -0.06755268, -0.56735467],\n",
       "       [ 0.19529499, -0.16368814, -0.1254487 ],\n",
       "       [ 0.8291877 , -0.06186945,  0.00939533],\n",
       "       [ 0.45680193, -0.29168492,  0.30219494]])"
      ]
     },
     "execution_count": 34,
     "metadata": {},
     "output_type": "execute_result"
    }
   ],
   "execution_count": 34
  },
  {
   "cell_type": "code",
   "id": "da14b75f-650f-4c26-9fb6-1c167d97a5c5",
   "metadata": {
    "ExecuteTime": {
     "end_time": "2025-05-27T08:51:50.568290Z",
     "start_time": "2025-05-27T08:51:50.434499Z"
    }
   },
   "source": [
    "hel_scaled.columns.values\n",
    "var_names = ['T','rh','rad','PM10','BC','CN','PM2.5','NOx','O3','SO2','NO','CO']\n",
    "\n",
    "plt.bar(var_names, fa.components_[0]) # factor 1 is 0, etc"
   ],
   "outputs": [
    {
     "data": {
      "text/plain": [
       "<BarContainer object of 12 artists>"
      ]
     },
     "execution_count": 39,
     "metadata": {},
     "output_type": "execute_result"
    },
    {
     "data": {
      "text/plain": [
       "<Figure size 640x480 with 1 Axes>"
      ],
      "image/png": "[encoded data removed]"
     },
     "metadata": {},
     "output_type": "display_data"
    }
   ],
   "execution_count": 39
  },
  {
   "metadata": {},
   "cell_type": "markdown",
   "source": " we see the 1st factor seems very similar to PC1",
   "id": "7410da58cc6528a8"
  },
  {
   "cell_type": "markdown",
   "id": "c70a411c-8c23-45db-b01b-2787d58af62e",
   "metadata": {},
   "source": [
    "Let's examine the monthly and dirunal cycles of the factors. For that we need to access the factzor scores $f_1$, ..., f$_k$ and we first plot their temporal evolution: "
   ]
  },
  {
   "cell_type": "code",
   "id": "51be09fc-6c64-403c-8d51-cbac27a02919",
   "metadata": {
    "ExecuteTime": {
     "end_time": "2025-05-27T08:51:55.554860Z",
     "start_time": "2025-05-27T08:51:55.365875Z"
    }
   },
   "source": [
    "factor_scores = fa.transform(hel_scaled)\n",
    "hel_fa_scores = pd.DataFrame(factor_scores, columns=['F1', 'F2', 'F3'], index=hel_scaled.index)\n",
    "\n",
    "plt.plot(hel_fa_scores.index, hel_fa_scores ['F1'])"
   ],
   "outputs": [
    {
     "data": {
      "text/plain": [
       "[<matplotlib.lines.Line2D at 0x13af0cd2c30>]"
      ]
     },
     "execution_count": 40,
     "metadata": {},
     "output_type": "execute_result"
    },
    {
     "data": {
      "text/plain": [
       "<Figure size 640x480 with 1 Axes>"
      ],
      "image/png": "[encoded data removed]"
     },
     "metadata": {},
     "output_type": "display_data"
    }
   ],
   "execution_count": 40
  },
  {
   "cell_type": "markdown",
   "id": "06b36524-5ef9-4efa-9010-7608588def5a",
   "metadata": {},
   "source": [
    "Now, the annual and diurnal cycles:"
   ]
  },
  {
   "cell_type": "code",
   "id": "6b119277-7157-4249-a5fc-eee0fc9e8ea8",
   "metadata": {
    "ExecuteTime": {
     "end_time": "2025-05-27T08:52:04.739421Z",
     "start_time": "2025-05-27T08:52:04.555491Z"
    }
   },
   "source": [
    "hel_fa_monthly = hel_fa_scores.groupby(hel_fa_scores.index.month).mean()\n",
    "plt.plot(hel_fa_monthly.index, hel_fa_monthly['F1'])\n",
    "plt.show()\n",
    "\n",
    "hel_fa_daily = hel_fa_scores.groupby(hel_fa_scores.index.hour).mean()\n",
    "plt.plot(hel_fa_daily.index, hel_fa_daily['F1'])\n",
    "plt.show()"
   ],
   "outputs": [
    {
     "data": {
      "text/plain": [
       "<Figure size 640x480 with 1 Axes>"
      ],
      "image/png": "[encoded data removed]"
     },
     "metadata": {},
     "output_type": "display_data"
    },
    {
     "data": {
      "text/plain": [
       "<Figure size 640x480 with 1 Axes>"
      ],
      "image/png": "[encoded data removed]"
     },
     "metadata": {},
     "output_type": "display_data"
    }
   ],
   "execution_count": 41
  },
  {
   "cell_type": "markdown",
   "id": "beb1ba08-41c3-4af1-86c7-426706a0f7aa",
   "metadata": {},
   "source": [
    "### 6.4.4 Non-negative matrix factorization\n",
    "\n",
    "We see that factor analysis (but also PCA) have one major shortcomming when it comes to atmospheric (and also often other chemistry related data): The underlying latent factors can be composed of negative contribution of the individual variables and also the factor scores can be negative. \n",
    "\n",
    "If we are dealing with concentrations, and our latent factors are e.g. supposed to be underlying sources of the different measured concentrations, then our factor loadings need to be all positive and also the contribution (the scores) to the measured concentration can also be only positive. \n",
    "\n",
    "This problem is addressed in **non-negative matrix factorization**. However, there is a key difference to the above techniques. NMF tries to find a matrix decomposition such that:\n",
    "$$\n",
    "X \\approx WH\n",
    "$$\n",
    "with $W \\in \\mathbb{R}_{\\geq 0}^{n \\times k}$ the source contributions (scores) and $H \\in \\mathbb{R}_{\\geq 0}^{k \\times p}$ the source profiles. It does not try to model the covariance structure and does not treat any variances of the individual variables &rarr; it is purely algebraic\n",
    "\n",
    "Here we do not go into detail about how the solution is found but just quickly show how it works with [`sklearn.decomposition.NMF`](https://scikit-learn.org/stable/modules/generated/sklearn.decomposition.NMF.html). For this to work we first need to get rid of all negative values in our dataset:"
   ]
  },
  {
   "cell_type": "code",
   "id": "34ce4e8c-f05a-485d-a1cf-aa6574486cf2",
   "metadata": {
    "ExecuteTime": {
     "end_time": "2025-05-27T08:52:59.471434Z",
     "start_time": "2025-05-27T08:52:59.442604Z"
    }
   },
   "source": [
    "import numpy as np\n",
    "\n",
    "hel_nonnegative = hel_smoothed.copy()\n",
    "hel_nonnegative.loc[:, 'KUM_META.t'] = hel_nonnegative.loc[:, 'KUM_META.t'] + 273.15\n",
    "hel_nonnegative.loc[:, 'KUM_META.Tower_GLOB_32m'] = hel_nonnegative.loc[:, 'KUM_META.Tower_GLOB_32m'] + np.abs(hel_nonnegative.loc[:, 'KUM_META.Tower_GLOB_32m'].min())\n",
    "hel_nonnegative[hel_nonnegative < 0] = np.nan\n",
    "hel_nonnegative.dropna(axis=0, inplace=True)\n",
    "\n",
    "hel_nonnegative"
   ],
   "outputs": [
    {
     "data": {
      "text/plain": [
       "                     KUM_META.t  KUM_META.rh  KUM_META.Tower_GLOB_32m  \\\n",
       "time                                                                    \n",
       "2018-03-08 20:00:00  269.287500    81.283335                14.491055   \n",
       "2018-03-08 21:00:00  269.794165    83.641665                 6.792920   \n",
       "2018-03-08 22:00:00  270.005000    87.866665                 6.619510   \n",
       "2018-03-08 23:00:00  270.285000    92.075000                 6.586555   \n",
       "2018-03-09 00:00:00  270.644165    92.983335                 6.544180   \n",
       "...                         ...          ...                      ...   \n",
       "2024-12-31 19:00:00  271.650830    61.791665                 1.845265   \n",
       "2024-12-31 20:00:00  271.448330    62.741665                 1.746910   \n",
       "2024-12-31 21:00:00  271.149165    65.633330                 1.746910   \n",
       "2024-12-31 22:00:00  270.790000    69.166665                 1.778645   \n",
       "2024-12-31 23:00:00  270.561665    71.375000                 1.918190   \n",
       "\n",
       "                     KUM_META.PM10_TEOM  KUM_META.BC_MAAP  KUM_META.cn  \\\n",
       "time                                                                     \n",
       "2018-03-08 20:00:00           15.367480        917.083330  6798.922880   \n",
       "2018-03-08 21:00:00           14.318405        801.166665  6102.877555   \n",
       "2018-03-08 22:00:00           13.866300        726.250000  5447.809995   \n",
       "2018-03-08 23:00:00           13.600815        667.583335  4732.788450   \n",
       "2018-03-09 00:00:00           12.369000        660.125000  4046.609950   \n",
       "...                                 ...               ...          ...   \n",
       "2024-12-31 19:00:00           10.960185          0.136670  1986.073125   \n",
       "2024-12-31 20:00:00           11.005430          0.162920  2075.450690   \n",
       "2024-12-31 21:00:00           10.901090          0.201250  2310.131465   \n",
       "2024-12-31 22:00:00           10.675530          0.272500  2916.382900   \n",
       "2024-12-31 23:00:00           10.477725          0.329170  3774.667075   \n",
       "\n",
       "                     KUM_META.PM25_TEOM  KUM_META.NO_x  KUM_META.O_3  \\\n",
       "time                                                                   \n",
       "2018-03-08 20:00:00            9.978860      15.552660     31.234680   \n",
       "2018-03-08 21:00:00            9.978860      12.113385     34.033305   \n",
       "2018-03-08 22:00:00            9.752625       9.878625     34.876760   \n",
       "2018-03-08 23:00:00            9.214995       7.323340     35.941980   \n",
       "2018-03-09 00:00:00            9.187480       5.459100     36.532475   \n",
       "...                                 ...            ...           ...   \n",
       "2024-12-31 19:00:00            2.319095       1.916480     34.760415   \n",
       "2024-12-31 20:00:00            2.729390       1.881685     34.669025   \n",
       "2024-12-31 21:00:00            3.826645       1.779825     34.669025   \n",
       "2024-12-31 22:00:00            5.027855       1.779825     34.095985   \n",
       "2024-12-31 23:00:00            5.133960       1.850430     33.399445   \n",
       "\n",
       "                     KUM_META.SO_2  KUM_META.NO  KUM_META.CO  \n",
       "time                                                          \n",
       "2018-03-08 20:00:00       0.924955     2.129470   217.817030  \n",
       "2018-03-08 21:00:00       0.797070     1.077100   213.076470  \n",
       "2018-03-08 22:00:00       0.729060     0.776010   212.008410  \n",
       "2018-03-08 23:00:00       0.639310     0.418265   210.812485  \n",
       "2018-03-09 00:00:00       0.565710     0.127255   209.480430  \n",
       "...                            ...          ...          ...  \n",
       "2024-12-31 19:00:00       0.077825     0.017205   118.703300  \n",
       "2024-12-31 20:00:00       0.090075     0.017505   120.909775  \n",
       "2024-12-31 21:00:00       0.093395     0.024565   120.909775  \n",
       "2024-12-31 22:00:00       0.099520     0.019620   121.052630  \n",
       "2024-12-31 23:00:00       0.112660     0.019620   121.052630  \n",
       "\n",
       "[19640 rows x 12 columns]"
      ],
      "text/html": [
       "<div>\n",
       "<style scoped>\n",
       "    .dataframe tbody tr th:only-of-type {\n",
       "        vertical-align: middle;\n",
       "    }\n",
       "\n",
       "    .dataframe tbody tr th {\n",
       "        vertical-align: top;\n",
       "    }\n",
       "\n",
       "    .dataframe thead th {\n",
       "        text-align: right;\n",
       "    }\n",
       "</style>\n",
       "<table border=\"1\" class=\"dataframe\">\n",
       "  <thead>\n",
       "    <tr style=\"text-align: right;\">\n",
       "      <th></th>\n",
       "      <th>KUM_META.t</th>\n",
       "      <th>KUM_META.rh</th>\n",
       "      <th>KUM_META.Tower_GLOB_32m</th>\n",
       "      <th>KUM_META.PM10_TEOM</th>\n",
       "      <th>KUM_META.BC_MAAP</th>\n",
       "      <th>KUM_META.cn</th>\n",
       "      <th>KUM_META.PM25_TEOM</th>\n",
       "      <th>KUM_META.NO_x</th>\n",
       "      <th>KUM_META.O_3</th>\n",
       "      <th>KUM_META.SO_2</th>\n",
       "      <th>KUM_META.NO</th>\n",
       "      <th>KUM_META.CO</th>\n",
       "    </tr>\n",
       "    <tr>\n",
       "      <th>time</th>\n",
       "      <th></th>\n",
       "      <th></th>\n",
       "      <th></th>\n",
       "      <th></th>\n",
       "      <th></th>\n",
       "      <th></th>\n",
       "      <th></th>\n",
       "      <th></th>\n",
       "      <th></th>\n",
       "      <th></th>\n",
       "      <th></th>\n",
       "      <th></th>\n",
       "    </tr>\n",
       "  </thead>\n",
       "  <tbody>\n",
       "    <tr>\n",
       "      <th>2018-03-08 20:00:00</th>\n",
       "      <td>269.287500</td>\n",
       "      <td>81.283335</td>\n",
       "      <td>14.491055</td>\n",
       "      <td>15.367480</td>\n",
       "      <td>917.083330</td>\n",
       "      <td>6798.922880</td>\n",
       "      <td>9.978860</td>\n",
       "      <td>15.552660</td>\n",
       "      <td>31.234680</td>\n",
       "      <td>0.924955</td>\n",
       "      <td>2.129470</td>\n",
       "      <td>217.817030</td>\n",
       "    </tr>\n",
       "    <tr>\n",
       "      <th>2018-03-08 21:00:00</th>\n",
       "      <td>269.794165</td>\n",
       "      <td>83.641665</td>\n",
       "      <td>6.792920</td>\n",
       "      <td>14.318405</td>\n",
       "      <td>801.166665</td>\n",
       "      <td>6102.877555</td>\n",
       "      <td>9.978860</td>\n",
       "      <td>12.113385</td>\n",
       "      <td>34.033305</td>\n",
       "      <td>0.797070</td>\n",
       "      <td>1.077100</td>\n",
       "      <td>213.076470</td>\n",
       "    </tr>\n",
       "    <tr>\n",
       "      <th>2018-03-08 22:00:00</th>\n",
       "      <td>270.005000</td>\n",
       "      <td>87.866665</td>\n",
       "      <td>6.619510</td>\n",
       "      <td>13.866300</td>\n",
       "      <td>726.250000</td>\n",
       "      <td>5447.809995</td>\n",
       "      <td>9.752625</td>\n",
       "      <td>9.878625</td>\n",
       "      <td>34.876760</td>\n",
       "      <td>0.729060</td>\n",
       "      <td>0.776010</td>\n",
       "      <td>212.008410</td>\n",
       "    </tr>\n",
       "    <tr>\n",
       "      <th>2018-03-08 23:00:00</th>\n",
       "      <td>270.285000</td>\n",
       "      <td>92.075000</td>\n",
       "      <td>6.586555</td>\n",
       "      <td>13.600815</td>\n",
       "      <td>667.583335</td>\n",
       "      <td>4732.788450</td>\n",
       "      <td>9.214995</td>\n",
       "      <td>7.323340</td>\n",
       "      <td>35.941980</td>\n",
       "      <td>0.639310</td>\n",
       "      <td>0.418265</td>\n",
       "      <td>210.812485</td>\n",
       "    </tr>\n",
       "    <tr>\n",
       "      <th>2018-03-09 00:00:00</th>\n",
       "      <td>270.644165</td>\n",
       "      <td>92.983335</td>\n",
       "      <td>6.544180</td>\n",
       "      <td>12.369000</td>\n",
       "      <td>660.125000</td>\n",
       "      <td>4046.609950</td>\n",
       "      <td>9.187480</td>\n",
       "      <td>5.459100</td>\n",
       "      <td>36.532475</td>\n",
       "      <td>0.565710</td>\n",
       "      <td>0.127255</td>\n",
       "      <td>209.480430</td>\n",
       "    </tr>\n",
       "    <tr>\n",
       "      <th>...</th>\n",
       "      <td>...</td>\n",
       "      <td>...</td>\n",
       "      <td>...</td>\n",
       "      <td>...</td>\n",
       "      <td>...</td>\n",
       "      <td>...</td>\n",
       "      <td>...</td>\n",
       "      <td>...</td>\n",
       "      <td>...</td>\n",
       "      <td>...</td>\n",
       "      <td>...</td>\n",
       "      <td>...</td>\n",
       "    </tr>\n",
       "    <tr>\n",
       "      <th>2024-12-31 19:00:00</th>\n",
       "      <td>271.650830</td>\n",
       "      <td>61.791665</td>\n",
       "      <td>1.845265</td>\n",
       "      <td>10.960185</td>\n",
       "      <td>0.136670</td>\n",
       "      <td>1986.073125</td>\n",
       "      <td>2.319095</td>\n",
       "      <td>1.916480</td>\n",
       "      <td>34.760415</td>\n",
       "      <td>0.077825</td>\n",
       "      <td>0.017205</td>\n",
       "      <td>118.703300</td>\n",
       "    </tr>\n",
       "    <tr>\n",
       "      <th>2024-12-31 20:00:00</th>\n",
       "      <td>271.448330</td>\n",
       "      <td>62.741665</td>\n",
       "      <td>1.746910</td>\n",
       "      <td>11.005430</td>\n",
       "      <td>0.162920</td>\n",
       "      <td>2075.450690</td>\n",
       "      <td>2.729390</td>\n",
       "      <td>1.881685</td>\n",
       "      <td>34.669025</td>\n",
       "      <td>0.090075</td>\n",
       "      <td>0.017505</td>\n",
       "      <td>120.909775</td>\n",
       "    </tr>\n",
       "    <tr>\n",
       "      <th>2024-12-31 21:00:00</th>\n",
       "      <td>271.149165</td>\n",
       "      <td>65.633330</td>\n",
       "      <td>1.746910</td>\n",
       "      <td>10.901090</td>\n",
       "      <td>0.201250</td>\n",
       "      <td>2310.131465</td>\n",
       "      <td>3.826645</td>\n",
       "      <td>1.779825</td>\n",
       "      <td>34.669025</td>\n",
       "      <td>0.093395</td>\n",
       "      <td>0.024565</td>\n",
       "      <td>120.909775</td>\n",
       "    </tr>\n",
       "    <tr>\n",
       "      <th>2024-12-31 22:00:00</th>\n",
       "      <td>270.790000</td>\n",
       "      <td>69.166665</td>\n",
       "      <td>1.778645</td>\n",
       "      <td>10.675530</td>\n",
       "      <td>0.272500</td>\n",
       "      <td>2916.382900</td>\n",
       "      <td>5.027855</td>\n",
       "      <td>1.779825</td>\n",
       "      <td>34.095985</td>\n",
       "      <td>0.099520</td>\n",
       "      <td>0.019620</td>\n",
       "      <td>121.052630</td>\n",
       "    </tr>\n",
       "    <tr>\n",
       "      <th>2024-12-31 23:00:00</th>\n",
       "      <td>270.561665</td>\n",
       "      <td>71.375000</td>\n",
       "      <td>1.918190</td>\n",
       "      <td>10.477725</td>\n",
       "      <td>0.329170</td>\n",
       "      <td>3774.667075</td>\n",
       "      <td>5.133960</td>\n",
       "      <td>1.850430</td>\n",
       "      <td>33.399445</td>\n",
       "      <td>0.112660</td>\n",
       "      <td>0.019620</td>\n",
       "      <td>121.052630</td>\n",
       "    </tr>\n",
       "  </tbody>\n",
       "</table>\n",
       "<p>19640 rows × 12 columns</p>\n",
       "</div>"
      ]
     },
     "execution_count": 42,
     "metadata": {},
     "output_type": "execute_result"
    }
   ],
   "execution_count": 42
  },
  {
   "cell_type": "code",
   "id": "cd6a316b-bb41-4799-a73e-e25783684fc1",
   "metadata": {
    "ExecuteTime": {
     "end_time": "2025-05-27T08:53:05.336757Z",
     "start_time": "2025-05-27T08:53:05.160462Z"
    }
   },
   "source": [
    "from sklearn.decomposition import NMF\n",
    "\n",
    "nmf = NMF(n_components=3, init='nndsvda', random_state=0, max_iter=1000)\n",
    "W = nmf.fit_transform(hel_nonnegative)  \n",
    "\n",
    "plt.bar(var_names, nmf.components_[1]/nmf.components_.sum(axis=0))"
   ],
   "outputs": [
    {
     "data": {
      "text/plain": [
       "<BarContainer object of 12 artists>"
      ]
     },
     "execution_count": 43,
     "metadata": {},
     "output_type": "execute_result"
    },
    {
     "data": {
      "text/plain": [
       "<Figure size 640x480 with 1 Axes>"
      ],
      "image/png": "[encoded data removed]"
     },
     "metadata": {},
     "output_type": "display_data"
    }
   ],
   "execution_count": 43
  },
  {
   "cell_type": "code",
   "id": "2e2a87a8-9723-4ea2-ae7c-c28c5235d1ca",
   "metadata": {
    "ExecuteTime": {
     "end_time": "2025-05-27T08:53:13.769466Z",
     "start_time": "2025-05-27T08:53:13.689415Z"
    }
   },
   "source": [
    "hel_nmf_scores = pd.DataFrame(W, columns=['F1', 'F2', 'F3'], index=hel_nonnegative.index)\n",
    "\n",
    "hel_nmf_daily = hel_nmf_scores.groupby(hel_nmf_scores.index.hour).mean()\n",
    "plt.plot(hel_nmf_daily.index, hel_nmf_daily['F2'])\n",
    "plt.show()"
   ],
   "outputs": [
    {
     "data": {
      "text/plain": [
       "<Figure size 640x480 with 1 Axes>"
      ],
      "image/png": "[encoded data removed]"
     },
     "metadata": {},
     "output_type": "display_data"
    }
   ],
   "execution_count": 44
  },
  {
   "cell_type": "markdown",
   "id": "514a9cc4-a477-4d0b-b1f4-223890dbe7cc",
   "metadata": {},
   "source": [
    "We see that especially the factor loadings are not very clean. And this is mainly due to the fact that NMF does **not** look into the covariance structure like PCA and FA. We will see, that this is only resolved in **PMF** (Positive Matrix Factorization)!"
   ]
  }
 ],
 "metadata": {
  "kernelspec": {
   "display_name": "Python 3",
   "language": "python",
   "name": "python3"
  },
  "language_info": {
   "codemirror_mode": {
    "name": "ipython",
    "version": 3
   },
   "file_extension": ".py",
   "mimetype": "text/x-python",
   "name": "python",
   "nbconvert_exporter": "python",
   "pygments_lexer": "ipython3",
   "version": "3.11.10"
  }
 },
 "nbformat": 4,
 "nbformat_minor": 5
}

{
 "cells": [
  {
   "cell_type": "markdown",
   "id": "90f4ca25-4a1f-43a2-9d3f-8d4bf836d3e3",
   "metadata": {},
   "source": [
    "# Excursion 1: Object-Oriented Programming (OOP) in Python - Introduction\n",
    "\n",
    "## What is OOP?\n",
    "Object-oriented programming (OOP) is a programming paradigm that structures code using objects, which bundle together\n",
    "data (attributes) and behaviors (methods). OOP allows for modular, reusable, and scalable code, making complex systems easier to manage and simpler to understand. "
   ]
  },
  {
   "cell_type": "markdown",
   "id": "f92a9e40-b64f-48fc-8102-a73244aaa7bc",
   "metadata": {},
   "source": [
    "## What is an object?\n",
    "\n",
    "Nearly all types in python are **classes**. For example it make make sense to have an object of type **molecule** containing specific attributes (coordinates of the atoms, atom identities, molecular weight) and functions (transform cartesian coordinates to center of mass or replace an atom by another) which are unique for a chemical molecule. We can write such a class molecule and whenever we subsequently create a molecule in the program we will have created a so-called **instance** of that class.\n",
    "\n",
    "An object contains three types of information:\n",
    "1) The **Contructor**, which contains actions to be performed whenever an object of that class is created in the program, i.e. when we call `object = Class_Name()`. \n",
    "2) **Attributes**, i.e. variables which are stored in that object, which can be certain types of data (3D coordinates, molecular weight) and which are often filled when the Contructor is called. We can access the attributes using `object.attribute_name`. \n",
    "3) **Methods**,  functions of a class which are accessible for every instance of that class and which perform certain operations. Just like functions they can have arguments being passed and they often have a return value. They are called `object.method_name()`."
   ]
  },
  {
   "cell_type": "markdown",
   "id": "cbde9842-4b51-4279-b0ba-8889c8faf17c",
   "metadata": {},
   "source": [
    "## How to define a class?\n",
    "\n",
    "Classes need to be defined before we can create an instance of them. Just like functions, which we need to define before we can call them in the program."
   ]
  },
  {
   "cell_type": "code",
   "execution_count": 2,
   "id": "6414fd53-0052-419d-84cc-15e32779a931",
   "metadata": {},
   "outputs": [],
   "source": [
    "class Car:\n",
    "    # class constructor, as soon as we call Car in our code this object is initialized with init\n",
    "    # and necessesary eigenschaften are assigned\n",
    "    def __init__(self, color, passengers):  \n",
    "        print('A car has been created and it is '+color)\n",
    "        self.color = color\n",
    "        self.passengers = passengers\n",
    "        # an object of a class contains attributes\n",
    "        # = Data that belongs to the object that we creat\n",
    "\n",
    "    def repaint(self, color):\n",
    "        self.color = color\n",
    "\n",
    "    def remove_passenger(self):\n",
    "        self.passengers = self.passengers-1"
   ]
  },
  {
   "cell_type": "code",
   "execution_count": 5,
   "id": "771f0ab5-0fa0-41f9-8f6d-982e8b984ad5",
   "metadata": {},
   "outputs": [
    {
     "name": "stdout",
     "output_type": "stream",
     "text": [
      "A car has been created and it is red\n"
     ]
    },
    {
     "data": {
      "text/plain": [
       "3"
      ]
     },
     "execution_count": 5,
     "metadata": {},
     "output_type": "execute_result"
    }
   ],
   "source": [
    "my_car = Car('red', 4)\n",
    "my_car.repaint('blue')\n",
    "my_car.remove_passenger()\n",
    "\n",
    "my_car.color\n",
    "my_car.passengers"
   ]
  },
  {
   "cell_type": "markdown",
   "id": "f8aa48cb-5270-4227-a8a0-eceacb441aa1",
   "metadata": {},
   "source": [
    "## Re-examining types you have already use\n",
    "\n",
    "Interestingly, almost all data types we got to know so far are implemented as classes within python and its most common modules. "
   ]
  },
  {
   "cell_type": "code",
   "execution_count": 10,
   "id": "f7a38366-120a-4c59-b914-43a4bddf3b11",
   "metadata": {},
   "outputs": [
    {
     "data": {
      "text/plain": [
       "<function str.format>"
      ]
     },
     "execution_count": 10,
     "metadata": {},
     "output_type": "execute_result"
    }
   ],
   "source": [
    "s = 'i am string'\n",
    "\n",
    "type(s)\n",
    "s.format"
   ]
  },
  {
   "cell_type": "markdown",
   "id": "2e4fa012-9db1-4c0c-931e-12463b6cd062",
   "metadata": {},
   "source": [
    "While it seems that there is a data type called str, str is actually implemented as a class in built-in python. Using the dir() command, we can see what methods are associated with the class str."
   ]
  },
  {
   "cell_type": "code",
   "execution_count": 11,
   "id": "6d3353f0-6391-4a83-ac67-b9113d2c3607",
   "metadata": {},
   "outputs": [
    {
     "data": {
      "text/plain": [
       "['__add__',\n",
       " '__class__',\n",
       " '__contains__',\n",
       " '__delattr__',\n",
       " '__dir__',\n",
       " '__doc__',\n",
       " '__eq__',\n",
       " '__format__',\n",
       " '__ge__',\n",
       " '__getattribute__',\n",
       " '__getitem__',\n",
       " '__getnewargs__',\n",
       " '__getstate__',\n",
       " '__gt__',\n",
       " '__hash__',\n",
       " '__init__',\n",
       " '__init_subclass__',\n",
       " '__iter__',\n",
       " '__le__',\n",
       " '__len__',\n",
       " '__lt__',\n",
       " '__mod__',\n",
       " '__mul__',\n",
       " '__ne__',\n",
       " '__new__',\n",
       " '__reduce__',\n",
       " '__reduce_ex__',\n",
       " '__repr__',\n",
       " '__rmod__',\n",
       " '__rmul__',\n",
       " '__setattr__',\n",
       " '__sizeof__',\n",
       " '__str__',\n",
       " '__subclasshook__',\n",
       " 'capitalize',\n",
       " 'casefold',\n",
       " 'center',\n",
       " 'count',\n",
       " 'encode',\n",
       " 'endswith',\n",
       " 'expandtabs',\n",
       " 'find',\n",
       " 'format',\n",
       " 'format_map',\n",
       " 'index',\n",
       " 'isalnum',\n",
       " 'isalpha',\n",
       " 'isascii',\n",
       " 'isdecimal',\n",
       " 'isdigit',\n",
       " 'isidentifier',\n",
       " 'islower',\n",
       " 'isnumeric',\n",
       " 'isprintable',\n",
       " 'isspace',\n",
       " 'istitle',\n",
       " 'isupper',\n",
       " 'join',\n",
       " 'ljust',\n",
       " 'lower',\n",
       " 'lstrip',\n",
       " 'maketrans',\n",
       " 'partition',\n",
       " 'removeprefix',\n",
       " 'removesuffix',\n",
       " 'replace',\n",
       " 'rfind',\n",
       " 'rindex',\n",
       " 'rjust',\n",
       " 'rpartition',\n",
       " 'rsplit',\n",
       " 'rstrip',\n",
       " 'split',\n",
       " 'splitlines',\n",
       " 'startswith',\n",
       " 'strip',\n",
       " 'swapcase',\n",
       " 'title',\n",
       " 'translate',\n",
       " 'upper',\n",
       " 'zfill']"
      ]
     },
     "execution_count": 11,
     "metadata": {},
     "output_type": "execute_result"
    }
   ],
   "source": [
    "dir(s)"
   ]
  },
  {
   "cell_type": "code",
   "execution_count": 12,
   "id": "b0a713b9-7f8a-482b-939f-39ddc06682b6",
   "metadata": {},
   "outputs": [
    {
     "data": {
      "text/plain": [
       "'I am string'"
      ]
     },
     "execution_count": 12,
     "metadata": {},
     "output_type": "execute_result"
    }
   ],
   "source": [
    "s.capitalize()"
   ]
  },
  {
   "cell_type": "code",
   "execution_count": 13,
   "id": "5502fa1a-d886-47bb-b0d0-b5b66f2c48cd",
   "metadata": {},
   "outputs": [
    {
     "data": {
      "text/plain": [
       "2"
      ]
     },
     "execution_count": 13,
     "metadata": {},
     "output_type": "execute_result"
    }
   ],
   "source": [
    "s.count('i')"
   ]
  },
  {
   "cell_type": "markdown",
   "id": "67807d92-4bfd-4ff7-b8bb-10f5f5075960",
   "metadata": {},
   "source": [
    "The same holds for `pd.DataFrame` objects. They are instances of a class and are created when we e.g., load a data file:"
   ]
  },
  {
   "cell_type": "code",
   "execution_count": 14,
   "id": "7c98159a-14ec-4398-8772-1e44a7993f65",
   "metadata": {},
   "outputs": [
    {
     "data": {
      "text/plain": [
       "pandas.core.frame.DataFrame"
      ]
     },
     "execution_count": 14,
     "metadata": {},
     "output_type": "execute_result"
    }
   ],
   "source": [
    "import pandas as pd\n",
    "\n",
    "vap_press = pd.read_csv('./organic_vapor_pressures.csv', sep=';')\n",
    "\n",
    "type(vap_press)"
   ]
  },
  {
   "cell_type": "code",
   "execution_count": 16,
   "id": "dd13fe99-c607-4139-b860-95752ec2b03d",
   "metadata": {},
   "outputs": [],
   "source": [
    "dir(vap_press)"
   ]
  },
  {
   "cell_type": "markdown",
   "id": "d5a2bba1-ae72-4b98-9f27-3ef69d9bf9fd",
   "metadata": {},
   "source": [
    "As we have seen before, there are a lot of methods implemented for `pd.DataFrame` objects and we already got to know a lot of them. "
   ]
  },
  {
   "cell_type": "markdown",
   "id": "f4ba061b-ce98-4f84-9a6f-e456b8a4dce2",
   "metadata": {},
   "source": [
    "Three types of methods within the classes `str` and `pd.DataFrame` become apparent. Some methods are just normal names, others have one leading underscore, eg. `pd.DataFrame._redcue` and others have two leading and two trailing underscores, e.g. `pd.DataFrame.__init__()`.\n",
    "\n",
    "We will explain this: **Don't be afraid of underscores!**"
   ]
  },
  {
   "cell_type": "markdown",
   "id": "1cc0ff06-c20f-4763-9f14-00284e7a1a9c",
   "metadata": {},
   "source": [
    "- A single leading underscore just specifies that the specific method (or attribute) of class is something rather protected. It's a so-called **private** attribute or variable. The use of leading underscores is a signal to other developers that the attribute or method is intended for internal use only. Even though you can still access these attributes if you know the name, it’s a way to discourage external interaction with the internal state of the object.\n",
    "- Two leading and two trainling underscores, so called **dunder methods** (short for \"double underscore\"), are special methods in Python classes that you can define to change how your objects behave with **built-in** operations. Those are methods which appear in many classes, such as the constructor, but also methods like `__len__` or `__str__`, which would tell the built-in methods `len()` and `str()` what to return if an instance of that class would be the argument of these buil-in methods. "
   ]
  },
  {
   "cell_type": "markdown",
   "id": "e0364678-3d48-4cb0-b43a-3a612130bf9e",
   "metadata": {},
   "source": [
    "## Example: Modeling Molecules using OOP\n",
    "\n",
    "In chemistry, molecules have properties such as elemental composition, and the positions of the atoms within the molecule. Let's put that into some class (class es are typically named using CapWords):"
   ]
  },
  {
   "cell_type": "code",
   "execution_count": 17,
   "id": "39d68599-3e63-4f16-9c73-f176bc6eb932",
   "metadata": {},
   "outputs": [],
   "source": [
    "class Molecule:\n",
    "    def __init__(self, symbols, positions):\n",
    "        self.symbols = symbols\n",
    "        self.positions = positions"
   ]
  },
  {
   "cell_type": "markdown",
   "id": "5f29c893-0385-4c53-967f-ca2d99428eac",
   "metadata": {},
   "source": [
    "So now we can create objects of that class Molecule, by calling the class name with the arguments of the constructor, as above. \n",
    "\n",
    "Note again, that the Constructor needs to be called `__init__` for python to understand which code to execute when a new instance is created. \n",
    "\n",
    "The `self.symbols = symbols` creates an attribute (variable) called `symbols`, which is assigned the value of the argument `symbols`. All attributes created within `__init__` are so-called instance attributes, which might vary from instance to instance of that class. So-called class attributes are defined  before the `__init__` function and are the same in all classes. We can use this to e.g., pass a dictionary of molecular masses to class. \n",
    "\n",
    "This is also why we need the `self` argument. It specifies whenever we explicitly want to use an attribute or method of this particular instance of the class we are currently working on. It should appear in every method definition of the class, otherwise we cannot access the attributes and methods of that particular instance of the class. "
   ]
  },
  {
   "cell_type": "code",
   "execution_count": 18,
   "id": "cbaee8cb-754e-44c5-9e97-4fd4bba17740",
   "metadata": {},
   "outputs": [],
   "source": [
    "class Molecule:\n",
    "    mass_dict = {'H': 1.008, 'C': 12.011, 'N': 14.0067, 'O': 15.999}\n",
    "    def __init__(self, symbols, positions):\n",
    "        self.symbols = symbols\n",
    "        self.positions = positions"
   ]
  },
  {
   "cell_type": "code",
   "execution_count": 19,
   "id": "23f83746-6885-487f-90dd-0a5d880b1c13",
   "metadata": {},
   "outputs": [],
   "source": [
    "water = Molecule(['H', 'O', 'H'], [[3.0739, 0.1550, 0], [2.5369, -0.1550, 0], [2.0000, 0.1550, 0]])\n",
    "nitrous_oxide = Molecule(['N','N','O'], [[2.0000, -0.5000, 0], [2.8660, 0, 0], [3.7320, 0.5000, 0]])"
   ]
  },
  {
   "cell_type": "markdown",
   "id": "cb5cfc61-f5a9-4fc8-9fac-58b943c722a7",
   "metadata": {},
   "source": [
    "Our two created objects `water` and `nitrous_oxide` contain both variables with the name `symbol`but different information is stored into them. We can access these attributes simply by calling:"
   ]
  },
  {
   "cell_type": "code",
   "execution_count": 20,
   "id": "f3c496b2-30c6-4384-bc1c-5c2537c3249f",
   "metadata": {},
   "outputs": [
    {
     "data": {
      "text/plain": [
       "['H', 'O', 'H']"
      ]
     },
     "execution_count": 20,
     "metadata": {},
     "output_type": "execute_result"
    }
   ],
   "source": [
    "water.symbols"
   ]
  },
  {
   "cell_type": "code",
   "execution_count": 21,
   "id": "5af21d5a-0a9f-4d40-a04b-7f6d06561919",
   "metadata": {},
   "outputs": [
    {
     "data": {
      "text/plain": [
       "['N', 'N', 'O']"
      ]
     },
     "execution_count": 21,
     "metadata": {},
     "output_type": "execute_result"
    }
   ],
   "source": [
    "nitrous_oxide.symbols"
   ]
  },
  {
   "cell_type": "markdown",
   "id": "15392934-87ed-4202-8ec4-c0c7e5f1571e",
   "metadata": {},
   "source": [
    "So now we can introduce functions (i.e methods) which perform routines which should be available for all instances of the class `Molecule`:"
   ]
  },
  {
   "cell_type": "code",
   "execution_count": 22,
   "id": "b885cc77-1022-45df-bff9-bcb39eae009f",
   "metadata": {},
   "outputs": [],
   "source": [
    "class Molecule:\n",
    "    mass_dict = {'H': 1.008, 'C': 12.011, 'N': 14.0067, 'O': 15.999}\n",
    "    def __init__(self, symbols, positions):\n",
    "        self.symbols = symbols\n",
    "        self.positions = positions\n",
    "\n",
    "    def number_of_atoms(self):\n",
    "        return len(self.symbols)"
   ]
  },
  {
   "cell_type": "code",
   "execution_count": 23,
   "id": "48a64f99-f83d-49e1-8085-1c3bae54dcbe",
   "metadata": {},
   "outputs": [
    {
     "data": {
      "text/plain": [
       "3"
      ]
     },
     "execution_count": 23,
     "metadata": {},
     "output_type": "execute_result"
    }
   ],
   "source": [
    "water = Molecule(['H', 'O', 'H'], [[3.0739, 0.1550, 0], [2.5369, -0.1550, 0], [2.0000, 0.1550, 0]])\n",
    "nitrous_oxide = Molecule(['N','N','O'], [[2.0000, -0.5000, 0], [2.8660, 0, 0], [3.7320, 0.5000, 0]])\n",
    "\n",
    "water.number_of_atoms()"
   ]
  },
  {
   "cell_type": "markdown",
   "id": "738fa612-0da2-4838-95b9-9e02d54a99c6",
   "metadata": {},
   "source": [
    "Now let's see how our instances of class `Molecule` interact with the python built-in function in order to see how the other **dunder methods** work."
   ]
  },
  {
   "cell_type": "code",
   "execution_count": 24,
   "id": "fc8e185a-1b0c-46be-95ea-9b36e6455588",
   "metadata": {},
   "outputs": [
    {
     "name": "stdout",
     "output_type": "stream",
     "text": [
      "<__main__.Molecule object at 0x7fb051bca0d0>\n"
     ]
    }
   ],
   "source": [
    "print(water)"
   ]
  },
  {
   "cell_type": "code",
   "execution_count": 28,
   "id": "23c008dd-a6fc-45fb-b2da-c150c4d0407e",
   "metadata": {},
   "outputs": [],
   "source": [
    "class Molecule:\n",
    "    mass_dict = {'H': 1.008, 'C': 12.011, 'N': 14.0067, 'O': 15.999}\n",
    "    def __init__(self, symbols, positions):\n",
    "        self.symbols = symbols\n",
    "        self.positions = positions\n",
    "\n",
    "    # this basically tells python how to handle this class object if it is asked to be handled as a string\n",
    "    # e.g. if we try to print it, then this will ba activated to return a printable string for this class object\n",
    "    def __str__(self): \n",
    "        s = ''\n",
    "        for i in range(len(self.symbols)):\n",
    "            s += self.symbols[i] + ' ' + str(self.positions[i]) + '\\n'\n",
    "        return s\n",
    "\n",
    "    def __len__(self):\n",
    "        ### With this dunder function we now have a way to use the \n",
    "        ### Python built-in \"len()\" function to in work with my \n",
    "        ### class object!\n",
    "        return len(self.symbols)\n",
    "\n",
    "    def number_of_atoms(self):\n",
    "        return len(self.symbols)"
   ]
  },
  {
   "cell_type": "code",
   "execution_count": 29,
   "id": "51623640-7d0d-46b8-ad5c-6c3edafa22f2",
   "metadata": {},
   "outputs": [
    {
     "name": "stdout",
     "output_type": "stream",
     "text": [
      "N [2.0, -0.5, 0]\n",
      "N [2.866, 0, 0]\n",
      "O [3.732, 0.5, 0]\n",
      "\n"
     ]
    }
   ],
   "source": [
    "water = Molecule(['H', 'O', 'H'], [[3.0739, 0.1550, 0], [2.5369, -0.1550, 0], [2.0000, 0.1550, 0]])\n",
    "nitrous_oxide = Molecule(['N','N','O'], [[2.0000, -0.5000, 0], [2.8660, 0, 0], [3.7320, 0.5000, 0]])\n",
    "\n",
    "print(nitrous_oxide)"
   ]
  },
  {
   "cell_type": "markdown",
   "id": "59800276-b50f-4b75-b44e-f4801b9f08b5",
   "metadata": {},
   "source": [
    "The advantage of classes is also that we can built upon each other, by **inheritance**.  \n",
    "\n",
    "Inheritance is a way to create a new class (called a *subclass*) based on an existing class (called a *parent* or base class). The subclass automatically gets the attributes and methods of the parent class, and can also have its own extra features or override the ones it inherits. This helps avoid code duplication and lets you build more specialized versions of a general concept.\n",
    "\n",
    "For example, charged molecules would also need all attributes of our class Molecule. But they have a charge, what neutral molecules would not have."
   ]
  },
  {
   "cell_type": "code",
   "execution_count": 32,
   "id": "a8f59315-aa82-42b1-8ce8-28e571853ca1",
   "metadata": {},
   "outputs": [
    {
     "name": "stdout",
     "output_type": "stream",
     "text": [
      "False\n"
     ]
    },
    {
     "data": {
      "text/plain": [
       "3"
      ]
     },
     "execution_count": 32,
     "metadata": {},
     "output_type": "execute_result"
    }
   ],
   "source": [
    "class ChargedMolecule(Molecule): # Molecule is the parent class of this class\n",
    "    def __init__(self, symbols, positions, charge):\n",
    "        super().__init__(symbols, positions)  # this allows the charged molecule object to inherit all properties from the parent class\n",
    "        self.charge = charge\n",
    "\n",
    "    def is_neutral(self):\n",
    "        return self.charge == 0\n",
    "\n",
    "hydronium = ChargedMolecule(['H', 'O', 'H'], [[3.0739, 0.1550, 0], [2.5369, -0.1550, 0], [2.0000, 0.1550, 0]], +1)\n",
    "\n",
    "print(hydronium.is_neutral())\n",
    "len(hydronium)"
   ]
  },
  {
   "cell_type": "markdown",
   "id": "a73865eb-954d-4ac6-a0b9-a500b29b4f52",
   "metadata": {},
   "source": [
    "# Discussing Assignment 2\n",
    "\n",
    "Let's use our random choice generator again."
   ]
  },
  {
   "cell_type": "code",
   "execution_count": 35,
   "id": "dbe54177-8e55-4f15-b242-734028730248",
   "metadata": {},
   "outputs": [
    {
     "name": "stdout",
     "output_type": "stream",
     "text": [
      "Florian\n"
     ]
    }
   ],
   "source": [
    "import numpy as np\n",
    "\n",
    "ex_1a = ['Alexander', 'Riddhi', 'Dmytro', 'Vincent', 'Jürgen', 'Balazs', 'Daniela', 'Itzi', 'Yagmur', 'Markus', 'Oceane', 'Florian', 'Benjamin']\n",
    "ex_1b = ['Alexander', 'Riddhi', 'Dmytro', 'Vincent', 'Jürgen', 'Balazs', 'Daniela', 'Itzi', 'Yagmur', 'Markus', 'Oceane', 'Florian', 'Benjamin']\n",
    "ex_1c = ['Alexander', 'Riddhi', 'Dmytro', 'Vincent', 'Jürgen', 'Balazs', 'Daniela', 'Itzi', 'Yagmur', 'Markus', 'Oceane', 'Florian', 'Benjamin']\n",
    "ex_1d = ['Alexander', 'Riddhi', 'Dmytro', 'Vincent', 'Jürgen', 'Balazs', 'Daniela', 'Itzi', 'Yagmur', 'Markus', 'Oceane', 'Florian', 'Benjamin']\n",
    "ex_1e = ['Alexander', 'Riddhi', 'Dmytro', 'Vincent', 'Jürgen', 'Balazs', 'Itzi', 'Yagmur', 'Markus', 'Oceane', 'Florian']\n",
    "ex_1f = ['Alexander', 'Riddhi', 'Dmytro', 'Vincent', 'Itzi', 'Yagmur', 'Markus', 'Oceane', 'Florian']\n",
    "\n",
    "print(np.random.choice(ex_1f))"
   ]
  },
  {
   "cell_type": "code",
   "execution_count": null,
   "id": "8dfd2dfc-7cbd-436b-9f4f-f17da64eb511",
   "metadata": {},
   "outputs": [],
   "source": []
  },
  {
   "cell_type": "code",
   "execution_count": null,
   "id": "7813311b-9005-4af3-8bd5-2557338218f8",
   "metadata": {},
   "outputs": [],
   "source": []
  }
 ],
 "metadata": {
  "kernelspec": {
   "display_name": "Python 3",
   "language": "python",
   "name": "python3"
  },
  "language_info": {
   "codemirror_mode": {
    "name": "ipython",
    "version": 3
   },
   "file_extension": ".py",
   "mimetype": "text/x-python",
   "name": "python",
   "nbconvert_exporter": "python",
   "pygments_lexer": "ipython3",
   "version": "3.11.10"
  }
 },
 "nbformat": 4,
 "nbformat_minor": 5
}

{
 "cells": [
  {
   "cell_type": "markdown",
   "id": "2d9f8c1e-d653-4588-9aa0-450515300ee2",
   "metadata": {},
   "source": [
    "# Lecture 2: Data Exploration of Chemistry Datasets\n",
    "\n",
    "In this second lecture, we will first complete our basic tool set for doing simple mathematical calculations on a given data set in python and then embark into more chemistry related topics such as the access of chemistry databases, cheminformatics toolkits and ultimately the visulaization of data. "
   ]
  },
  {
   "attachments": {},
   "cell_type": "markdown",
   "id": "ba412ad9-a4c7-4ee1-92c7-ea3943cdef23",
   "metadata": {},
   "source": [
    "## 2.1 Missing data: NaN, None, etc.\n",
    "\n",
    "Today we start with a data set which contains a wide variety of organic molecules including their vapor pressures at 300 K, which you already know from Assignment 1. We find that dataset in the file `organic_vapor_pressures.csv` which we load using the known tools from pandas. "
   ]
  },
  {
   "cell_type": "code",
   "execution_count": 1,
   "id": "1d5d94c6-91fa-4104-9c54-c9164f17103b",
   "metadata": {},
   "outputs": [
    {
     "data": {
      "text/html": [
       "<div>\n",
       "<style scoped>\n",
       "    .dataframe tbody tr th:only-of-type {\n",
       "        vertical-align: middle;\n",
       "    }\n",
       "\n",
       "    .dataframe tbody tr th {\n",
       "        vertical-align: top;\n",
       "    }\n",
       "\n",
       "    .dataframe thead th {\n",
       "        text-align: right;\n",
       "    }\n",
       "</style>\n",
       "<table border=\"1\" class=\"dataframe\">\n",
       "  <thead>\n",
       "    <tr style=\"text-align: right;\">\n",
       "      <th></th>\n",
       "      <th>Name</th>\n",
       "      <th>CAS</th>\n",
       "      <th>Sum Formula</th>\n",
       "      <th>P [bar] at 300 K</th>\n",
       "    </tr>\n",
       "  </thead>\n",
       "  <tbody>\n",
       "    <tr>\n",
       "      <th>0</th>\n",
       "      <td>2,3-Dimethylbutane</td>\n",
       "      <td>79-29-8</td>\n",
       "      <td>C6H14</td>\n",
       "      <td>0.388000</td>\n",
       "    </tr>\n",
       "    <tr>\n",
       "      <th>1</th>\n",
       "      <td>2-Methylpentane</td>\n",
       "      <td>107-83-5</td>\n",
       "      <td>C6H14</td>\n",
       "      <td>0.305000</td>\n",
       "    </tr>\n",
       "    <tr>\n",
       "      <th>2</th>\n",
       "      <td>3-Methylpentane</td>\n",
       "      <td>96-14-0</td>\n",
       "      <td>C6H14</td>\n",
       "      <td>0.273500</td>\n",
       "    </tr>\n",
       "    <tr>\n",
       "      <th>3</th>\n",
       "      <td>n-Hexane</td>\n",
       "      <td>110-54-3</td>\n",
       "      <td>C6H14</td>\n",
       "      <td>0.219000</td>\n",
       "    </tr>\n",
       "    <tr>\n",
       "      <th>4</th>\n",
       "      <td>2,2-Dimethylbutane</td>\n",
       "      <td>75-83-2</td>\n",
       "      <td>C6H14</td>\n",
       "      <td>0.457000</td>\n",
       "    </tr>\n",
       "    <tr>\n",
       "      <th>...</th>\n",
       "      <td>...</td>\n",
       "      <td>...</td>\n",
       "      <td>...</td>\n",
       "      <td>...</td>\n",
       "    </tr>\n",
       "    <tr>\n",
       "      <th>89</th>\n",
       "      <td>Toluene</td>\n",
       "      <td>108-88-3</td>\n",
       "      <td>C7H8</td>\n",
       "      <td>0.041690</td>\n",
       "    </tr>\n",
       "    <tr>\n",
       "      <th>90</th>\n",
       "      <td>Cyclohexanol</td>\n",
       "      <td>108-93-0</td>\n",
       "      <td>C6H12O</td>\n",
       "      <td>0.000947</td>\n",
       "    </tr>\n",
       "    <tr>\n",
       "      <th>91</th>\n",
       "      <td>Cycloheptanol</td>\n",
       "      <td>502-41-0</td>\n",
       "      <td>C7H14O</td>\n",
       "      <td>0.000328</td>\n",
       "    </tr>\n",
       "    <tr>\n",
       "      <th>92</th>\n",
       "      <td>Cyclohexanone</td>\n",
       "      <td>108-94-1</td>\n",
       "      <td>C6H10O</td>\n",
       "      <td>0.006063</td>\n",
       "    </tr>\n",
       "    <tr>\n",
       "      <th>93</th>\n",
       "      <td>Cyclobutanone</td>\n",
       "      <td>1191-95-3</td>\n",
       "      <td>C4H6O</td>\n",
       "      <td>0.060450</td>\n",
       "    </tr>\n",
       "  </tbody>\n",
       "</table>\n",
       "<p>94 rows × 4 columns</p>\n",
       "</div>"
      ],
      "text/plain": [
       "                  Name        CAS Sum Formula  P [bar] at 300 K\n",
       "0   2,3-Dimethylbutane    79-29-8       C6H14          0.388000\n",
       "1      2-Methylpentane   107-83-5       C6H14          0.305000\n",
       "2      3-Methylpentane    96-14-0       C6H14          0.273500\n",
       "3             n-Hexane   110-54-3       C6H14          0.219000\n",
       "4   2,2-Dimethylbutane    75-83-2       C6H14          0.457000\n",
       "..                 ...        ...         ...               ...\n",
       "89             Toluene   108-88-3        C7H8          0.041690\n",
       "90        Cyclohexanol   108-93-0      C6H12O          0.000947\n",
       "91       Cycloheptanol   502-41-0      C7H14O          0.000328\n",
       "92       Cyclohexanone   108-94-1      C6H10O          0.006063\n",
       "93       Cyclobutanone  1191-95-3       C4H6O          0.060450\n",
       "\n",
       "[94 rows x 4 columns]"
      ]
     },
     "execution_count": 1,
     "metadata": {},
     "output_type": "execute_result"
    }
   ],
   "source": [
    "import pandas as pd\n",
    "\n",
    "vap_press = pd.read_csv('./organic_vapor_pressures.csv', sep=';')\n",
    "\n",
    "vap_press"
   ]
  },
  {
   "cell_type": "markdown",
   "id": "54708a90-2628-443e-abc9-2729a9189b55",
   "metadata": {},
   "source": [
    "Let's recall how to disentengle the sum formula using regular expressions and then let's calculate molar masses (all done already in Assignment 1):"
   ]
  },
  {
   "cell_type": "code",
   "execution_count": 2,
   "id": "7d8f25ef-a016-486f-a719-006e60f935f8",
   "metadata": {},
   "outputs": [
    {
     "data": {
      "text/html": [
       "<div>\n",
       "<style scoped>\n",
       "    .dataframe tbody tr th:only-of-type {\n",
       "        vertical-align: middle;\n",
       "    }\n",
       "\n",
       "    .dataframe tbody tr th {\n",
       "        vertical-align: top;\n",
       "    }\n",
       "\n",
       "    .dataframe thead th {\n",
       "        text-align: right;\n",
       "    }\n",
       "</style>\n",
       "<table border=\"1\" class=\"dataframe\">\n",
       "  <thead>\n",
       "    <tr style=\"text-align: right;\">\n",
       "      <th></th>\n",
       "      <th>Name</th>\n",
       "      <th>CAS</th>\n",
       "      <th>Sum Formula</th>\n",
       "      <th>P [bar] at 300 K</th>\n",
       "      <th>C</th>\n",
       "      <th>H</th>\n",
       "      <th>O</th>\n",
       "      <th>M [g mol-1]</th>\n",
       "    </tr>\n",
       "  </thead>\n",
       "  <tbody>\n",
       "    <tr>\n",
       "      <th>0</th>\n",
       "      <td>2,3-Dimethylbutane</td>\n",
       "      <td>79-29-8</td>\n",
       "      <td>C6H14</td>\n",
       "      <td>0.388000</td>\n",
       "      <td>6</td>\n",
       "      <td>14</td>\n",
       "      <td>0</td>\n",
       "      <td>86.178</td>\n",
       "    </tr>\n",
       "    <tr>\n",
       "      <th>1</th>\n",
       "      <td>2-Methylpentane</td>\n",
       "      <td>107-83-5</td>\n",
       "      <td>C6H14</td>\n",
       "      <td>0.305000</td>\n",
       "      <td>6</td>\n",
       "      <td>14</td>\n",
       "      <td>0</td>\n",
       "      <td>86.178</td>\n",
       "    </tr>\n",
       "    <tr>\n",
       "      <th>2</th>\n",
       "      <td>3-Methylpentane</td>\n",
       "      <td>96-14-0</td>\n",
       "      <td>C6H14</td>\n",
       "      <td>0.273500</td>\n",
       "      <td>6</td>\n",
       "      <td>14</td>\n",
       "      <td>0</td>\n",
       "      <td>86.178</td>\n",
       "    </tr>\n",
       "    <tr>\n",
       "      <th>3</th>\n",
       "      <td>n-Hexane</td>\n",
       "      <td>110-54-3</td>\n",
       "      <td>C6H14</td>\n",
       "      <td>0.219000</td>\n",
       "      <td>6</td>\n",
       "      <td>14</td>\n",
       "      <td>0</td>\n",
       "      <td>86.178</td>\n",
       "    </tr>\n",
       "    <tr>\n",
       "      <th>4</th>\n",
       "      <td>2,2-Dimethylbutane</td>\n",
       "      <td>75-83-2</td>\n",
       "      <td>C6H14</td>\n",
       "      <td>0.457000</td>\n",
       "      <td>6</td>\n",
       "      <td>14</td>\n",
       "      <td>0</td>\n",
       "      <td>86.178</td>\n",
       "    </tr>\n",
       "    <tr>\n",
       "      <th>...</th>\n",
       "      <td>...</td>\n",
       "      <td>...</td>\n",
       "      <td>...</td>\n",
       "      <td>...</td>\n",
       "      <td>...</td>\n",
       "      <td>...</td>\n",
       "      <td>...</td>\n",
       "      <td>...</td>\n",
       "    </tr>\n",
       "    <tr>\n",
       "      <th>89</th>\n",
       "      <td>Toluene</td>\n",
       "      <td>108-88-3</td>\n",
       "      <td>C7H8</td>\n",
       "      <td>0.041690</td>\n",
       "      <td>7</td>\n",
       "      <td>8</td>\n",
       "      <td>0</td>\n",
       "      <td>92.141</td>\n",
       "    </tr>\n",
       "    <tr>\n",
       "      <th>90</th>\n",
       "      <td>Cyclohexanol</td>\n",
       "      <td>108-93-0</td>\n",
       "      <td>C6H12O</td>\n",
       "      <td>0.000947</td>\n",
       "      <td>6</td>\n",
       "      <td>12</td>\n",
       "      <td>1</td>\n",
       "      <td>100.161</td>\n",
       "    </tr>\n",
       "    <tr>\n",
       "      <th>91</th>\n",
       "      <td>Cycloheptanol</td>\n",
       "      <td>502-41-0</td>\n",
       "      <td>C7H14O</td>\n",
       "      <td>0.000328</td>\n",
       "      <td>7</td>\n",
       "      <td>14</td>\n",
       "      <td>1</td>\n",
       "      <td>114.188</td>\n",
       "    </tr>\n",
       "    <tr>\n",
       "      <th>92</th>\n",
       "      <td>Cyclohexanone</td>\n",
       "      <td>108-94-1</td>\n",
       "      <td>C6H10O</td>\n",
       "      <td>0.006063</td>\n",
       "      <td>6</td>\n",
       "      <td>10</td>\n",
       "      <td>1</td>\n",
       "      <td>98.145</td>\n",
       "    </tr>\n",
       "    <tr>\n",
       "      <th>93</th>\n",
       "      <td>Cyclobutanone</td>\n",
       "      <td>1191-95-3</td>\n",
       "      <td>C4H6O</td>\n",
       "      <td>0.060450</td>\n",
       "      <td>4</td>\n",
       "      <td>6</td>\n",
       "      <td>1</td>\n",
       "      <td>70.091</td>\n",
       "    </tr>\n",
       "  </tbody>\n",
       "</table>\n",
       "<p>94 rows × 8 columns</p>\n",
       "</div>"
      ],
      "text/plain": [
       "                  Name        CAS Sum Formula  P [bar] at 300 K  C   H  O  \\\n",
       "0   2,3-Dimethylbutane    79-29-8       C6H14          0.388000  6  14  0   \n",
       "1      2-Methylpentane   107-83-5       C6H14          0.305000  6  14  0   \n",
       "2      3-Methylpentane    96-14-0       C6H14          0.273500  6  14  0   \n",
       "3             n-Hexane   110-54-3       C6H14          0.219000  6  14  0   \n",
       "4   2,2-Dimethylbutane    75-83-2       C6H14          0.457000  6  14  0   \n",
       "..                 ...        ...         ...               ... ..  .. ..   \n",
       "89             Toluene   108-88-3        C7H8          0.041690  7   8  0   \n",
       "90        Cyclohexanol   108-93-0      C6H12O          0.000947  6  12  1   \n",
       "91       Cycloheptanol   502-41-0      C7H14O          0.000328  7  14  1   \n",
       "92       Cyclohexanone   108-94-1      C6H10O          0.006063  6  10  1   \n",
       "93       Cyclobutanone  1191-95-3       C4H6O          0.060450  4   6  1   \n",
       "\n",
       "    M [g mol-1]  \n",
       "0        86.178  \n",
       "1        86.178  \n",
       "2        86.178  \n",
       "3        86.178  \n",
       "4        86.178  \n",
       "..          ...  \n",
       "89       92.141  \n",
       "90      100.161  \n",
       "91      114.188  \n",
       "92       98.145  \n",
       "93       70.091  \n",
       "\n",
       "[94 rows x 8 columns]"
      ]
     },
     "execution_count": 2,
     "metadata": {},
     "output_type": "execute_result"
    }
   ],
   "source": [
    "import re\n",
    "\n",
    "def disentengle_sum_formulas(df):\n",
    "    \"\"\"\n",
    "    disentengles a column 'sum formulas' with a pd.DataFrame and\n",
    "    calculates the molecular mass of the substance (if only C, H,\n",
    "    and O occur)\n",
    "\n",
    "    Parameters\n",
    "    ----------\n",
    "    df : pd.DataFrame\n",
    "        the data with a column containing sum formula strings\n",
    "\n",
    "    Returns\n",
    "    -------\n",
    "    pd.DataFrame\n",
    "        the data with additional columns for the elemental abundances\n",
    "        and the molecular mass\n",
    "\n",
    "    Raises\n",
    "    ------\n",
    "    KeyError\n",
    "        if 'sum formula' is not in the columns\n",
    "    \"\"\"\n",
    "    pattern = r\"([A-Z][a-z]*)([0-9]*)\"\n",
    "\n",
    "    for idx in df.index:\n",
    "        parsed = re.findall(pattern, df.loc[idx, 'Sum Formula'])\n",
    "        for element in parsed:\n",
    "            if element[0] not in df.columns:\n",
    "                df[element[0]] = 0\n",
    "            if element[1] == '':\n",
    "                df.loc[idx, element[0]] = 1\n",
    "            else:\n",
    "                df.loc[idx, element[0]] = int(element[1])\n",
    "\n",
    "    df.loc[:, 'M [g mol-1]'] = (\n",
    "        df.loc[:, 'C']*12.011 + df.loc[:, 'H']*1.008 + df.loc[:, 'O']*15.999\n",
    "        )\n",
    "\n",
    "    return df\n",
    "\n",
    "vap_press = disentengle_sum_formulas(vap_press)\n",
    "\n",
    "vap_press"
   ]
  },
  {
   "cell_type": "markdown",
   "id": "2fcc8388-3d15-4607-bebf-27f4a741b31b",
   "metadata": {},
   "source": [
    "Here, I introduced the so-called [docstrings](https://peps.python.org/pep-0257/). It gives functions a documentation string after the function definition explaining what the function does, which arguments it takes, what types these arguments have, etc. Those docstrings are the basis for all documentation of published code which you can always find when inspecting a certain (well-coded) python package, as they can be [read-out automatically](https://about.readthedocs.com/) when programmers [convert their code to deployable packages](https://pythonpackaging.info/). It's very helpful documenting larger code that way, as you will always find very quickly what the purpose of a certain function is. "
   ]
  },
  {
   "cell_type": "markdown",
   "id": "5d892722-49bc-4f73-a10a-437d90b3bb99",
   "metadata": {},
   "source": [
    "Let's now recall how we can slice the data set such that we can identify certain groups of compounds, i.e. Alkanes, Aldehydes/Ketones, Alcohols and Acids. \n",
    "\n",
    "The rule for alkanes is C$_n$H$_{2n+2}$ and the do not contain any oxygen. So, let's try to filter out the alkanes and annotate them in a new column called 'group'."
   ]
  },
  {
   "cell_type": "code",
   "execution_count": 3,
   "id": "4984c586-d8d3-473f-add7-c29cc2fb8808",
   "metadata": {},
   "outputs": [
    {
     "data": {
      "text/html": [
       "<div>\n",
       "<style scoped>\n",
       "    .dataframe tbody tr th:only-of-type {\n",
       "        vertical-align: middle;\n",
       "    }\n",
       "\n",
       "    .dataframe tbody tr th {\n",
       "        vertical-align: top;\n",
       "    }\n",
       "\n",
       "    .dataframe thead th {\n",
       "        text-align: right;\n",
       "    }\n",
       "</style>\n",
       "<table border=\"1\" class=\"dataframe\">\n",
       "  <thead>\n",
       "    <tr style=\"text-align: right;\">\n",
       "      <th></th>\n",
       "      <th>Name</th>\n",
       "      <th>CAS</th>\n",
       "      <th>Sum Formula</th>\n",
       "      <th>P [bar] at 300 K</th>\n",
       "      <th>C</th>\n",
       "      <th>H</th>\n",
       "      <th>O</th>\n",
       "      <th>M [g mol-1]</th>\n",
       "    </tr>\n",
       "  </thead>\n",
       "  <tbody>\n",
       "    <tr>\n",
       "      <th>0</th>\n",
       "      <td>2,3-Dimethylbutane</td>\n",
       "      <td>79-29-8</td>\n",
       "      <td>C6H14</td>\n",
       "      <td>0.388000</td>\n",
       "      <td>6</td>\n",
       "      <td>14</td>\n",
       "      <td>0</td>\n",
       "      <td>86.178</td>\n",
       "    </tr>\n",
       "    <tr>\n",
       "      <th>1</th>\n",
       "      <td>2-Methylpentane</td>\n",
       "      <td>107-83-5</td>\n",
       "      <td>C6H14</td>\n",
       "      <td>0.305000</td>\n",
       "      <td>6</td>\n",
       "      <td>14</td>\n",
       "      <td>0</td>\n",
       "      <td>86.178</td>\n",
       "    </tr>\n",
       "    <tr>\n",
       "      <th>2</th>\n",
       "      <td>3-Methylpentane</td>\n",
       "      <td>96-14-0</td>\n",
       "      <td>C6H14</td>\n",
       "      <td>0.273500</td>\n",
       "      <td>6</td>\n",
       "      <td>14</td>\n",
       "      <td>0</td>\n",
       "      <td>86.178</td>\n",
       "    </tr>\n",
       "    <tr>\n",
       "      <th>3</th>\n",
       "      <td>n-Hexane</td>\n",
       "      <td>110-54-3</td>\n",
       "      <td>C6H14</td>\n",
       "      <td>0.219000</td>\n",
       "      <td>6</td>\n",
       "      <td>14</td>\n",
       "      <td>0</td>\n",
       "      <td>86.178</td>\n",
       "    </tr>\n",
       "    <tr>\n",
       "      <th>4</th>\n",
       "      <td>2,2-Dimethylbutane</td>\n",
       "      <td>75-83-2</td>\n",
       "      <td>C6H14</td>\n",
       "      <td>0.457000</td>\n",
       "      <td>6</td>\n",
       "      <td>14</td>\n",
       "      <td>0</td>\n",
       "      <td>86.178</td>\n",
       "    </tr>\n",
       "    <tr>\n",
       "      <th>5</th>\n",
       "      <td>n-Pentane</td>\n",
       "      <td>109-66-0</td>\n",
       "      <td>C5H12</td>\n",
       "      <td>0.731700</td>\n",
       "      <td>5</td>\n",
       "      <td>12</td>\n",
       "      <td>0</td>\n",
       "      <td>72.151</td>\n",
       "    </tr>\n",
       "    <tr>\n",
       "      <th>6</th>\n",
       "      <td>2-Methylbutane</td>\n",
       "      <td>78-78-4</td>\n",
       "      <td>C5H12</td>\n",
       "      <td>0.979300</td>\n",
       "      <td>5</td>\n",
       "      <td>12</td>\n",
       "      <td>0</td>\n",
       "      <td>72.151</td>\n",
       "    </tr>\n",
       "    <tr>\n",
       "      <th>7</th>\n",
       "      <td>Neopentane</td>\n",
       "      <td>463-82-1</td>\n",
       "      <td>C5H12</td>\n",
       "      <td>1.830000</td>\n",
       "      <td>5</td>\n",
       "      <td>12</td>\n",
       "      <td>0</td>\n",
       "      <td>72.151</td>\n",
       "    </tr>\n",
       "    <tr>\n",
       "      <th>8</th>\n",
       "      <td>n-Butane</td>\n",
       "      <td>106-97-8</td>\n",
       "      <td>C4H10</td>\n",
       "      <td>2.576000</td>\n",
       "      <td>4</td>\n",
       "      <td>10</td>\n",
       "      <td>0</td>\n",
       "      <td>58.124</td>\n",
       "    </tr>\n",
       "    <tr>\n",
       "      <th>9</th>\n",
       "      <td>Isobutane</td>\n",
       "      <td>75-28-5</td>\n",
       "      <td>C4H10</td>\n",
       "      <td>3.703000</td>\n",
       "      <td>4</td>\n",
       "      <td>10</td>\n",
       "      <td>0</td>\n",
       "      <td>58.124</td>\n",
       "    </tr>\n",
       "    <tr>\n",
       "      <th>10</th>\n",
       "      <td>n-Propane</td>\n",
       "      <td>74-98-6</td>\n",
       "      <td>C3H8</td>\n",
       "      <td>9.999000</td>\n",
       "      <td>3</td>\n",
       "      <td>8</td>\n",
       "      <td>0</td>\n",
       "      <td>44.097</td>\n",
       "    </tr>\n",
       "    <tr>\n",
       "      <th>11</th>\n",
       "      <td>n-Heptane</td>\n",
       "      <td>142-82-5</td>\n",
       "      <td>C7H16</td>\n",
       "      <td>0.067400</td>\n",
       "      <td>7</td>\n",
       "      <td>16</td>\n",
       "      <td>0</td>\n",
       "      <td>100.205</td>\n",
       "    </tr>\n",
       "    <tr>\n",
       "      <th>12</th>\n",
       "      <td>2-Methylhexane</td>\n",
       "      <td>591-76-4</td>\n",
       "      <td>C7H16</td>\n",
       "      <td>0.095900</td>\n",
       "      <td>7</td>\n",
       "      <td>16</td>\n",
       "      <td>0</td>\n",
       "      <td>100.205</td>\n",
       "    </tr>\n",
       "    <tr>\n",
       "      <th>13</th>\n",
       "      <td>2,4-Dimethylpentane</td>\n",
       "      <td>108-08-7</td>\n",
       "      <td>C7H16</td>\n",
       "      <td>0.142900</td>\n",
       "      <td>7</td>\n",
       "      <td>16</td>\n",
       "      <td>0</td>\n",
       "      <td>100.205</td>\n",
       "    </tr>\n",
       "    <tr>\n",
       "      <th>14</th>\n",
       "      <td>2,2-Dimethylpentane</td>\n",
       "      <td>590-35-2</td>\n",
       "      <td>C7H16</td>\n",
       "      <td>0.152000</td>\n",
       "      <td>7</td>\n",
       "      <td>16</td>\n",
       "      <td>0</td>\n",
       "      <td>100.205</td>\n",
       "    </tr>\n",
       "    <tr>\n",
       "      <th>15</th>\n",
       "      <td>2,3-Dimethylpentane</td>\n",
       "      <td>565-59-3</td>\n",
       "      <td>C7H16</td>\n",
       "      <td>0.100000</td>\n",
       "      <td>7</td>\n",
       "      <td>16</td>\n",
       "      <td>0</td>\n",
       "      <td>100.205</td>\n",
       "    </tr>\n",
       "    <tr>\n",
       "      <th>16</th>\n",
       "      <td>3-Methylhexane</td>\n",
       "      <td>589-34-4</td>\n",
       "      <td>C7H16</td>\n",
       "      <td>0.089600</td>\n",
       "      <td>7</td>\n",
       "      <td>16</td>\n",
       "      <td>0</td>\n",
       "      <td>100.205</td>\n",
       "    </tr>\n",
       "    <tr>\n",
       "      <th>17</th>\n",
       "      <td>3,3-Dimethylpentane</td>\n",
       "      <td>562-49-2</td>\n",
       "      <td>C7H16</td>\n",
       "      <td>0.120200</td>\n",
       "      <td>7</td>\n",
       "      <td>16</td>\n",
       "      <td>0</td>\n",
       "      <td>100.205</td>\n",
       "    </tr>\n",
       "    <tr>\n",
       "      <th>18</th>\n",
       "      <td>2,2,3-Trimethylbutane</td>\n",
       "      <td>464-06-2</td>\n",
       "      <td>C7H16</td>\n",
       "      <td>0.148300</td>\n",
       "      <td>7</td>\n",
       "      <td>16</td>\n",
       "      <td>0</td>\n",
       "      <td>100.205</td>\n",
       "    </tr>\n",
       "    <tr>\n",
       "      <th>19</th>\n",
       "      <td>3-Ethylpentane</td>\n",
       "      <td>617-78-7</td>\n",
       "      <td>C7H16</td>\n",
       "      <td>0.084400</td>\n",
       "      <td>7</td>\n",
       "      <td>16</td>\n",
       "      <td>0</td>\n",
       "      <td>100.205</td>\n",
       "    </tr>\n",
       "    <tr>\n",
       "      <th>20</th>\n",
       "      <td>2,3,4-Trimethylpentane</td>\n",
       "      <td>565-75-3</td>\n",
       "      <td>C8H18</td>\n",
       "      <td>0.039500</td>\n",
       "      <td>8</td>\n",
       "      <td>18</td>\n",
       "      <td>0</td>\n",
       "      <td>114.232</td>\n",
       "    </tr>\n",
       "    <tr>\n",
       "      <th>21</th>\n",
       "      <td>4-Methylheptane</td>\n",
       "      <td>589-53-7</td>\n",
       "      <td>C8H18</td>\n",
       "      <td>0.030400</td>\n",
       "      <td>8</td>\n",
       "      <td>18</td>\n",
       "      <td>0</td>\n",
       "      <td>114.232</td>\n",
       "    </tr>\n",
       "    <tr>\n",
       "      <th>22</th>\n",
       "      <td>2,5-Dimethylhexane</td>\n",
       "      <td>592-13-2</td>\n",
       "      <td>C8H18</td>\n",
       "      <td>0.044900</td>\n",
       "      <td>8</td>\n",
       "      <td>18</td>\n",
       "      <td>0</td>\n",
       "      <td>114.232</td>\n",
       "    </tr>\n",
       "    <tr>\n",
       "      <th>23</th>\n",
       "      <td>2,3-Dimethylhexane</td>\n",
       "      <td>584-94-1</td>\n",
       "      <td>C8H18</td>\n",
       "      <td>0.034300</td>\n",
       "      <td>8</td>\n",
       "      <td>18</td>\n",
       "      <td>0</td>\n",
       "      <td>114.232</td>\n",
       "    </tr>\n",
       "    <tr>\n",
       "      <th>24</th>\n",
       "      <td>2,4-Dimethylhexane</td>\n",
       "      <td>589-43-5</td>\n",
       "      <td>C8H18</td>\n",
       "      <td>0.044700</td>\n",
       "      <td>8</td>\n",
       "      <td>18</td>\n",
       "      <td>0</td>\n",
       "      <td>114.232</td>\n",
       "    </tr>\n",
       "    <tr>\n",
       "      <th>25</th>\n",
       "      <td>3,4-Dimethylhexane</td>\n",
       "      <td>583-48-2</td>\n",
       "      <td>C8H18</td>\n",
       "      <td>0.031900</td>\n",
       "      <td>8</td>\n",
       "      <td>18</td>\n",
       "      <td>0</td>\n",
       "      <td>114.232</td>\n",
       "    </tr>\n",
       "    <tr>\n",
       "      <th>26</th>\n",
       "      <td>3,3-Dimethylhexane</td>\n",
       "      <td>563-16-6</td>\n",
       "      <td>C8H18</td>\n",
       "      <td>0.041800</td>\n",
       "      <td>8</td>\n",
       "      <td>18</td>\n",
       "      <td>0</td>\n",
       "      <td>114.232</td>\n",
       "    </tr>\n",
       "    <tr>\n",
       "      <th>27</th>\n",
       "      <td>2,2-Dimethylhexane</td>\n",
       "      <td>590-73-8</td>\n",
       "      <td>C8H18</td>\n",
       "      <td>0.050100</td>\n",
       "      <td>8</td>\n",
       "      <td>18</td>\n",
       "      <td>0</td>\n",
       "      <td>114.232</td>\n",
       "    </tr>\n",
       "    <tr>\n",
       "      <th>28</th>\n",
       "      <td>3-Ethylhexane</td>\n",
       "      <td>619-99-8</td>\n",
       "      <td>C8H18</td>\n",
       "      <td>0.029700</td>\n",
       "      <td>8</td>\n",
       "      <td>18</td>\n",
       "      <td>0</td>\n",
       "      <td>114.232</td>\n",
       "    </tr>\n",
       "    <tr>\n",
       "      <th>29</th>\n",
       "      <td>3-Ethyl-3-methylpentane</td>\n",
       "      <td>1067-08-9</td>\n",
       "      <td>C8H18</td>\n",
       "      <td>0.034000</td>\n",
       "      <td>8</td>\n",
       "      <td>18</td>\n",
       "      <td>0</td>\n",
       "      <td>114.232</td>\n",
       "    </tr>\n",
       "    <tr>\n",
       "      <th>30</th>\n",
       "      <td>2,2,3,3-Tetramethylbutane</td>\n",
       "      <td>594-82-1</td>\n",
       "      <td>C8H18</td>\n",
       "      <td>0.030900</td>\n",
       "      <td>8</td>\n",
       "      <td>18</td>\n",
       "      <td>0</td>\n",
       "      <td>114.232</td>\n",
       "    </tr>\n",
       "    <tr>\n",
       "      <th>31</th>\n",
       "      <td>n-Nonane</td>\n",
       "      <td>111-84-2</td>\n",
       "      <td>C9H20</td>\n",
       "      <td>0.005120</td>\n",
       "      <td>9</td>\n",
       "      <td>20</td>\n",
       "      <td>0</td>\n",
       "      <td>128.259</td>\n",
       "    </tr>\n",
       "    <tr>\n",
       "      <th>32</th>\n",
       "      <td>2,2,5-Trimethylhexane</td>\n",
       "      <td>3522-94-9</td>\n",
       "      <td>C9H20</td>\n",
       "      <td>0.024600</td>\n",
       "      <td>9</td>\n",
       "      <td>20</td>\n",
       "      <td>0</td>\n",
       "      <td>128.259</td>\n",
       "    </tr>\n",
       "    <tr>\n",
       "      <th>33</th>\n",
       "      <td>2,2,4-Trimethylhexane</td>\n",
       "      <td>16747-26-5</td>\n",
       "      <td>C9H20</td>\n",
       "      <td>0.023500</td>\n",
       "      <td>9</td>\n",
       "      <td>20</td>\n",
       "      <td>0</td>\n",
       "      <td>128.259</td>\n",
       "    </tr>\n",
       "    <tr>\n",
       "      <th>34</th>\n",
       "      <td>2,2,3-Trimethylhexane</td>\n",
       "      <td>16747-25-4</td>\n",
       "      <td>C9H20</td>\n",
       "      <td>0.016950</td>\n",
       "      <td>9</td>\n",
       "      <td>20</td>\n",
       "      <td>0</td>\n",
       "      <td>128.259</td>\n",
       "    </tr>\n",
       "    <tr>\n",
       "      <th>35</th>\n",
       "      <td>n-Decane</td>\n",
       "      <td>124-18-5</td>\n",
       "      <td>C10H22</td>\n",
       "      <td>0.001365</td>\n",
       "      <td>10</td>\n",
       "      <td>22</td>\n",
       "      <td>0</td>\n",
       "      <td>142.286</td>\n",
       "    </tr>\n",
       "  </tbody>\n",
       "</table>\n",
       "</div>"
      ],
      "text/plain": [
       "                         Name         CAS Sum Formula  P [bar] at 300 K   C  \\\n",
       "0          2,3-Dimethylbutane     79-29-8       C6H14          0.388000   6   \n",
       "1             2-Methylpentane    107-83-5       C6H14          0.305000   6   \n",
       "2             3-Methylpentane     96-14-0       C6H14          0.273500   6   \n",
       "3                    n-Hexane    110-54-3       C6H14          0.219000   6   \n",
       "4          2,2-Dimethylbutane     75-83-2       C6H14          0.457000   6   \n",
       "5                   n-Pentane    109-66-0       C5H12          0.731700   5   \n",
       "6              2-Methylbutane     78-78-4       C5H12          0.979300   5   \n",
       "7                  Neopentane    463-82-1       C5H12          1.830000   5   \n",
       "8                    n-Butane    106-97-8       C4H10          2.576000   4   \n",
       "9                   Isobutane     75-28-5       C4H10          3.703000   4   \n",
       "10                  n-Propane     74-98-6        C3H8          9.999000   3   \n",
       "11                  n-Heptane    142-82-5       C7H16          0.067400   7   \n",
       "12             2-Methylhexane    591-76-4       C7H16          0.095900   7   \n",
       "13        2,4-Dimethylpentane    108-08-7       C7H16          0.142900   7   \n",
       "14        2,2-Dimethylpentane    590-35-2       C7H16          0.152000   7   \n",
       "15        2,3-Dimethylpentane    565-59-3       C7H16          0.100000   7   \n",
       "16             3-Methylhexane    589-34-4       C7H16          0.089600   7   \n",
       "17        3,3-Dimethylpentane    562-49-2       C7H16          0.120200   7   \n",
       "18      2,2,3-Trimethylbutane    464-06-2       C7H16          0.148300   7   \n",
       "19             3-Ethylpentane    617-78-7       C7H16          0.084400   7   \n",
       "20     2,3,4-Trimethylpentane    565-75-3       C8H18          0.039500   8   \n",
       "21            4-Methylheptane    589-53-7       C8H18          0.030400   8   \n",
       "22         2,5-Dimethylhexane    592-13-2       C8H18          0.044900   8   \n",
       "23         2,3-Dimethylhexane    584-94-1       C8H18          0.034300   8   \n",
       "24         2,4-Dimethylhexane    589-43-5       C8H18          0.044700   8   \n",
       "25         3,4-Dimethylhexane    583-48-2       C8H18          0.031900   8   \n",
       "26         3,3-Dimethylhexane    563-16-6       C8H18          0.041800   8   \n",
       "27         2,2-Dimethylhexane    590-73-8       C8H18          0.050100   8   \n",
       "28              3-Ethylhexane    619-99-8       C8H18          0.029700   8   \n",
       "29    3-Ethyl-3-methylpentane   1067-08-9       C8H18          0.034000   8   \n",
       "30  2,2,3,3-Tetramethylbutane    594-82-1       C8H18          0.030900   8   \n",
       "31                   n-Nonane    111-84-2       C9H20          0.005120   9   \n",
       "32      2,2,5-Trimethylhexane   3522-94-9       C9H20          0.024600   9   \n",
       "33      2,2,4-Trimethylhexane  16747-26-5       C9H20          0.023500   9   \n",
       "34      2,2,3-Trimethylhexane  16747-25-4       C9H20          0.016950   9   \n",
       "35                   n-Decane    124-18-5      C10H22          0.001365  10   \n",
       "\n",
       "     H  O  M [g mol-1]  \n",
       "0   14  0       86.178  \n",
       "1   14  0       86.178  \n",
       "2   14  0       86.178  \n",
       "3   14  0       86.178  \n",
       "4   14  0       86.178  \n",
       "5   12  0       72.151  \n",
       "6   12  0       72.151  \n",
       "7   12  0       72.151  \n",
       "8   10  0       58.124  \n",
       "9   10  0       58.124  \n",
       "10   8  0       44.097  \n",
       "11  16  0      100.205  \n",
       "12  16  0      100.205  \n",
       "13  16  0      100.205  \n",
       "14  16  0      100.205  \n",
       "15  16  0      100.205  \n",
       "16  16  0      100.205  \n",
       "17  16  0      100.205  \n",
       "18  16  0      100.205  \n",
       "19  16  0      100.205  \n",
       "20  18  0      114.232  \n",
       "21  18  0      114.232  \n",
       "22  18  0      114.232  \n",
       "23  18  0      114.232  \n",
       "24  18  0      114.232  \n",
       "25  18  0      114.232  \n",
       "26  18  0      114.232  \n",
       "27  18  0      114.232  \n",
       "28  18  0      114.232  \n",
       "29  18  0      114.232  \n",
       "30  18  0      114.232  \n",
       "31  20  0      128.259  \n",
       "32  20  0      128.259  \n",
       "33  20  0      128.259  \n",
       "34  20  0      128.259  \n",
       "35  22  0      142.286  "
      ]
     },
     "execution_count": 3,
     "metadata": {},
     "output_type": "execute_result"
    }
   ],
   "source": [
    "is_alkane = ((vap_press['H'] == 2*vap_press['C']+2) & (vap_press['O'] == 0))\n",
    "alkanes = vap_press.loc[is_alkane, :]\n",
    "\n",
    "alkanes"
   ]
  },
  {
   "cell_type": "code",
   "execution_count": 4,
   "id": "4b76c80d-0236-4748-b8fa-ade87b9bfd6d",
   "metadata": {},
   "outputs": [
    {
     "data": {
      "text/html": [
       "<div>\n",
       "<style scoped>\n",
       "    .dataframe tbody tr th:only-of-type {\n",
       "        vertical-align: middle;\n",
       "    }\n",
       "\n",
       "    .dataframe tbody tr th {\n",
       "        vertical-align: top;\n",
       "    }\n",
       "\n",
       "    .dataframe thead th {\n",
       "        text-align: right;\n",
       "    }\n",
       "</style>\n",
       "<table border=\"1\" class=\"dataframe\">\n",
       "  <thead>\n",
       "    <tr style=\"text-align: right;\">\n",
       "      <th></th>\n",
       "      <th>Name</th>\n",
       "      <th>CAS</th>\n",
       "      <th>Sum Formula</th>\n",
       "      <th>P [bar] at 300 K</th>\n",
       "      <th>C</th>\n",
       "      <th>H</th>\n",
       "      <th>O</th>\n",
       "      <th>M [g mol-1]</th>\n",
       "      <th>group</th>\n",
       "    </tr>\n",
       "  </thead>\n",
       "  <tbody>\n",
       "    <tr>\n",
       "      <th>0</th>\n",
       "      <td>2,3-Dimethylbutane</td>\n",
       "      <td>79-29-8</td>\n",
       "      <td>C6H14</td>\n",
       "      <td>0.388000</td>\n",
       "      <td>6</td>\n",
       "      <td>14</td>\n",
       "      <td>0</td>\n",
       "      <td>86.178</td>\n",
       "      <td>alkane</td>\n",
       "    </tr>\n",
       "    <tr>\n",
       "      <th>1</th>\n",
       "      <td>2-Methylpentane</td>\n",
       "      <td>107-83-5</td>\n",
       "      <td>C6H14</td>\n",
       "      <td>0.305000</td>\n",
       "      <td>6</td>\n",
       "      <td>14</td>\n",
       "      <td>0</td>\n",
       "      <td>86.178</td>\n",
       "      <td>alkane</td>\n",
       "    </tr>\n",
       "    <tr>\n",
       "      <th>2</th>\n",
       "      <td>3-Methylpentane</td>\n",
       "      <td>96-14-0</td>\n",
       "      <td>C6H14</td>\n",
       "      <td>0.273500</td>\n",
       "      <td>6</td>\n",
       "      <td>14</td>\n",
       "      <td>0</td>\n",
       "      <td>86.178</td>\n",
       "      <td>alkane</td>\n",
       "    </tr>\n",
       "    <tr>\n",
       "      <th>3</th>\n",
       "      <td>n-Hexane</td>\n",
       "      <td>110-54-3</td>\n",
       "      <td>C6H14</td>\n",
       "      <td>0.219000</td>\n",
       "      <td>6</td>\n",
       "      <td>14</td>\n",
       "      <td>0</td>\n",
       "      <td>86.178</td>\n",
       "      <td>alkane</td>\n",
       "    </tr>\n",
       "    <tr>\n",
       "      <th>4</th>\n",
       "      <td>2,2-Dimethylbutane</td>\n",
       "      <td>75-83-2</td>\n",
       "      <td>C6H14</td>\n",
       "      <td>0.457000</td>\n",
       "      <td>6</td>\n",
       "      <td>14</td>\n",
       "      <td>0</td>\n",
       "      <td>86.178</td>\n",
       "      <td>alkane</td>\n",
       "    </tr>\n",
       "    <tr>\n",
       "      <th>...</th>\n",
       "      <td>...</td>\n",
       "      <td>...</td>\n",
       "      <td>...</td>\n",
       "      <td>...</td>\n",
       "      <td>...</td>\n",
       "      <td>...</td>\n",
       "      <td>...</td>\n",
       "      <td>...</td>\n",
       "      <td>...</td>\n",
       "    </tr>\n",
       "    <tr>\n",
       "      <th>89</th>\n",
       "      <td>Toluene</td>\n",
       "      <td>108-88-3</td>\n",
       "      <td>C7H8</td>\n",
       "      <td>0.041690</td>\n",
       "      <td>7</td>\n",
       "      <td>8</td>\n",
       "      <td>0</td>\n",
       "      <td>92.141</td>\n",
       "      <td>NaN</td>\n",
       "    </tr>\n",
       "    <tr>\n",
       "      <th>90</th>\n",
       "      <td>Cyclohexanol</td>\n",
       "      <td>108-93-0</td>\n",
       "      <td>C6H12O</td>\n",
       "      <td>0.000947</td>\n",
       "      <td>6</td>\n",
       "      <td>12</td>\n",
       "      <td>1</td>\n",
       "      <td>100.161</td>\n",
       "      <td>NaN</td>\n",
       "    </tr>\n",
       "    <tr>\n",
       "      <th>91</th>\n",
       "      <td>Cycloheptanol</td>\n",
       "      <td>502-41-0</td>\n",
       "      <td>C7H14O</td>\n",
       "      <td>0.000328</td>\n",
       "      <td>7</td>\n",
       "      <td>14</td>\n",
       "      <td>1</td>\n",
       "      <td>114.188</td>\n",
       "      <td>NaN</td>\n",
       "    </tr>\n",
       "    <tr>\n",
       "      <th>92</th>\n",
       "      <td>Cyclohexanone</td>\n",
       "      <td>108-94-1</td>\n",
       "      <td>C6H10O</td>\n",
       "      <td>0.006063</td>\n",
       "      <td>6</td>\n",
       "      <td>10</td>\n",
       "      <td>1</td>\n",
       "      <td>98.145</td>\n",
       "      <td>NaN</td>\n",
       "    </tr>\n",
       "    <tr>\n",
       "      <th>93</th>\n",
       "      <td>Cyclobutanone</td>\n",
       "      <td>1191-95-3</td>\n",
       "      <td>C4H6O</td>\n",
       "      <td>0.060450</td>\n",
       "      <td>4</td>\n",
       "      <td>6</td>\n",
       "      <td>1</td>\n",
       "      <td>70.091</td>\n",
       "      <td>NaN</td>\n",
       "    </tr>\n",
       "  </tbody>\n",
       "</table>\n",
       "<p>94 rows × 9 columns</p>\n",
       "</div>"
      ],
      "text/plain": [
       "                  Name        CAS Sum Formula  P [bar] at 300 K  C   H  O  \\\n",
       "0   2,3-Dimethylbutane    79-29-8       C6H14          0.388000  6  14  0   \n",
       "1      2-Methylpentane   107-83-5       C6H14          0.305000  6  14  0   \n",
       "2      3-Methylpentane    96-14-0       C6H14          0.273500  6  14  0   \n",
       "3             n-Hexane   110-54-3       C6H14          0.219000  6  14  0   \n",
       "4   2,2-Dimethylbutane    75-83-2       C6H14          0.457000  6  14  0   \n",
       "..                 ...        ...         ...               ... ..  .. ..   \n",
       "89             Toluene   108-88-3        C7H8          0.041690  7   8  0   \n",
       "90        Cyclohexanol   108-93-0      C6H12O          0.000947  6  12  1   \n",
       "91       Cycloheptanol   502-41-0      C7H14O          0.000328  7  14  1   \n",
       "92       Cyclohexanone   108-94-1      C6H10O          0.006063  6  10  1   \n",
       "93       Cyclobutanone  1191-95-3       C4H6O          0.060450  4   6  1   \n",
       "\n",
       "    M [g mol-1]   group  \n",
       "0        86.178  alkane  \n",
       "1        86.178  alkane  \n",
       "2        86.178  alkane  \n",
       "3        86.178  alkane  \n",
       "4        86.178  alkane  \n",
       "..          ...     ...  \n",
       "89       92.141     NaN  \n",
       "90      100.161     NaN  \n",
       "91      114.188     NaN  \n",
       "92       98.145     NaN  \n",
       "93       70.091     NaN  \n",
       "\n",
       "[94 rows x 9 columns]"
      ]
     },
     "execution_count": 4,
     "metadata": {},
     "output_type": "execute_result"
    }
   ],
   "source": [
    "vap_press.loc[is_alkane, 'group'] = 'alkane'\n",
    "\n",
    "vap_press"
   ]
  },
  {
   "cell_type": "markdown",
   "id": "748e769d-2cd7-43ac-8e6a-0011142bd3f2",
   "metadata": {},
   "source": [
    "Single Ketones and Aldehydes of organics without double bonds follow C$_n$H$_{2n}$O, alkohols C$_n$H$_{2n+2}$O, acids C$_n$H$_{2n}$O$_2$."
   ]
  },
  {
   "cell_type": "code",
   "execution_count": 5,
   "id": "fdd15f56-6dcf-4f43-9518-7e778ce7d90a",
   "metadata": {},
   "outputs": [
    {
     "data": {
      "text/html": [
       "<div>\n",
       "<style scoped>\n",
       "    .dataframe tbody tr th:only-of-type {\n",
       "        vertical-align: middle;\n",
       "    }\n",
       "\n",
       "    .dataframe tbody tr th {\n",
       "        vertical-align: top;\n",
       "    }\n",
       "\n",
       "    .dataframe thead th {\n",
       "        text-align: right;\n",
       "    }\n",
       "</style>\n",
       "<table border=\"1\" class=\"dataframe\">\n",
       "  <thead>\n",
       "    <tr style=\"text-align: right;\">\n",
       "      <th></th>\n",
       "      <th>Name</th>\n",
       "      <th>CAS</th>\n",
       "      <th>Sum Formula</th>\n",
       "      <th>P [bar] at 300 K</th>\n",
       "      <th>C</th>\n",
       "      <th>H</th>\n",
       "      <th>O</th>\n",
       "      <th>M [g mol-1]</th>\n",
       "      <th>group</th>\n",
       "    </tr>\n",
       "  </thead>\n",
       "  <tbody>\n",
       "    <tr>\n",
       "      <th>0</th>\n",
       "      <td>2,3-Dimethylbutane</td>\n",
       "      <td>79-29-8</td>\n",
       "      <td>C6H14</td>\n",
       "      <td>0.388000</td>\n",
       "      <td>6</td>\n",
       "      <td>14</td>\n",
       "      <td>0</td>\n",
       "      <td>86.178</td>\n",
       "      <td>alkane</td>\n",
       "    </tr>\n",
       "    <tr>\n",
       "      <th>1</th>\n",
       "      <td>2-Methylpentane</td>\n",
       "      <td>107-83-5</td>\n",
       "      <td>C6H14</td>\n",
       "      <td>0.305000</td>\n",
       "      <td>6</td>\n",
       "      <td>14</td>\n",
       "      <td>0</td>\n",
       "      <td>86.178</td>\n",
       "      <td>alkane</td>\n",
       "    </tr>\n",
       "    <tr>\n",
       "      <th>2</th>\n",
       "      <td>3-Methylpentane</td>\n",
       "      <td>96-14-0</td>\n",
       "      <td>C6H14</td>\n",
       "      <td>0.273500</td>\n",
       "      <td>6</td>\n",
       "      <td>14</td>\n",
       "      <td>0</td>\n",
       "      <td>86.178</td>\n",
       "      <td>alkane</td>\n",
       "    </tr>\n",
       "    <tr>\n",
       "      <th>3</th>\n",
       "      <td>n-Hexane</td>\n",
       "      <td>110-54-3</td>\n",
       "      <td>C6H14</td>\n",
       "      <td>0.219000</td>\n",
       "      <td>6</td>\n",
       "      <td>14</td>\n",
       "      <td>0</td>\n",
       "      <td>86.178</td>\n",
       "      <td>alkane</td>\n",
       "    </tr>\n",
       "    <tr>\n",
       "      <th>4</th>\n",
       "      <td>2,2-Dimethylbutane</td>\n",
       "      <td>75-83-2</td>\n",
       "      <td>C6H14</td>\n",
       "      <td>0.457000</td>\n",
       "      <td>6</td>\n",
       "      <td>14</td>\n",
       "      <td>0</td>\n",
       "      <td>86.178</td>\n",
       "      <td>alkane</td>\n",
       "    </tr>\n",
       "    <tr>\n",
       "      <th>...</th>\n",
       "      <td>...</td>\n",
       "      <td>...</td>\n",
       "      <td>...</td>\n",
       "      <td>...</td>\n",
       "      <td>...</td>\n",
       "      <td>...</td>\n",
       "      <td>...</td>\n",
       "      <td>...</td>\n",
       "      <td>...</td>\n",
       "    </tr>\n",
       "    <tr>\n",
       "      <th>89</th>\n",
       "      <td>Toluene</td>\n",
       "      <td>108-88-3</td>\n",
       "      <td>C7H8</td>\n",
       "      <td>0.041690</td>\n",
       "      <td>7</td>\n",
       "      <td>8</td>\n",
       "      <td>0</td>\n",
       "      <td>92.141</td>\n",
       "      <td>NaN</td>\n",
       "    </tr>\n",
       "    <tr>\n",
       "      <th>90</th>\n",
       "      <td>Cyclohexanol</td>\n",
       "      <td>108-93-0</td>\n",
       "      <td>C6H12O</td>\n",
       "      <td>0.000947</td>\n",
       "      <td>6</td>\n",
       "      <td>12</td>\n",
       "      <td>1</td>\n",
       "      <td>100.161</td>\n",
       "      <td>carbonyl</td>\n",
       "    </tr>\n",
       "    <tr>\n",
       "      <th>91</th>\n",
       "      <td>Cycloheptanol</td>\n",
       "      <td>502-41-0</td>\n",
       "      <td>C7H14O</td>\n",
       "      <td>0.000328</td>\n",
       "      <td>7</td>\n",
       "      <td>14</td>\n",
       "      <td>1</td>\n",
       "      <td>114.188</td>\n",
       "      <td>carbonyl</td>\n",
       "    </tr>\n",
       "    <tr>\n",
       "      <th>92</th>\n",
       "      <td>Cyclohexanone</td>\n",
       "      <td>108-94-1</td>\n",
       "      <td>C6H10O</td>\n",
       "      <td>0.006063</td>\n",
       "      <td>6</td>\n",
       "      <td>10</td>\n",
       "      <td>1</td>\n",
       "      <td>98.145</td>\n",
       "      <td>NaN</td>\n",
       "    </tr>\n",
       "    <tr>\n",
       "      <th>93</th>\n",
       "      <td>Cyclobutanone</td>\n",
       "      <td>1191-95-3</td>\n",
       "      <td>C4H6O</td>\n",
       "      <td>0.060450</td>\n",
       "      <td>4</td>\n",
       "      <td>6</td>\n",
       "      <td>1</td>\n",
       "      <td>70.091</td>\n",
       "      <td>NaN</td>\n",
       "    </tr>\n",
       "  </tbody>\n",
       "</table>\n",
       "<p>94 rows × 9 columns</p>\n",
       "</div>"
      ],
      "text/plain": [
       "                  Name        CAS Sum Formula  P [bar] at 300 K  C   H  O  \\\n",
       "0   2,3-Dimethylbutane    79-29-8       C6H14          0.388000  6  14  0   \n",
       "1      2-Methylpentane   107-83-5       C6H14          0.305000  6  14  0   \n",
       "2      3-Methylpentane    96-14-0       C6H14          0.273500  6  14  0   \n",
       "3             n-Hexane   110-54-3       C6H14          0.219000  6  14  0   \n",
       "4   2,2-Dimethylbutane    75-83-2       C6H14          0.457000  6  14  0   \n",
       "..                 ...        ...         ...               ... ..  .. ..   \n",
       "89             Toluene   108-88-3        C7H8          0.041690  7   8  0   \n",
       "90        Cyclohexanol   108-93-0      C6H12O          0.000947  6  12  1   \n",
       "91       Cycloheptanol   502-41-0      C7H14O          0.000328  7  14  1   \n",
       "92       Cyclohexanone   108-94-1      C6H10O          0.006063  6  10  1   \n",
       "93       Cyclobutanone  1191-95-3       C4H6O          0.060450  4   6  1   \n",
       "\n",
       "    M [g mol-1]     group  \n",
       "0        86.178    alkane  \n",
       "1        86.178    alkane  \n",
       "2        86.178    alkane  \n",
       "3        86.178    alkane  \n",
       "4        86.178    alkane  \n",
       "..          ...       ...  \n",
       "89       92.141       NaN  \n",
       "90      100.161  carbonyl  \n",
       "91      114.188  carbonyl  \n",
       "92       98.145       NaN  \n",
       "93       70.091       NaN  \n",
       "\n",
       "[94 rows x 9 columns]"
      ]
     },
     "execution_count": 5,
     "metadata": {},
     "output_type": "execute_result"
    }
   ],
   "source": [
    "is_carbonyl = ((vap_press['H'] == 2*vap_press['C']) & (vap_press['O'] == 1))\n",
    "vap_press.loc[is_carbonyl, 'group'] = 'carbonyl'\n",
    "\n",
    "is_alcohol = ((vap_press['H'] == 2*vap_press['C']+2) & (vap_press['O'] == 1))\n",
    "vap_press.loc[is_alcohol, 'group'] = 'alcohol'\n",
    "\n",
    "is_acid = ((vap_press['H'] == 2*vap_press['C']) & (vap_press['O'] == 2))\n",
    "vap_press.loc[is_acid, 'group'] = 'acid'\n",
    "\n",
    "vap_press"
   ]
  },
  {
   "cell_type": "markdown",
   "id": "81e648cc-5273-4c29-9c3b-502eda9002eb",
   "metadata": {},
   "source": [
    "We see now, that after creating the new column, all entries which were not assigned get a **NaN**, when the DataFrame is displayed. \n",
    "\n",
    "What is this? Let's explore:"
   ]
  },
  {
   "cell_type": "code",
   "execution_count": 6,
   "id": "b6dd4807-9655-4ae9-a130-1de02eef0461",
   "metadata": {},
   "outputs": [
    {
     "name": "stdout",
     "output_type": "stream",
     "text": [
      "<class 'float'>\n"
     ]
    },
    {
     "data": {
      "text/plain": [
       "nan"
      ]
     },
     "execution_count": 6,
     "metadata": {},
     "output_type": "execute_result"
    }
   ],
   "source": [
    "missing_value = vap_press.loc[93, 'group']\n",
    "\n",
    "print(type(missing_value))\n",
    "missing_value"
   ]
  },
  {
   "cell_type": "markdown",
   "id": "fc8ab555-36d5-4aac-a727-79ee1c26ba91",
   "metadata": {},
   "source": [
    "So it's of type `float` but it is **N**ot **a** **N**umber (NaN).\n",
    "\n",
    "Pandas apparently uses this when data is missing at one spot in the DataFrame, i.e. when no assignment has been taking place. This is a very helpful way to deal with missing information, i.e. create a value which is declaring that there is nothing. \n",
    "\n",
    "We can also assign **NaN** using numpy. Let's add another molecule to the dataset:"
   ]
  },
  {
   "cell_type": "code",
   "execution_count": 7,
   "id": "6dfffeaa-2ec3-4c95-8b55-f37eaec875ab",
   "metadata": {},
   "outputs": [
    {
     "data": {
      "text/html": [
       "<div>\n",
       "<style scoped>\n",
       "    .dataframe tbody tr th:only-of-type {\n",
       "        vertical-align: middle;\n",
       "    }\n",
       "\n",
       "    .dataframe tbody tr th {\n",
       "        vertical-align: top;\n",
       "    }\n",
       "\n",
       "    .dataframe thead th {\n",
       "        text-align: right;\n",
       "    }\n",
       "</style>\n",
       "<table border=\"1\" class=\"dataframe\">\n",
       "  <thead>\n",
       "    <tr style=\"text-align: right;\">\n",
       "      <th></th>\n",
       "      <th>Name</th>\n",
       "      <th>CAS</th>\n",
       "      <th>Sum Formula</th>\n",
       "      <th>P [bar] at 300 K</th>\n",
       "      <th>C</th>\n",
       "      <th>H</th>\n",
       "      <th>O</th>\n",
       "      <th>M [g mol-1]</th>\n",
       "      <th>group</th>\n",
       "    </tr>\n",
       "  </thead>\n",
       "  <tbody>\n",
       "    <tr>\n",
       "      <th>0</th>\n",
       "      <td>2,3-Dimethylbutane</td>\n",
       "      <td>79-29-8</td>\n",
       "      <td>C6H14</td>\n",
       "      <td>0.388000</td>\n",
       "      <td>6</td>\n",
       "      <td>14</td>\n",
       "      <td>0</td>\n",
       "      <td>86.1780</td>\n",
       "      <td>alkane</td>\n",
       "    </tr>\n",
       "    <tr>\n",
       "      <th>1</th>\n",
       "      <td>2-Methylpentane</td>\n",
       "      <td>107-83-5</td>\n",
       "      <td>C6H14</td>\n",
       "      <td>0.305000</td>\n",
       "      <td>6</td>\n",
       "      <td>14</td>\n",
       "      <td>0</td>\n",
       "      <td>86.1780</td>\n",
       "      <td>alkane</td>\n",
       "    </tr>\n",
       "    <tr>\n",
       "      <th>2</th>\n",
       "      <td>3-Methylpentane</td>\n",
       "      <td>96-14-0</td>\n",
       "      <td>C6H14</td>\n",
       "      <td>0.273500</td>\n",
       "      <td>6</td>\n",
       "      <td>14</td>\n",
       "      <td>0</td>\n",
       "      <td>86.1780</td>\n",
       "      <td>alkane</td>\n",
       "    </tr>\n",
       "    <tr>\n",
       "      <th>3</th>\n",
       "      <td>n-Hexane</td>\n",
       "      <td>110-54-3</td>\n",
       "      <td>C6H14</td>\n",
       "      <td>0.219000</td>\n",
       "      <td>6</td>\n",
       "      <td>14</td>\n",
       "      <td>0</td>\n",
       "      <td>86.1780</td>\n",
       "      <td>alkane</td>\n",
       "    </tr>\n",
       "    <tr>\n",
       "      <th>4</th>\n",
       "      <td>2,2-Dimethylbutane</td>\n",
       "      <td>75-83-2</td>\n",
       "      <td>C6H14</td>\n",
       "      <td>0.457000</td>\n",
       "      <td>6</td>\n",
       "      <td>14</td>\n",
       "      <td>0</td>\n",
       "      <td>86.1780</td>\n",
       "      <td>alkane</td>\n",
       "    </tr>\n",
       "    <tr>\n",
       "      <th>...</th>\n",
       "      <td>...</td>\n",
       "      <td>...</td>\n",
       "      <td>...</td>\n",
       "      <td>...</td>\n",
       "      <td>...</td>\n",
       "      <td>...</td>\n",
       "      <td>...</td>\n",
       "      <td>...</td>\n",
       "      <td>...</td>\n",
       "    </tr>\n",
       "    <tr>\n",
       "      <th>90</th>\n",
       "      <td>Cyclohexanol</td>\n",
       "      <td>108-93-0</td>\n",
       "      <td>C6H12O</td>\n",
       "      <td>0.000947</td>\n",
       "      <td>6</td>\n",
       "      <td>12</td>\n",
       "      <td>1</td>\n",
       "      <td>100.1610</td>\n",
       "      <td>carbonyl</td>\n",
       "    </tr>\n",
       "    <tr>\n",
       "      <th>91</th>\n",
       "      <td>Cycloheptanol</td>\n",
       "      <td>502-41-0</td>\n",
       "      <td>C7H14O</td>\n",
       "      <td>0.000328</td>\n",
       "      <td>7</td>\n",
       "      <td>14</td>\n",
       "      <td>1</td>\n",
       "      <td>114.1880</td>\n",
       "      <td>carbonyl</td>\n",
       "    </tr>\n",
       "    <tr>\n",
       "      <th>92</th>\n",
       "      <td>Cyclohexanone</td>\n",
       "      <td>108-94-1</td>\n",
       "      <td>C6H10O</td>\n",
       "      <td>0.006063</td>\n",
       "      <td>6</td>\n",
       "      <td>10</td>\n",
       "      <td>1</td>\n",
       "      <td>98.1450</td>\n",
       "      <td>NaN</td>\n",
       "    </tr>\n",
       "    <tr>\n",
       "      <th>93</th>\n",
       "      <td>Cyclobutanone</td>\n",
       "      <td>1191-95-3</td>\n",
       "      <td>C4H6O</td>\n",
       "      <td>0.060450</td>\n",
       "      <td>4</td>\n",
       "      <td>6</td>\n",
       "      <td>1</td>\n",
       "      <td>70.0910</td>\n",
       "      <td>NaN</td>\n",
       "    </tr>\n",
       "    <tr>\n",
       "      <th>94</th>\n",
       "      <td>1-Hexene</td>\n",
       "      <td>592-41-6</td>\n",
       "      <td>C6H12</td>\n",
       "      <td>NaN</td>\n",
       "      <td>6</td>\n",
       "      <td>12</td>\n",
       "      <td>0</td>\n",
       "      <td>84.1595</td>\n",
       "      <td>alkene</td>\n",
       "    </tr>\n",
       "  </tbody>\n",
       "</table>\n",
       "<p>95 rows × 9 columns</p>\n",
       "</div>"
      ],
      "text/plain": [
       "                  Name        CAS Sum Formula  P [bar] at 300 K  C   H  O  \\\n",
       "0   2,3-Dimethylbutane    79-29-8       C6H14          0.388000  6  14  0   \n",
       "1      2-Methylpentane   107-83-5       C6H14          0.305000  6  14  0   \n",
       "2      3-Methylpentane    96-14-0       C6H14          0.273500  6  14  0   \n",
       "3             n-Hexane   110-54-3       C6H14          0.219000  6  14  0   \n",
       "4   2,2-Dimethylbutane    75-83-2       C6H14          0.457000  6  14  0   \n",
       "..                 ...        ...         ...               ... ..  .. ..   \n",
       "90        Cyclohexanol   108-93-0      C6H12O          0.000947  6  12  1   \n",
       "91       Cycloheptanol   502-41-0      C7H14O          0.000328  7  14  1   \n",
       "92       Cyclohexanone   108-94-1      C6H10O          0.006063  6  10  1   \n",
       "93       Cyclobutanone  1191-95-3       C4H6O          0.060450  4   6  1   \n",
       "94            1-Hexene   592-41-6       C6H12               NaN  6  12  0   \n",
       "\n",
       "    M [g mol-1]     group  \n",
       "0       86.1780    alkane  \n",
       "1       86.1780    alkane  \n",
       "2       86.1780    alkane  \n",
       "3       86.1780    alkane  \n",
       "4       86.1780    alkane  \n",
       "..          ...       ...  \n",
       "90     100.1610  carbonyl  \n",
       "91     114.1880  carbonyl  \n",
       "92      98.1450       NaN  \n",
       "93      70.0910       NaN  \n",
       "94      84.1595    alkene  \n",
       "\n",
       "[95 rows x 9 columns]"
      ]
     },
     "execution_count": 7,
     "metadata": {},
     "output_type": "execute_result"
    }
   ],
   "source": [
    "import numpy as np\n",
    "\n",
    "alkenes = {'Name': ['1-Hexene'],\n",
    "           'CAS': ['592-41-6'],\n",
    "           'Sum Formula': ['C6H12'],\n",
    "           'P [bar] at 300 K': [np.nan],\n",
    "           'C': [6],\n",
    "           'H': [12],\n",
    "           'O': [0],\n",
    "           'M [g mol-1]': [84.1595],\n",
    "           'group': ['alkene']}\n",
    "\n",
    "vap_press = pd.concat([vap_press, pd.DataFrame(alkenes)], ignore_index=True)\n",
    "\n",
    "vap_press"
   ]
  },
  {
   "cell_type": "markdown",
   "id": "2124fb5b-a099-4494-9d40-db5caead280b",
   "metadata": {},
   "source": [
    "For now, this is good to know and should be our first premise in how to handle missing data. We do not leave \"space\" (e.g. an empty string) and we do not use replacement numbers (such as 0) when data is missing. We try to mark it missing from the beginning on. \n",
    "\n",
    "This is also because `np.nan` works differently when it comes to certain operations, e.g. comparisons:"
   ]
  },
  {
   "cell_type": "code",
   "execution_count": 8,
   "id": "c645e552-e7ba-4c6c-afcf-cc34763c70ce",
   "metadata": {},
   "outputs": [],
   "source": [
    "# np.nan == 0"
   ]
  },
  {
   "cell_type": "markdown",
   "id": "6dcff582-3226-498b-a649-eb88a57a644e",
   "metadata": {},
   "source": [
    "**And more importantly (never forget!!!):**"
   ]
  },
  {
   "cell_type": "code",
   "execution_count": 9,
   "id": "2ee874ba-9ad4-47d0-bf2d-0b751589fcfc",
   "metadata": {},
   "outputs": [],
   "source": [
    "# np.nan == np.nan\n",
    "# False! that is good to know, otherwise some operations might break \n",
    "# or leave us with false ideas about the data\n",
    "\n",
    "# TODO: But remember, that means you cannot look for nan with element == np.nan \n",
    "# since np.nan != np.nan\n"
   ]
  },
  {
   "cell_type": "markdown",
   "id": "411be9f2-8c37-4b73-8b17-803186c15403",
   "metadata": {},
   "source": [
    "&rarr; we need to rely on numpy or pandas methods to identify NaNs:\n",
    "\n",
    "- [`pd.isna()`](https://pandas.pydata.org/pandas-docs/version/1.4/reference/api/pandas.isna.html) to identify NaNs in a `pd.DataFrame` or `pd.Series`\n",
    "- [`np.isnan()`](https://numpy.org/doc/stable/reference/generated/numpy.isnan.html) to identify NaNs in numpy data types.\n",
    "\n",
    "There are some key differences when it comes to mixed data types and other than numeric data:\n",
    "\n",
    "| Feature         | `np.isnan()` (NumPy) | `pd.isna()` (Pandas) |\n",
    "|---------------|--------------------|--------------------|\n",
    "| Works with arrays | ✅ Yes | ✅ Yes (DataFrame & Series) |\n",
    "| Works with scalars | ✅ Yes | ✅ Yes |\n",
    "| Works with strings | ❌ No (Raises `TypeError`) | ✅ Yes |\n",
    "| Detects `None` | ❌ No | ✅ Yes |\n",
    "| Best for | Pure numeric data | Mixed data (real-world datasets) |"
   ]
  },
  {
   "cell_type": "code",
   "execution_count": 10,
   "id": "ce942cdf-084b-4e0a-8935-1789ed415033",
   "metadata": {},
   "outputs": [
    {
     "data": {
      "text/plain": [
       "0     False\n",
       "1     False\n",
       "2     False\n",
       "3     False\n",
       "4     False\n",
       "      ...  \n",
       "90    False\n",
       "91    False\n",
       "92    False\n",
       "93    False\n",
       "94     True\n",
       "Name: P [bar] at 300 K, Length: 95, dtype: bool"
      ]
     },
     "execution_count": 10,
     "metadata": {},
     "output_type": "execute_result"
    }
   ],
   "source": [
    "vap_press['P [bar] at 300 K'].isna()"
   ]
  },
  {
   "cell_type": "code",
   "execution_count": 11,
   "id": "74ae123a-7a0b-4e79-ba55-ebd76d546253",
   "metadata": {},
   "outputs": [
    {
     "data": {
      "text/plain": [
       "0     False\n",
       "1     False\n",
       "2     False\n",
       "3     False\n",
       "4     False\n",
       "      ...  \n",
       "90    False\n",
       "91    False\n",
       "92    False\n",
       "93    False\n",
       "94     True\n",
       "Name: P [bar] at 300 K, Length: 95, dtype: bool"
      ]
     },
     "execution_count": 11,
     "metadata": {},
     "output_type": "execute_result"
    }
   ],
   "source": [
    "np.isnan(vap_press['P [bar] at 300 K'])"
   ]
  },
  {
   "cell_type": "markdown",
   "id": "376caace-dafe-4c4b-aedb-ad731ff0fe9e",
   "metadata": {},
   "source": [
    "However, as said above, the pandas function `pd.isna()` can also deal with other types of missing values.\n",
    "\n",
    "- `None` is pythons built-in data type for missing values. It is actually slightly more versatile than np.nan however when used with mathematical operations, it returns Errors.\n",
    "- `pd.NA` is pandas built-in missing value format. It also works on object data columns.\n",
    "- `pd.NaT` is pandas built-in missing value format for time-based data types. This will become important later in the lecture.\n",
    "\n",
    "The important thing to remember is that pandas typically takes care of missing data types quite well, if we stick to the pandas functions such as pd.isna() when it comes to missing values. "
   ]
  },
  {
   "cell_type": "code",
   "execution_count": 12,
   "id": "4185055b-2378-4247-bfb4-1f1034cd581e",
   "metadata": {},
   "outputs": [
    {
     "data": {
      "text/html": [
       "<div>\n",
       "<style scoped>\n",
       "    .dataframe tbody tr th:only-of-type {\n",
       "        vertical-align: middle;\n",
       "    }\n",
       "\n",
       "    .dataframe tbody tr th {\n",
       "        vertical-align: top;\n",
       "    }\n",
       "\n",
       "    .dataframe thead th {\n",
       "        text-align: right;\n",
       "    }\n",
       "</style>\n",
       "<table border=\"1\" class=\"dataframe\">\n",
       "  <thead>\n",
       "    <tr style=\"text-align: right;\">\n",
       "      <th></th>\n",
       "      <th>Name</th>\n",
       "      <th>CAS</th>\n",
       "      <th>Sum Formula</th>\n",
       "      <th>P [bar] at 300 K</th>\n",
       "      <th>C</th>\n",
       "      <th>H</th>\n",
       "      <th>O</th>\n",
       "      <th>M [g mol-1]</th>\n",
       "      <th>group</th>\n",
       "    </tr>\n",
       "  </thead>\n",
       "  <tbody>\n",
       "    <tr>\n",
       "      <th>0</th>\n",
       "      <td>2,3-Dimethylbutane</td>\n",
       "      <td>79-29-8</td>\n",
       "      <td>C6H14</td>\n",
       "      <td>0.388000</td>\n",
       "      <td>6</td>\n",
       "      <td>14</td>\n",
       "      <td>0</td>\n",
       "      <td>86.1780</td>\n",
       "      <td>alkane</td>\n",
       "    </tr>\n",
       "    <tr>\n",
       "      <th>1</th>\n",
       "      <td>2-Methylpentane</td>\n",
       "      <td>107-83-5</td>\n",
       "      <td>C6H14</td>\n",
       "      <td>0.305000</td>\n",
       "      <td>6</td>\n",
       "      <td>14</td>\n",
       "      <td>0</td>\n",
       "      <td>86.1780</td>\n",
       "      <td>alkane</td>\n",
       "    </tr>\n",
       "    <tr>\n",
       "      <th>2</th>\n",
       "      <td>3-Methylpentane</td>\n",
       "      <td>96-14-0</td>\n",
       "      <td>C6H14</td>\n",
       "      <td>0.273500</td>\n",
       "      <td>6</td>\n",
       "      <td>14</td>\n",
       "      <td>0</td>\n",
       "      <td>86.1780</td>\n",
       "      <td>alkane</td>\n",
       "    </tr>\n",
       "    <tr>\n",
       "      <th>3</th>\n",
       "      <td>n-Hexane</td>\n",
       "      <td>110-54-3</td>\n",
       "      <td>C6H14</td>\n",
       "      <td>0.219000</td>\n",
       "      <td>6</td>\n",
       "      <td>14</td>\n",
       "      <td>0</td>\n",
       "      <td>86.1780</td>\n",
       "      <td>alkane</td>\n",
       "    </tr>\n",
       "    <tr>\n",
       "      <th>4</th>\n",
       "      <td>2,2-Dimethylbutane</td>\n",
       "      <td>75-83-2</td>\n",
       "      <td>C6H14</td>\n",
       "      <td>0.457000</td>\n",
       "      <td>6</td>\n",
       "      <td>14</td>\n",
       "      <td>0</td>\n",
       "      <td>86.1780</td>\n",
       "      <td>alkane</td>\n",
       "    </tr>\n",
       "    <tr>\n",
       "      <th>...</th>\n",
       "      <td>...</td>\n",
       "      <td>...</td>\n",
       "      <td>...</td>\n",
       "      <td>...</td>\n",
       "      <td>...</td>\n",
       "      <td>...</td>\n",
       "      <td>...</td>\n",
       "      <td>...</td>\n",
       "      <td>...</td>\n",
       "    </tr>\n",
       "    <tr>\n",
       "      <th>91</th>\n",
       "      <td>Cycloheptanol</td>\n",
       "      <td>502-41-0</td>\n",
       "      <td>C7H14O</td>\n",
       "      <td>0.000328</td>\n",
       "      <td>7</td>\n",
       "      <td>14</td>\n",
       "      <td>1</td>\n",
       "      <td>114.1880</td>\n",
       "      <td>carbonyl</td>\n",
       "    </tr>\n",
       "    <tr>\n",
       "      <th>92</th>\n",
       "      <td>Cyclohexanone</td>\n",
       "      <td>108-94-1</td>\n",
       "      <td>C6H10O</td>\n",
       "      <td>0.006063</td>\n",
       "      <td>6</td>\n",
       "      <td>10</td>\n",
       "      <td>1</td>\n",
       "      <td>98.1450</td>\n",
       "      <td>NaN</td>\n",
       "    </tr>\n",
       "    <tr>\n",
       "      <th>93</th>\n",
       "      <td>Cyclobutanone</td>\n",
       "      <td>1191-95-3</td>\n",
       "      <td>C4H6O</td>\n",
       "      <td>0.060450</td>\n",
       "      <td>4</td>\n",
       "      <td>6</td>\n",
       "      <td>1</td>\n",
       "      <td>70.0910</td>\n",
       "      <td>NaN</td>\n",
       "    </tr>\n",
       "    <tr>\n",
       "      <th>94</th>\n",
       "      <td>1-Hexene</td>\n",
       "      <td>592-41-6</td>\n",
       "      <td>C6H12</td>\n",
       "      <td>NaN</td>\n",
       "      <td>6</td>\n",
       "      <td>12</td>\n",
       "      <td>0</td>\n",
       "      <td>84.1595</td>\n",
       "      <td>alkene</td>\n",
       "    </tr>\n",
       "    <tr>\n",
       "      <th>95</th>\n",
       "      <td>Hydroperoxy Pinonic Acid</td>\n",
       "      <td>None</td>\n",
       "      <td>C6H12</td>\n",
       "      <td>NaN</td>\n",
       "      <td>10</td>\n",
       "      <td>16</td>\n",
       "      <td>4</td>\n",
       "      <td>84.1595</td>\n",
       "      <td>NaN</td>\n",
       "    </tr>\n",
       "  </tbody>\n",
       "</table>\n",
       "<p>96 rows × 9 columns</p>\n",
       "</div>"
      ],
      "text/plain": [
       "                        Name        CAS Sum Formula  P [bar] at 300 K   C   H  \\\n",
       "0         2,3-Dimethylbutane    79-29-8       C6H14          0.388000   6  14   \n",
       "1            2-Methylpentane   107-83-5       C6H14          0.305000   6  14   \n",
       "2            3-Methylpentane    96-14-0       C6H14          0.273500   6  14   \n",
       "3                   n-Hexane   110-54-3       C6H14          0.219000   6  14   \n",
       "4         2,2-Dimethylbutane    75-83-2       C6H14          0.457000   6  14   \n",
       "..                       ...        ...         ...               ...  ..  ..   \n",
       "91             Cycloheptanol   502-41-0      C7H14O          0.000328   7  14   \n",
       "92             Cyclohexanone   108-94-1      C6H10O          0.006063   6  10   \n",
       "93             Cyclobutanone  1191-95-3       C4H6O          0.060450   4   6   \n",
       "94                  1-Hexene   592-41-6       C6H12               NaN   6  12   \n",
       "95  Hydroperoxy Pinonic Acid       None       C6H12               NaN  10  16   \n",
       "\n",
       "    O  M [g mol-1]     group  \n",
       "0   0      86.1780    alkane  \n",
       "1   0      86.1780    alkane  \n",
       "2   0      86.1780    alkane  \n",
       "3   0      86.1780    alkane  \n",
       "4   0      86.1780    alkane  \n",
       ".. ..          ...       ...  \n",
       "91  1     114.1880  carbonyl  \n",
       "92  1      98.1450       NaN  \n",
       "93  1      70.0910       NaN  \n",
       "94  0      84.1595    alkene  \n",
       "95  4      84.1595       NaN  \n",
       "\n",
       "[96 rows x 9 columns]"
      ]
     },
     "execution_count": 12,
     "metadata": {},
     "output_type": "execute_result"
    }
   ],
   "source": [
    "hydroperoxy_pinonic_acid = {'Name': ['Hydroperoxy Pinonic Acid'],\n",
    "                            'CAS': [None],\n",
    "                            'Sum Formula': ['C6H12'],\n",
    "                            'P [bar] at 300 K': [np.nan],\n",
    "                            'C': [10],\n",
    "                            'H': [16],\n",
    "                            'O': [4],\n",
    "                            'M [g mol-1]': [84.1595],\n",
    "                            'group': [pd.NA]}\n",
    "\n",
    "vap_press = pd.concat([vap_press, pd.DataFrame(hydroperoxy_pinonic_acid)], ignore_index=True)\n",
    "\n",
    "vap_press"
   ]
  },
  {
   "cell_type": "code",
   "execution_count": 13,
   "id": "6e26e9ef-9836-4aa2-b1d3-7882e771cf57",
   "metadata": {},
   "outputs": [
    {
     "data": {
      "text/plain": [
       "0     False\n",
       "1     False\n",
       "2     False\n",
       "3     False\n",
       "4     False\n",
       "      ...  \n",
       "91    False\n",
       "92    False\n",
       "93    False\n",
       "94    False\n",
       "95     True\n",
       "Name: CAS, Length: 96, dtype: bool"
      ]
     },
     "execution_count": 13,
     "metadata": {},
     "output_type": "execute_result"
    }
   ],
   "source": [
    "vap_press['CAS'].isna()\n",
    "# pd.isna() also finds the py-built-in \"None\""
   ]
  },
  {
   "cell_type": "markdown",
   "id": "d99be1a8-63b9-44e8-85f9-8806302923be",
   "metadata": {},
   "source": [
    "Now we can make use of another pandas function [`pd.dropna()`](https://pandas.pydata.org/docs/reference/api/pandas.DataFrame.dropna.html) e.g., to get rid of entries which do not provide a CAS number."
   ]
  },
  {
   "cell_type": "code",
   "execution_count": 14,
   "id": "a27c8936-9948-479d-8310-83d62cb5a49a",
   "metadata": {},
   "outputs": [
    {
     "data": {
      "text/html": [
       "<div>\n",
       "<style scoped>\n",
       "    .dataframe tbody tr th:only-of-type {\n",
       "        vertical-align: middle;\n",
       "    }\n",
       "\n",
       "    .dataframe tbody tr th {\n",
       "        vertical-align: top;\n",
       "    }\n",
       "\n",
       "    .dataframe thead th {\n",
       "        text-align: right;\n",
       "    }\n",
       "</style>\n",
       "<table border=\"1\" class=\"dataframe\">\n",
       "  <thead>\n",
       "    <tr style=\"text-align: right;\">\n",
       "      <th></th>\n",
       "      <th>Name</th>\n",
       "      <th>CAS</th>\n",
       "      <th>Sum Formula</th>\n",
       "      <th>P [bar] at 300 K</th>\n",
       "      <th>C</th>\n",
       "      <th>H</th>\n",
       "      <th>O</th>\n",
       "      <th>M [g mol-1]</th>\n",
       "      <th>group</th>\n",
       "    </tr>\n",
       "  </thead>\n",
       "  <tbody>\n",
       "    <tr>\n",
       "      <th>0</th>\n",
       "      <td>2,3-Dimethylbutane</td>\n",
       "      <td>79-29-8</td>\n",
       "      <td>C6H14</td>\n",
       "      <td>0.388000</td>\n",
       "      <td>6</td>\n",
       "      <td>14</td>\n",
       "      <td>0</td>\n",
       "      <td>86.1780</td>\n",
       "      <td>alkane</td>\n",
       "    </tr>\n",
       "    <tr>\n",
       "      <th>1</th>\n",
       "      <td>2-Methylpentane</td>\n",
       "      <td>107-83-5</td>\n",
       "      <td>C6H14</td>\n",
       "      <td>0.305000</td>\n",
       "      <td>6</td>\n",
       "      <td>14</td>\n",
       "      <td>0</td>\n",
       "      <td>86.1780</td>\n",
       "      <td>alkane</td>\n",
       "    </tr>\n",
       "    <tr>\n",
       "      <th>2</th>\n",
       "      <td>3-Methylpentane</td>\n",
       "      <td>96-14-0</td>\n",
       "      <td>C6H14</td>\n",
       "      <td>0.273500</td>\n",
       "      <td>6</td>\n",
       "      <td>14</td>\n",
       "      <td>0</td>\n",
       "      <td>86.1780</td>\n",
       "      <td>alkane</td>\n",
       "    </tr>\n",
       "    <tr>\n",
       "      <th>3</th>\n",
       "      <td>n-Hexane</td>\n",
       "      <td>110-54-3</td>\n",
       "      <td>C6H14</td>\n",
       "      <td>0.219000</td>\n",
       "      <td>6</td>\n",
       "      <td>14</td>\n",
       "      <td>0</td>\n",
       "      <td>86.1780</td>\n",
       "      <td>alkane</td>\n",
       "    </tr>\n",
       "    <tr>\n",
       "      <th>4</th>\n",
       "      <td>2,2-Dimethylbutane</td>\n",
       "      <td>75-83-2</td>\n",
       "      <td>C6H14</td>\n",
       "      <td>0.457000</td>\n",
       "      <td>6</td>\n",
       "      <td>14</td>\n",
       "      <td>0</td>\n",
       "      <td>86.1780</td>\n",
       "      <td>alkane</td>\n",
       "    </tr>\n",
       "    <tr>\n",
       "      <th>...</th>\n",
       "      <td>...</td>\n",
       "      <td>...</td>\n",
       "      <td>...</td>\n",
       "      <td>...</td>\n",
       "      <td>...</td>\n",
       "      <td>...</td>\n",
       "      <td>...</td>\n",
       "      <td>...</td>\n",
       "      <td>...</td>\n",
       "    </tr>\n",
       "    <tr>\n",
       "      <th>90</th>\n",
       "      <td>Cyclohexanol</td>\n",
       "      <td>108-93-0</td>\n",
       "      <td>C6H12O</td>\n",
       "      <td>0.000947</td>\n",
       "      <td>6</td>\n",
       "      <td>12</td>\n",
       "      <td>1</td>\n",
       "      <td>100.1610</td>\n",
       "      <td>carbonyl</td>\n",
       "    </tr>\n",
       "    <tr>\n",
       "      <th>91</th>\n",
       "      <td>Cycloheptanol</td>\n",
       "      <td>502-41-0</td>\n",
       "      <td>C7H14O</td>\n",
       "      <td>0.000328</td>\n",
       "      <td>7</td>\n",
       "      <td>14</td>\n",
       "      <td>1</td>\n",
       "      <td>114.1880</td>\n",
       "      <td>carbonyl</td>\n",
       "    </tr>\n",
       "    <tr>\n",
       "      <th>92</th>\n",
       "      <td>Cyclohexanone</td>\n",
       "      <td>108-94-1</td>\n",
       "      <td>C6H10O</td>\n",
       "      <td>0.006063</td>\n",
       "      <td>6</td>\n",
       "      <td>10</td>\n",
       "      <td>1</td>\n",
       "      <td>98.1450</td>\n",
       "      <td>NaN</td>\n",
       "    </tr>\n",
       "    <tr>\n",
       "      <th>93</th>\n",
       "      <td>Cyclobutanone</td>\n",
       "      <td>1191-95-3</td>\n",
       "      <td>C4H6O</td>\n",
       "      <td>0.060450</td>\n",
       "      <td>4</td>\n",
       "      <td>6</td>\n",
       "      <td>1</td>\n",
       "      <td>70.0910</td>\n",
       "      <td>NaN</td>\n",
       "    </tr>\n",
       "    <tr>\n",
       "      <th>94</th>\n",
       "      <td>1-Hexene</td>\n",
       "      <td>592-41-6</td>\n",
       "      <td>C6H12</td>\n",
       "      <td>NaN</td>\n",
       "      <td>6</td>\n",
       "      <td>12</td>\n",
       "      <td>0</td>\n",
       "      <td>84.1595</td>\n",
       "      <td>alkene</td>\n",
       "    </tr>\n",
       "  </tbody>\n",
       "</table>\n",
       "<p>95 rows × 9 columns</p>\n",
       "</div>"
      ],
      "text/plain": [
       "                  Name        CAS Sum Formula  P [bar] at 300 K  C   H  O  \\\n",
       "0   2,3-Dimethylbutane    79-29-8       C6H14          0.388000  6  14  0   \n",
       "1      2-Methylpentane   107-83-5       C6H14          0.305000  6  14  0   \n",
       "2      3-Methylpentane    96-14-0       C6H14          0.273500  6  14  0   \n",
       "3             n-Hexane   110-54-3       C6H14          0.219000  6  14  0   \n",
       "4   2,2-Dimethylbutane    75-83-2       C6H14          0.457000  6  14  0   \n",
       "..                 ...        ...         ...               ... ..  .. ..   \n",
       "90        Cyclohexanol   108-93-0      C6H12O          0.000947  6  12  1   \n",
       "91       Cycloheptanol   502-41-0      C7H14O          0.000328  7  14  1   \n",
       "92       Cyclohexanone   108-94-1      C6H10O          0.006063  6  10  1   \n",
       "93       Cyclobutanone  1191-95-3       C4H6O          0.060450  4   6  1   \n",
       "94            1-Hexene   592-41-6       C6H12               NaN  6  12  0   \n",
       "\n",
       "    M [g mol-1]     group  \n",
       "0       86.1780    alkane  \n",
       "1       86.1780    alkane  \n",
       "2       86.1780    alkane  \n",
       "3       86.1780    alkane  \n",
       "4       86.1780    alkane  \n",
       "..          ...       ...  \n",
       "90     100.1610  carbonyl  \n",
       "91     114.1880  carbonyl  \n",
       "92      98.1450       NaN  \n",
       "93      70.0910       NaN  \n",
       "94      84.1595    alkene  \n",
       "\n",
       "[95 rows x 9 columns]"
      ]
     },
     "execution_count": 14,
     "metadata": {},
     "output_type": "execute_result"
    }
   ],
   "source": [
    "# Dropping all rows with CAS = None, NaN, etc.\n",
    "vap_press.dropna(subset=['CAS'], inplace=True)\n",
    "\n",
    "vap_press"
   ]
  },
  {
   "cell_type": "markdown",
   "id": "1b18bd06-231f-4fdd-b566-721f688b9a02",
   "metadata": {},
   "source": [
    "Note that like many pandas functions [`pd.dropna()`](https://pandas.pydata.org/docs/reference/api/pandas.DataFrame.dropna.html) has an `inplace` keyowrd argument, which executes the method on the pandas object directly without the need to use a return value. "
   ]
  },
  {
   "cell_type": "markdown",
   "id": "d0a0beda-5c0a-4114-b2d4-330c668d95e6",
   "metadata": {},
   "source": [
    "It is also good to know, that the pandas read-in functions have options to specify that any other entries in a dataset can be interpreted as NaN. \n",
    "\n",
    "For example `pd.read_csv()` has the keyword `na_values` where we can e.g. specify to interprete the string `alkene` also as a NaN:"
   ]
  },
  {
   "cell_type": "code",
   "execution_count": 15,
   "id": "60e775c8-f302-4528-baeb-d1498ce99c4b",
   "metadata": {},
   "outputs": [
    {
     "data": {
      "text/html": [
       "<div>\n",
       "<style scoped>\n",
       "    .dataframe tbody tr th:only-of-type {\n",
       "        vertical-align: middle;\n",
       "    }\n",
       "\n",
       "    .dataframe tbody tr th {\n",
       "        vertical-align: top;\n",
       "    }\n",
       "\n",
       "    .dataframe thead th {\n",
       "        text-align: right;\n",
       "    }\n",
       "</style>\n",
       "<table border=\"1\" class=\"dataframe\">\n",
       "  <thead>\n",
       "    <tr style=\"text-align: right;\">\n",
       "      <th></th>\n",
       "      <th>Name</th>\n",
       "      <th>CAS</th>\n",
       "      <th>Sum Formula</th>\n",
       "      <th>P [bar] at 300 K</th>\n",
       "    </tr>\n",
       "  </thead>\n",
       "  <tbody>\n",
       "    <tr>\n",
       "      <th>0</th>\n",
       "      <td>2,3-Dimethylbutane</td>\n",
       "      <td>79-29-8</td>\n",
       "      <td>C6H14</td>\n",
       "      <td>0.388000</td>\n",
       "    </tr>\n",
       "    <tr>\n",
       "      <th>1</th>\n",
       "      <td>2-Methylpentane</td>\n",
       "      <td>107-83-5</td>\n",
       "      <td>C6H14</td>\n",
       "      <td>0.305000</td>\n",
       "    </tr>\n",
       "    <tr>\n",
       "      <th>2</th>\n",
       "      <td>3-Methylpentane</td>\n",
       "      <td>96-14-0</td>\n",
       "      <td>C6H14</td>\n",
       "      <td>0.273500</td>\n",
       "    </tr>\n",
       "    <tr>\n",
       "      <th>3</th>\n",
       "      <td>n-Hexane</td>\n",
       "      <td>110-54-3</td>\n",
       "      <td>C6H14</td>\n",
       "      <td>0.219000</td>\n",
       "    </tr>\n",
       "    <tr>\n",
       "      <th>4</th>\n",
       "      <td>2,2-Dimethylbutane</td>\n",
       "      <td>75-83-2</td>\n",
       "      <td>C6H14</td>\n",
       "      <td>0.457000</td>\n",
       "    </tr>\n",
       "    <tr>\n",
       "      <th>...</th>\n",
       "      <td>...</td>\n",
       "      <td>...</td>\n",
       "      <td>...</td>\n",
       "      <td>...</td>\n",
       "    </tr>\n",
       "    <tr>\n",
       "      <th>89</th>\n",
       "      <td>Toluene</td>\n",
       "      <td>108-88-3</td>\n",
       "      <td>C7H8</td>\n",
       "      <td>0.041690</td>\n",
       "    </tr>\n",
       "    <tr>\n",
       "      <th>90</th>\n",
       "      <td>Cyclohexanol</td>\n",
       "      <td>108-93-0</td>\n",
       "      <td>C6H12O</td>\n",
       "      <td>0.000947</td>\n",
       "    </tr>\n",
       "    <tr>\n",
       "      <th>91</th>\n",
       "      <td>Cycloheptanol</td>\n",
       "      <td>502-41-0</td>\n",
       "      <td>C7H14O</td>\n",
       "      <td>0.000328</td>\n",
       "    </tr>\n",
       "    <tr>\n",
       "      <th>92</th>\n",
       "      <td>Cyclohexanone</td>\n",
       "      <td>108-94-1</td>\n",
       "      <td>C6H10O</td>\n",
       "      <td>0.006063</td>\n",
       "    </tr>\n",
       "    <tr>\n",
       "      <th>93</th>\n",
       "      <td>Cyclobutanone</td>\n",
       "      <td>1191-95-3</td>\n",
       "      <td>C4H6O</td>\n",
       "      <td>0.060450</td>\n",
       "    </tr>\n",
       "  </tbody>\n",
       "</table>\n",
       "<p>94 rows × 4 columns</p>\n",
       "</div>"
      ],
      "text/plain": [
       "                  Name        CAS Sum Formula  P [bar] at 300 K\n",
       "0   2,3-Dimethylbutane    79-29-8       C6H14          0.388000\n",
       "1      2-Methylpentane   107-83-5       C6H14          0.305000\n",
       "2      3-Methylpentane    96-14-0       C6H14          0.273500\n",
       "3             n-Hexane   110-54-3       C6H14          0.219000\n",
       "4   2,2-Dimethylbutane    75-83-2       C6H14          0.457000\n",
       "..                 ...        ...         ...               ...\n",
       "89             Toluene   108-88-3        C7H8          0.041690\n",
       "90        Cyclohexanol   108-93-0      C6H12O          0.000947\n",
       "91       Cycloheptanol   502-41-0      C7H14O          0.000328\n",
       "92       Cyclohexanone   108-94-1      C6H10O          0.006063\n",
       "93       Cyclobutanone  1191-95-3       C4H6O          0.060450\n",
       "\n",
       "[94 rows x 4 columns]"
      ]
     },
     "execution_count": 15,
     "metadata": {},
     "output_type": "execute_result"
    }
   ],
   "source": [
    "pd.read_csv('./organic_vapor_pressures.csv', sep=';', na_values='alkenes')"
   ]
  },
  {
   "cell_type": "markdown",
   "id": "f446076b-5841-4333-a033-f68b7b2fff71",
   "metadata": {},
   "source": [
    "## 2.2 Basic statistic descriptors in python"
   ]
  },
  {
   "cell_type": "markdown",
   "id": "e208ad75-b948-4a64-b187-5cb4417316ae",
   "metadata": {},
   "source": [
    "### 2.2.1 Mean, median, standard deviation, quantiles\n",
    "\n",
    "Now let's see if we can extract some meaningful values from our list of vapor pressures, i.e. classical statistical descriptors such as mean, median, standard deviation and quantiles. Again, there are numpy and pandas functions for this available.\n",
    "\n",
    "There are two major differences: \n",
    "- numpy uses them as functions and pandas as methods of the DataFrame: [`np.mean(df)`](https://numpy.org/doc/2.2/reference/generated/numpy.mean.html) and [`df.mean()`](https://pandas.pydata.org/docs/reference/api/pandas.DataFrame.mean.html), i.e. for numpy the array-like structure you want to compute the mean from needs to be an argument and the function is called from the numpy namespace, while for pandas it is a method of the DataFrame class and can be called from any pd.DataFrame object (or pd.Series).\n",
    "- numpy returns `NaN` as soon as one value is `NaN` and pandas ignores them by default. numpy also provides e.g. `np.nanmean()` to also include `NaN` and the pandas methods can be called with the keyword `skipna=False` which will include them and return `NaN` as soon as one is present."
   ]
  },
  {
   "cell_type": "code",
   "execution_count": 16,
   "id": "08d81105-e8f3-45f4-95b5-ea67f4caf290",
   "metadata": {},
   "outputs": [
    {
     "name": "stdout",
     "output_type": "stream",
     "text": [
      "\t \t \t np.mean = \t nan\n",
      "\t \t \t np.nanmean = \t 1.3333333333333333\n",
      "\t \t test.series.mean = \t 1.3333333333333333\n",
      "\t test.series.mean(skipna = Flase) = nan\n"
     ]
    }
   ],
   "source": [
    "test_array = np.array([1, 1, 2, np.nan])\n",
    "test_series = pd.Series([1, 1, 2, np.nan])\n",
    "\n",
    "print(f\"\\t \\t \\t np.mean = \\t {np.mean(test_array)}\")\n",
    "print(f\"\\t \\t \\t np.nanmean = \\t {np.nanmean(test_array)}\")\n",
    "\n",
    "print(f\"\\t \\t test.series.mean = \\t {test_series.mean()}\")\n",
    "print(f\"\\t test.series.mean(skipna = Flase) = {test_series.mean(skipna=False)}\")"
   ]
  },
  {
   "cell_type": "markdown",
   "id": "e26ed6c7-21ec-46f5-b1e0-71baa63fd26c",
   "metadata": {},
   "source": [
    "However:"
   ]
  },
  {
   "cell_type": "code",
   "execution_count": 17,
   "id": "01d85fb9-b21b-4cf9-9944-66ceae97d8c5",
   "metadata": {},
   "outputs": [
    {
     "name": "stdout",
     "output_type": "stream",
     "text": [
      "1.3333333333333333\n"
     ]
    }
   ],
   "source": [
    "print(np.mean(test_series))"
   ]
  },
  {
   "cell_type": "markdown",
   "id": "b50f8db7-7d15-4329-99a2-d8a0ac3ffc95",
   "metadata": {},
   "source": [
    "Again, we see slightly inconsistent behavior here of numpy.\n",
    "\n",
    "**Conclusion: If we anyways work with pandas, stick to the pandas methods!**"
   ]
  },
  {
   "cell_type": "markdown",
   "id": "668b41e2-8b40-4737-a360-567902e1caa6",
   "metadata": {},
   "source": [
    "Pandas also provides other descriptors, such as [`pd.std()`](https://pandas.pydata.org/docs/reference/api/pandas.DataFrame.std.html), [`pd.median()`](https://pandas.pydata.org/docs/reference/api/pandas.DataFrame.median.html), and [`pd.quantile()`](https://pandas.pydata.org/docs/reference/api/pandas.DataFrame.quantile.html), which all work similar as [`pd.mean()`](https://pandas.pydata.org/docs/reference/api/pandas.DataFrame.mean.html).\n",
    "\n",
    "That way we can find out that the median vapor pressure of all alkanes in our database is much higher than the one of all acids and even the 10% quantile of the alkane vapor pressures are higher than the median of the acids. "
   ]
  },
  {
   "cell_type": "code",
   "execution_count": 18,
   "id": "b2619dee-5972-4d8c-829a-886928147099",
   "metadata": {},
   "outputs": [
    {
     "data": {
      "text/plain": [
       "0.087"
      ]
     },
     "execution_count": 18,
     "metadata": {},
     "output_type": "execute_result"
    }
   ],
   "source": [
    "# mean vap-pres of alcanes\n",
    "# access the df.loc[vap_press['group']==alkanes, \n",
    "vap_press.loc[vap_press['group']=='alkane', 'P [bar] at 300 K'].median()"
   ]
  },
  {
   "cell_type": "code",
   "execution_count": 19,
   "id": "8175abf2-237b-431e-8074-10f199475708",
   "metadata": {},
   "outputs": [
    {
     "data": {
      "text/plain": [
       "0.024050000000000002"
      ]
     },
     "execution_count": 19,
     "metadata": {},
     "output_type": "execute_result"
    }
   ],
   "source": [
    "vap_press.loc[vap_press['group']=='alkane', 'P [bar] at 300 K'].quantile(q=0.1)"
   ]
  },
  {
   "cell_type": "code",
   "execution_count": 20,
   "id": "b99699d4-b19a-43ef-8be3-ae52f7282a4d",
   "metadata": {},
   "outputs": [
    {
     "name": "stdout",
     "output_type": "stream",
     "text": [
      "vp_alkanes_mean = 0.087\n",
      "vp_acids_mean = 0.002413\n"
     ]
    }
   ],
   "source": [
    "vp_alkanes_mean = vap_press.loc[vap_press['group']=='alkane', 'P [bar] at 300 K'].quantile(q=0.5)\n",
    "vp_acids_mean =   vap_press.loc[vap_press['group']=='acid', 'P [bar] at 300 K'].quantile(q=0.5)\n",
    "\n",
    "print(f\"vp_alkanes_mean = {vp_alkanes_mean}\")\n",
    "print(f\"vp_acids_mean = {vp_acids_mean}\")"
   ]
  },
  {
   "cell_type": "markdown",
   "id": "91c6a732-130e-46da-86b2-c22549f9e266",
   "metadata": {},
   "source": [
    "Note that `df.quantile(q=0.5)` and `df.median` are equivalent in their output. "
   ]
  },
  {
   "cell_type": "markdown",
   "id": "09eab7c0-f736-45c7-b1ef-07e14a86bc35",
   "metadata": {},
   "source": [
    "Let's also quickly recall how we can group a `pd.DataFrame` using `groupby()` instead, where we could get all values for all groups in the dataset at once:"
   ]
  },
  {
   "cell_type": "code",
   "execution_count": 21,
   "id": "953f801c-0483-4177-acd5-14f69a42029a",
   "metadata": {},
   "outputs": [
    {
     "name": "stdout",
     "output_type": "stream",
     "text": [
      "<pandas.core.groupby.generic.DataFrameGroupBy object at 0x7f04cdfb4cd0>\n",
      "acid 0.002413\n",
      "alcohol 0.009544500000000001\n",
      "alkane 0.087\n",
      "alkene nan\n",
      "carbonyl 0.02036\n"
     ]
    }
   ],
   "source": [
    "grouped = vap_press.groupby('group')\n",
    "print(grouped)\n",
    "\n",
    "for key, group_df in grouped:\n",
    "    group_median = group_df['P [bar] at 300 K'].median()\n",
    "    print(key, group_median)"
   ]
  },
  {
   "cell_type": "markdown",
   "id": "a4d141d5-ef03-4a34-89a3-f68824ed1900",
   "metadata": {},
   "source": [
    "### 2.2.2 More complex statistics: covariance, correlation coefficients"
   ]
  },
  {
   "cell_type": "markdown",
   "id": "bb424ba7-02ce-4af4-8875-daece233734b",
   "metadata": {},
   "source": [
    "Let's recall some more in-depth statistics. \n",
    "\n",
    "Understanding the relationship between two variables is a central task in statistics. Two key concepts for this purpose are **covariance** and **Pearson's $r$**. Covariance provides a basic measure of how two variables change together, while Pearson’s $r$ standardizes this measure to give a dimensionless coefficient that is easier to interpret.\n",
    "\n",
    "We want to find out what molecular properties define vapor pressure. And let's start with the question how the abundances of C, H and O *correlate* or *anti-correlate* with vapor pressure, i.e. is there a dependence which means more C also mean higher or lower vapor pressure, respectively?\n",
    "\n",
    "#### Covariance\n",
    "\n",
    "**Covariance** measures the joint variability of two variables. In other words, it tells us whether increases in one variable tend to be associated with increases (or decreases) in another.\n",
    "\n",
    "The formula for the sample covariance between two variables $X$ and $Y$ is:\n",
    "\n",
    "$$\n",
    "\\text{Cov}(X,Y) = \\frac{1}{n-1}\\sum_{i=1}^{n}(x_i - \\bar{x})(y_i - \\bar{y})\n",
    "$$\n",
    "\n",
    "Where:\n",
    "- $x_i$ and $y_i$ are the individual data points.\n",
    "- $\\bar{x}$ and $\\bar{y}$ are the mean values of $X$ and $Y$, respectively.\n",
    "- $n$ is the number of paired observations.\n",
    "\n",
    "The covariance can be interpreted as follows:\n",
    "\n",
    "- **Positive Covariance:** When one variable increases, the other tends to increase.\n",
    "- **Negative Covariance:** When one variable increases, the other tends to decrease.\n",
    "- **Zero Covariance:** Indicates no linear relationship between the variables.\n",
    "\n",
    "\n",
    "#### Pearson's $r$\n",
    "\n",
    "While covariance gives an idea of the direction of the relationship, its magnitude depends on the units of the variables, which can make interpretation difficult. **Pearson’s r** overcomes this limitation by standardizing the covariance and can quantify the **linear** relationship between two continuous variables. Its value ranges from –1 to +1, where:\n",
    "\n",
    "- **+1** indicates a perfect positive linear relationship.\n",
    "- **–1** indicates a perfect negative linear relationship.\n",
    "- **0** indicates no linear relationship.\n",
    "\n",
    "The formula for Pearson’s $r$ is given by:\n",
    "\n",
    "$$\n",
    "r = \\frac{\\sum_{i=1}^{n}(x_i - \\bar{x})(y_i - \\bar{y})}{\\sqrt{\\sum_{i=1}^{n}(x_i - \\bar{x})^2} \\sqrt{\\sum_{i=1}^{n}(y_i - \\bar{y})^2}}\n",
    "$$\n",
    "\n",
    "Where:\n",
    "\n",
    "- $x_i$ and $y_i$ are the individual sample points.\n",
    "- $\\bar{x}$ and $\\bar{y}$ represent the mean values of the $x $ and $y$ variables, respectively.\n",
    "- $n$ is the number of paired observations.\n"
   ]
  },
  {
   "cell_type": "markdown",
   "id": "998f96ea-55a6-4caa-829b-f7a94b351720",
   "metadata": {},
   "source": [
    "#### Correlation analysis in pandas\n",
    "\n",
    "The covariance in pandas is calculated using [`pd.cov()`](https://pandas.pydata.org/docs/reference/api/pandas.DataFrame.cov.html). However, that method of the DataFrame class returns the entire [covariance matrix](https://en.wikipedia.org/wiki/Covariance_matrix), i.e. the covariance between all different columns of the DataFrame, which causes errors as soon as non-numeric columns are present as the case in our `vap_press` DataFrame, but this can be avoided by the keyword `numeric_only=True`. "
   ]
  },
  {
   "cell_type": "code",
   "execution_count": 22,
   "id": "59a7c6c1-ed7f-4433-83b0-7cdc52eaabfc",
   "metadata": {},
   "outputs": [
    {
     "data": {
      "text/html": [
       "<div>\n",
       "<style scoped>\n",
       "    .dataframe tbody tr th:only-of-type {\n",
       "        vertical-align: middle;\n",
       "    }\n",
       "\n",
       "    .dataframe tbody tr th {\n",
       "        vertical-align: top;\n",
       "    }\n",
       "\n",
       "    .dataframe thead th {\n",
       "        text-align: right;\n",
       "    }\n",
       "</style>\n",
       "<table border=\"1\" class=\"dataframe\">\n",
       "  <thead>\n",
       "    <tr style=\"text-align: right;\">\n",
       "      <th></th>\n",
       "      <th>P [bar] at 300 K</th>\n",
       "      <th>C</th>\n",
       "      <th>H</th>\n",
       "      <th>O</th>\n",
       "      <th>M [g mol-1]</th>\n",
       "    </tr>\n",
       "  </thead>\n",
       "  <tbody>\n",
       "    <tr>\n",
       "      <th>P [bar] at 300 K</th>\n",
       "      <td>1.295920</td>\n",
       "      <td>-0.612080</td>\n",
       "      <td>-1.029872</td>\n",
       "      <td>-0.153461</td>\n",
       "      <td>-10.845023</td>\n",
       "    </tr>\n",
       "    <tr>\n",
       "      <th>C</th>\n",
       "      <td>-0.612080</td>\n",
       "      <td>3.316237</td>\n",
       "      <td>7.258903</td>\n",
       "      <td>-0.556327</td>\n",
       "      <td>38.247629</td>\n",
       "    </tr>\n",
       "    <tr>\n",
       "      <th>H</th>\n",
       "      <td>-1.029872</td>\n",
       "      <td>7.258903</td>\n",
       "      <td>17.972676</td>\n",
       "      <td>-1.406943</td>\n",
       "      <td>82.793490</td>\n",
       "    </tr>\n",
       "    <tr>\n",
       "      <th>O</th>\n",
       "      <td>-0.153461</td>\n",
       "      <td>-0.556327</td>\n",
       "      <td>-1.406943</td>\n",
       "      <td>0.374692</td>\n",
       "      <td>-2.105526</td>\n",
       "    </tr>\n",
       "    <tr>\n",
       "      <th>M [g mol-1]</th>\n",
       "      <td>-10.845023</td>\n",
       "      <td>38.247629</td>\n",
       "      <td>82.793490</td>\n",
       "      <td>-2.105526</td>\n",
       "      <td>509.162148</td>\n",
       "    </tr>\n",
       "  </tbody>\n",
       "</table>\n",
       "</div>"
      ],
      "text/plain": [
       "                  P [bar] at 300 K          C          H         O  \\\n",
       "P [bar] at 300 K          1.295920  -0.612080  -1.029872 -0.153461   \n",
       "C                        -0.612080   3.316237   7.258903 -0.556327   \n",
       "H                        -1.029872   7.258903  17.972676 -1.406943   \n",
       "O                        -0.153461  -0.556327  -1.406943  0.374692   \n",
       "M [g mol-1]             -10.845023  38.247629  82.793490 -2.105526   \n",
       "\n",
       "                  M [g mol-1]  \n",
       "P [bar] at 300 K   -10.845023  \n",
       "C                   38.247629  \n",
       "H                   82.793490  \n",
       "O                   -2.105526  \n",
       "M [g mol-1]        509.162148  "
      ]
     },
     "execution_count": 22,
     "metadata": {},
     "output_type": "execute_result"
    }
   ],
   "source": [
    "vap_press.cov(numeric_only=True)"
   ]
  },
  {
   "cell_type": "markdown",
   "id": "04f35353-84ef-4892-9e8c-667c41dcedee",
   "metadata": {},
   "source": [
    "Usage of numpy is also straight-forward (again working as a function, not a methd):"
   ]
  },
  {
   "cell_type": "code",
   "execution_count": 23,
   "id": "3ff96352-3751-4a18-9830-21379cabebd0",
   "metadata": {},
   "outputs": [
    {
     "data": {
      "text/plain": [
       "array([[3.3162374,       nan],\n",
       "       [      nan,       nan]])"
      ]
     },
     "execution_count": 23,
     "metadata": {},
     "output_type": "execute_result"
    }
   ],
   "source": [
    "np.cov(vap_press['C'], vap_press['P [bar] at 300 K'])"
   ]
  },
  {
   "cell_type": "markdown",
   "id": "e33da215-6993-4580-aba6-e19a43e7b667",
   "metadata": {},
   "source": [
    "However, two things are apparent:  \n",
    "- Numpy also here returns the covariance matrix (with the diagonal entries being the variances of the individual variables, i.e. columns)\n",
    "- it seems again that numpy does not handle the NaN properly and just returns NaN whenever a NaN is present in the column values"
   ]
  },
  {
   "cell_type": "code",
   "execution_count": 24,
   "id": "021ab6c3-3cf4-4dd9-bb89-662366038799",
   "metadata": {},
   "outputs": [
    {
     "data": {
      "text/plain": [
       "array([[ 3.35175017, -0.61207979],\n",
       "       [-0.61207979,  1.29591985]])"
      ]
     },
     "execution_count": 24,
     "metadata": {},
     "output_type": "execute_result"
    }
   ],
   "source": [
    "vap_press_notna = vap_press.dropna(subset=['P [bar] at 300 K'])\n",
    "\n",
    "c_to_p = np.cov(vap_press_notna['C'], vap_press_notna['P [bar] at 300 K'])\n",
    "o_to_p = np.cov(vap_press_notna['O'], vap_press_notna['P [bar] at 300 K'])\n",
    "\n",
    "c_to_p"
   ]
  },
  {
   "cell_type": "markdown",
   "id": "4681fe68-96af-4979-b505-4972d3e69c05",
   "metadata": {},
   "source": [
    "We can see now, that vapor pressure correlates negatively with the number of C and O in our molecule. However, the magnitude of the covariance is no quantitative statement of that correlation. For that, we need to switch to the Pearson's $r$, where pandas provides the function [`pd.corr()`](https://pandas.pydata.org/docs/reference/api/pandas.DataFrame.corr.html) and numpy provides the function [`np.corrcoef()`](https://numpy.org/devdocs/reference/generated/numpy.corrcoef.html), again with the known differences in handling missing data. "
   ]
  },
  {
   "cell_type": "code",
   "execution_count": 25,
   "id": "b7a7da4c-0fe5-4c74-b590-a07c169cbf51",
   "metadata": {},
   "outputs": [
    {
     "data": {
      "text/html": [
       "<div>\n",
       "<style scoped>\n",
       "    .dataframe tbody tr th:only-of-type {\n",
       "        vertical-align: middle;\n",
       "    }\n",
       "\n",
       "    .dataframe tbody tr th {\n",
       "        vertical-align: top;\n",
       "    }\n",
       "\n",
       "    .dataframe thead th {\n",
       "        text-align: right;\n",
       "    }\n",
       "</style>\n",
       "<table border=\"1\" class=\"dataframe\">\n",
       "  <thead>\n",
       "    <tr style=\"text-align: right;\">\n",
       "      <th></th>\n",
       "      <th>P [bar] at 300 K</th>\n",
       "      <th>C</th>\n",
       "      <th>H</th>\n",
       "      <th>O</th>\n",
       "      <th>M [g mol-1]</th>\n",
       "    </tr>\n",
       "  </thead>\n",
       "  <tbody>\n",
       "    <tr>\n",
       "      <th>P [bar] at 300 K</th>\n",
       "      <td>1.000000</td>\n",
       "      <td>-0.293686</td>\n",
       "      <td>-0.212357</td>\n",
       "      <td>-0.220448</td>\n",
       "      <td>-0.420725</td>\n",
       "    </tr>\n",
       "    <tr>\n",
       "      <th>C</th>\n",
       "      <td>-0.293686</td>\n",
       "      <td>1.000000</td>\n",
       "      <td>0.940247</td>\n",
       "      <td>-0.499080</td>\n",
       "      <td>0.930794</td>\n",
       "    </tr>\n",
       "    <tr>\n",
       "      <th>H</th>\n",
       "      <td>-0.212357</td>\n",
       "      <td>0.940247</td>\n",
       "      <td>1.000000</td>\n",
       "      <td>-0.542167</td>\n",
       "      <td>0.865489</td>\n",
       "    </tr>\n",
       "    <tr>\n",
       "      <th>O</th>\n",
       "      <td>-0.220448</td>\n",
       "      <td>-0.499080</td>\n",
       "      <td>-0.542167</td>\n",
       "      <td>1.000000</td>\n",
       "      <td>-0.152439</td>\n",
       "    </tr>\n",
       "    <tr>\n",
       "      <th>M [g mol-1]</th>\n",
       "      <td>-0.420725</td>\n",
       "      <td>0.930794</td>\n",
       "      <td>0.865489</td>\n",
       "      <td>-0.152439</td>\n",
       "      <td>1.000000</td>\n",
       "    </tr>\n",
       "  </tbody>\n",
       "</table>\n",
       "</div>"
      ],
      "text/plain": [
       "                  P [bar] at 300 K         C         H         O  M [g mol-1]\n",
       "P [bar] at 300 K          1.000000 -0.293686 -0.212357 -0.220448    -0.420725\n",
       "C                        -0.293686  1.000000  0.940247 -0.499080     0.930794\n",
       "H                        -0.212357  0.940247  1.000000 -0.542167     0.865489\n",
       "O                        -0.220448 -0.499080 -0.542167  1.000000    -0.152439\n",
       "M [g mol-1]              -0.420725  0.930794  0.865489 -0.152439     1.000000"
      ]
     },
     "execution_count": 25,
     "metadata": {},
     "output_type": "execute_result"
    }
   ],
   "source": [
    "vap_press.corr(numeric_only=True)"
   ]
  },
  {
   "cell_type": "markdown",
   "id": "3d1cede1-fbff-4942-8b76-391a39b9ab6b",
   "metadata": {},
   "source": [
    "Combined with a cut on the type of molecule we find a quite strong negative correlation between number of C atoms and the vapor pressure:"
   ]
  },
  {
   "cell_type": "code",
   "execution_count": 26,
   "id": "061ef64d-e1e8-4f9e-8086-6ff9142ed463",
   "metadata": {},
   "outputs": [
    {
     "data": {
      "text/html": [
       "<div>\n",
       "<style scoped>\n",
       "    .dataframe tbody tr th:only-of-type {\n",
       "        vertical-align: middle;\n",
       "    }\n",
       "\n",
       "    .dataframe tbody tr th {\n",
       "        vertical-align: top;\n",
       "    }\n",
       "\n",
       "    .dataframe thead th {\n",
       "        text-align: right;\n",
       "    }\n",
       "</style>\n",
       "<table border=\"1\" class=\"dataframe\">\n",
       "  <thead>\n",
       "    <tr style=\"text-align: right;\">\n",
       "      <th></th>\n",
       "      <th>P [bar] at 300 K</th>\n",
       "      <th>C</th>\n",
       "      <th>H</th>\n",
       "      <th>O</th>\n",
       "      <th>M [g mol-1]</th>\n",
       "    </tr>\n",
       "  </thead>\n",
       "  <tbody>\n",
       "    <tr>\n",
       "      <th>P [bar] at 300 K</th>\n",
       "      <td>1.000000</td>\n",
       "      <td>-0.687603</td>\n",
       "      <td>-0.687603</td>\n",
       "      <td>NaN</td>\n",
       "      <td>-0.687603</td>\n",
       "    </tr>\n",
       "    <tr>\n",
       "      <th>C</th>\n",
       "      <td>-0.687603</td>\n",
       "      <td>1.000000</td>\n",
       "      <td>1.000000</td>\n",
       "      <td>NaN</td>\n",
       "      <td>1.000000</td>\n",
       "    </tr>\n",
       "    <tr>\n",
       "      <th>H</th>\n",
       "      <td>-0.687603</td>\n",
       "      <td>1.000000</td>\n",
       "      <td>1.000000</td>\n",
       "      <td>NaN</td>\n",
       "      <td>1.000000</td>\n",
       "    </tr>\n",
       "    <tr>\n",
       "      <th>O</th>\n",
       "      <td>NaN</td>\n",
       "      <td>NaN</td>\n",
       "      <td>NaN</td>\n",
       "      <td>NaN</td>\n",
       "      <td>NaN</td>\n",
       "    </tr>\n",
       "    <tr>\n",
       "      <th>M [g mol-1]</th>\n",
       "      <td>-0.687603</td>\n",
       "      <td>1.000000</td>\n",
       "      <td>1.000000</td>\n",
       "      <td>NaN</td>\n",
       "      <td>1.000000</td>\n",
       "    </tr>\n",
       "  </tbody>\n",
       "</table>\n",
       "</div>"
      ],
      "text/plain": [
       "                  P [bar] at 300 K         C         H   O  M [g mol-1]\n",
       "P [bar] at 300 K          1.000000 -0.687603 -0.687603 NaN    -0.687603\n",
       "C                        -0.687603  1.000000  1.000000 NaN     1.000000\n",
       "H                        -0.687603  1.000000  1.000000 NaN     1.000000\n",
       "O                              NaN       NaN       NaN NaN          NaN\n",
       "M [g mol-1]              -0.687603  1.000000  1.000000 NaN     1.000000"
      ]
     },
     "execution_count": 26,
     "metadata": {},
     "output_type": "execute_result"
    }
   ],
   "source": [
    "vap_press.loc[vap_press['group']=='alkane', :].corr(numeric_only=True)"
   ]
  },
  {
   "cell_type": "markdown",
   "id": "755457e2-1a91-4355-869d-51479915f350",
   "metadata": {},
   "source": [
    "For identifying the highest correlation or anti-correlation (i.e. absolute Pearson's r), we need to get rid of the diagonal entries.\n",
    "\n",
    "We introduce the [`pd.DataFrame.mask()`](https://pandas.pydata.org/docs/reference/api/pandas.DataFrame.mask.html) method which replaces all values where a certain condition is true with a value other (if not specified with NaN). Using the numpy function [`np.eye`](https://numpy.org/doc/stable/reference/generated/numpy.eye.html) we create an dientity matrix, which we can use as the mask to remove the diagonbal entries. "
   ]
  },
  {
   "cell_type": "code",
   "execution_count": 27,
   "id": "2fa594af-ad44-4f89-9f91-e3ad84ecef74",
   "metadata": {},
   "outputs": [
    {
     "data": {
      "text/html": [
       "<div>\n",
       "<style scoped>\n",
       "    .dataframe tbody tr th:only-of-type {\n",
       "        vertical-align: middle;\n",
       "    }\n",
       "\n",
       "    .dataframe tbody tr th {\n",
       "        vertical-align: top;\n",
       "    }\n",
       "\n",
       "    .dataframe thead th {\n",
       "        text-align: right;\n",
       "    }\n",
       "</style>\n",
       "<table border=\"1\" class=\"dataframe\">\n",
       "  <thead>\n",
       "    <tr style=\"text-align: right;\">\n",
       "      <th></th>\n",
       "      <th>P [bar] at 300 K</th>\n",
       "      <th>C</th>\n",
       "      <th>H</th>\n",
       "      <th>O</th>\n",
       "      <th>M [g mol-1]</th>\n",
       "    </tr>\n",
       "  </thead>\n",
       "  <tbody>\n",
       "    <tr>\n",
       "      <th>P [bar] at 300 K</th>\n",
       "      <td>NaN</td>\n",
       "      <td>-0.687603</td>\n",
       "      <td>-0.687603</td>\n",
       "      <td>NaN</td>\n",
       "      <td>-0.687603</td>\n",
       "    </tr>\n",
       "    <tr>\n",
       "      <th>C</th>\n",
       "      <td>-0.687603</td>\n",
       "      <td>NaN</td>\n",
       "      <td>1.000000</td>\n",
       "      <td>NaN</td>\n",
       "      <td>1.000000</td>\n",
       "    </tr>\n",
       "    <tr>\n",
       "      <th>H</th>\n",
       "      <td>-0.687603</td>\n",
       "      <td>1.000000</td>\n",
       "      <td>NaN</td>\n",
       "      <td>NaN</td>\n",
       "      <td>1.000000</td>\n",
       "    </tr>\n",
       "    <tr>\n",
       "      <th>O</th>\n",
       "      <td>NaN</td>\n",
       "      <td>NaN</td>\n",
       "      <td>NaN</td>\n",
       "      <td>NaN</td>\n",
       "      <td>NaN</td>\n",
       "    </tr>\n",
       "    <tr>\n",
       "      <th>M [g mol-1]</th>\n",
       "      <td>-0.687603</td>\n",
       "      <td>1.000000</td>\n",
       "      <td>1.000000</td>\n",
       "      <td>NaN</td>\n",
       "      <td>NaN</td>\n",
       "    </tr>\n",
       "  </tbody>\n",
       "</table>\n",
       "</div>"
      ],
      "text/plain": [
       "                  P [bar] at 300 K         C         H   O  M [g mol-1]\n",
       "P [bar] at 300 K               NaN -0.687603 -0.687603 NaN    -0.687603\n",
       "C                        -0.687603       NaN  1.000000 NaN     1.000000\n",
       "H                        -0.687603  1.000000       NaN NaN     1.000000\n",
       "O                              NaN       NaN       NaN NaN          NaN\n",
       "M [g mol-1]              -0.687603  1.000000  1.000000 NaN          NaN"
      ]
     },
     "execution_count": 27,
     "metadata": {},
     "output_type": "execute_result"
    }
   ],
   "source": [
    "corr_matrix = vap_press.loc[vap_press['group']=='alkane', :].corr(numeric_only=True)\n",
    "\n",
    "identity = np.eye(corr_matrix.shape[0], dtype=bool)\n",
    "\n",
    "off_diag_values = corr_matrix.mask(identity)\n",
    "\n",
    "off_diag_values"
   ]
  },
  {
   "cell_type": "markdown",
   "id": "76aa65e0-e68f-4748-86d4-90dcb8d78e80",
   "metadata": {},
   "source": [
    "We get the variables of maximum (anti-)correlation:"
   ]
  },
  {
   "cell_type": "code",
   "execution_count": 28,
   "id": "36efb989-5483-4e2c-b262-a4931cc5d52a",
   "metadata": {},
   "outputs": [
    {
     "name": "stdout",
     "output_type": "stream",
     "text": [
      ".abs(): \n",
      "                   P [bar] at 300 K         C         H   O  M [g mol-1]\n",
      "P [bar] at 300 K               NaN  0.687603  0.687603 NaN     0.687603\n",
      "C                         0.687603       NaN  1.000000 NaN     1.000000\n",
      "H                         0.687603  1.000000       NaN NaN     1.000000\n",
      "O                              NaN       NaN       NaN NaN          NaN\n",
      "M [g mol-1]               0.687603  1.000000  1.000000 NaN          NaN \n",
      ".abs().stack(): \n",
      " P [bar] at 300 K  C                   0.687603\n",
      "                  H                   0.687603\n",
      "                  M [g mol-1]         0.687603\n",
      "C                 P [bar] at 300 K    0.687603\n",
      "                  H                   1.000000\n",
      "                  M [g mol-1]         1.000000\n",
      "H                 P [bar] at 300 K    0.687603\n",
      "                  C                   1.000000\n",
      "                  M [g mol-1]         1.000000\n",
      "M [g mol-1]       P [bar] at 300 K    0.687603\n",
      "                  C                   1.000000\n",
      "                  H                   1.000000\n",
      "dtype: float64 \n",
      ".abs().stack().max(): \n",
      " 1.0 \n",
      ".abs().stack().idxmax(): \n",
      " ('C', 'H') \n",
      "\n"
     ]
    }
   ],
   "source": [
    "max_idx_1 = off_diag_values.abs()\n",
    "max_idx_2 = off_diag_values.abs().stack()\n",
    "max_idx_3a = off_diag_values.abs().stack().max() # gives the max value\n",
    "max_idx_3b = off_diag_values.abs().stack().idxmax() # gives the index of the max value\n",
    "\n",
    "print(\n",
    "    f\".abs(): \\n {max_idx_1} \\n\"\n",
    "    f\".abs().stack(): \\n {max_idx_2} \\n\"\n",
    "    f\".abs().stack().max(): \\n {max_idx_3a} \\n\"\n",
    "    f\".abs().stack().idxmax(): \\n {max_idx_3b} \\n\")"
   ]
  },
  {
   "cell_type": "markdown",
   "id": "2d3637d3-a6ee-41ea-a9c8-f9e7822c2794",
   "metadata": {},
   "source": [
    "#### Estimating Non-Linear Dependencies\n",
    "\n",
    "Pearson’s r and covariance focus on linear relationships. However, many real-world relationships are non-linear. To capture these non-linear dependencies, several alternative methods can be employed:\n",
    "\n",
    "- **Spearman's Rank Correlation Coefficient:**  \n",
    "  This non-parametric measure assesses the strength and direction of the monotonic relationship between two variables. Instead of using the actual data values, it uses the ranks, making it less sensitive to outliers and capable of detecting non-linear monotonic relationships. \n",
    "\n",
    "- **Kendall's Tau:**  \n",
    "  Another non-parametric measure that evaluates the ordinal association between two variables. It is useful when the data contain many tied ranks and when assessing the strength of a monotonic relationship.\n",
    "\n",
    "The convenient thing is that the output of Spearman's Rank Correlation Coefficient and Kendall's Tau work similar to the Pearson's $r$: +1 means perfect positive correlation (as one variable increases, the other also increases in rank, 0 means no correlation (no relationship between the ranks), and -1 means perfect negative correlation (as one variable increases, the other decreases in rank).\n",
    "\n",
    "Luckily `pd.corr()` directly provides these approaches (no need for a different method to learn) by using key words:\n"
   ]
  },
  {
   "cell_type": "code",
   "execution_count": 29,
   "id": "441137ab-307d-458e-a8e0-d093e067091d",
   "metadata": {},
   "outputs": [
    {
     "data": {
      "text/html": [
       "<div>\n",
       "<style scoped>\n",
       "    .dataframe tbody tr th:only-of-type {\n",
       "        vertical-align: middle;\n",
       "    }\n",
       "\n",
       "    .dataframe tbody tr th {\n",
       "        vertical-align: top;\n",
       "    }\n",
       "\n",
       "    .dataframe thead th {\n",
       "        text-align: right;\n",
       "    }\n",
       "</style>\n",
       "<table border=\"1\" class=\"dataframe\">\n",
       "  <thead>\n",
       "    <tr style=\"text-align: right;\">\n",
       "      <th></th>\n",
       "      <th>P [bar] at 300 K</th>\n",
       "      <th>C</th>\n",
       "      <th>H</th>\n",
       "      <th>O</th>\n",
       "      <th>M [g mol-1]</th>\n",
       "    </tr>\n",
       "  </thead>\n",
       "  <tbody>\n",
       "    <tr>\n",
       "      <th>P [bar] at 300 K</th>\n",
       "      <td>1.00000</td>\n",
       "      <td>-0.97557</td>\n",
       "      <td>-0.97557</td>\n",
       "      <td>NaN</td>\n",
       "      <td>-0.97557</td>\n",
       "    </tr>\n",
       "    <tr>\n",
       "      <th>C</th>\n",
       "      <td>-0.97557</td>\n",
       "      <td>1.00000</td>\n",
       "      <td>1.00000</td>\n",
       "      <td>NaN</td>\n",
       "      <td>1.00000</td>\n",
       "    </tr>\n",
       "    <tr>\n",
       "      <th>H</th>\n",
       "      <td>-0.97557</td>\n",
       "      <td>1.00000</td>\n",
       "      <td>1.00000</td>\n",
       "      <td>NaN</td>\n",
       "      <td>1.00000</td>\n",
       "    </tr>\n",
       "    <tr>\n",
       "      <th>O</th>\n",
       "      <td>NaN</td>\n",
       "      <td>NaN</td>\n",
       "      <td>NaN</td>\n",
       "      <td>NaN</td>\n",
       "      <td>NaN</td>\n",
       "    </tr>\n",
       "    <tr>\n",
       "      <th>M [g mol-1]</th>\n",
       "      <td>-0.97557</td>\n",
       "      <td>1.00000</td>\n",
       "      <td>1.00000</td>\n",
       "      <td>NaN</td>\n",
       "      <td>1.00000</td>\n",
       "    </tr>\n",
       "  </tbody>\n",
       "</table>\n",
       "</div>"
      ],
      "text/plain": [
       "                  P [bar] at 300 K        C        H   O  M [g mol-1]\n",
       "P [bar] at 300 K           1.00000 -0.97557 -0.97557 NaN     -0.97557\n",
       "C                         -0.97557  1.00000  1.00000 NaN      1.00000\n",
       "H                         -0.97557  1.00000  1.00000 NaN      1.00000\n",
       "O                              NaN      NaN      NaN NaN          NaN\n",
       "M [g mol-1]               -0.97557  1.00000  1.00000 NaN      1.00000"
      ]
     },
     "execution_count": 29,
     "metadata": {},
     "output_type": "execute_result"
    }
   ],
   "source": [
    "vap_press.loc[vap_press['group']=='alkane', :].corr(method='spearman', numeric_only=True)"
   ]
  },
  {
   "cell_type": "code",
   "execution_count": 30,
   "id": "2676538f-8ac3-4890-a4d4-2ed584a2bbfc",
   "metadata": {},
   "outputs": [
    {
     "data": {
      "text/html": [
       "<div>\n",
       "<style scoped>\n",
       "    .dataframe tbody tr th:only-of-type {\n",
       "        vertical-align: middle;\n",
       "    }\n",
       "\n",
       "    .dataframe tbody tr th {\n",
       "        vertical-align: top;\n",
       "    }\n",
       "\n",
       "    .dataframe thead th {\n",
       "        text-align: right;\n",
       "    }\n",
       "</style>\n",
       "<table border=\"1\" class=\"dataframe\">\n",
       "  <thead>\n",
       "    <tr style=\"text-align: right;\">\n",
       "      <th></th>\n",
       "      <th>P [bar] at 300 K</th>\n",
       "      <th>C</th>\n",
       "      <th>H</th>\n",
       "      <th>O</th>\n",
       "      <th>M [g mol-1]</th>\n",
       "    </tr>\n",
       "  </thead>\n",
       "  <tbody>\n",
       "    <tr>\n",
       "      <th>P [bar] at 300 K</th>\n",
       "      <td>1.00000</td>\n",
       "      <td>-0.90764</td>\n",
       "      <td>-0.90764</td>\n",
       "      <td>NaN</td>\n",
       "      <td>-0.90764</td>\n",
       "    </tr>\n",
       "    <tr>\n",
       "      <th>C</th>\n",
       "      <td>-0.90764</td>\n",
       "      <td>1.00000</td>\n",
       "      <td>1.00000</td>\n",
       "      <td>NaN</td>\n",
       "      <td>1.00000</td>\n",
       "    </tr>\n",
       "    <tr>\n",
       "      <th>H</th>\n",
       "      <td>-0.90764</td>\n",
       "      <td>1.00000</td>\n",
       "      <td>1.00000</td>\n",
       "      <td>NaN</td>\n",
       "      <td>1.00000</td>\n",
       "    </tr>\n",
       "    <tr>\n",
       "      <th>O</th>\n",
       "      <td>NaN</td>\n",
       "      <td>NaN</td>\n",
       "      <td>NaN</td>\n",
       "      <td>1.0</td>\n",
       "      <td>NaN</td>\n",
       "    </tr>\n",
       "    <tr>\n",
       "      <th>M [g mol-1]</th>\n",
       "      <td>-0.90764</td>\n",
       "      <td>1.00000</td>\n",
       "      <td>1.00000</td>\n",
       "      <td>NaN</td>\n",
       "      <td>1.00000</td>\n",
       "    </tr>\n",
       "  </tbody>\n",
       "</table>\n",
       "</div>"
      ],
      "text/plain": [
       "                  P [bar] at 300 K        C        H    O  M [g mol-1]\n",
       "P [bar] at 300 K           1.00000 -0.90764 -0.90764  NaN     -0.90764\n",
       "C                         -0.90764  1.00000  1.00000  NaN      1.00000\n",
       "H                         -0.90764  1.00000  1.00000  NaN      1.00000\n",
       "O                              NaN      NaN      NaN  1.0          NaN\n",
       "M [g mol-1]               -0.90764  1.00000  1.00000  NaN      1.00000"
      ]
     },
     "execution_count": 30,
     "metadata": {},
     "output_type": "execute_result"
    }
   ],
   "source": [
    "vap_press.loc[vap_press['group']=='alkane', :].corr(method='kendall', numeric_only=True)"
   ]
  },
  {
   "cell_type": "markdown",
   "id": "191cafff-0385-4fbd-8899-58b115f12a4e",
   "metadata": {},
   "source": [
    "However, both methods only identify monotonic dependencies of two variables. If you are interested if two variables have any kind of dependecy to each other (also not-monotonic) the use: \n",
    "\n",
    "- **Mutual Information (MI)**:  \n",
    "    This is a *measure of dependency* between two variables. It quantifies how much knowing one variable *reduces uncertainty* about the other. Unlike Pearson or Spearman correlations, MI captures *both linear and non-linear relationships*. MI Scores: $I(X; Y) = 0$ means no relationship (independent variables) and higher MI values mean a  stronger dependency. Note that MI is **always ≥ 0** but has **no upper bound**.\n",
    "\n",
    "We can use the extremely powerful library [scikit-learn](https://scikit-learn.org/stable/) (`sklearn`) for calculating the mutual information in pyton:"
   ]
  },
  {
   "cell_type": "code",
   "execution_count": 31,
   "id": "c9126c7d-409d-41f2-a943-1f626bf9346d",
   "metadata": {},
   "outputs": [
    {
     "data": {
      "text/plain": [
       "0.3467233399213172"
      ]
     },
     "execution_count": 31,
     "metadata": {},
     "output_type": "execute_result"
    }
   ],
   "source": [
    "from sklearn.feature_selection import mutual_info_regression\n",
    "df = vap_press.dropna(subset=['P [bar] at 300 K'])\n",
    "mi_score = mutual_info_regression(df[['C']], df['P [bar] at 300 K'])\n",
    "\n",
    "mi_score[0]"
   ]
  },
  {
   "cell_type": "markdown",
   "id": "8141fe84-5189-4f39-8f66-dc1e6fc750fc",
   "metadata": {},
   "source": [
    "We will get back to [scikit-learn](https://scikit-learn.org/stable/) in later lectures. \n",
    "\n",
    "For now we have seen that `pandas` is not only an efficient tool for read-in and structuring of data but also provides the basic statistic descriptors and handles missing values on-the-flight. Pandas will be the basis for almost all our future work here and it is therefore highly recommended to get familiar with pandas as much as possible.  "
   ]
  },
  {
   "cell_type": "markdown",
   "id": "61f46b11-d356-4138-8b8b-78563ffc0b46",
   "metadata": {},
   "source": [
    "## 2.3 Data Visualization: matplotlib"
   ]
  },
  {
   "cell_type": "markdown",
   "id": "3e0e4e43-dddd-44ec-b3c2-10885394a39b",
   "metadata": {},
   "source": [
    "Interestingly,  the *human eye* which is extremely good in detecting dependencies of different variables. So before choosing among all the above mentionned methods, it might be faster to visualize the data first, and look at the dependencies. \n",
    "\n",
    "In that case we enter one of the most important libraries in python to master: **matplotlib**. "
   ]
  },
  {
   "cell_type": "code",
   "execution_count": 32,
   "id": "9a73f9b9-f7ab-44c2-92ee-cc3c78d9b823",
   "metadata": {},
   "outputs": [],
   "source": [
    "import matplotlib"
   ]
  },
  {
   "cell_type": "markdown",
   "id": "f58cbc1a-18e4-44f4-a9d3-e98d96a8d888",
   "metadata": {},
   "source": [
    "Matplotlib is a comprehensive visualization library in Python. It is structured as a *hierarchical* library, meaning it consists of multiple layers of abstraction that allow users to create plots at different levels of complexity.\n",
    "\n",
    "Matplotlib has a *multi-layered architecture*, which can be divided into the following key components:\n",
    "\n",
    "- **The Backend Layer**, which handles rendering (i.e., drawing) the plots and different backends support different output formats, including *Interactive backends* (for GUI applications: TkAgg, Qt5Agg, GTK3Agg) and *Non-interactive backends* (for saving images/files: Agg (PNG), PDF, SVG).\n",
    "\n",
    "- **The Artist Layer**, which consists of everything you see in a plot (like lines, text, and axes) with two main types of Artists: *Primitives*, like basic elements such as lines, text, patches, images, and *Containers*, which are higher-level groups like figures and axes that hold multiple elements.\n",
    "\n",
    "- **The Scripting Layer (`matplotlib.pyplot`)**, which is the highest-level API used by most users and provides functions similar to MATLAB’s plotting commands, managing figures and axes automatically."
   ]
  },
  {
   "cell_type": "markdown",
   "id": "8d1af5b5-c15c-4eab-a887-9f6e1339666e",
   "metadata": {},
   "source": [
    "We now will focus on making simple plots using the easy-to-use **Scripting Layer** (importing `matplotlib.pyplot`), where the most basic function is [`plt.plot`](https://matplotlib.org/3.5.3/api/_as_gen/matplotlib.pyplot.plot.html):"
   ]
  },
  {
   "cell_type": "code",
   "execution_count": 33,
   "id": "6075d401-afc4-4217-bea0-01f6f2f084ac",
   "metadata": {},
   "outputs": [
    {
     "data": {
      "text/plain": [
       "[<matplotlib.lines.Line2D at 0x7f04a4d20510>]"
      ]
     },
     "execution_count": 33,
     "metadata": {},
     "output_type": "execute_result"
    },
    {
     "data": {
      "image/png": "[encoded data removed]",
      "text/plain": [
       "<Figure size 640x480 with 1 Axes>"
      ]
     },
     "metadata": {},
     "output_type": "display_data"
    }
   ],
   "source": [
    "import matplotlib.pyplot as plt\n",
    "\n",
    "plt.plot(vap_press['C'], vap_press['P [bar] at 300 K'])"
   ]
  },
  {
   "cell_type": "markdown",
   "id": "8cb3b154-150a-4c78-8716-0323c106eddb",
   "metadata": {},
   "source": [
    "We see it makes a plot, but it isn't very beautiful. \n",
    "\n",
    "`plt.plot()` will always make a line-plot without any axes labels, etc. \n",
    "\n",
    "We can force it to make a scatter plot, with the third argument specifying the type of symbol to be used:"
   ]
  },
  {
   "cell_type": "code",
   "execution_count": 34,
   "id": "1c8c863a-0baa-4a81-95cf-e83e1c695859",
   "metadata": {},
   "outputs": [
    {
     "data": {
      "text/plain": [
       "[<matplotlib.lines.Line2D at 0x7f04a4c18250>]"
      ]
     },
     "execution_count": 34,
     "metadata": {},
     "output_type": "execute_result"
    },
    {
     "data": {
      "image/png": "[encoded data removed]",
      "text/plain": [
       "<Figure size 640x480 with 1 Axes>"
      ]
     },
     "metadata": {},
     "output_type": "display_data"
    }
   ],
   "source": [
    "plt.plot(vap_press['C'], vap_press['P [bar] at 300 K'], 'o')"
   ]
  },
  {
   "cell_type": "markdown",
   "id": "d9521c93-5ce5-4676-9534-fc41ea3b0de1",
   "metadata": {},
   "source": [
    "The vapor pressure axis (y-axis, second argument) is probably more understandable in log-scale.\n",
    "\n",
    "For that we call the axis ([`plt.gca()`](https://matplotlib.org/stable/api/_as_gen/matplotlib.pyplot.gca.html) (\"get current axis\" -> \"gca\") and specify its scale:"
   ]
  },
  {
   "cell_type": "code",
   "execution_count": 35,
   "id": "85ba27e6-690b-4f4e-a18c-2ecaa30992be",
   "metadata": {},
   "outputs": [
    {
     "data": {
      "image/png": "[encoded data removed]",
      "text/plain": [
       "<Figure size 640x480 with 1 Axes>"
      ]
     },
     "metadata": {},
     "output_type": "display_data"
    }
   ],
   "source": [
    "plt.plot(vap_press['C'], vap_press['P [bar] at 300 K'], 's')\n",
    "plt.gca().set_yscale('log')"
   ]
  },
  {
   "cell_type": "markdown",
   "id": "d1fbd6d9-1f27-4f70-a47e-22e95f319ced",
   "metadata": {},
   "source": [
    "This brings us already to the deeper understanding of the lower-level *object-orientated* **Artist Layer**. All parts of the plot created by matplotlib are *containers* or *objects* of a certain type, which contain several *methods* manipulating these objects. While `matplotlib.pyplot` lets you modify these artists using its internal methods, we can also extract the underlying obejects, showing us how python works with the plots it is creating through matplotib:"
   ]
  },
  {
   "cell_type": "code",
   "execution_count": 36,
   "id": "45f8bf09-d996-44e9-aa1d-b6ae2d957627",
   "metadata": {},
   "outputs": [
    {
     "data": {
      "text/plain": [
       "Text(0.5, 0, 'number of carbon atoms')"
      ]
     },
     "execution_count": 36,
     "metadata": {},
     "output_type": "execute_result"
    },
    {
     "data": {
      "image/png": "[encoded data removed]",
      "text/plain": [
       "<Figure size 640x480 with 1 Axes>"
      ]
     },
     "metadata": {},
     "output_type": "display_data"
    }
   ],
   "source": [
    "plt.plot(vap_press['C'], vap_press['P [bar] at 300 K'], 's')\n",
    "ax = plt.gca()\n",
    "ax.set_yscale('log')\n",
    "ax.set_ylabel('Vapor Pressure [bar] at 300 K')\n",
    "ax.set_xlabel('number of carbon atoms', fontsize=20)"
   ]
  },
  {
   "cell_type": "code",
   "execution_count": 37,
   "id": "8bdd41e1-34f5-4eb1-b908-1c3e6dfb902f",
   "metadata": {},
   "outputs": [
    {
     "data": {
      "text/plain": [
       "matplotlib.axes._axes.Axes"
      ]
     },
     "execution_count": 37,
     "metadata": {},
     "output_type": "execute_result"
    }
   ],
   "source": [
    "type(ax)"
   ]
  },
  {
   "cell_type": "markdown",
   "id": "fc580d0a-4308-4c9c-b71b-acbe02a7c805",
   "metadata": {},
   "source": [
    "Looking at the data, we see that there is a negative correlation between the logarithm of the vapor pressure and the number of carbon atoms (as suggested by our statistical descriptors), but it is quite scattered. \n",
    "\n",
    "Let's visualize a third axis by using a color-code, for that we need to use another function from matplotlib for plotting: [`plt.scatter()`](https://matplotlib.org/stable/api/_as_gen/matplotlib.pyplot.scatter.html)."
   ]
  },
  {
   "cell_type": "markdown",
   "id": "e8a805ff-0d9d-4334-addc-948c636a767b",
   "metadata": {},
   "source": [
    "We also need to introduce other matplotlib packages here, namely [`matplotlib.colors`](https://matplotlib.org/2.0.1/api/colors_api.html) which can convert colors represented as numeric values between different representations of colors (and thereby also find ways to normalize numerical vlaues to color input) and [`matplotlib.cm`](https://matplotlib.org/stable/api/cm_api.html) which simply provides different colormaps. "
   ]
  },
  {
   "cell_type": "code",
   "execution_count": 38,
   "id": "f439813e-adc5-4864-a044-da01bc6446cb",
   "metadata": {},
   "outputs": [
    {
     "data": {
      "text/plain": [
       "Text(0.5, 0, 'number of carbon atoms')"
      ]
     },
     "execution_count": 38,
     "metadata": {},
     "output_type": "execute_result"
    },
    {
     "data": {
      "image/png": "[encoded data removed]",
      "text/plain": [
       "<Figure size 640x480 with 1 Axes>"
      ]
     },
     "metadata": {},
     "output_type": "display_data"
    }
   ],
   "source": [
    "import matplotlib.colors\n",
    "import matplotlib.cm\n",
    "\n",
    "cnorm = matplotlib.colors.Normalize(vmin=0, vmax=4)\n",
    "\n",
    "plt.scatter(vap_press['C'], vap_press['P [bar] at 300 K'], \n",
    "            marker='s', c=matplotlib.cm.plasma(cnorm(vap_press['O'])))\n",
    "# c=matplotlib.cm.plasma(cnorm(vap_pres['o'])) to get the more info into the plot\n",
    "plt.gca().set_yscale('log')\n",
    "plt.gca().set_ylabel('Vapor Pressure [bar] at 300 K')\n",
    "plt.gca().set_xlabel('number of carbon atoms')"
   ]
  },
  {
   "cell_type": "markdown",
   "id": "61ddbfec-d208-4781-bcaa-f03c57b7b3f4",
   "metadata": {},
   "source": [
    "Altogether we now see what are the two main determinants for vapor pressure: Carbon and oxygen number!"
   ]
  },
  {
   "cell_type": "markdown",
   "id": "e8eb2c78-3811-4ee0-b2ac-24e1a4dd1fab",
   "metadata": {},
   "source": [
    "We can even add a colorbar (going towards an artist layer representation of the script):"
   ]
  },
  {
   "cell_type": "code",
   "execution_count": 39,
   "id": "35892738-75b3-4fba-a97b-ca1d24a65cef",
   "metadata": {},
   "outputs": [
    {
     "data": {
      "image/png": "[encoded data removed]",
      "text/plain": [
       "<Figure size 640x480 with 3 Axes>"
      ]
     },
     "metadata": {},
     "output_type": "display_data"
    }
   ],
   "source": [
    "cnorm = matplotlib.colors.Normalize(vmin=0, vmax=4)\n",
    "\n",
    "f, (ax, ax2) = plt.subplots(2, 1) # figure is a variable f, and ax is the axis in ax\n",
    "# now we acces the variable ax in f and plot a scatter onto the axis\n",
    "# this is the artist layer, we can have multiple axis in f e.g. ax1, ax2 etc.\n",
    "sc = ax.scatter(vap_press['C'], vap_press['P [bar] at 300 K'], marker='s', c=vap_press['O'], cmap=matplotlib.cm.plasma, norm=cnorm)\n",
    "ax.set_yscale('log')\n",
    "ax.set_ylabel('Vapor Pressure [bar] at 300 K')\n",
    "ax.set_xlabel('number of carbon atoms')\n",
    "f.colorbar(sc, ax=ax)\n",
    "f.tight_layout()"
   ]
  },
  {
   "cell_type": "markdown",
   "id": "83827ab8-b744-4324-9da0-b3cce6c2b008",
   "metadata": {},
   "source": [
    "We can also insert several *plots* into one figure as each plot is treated as an individual Artist of that figure, thereby seperating the different group categories of our dataset. \n",
    "Note that the pandas selection cuts also work within the definition of the scatter plot.  "
   ]
  },
  {
   "cell_type": "code",
   "execution_count": 40,
   "id": "dc790ef7-48ed-424e-8362-11219d69d91e",
   "metadata": {},
   "outputs": [
    {
     "data": {
      "text/plain": [
       "<matplotlib.legend.Legend at 0x7f04a4b8bf10>"
      ]
     },
     "execution_count": 40,
     "metadata": {},
     "output_type": "execute_result"
    },
    {
     "data": {
      "image/png": "[encoded data removed]",
      "text/plain": [
       "<Figure size 640x480 with 1 Axes>"
      ]
     },
     "metadata": {},
     "output_type": "display_data"
    }
   ],
   "source": [
    "import matplotlib.colors\n",
    "import matplotlib.cm\n",
    "\n",
    "cnorm = matplotlib.colors.Normalize(vmin=0, vmax=2)\n",
    "\n",
    "plt.scatter(vap_press.loc[vap_press['group'] == 'alkane', 'C'],\n",
    "            vap_press.loc[vap_press['group'] == 'alkane', 'P [bar] at 300 K'],\n",
    "            c=matplotlib.cm.plasma(cnorm(vap_press.loc[vap_press['group'] == 'alkane', 'O'])),\n",
    "            marker='s', label='alkanes')\n",
    "\n",
    "plt.scatter(vap_press.loc[vap_press['group'] == 'alcohol', 'C'],\n",
    "            vap_press.loc[vap_press['group'] == 'alcohol', 'P [bar] at 300 K'],\n",
    "            c=matplotlib.cm.plasma(cnorm(vap_press.loc[vap_press['group'] == 'alcohol', 'O'])),\n",
    "            marker='o', label='alcohols')\n",
    "\n",
    "plt.scatter(vap_press.loc[vap_press['group'] == 'carbonyl', 'C'],\n",
    "            vap_press.loc[vap_press['group'] == 'carbonyl', 'P [bar] at 300 K'],\n",
    "            c=matplotlib.cm.plasma(cnorm(vap_press.loc[vap_press['group'] == 'carbonyl', 'O'])),\n",
    "            marker='D', label='carbonyls')\n",
    "\n",
    "plt.scatter(vap_press.loc[vap_press['group'] == 'acid', 'C'],\n",
    "            vap_press.loc[vap_press['group'] == 'acid', 'P [bar] at 300 K'],\n",
    "            c=matplotlib.cm.plasma(cnorm(vap_press.loc[vap_press['group'] == 'acid', 'O'])),\n",
    "            marker='v', label='acids')\n",
    "\n",
    "ax = plt.gca()\n",
    "ax.set_yscale('log')\n",
    "ax.set_ylabel('Vapor Pressure [bar] at 300 K')\n",
    "ax.set_xlabel('number of carbon atoms')\n",
    "\n",
    "plt.legend(loc='upper right')"
   ]
  },
  {
   "cell_type": "markdown",
   "id": "820ec9f8-44a9-4074-9fb5-612d4ed69a81",
   "metadata": {},
   "source": [
    "By passing *labels* to each scatter plot definition we can also easily include them within a legend, which is easily called by [`plt.legend()`](https://matplotlib.org/stable/api/_as_gen/matplotlib.pyplot.legend.html)."
   ]
  },
  {
   "cell_type": "markdown",
   "id": "47d661ff-5abb-41e8-9736-006ae2a2a544",
   "metadata": {},
   "source": [
    "These are just the absolute **basics** of matplotlib, which show you how to quicly generate a visualization of some data.  \n",
    "\n",
    "Interestingly, **pandas** also provides access to basic plotting functions of **matplotlib** by the [`pd.DataFrame.plot()`](https://pandas.pydata.org/docs/reference/api/pandas.DataFrame.plot.html) method: "
   ]
  },
  {
   "cell_type": "code",
   "execution_count": 41,
   "id": "930ecfb8-92c3-4b5a-a1af-0510270d16c0",
   "metadata": {},
   "outputs": [
    {
     "data": {
      "text/plain": [
       "<Axes: xlabel='number of carbon atoms', ylabel='Vapor Pressure [bar] at 300 K'>"
      ]
     },
     "execution_count": 41,
     "metadata": {},
     "output_type": "execute_result"
    },
    {
     "data": {
      "image/png": "[encoded data removed]",
      "text/plain": [
       "<Figure size 640x480 with 1 Axes>"
      ]
     },
     "metadata": {},
     "output_type": "display_data"
    }
   ],
   "source": [
    "vap_press.plot(x='C', y='P [bar] at 300 K',\n",
    "               c='O',\n",
    "               kind='scatter',\n",
    "               logy=True,\n",
    "               xlabel='number of carbon atoms',\n",
    "               ylabel='Vapor Pressure [bar] at 300 K',\n",
    "               colormap=matplotlib.cm.plasma,\n",
    "               colorbar=False)"
   ]
  },
  {
   "cell_type": "markdown",
   "id": "26f5371b-0d56-4782-8e52-396acf04849a",
   "metadata": {},
   "source": [
    "We will go into more detail on how to use **matplotlib** within further sessions of the course as we will need it over and over again. Also in Assignment 2 you will need to dig a little bit deeper into matplotlib, discovering some new functions, which we didn't discuss here. "
   ]
  },
  {
   "cell_type": "markdown",
   "id": "973021fa-2902-437b-bdd5-868b48c61abc",
   "metadata": {},
   "source": [
    "## 2.4 Access chemistry databases"
   ]
  },
  {
   "cell_type": "markdown",
   "id": "9be4ca25-7a7a-4e0a-9d5e-771e7ed8c155",
   "metadata": {},
   "source": [
    "Now let's assume we are absolute chemistry beginners and we just loaded the above file with all thos molecule names. Imagine it could be any kind of data set of chemicals, which are not some semi-trivial easy to know alkanes. How can we find some information on these chemicals? \n",
    "\n",
    "There are several chemistry databases which incoporate many information on millions and millions of different chemicals. Mostly, they can be accessed via a web-browser based interface, but given a long list of chemicals we cannot just go there and try to search for each chemical indendependtly. That would just consume too much time. And this is the point where we enter data science and strongly linked to it, the usage of chemistry databases. \n",
    "\n",
    "Luckily there are python packages to access several chemistry databases:\n",
    "\n",
    "- [**ChemSpiPy**](https://chemspipy.readthedocs.io/en/stable/*) to access **ChemSpider** the database of the British *Royal Society of Chemistry* (RSC).\n",
    "- [**PubChemPy**](https://pubchempy.readthedocs.io/en/latest/) to access **PubChem** the database of the US-American *National Institutes of Health* (NIH)\n",
    "- [**NistChemPy**](https://ivanchernyshov.github.io/NistChemPy/) to access the **NIST webbook** of the US-American *National Institute of Standardization* (NIST)\n",
    "\n",
    "with the last one more in a beta-phase (will not be further discussed here). "
   ]
  },
  {
   "cell_type": "markdown",
   "id": "a9092e86-55db-4e49-9ac1-a7a6ff4e48b6",
   "metadata": {},
   "source": [
    "### 2.4.1 PubChemPy"
   ]
  },
  {
   "cell_type": "code",
   "execution_count": 42,
   "id": "41e5f3ea-18be-44bc-bcb0-444659fc2e64",
   "metadata": {
    "editable": true,
    "slideshow": {
     "slide_type": ""
    },
    "tags": []
   },
   "outputs": [],
   "source": [
    "# pip install pubchempy in a terminal first \n",
    "import pubchempy as pcp"
   ]
  },
  {
   "cell_type": "code",
   "execution_count": 43,
   "id": "c6b9f25b-96c1-427a-ab0e-5247c8f088df",
   "metadata": {},
   "outputs": [
    {
     "name": "stdout",
     "output_type": "stream",
     "text": [
      "[{'CID': 1140, 'Synonym': ['toluene', 'methylbenzene', '108-88-3', 'toluol', 'Phenylmethane', 'methacide', 'methylbenzol', 'Benzene, methyl-', 'antisal 1a', 'Toluen', 'tolu-sol', 'Methane, phenyl-', 'Tolueen', 'Toluolo', 'phenyl methane', '1-Methylbenzene', 'monomethyl benzene', 'RCRA waste number U220', 'Tolueno', 'methyl-Benzene', 'Caswell No. 859', 'p-toluene', 'NCI-C07272', 'CP 25', 'CCRIS 2366', 'HSDB 131', 'NSC 406333', 'UN 1294', '4-methylbenzene', 'Benzene, methyl', 'EINECS 203-625-9', 'UNII-3FPU23BG52', 'EPA Pesticide Chemical Code 080601', 'NSC-406333', '3FPU23BG52', 'DTXSID7021360', 'CHEBI:17578', 'TOLUENE-3,5-D2', 'AI3-02261', 'MFCD00008512', 'CHEMBL9113', 'DTXCID501360', 'EC 203-625-9', 'Toluene, anhydrous', 'NCGC00090939-02', 'TOLUENE (IARC)', 'TOLUENE [IARC]', 'TOLUENE (MART.)', 'TOLUENE [MART.]', 'TOLUENE (USP-RS)', 'TOLUENE [USP-RS]', 'Tolueen [Dutch]', 'Toluen [Czech]', 'Toluene, analytical standard', 'Tolueno [Spanish]', 'Toluolo [Italian]', 'TOLUENE (RING-D5)', 'Toluene (Ring-D5, 98%)', 'methyl benzene', 'para-toluene', 'Methyl benzol', 'Toluene, ACS reagent, >=99.5%', 'Toluene 1000 microg/mL in Methanol', 'CAS-108-88-3', 'RAMIPRIL IMPURITY G (EP IMPURITY)', 'RAMIPRIL IMPURITY G [EP IMPURITY]', 'PHME', 'TOLUENE (RING-13C6, 99%)', 'UN1294', 'RCRA waste no. U220', 'methylbenzenes', 'Dracyl', 'phenyl-methane', 'toluene solvent', '2-methylbenzene', 'toluene-', 'Methylbenzene; Toluene; Ramipril Imp. G (EP); Ramipril Impurity G', 'MePh', '2-methyl benzene', '4-methyl-benzene', 'Toluene ACS Grade', 'Toluene-13C', 'Toluene HPLC grade', 'Methylbenzene, 9CI', 'Toluene (Technical)', 'Toluene, for HPLC', 'PhCH3', 'Toluene, ACS reagent', 'Toluene, HPLC Grade', '4i7k', 'TOLUENE [HSDB]', 'Toluene, 99.5%', 'TOLUENE [MI]', 'CP 25 (SOLVENT)', 'Toluene, Environmental Grade', 'Toluene, Semiconductor Grade', 'Toluene, LR, >=99%', 'C6H5CH3', 'TOLUENE [GREEN BOOK]', 'WLN: 1R', 'BIDD:ER0288', 'Toluene, anhydrous, 99.8%', 'Toluene, ASTM, 99.5%', 'Toluene, p.a., 99.5%', 'GTPL5481', 'Toluene, AR, >=99.5%', 'Toluene, for HPLC, 99.9%', 'Toluene, LR, rectified, 99%', 'CHEBI:38975', 'DTXSID50175878', 'Toluene (Methyl-13C, 99%)', 'Toluene, HPLC grade, 99.8%', 'Toluene, Spectrophotometric Grade', 'Toluene 10 microg/mL in Methanol', 'Toluene, LR, sulfur free, 99%', 'Toluene, AR, rectified, 99.5%', 'Toluene, technical grade, 95.0%', 'BCP16202', 'GAA93323', 'MLA39935', 'RAA95438', 'Toluene, for HPLC, >=99.8%', 'Toluene, for HPLC, >=99.9%', 'Toluene, histology grade, practical', 'Toluene 100 microg/mL in Methanol', 'Tox21_111042', 'Tox21_201224', 'BDBM50008558', 'NSC406333', 'Toluene, purification grade, 99.8%', 'AKOS015840411', 'DB11558', 'Toluene, anhydrous, (water < 50ppm)', 'Toluene, SAJ first grade, >=99.0%', 'NCGC00090939-01', 'NCGC00090939-03', 'NCGC00258776-01', 'Toluene [UN1294]  [Flammable liquid]', 'Toluene ACS grade (benzene < 20 ppm)', 'Toluene, JIS special grade, >=99.5%', 'Toluene, Laboratory Reagent, >=99.3%', 'Toluene, for HPLC, >=99.7% (GC)', 'Toluene, UV HPLC spectroscopic, 99.5%', 'Toluene, anhydrous, ZerO2(TM), 99.8%', 'DB-309420', 'NS00008096', 'T0260', 'Toluene, suitable for determination of dioxins', 'C01455', 'Q15779', 'Toluene, suitable for scintillation, >=99.7%', 'A801937', 'SR-01000944565', 'Toluene, ACS spectrophotometric grade, >=99.5%', 'SR-01000944565-1', 'Toluene, p.a., ACS reagent, reag. ISO, 99.5%', 'InChI=1/C7H8/c1-7-5-3-2-4-6-7/h2-6H,1H', 'D5191 Vapor Pressure - 7.1kPa (1.03 psi), 10 x 10 mL', 'Toluene, p.a., ACS reagent, reag. ISO, reag. Ph. Eur., 99.5%', 'Toluene, absolute, over molecular sieve (H2O <=0.005%), >=99.7% (GC)', 'Toluene, Pharmaceutical Secondary Standard; Certified Reference Material', 'Residual Solvent - Toluene, Pharmaceutical Secondary Standard; Certified Reference Material', 'Toluene, puriss. p.a., ACS reagent, reag. ISO, reag. Ph. Eur., >=99.7% (GC)', '203-625-9', '25013-04-1']}]\n"
     ]
    }
   ],
   "source": [
    "print(pcp.get_synonyms('toluene', 'name'))"
   ]
  },
  {
   "cell_type": "markdown",
   "id": "c8b04aef-ef81-41c0-b1d0-d7b36e3689bf",
   "metadata": {},
   "source": [
    "But now let's see how to get information of different molecules. \n",
    "\n",
    "The central call in `pubchempy` is `pcp.get_compounds()`. Using the CAS number is the most straightforward as it is a unique identifier and in our file `organic_vapor_pressures.csv` we have them anyways already and they are very often stored as a synonym with a certain compound on PubChem. "
   ]
  },
  {
   "cell_type": "code",
   "execution_count": 44,
   "id": "3a528e85-2478-48ca-a15b-07ee38f2f099",
   "metadata": {},
   "outputs": [
    {
     "name": "stdout",
     "output_type": "stream",
     "text": [
      "<class 'list'>\n"
     ]
    },
    {
     "data": {
      "text/plain": [
       "Compound(7966)"
      ]
     },
     "execution_count": 44,
     "metadata": {},
     "output_type": "execute_result"
    }
   ],
   "source": [
    "found_compounds = pcp.get_compounds('cyclohexanol', 'name')\n",
    "# line 90 in vap_press is cyclohexanol\n",
    "print(type(found_compounds))\n",
    "cyclohexanol = found_compounds[0]\n",
    "cyclohexanol"
   ]
  },
  {
   "cell_type": "markdown",
   "id": "062aa3ec-65fa-4807-84e2-3d60bb74d39a",
   "metadata": {},
   "source": [
    "Let's see what properties are stored with that compound:"
   ]
  },
  {
   "cell_type": "code",
   "execution_count": 45,
   "id": "088e383c-3eb7-441c-ba3a-4da1a5a49c25",
   "metadata": {},
   "outputs": [
    {
     "data": {
      "text/plain": [
       "{'atom_stereo_count': 0,\n",
       " 'atoms': [{'aid': 1, 'number': 8, 'element': 'O', 'y': 1.345, 'x': 2.866},\n",
       "  {'aid': 2, 'number': 6, 'element': 'C', 'y': 0.345, 'x': 2.866},\n",
       "  {'aid': 3, 'number': 6, 'element': 'C', 'y': -0.155, 'x': 2},\n",
       "  {'aid': 4, 'number': 6, 'element': 'C', 'y': -0.155, 'x': 3.732},\n",
       "  {'aid': 5, 'number': 6, 'element': 'C', 'y': -1.155, 'x': 2},\n",
       "  {'aid': 6, 'number': 6, 'element': 'C', 'y': -1.155, 'x': 3.732},\n",
       "  {'aid': 7, 'number': 6, 'element': 'C', 'y': -1.655, 'x': 2.866},\n",
       "  {'aid': 8, 'number': 1, 'element': 'H', 'y': 0.655, 'x': 3.403},\n",
       "  {'aid': 9, 'number': 1, 'element': 'H', 'y': 0.4276, 'x': 1.788},\n",
       "  {'aid': 10, 'number': 1, 'element': 'H', 'y': -0.2627, 'x': 1.3894},\n",
       "  {'aid': 11, 'number': 1, 'element': 'H', 'y': -0.2627, 'x': 4.3426},\n",
       "  {'aid': 12, 'number': 1, 'element': 'H', 'y': 0.4276, 'x': 3.9441},\n",
       "  {'aid': 13, 'number': 1, 'element': 'H', 'y': -1.0473, 'x': 1.3894},\n",
       "  {'aid': 14, 'number': 1, 'element': 'H', 'y': -1.7376, 'x': 1.788},\n",
       "  {'aid': 15, 'number': 1, 'element': 'H', 'y': -1.7376, 'x': 3.9441},\n",
       "  {'aid': 16, 'number': 1, 'element': 'H', 'y': -1.0473, 'x': 4.3426},\n",
       "  {'aid': 17, 'number': 1, 'element': 'H', 'y': -2.13, 'x': 2.4675},\n",
       "  {'aid': 18, 'number': 1, 'element': 'H', 'y': -2.13, 'x': 3.2646},\n",
       "  {'aid': 19, 'number': 1, 'element': 'H', 'y': 1.655, 'x': 3.403}],\n",
       " 'bond_stereo_count': 0,\n",
       " 'bonds': [{'aid1': 1, 'aid2': 2, 'order': 1},\n",
       "  {'aid1': 1, 'aid2': 19, 'order': 1},\n",
       "  {'aid1': 2, 'aid2': 3, 'order': 1},\n",
       "  {'aid1': 2, 'aid2': 4, 'order': 1},\n",
       "  {'aid1': 2, 'aid2': 8, 'order': 1},\n",
       "  {'aid1': 3, 'aid2': 5, 'order': 1},\n",
       "  {'aid1': 3, 'aid2': 9, 'order': 1},\n",
       "  {'aid1': 3, 'aid2': 10, 'order': 1},\n",
       "  {'aid1': 4, 'aid2': 6, 'order': 1},\n",
       "  {'aid1': 4, 'aid2': 11, 'order': 1},\n",
       "  {'aid1': 4, 'aid2': 12, 'order': 1},\n",
       "  {'aid1': 5, 'aid2': 7, 'order': 1},\n",
       "  {'aid1': 5, 'aid2': 13, 'order': 1},\n",
       "  {'aid1': 5, 'aid2': 14, 'order': 1},\n",
       "  {'aid1': 6, 'aid2': 7, 'order': 1},\n",
       "  {'aid1': 6, 'aid2': 15, 'order': 1},\n",
       "  {'aid1': 6, 'aid2': 16, 'order': 1},\n",
       "  {'aid1': 7, 'aid2': 17, 'order': 1},\n",
       "  {'aid1': 7, 'aid2': 18, 'order': 1}],\n",
       " 'cactvs_fingerprint': '11000000011000000010000000000000000000000000000000000000000000000000000000000000000000000000000000000000000000000000000000000000000000000000000000000000000000000000000000000000001100000000000000000000000000000000000000000000000000000000000000000000000000000000000000000000000000000001101000000000000000000000100000000000000000000000100000010100101000001000000000000010000000000000000000000000000000000000001000000000000000000000000000000000000000000000000000000000000000000000000000000000000000000000000000000000000000000000000000000000000000000000000000000000000000000001000000000010000000000000000000000000000000000100000000000000000001000000000000000000000000000000000000000001100000000100000000000000000000000000000000000000000000000000000000000000000000000000000000000000000000000000000000000000000000000000000000000000000000000000000000000000000000000000000000000000000000000',\n",
       " 'canonical_smiles': 'C1CCC(CC1)O',\n",
       " 'charge': 0,\n",
       " 'cid': 7966,\n",
       " 'complexity': 46.1,\n",
       " 'conformer_id_3d': None,\n",
       " 'conformer_rmsd_3d': None,\n",
       " 'coordinate_type': '2d',\n",
       " 'covalent_unit_count': 1,\n",
       " 'defined_atom_stereo_count': 0,\n",
       " 'defined_bond_stereo_count': 0,\n",
       " 'effective_rotor_count_3d': None,\n",
       " 'elements': ['O',\n",
       "  'C',\n",
       "  'C',\n",
       "  'C',\n",
       "  'C',\n",
       "  'C',\n",
       "  'C',\n",
       "  'H',\n",
       "  'H',\n",
       "  'H',\n",
       "  'H',\n",
       "  'H',\n",
       "  'H',\n",
       "  'H',\n",
       "  'H',\n",
       "  'H',\n",
       "  'H',\n",
       "  'H',\n",
       "  'H'],\n",
       " 'exact_mass': '100.088815002',\n",
       " 'feature_selfoverlap_3d': None,\n",
       " 'fingerprint': '00000371C0602000000000000000000000000000000000000000300000000000000000000000001A00000800000814A080020000000002000000000000000000000000000000000000000010020000000040000400000000018040000000000000000000000000000000000000000000000000',\n",
       " 'h_bond_acceptor_count': 1,\n",
       " 'h_bond_donor_count': 1,\n",
       " 'heavy_atom_count': 7,\n",
       " 'inchi': 'InChI=1S/C6H12O/c7-6-4-2-1-3-5-6/h6-7H,1-5H2',\n",
       " 'inchikey': 'HPXRVTGHNJAIIH-UHFFFAOYSA-N',\n",
       " 'isomeric_smiles': 'C1CCC(CC1)O',\n",
       " 'isotope_atom_count': 0,\n",
       " 'iupac_name': 'cyclohexanol',\n",
       " 'mmff94_energy_3d': None,\n",
       " 'mmff94_partial_charges_3d': None,\n",
       " 'molecular_formula': 'C6H12O',\n",
       " 'molecular_weight': '100.16',\n",
       " 'monoisotopic_mass': '100.088815002',\n",
       " 'multipoles_3d': None,\n",
       " 'pharmacophore_features_3d': None,\n",
       " 'record': {'id': {'id': {'cid': 7966}},\n",
       "  'atoms': {'aid': [1,\n",
       "    2,\n",
       "    3,\n",
       "    4,\n",
       "    5,\n",
       "    6,\n",
       "    7,\n",
       "    8,\n",
       "    9,\n",
       "    10,\n",
       "    11,\n",
       "    12,\n",
       "    13,\n",
       "    14,\n",
       "    15,\n",
       "    16,\n",
       "    17,\n",
       "    18,\n",
       "    19],\n",
       "   'element': [8, 6, 6, 6, 6, 6, 6, 1, 1, 1, 1, 1, 1, 1, 1, 1, 1, 1, 1]},\n",
       "  'bonds': {'aid1': [1, 1, 2, 2, 2, 3, 3, 3, 4, 4, 4, 5, 5, 5, 6, 6, 6, 7, 7],\n",
       "   'aid2': [2, 19, 3, 4, 8, 5, 9, 10, 6, 11, 12, 7, 13, 14, 7, 15, 16, 17, 18],\n",
       "   'order': [1, 1, 1, 1, 1, 1, 1, 1, 1, 1, 1, 1, 1, 1, 1, 1, 1, 1, 1]},\n",
       "  'coords': [{'type': [1, 5, 255],\n",
       "    'aid': [1, 2, 3, 4, 5, 6, 7, 8, 9, 10, 11, 12, 13, 14, 15, 16, 17, 18, 19],\n",
       "    'conformers': [{'x': [2.866,\n",
       "       2.866,\n",
       "       2,\n",
       "       3.732,\n",
       "       2,\n",
       "       3.732,\n",
       "       2.866,\n",
       "       3.403,\n",
       "       1.788,\n",
       "       1.3894,\n",
       "       4.3426,\n",
       "       3.9441,\n",
       "       1.3894,\n",
       "       1.788,\n",
       "       3.9441,\n",
       "       4.3426,\n",
       "       2.4675,\n",
       "       3.2646,\n",
       "       3.403],\n",
       "      'y': [1.345,\n",
       "       0.345,\n",
       "       -0.155,\n",
       "       -0.155,\n",
       "       -1.155,\n",
       "       -1.155,\n",
       "       -1.655,\n",
       "       0.655,\n",
       "       0.4276,\n",
       "       -0.2627,\n",
       "       -0.2627,\n",
       "       0.4276,\n",
       "       -1.0473,\n",
       "       -1.7376,\n",
       "       -1.7376,\n",
       "       -1.0473,\n",
       "       -2.13,\n",
       "       -2.13,\n",
       "       1.655]}]}],\n",
       "  'charge': 0,\n",
       "  'props': [{'urn': {'label': 'Compound',\n",
       "     'name': 'Canonicalized',\n",
       "     'datatype': 5,\n",
       "     'release': '2021.10.14'},\n",
       "    'value': {'ival': 1}},\n",
       "   {'urn': {'label': 'Compound Complexity',\n",
       "     'datatype': 7,\n",
       "     'implementation': 'E_COMPLEXITY',\n",
       "     'version': '3.4.8.18',\n",
       "     'software': 'Cactvs',\n",
       "     'source': 'Xemistry GmbH',\n",
       "     'release': '2021.10.14'},\n",
       "    'value': {'fval': 46.1}},\n",
       "   {'urn': {'label': 'Count',\n",
       "     'name': 'Hydrogen Bond Acceptor',\n",
       "     'datatype': 5,\n",
       "     'implementation': 'E_NHACCEPTORS',\n",
       "     'version': '3.4.8.18',\n",
       "     'software': 'Cactvs',\n",
       "     'source': 'Xemistry GmbH',\n",
       "     'release': '2021.10.14'},\n",
       "    'value': {'ival': 1}},\n",
       "   {'urn': {'label': 'Count',\n",
       "     'name': 'Hydrogen Bond Donor',\n",
       "     'datatype': 5,\n",
       "     'implementation': 'E_NHDONORS',\n",
       "     'version': '3.4.8.18',\n",
       "     'software': 'Cactvs',\n",
       "     'source': 'Xemistry GmbH',\n",
       "     'release': '2021.10.14'},\n",
       "    'value': {'ival': 1}},\n",
       "   {'urn': {'label': 'Count',\n",
       "     'name': 'Rotatable Bond',\n",
       "     'datatype': 5,\n",
       "     'implementation': 'E_NROTBONDS',\n",
       "     'version': '3.4.8.18',\n",
       "     'software': 'Cactvs',\n",
       "     'source': 'Xemistry GmbH',\n",
       "     'release': '2021.10.14'},\n",
       "    'value': {'ival': 0}},\n",
       "   {'urn': {'label': 'Fingerprint',\n",
       "     'name': 'SubStructure Keys',\n",
       "     'datatype': 16,\n",
       "     'parameters': 'extended 2',\n",
       "     'implementation': 'E_SCREEN',\n",
       "     'version': '3.4.8.18',\n",
       "     'software': 'Cactvs',\n",
       "     'source': 'Xemistry GmbH',\n",
       "     'release': '2021.10.14'},\n",
       "    'value': {'binary': '00000371C0602000000000000000000000000000000000000000300000000000000000000000001A00000800000814A080020000000002000000000000000000000000000000000000000010020000000040000400000000018040000000000000000000000000000000000000000000000000'}},\n",
       "   {'urn': {'label': 'IUPAC Name',\n",
       "     'name': 'Allowed',\n",
       "     'datatype': 1,\n",
       "     'version': '2.7.0',\n",
       "     'software': 'Lexichem TK',\n",
       "     'source': 'OpenEye Scientific Software',\n",
       "     'release': '2021.10.14'},\n",
       "    'value': {'sval': 'cyclohexanol'}},\n",
       "   {'urn': {'label': 'IUPAC Name',\n",
       "     'name': 'CAS-like Style',\n",
       "     'datatype': 1,\n",
       "     'version': '2.7.0',\n",
       "     'software': 'Lexichem TK',\n",
       "     'source': 'OpenEye Scientific Software',\n",
       "     'release': '2021.10.14'},\n",
       "    'value': {'sval': 'cyclohexanol'}},\n",
       "   {'urn': {'label': 'IUPAC Name',\n",
       "     'name': 'Markup',\n",
       "     'datatype': 1,\n",
       "     'version': '2.7.0',\n",
       "     'software': 'Lexichem TK',\n",
       "     'source': 'OpenEye Scientific Software',\n",
       "     'release': '2021.10.14'},\n",
       "    'value': {'sval': 'cyclohexanol'}},\n",
       "   {'urn': {'label': 'IUPAC Name',\n",
       "     'name': 'Preferred',\n",
       "     'datatype': 1,\n",
       "     'version': '2.7.0',\n",
       "     'software': 'Lexichem TK',\n",
       "     'source': 'OpenEye Scientific Software',\n",
       "     'release': '2021.10.14'},\n",
       "    'value': {'sval': 'cyclohexanol'}},\n",
       "   {'urn': {'label': 'IUPAC Name',\n",
       "     'name': 'Systematic',\n",
       "     'datatype': 1,\n",
       "     'version': '2.7.0',\n",
       "     'software': 'Lexichem TK',\n",
       "     'source': 'OpenEye Scientific Software',\n",
       "     'release': '2021.10.14'},\n",
       "    'value': {'sval': 'cyclohexanol'}},\n",
       "   {'urn': {'label': 'IUPAC Name',\n",
       "     'name': 'Traditional',\n",
       "     'datatype': 1,\n",
       "     'version': '2.7.0',\n",
       "     'software': 'Lexichem TK',\n",
       "     'source': 'OpenEye Scientific Software',\n",
       "     'release': '2021.10.14'},\n",
       "    'value': {'sval': 'cyclohexanol'}},\n",
       "   {'urn': {'label': 'InChI',\n",
       "     'name': 'Standard',\n",
       "     'datatype': 1,\n",
       "     'version': '1.0.6',\n",
       "     'software': 'InChI',\n",
       "     'source': 'iupac.org',\n",
       "     'release': '2021.10.14'},\n",
       "    'value': {'sval': 'InChI=1S/C6H12O/c7-6-4-2-1-3-5-6/h6-7H,1-5H2'}},\n",
       "   {'urn': {'label': 'InChIKey',\n",
       "     'name': 'Standard',\n",
       "     'datatype': 1,\n",
       "     'version': '1.0.6',\n",
       "     'software': 'InChI',\n",
       "     'source': 'iupac.org',\n",
       "     'release': '2021.10.14'},\n",
       "    'value': {'sval': 'HPXRVTGHNJAIIH-UHFFFAOYSA-N'}},\n",
       "   {'urn': {'label': 'Log P',\n",
       "     'name': 'XLogP3',\n",
       "     'datatype': 7,\n",
       "     'version': '3.0',\n",
       "     'source': 'sioc-ccbg.ac.cn',\n",
       "     'release': '2021.10.14'},\n",
       "    'value': {'fval': 1.2}},\n",
       "   {'urn': {'label': 'Mass',\n",
       "     'name': 'Exact',\n",
       "     'datatype': 1,\n",
       "     'version': '2.2',\n",
       "     'software': 'PubChem',\n",
       "     'source': 'ncbi.nlm.nih.gov',\n",
       "     'release': '2021.10.14'},\n",
       "    'value': {'sval': '100.088815002'}},\n",
       "   {'urn': {'label': 'Molecular Formula',\n",
       "     'datatype': 1,\n",
       "     'version': '2.2',\n",
       "     'software': 'PubChem',\n",
       "     'source': 'ncbi.nlm.nih.gov',\n",
       "     'release': '2021.10.14'},\n",
       "    'value': {'sval': 'C6H12O'}},\n",
       "   {'urn': {'label': 'Molecular Weight',\n",
       "     'datatype': 1,\n",
       "     'version': '2.2',\n",
       "     'software': 'PubChem',\n",
       "     'source': 'ncbi.nlm.nih.gov',\n",
       "     'release': '2021.10.14'},\n",
       "    'value': {'sval': '100.16'}},\n",
       "   {'urn': {'label': 'SMILES',\n",
       "     'name': 'Absolute',\n",
       "     'datatype': 1,\n",
       "     'version': '2.3.0',\n",
       "     'software': 'OEChem',\n",
       "     'source': 'OpenEye Scientific Software',\n",
       "     'release': '2024.12.12'},\n",
       "    'value': {'sval': 'C1CCC(CC1)O'}},\n",
       "   {'urn': {'label': 'SMILES',\n",
       "     'name': 'Canonical',\n",
       "     'datatype': 1,\n",
       "     'version': '2.3.0',\n",
       "     'software': 'OEChem',\n",
       "     'source': 'OpenEye Scientific Software',\n",
       "     'release': '2021.10.14'},\n",
       "    'value': {'sval': 'C1CCC(CC1)O'}},\n",
       "   {'urn': {'label': 'SMILES',\n",
       "     'name': 'Isomeric',\n",
       "     'datatype': 1,\n",
       "     'version': '2.3.0',\n",
       "     'software': 'OEChem',\n",
       "     'source': 'OpenEye Scientific Software',\n",
       "     'release': '2021.10.14'},\n",
       "    'value': {'sval': 'C1CCC(CC1)O'}},\n",
       "   {'urn': {'label': 'Topological',\n",
       "     'name': 'Polar Surface Area',\n",
       "     'datatype': 7,\n",
       "     'implementation': 'E_TPSA',\n",
       "     'version': '3.4.8.18',\n",
       "     'software': 'Cactvs',\n",
       "     'source': 'Xemistry GmbH',\n",
       "     'release': '2021.10.14'},\n",
       "    'value': {'fval': 20.2}},\n",
       "   {'urn': {'label': 'Weight',\n",
       "     'name': 'MonoIsotopic',\n",
       "     'datatype': 1,\n",
       "     'version': '2.2',\n",
       "     'software': 'PubChem',\n",
       "     'source': 'ncbi.nlm.nih.gov',\n",
       "     'release': '2021.10.14'},\n",
       "    'value': {'sval': '100.088815002'}}],\n",
       "  'count': {'heavy_atom': 7,\n",
       "   'atom_chiral': 0,\n",
       "   'atom_chiral_def': 0,\n",
       "   'atom_chiral_undef': 0,\n",
       "   'bond_chiral': 0,\n",
       "   'bond_chiral_def': 0,\n",
       "   'bond_chiral_undef': 0,\n",
       "   'isotope_atom': 0,\n",
       "   'covalent_unit': 1,\n",
       "   'tautomers': -1}},\n",
       " 'rotatable_bond_count': 0,\n",
       " 'shape_fingerprint_3d': None,\n",
       " 'shape_selfoverlap_3d': None,\n",
       " 'tpsa': 20.2,\n",
       " 'undefined_atom_stereo_count': 0,\n",
       " 'undefined_bond_stereo_count': 0,\n",
       " 'volume_3d': None,\n",
       " 'xlogp': 1.2}"
      ]
     },
     "execution_count": 45,
     "metadata": {},
     "output_type": "execute_result"
    }
   ],
   "source": [
    "cyclohexanol.to_dict()"
   ]
  },
  {
   "cell_type": "markdown",
   "id": "6513a45e-c486-49ff-9516-c5c9a21d443c",
   "metadata": {},
   "source": [
    "We can access these entries either through directly calling the property from the already retrieved compound or alternatively using `pcp.get_properties()`:"
   ]
  },
  {
   "cell_type": "code",
   "execution_count": 46,
   "id": "ba670e35-b4b1-4d65-8d9e-f894a32d74c0",
   "metadata": {},
   "outputs": [
    {
     "name": "stdout",
     "output_type": "stream",
     "text": [
      "1.2\n",
      "[{'CID': 7966, 'XLogP': 1.2}]\n"
     ]
    }
   ],
   "source": [
    "xlogp_cyclohexanol = cyclohexanol.xlogp\n",
    "print(xlogp_cyclohexanol)\n",
    "\n",
    "xlogp_cyclohexanol = pcp.get_properties('xlogp', vap_press.loc[90, 'CAS'], 'name')\n",
    "print(xlogp_cyclohexanol)"
   ]
  },
  {
   "cell_type": "markdown",
   "id": "0de51ce1-dbfa-470d-afb9-a130fba61eed",
   "metadata": {},
   "source": [
    "Using the 2d-coordinates of the atoms given in the record, we can even draw the molecule using `matplotlib`:"
   ]
  },
  {
   "cell_type": "code",
   "execution_count": 47,
   "id": "65bb94a6-bdcb-4d1d-83f2-ade97ef2dbc3",
   "metadata": {},
   "outputs": [
    {
     "data": {
      "text/plain": [
       "(-3.0, 3.0)"
      ]
     },
     "execution_count": 47,
     "metadata": {},
     "output_type": "execute_result"
    },
    {
     "data": {
      "image/png": "[encoded data removed]",
      "text/plain": [
       "<Figure size 640x480 with 1 Axes>"
      ]
     },
     "metadata": {},
     "output_type": "display_data"
    }
   ],
   "source": [
    "x_coordinates = []\n",
    "y_coordinates = []\n",
    "elements = []\n",
    "\n",
    "for a in cyclohexanol.atoms:\n",
    "    x_coordinates.append(a.x)\n",
    "    y_coordinates.append(a.y)\n",
    "    elements.append(a.element)\n",
    "\n",
    "colors = []\n",
    "for e in elements:\n",
    "    if e == 'C':\n",
    "        colors.append('black')\n",
    "    elif e == 'O':\n",
    "        colors.append('red')\n",
    "    elif e == 'H':\n",
    "        colors.append('blue')\n",
    "\n",
    "plt.scatter(x_coordinates, y_coordinates, c=colors)\n",
    "plt.gca().set_xlim(0, 6)\n",
    "plt.gca().set_ylim(-3, 3)"
   ]
  },
  {
   "cell_type": "markdown",
   "id": "b84d0981-0a28-41fe-8164-5334e35da524",
   "metadata": {},
   "source": [
    "We have seen that PubChem is structured into *compounds*  which have different *properties* and that we can access these compounds by their names and a variety of synonyms, and then retrieve different properties. Compounds and their properties are handled as *classes* within PubChemPy. This is classical object-orientated programming style (we will look at this again in the exercise session). "
   ]
  },
  {
   "cell_type": "markdown",
   "id": "f16b827f-e569-4da3-a8d6-83be01f43d34",
   "metadata": {},
   "source": [
    "Can we also trun this around and search for certain properties in the database and retrieve the compounds which fullfill these properties?\n",
    "- PubChemPy does **not** enable a search for compounds fulfilling a certain *numerical* (XlogP, exact mass, etc.) property\n",
    "- PubChemPy does allow searches for certain structures (e.g. functional groups) using e.g. *SMILES* strings "
   ]
  },
  {
   "cell_type": "markdown",
   "id": "93697cc7-851a-4e54-8c72-e2b4a5fccaec",
   "metadata": {},
   "source": [
    "We can for example search for all hydroperoxyacids (C(O)OOH) found in the database (for now limiting us to the first ten compounds). "
   ]
  },
  {
   "cell_type": "code",
   "execution_count": 48,
   "id": "8f6e982b-9fce-4102-93e0-e00e3332434e",
   "metadata": {},
   "outputs": [
    {
     "data": {
      "text/plain": [
       "[{'CID': 6585,\n",
       "  'Synonym': ['PERACETIC ACID',\n",
       "   'Peroxyacetic acid',\n",
       "   'Ethaneperoxoic acid',\n",
       "   '79-21-0',\n",
       "   'Estosteril',\n",
       "   'Acetic peroxide',\n",
       "   'Peroxoacetic acid',\n",
       "   'Acetyl hydroperoxide',\n",
       "   'Monoperacetic acid',\n",
       "   'Osbon AC',\n",
       "   'Proxitane 4002',\n",
       "   'Desoxon 1',\n",
       "   'Ethaneperoxic acid',\n",
       "   'Hydroperoxide, acetyl',\n",
       "   'Acide peracetique',\n",
       "   'Acido peroxiacetico',\n",
       "   'Acecide',\n",
       "   'Proxitane',\n",
       "   'Caswell No. 644',\n",
       "   'Peroxy acetic acid',\n",
       "   'Acide peroxyacetique',\n",
       "   'Kyselina peroxyoctova',\n",
       "   'CCRIS 686',\n",
       "   'HSDB 1106',\n",
       "   'UNII-I6KPI2E1HD',\n",
       "   'I6KPI2E1HD',\n",
       "   'peroxy-acetic acid',\n",
       "   'EINECS 201-186-8',\n",
       "   'EPA Pesticide Chemical Code 063201',\n",
       "   'BRN 1098464',\n",
       "   'DTXSID1025853',\n",
       "   'CHEMBL444965',\n",
       "   'DTXCID805853',\n",
       "   'CHEBI:42530',\n",
       "   'EC 201-186-8',\n",
       "   '4-02-00-00390 (Beilstein Handbook Reference)',\n",
       "   'NCGC00166305-01',\n",
       "   'PERACETIC ACID (MART.)',\n",
       "   'PERACETIC ACID [MART.]',\n",
       "   'Oxypel',\n",
       "   'Perethanoic Acid',\n",
       "   'Proxitane S',\n",
       "   'Acide peracetique [French]',\n",
       "   'Proxitane 12A',\n",
       "   'F50',\n",
       "   'Acide peroxyacetique [French]',\n",
       "   'Acido peroxiacetico [Spanish]',\n",
       "   'Kyselina peroxyoctova [Czech]',\n",
       "   'Proxitane 1507',\n",
       "   'LCAP',\n",
       "   'Aceticperoxide',\n",
       "   'Ethanperoxsaure',\n",
       "   'Peressigsaure',\n",
       "   'Bactipal',\n",
       "   'Oxymaster',\n",
       "   'Soproper',\n",
       "   'acetyldioxidanyl',\n",
       "   'Dialox',\n",
       "   'peractic acid',\n",
       "   'Peroxyessigsaure',\n",
       "   'Peroxyethansaure',\n",
       "   'Sekusept steril',\n",
       "   'Acetic peroxid',\n",
       "   'per-acetic acid',\n",
       "   'Acido peracetico',\n",
       "   'Peroxacetic acid',\n",
       "   'Acid, Peracetic',\n",
       "   'Peraflu D',\n",
       "   'acetic acid oxide',\n",
       "   'TLCUO Phytoncide',\n",
       "   'peroxyethanoic acid',\n",
       "   'PU US Phytoncide',\n",
       "   'Acid, Peroxyacetic',\n",
       "   'AcOOH',\n",
       "   'Acecide (TN)',\n",
       "   'Acid, Peroxyethanoic',\n",
       "   'GPES',\n",
       "   'JOYCARE',\n",
       "   'UNICARE',\n",
       "   'Wofasteril E 400',\n",
       "   'CLEAN WORKS',\n",
       "   'TLCUO LEMON',\n",
       "   'CARE PLUS',\n",
       "   'TLCUO PURE',\n",
       "   'PU US LEMON',\n",
       "   'PU US PURE',\n",
       "   'CH3CO2OH',\n",
       "   'WECLEAN C2 TLCUO',\n",
       "   'Ethaneperoxoic acid, 9CI',\n",
       "   'CH3C(O)OOH',\n",
       "   'BACTERIA ZERO PREMIUM',\n",
       "   'PERACETIC ACID [MI]',\n",
       "   'PERACETIC ACID [HSDB]',\n",
       "   'PERACETIC ACID [WHO-DD]',\n",
       "   'DTXSID40957943',\n",
       "   'peroxyacetic acid (peracetic acid)',\n",
       "   'BLOWHALE DEODORANT SENITIZER',\n",
       "   'Tox21_112402',\n",
       "   'BDBM50266095',\n",
       "   'Peroxyacetic acid, >43% and with >6% hydrogen peroxide [Forbidden]',\n",
       "   'AKOS015837803',\n",
       "   'DB14556',\n",
       "   'CAS-79-21-0',\n",
       "   'USEPA/OPP Pesticide Code: 063201',\n",
       "   'NS00001663',\n",
       "   'D03467',\n",
       "   'EN300-173399',\n",
       "   'Dr.Vir Germ Peroxyacetic acid Multi-disinfectant',\n",
       "   'Q375140',\n",
       "   'Peroxyacetic acid, >43% and with >6% hydrogen peroxide',\n",
       "   '201-186-8']}]"
      ]
     },
     "execution_count": 48,
     "metadata": {},
     "output_type": "execute_result"
    }
   ],
   "source": [
    "hydroperoxyacids = pcp.get_compounds('C(=O)OOH', 'smiles', searchtype='substructure', listkey_count=10)\n",
    "\n",
    "pcp.get_synonyms(hydroperoxyacids[0].cid, 'cid')"
   ]
  },
  {
   "cell_type": "markdown",
   "id": "4c3b9384-d043-43b9-9c27-760318df5c5d",
   "metadata": {},
   "source": [
    "PubChemPy also offers an integration with pandas, which allows you to extract all data directly into a `pd.DataFrame()`:"
   ]
  },
  {
   "cell_type": "code",
   "execution_count": 49,
   "id": "f50ae9a9-0fa9-4131-b1a6-055b4d7c2eeb",
   "metadata": {},
   "outputs": [
    {
     "ename": "URLError",
     "evalue": "<urlopen error [Errno 101] Network is unreachable>",
     "output_type": "error",
     "traceback": [
      "\u001b[0;31m---------------------------------------------------------------------------\u001b[0m",
      "\u001b[0;31mOSError\u001b[0m                                   Traceback (most recent call last)",
      "File \u001b[0;32m/opt/conda/lib/python3.11/urllib/request.py:1348\u001b[0m, in \u001b[0;36mAbstractHTTPHandler.do_open\u001b[0;34m(self, http_class, req, **http_conn_args)\u001b[0m\n\u001b[1;32m   1347\u001b[0m \u001b[38;5;28;01mtry\u001b[39;00m:\n\u001b[0;32m-> 1348\u001b[0m     \u001b[43mh\u001b[49m\u001b[38;5;241;43m.\u001b[39;49m\u001b[43mrequest\u001b[49m\u001b[43m(\u001b[49m\u001b[43mreq\u001b[49m\u001b[38;5;241;43m.\u001b[39;49m\u001b[43mget_method\u001b[49m\u001b[43m(\u001b[49m\u001b[43m)\u001b[49m\u001b[43m,\u001b[49m\u001b[43m \u001b[49m\u001b[43mreq\u001b[49m\u001b[38;5;241;43m.\u001b[39;49m\u001b[43mselector\u001b[49m\u001b[43m,\u001b[49m\u001b[43m \u001b[49m\u001b[43mreq\u001b[49m\u001b[38;5;241;43m.\u001b[39;49m\u001b[43mdata\u001b[49m\u001b[43m,\u001b[49m\u001b[43m \u001b[49m\u001b[43mheaders\u001b[49m\u001b[43m,\u001b[49m\n\u001b[1;32m   1349\u001b[0m \u001b[43m              \u001b[49m\u001b[43mencode_chunked\u001b[49m\u001b[38;5;241;43m=\u001b[39;49m\u001b[43mreq\u001b[49m\u001b[38;5;241;43m.\u001b[39;49m\u001b[43mhas_header\u001b[49m\u001b[43m(\u001b[49m\u001b[38;5;124;43m'\u001b[39;49m\u001b[38;5;124;43mTransfer-encoding\u001b[39;49m\u001b[38;5;124;43m'\u001b[39;49m\u001b[43m)\u001b[49m\u001b[43m)\u001b[49m\n\u001b[1;32m   1350\u001b[0m \u001b[38;5;28;01mexcept\u001b[39;00m \u001b[38;5;167;01mOSError\u001b[39;00m \u001b[38;5;28;01mas\u001b[39;00m err: \u001b[38;5;66;03m# timeout error\u001b[39;00m\n",
      "File \u001b[0;32m/opt/conda/lib/python3.11/http/client.py:1303\u001b[0m, in \u001b[0;36mHTTPConnection.request\u001b[0;34m(self, method, url, body, headers, encode_chunked)\u001b[0m\n\u001b[1;32m   1302\u001b[0m \u001b[38;5;250m\u001b[39m\u001b[38;5;124;03m\"\"\"Send a complete request to the server.\"\"\"\u001b[39;00m\n\u001b[0;32m-> 1303\u001b[0m \u001b[38;5;28;43mself\u001b[39;49m\u001b[38;5;241;43m.\u001b[39;49m\u001b[43m_send_request\u001b[49m\u001b[43m(\u001b[49m\u001b[43mmethod\u001b[49m\u001b[43m,\u001b[49m\u001b[43m \u001b[49m\u001b[43murl\u001b[49m\u001b[43m,\u001b[49m\u001b[43m \u001b[49m\u001b[43mbody\u001b[49m\u001b[43m,\u001b[49m\u001b[43m \u001b[49m\u001b[43mheaders\u001b[49m\u001b[43m,\u001b[49m\u001b[43m \u001b[49m\u001b[43mencode_chunked\u001b[49m\u001b[43m)\u001b[49m\n",
      "File \u001b[0;32m/opt/conda/lib/python3.11/http/client.py:1349\u001b[0m, in \u001b[0;36mHTTPConnection._send_request\u001b[0;34m(self, method, url, body, headers, encode_chunked)\u001b[0m\n\u001b[1;32m   1348\u001b[0m     body \u001b[38;5;241m=\u001b[39m _encode(body, \u001b[38;5;124m'\u001b[39m\u001b[38;5;124mbody\u001b[39m\u001b[38;5;124m'\u001b[39m)\n\u001b[0;32m-> 1349\u001b[0m \u001b[38;5;28;43mself\u001b[39;49m\u001b[38;5;241;43m.\u001b[39;49m\u001b[43mendheaders\u001b[49m\u001b[43m(\u001b[49m\u001b[43mbody\u001b[49m\u001b[43m,\u001b[49m\u001b[43m \u001b[49m\u001b[43mencode_chunked\u001b[49m\u001b[38;5;241;43m=\u001b[39;49m\u001b[43mencode_chunked\u001b[49m\u001b[43m)\u001b[49m\n",
      "File \u001b[0;32m/opt/conda/lib/python3.11/http/client.py:1298\u001b[0m, in \u001b[0;36mHTTPConnection.endheaders\u001b[0;34m(self, message_body, encode_chunked)\u001b[0m\n\u001b[1;32m   1297\u001b[0m     \u001b[38;5;28;01mraise\u001b[39;00m CannotSendHeader()\n\u001b[0;32m-> 1298\u001b[0m \u001b[38;5;28;43mself\u001b[39;49m\u001b[38;5;241;43m.\u001b[39;49m\u001b[43m_send_output\u001b[49m\u001b[43m(\u001b[49m\u001b[43mmessage_body\u001b[49m\u001b[43m,\u001b[49m\u001b[43m \u001b[49m\u001b[43mencode_chunked\u001b[49m\u001b[38;5;241;43m=\u001b[39;49m\u001b[43mencode_chunked\u001b[49m\u001b[43m)\u001b[49m\n",
      "File \u001b[0;32m/opt/conda/lib/python3.11/http/client.py:1058\u001b[0m, in \u001b[0;36mHTTPConnection._send_output\u001b[0;34m(self, message_body, encode_chunked)\u001b[0m\n\u001b[1;32m   1057\u001b[0m \u001b[38;5;28;01mdel\u001b[39;00m \u001b[38;5;28mself\u001b[39m\u001b[38;5;241m.\u001b[39m_buffer[:]\n\u001b[0;32m-> 1058\u001b[0m \u001b[38;5;28;43mself\u001b[39;49m\u001b[38;5;241;43m.\u001b[39;49m\u001b[43msend\u001b[49m\u001b[43m(\u001b[49m\u001b[43mmsg\u001b[49m\u001b[43m)\u001b[49m\n\u001b[1;32m   1060\u001b[0m \u001b[38;5;28;01mif\u001b[39;00m message_body \u001b[38;5;129;01mis\u001b[39;00m \u001b[38;5;129;01mnot\u001b[39;00m \u001b[38;5;28;01mNone\u001b[39;00m:\n\u001b[1;32m   1061\u001b[0m \n\u001b[1;32m   1062\u001b[0m     \u001b[38;5;66;03m# create a consistent interface to message_body\u001b[39;00m\n",
      "File \u001b[0;32m/opt/conda/lib/python3.11/http/client.py:996\u001b[0m, in \u001b[0;36mHTTPConnection.send\u001b[0;34m(self, data)\u001b[0m\n\u001b[1;32m    995\u001b[0m \u001b[38;5;28;01mif\u001b[39;00m \u001b[38;5;28mself\u001b[39m\u001b[38;5;241m.\u001b[39mauto_open:\n\u001b[0;32m--> 996\u001b[0m     \u001b[38;5;28;43mself\u001b[39;49m\u001b[38;5;241;43m.\u001b[39;49m\u001b[43mconnect\u001b[49m\u001b[43m(\u001b[49m\u001b[43m)\u001b[49m\n\u001b[1;32m    997\u001b[0m \u001b[38;5;28;01melse\u001b[39;00m:\n",
      "File \u001b[0;32m/opt/conda/lib/python3.11/http/client.py:1468\u001b[0m, in \u001b[0;36mHTTPSConnection.connect\u001b[0;34m(self)\u001b[0m\n\u001b[1;32m   1466\u001b[0m \u001b[38;5;124m\"\u001b[39m\u001b[38;5;124mConnect to a host on a given (SSL) port.\u001b[39m\u001b[38;5;124m\"\u001b[39m\n\u001b[0;32m-> 1468\u001b[0m \u001b[38;5;28;43msuper\u001b[39;49m\u001b[43m(\u001b[49m\u001b[43m)\u001b[49m\u001b[38;5;241;43m.\u001b[39;49m\u001b[43mconnect\u001b[49m\u001b[43m(\u001b[49m\u001b[43m)\u001b[49m\n\u001b[1;32m   1470\u001b[0m \u001b[38;5;28;01mif\u001b[39;00m \u001b[38;5;28mself\u001b[39m\u001b[38;5;241m.\u001b[39m_tunnel_host:\n",
      "File \u001b[0;32m/opt/conda/lib/python3.11/http/client.py:962\u001b[0m, in \u001b[0;36mHTTPConnection.connect\u001b[0;34m(self)\u001b[0m\n\u001b[1;32m    961\u001b[0m sys\u001b[38;5;241m.\u001b[39maudit(\u001b[38;5;124m\"\u001b[39m\u001b[38;5;124mhttp.client.connect\u001b[39m\u001b[38;5;124m\"\u001b[39m, \u001b[38;5;28mself\u001b[39m, \u001b[38;5;28mself\u001b[39m\u001b[38;5;241m.\u001b[39mhost, \u001b[38;5;28mself\u001b[39m\u001b[38;5;241m.\u001b[39mport)\n\u001b[0;32m--> 962\u001b[0m \u001b[38;5;28mself\u001b[39m\u001b[38;5;241m.\u001b[39msock \u001b[38;5;241m=\u001b[39m \u001b[38;5;28;43mself\u001b[39;49m\u001b[38;5;241;43m.\u001b[39;49m\u001b[43m_create_connection\u001b[49m\u001b[43m(\u001b[49m\n\u001b[1;32m    963\u001b[0m \u001b[43m    \u001b[49m\u001b[43m(\u001b[49m\u001b[38;5;28;43mself\u001b[39;49m\u001b[38;5;241;43m.\u001b[39;49m\u001b[43mhost\u001b[49m\u001b[43m,\u001b[49m\u001b[38;5;28;43mself\u001b[39;49m\u001b[38;5;241;43m.\u001b[39;49m\u001b[43mport\u001b[49m\u001b[43m)\u001b[49m\u001b[43m,\u001b[49m\u001b[43m \u001b[49m\u001b[38;5;28;43mself\u001b[39;49m\u001b[38;5;241;43m.\u001b[39;49m\u001b[43mtimeout\u001b[49m\u001b[43m,\u001b[49m\u001b[43m \u001b[49m\u001b[38;5;28;43mself\u001b[39;49m\u001b[38;5;241;43m.\u001b[39;49m\u001b[43msource_address\u001b[49m\u001b[43m)\u001b[49m\n\u001b[1;32m    964\u001b[0m \u001b[38;5;66;03m# Might fail in OSs that don't implement TCP_NODELAY\u001b[39;00m\n",
      "File \u001b[0;32m/opt/conda/lib/python3.11/socket.py:863\u001b[0m, in \u001b[0;36mcreate_connection\u001b[0;34m(address, timeout, source_address, all_errors)\u001b[0m\n\u001b[1;32m    862\u001b[0m \u001b[38;5;28;01mif\u001b[39;00m \u001b[38;5;129;01mnot\u001b[39;00m all_errors:\n\u001b[0;32m--> 863\u001b[0m     \u001b[38;5;28;01mraise\u001b[39;00m exceptions[\u001b[38;5;241m0\u001b[39m]\n\u001b[1;32m    864\u001b[0m \u001b[38;5;28;01mraise\u001b[39;00m ExceptionGroup(\u001b[38;5;124m\"\u001b[39m\u001b[38;5;124mcreate_connection failed\u001b[39m\u001b[38;5;124m\"\u001b[39m, exceptions)\n",
      "File \u001b[0;32m/opt/conda/lib/python3.11/socket.py:848\u001b[0m, in \u001b[0;36mcreate_connection\u001b[0;34m(address, timeout, source_address, all_errors)\u001b[0m\n\u001b[1;32m    847\u001b[0m     sock\u001b[38;5;241m.\u001b[39mbind(source_address)\n\u001b[0;32m--> 848\u001b[0m \u001b[43msock\u001b[49m\u001b[38;5;241;43m.\u001b[39;49m\u001b[43mconnect\u001b[49m\u001b[43m(\u001b[49m\u001b[43msa\u001b[49m\u001b[43m)\u001b[49m\n\u001b[1;32m    849\u001b[0m \u001b[38;5;66;03m# Break explicitly a reference cycle\u001b[39;00m\n",
      "\u001b[0;31mOSError\u001b[0m: [Errno 101] Network is unreachable",
      "\nDuring handling of the above exception, another exception occurred:\n",
      "\u001b[0;31mURLError\u001b[0m                                  Traceback (most recent call last)",
      "Cell \u001b[0;32mIn[49], line 1\u001b[0m\n\u001b[0;32m----> 1\u001b[0m df_hydroperoxyacids \u001b[38;5;241m=\u001b[39m \u001b[43mpcp\u001b[49m\u001b[38;5;241;43m.\u001b[39;49m\u001b[43mget_compounds\u001b[49m\u001b[43m(\u001b[49m\u001b[38;5;124;43m'\u001b[39;49m\u001b[38;5;124;43mC(=O)OOH\u001b[39;49m\u001b[38;5;124;43m'\u001b[39;49m\u001b[43m,\u001b[49m\u001b[43m \u001b[49m\u001b[38;5;124;43m'\u001b[39;49m\u001b[38;5;124;43msmiles\u001b[39;49m\u001b[38;5;124;43m'\u001b[39;49m\u001b[43m,\u001b[49m\u001b[43m \u001b[49m\u001b[43msearchtype\u001b[49m\u001b[38;5;241;43m=\u001b[39;49m\u001b[38;5;124;43m'\u001b[39;49m\u001b[38;5;124;43msubstructure\u001b[39;49m\u001b[38;5;124;43m'\u001b[39;49m\u001b[43m,\u001b[49m\u001b[43m \u001b[49m\u001b[43mlistkey_count\u001b[49m\u001b[38;5;241;43m=\u001b[39;49m\u001b[38;5;241;43m5\u001b[39;49m\u001b[43m,\u001b[49m\u001b[43m \u001b[49m\u001b[43mas_dataframe\u001b[49m\u001b[38;5;241;43m=\u001b[39;49m\u001b[38;5;28;43;01mTrue\u001b[39;49;00m\u001b[43m)\u001b[49m\n\u001b[1;32m      3\u001b[0m df_hydroperoxyacids\n",
      "File \u001b[0;32m/opt/conda/lib/python3.11/site-packages/pubchempy.py:321\u001b[0m, in \u001b[0;36mget_compounds\u001b[0;34m(identifier, namespace, searchtype, as_dataframe, **kwargs)\u001b[0m\n\u001b[1;32m    312\u001b[0m \u001b[38;5;28;01mdef\u001b[39;00m \u001b[38;5;21mget_compounds\u001b[39m(identifier, namespace\u001b[38;5;241m=\u001b[39m\u001b[38;5;124m'\u001b[39m\u001b[38;5;124mcid\u001b[39m\u001b[38;5;124m'\u001b[39m, searchtype\u001b[38;5;241m=\u001b[39m\u001b[38;5;28;01mNone\u001b[39;00m, as_dataframe\u001b[38;5;241m=\u001b[39m\u001b[38;5;28;01mFalse\u001b[39;00m, \u001b[38;5;241m*\u001b[39m\u001b[38;5;241m*\u001b[39mkwargs):\n\u001b[1;32m    313\u001b[0m \u001b[38;5;250m    \u001b[39m\u001b[38;5;124;03m\"\"\"Retrieve the specified compound records from PubChem.\u001b[39;00m\n\u001b[1;32m    314\u001b[0m \n\u001b[1;32m    315\u001b[0m \u001b[38;5;124;03m    :param identifier: The compound identifier to use as a search query.\u001b[39;00m\n\u001b[0;32m   (...)\u001b[0m\n\u001b[1;32m    319\u001b[0m \u001b[38;5;124;03m                         :class:`~pandas.DataFrame` and return that.\u001b[39;00m\n\u001b[1;32m    320\u001b[0m \u001b[38;5;124;03m    \"\"\"\u001b[39;00m\n\u001b[0;32m--> 321\u001b[0m     results \u001b[38;5;241m=\u001b[39m \u001b[43mget_json\u001b[49m\u001b[43m(\u001b[49m\u001b[43midentifier\u001b[49m\u001b[43m,\u001b[49m\u001b[43m \u001b[49m\u001b[43mnamespace\u001b[49m\u001b[43m,\u001b[49m\u001b[43m \u001b[49m\u001b[43msearchtype\u001b[49m\u001b[38;5;241;43m=\u001b[39;49m\u001b[43msearchtype\u001b[49m\u001b[43m,\u001b[49m\u001b[43m \u001b[49m\u001b[38;5;241;43m*\u001b[39;49m\u001b[38;5;241;43m*\u001b[39;49m\u001b[43mkwargs\u001b[49m\u001b[43m)\u001b[49m\n\u001b[1;32m    322\u001b[0m     compounds \u001b[38;5;241m=\u001b[39m [Compound(r) \u001b[38;5;28;01mfor\u001b[39;00m r \u001b[38;5;129;01min\u001b[39;00m results[\u001b[38;5;124m'\u001b[39m\u001b[38;5;124mPC_Compounds\u001b[39m\u001b[38;5;124m'\u001b[39m]] \u001b[38;5;28;01mif\u001b[39;00m results \u001b[38;5;28;01melse\u001b[39;00m []\n\u001b[1;32m    323\u001b[0m     \u001b[38;5;28;01mif\u001b[39;00m as_dataframe:\n",
      "File \u001b[0;32m/opt/conda/lib/python3.11/site-packages/pubchempy.py:299\u001b[0m, in \u001b[0;36mget_json\u001b[0;34m(identifier, namespace, domain, operation, searchtype, **kwargs)\u001b[0m\n\u001b[1;32m    297\u001b[0m \u001b[38;5;250m\u001b[39m\u001b[38;5;124;03m\"\"\"Request wrapper that automatically parses JSON response and supresses NotFoundError.\"\"\"\u001b[39;00m\n\u001b[1;32m    298\u001b[0m \u001b[38;5;28;01mtry\u001b[39;00m:\n\u001b[0;32m--> 299\u001b[0m     \u001b[38;5;28;01mreturn\u001b[39;00m json\u001b[38;5;241m.\u001b[39mloads(\u001b[43mget\u001b[49m\u001b[43m(\u001b[49m\u001b[43midentifier\u001b[49m\u001b[43m,\u001b[49m\u001b[43m \u001b[49m\u001b[43mnamespace\u001b[49m\u001b[43m,\u001b[49m\u001b[43m \u001b[49m\u001b[43mdomain\u001b[49m\u001b[43m,\u001b[49m\u001b[43m \u001b[49m\u001b[43moperation\u001b[49m\u001b[43m,\u001b[49m\u001b[43m \u001b[49m\u001b[38;5;124;43m'\u001b[39;49m\u001b[38;5;124;43mJSON\u001b[39;49m\u001b[38;5;124;43m'\u001b[39;49m\u001b[43m,\u001b[49m\u001b[43m \u001b[49m\u001b[43msearchtype\u001b[49m\u001b[43m,\u001b[49m\u001b[43m \u001b[49m\u001b[38;5;241;43m*\u001b[39;49m\u001b[38;5;241;43m*\u001b[39;49m\u001b[43mkwargs\u001b[49m\u001b[43m)\u001b[49m\u001b[38;5;241m.\u001b[39mdecode())\n\u001b[1;32m    300\u001b[0m \u001b[38;5;28;01mexcept\u001b[39;00m NotFoundError \u001b[38;5;28;01mas\u001b[39;00m e:\n\u001b[1;32m    301\u001b[0m     log\u001b[38;5;241m.\u001b[39minfo(e)\n",
      "File \u001b[0;32m/opt/conda/lib/python3.11/site-packages/pubchempy.py:287\u001b[0m, in \u001b[0;36mget\u001b[0;34m(identifier, namespace, domain, operation, output, searchtype, **kwargs)\u001b[0m\n\u001b[1;32m    285\u001b[0m \u001b[38;5;28;01mwhile\u001b[39;00m \u001b[38;5;124m'\u001b[39m\u001b[38;5;124mWaiting\u001b[39m\u001b[38;5;124m'\u001b[39m \u001b[38;5;129;01min\u001b[39;00m status \u001b[38;5;129;01mand\u001b[39;00m \u001b[38;5;124m'\u001b[39m\u001b[38;5;124mListKey\u001b[39m\u001b[38;5;124m'\u001b[39m \u001b[38;5;129;01min\u001b[39;00m status[\u001b[38;5;124m'\u001b[39m\u001b[38;5;124mWaiting\u001b[39m\u001b[38;5;124m'\u001b[39m]:\n\u001b[1;32m    286\u001b[0m     time\u001b[38;5;241m.\u001b[39msleep(\u001b[38;5;241m2\u001b[39m)\n\u001b[0;32m--> 287\u001b[0m     response \u001b[38;5;241m=\u001b[39m \u001b[43mrequest\u001b[49m\u001b[43m(\u001b[49m\u001b[43midentifier\u001b[49m\u001b[43m,\u001b[49m\u001b[43m \u001b[49m\u001b[43mnamespace\u001b[49m\u001b[43m,\u001b[49m\u001b[43m \u001b[49m\u001b[43mdomain\u001b[49m\u001b[43m,\u001b[49m\u001b[43m \u001b[49m\u001b[43moperation\u001b[49m\u001b[43m,\u001b[49m\u001b[43m \u001b[49m\u001b[38;5;124;43m'\u001b[39;49m\u001b[38;5;124;43mJSON\u001b[39;49m\u001b[38;5;124;43m'\u001b[39;49m\u001b[43m,\u001b[49m\u001b[43m \u001b[49m\u001b[38;5;241;43m*\u001b[39;49m\u001b[38;5;241;43m*\u001b[39;49m\u001b[43mkwargs\u001b[49m\u001b[43m)\u001b[49m\u001b[38;5;241m.\u001b[39mread()\n\u001b[1;32m    288\u001b[0m     status \u001b[38;5;241m=\u001b[39m json\u001b[38;5;241m.\u001b[39mloads(response\u001b[38;5;241m.\u001b[39mdecode())\n\u001b[1;32m    289\u001b[0m \u001b[38;5;28;01mif\u001b[39;00m \u001b[38;5;129;01mnot\u001b[39;00m output \u001b[38;5;241m==\u001b[39m \u001b[38;5;124m'\u001b[39m\u001b[38;5;124mJSON\u001b[39m\u001b[38;5;124m'\u001b[39m:\n",
      "File \u001b[0;32m/opt/conda/lib/python3.11/site-packages/pubchempy.py:271\u001b[0m, in \u001b[0;36mrequest\u001b[0;34m(identifier, namespace, domain, operation, output, searchtype, **kwargs)\u001b[0m\n\u001b[1;32m    269\u001b[0m     log\u001b[38;5;241m.\u001b[39mdebug(\u001b[38;5;124m'\u001b[39m\u001b[38;5;124mRequest URL: \u001b[39m\u001b[38;5;132;01m%s\u001b[39;00m\u001b[38;5;124m'\u001b[39m, apiurl)\n\u001b[1;32m    270\u001b[0m     log\u001b[38;5;241m.\u001b[39mdebug(\u001b[38;5;124m'\u001b[39m\u001b[38;5;124mRequest data: \u001b[39m\u001b[38;5;132;01m%s\u001b[39;00m\u001b[38;5;124m'\u001b[39m, postdata)\n\u001b[0;32m--> 271\u001b[0m     response \u001b[38;5;241m=\u001b[39m \u001b[43murlopen\u001b[49m\u001b[43m(\u001b[49m\u001b[43mapiurl\u001b[49m\u001b[43m,\u001b[49m\u001b[43m \u001b[49m\u001b[43mpostdata\u001b[49m\u001b[43m)\u001b[49m\n\u001b[1;32m    272\u001b[0m     \u001b[38;5;28;01mreturn\u001b[39;00m response\n\u001b[1;32m    273\u001b[0m \u001b[38;5;28;01mexcept\u001b[39;00m HTTPError \u001b[38;5;28;01mas\u001b[39;00m e:\n",
      "File \u001b[0;32m/opt/conda/lib/python3.11/urllib/request.py:216\u001b[0m, in \u001b[0;36murlopen\u001b[0;34m(url, data, timeout, cafile, capath, cadefault, context)\u001b[0m\n\u001b[1;32m    214\u001b[0m \u001b[38;5;28;01melse\u001b[39;00m:\n\u001b[1;32m    215\u001b[0m     opener \u001b[38;5;241m=\u001b[39m _opener\n\u001b[0;32m--> 216\u001b[0m \u001b[38;5;28;01mreturn\u001b[39;00m \u001b[43mopener\u001b[49m\u001b[38;5;241;43m.\u001b[39;49m\u001b[43mopen\u001b[49m\u001b[43m(\u001b[49m\u001b[43murl\u001b[49m\u001b[43m,\u001b[49m\u001b[43m \u001b[49m\u001b[43mdata\u001b[49m\u001b[43m,\u001b[49m\u001b[43m \u001b[49m\u001b[43mtimeout\u001b[49m\u001b[43m)\u001b[49m\n",
      "File \u001b[0;32m/opt/conda/lib/python3.11/urllib/request.py:519\u001b[0m, in \u001b[0;36mOpenerDirector.open\u001b[0;34m(self, fullurl, data, timeout)\u001b[0m\n\u001b[1;32m    516\u001b[0m     req \u001b[38;5;241m=\u001b[39m meth(req)\n\u001b[1;32m    518\u001b[0m sys\u001b[38;5;241m.\u001b[39maudit(\u001b[38;5;124m'\u001b[39m\u001b[38;5;124murllib.Request\u001b[39m\u001b[38;5;124m'\u001b[39m, req\u001b[38;5;241m.\u001b[39mfull_url, req\u001b[38;5;241m.\u001b[39mdata, req\u001b[38;5;241m.\u001b[39mheaders, req\u001b[38;5;241m.\u001b[39mget_method())\n\u001b[0;32m--> 519\u001b[0m response \u001b[38;5;241m=\u001b[39m \u001b[38;5;28;43mself\u001b[39;49m\u001b[38;5;241;43m.\u001b[39;49m\u001b[43m_open\u001b[49m\u001b[43m(\u001b[49m\u001b[43mreq\u001b[49m\u001b[43m,\u001b[49m\u001b[43m \u001b[49m\u001b[43mdata\u001b[49m\u001b[43m)\u001b[49m\n\u001b[1;32m    521\u001b[0m \u001b[38;5;66;03m# post-process response\u001b[39;00m\n\u001b[1;32m    522\u001b[0m meth_name \u001b[38;5;241m=\u001b[39m protocol\u001b[38;5;241m+\u001b[39m\u001b[38;5;124m\"\u001b[39m\u001b[38;5;124m_response\u001b[39m\u001b[38;5;124m\"\u001b[39m\n",
      "File \u001b[0;32m/opt/conda/lib/python3.11/urllib/request.py:536\u001b[0m, in \u001b[0;36mOpenerDirector._open\u001b[0;34m(self, req, data)\u001b[0m\n\u001b[1;32m    533\u001b[0m     \u001b[38;5;28;01mreturn\u001b[39;00m result\n\u001b[1;32m    535\u001b[0m protocol \u001b[38;5;241m=\u001b[39m req\u001b[38;5;241m.\u001b[39mtype\n\u001b[0;32m--> 536\u001b[0m result \u001b[38;5;241m=\u001b[39m \u001b[38;5;28;43mself\u001b[39;49m\u001b[38;5;241;43m.\u001b[39;49m\u001b[43m_call_chain\u001b[49m\u001b[43m(\u001b[49m\u001b[38;5;28;43mself\u001b[39;49m\u001b[38;5;241;43m.\u001b[39;49m\u001b[43mhandle_open\u001b[49m\u001b[43m,\u001b[49m\u001b[43m \u001b[49m\u001b[43mprotocol\u001b[49m\u001b[43m,\u001b[49m\u001b[43m \u001b[49m\u001b[43mprotocol\u001b[49m\u001b[43m \u001b[49m\u001b[38;5;241;43m+\u001b[39;49m\n\u001b[1;32m    537\u001b[0m \u001b[43m                          \u001b[49m\u001b[38;5;124;43m'\u001b[39;49m\u001b[38;5;124;43m_open\u001b[39;49m\u001b[38;5;124;43m'\u001b[39;49m\u001b[43m,\u001b[49m\u001b[43m \u001b[49m\u001b[43mreq\u001b[49m\u001b[43m)\u001b[49m\n\u001b[1;32m    538\u001b[0m \u001b[38;5;28;01mif\u001b[39;00m result:\n\u001b[1;32m    539\u001b[0m     \u001b[38;5;28;01mreturn\u001b[39;00m result\n",
      "File \u001b[0;32m/opt/conda/lib/python3.11/urllib/request.py:496\u001b[0m, in \u001b[0;36mOpenerDirector._call_chain\u001b[0;34m(self, chain, kind, meth_name, *args)\u001b[0m\n\u001b[1;32m    494\u001b[0m \u001b[38;5;28;01mfor\u001b[39;00m handler \u001b[38;5;129;01min\u001b[39;00m handlers:\n\u001b[1;32m    495\u001b[0m     func \u001b[38;5;241m=\u001b[39m \u001b[38;5;28mgetattr\u001b[39m(handler, meth_name)\n\u001b[0;32m--> 496\u001b[0m     result \u001b[38;5;241m=\u001b[39m \u001b[43mfunc\u001b[49m\u001b[43m(\u001b[49m\u001b[38;5;241;43m*\u001b[39;49m\u001b[43margs\u001b[49m\u001b[43m)\u001b[49m\n\u001b[1;32m    497\u001b[0m     \u001b[38;5;28;01mif\u001b[39;00m result \u001b[38;5;129;01mis\u001b[39;00m \u001b[38;5;129;01mnot\u001b[39;00m \u001b[38;5;28;01mNone\u001b[39;00m:\n\u001b[1;32m    498\u001b[0m         \u001b[38;5;28;01mreturn\u001b[39;00m result\n",
      "File \u001b[0;32m/opt/conda/lib/python3.11/urllib/request.py:1391\u001b[0m, in \u001b[0;36mHTTPSHandler.https_open\u001b[0;34m(self, req)\u001b[0m\n\u001b[1;32m   1390\u001b[0m \u001b[38;5;28;01mdef\u001b[39;00m \u001b[38;5;21mhttps_open\u001b[39m(\u001b[38;5;28mself\u001b[39m, req):\n\u001b[0;32m-> 1391\u001b[0m     \u001b[38;5;28;01mreturn\u001b[39;00m \u001b[38;5;28;43mself\u001b[39;49m\u001b[38;5;241;43m.\u001b[39;49m\u001b[43mdo_open\u001b[49m\u001b[43m(\u001b[49m\u001b[43mhttp\u001b[49m\u001b[38;5;241;43m.\u001b[39;49m\u001b[43mclient\u001b[49m\u001b[38;5;241;43m.\u001b[39;49m\u001b[43mHTTPSConnection\u001b[49m\u001b[43m,\u001b[49m\u001b[43m \u001b[49m\u001b[43mreq\u001b[49m\u001b[43m,\u001b[49m\n\u001b[1;32m   1392\u001b[0m \u001b[43m        \u001b[49m\u001b[43mcontext\u001b[49m\u001b[38;5;241;43m=\u001b[39;49m\u001b[38;5;28;43mself\u001b[39;49m\u001b[38;5;241;43m.\u001b[39;49m\u001b[43m_context\u001b[49m\u001b[43m,\u001b[49m\u001b[43m \u001b[49m\u001b[43mcheck_hostname\u001b[49m\u001b[38;5;241;43m=\u001b[39;49m\u001b[38;5;28;43mself\u001b[39;49m\u001b[38;5;241;43m.\u001b[39;49m\u001b[43m_check_hostname\u001b[49m\u001b[43m)\u001b[49m\n",
      "File \u001b[0;32m/opt/conda/lib/python3.11/urllib/request.py:1351\u001b[0m, in \u001b[0;36mAbstractHTTPHandler.do_open\u001b[0;34m(self, http_class, req, **http_conn_args)\u001b[0m\n\u001b[1;32m   1348\u001b[0m         h\u001b[38;5;241m.\u001b[39mrequest(req\u001b[38;5;241m.\u001b[39mget_method(), req\u001b[38;5;241m.\u001b[39mselector, req\u001b[38;5;241m.\u001b[39mdata, headers,\n\u001b[1;32m   1349\u001b[0m                   encode_chunked\u001b[38;5;241m=\u001b[39mreq\u001b[38;5;241m.\u001b[39mhas_header(\u001b[38;5;124m'\u001b[39m\u001b[38;5;124mTransfer-encoding\u001b[39m\u001b[38;5;124m'\u001b[39m))\n\u001b[1;32m   1350\u001b[0m     \u001b[38;5;28;01mexcept\u001b[39;00m \u001b[38;5;167;01mOSError\u001b[39;00m \u001b[38;5;28;01mas\u001b[39;00m err: \u001b[38;5;66;03m# timeout error\u001b[39;00m\n\u001b[0;32m-> 1351\u001b[0m         \u001b[38;5;28;01mraise\u001b[39;00m URLError(err)\n\u001b[1;32m   1352\u001b[0m     r \u001b[38;5;241m=\u001b[39m h\u001b[38;5;241m.\u001b[39mgetresponse()\n\u001b[1;32m   1353\u001b[0m \u001b[38;5;28;01mexcept\u001b[39;00m:\n",
      "\u001b[0;31mURLError\u001b[0m: <urlopen error [Errno 101] Network is unreachable>"
     ]
    }
   ],
   "source": [
    "df_hydroperoxyacids = pcp.get_compounds('C(=O)OOH', 'smiles', searchtype='substructure', listkey_count=5, as_dataframe=True)\n",
    "\n",
    "df_hydroperoxyacids"
   ]
  },
  {
   "cell_type": "markdown",
   "id": "39881499-d821-428b-b2f2-65fd340d07b7",
   "metadata": {},
   "source": [
    "### 2.4.2 ChemSpiPy"
   ]
  },
  {
   "cell_type": "markdown",
   "id": "a0fb841a-65a7-4d74-a809-b83c763166a7",
   "metadata": {},
   "source": [
    "As an alternative let's look at ChemSpiPy and see how it works:"
   ]
  },
  {
   "cell_type": "code",
   "execution_count": null,
   "id": "918dec34-db8e-411a-8c31-0e2b92c5eb51",
   "metadata": {},
   "outputs": [],
   "source": [
    "from chemspipy import ChemSpider"
   ]
  },
  {
   "cell_type": "markdown",
   "id": "b04555e4-f7e5-414a-8f3b-2d720d22a108",
   "metadata": {},
   "source": [
    "Here we introduce a new method of importing certain classes or functions from a module indvidually. \n",
    "\n",
    "The statement `from xy import z` allows to import specific subsets of a module and it gets assigned to the global namespace, i.e. it is from now on directly available:"
   ]
  },
  {
   "cell_type": "code",
   "execution_count": null,
   "id": "95391302-6d90-432d-9582-049947d8521e",
   "metadata": {},
   "outputs": [],
   "source": [
    "print(globals())"
   ]
  },
  {
   "cell_type": "markdown",
   "id": "f050800c-cb72-499a-b66a-faaf1dc7d376",
   "metadata": {},
   "source": [
    "However, ChemSpider requires an account at the [RSC developer website](https://developer.rsc.org/) to access the database via `chemspipy`. \n",
    "\n",
    "If you create an account there (for free) you'll obtain an API-Key which needs to be used whenever you access the database, i.e. create an instance of the API when calling the main constructor of the python package:"
   ]
  },
  {
   "cell_type": "code",
   "execution_count": null,
   "id": "06c65ae0-3b25-4433-b4ca-2d54dda7aed4",
   "metadata": {},
   "outputs": [],
   "source": [
    "cs = ChemSpider(\"WonK1JfMzW9uLtIZCBohy3p0eyTsiwSW1ndAGEHp\")"
   ]
  },
  {
   "cell_type": "markdown",
   "id": "2c55b522-ebfe-4ad1-969f-37d2b64deacb",
   "metadata": {},
   "source": [
    "ChemSpPy works very similar like PubChemPy: The core objects are compounds, which contain the information/properties related to them.\n",
    "\n",
    "But - as expected - the synatx is slightly different: The main query to the database is not via `get_compounds` or `get_properties` as in PubChemPy, but through the method [`search()`](https://chemspipy.readthedocs.io/en/stable/api.html#chemspipy.api.ChemSpider.search):"
   ]
  },
  {
   "cell_type": "code",
   "execution_count": null,
   "id": "ced4f404-940d-447a-8a1a-e6ee2704d08b",
   "metadata": {},
   "outputs": [],
   "source": [
    "compounds = cs.search('toluene')\n",
    "\n",
    "for c in compounds:\n",
    "    print(c)"
   ]
  },
  {
   "cell_type": "markdown",
   "id": "b64432bb-1f0c-41cc-b87e-8d06685579df",
   "metadata": {},
   "source": [
    "So for the simple name toluene the database has many entries. The advantage of ChemSpiPy is that it is very easy to get an idea whether we have obtained the compund we were looking for, because if we just call that compound, it will display the potentially stored image of the structure of that compound."
   ]
  },
  {
   "cell_type": "code",
   "execution_count": null,
   "id": "1dd7fb13-0656-468c-a534-a9ec14e58c2a",
   "metadata": {},
   "outputs": [],
   "source": [
    "compounds[0]"
   ]
  },
  {
   "cell_type": "markdown",
   "id": "73358b4f-55a2-4a50-bd51-3429edb9aeff",
   "metadata": {},
   "source": [
    "Similar to PubChemPy, all other properties of a compound can be accessed by directly calling the respective property:"
   ]
  },
  {
   "cell_type": "code",
   "execution_count": null,
   "id": "6a8dfe1a-29af-4254-aeee-cfed2eda661d",
   "metadata": {},
   "outputs": [],
   "source": [
    "compounds[0].monoisotopic_mass"
   ]
  },
  {
   "cell_type": "code",
   "execution_count": null,
   "id": "6e715890-eab0-42b1-ac0a-b6be56aec68a",
   "metadata": {},
   "outputs": [],
   "source": [
    "compounds[0].smiles"
   ]
  },
  {
   "cell_type": "markdown",
   "id": "9842ed6e-ef6a-42ea-95f4-19f728e695ab",
   "metadata": {},
   "source": [
    "Again, ChemSpiPy is very limited in the way we can perform requests to the database, i.e. searching for compounds by their properties (and in the case of ChemSpiPy even a substructure search using smiles strings is not possible). However, if a compound is known to the user, its properties are quickly retrieved."
   ]
  },
  {
   "cell_type": "markdown",
   "id": "43b91763-791e-4f4a-ae09-2a8ab7d17ee9",
   "metadata": {},
   "source": [
    "### 2.4.3 NistChemPy\n",
    "\n",
    "Let's quickly explore also NistChemPy (nist). \n",
    "\n",
    "Here the basic function is called `nist.run_search()`"
   ]
  },
  {
   "cell_type": "code",
   "execution_count": null,
   "id": "fdc4e61d-e055-46ef-9264-2d2089a46144",
   "metadata": {},
   "outputs": [],
   "source": [
    "import nistchempy as nist\n",
    "\n",
    "s = nist.run_search(identifier = 'toluene', search_type = 'name')\n",
    "s.compounds[0]"
   ]
  },
  {
   "cell_type": "code",
   "execution_count": null,
   "id": "fa594fcb-9577-4724-a92e-3455a5fd09d2",
   "metadata": {},
   "outputs": [],
   "source": [
    "s.compounds[0].__dict__"
   ]
  },
  {
   "cell_type": "code",
   "execution_count": null,
   "id": "0e0b4800-efa2-4aa7-b96c-449e835d5b48",
   "metadata": {},
   "outputs": [],
   "source": [
    "s.compounds[0].mol_weight"
   ]
  },
  {
   "cell_type": "markdown",
   "id": "ce44daba-04e2-4a0c-9422-db714aa338cd",
   "metadata": {},
   "source": [
    "However, many compound properties available in the NIST webbook, such as thermochemistry data, phase change data, etc. are not directly accessible, but just there respective URLs are given. "
   ]
  },
  {
   "cell_type": "markdown",
   "id": "7bd0d211-33cf-404f-9ff9-2f1a4262bf21",
   "metadata": {},
   "source": [
    "### 2.4.4 Web scrapping"
   ]
  },
  {
   "cell_type": "markdown",
   "id": "f3b875c2-3edc-4559-8e87-b1299a5a830d",
   "metadata": {},
   "source": [
    "We have seen that the modules PubChemPy, ChemSpiPy and NistChemPy are nice to retrieve basic information of known compounds but cannot make full use of the databases. They do not provide decent tools to search across the database apart from molecular names and identifiers and they do not provide all properties stored in these databases. To solve these problems we need to dive into [web scrapping](https://en.wikipedia.org/wiki/Web_scraping) as long as we are dealing with public databases (not e.g., Elsevier reaxys)."
   ]
  },
  {
   "cell_type": "markdown",
   "id": "8a9feb23-1377-4025-ba70-14b4d92fc837",
   "metadata": {},
   "source": [
    "Web scraping uses the librarys `requests` to run web requests with a known URL and `BeautifulSoup` to read out *html*. Feels like hacking but is okay for public databases (Elsevier restricts you from doing that on reaxys).  "
   ]
  },
  {
   "cell_type": "markdown",
   "id": "773cc405-d796-414b-adf9-5df448652798",
   "metadata": {},
   "source": [
    "Let's retrieve the URL of the Phase-Change data of a substance via NistChemPy:"
   ]
  },
  {
   "cell_type": "code",
   "execution_count": null,
   "id": "f10082a5-a478-498d-b60a-de790cc38a26",
   "metadata": {},
   "outputs": [],
   "source": [
    "import nistchempy as nist\n",
    "\n",
    "\n",
    "s = nist.run_search(identifier = 'toluene' , search_type = 'name')\n",
    "cTP_url = s.compounds[0].data_refs['cTP']\n",
    "cTP_url"
   ]
  },
  {
   "cell_type": "markdown",
   "id": "a02ea544-4e86-4b5c-9c56-e13664a56a72",
   "metadata": {},
   "source": [
    "We quickly walk through this example on how to scrap a boiling point from that URL.\n",
    "\n",
    "A web request with `request` will basically \"open\" that URl for you in python. The response contains the HTML source code of that website:"
   ]
  },
  {
   "cell_type": "code",
   "execution_count": null,
   "id": "7a98642f-8ee3-49f1-b734-0cd08d65e223",
   "metadata": {},
   "outputs": [],
   "source": [
    "response = requests.get(cTP_url)\n",
    "\n",
    "response.text"
   ]
  },
  {
   "cell_type": "markdown",
   "id": "5b4086e0-5a82-4cda-a4b6-4ab54478870c",
   "metadata": {},
   "source": [
    "`BeautifulSoup` helps us to disentengle that html code and provides capabilities to scan the html for html objects like tables:"
   ]
  },
  {
   "cell_type": "code",
   "execution_count": null,
   "id": "4048d2ee-21b6-4631-936b-565c256e2a8e",
   "metadata": {},
   "outputs": [],
   "source": [
    "soup = BeautifulSoup(response.text, \"html.parser\")\n",
    "\n",
    "tables = soup.find_all(\"table\")\n",
    "\n",
    "tables[0]"
   ]
  },
  {
   "cell_type": "markdown",
   "id": "4d2856b0-70e0-4077-ba28-62900faa2199",
   "metadata": {},
   "source": [
    "Iterating over the table rows is done by looking for the html table row symbol `</tr>`:"
   ]
  },
  {
   "cell_type": "code",
   "execution_count": null,
   "id": "ad135beb-8da9-4535-b863-c3aeb6cf2777",
   "metadata": {},
   "outputs": [],
   "source": [
    "rows = tables[0].find_all(\"tr\")\n",
    "rows"
   ]
  },
  {
   "cell_type": "markdown",
   "id": "8644a1d8-deb9-4a0e-b340-c35341df9532",
   "metadata": {},
   "source": [
    "Last identfying the columns of the table (html key `</td>`:"
   ]
  },
  {
   "cell_type": "code",
   "execution_count": null,
   "id": "e9c27abd-fc46-43ca-881f-b73e539a60e9",
   "metadata": {},
   "outputs": [],
   "source": [
    "for row in rows:\n",
    "    columns = row.find_all(\"td\")\n",
    "    print(columns)"
   ]
  },
  {
   "cell_type": "markdown",
   "id": "ede65e4f-5ba0-4712-8e40-076e95e04cd0",
   "metadata": {},
   "source": [
    "And then we are there: `T<sub>boil</sub>` is in the first column and the value is right next to it. Let's scarp it (careful with the empty columns):"
   ]
  },
  {
   "cell_type": "code",
   "execution_count": null,
   "id": "69ad8431-34a8-42c8-8790-02bbaba355f9",
   "metadata": {},
   "outputs": [],
   "source": [
    "for row in rows:\n",
    "    columns = row.find_all(\"td\")\n",
    "\n",
    "    if len(columns) >= 2:  # Ensure it's a valid row with at least two columns\n",
    "        property_name = columns[0].text.strip()\n",
    "        value = columns[1].text.strip()\n",
    "                \n",
    "        if \"Tboil\" in property_name:\n",
    "            print(value)"
   ]
  },
  {
   "cell_type": "markdown",
   "id": "e202895f-1588-4169-9865-94923808d637",
   "metadata": {},
   "source": [
    "Putting everything together into one function:"
   ]
  },
  {
   "cell_type": "code",
   "execution_count": null,
   "id": "75a5fdaa-1c58-4104-b664-fa2d6bb3edf1",
   "metadata": {},
   "outputs": [],
   "source": [
    "import requests\n",
    "from bs4 import BeautifulSoup\n",
    "\n",
    "def get_boiling_point(cTP_url):\n",
    "    \n",
    "    # Send HTTP GET request to fetch the page\n",
    "    response = requests.get(cTP_url)\n",
    "\n",
    "    # Parse the HTML content using BeautifulSoup\n",
    "    soup = BeautifulSoup(response.text, \"html.parser\")\n",
    "\n",
    "    # Locate the table containing phase change data\n",
    "    tables = soup.find_all(\"table\")\n",
    "\n",
    "    for table in tables:\n",
    "        rows = table.find_all(\"tr\")\n",
    "        for row in rows:\n",
    "            columns = row.find_all(\"td\")\n",
    "\n",
    "            if len(columns) >= 2:  # Ensure it's a valid row with at least two columns\n",
    "                property_name = columns[0].text.strip()\n",
    "                value = columns[1].text.strip()\n",
    "                \n",
    "                if \"Tboil\" in property_name:\n",
    "                    return value\n",
    "    return None\n",
    "\n",
    "\n",
    "get_boiling_point(cTP_url)"
   ]
  },
  {
   "cell_type": "markdown",
   "id": "25ba7383-c6ac-412d-94ba-5e70fb23044a",
   "metadata": {},
   "source": [
    "We successfully hacked the web!"
   ]
  },
  {
   "cell_type": "markdown",
   "id": "be1d6a61-81b3-4b81-82ad-8bc7803c9b91",
   "metadata": {},
   "source": [
    "## 2.5 Cheminformatics using rdkit"
   ]
  },
  {
   "cell_type": "markdown",
   "id": "2d402a4a-d68a-4ca4-bf2b-c8233359cf7c",
   "metadata": {},
   "source": [
    "Now we have seen that we can data from public databases quite easily with python. However, the data output of these databases are objects of classes representing compounds with a couple of properties and the python modules to access these databases do not provide in-depth chemistry, which would allow us to inspect the molecules further (PubChemPy and NistChemPy do not even provide any visual representation of the molecules). Furthermore, the properties need to be listed in the database and missing values (even if it is such an easy thing like number of heavy atoms, or the number of heteroatoms, etc.)\n",
    "\n",
    "A package which handles this on the flight is [`rdkit`](https://www.rdkit.org/):"
   ]
  },
  {
   "cell_type": "code",
   "execution_count": 50,
   "id": "b35a8704-9466-4e67-8a47-cacc39a3fa93",
   "metadata": {},
   "outputs": [],
   "source": [
    "from rdkit import Chem\n",
    "from rdkit.Chem.Draw import IPythonConsole"
   ]
  },
  {
   "cell_type": "markdown",
   "id": "efdd6694-6a04-4152-bead-504949364162",
   "metadata": {},
   "source": [
    "If we have for example a smiles string from some database available we can create the moelcule within rdkit: "
   ]
  },
  {
   "cell_type": "code",
   "execution_count": 51,
   "id": "fd83aa7c-bfb5-4174-a91a-9ed8d03d5c44",
   "metadata": {},
   "outputs": [
    {
     "data": {
      "image/png": "[encoded data removed]",
      "text/plain": [
       "<rdkit.Chem.rdchem.Mol at 0x7f04a2f3a420>"
      ]
     },
     "execution_count": 51,
     "metadata": {},
     "output_type": "execute_result"
    }
   ],
   "source": [
    "import pubchempy as pcp\n",
    "\n",
    "found_compounds = pcp.get_compounds(vap_press.loc[50, 'CAS'], 'name')\n",
    "smiles = found_compounds[0].isomeric_smiles\n",
    "\n",
    "mol = Chem.MolFromSmiles(smiles)\n",
    "\n",
    "mol"
   ]
  },
  {
   "cell_type": "markdown",
   "id": "422e70de-b1f6-446e-bdcb-ac03788bc51f",
   "metadata": {},
   "source": [
    "We see that `rdkit` is able to draw the molecules for us. \n",
    "\n",
    "That way we can also easily produce figures which show several 2D strcutures. Let's make one for the four molecules with the lowest vapor pressure in the dataset. \n",
    "\n",
    "First, we sort our `pd.DataFrame` using the [`pd.DataFrame.sort_values()`](https://pandas.pydata.org/docs/reference/api/pandas.DataFrame.sort_values.html) method:"
   ]
  },
  {
   "cell_type": "code",
   "execution_count": 52,
   "id": "f17170ce-5e81-4b7e-869e-27e3bed92bf3",
   "metadata": {},
   "outputs": [
    {
     "data": {
      "text/html": [
       "<div>\n",
       "<style scoped>\n",
       "    .dataframe tbody tr th:only-of-type {\n",
       "        vertical-align: middle;\n",
       "    }\n",
       "\n",
       "    .dataframe tbody tr th {\n",
       "        vertical-align: top;\n",
       "    }\n",
       "\n",
       "    .dataframe thead th {\n",
       "        text-align: right;\n",
       "    }\n",
       "</style>\n",
       "<table border=\"1\" class=\"dataframe\">\n",
       "  <thead>\n",
       "    <tr style=\"text-align: right;\">\n",
       "      <th></th>\n",
       "      <th>Name</th>\n",
       "      <th>CAS</th>\n",
       "      <th>Sum Formula</th>\n",
       "      <th>P [bar] at 300 K</th>\n",
       "      <th>C</th>\n",
       "      <th>H</th>\n",
       "      <th>O</th>\n",
       "      <th>M [g mol-1]</th>\n",
       "      <th>group</th>\n",
       "    </tr>\n",
       "  </thead>\n",
       "  <tbody>\n",
       "    <tr>\n",
       "      <th>0</th>\n",
       "      <td>1-Octanol</td>\n",
       "      <td>111-87-5</td>\n",
       "      <td>C8H18O</td>\n",
       "      <td>0.000130</td>\n",
       "      <td>8</td>\n",
       "      <td>18</td>\n",
       "      <td>1</td>\n",
       "      <td>130.2310</td>\n",
       "      <td>alcohol</td>\n",
       "    </tr>\n",
       "    <tr>\n",
       "      <th>1</th>\n",
       "      <td>Pentanoic acid</td>\n",
       "      <td>109-52-4</td>\n",
       "      <td>C5H10O2</td>\n",
       "      <td>0.000278</td>\n",
       "      <td>5</td>\n",
       "      <td>10</td>\n",
       "      <td>2</td>\n",
       "      <td>102.1330</td>\n",
       "      <td>acid</td>\n",
       "    </tr>\n",
       "    <tr>\n",
       "      <th>2</th>\n",
       "      <td>Cycloheptanol</td>\n",
       "      <td>502-41-0</td>\n",
       "      <td>C7H14O</td>\n",
       "      <td>0.000328</td>\n",
       "      <td>7</td>\n",
       "      <td>14</td>\n",
       "      <td>1</td>\n",
       "      <td>114.1880</td>\n",
       "      <td>carbonyl</td>\n",
       "    </tr>\n",
       "    <tr>\n",
       "      <th>3</th>\n",
       "      <td>2-Octanol</td>\n",
       "      <td>123-96-6</td>\n",
       "      <td>C8H18O</td>\n",
       "      <td>0.000377</td>\n",
       "      <td>8</td>\n",
       "      <td>18</td>\n",
       "      <td>1</td>\n",
       "      <td>130.2310</td>\n",
       "      <td>alcohol</td>\n",
       "    </tr>\n",
       "    <tr>\n",
       "      <th>4</th>\n",
       "      <td>1-Heptanol</td>\n",
       "      <td>111-70-6</td>\n",
       "      <td>C7H16O</td>\n",
       "      <td>0.000389</td>\n",
       "      <td>7</td>\n",
       "      <td>16</td>\n",
       "      <td>1</td>\n",
       "      <td>116.2040</td>\n",
       "      <td>alcohol</td>\n",
       "    </tr>\n",
       "    <tr>\n",
       "      <th>...</th>\n",
       "      <td>...</td>\n",
       "      <td>...</td>\n",
       "      <td>...</td>\n",
       "      <td>...</td>\n",
       "      <td>...</td>\n",
       "      <td>...</td>\n",
       "      <td>...</td>\n",
       "      <td>...</td>\n",
       "      <td>...</td>\n",
       "    </tr>\n",
       "    <tr>\n",
       "      <th>90</th>\n",
       "      <td>Neopentane</td>\n",
       "      <td>463-82-1</td>\n",
       "      <td>C5H12</td>\n",
       "      <td>1.830000</td>\n",
       "      <td>5</td>\n",
       "      <td>12</td>\n",
       "      <td>0</td>\n",
       "      <td>72.1510</td>\n",
       "      <td>alkane</td>\n",
       "    </tr>\n",
       "    <tr>\n",
       "      <th>91</th>\n",
       "      <td>n-Butane</td>\n",
       "      <td>106-97-8</td>\n",
       "      <td>C4H10</td>\n",
       "      <td>2.576000</td>\n",
       "      <td>4</td>\n",
       "      <td>10</td>\n",
       "      <td>0</td>\n",
       "      <td>58.1240</td>\n",
       "      <td>alkane</td>\n",
       "    </tr>\n",
       "    <tr>\n",
       "      <th>92</th>\n",
       "      <td>Isobutane</td>\n",
       "      <td>75-28-5</td>\n",
       "      <td>C4H10</td>\n",
       "      <td>3.703000</td>\n",
       "      <td>4</td>\n",
       "      <td>10</td>\n",
       "      <td>0</td>\n",
       "      <td>58.1240</td>\n",
       "      <td>alkane</td>\n",
       "    </tr>\n",
       "    <tr>\n",
       "      <th>93</th>\n",
       "      <td>n-Propane</td>\n",
       "      <td>74-98-6</td>\n",
       "      <td>C3H8</td>\n",
       "      <td>9.999000</td>\n",
       "      <td>3</td>\n",
       "      <td>8</td>\n",
       "      <td>0</td>\n",
       "      <td>44.0970</td>\n",
       "      <td>alkane</td>\n",
       "    </tr>\n",
       "    <tr>\n",
       "      <th>94</th>\n",
       "      <td>1-Hexene</td>\n",
       "      <td>592-41-6</td>\n",
       "      <td>C6H12</td>\n",
       "      <td>NaN</td>\n",
       "      <td>6</td>\n",
       "      <td>12</td>\n",
       "      <td>0</td>\n",
       "      <td>84.1595</td>\n",
       "      <td>alkene</td>\n",
       "    </tr>\n",
       "  </tbody>\n",
       "</table>\n",
       "<p>95 rows × 9 columns</p>\n",
       "</div>"
      ],
      "text/plain": [
       "              Name       CAS Sum Formula  P [bar] at 300 K  C   H  O  \\\n",
       "0        1-Octanol  111-87-5      C8H18O          0.000130  8  18  1   \n",
       "1   Pentanoic acid  109-52-4     C5H10O2          0.000278  5  10  2   \n",
       "2    Cycloheptanol  502-41-0      C7H14O          0.000328  7  14  1   \n",
       "3        2-Octanol  123-96-6      C8H18O          0.000377  8  18  1   \n",
       "4       1-Heptanol  111-70-6      C7H16O          0.000389  7  16  1   \n",
       "..             ...       ...         ...               ... ..  .. ..   \n",
       "90      Neopentane  463-82-1       C5H12          1.830000  5  12  0   \n",
       "91        n-Butane  106-97-8       C4H10          2.576000  4  10  0   \n",
       "92       Isobutane   75-28-5       C4H10          3.703000  4  10  0   \n",
       "93       n-Propane   74-98-6        C3H8          9.999000  3   8  0   \n",
       "94        1-Hexene  592-41-6       C6H12               NaN  6  12  0   \n",
       "\n",
       "    M [g mol-1]     group  \n",
       "0      130.2310   alcohol  \n",
       "1      102.1330      acid  \n",
       "2      114.1880  carbonyl  \n",
       "3      130.2310   alcohol  \n",
       "4      116.2040   alcohol  \n",
       "..          ...       ...  \n",
       "90      72.1510    alkane  \n",
       "91      58.1240    alkane  \n",
       "92      58.1240    alkane  \n",
       "93      44.0970    alkane  \n",
       "94      84.1595    alkene  \n",
       "\n",
       "[95 rows x 9 columns]"
      ]
     },
     "execution_count": 52,
     "metadata": {},
     "output_type": "execute_result"
    }
   ],
   "source": [
    "sorted_vap_press = vap_press.sort_values('P [bar] at 300 K', ignore_index=True)\n",
    "sorted_vap_press"
   ]
  },
  {
   "cell_type": "markdown",
   "id": "1e8d5f5e-0eee-47ab-9d3c-299d165dc8ca",
   "metadata": {},
   "source": [
    "let's get the smiles of the first four molecules using `pubchempy`:"
   ]
  },
  {
   "cell_type": "code",
   "execution_count": 53,
   "id": "245e2bd7-4a40-4a49-a9fd-24f23cf03512",
   "metadata": {},
   "outputs": [
    {
     "data": {
      "text/plain": [
       "['CCCCCCCCO', 'CCCCC(=O)O', 'C1CCCC(CC1)O', 'CCCCCCC(C)O']"
      ]
     },
     "execution_count": 53,
     "metadata": {},
     "output_type": "execute_result"
    }
   ],
   "source": [
    "smiles = []\n",
    "mol_weight = []\n",
    "\n",
    "for i in range(4):\n",
    "    found_compounds = pcp.get_compounds(sorted_vap_press.loc[i, 'CAS'], 'name')\n",
    "    smiles.append(found_compounds[0].isomeric_smiles)\n",
    "    mol_weight.append(str(found_compounds[0].molecular_weight))\n",
    "\n",
    "smiles"
   ]
  },
  {
   "cell_type": "markdown",
   "id": "5adf43ab-6b2c-4e8c-8983-53ebb61e84b0",
   "metadata": {},
   "source": [
    "Creating the molecules using `rdkit`: "
   ]
  },
  {
   "cell_type": "code",
   "execution_count": 54,
   "id": "509e75c4-aca6-4fa2-bc63-42a541cffab2",
   "metadata": {},
   "outputs": [
    {
     "data": {
      "text/plain": [
       "[<rdkit.Chem.rdchem.Mol at 0x7f04a2f3a2d0>,\n",
       " <rdkit.Chem.rdchem.Mol at 0x7f04a2f3a340>,\n",
       " <rdkit.Chem.rdchem.Mol at 0x7f04a2f3a3b0>,\n",
       " <rdkit.Chem.rdchem.Mol at 0x7f04a2f3a6c0>]"
      ]
     },
     "execution_count": 54,
     "metadata": {},
     "output_type": "execute_result"
    }
   ],
   "source": [
    "substances = []\n",
    "\n",
    "for s in smiles:\n",
    "    mol = Chem.MolFromSmiles(s)\n",
    "    substances.append(mol)\n",
    "\n",
    "substances"
   ]
  },
  {
   "cell_type": "markdown",
   "id": "b90e00dc-deb5-4eef-a500-dcc6b6a19b0d",
   "metadata": {},
   "source": [
    "And creating a neat figure using [`rdkit.Chem.Draw.MolsToGridImage`](https://www.rdkit.org/docs/source/rdkit.Chem.Draw.html):"
   ]
  },
  {
   "cell_type": "code",
   "execution_count": 55,
   "id": "93c64e8e-c728-4e8c-9ac2-96cff085da56",
   "metadata": {},
   "outputs": [
    {
     "data": {
      "image/svg+xml": [
       "<svg xmlns=\"http://www.w3.org/2000/svg\" xmlns:rdkit=\"http://www.rdkit.org/xml\" xmlns:xlink=\"http://www.w3.org/1999/xlink\" version=\"1.1\" baseProfile=\"full\" xml:space=\"preserve\" width=\"400px\" height=\"400px\" viewBox=\"0 0 400 400\">\n",
       "<!-- END OF HEADER -->\n",
       "<rect style=\"opacity:1.0;fill:#FFFFFF;stroke:none\" width=\"200.0\" height=\"200.0\" x=\"0.0\" y=\"0.0\"> </rect>\n",
       "<path class=\"bond-0 atom-0 atom-1\" d=\"M 10.0,95.3 L 31.3,83.0\" style=\"fill:none;fill-rule:evenodd;stroke:#000000;stroke-width:2.0px;stroke-linecap:butt;stroke-linejoin:miter;stroke-opacity:1\"/>\n",
       "<path class=\"bond-1 atom-1 atom-2\" d=\"M 31.3,83.0 L 52.6,95.3\" style=\"fill:none;fill-rule:evenodd;stroke:#000000;stroke-width:2.0px;stroke-linecap:butt;stroke-linejoin:miter;stroke-opacity:1\"/>\n",
       "<path class=\"bond-2 atom-2 atom-3\" d=\"M 52.6,95.3 L 73.9,83.0\" style=\"fill:none;fill-rule:evenodd;stroke:#000000;stroke-width:2.0px;stroke-linecap:butt;stroke-linejoin:miter;stroke-opacity:1\"/>\n",
       "<path class=\"bond-3 atom-3 atom-4\" d=\"M 73.9,83.0 L 95.1,95.3\" style=\"fill:none;fill-rule:evenodd;stroke:#000000;stroke-width:2.0px;stroke-linecap:butt;stroke-linejoin:miter;stroke-opacity:1\"/>\n",
       "<path class=\"bond-4 atom-4 atom-5\" d=\"M 95.1,95.3 L 116.4,83.0\" style=\"fill:none;fill-rule:evenodd;stroke:#000000;stroke-width:2.0px;stroke-linecap:butt;stroke-linejoin:miter;stroke-opacity:1\"/>\n",
       "<path class=\"bond-5 atom-5 atom-6\" d=\"M 116.4,83.0 L 137.7,95.3\" style=\"fill:none;fill-rule:evenodd;stroke:#000000;stroke-width:2.0px;stroke-linecap:butt;stroke-linejoin:miter;stroke-opacity:1\"/>\n",
       "<path class=\"bond-6 atom-6 atom-7\" d=\"M 137.7,95.3 L 159.0,83.0\" style=\"fill:none;fill-rule:evenodd;stroke:#000000;stroke-width:2.0px;stroke-linecap:butt;stroke-linejoin:miter;stroke-opacity:1\"/>\n",
       "<path class=\"bond-7 atom-7 atom-8\" d=\"M 159.0,83.0 L 167.6,88.0\" style=\"fill:none;fill-rule:evenodd;stroke:#000000;stroke-width:2.0px;stroke-linecap:butt;stroke-linejoin:miter;stroke-opacity:1\"/>\n",
       "<path class=\"bond-7 atom-7 atom-8\" d=\"M 167.6,88.0 L 176.3,93.0\" style=\"fill:none;fill-rule:evenodd;stroke:#FF0000;stroke-width:2.0px;stroke-linecap:butt;stroke-linejoin:miter;stroke-opacity:1\"/>\n",
       "<path d=\"M 30.2,83.7 L 31.3,83.0 L 32.3,83.7\" style=\"fill:none;stroke:#000000;stroke-width:2.0px;stroke-linecap:butt;stroke-linejoin:miter;stroke-opacity:1;\"/>\n",
       "<path d=\"M 51.5,94.7 L 52.6,95.3 L 53.6,94.7\" style=\"fill:none;stroke:#000000;stroke-width:2.0px;stroke-linecap:butt;stroke-linejoin:miter;stroke-opacity:1;\"/>\n",
       "<path d=\"M 72.8,83.7 L 73.9,83.0 L 74.9,83.7\" style=\"fill:none;stroke:#000000;stroke-width:2.0px;stroke-linecap:butt;stroke-linejoin:miter;stroke-opacity:1;\"/>\n",
       "<path d=\"M 94.1,94.7 L 95.1,95.3 L 96.2,94.7\" style=\"fill:none;stroke:#000000;stroke-width:2.0px;stroke-linecap:butt;stroke-linejoin:miter;stroke-opacity:1;\"/>\n",
       "<path d=\"M 115.4,83.7 L 116.4,83.0 L 117.5,83.7\" style=\"fill:none;stroke:#000000;stroke-width:2.0px;stroke-linecap:butt;stroke-linejoin:miter;stroke-opacity:1;\"/>\n",
       "<path d=\"M 136.6,94.7 L 137.7,95.3 L 138.8,94.7\" style=\"fill:none;stroke:#000000;stroke-width:2.0px;stroke-linecap:butt;stroke-linejoin:miter;stroke-opacity:1;\"/>\n",
       "<path d=\"M 157.9,83.7 L 159.0,83.0 L 159.4,83.3\" style=\"fill:none;stroke:#000000;stroke-width:2.0px;stroke-linecap:butt;stroke-linejoin:miter;stroke-opacity:1;\"/>\n",
       "<path class=\"atom-8\" d=\"M 177.1 95.4 Q 177.1 93.7, 177.9 92.7 Q 178.7 91.8, 180.3 91.8 Q 181.8 91.8, 182.6 92.7 Q 183.5 93.7, 183.5 95.4 Q 183.5 97.0, 182.6 98.0 Q 181.8 99.0, 180.3 99.0 Q 178.7 99.0, 177.9 98.0 Q 177.1 97.1, 177.1 95.4 M 180.3 98.2 Q 181.3 98.2, 181.9 97.5 Q 182.5 96.7, 182.5 95.4 Q 182.5 94.0, 181.9 93.3 Q 181.3 92.6, 180.3 92.6 Q 179.2 92.6, 178.6 93.3 Q 178.1 94.0, 178.1 95.4 Q 178.1 96.8, 178.6 97.5 Q 179.2 98.2, 180.3 98.2 \" fill=\"#FF0000\"/>\n",
       "<path class=\"atom-8\" d=\"M 184.6 91.9 L 185.5 91.9 L 185.5 94.8 L 189.1 94.8 L 189.1 91.9 L 190.0 91.9 L 190.0 98.8 L 189.1 98.8 L 189.1 95.6 L 185.5 95.6 L 185.5 98.8 L 184.6 98.8 L 184.6 91.9 \" fill=\"#FF0000\"/>\n",
       "<path class=\"legend\" d=\"M 76.9 188.6 L 79.3 188.6 L 79.3 180.1 L 76.6 180.9 L 76.2 180.0 L 79.7 178.4 L 80.8 178.6 L 80.8 188.6 L 83.1 188.6 L 83.1 189.8 L 76.9 189.8 L 76.9 188.6 \" fill=\"#000000\"/>\n",
       "<path class=\"legend\" d=\"M 89.8 183.9 Q 90.9 184.2, 91.5 184.9 Q 92.0 185.6, 92.0 186.7 Q 92.0 187.7, 91.5 188.4 Q 91.1 189.2, 90.2 189.6 Q 89.3 190.0, 88.1 190.0 Q 86.9 190.0, 86.0 189.6 Q 85.1 189.2, 84.4 188.3 L 85.3 187.4 Q 86.0 188.1, 86.6 188.4 Q 87.2 188.7, 88.1 188.7 Q 89.2 188.7, 89.8 188.2 Q 90.4 187.6, 90.4 186.7 Q 90.4 185.6, 89.8 185.1 Q 89.1 184.5, 87.7 184.5 L 86.9 184.5 L 86.9 183.4 L 87.6 183.4 Q 88.9 183.4, 89.5 182.8 Q 90.2 182.3, 90.2 181.3 Q 90.2 180.5, 89.6 180.1 Q 89.1 179.7, 88.2 179.7 Q 87.2 179.7, 86.6 180.0 Q 86.0 180.3, 85.6 181.2 L 84.5 180.6 Q 84.9 179.6, 85.9 179.0 Q 86.8 178.4, 88.2 178.4 Q 89.8 178.4, 90.8 179.2 Q 91.8 180.0, 91.8 181.3 Q 91.8 182.2, 91.3 182.8 Q 90.8 183.5, 89.8 183.9 \" fill=\"#000000\"/>\n",
       "<path class=\"legend\" d=\"M 97.8 190.0 Q 95.7 190.0, 94.6 188.4 Q 93.6 186.9, 93.6 184.2 Q 93.6 181.4, 94.6 179.9 Q 95.7 178.4, 97.8 178.4 Q 99.9 178.4, 100.9 179.9 Q 101.9 181.4, 101.9 184.2 Q 101.9 186.9, 100.9 188.4 Q 99.8 190.0, 97.8 190.0 M 97.8 188.7 Q 99.0 188.7, 99.6 187.6 Q 100.3 186.4, 100.3 184.2 Q 100.3 181.9, 99.6 180.8 Q 99.0 179.7, 97.8 179.7 Q 96.5 179.7, 95.9 180.8 Q 95.2 181.9, 95.2 184.2 Q 95.2 186.4, 95.9 187.6 Q 96.5 188.7, 97.8 188.7 \" fill=\"#000000\"/>\n",
       "<path class=\"legend\" d=\"M 103.6 188.2 L 105.2 188.2 L 105.2 189.8 L 103.6 189.8 L 103.6 188.2 \" fill=\"#000000\"/>\n",
       "<path class=\"legend\" d=\"M 106.9 180.7 Q 107.3 179.6, 108.3 179.0 Q 109.3 178.4, 110.7 178.4 Q 112.4 178.4, 113.4 179.3 Q 114.3 180.2, 114.3 181.9 Q 114.3 183.6, 113.1 185.1 Q 111.9 186.7, 109.3 188.6 L 114.5 188.6 L 114.5 189.8 L 106.9 189.8 L 106.9 188.8 Q 109.0 187.3, 110.3 186.1 Q 111.5 185.0, 112.1 184.0 Q 112.7 183.0, 112.7 182.0 Q 112.7 180.9, 112.2 180.3 Q 111.7 179.7, 110.7 179.7 Q 109.8 179.7, 109.2 180.0 Q 108.6 180.4, 108.1 181.2 L 106.9 180.7 \" fill=\"#000000\"/>\n",
       "<path class=\"legend\" d=\"M 121.6 183.9 Q 122.7 184.2, 123.2 184.9 Q 123.8 185.6, 123.8 186.7 Q 123.8 187.7, 123.3 188.4 Q 122.8 189.2, 121.9 189.6 Q 121.0 190.0, 119.9 190.0 Q 118.7 190.0, 117.8 189.6 Q 116.9 189.2, 116.2 188.3 L 117.1 187.4 Q 117.8 188.1, 118.4 188.4 Q 119.0 188.7, 119.9 188.7 Q 120.9 188.7, 121.5 188.2 Q 122.2 187.6, 122.2 186.7 Q 122.2 185.6, 121.5 185.1 Q 120.9 184.5, 119.5 184.5 L 118.7 184.5 L 118.7 183.4 L 119.4 183.4 Q 120.6 183.4, 121.3 182.8 Q 121.9 182.3, 121.9 181.3 Q 121.9 180.5, 121.4 180.1 Q 120.8 179.7, 119.9 179.7 Q 119.0 179.7, 118.4 180.0 Q 117.8 180.3, 117.4 181.2 L 116.2 180.6 Q 116.6 179.6, 117.6 179.0 Q 118.6 178.4, 119.9 178.4 Q 121.6 178.4, 122.6 179.2 Q 123.5 180.0, 123.5 181.3 Q 123.5 182.2, 123.0 182.8 Q 122.5 183.5, 121.6 183.9 \" fill=\"#000000\"/>\n",
       "<path class=\"bond-0 atom-0 atom-1\" d=\"M 357.8,91.6 L 337.3,105.1\" style=\"fill:none;fill-rule:evenodd;stroke:#000000;stroke-width:2.0px;stroke-linecap:butt;stroke-linejoin:miter;stroke-opacity:1\"/>\n",
       "<path class=\"bond-1 atom-1 atom-2\" d=\"M 337.3,105.1 L 315.3,94.0\" style=\"fill:none;fill-rule:evenodd;stroke:#000000;stroke-width:2.0px;stroke-linecap:butt;stroke-linejoin:miter;stroke-opacity:1\"/>\n",
       "<path class=\"bond-2 atom-2 atom-3\" d=\"M 315.3,94.0 L 294.8,107.5\" style=\"fill:none;fill-rule:evenodd;stroke:#000000;stroke-width:2.0px;stroke-linecap:butt;stroke-linejoin:miter;stroke-opacity:1\"/>\n",
       "<path class=\"bond-3 atom-3 atom-4\" d=\"M 294.8,107.5 L 272.8,96.5\" style=\"fill:none;fill-rule:evenodd;stroke:#000000;stroke-width:2.0px;stroke-linecap:butt;stroke-linejoin:miter;stroke-opacity:1\"/>\n",
       "<path class=\"bond-4 atom-4 atom-5\" d=\"M 274.7,97.4 L 274.1,86.8\" style=\"fill:none;fill-rule:evenodd;stroke:#000000;stroke-width:2.0px;stroke-linecap:butt;stroke-linejoin:miter;stroke-opacity:1\"/>\n",
       "<path class=\"bond-4 atom-4 atom-5\" d=\"M 274.1,86.8 L 273.5,76.3\" style=\"fill:none;fill-rule:evenodd;stroke:#FF0000;stroke-width:2.0px;stroke-linecap:butt;stroke-linejoin:miter;stroke-opacity:1\"/>\n",
       "<path class=\"bond-4 atom-4 atom-5\" d=\"M 271.0,97.6 L 270.4,87.1\" style=\"fill:none;fill-rule:evenodd;stroke:#000000;stroke-width:2.0px;stroke-linecap:butt;stroke-linejoin:miter;stroke-opacity:1\"/>\n",
       "<path class=\"bond-4 atom-4 atom-5\" d=\"M 270.4,87.1 L 269.8,76.5\" style=\"fill:none;fill-rule:evenodd;stroke:#FF0000;stroke-width:2.0px;stroke-linecap:butt;stroke-linejoin:miter;stroke-opacity:1\"/>\n",
       "<path class=\"bond-5 atom-4 atom-6\" d=\"M 272.8,96.5 L 264.5,101.9\" style=\"fill:none;fill-rule:evenodd;stroke:#000000;stroke-width:2.0px;stroke-linecap:butt;stroke-linejoin:miter;stroke-opacity:1\"/>\n",
       "<path class=\"bond-5 atom-4 atom-6\" d=\"M 264.5,101.9 L 256.3,107.3\" style=\"fill:none;fill-rule:evenodd;stroke:#FF0000;stroke-width:2.0px;stroke-linecap:butt;stroke-linejoin:miter;stroke-opacity:1\"/>\n",
       "<path d=\"M 338.3,104.4 L 337.3,105.1 L 336.2,104.5\" style=\"fill:none;stroke:#000000;stroke-width:2.0px;stroke-linecap:butt;stroke-linejoin:miter;stroke-opacity:1;\"/>\n",
       "<path d=\"M 316.4,94.6 L 315.3,94.0 L 314.3,94.7\" style=\"fill:none;stroke:#000000;stroke-width:2.0px;stroke-linecap:butt;stroke-linejoin:miter;stroke-opacity:1;\"/>\n",
       "<path d=\"M 295.8,106.8 L 294.8,107.5 L 293.7,107.0\" style=\"fill:none;stroke:#000000;stroke-width:2.0px;stroke-linecap:butt;stroke-linejoin:miter;stroke-opacity:1;\"/>\n",
       "<path d=\"M 273.9,97.0 L 272.8,96.5 L 272.4,96.7\" style=\"fill:none;stroke:#000000;stroke-width:2.0px;stroke-linecap:butt;stroke-linejoin:miter;stroke-opacity:1;\"/>\n",
       "<path class=\"atom-5\" d=\"M 268.2 72.0 Q 268.2 70.3, 269.0 69.3 Q 269.9 68.4, 271.4 68.4 Q 272.9 68.4, 273.8 69.3 Q 274.6 70.3, 274.6 72.0 Q 274.6 73.6, 273.8 74.6 Q 272.9 75.6, 271.4 75.6 Q 269.9 75.6, 269.0 74.6 Q 268.2 73.7, 268.2 72.0 M 271.4 74.8 Q 272.5 74.8, 273.0 74.1 Q 273.6 73.3, 273.6 72.0 Q 273.6 70.6, 273.0 69.9 Q 272.5 69.2, 271.4 69.2 Q 270.3 69.2, 269.8 69.9 Q 269.2 70.6, 269.2 72.0 Q 269.2 73.4, 269.8 74.1 Q 270.3 74.8, 271.4 74.8 \" fill=\"#FF0000\"/>\n",
       "<path class=\"atom-6\" d=\"M 242.2 106.5 L 243.1 106.5 L 243.1 109.5 L 246.7 109.5 L 246.7 106.5 L 247.6 106.5 L 247.6 113.5 L 246.7 113.5 L 246.7 110.3 L 243.1 110.3 L 243.1 113.5 L 242.2 113.5 L 242.2 106.5 \" fill=\"#FF0000\"/>\n",
       "<path class=\"atom-6\" d=\"M 249.1 110.0 Q 249.1 108.3, 249.9 107.4 Q 250.7 106.4, 252.3 106.4 Q 253.8 106.4, 254.6 107.4 Q 255.5 108.3, 255.5 110.0 Q 255.5 111.7, 254.6 112.6 Q 253.8 113.6, 252.3 113.6 Q 250.7 113.6, 249.9 112.6 Q 249.1 111.7, 249.1 110.0 M 252.3 112.8 Q 253.3 112.8, 253.9 112.1 Q 254.5 111.4, 254.5 110.0 Q 254.5 108.6, 253.9 107.9 Q 253.3 107.2, 252.3 107.2 Q 251.2 107.2, 250.6 107.9 Q 250.1 108.6, 250.1 110.0 Q 250.1 111.4, 250.6 112.1 Q 251.2 112.8, 252.3 112.8 \" fill=\"#FF0000\"/>\n",
       "<path class=\"legend\" d=\"M 277.4 188.6 L 279.9 188.6 L 279.9 180.1 L 277.2 180.9 L 276.8 180.0 L 280.3 178.4 L 281.4 178.6 L 281.4 188.6 L 283.6 188.6 L 283.6 189.8 L 277.4 189.8 L 277.4 188.6 \" fill=\"#000000\"/>\n",
       "<path class=\"legend\" d=\"M 289.1 190.0 Q 287.0 190.0, 286.0 188.4 Q 284.9 186.9, 284.9 184.2 Q 284.9 181.4, 286.0 179.9 Q 287.0 178.4, 289.1 178.4 Q 291.2 178.4, 292.2 179.9 Q 293.2 181.4, 293.2 184.2 Q 293.2 186.9, 292.2 188.4 Q 291.2 190.0, 289.1 190.0 M 289.1 188.7 Q 290.3 188.7, 291.0 187.6 Q 291.6 186.4, 291.6 184.2 Q 291.6 181.9, 291.0 180.8 Q 290.3 179.7, 289.1 179.7 Q 287.9 179.7, 287.2 180.8 Q 286.5 181.9, 286.5 184.2 Q 286.5 186.4, 287.2 187.6 Q 287.9 188.7, 289.1 188.7 \" fill=\"#000000\"/>\n",
       "<path class=\"legend\" d=\"M 294.9 180.7 Q 295.4 179.6, 296.4 179.0 Q 297.3 178.4, 298.7 178.4 Q 300.4 178.4, 301.4 179.3 Q 302.4 180.2, 302.4 181.9 Q 302.4 183.6, 301.1 185.1 Q 299.9 186.7, 297.3 188.6 L 302.5 188.6 L 302.5 189.8 L 294.9 189.8 L 294.9 188.8 Q 297.0 187.3, 298.3 186.1 Q 299.5 185.0, 300.1 184.0 Q 300.8 183.0, 300.8 182.0 Q 300.8 180.9, 300.2 180.3 Q 299.7 179.7, 298.7 179.7 Q 297.8 179.7, 297.2 180.0 Q 296.6 180.4, 296.2 181.2 L 294.9 180.7 \" fill=\"#000000\"/>\n",
       "<path class=\"legend\" d=\"M 304.2 188.2 L 305.8 188.2 L 305.8 189.8 L 304.2 189.8 L 304.2 188.2 \" fill=\"#000000\"/>\n",
       "<path class=\"legend\" d=\"M 308.1 188.6 L 310.5 188.6 L 310.5 180.1 L 307.8 180.9 L 307.4 180.0 L 310.9 178.4 L 312.1 178.6 L 312.1 188.6 L 314.3 188.6 L 314.3 189.8 L 308.1 189.8 L 308.1 188.6 \" fill=\"#000000\"/>\n",
       "<path class=\"legend\" d=\"M 321.0 183.9 Q 322.1 184.2, 322.7 184.9 Q 323.2 185.6, 323.2 186.7 Q 323.2 187.7, 322.7 188.4 Q 322.2 189.2, 321.4 189.6 Q 320.5 190.0, 319.3 190.0 Q 318.1 190.0, 317.2 189.6 Q 316.3 189.2, 315.6 188.3 L 316.5 187.4 Q 317.2 188.1, 317.8 188.4 Q 318.4 188.7, 319.3 188.7 Q 320.4 188.7, 321.0 188.2 Q 321.6 187.6, 321.6 186.7 Q 321.6 185.6, 321.0 185.1 Q 320.3 184.5, 318.9 184.5 L 318.1 184.5 L 318.1 183.4 L 318.8 183.4 Q 320.1 183.4, 320.7 182.8 Q 321.4 182.3, 321.4 181.3 Q 321.4 180.5, 320.8 180.1 Q 320.3 179.7, 319.4 179.7 Q 318.4 179.7, 317.8 180.0 Q 317.2 180.3, 316.8 181.2 L 315.7 180.6 Q 316.1 179.6, 317.0 179.0 Q 318.0 178.4, 319.4 178.4 Q 321.0 178.4, 322.0 179.2 Q 323.0 180.0, 323.0 181.3 Q 323.0 182.2, 322.5 182.8 Q 322.0 183.5, 321.0 183.9 \" fill=\"#000000\"/>\n",
       "<path class=\"bond-0 atom-0 atom-1\" d=\"M 144.2,303.3 L 144.2,278.7\" style=\"fill:none;fill-rule:evenodd;stroke:#000000;stroke-width:2.0px;stroke-linecap:butt;stroke-linejoin:miter;stroke-opacity:1\"/>\n",
       "<path class=\"bond-1 atom-1 atom-2\" d=\"M 144.2,278.7 L 125.0,263.4\" style=\"fill:none;fill-rule:evenodd;stroke:#000000;stroke-width:2.0px;stroke-linecap:butt;stroke-linejoin:miter;stroke-opacity:1\"/>\n",
       "<path class=\"bond-2 atom-2 atom-3\" d=\"M 125.0,263.4 L 101.1,268.9\" style=\"fill:none;fill-rule:evenodd;stroke:#000000;stroke-width:2.0px;stroke-linecap:butt;stroke-linejoin:miter;stroke-opacity:1\"/>\n",
       "<path class=\"bond-3 atom-3 atom-4\" d=\"M 101.1,268.9 L 90.4,291.0\" style=\"fill:none;fill-rule:evenodd;stroke:#000000;stroke-width:2.0px;stroke-linecap:butt;stroke-linejoin:miter;stroke-opacity:1\"/>\n",
       "<path class=\"bond-4 atom-4 atom-5\" d=\"M 90.4,291.0 L 101.1,313.1\" style=\"fill:none;fill-rule:evenodd;stroke:#000000;stroke-width:2.0px;stroke-linecap:butt;stroke-linejoin:miter;stroke-opacity:1\"/>\n",
       "<path class=\"bond-5 atom-5 atom-6\" d=\"M 101.1,313.1 L 125.0,318.6\" style=\"fill:none;fill-rule:evenodd;stroke:#000000;stroke-width:2.0px;stroke-linecap:butt;stroke-linejoin:miter;stroke-opacity:1\"/>\n",
       "<path class=\"bond-6 atom-4 atom-7\" d=\"M 90.4,291.0 L 80.1,291.0\" style=\"fill:none;fill-rule:evenodd;stroke:#000000;stroke-width:2.0px;stroke-linecap:butt;stroke-linejoin:miter;stroke-opacity:1\"/>\n",
       "<path class=\"bond-6 atom-4 atom-7\" d=\"M 80.1,291.0 L 69.8,291.0\" style=\"fill:none;fill-rule:evenodd;stroke:#FF0000;stroke-width:2.0px;stroke-linecap:butt;stroke-linejoin:miter;stroke-opacity:1\"/>\n",
       "<path class=\"bond-7 atom-6 atom-0\" d=\"M 125.0,318.6 L 144.2,303.3\" style=\"fill:none;fill-rule:evenodd;stroke:#000000;stroke-width:2.0px;stroke-linecap:butt;stroke-linejoin:miter;stroke-opacity:1\"/>\n",
       "<path d=\"M 144.2,302.1 L 144.2,303.3 L 143.3,304.1\" style=\"fill:none;stroke:#000000;stroke-width:2.0px;stroke-linecap:butt;stroke-linejoin:miter;stroke-opacity:1;\"/>\n",
       "<path d=\"M 144.2,279.9 L 144.2,278.7 L 143.3,277.9\" style=\"fill:none;stroke:#000000;stroke-width:2.0px;stroke-linecap:butt;stroke-linejoin:miter;stroke-opacity:1;\"/>\n",
       "<path d=\"M 126.0,264.2 L 125.0,263.4 L 123.8,263.7\" style=\"fill:none;stroke:#000000;stroke-width:2.0px;stroke-linecap:butt;stroke-linejoin:miter;stroke-opacity:1;\"/>\n",
       "<path d=\"M 102.3,268.6 L 101.1,268.9 L 100.5,270.0\" style=\"fill:none;stroke:#000000;stroke-width:2.0px;stroke-linecap:butt;stroke-linejoin:miter;stroke-opacity:1;\"/>\n",
       "<path d=\"M 100.5,312.0 L 101.1,313.1 L 102.3,313.4\" style=\"fill:none;stroke:#000000;stroke-width:2.0px;stroke-linecap:butt;stroke-linejoin:miter;stroke-opacity:1;\"/>\n",
       "<path d=\"M 123.8,318.3 L 125.0,318.6 L 126.0,317.8\" style=\"fill:none;stroke:#000000;stroke-width:2.0px;stroke-linecap:butt;stroke-linejoin:miter;stroke-opacity:1;\"/>\n",
       "<path class=\"atom-7\" d=\"M 55.8 287.6 L 56.7 287.6 L 56.7 290.5 L 60.3 290.5 L 60.3 287.6 L 61.2 287.6 L 61.2 294.5 L 60.3 294.5 L 60.3 291.3 L 56.7 291.3 L 56.7 294.5 L 55.8 294.5 L 55.8 287.6 \" fill=\"#FF0000\"/>\n",
       "<path class=\"atom-7\" d=\"M 62.6 291.0 Q 62.6 289.3, 63.5 288.4 Q 64.3 287.5, 65.8 287.5 Q 67.4 287.5, 68.2 288.4 Q 69.0 289.3, 69.0 291.0 Q 69.0 292.7, 68.2 293.7 Q 67.3 294.6, 65.8 294.6 Q 64.3 294.6, 63.5 293.7 Q 62.6 292.7, 62.6 291.0 M 65.8 293.8 Q 66.9 293.8, 67.5 293.1 Q 68.0 292.4, 68.0 291.0 Q 68.0 289.7, 67.5 289.0 Q 66.9 288.3, 65.8 288.3 Q 64.8 288.3, 64.2 289.0 Q 63.6 289.6, 63.6 291.0 Q 63.6 292.4, 64.2 293.1 Q 64.8 293.8, 65.8 293.8 \" fill=\"#FF0000\"/>\n",
       "<path class=\"legend\" d=\"M 77.8 388.6 L 80.2 388.6 L 80.2 380.1 L 77.5 381.0 L 77.1 380.0 L 80.6 378.5 L 81.7 378.7 L 81.7 388.6 L 84.0 388.6 L 84.0 389.9 L 77.8 389.9 L 77.8 388.6 \" fill=\"#000000\"/>\n",
       "<path class=\"legend\" d=\"M 85.9 388.6 L 88.4 388.6 L 88.4 380.1 L 85.6 381.0 L 85.3 380.0 L 88.8 378.5 L 89.9 378.7 L 89.9 388.6 L 92.1 388.6 L 92.1 389.9 L 85.9 389.9 L 85.9 388.6 \" fill=\"#000000\"/>\n",
       "<path class=\"legend\" d=\"M 100.8 386.0 L 102.1 386.0 L 102.1 387.3 L 100.8 387.3 L 100.8 389.9 L 99.3 389.9 L 99.3 387.3 L 93.4 387.3 L 93.4 386.3 L 98.4 378.5 L 100.8 378.5 L 100.8 386.0 M 95.3 386.0 L 99.3 386.0 L 99.3 379.6 L 95.3 386.0 \" fill=\"#000000\"/>\n",
       "<path class=\"legend\" d=\"M 103.6 388.3 L 105.2 388.3 L 105.2 389.9 L 103.6 389.9 L 103.6 388.3 \" fill=\"#000000\"/>\n",
       "<path class=\"legend\" d=\"M 107.5 388.6 L 110.0 388.6 L 110.0 380.1 L 107.2 381.0 L 106.9 380.0 L 110.3 378.5 L 111.5 378.7 L 111.5 388.6 L 113.7 388.6 L 113.7 389.9 L 107.5 389.9 L 107.5 388.6 \" fill=\"#000000\"/>\n",
       "<path class=\"legend\" d=\"M 118.8 378.4 Q 120.8 378.4, 121.8 379.8 Q 122.9 381.2, 122.9 383.9 Q 122.9 386.9, 121.6 388.4 Q 120.4 390.0, 117.9 390.0 Q 117.2 390.0, 116.6 389.8 Q 116.0 389.7, 115.5 389.3 L 116.1 388.3 Q 116.9 388.7, 117.9 388.7 Q 119.5 388.7, 120.3 387.7 Q 121.2 386.7, 121.3 384.5 Q 120.7 385.1, 119.9 385.3 Q 119.2 385.6, 118.4 385.6 Q 117.4 385.6, 116.7 385.2 Q 115.9 384.8, 115.4 384.0 Q 115.0 383.2, 115.0 382.2 Q 115.0 381.1, 115.5 380.2 Q 116.0 379.4, 116.9 378.9 Q 117.7 378.4, 118.8 378.4 M 116.6 382.2 Q 116.6 383.2, 117.2 383.8 Q 117.7 384.3, 118.7 384.3 Q 119.4 384.3, 120.1 384.1 Q 120.8 383.8, 121.3 383.3 Q 121.2 381.4, 120.6 380.6 Q 120.0 379.7, 118.8 379.7 Q 118.2 379.7, 117.7 380.0 Q 117.2 380.4, 116.9 380.9 Q 116.6 381.5, 116.6 382.2 \" fill=\"#000000\"/>\n",
       "<path class=\"bond-0 atom-0 atom-1\" d=\"M 374.1,292.6 L 353.4,305.9\" style=\"fill:none;fill-rule:evenodd;stroke:#000000;stroke-width:2.0px;stroke-linecap:butt;stroke-linejoin:miter;stroke-opacity:1\"/>\n",
       "<path class=\"bond-1 atom-1 atom-2\" d=\"M 353.4,305.9 L 331.6,294.5\" style=\"fill:none;fill-rule:evenodd;stroke:#000000;stroke-width:2.0px;stroke-linecap:butt;stroke-linejoin:miter;stroke-opacity:1\"/>\n",
       "<path class=\"bond-2 atom-2 atom-3\" d=\"M 331.6,294.5 L 310.9,307.8\" style=\"fill:none;fill-rule:evenodd;stroke:#000000;stroke-width:2.0px;stroke-linecap:butt;stroke-linejoin:miter;stroke-opacity:1\"/>\n",
       "<path class=\"bond-3 atom-3 atom-4\" d=\"M 310.9,307.8 L 289.1,296.5\" style=\"fill:none;fill-rule:evenodd;stroke:#000000;stroke-width:2.0px;stroke-linecap:butt;stroke-linejoin:miter;stroke-opacity:1\"/>\n",
       "<path class=\"bond-4 atom-4 atom-5\" d=\"M 289.1,296.5 L 268.4,309.7\" style=\"fill:none;fill-rule:evenodd;stroke:#000000;stroke-width:2.0px;stroke-linecap:butt;stroke-linejoin:miter;stroke-opacity:1\"/>\n",
       "<path class=\"bond-5 atom-5 atom-6\" d=\"M 268.4,309.7 L 246.6,298.4\" style=\"fill:none;fill-rule:evenodd;stroke:#000000;stroke-width:2.0px;stroke-linecap:butt;stroke-linejoin:miter;stroke-opacity:1\"/>\n",
       "<path class=\"bond-6 atom-6 atom-7\" d=\"M 246.6,298.4 L 225.9,311.7\" style=\"fill:none;fill-rule:evenodd;stroke:#000000;stroke-width:2.0px;stroke-linecap:butt;stroke-linejoin:miter;stroke-opacity:1\"/>\n",
       "<path class=\"bond-7 atom-6 atom-8\" d=\"M 246.6,298.4 L 246.1,288.4\" style=\"fill:none;fill-rule:evenodd;stroke:#000000;stroke-width:2.0px;stroke-linecap:butt;stroke-linejoin:miter;stroke-opacity:1\"/>\n",
       "<path class=\"bond-7 atom-6 atom-8\" d=\"M 246.1,288.4 L 245.6,278.3\" style=\"fill:none;fill-rule:evenodd;stroke:#FF0000;stroke-width:2.0px;stroke-linecap:butt;stroke-linejoin:miter;stroke-opacity:1\"/>\n",
       "<path d=\"M 354.5,305.2 L 353.4,305.9 L 352.3,305.3\" style=\"fill:none;stroke:#000000;stroke-width:2.0px;stroke-linecap:butt;stroke-linejoin:miter;stroke-opacity:1;\"/>\n",
       "<path d=\"M 332.7,295.1 L 331.6,294.5 L 330.6,295.2\" style=\"fill:none;stroke:#000000;stroke-width:2.0px;stroke-linecap:butt;stroke-linejoin:miter;stroke-opacity:1;\"/>\n",
       "<path d=\"M 311.9,307.1 L 310.9,307.8 L 309.8,307.2\" style=\"fill:none;stroke:#000000;stroke-width:2.0px;stroke-linecap:butt;stroke-linejoin:miter;stroke-opacity:1;\"/>\n",
       "<path d=\"M 290.2,297.0 L 289.1,296.5 L 288.1,297.1\" style=\"fill:none;stroke:#000000;stroke-width:2.0px;stroke-linecap:butt;stroke-linejoin:miter;stroke-opacity:1;\"/>\n",
       "<path d=\"M 269.4,309.1 L 268.4,309.7 L 267.3,309.2\" style=\"fill:none;stroke:#000000;stroke-width:2.0px;stroke-linecap:butt;stroke-linejoin:miter;stroke-opacity:1;\"/>\n",
       "<path class=\"atom-8\" d=\"M 242.3 273.9 Q 242.3 272.2, 243.1 271.3 Q 243.9 270.3, 245.4 270.3 Q 247.0 270.3, 247.8 271.3 Q 248.6 272.2, 248.6 273.9 Q 248.6 275.6, 247.8 276.5 Q 247.0 277.5, 245.4 277.5 Q 243.9 277.5, 243.1 276.5 Q 242.3 275.6, 242.3 273.9 M 245.4 276.7 Q 246.5 276.7, 247.1 276.0 Q 247.7 275.3, 247.7 273.9 Q 247.7 272.5, 247.1 271.8 Q 246.5 271.1, 245.4 271.1 Q 244.4 271.1, 243.8 271.8 Q 243.2 272.5, 243.2 273.9 Q 243.2 275.3, 243.8 276.0 Q 244.4 276.7, 245.4 276.7 \" fill=\"#FF0000\"/>\n",
       "<path class=\"atom-8\" d=\"M 249.7 270.4 L 250.7 270.4 L 250.7 273.4 L 254.2 273.4 L 254.2 270.4 L 255.2 270.4 L 255.2 277.4 L 254.2 277.4 L 254.2 274.2 L 250.7 274.2 L 250.7 277.4 L 249.7 277.4 L 249.7 270.4 \" fill=\"#FF0000\"/>\n",
       "<path class=\"legend\" d=\"M 276.9 388.6 L 279.3 388.6 L 279.3 380.1 L 276.6 380.9 L 276.2 380.0 L 279.7 378.4 L 280.8 378.6 L 280.8 388.6 L 283.1 388.6 L 283.1 389.8 L 276.9 389.8 L 276.9 388.6 \" fill=\"#000000\"/>\n",
       "<path class=\"legend\" d=\"M 289.8 383.9 Q 290.9 384.2, 291.5 384.9 Q 292.0 385.6, 292.0 386.7 Q 292.0 387.7, 291.5 388.4 Q 291.1 389.2, 290.2 389.6 Q 289.3 390.0, 288.1 390.0 Q 286.9 390.0, 286.0 389.6 Q 285.1 389.2, 284.4 388.3 L 285.3 387.4 Q 286.0 388.1, 286.6 388.4 Q 287.2 388.7, 288.1 388.7 Q 289.2 388.7, 289.8 388.2 Q 290.4 387.6, 290.4 386.7 Q 290.4 385.6, 289.8 385.1 Q 289.1 384.5, 287.7 384.5 L 286.9 384.5 L 286.9 383.4 L 287.6 383.4 Q 288.9 383.4, 289.5 382.8 Q 290.2 382.3, 290.2 381.3 Q 290.2 380.5, 289.6 380.1 Q 289.1 379.7, 288.2 379.7 Q 287.2 379.7, 286.6 380.0 Q 286.0 380.3, 285.6 381.2 L 284.5 380.6 Q 284.9 379.6, 285.9 379.0 Q 286.8 378.4, 288.2 378.4 Q 289.8 378.4, 290.8 379.2 Q 291.8 380.0, 291.8 381.3 Q 291.8 382.2, 291.3 382.8 Q 290.8 383.5, 289.8 383.9 \" fill=\"#000000\"/>\n",
       "<path class=\"legend\" d=\"M 297.8 390.0 Q 295.7 390.0, 294.6 388.4 Q 293.6 386.9, 293.6 384.2 Q 293.6 381.4, 294.6 379.9 Q 295.7 378.4, 297.8 378.4 Q 299.9 378.4, 300.9 379.9 Q 301.9 381.4, 301.9 384.2 Q 301.9 386.9, 300.9 388.4 Q 299.8 390.0, 297.8 390.0 M 297.8 388.7 Q 299.0 388.7, 299.6 387.6 Q 300.3 386.4, 300.3 384.2 Q 300.3 381.9, 299.6 380.8 Q 299.0 379.7, 297.8 379.7 Q 296.5 379.7, 295.9 380.8 Q 295.2 381.9, 295.2 384.2 Q 295.2 386.4, 295.9 387.6 Q 296.5 388.7, 297.8 388.7 \" fill=\"#000000\"/>\n",
       "<path class=\"legend\" d=\"M 303.6 388.2 L 305.2 388.2 L 305.2 389.8 L 303.6 389.8 L 303.6 388.2 \" fill=\"#000000\"/>\n",
       "<path class=\"legend\" d=\"M 306.9 380.7 Q 307.3 379.6, 308.3 379.0 Q 309.3 378.4, 310.7 378.4 Q 312.4 378.4, 313.4 379.3 Q 314.3 380.2, 314.3 381.9 Q 314.3 383.6, 313.1 385.1 Q 311.9 386.7, 309.3 388.6 L 314.5 388.6 L 314.5 389.8 L 306.9 389.8 L 306.9 388.8 Q 309.0 387.3, 310.3 386.1 Q 311.5 385.0, 312.1 384.0 Q 312.7 383.0, 312.7 382.0 Q 312.7 380.9, 312.2 380.3 Q 311.7 379.7, 310.7 379.7 Q 309.8 379.7, 309.2 380.0 Q 308.6 380.4, 308.1 381.2 L 306.9 380.7 \" fill=\"#000000\"/>\n",
       "<path class=\"legend\" d=\"M 321.6 383.9 Q 322.7 384.2, 323.2 384.9 Q 323.8 385.6, 323.8 386.7 Q 323.8 387.7, 323.3 388.4 Q 322.8 389.2, 321.9 389.6 Q 321.0 390.0, 319.9 390.0 Q 318.7 390.0, 317.8 389.6 Q 316.9 389.2, 316.2 388.3 L 317.1 387.4 Q 317.8 388.1, 318.4 388.4 Q 319.0 388.7, 319.9 388.7 Q 320.9 388.7, 321.5 388.2 Q 322.2 387.6, 322.2 386.7 Q 322.2 385.6, 321.5 385.1 Q 320.9 384.5, 319.5 384.5 L 318.7 384.5 L 318.7 383.4 L 319.4 383.4 Q 320.6 383.4, 321.3 382.8 Q 321.9 382.3, 321.9 381.3 Q 321.9 380.5, 321.4 380.1 Q 320.8 379.7, 319.9 379.7 Q 319.0 379.7, 318.4 380.0 Q 317.8 380.3, 317.4 381.2 L 316.2 380.6 Q 316.6 379.6, 317.6 379.0 Q 318.6 378.4, 319.9 378.4 Q 321.6 378.4, 322.6 379.2 Q 323.5 380.0, 323.5 381.3 Q 323.5 382.2, 323.0 382.8 Q 322.5 383.5, 321.6 383.9 \" fill=\"#000000\"/>\n",
       "</svg>"
      ],
      "text/plain": [
       "<IPython.core.display.SVG object>"
      ]
     },
     "execution_count": 55,
     "metadata": {},
     "output_type": "execute_result"
    }
   ],
   "source": [
    "gi = Chem.Draw.MolsToGridImage(substances, molsPerRow=2, useSVG=True, legends=mol_weight)\n",
    "\n",
    "gi"
   ]
  },
  {
   "cell_type": "markdown",
   "id": "db8e3ed8-8345-42e6-986d-a66e0841a371",
   "metadata": {},
   "source": [
    "However, rdkit goes beyond this, as it has an intrinsic (i.e. somebody programmed it to have it) understanding of chemistry. It can for example give us the potential steroisomers of a molcule.\n",
    "\n",
    "Let's look at some atmospheric Volatile Organic Compounds, which can be environmental pollutants as they interfere in the production of atmospheric ozone and the formation of secondary organic aerosols.\n",
    "\n",
    "Let's inspect $\\alpha$-pinene first, which is a VOC emitted from plants (especially pine trees as the name implies):"
   ]
  },
  {
   "cell_type": "code",
   "execution_count": 56,
   "id": "4c9cef7f-4576-4911-8a2e-ea31e18debd8",
   "metadata": {},
   "outputs": [
    {
     "data": {
      "image/png": "[encoded data removed]",
      "text/plain": [
       "<rdkit.Chem.rdchem.Mol at 0x7f04a2f3a500>"
      ]
     },
     "execution_count": 56,
     "metadata": {},
     "output_type": "execute_result"
    }
   ],
   "source": [
    "found_compounds = pcp.get_compounds('alpha-pinene', 'name')\n",
    "\n",
    "apinene = Chem.MolFromSmiles(found_compounds[0].isomeric_smiles)\n",
    "\n",
    "apinene"
   ]
  },
  {
   "cell_type": "markdown",
   "id": "febceab2-e41d-449a-8897-d10cff40f0b2",
   "metadata": {},
   "source": [
    "What stereoismoers do exist?"
   ]
  },
  {
   "cell_type": "code",
   "execution_count": 57,
   "id": "6cb014d7-f55a-4efa-9e17-3ba9aa339dc5",
   "metadata": {},
   "outputs": [
    {
     "data": {
      "text/plain": [
       "[<rdkit.Chem.rdchem.Mol at 0x7f04a0f13790>,\n",
       " <rdkit.Chem.rdchem.Mol at 0x7f04a0f136f0>,\n",
       " <rdkit.Chem.rdchem.Mol at 0x7f04a41ba200>,\n",
       " <rdkit.Chem.rdchem.Mol at 0x7f04a414cf40>]"
      ]
     },
     "execution_count": 57,
     "metadata": {},
     "output_type": "execute_result"
    }
   ],
   "source": [
    "from rdkit.Chem.EnumerateStereoisomers import EnumerateStereoisomers\n",
    "\n",
    "apinene_isomers = list(EnumerateStereoisomers(apinene))\n",
    "\n",
    "apinene_isomers"
   ]
  },
  {
   "cell_type": "code",
   "execution_count": 58,
   "id": "2ca18133-989a-423b-aa9d-9f2e7a318420",
   "metadata": {},
   "outputs": [
    {
     "data": {
      "image/svg+xml": [
       "<svg xmlns=\"http://www.w3.org/2000/svg\" xmlns:rdkit=\"http://www.rdkit.org/xml\" xmlns:xlink=\"http://www.w3.org/1999/xlink\" version=\"1.1\" baseProfile=\"full\" xml:space=\"preserve\" width=\"400px\" height=\"400px\" viewBox=\"0 0 400 400\">\n",
       "<!-- END OF HEADER -->\n",
       "<rect style=\"opacity:1.0;fill:#FFFFFF;stroke:none\" width=\"200.0\" height=\"200.0\" x=\"0.0\" y=\"0.0\"> </rect>\n",
       "<path class=\"bond-0 atom-0 atom-1\" d=\"M 190.0,117.5 L 142.3,117.2\" style=\"fill:none;fill-rule:evenodd;stroke:#000000;stroke-width:2.0px;stroke-linecap:butt;stroke-linejoin:miter;stroke-opacity:1\"/>\n",
       "<path class=\"bond-1 atom-1 atom-2\" d=\"M 142.3,117.2 L 118.3,158.4\" style=\"fill:none;fill-rule:evenodd;stroke:#000000;stroke-width:2.0px;stroke-linecap:butt;stroke-linejoin:miter;stroke-opacity:1\"/>\n",
       "<path class=\"bond-1 atom-1 atom-2\" d=\"M 134.9,117.2 L 114.6,151.8\" style=\"fill:none;fill-rule:evenodd;stroke:#000000;stroke-width:2.0px;stroke-linecap:butt;stroke-linejoin:miter;stroke-opacity:1\"/>\n",
       "<path class=\"bond-2 atom-2 atom-3\" d=\"M 118.3,158.4 L 70.6,158.1\" style=\"fill:none;fill-rule:evenodd;stroke:#000000;stroke-width:2.0px;stroke-linecap:butt;stroke-linejoin:miter;stroke-opacity:1\"/>\n",
       "<path class=\"bond-3 atom-3 atom-4\" d=\"M 70.6,158.1 L 47.0,116.7\" style=\"fill:none;fill-rule:evenodd;stroke:#000000;stroke-width:2.0px;stroke-linecap:butt;stroke-linejoin:miter;stroke-opacity:1\"/>\n",
       "<path class=\"bond-4 atom-4 atom-5\" d=\"M 47.0,116.7 L 71.1,75.5\" style=\"fill:none;fill-rule:evenodd;stroke:#000000;stroke-width:2.0px;stroke-linecap:butt;stroke-linejoin:miter;stroke-opacity:1\"/>\n",
       "<path class=\"bond-5 atom-5 atom-6\" d=\"M 71.1,75.5 L 118.8,75.8\" style=\"fill:none;fill-rule:evenodd;stroke:#000000;stroke-width:2.0px;stroke-linecap:butt;stroke-linejoin:miter;stroke-opacity:1\"/>\n",
       "<path class=\"bond-6 atom-6 atom-7\" d=\"M 118.8,75.8 L 94.7,116.9\" style=\"fill:none;fill-rule:evenodd;stroke:#000000;stroke-width:2.0px;stroke-linecap:butt;stroke-linejoin:miter;stroke-opacity:1\"/>\n",
       "<path class=\"bond-7 atom-7 atom-8\" d=\"M 94.7,116.9 L 96.9,151.6\" style=\"fill:none;fill-rule:evenodd;stroke:#000000;stroke-width:2.0px;stroke-linecap:butt;stroke-linejoin:miter;stroke-opacity:1\"/>\n",
       "<path class=\"bond-8 atom-7 atom-9\" d=\"M 94.7,116.9 L 123.4,136.5\" style=\"fill:none;fill-rule:evenodd;stroke:#000000;stroke-width:2.0px;stroke-linecap:butt;stroke-linejoin:miter;stroke-opacity:1\"/>\n",
       "<path class=\"bond-9 atom-6 atom-1\" d=\"M 118.8,75.8 L 142.3,117.2\" style=\"fill:none;fill-rule:evenodd;stroke:#000000;stroke-width:2.0px;stroke-linecap:butt;stroke-linejoin:miter;stroke-opacity:1\"/>\n",
       "<path class=\"bond-10 atom-7 atom-4\" d=\"M 94.7,116.9 L 47.0,116.7\" style=\"fill:none;fill-rule:evenodd;stroke:#000000;stroke-width:2.0px;stroke-linecap:butt;stroke-linejoin:miter;stroke-opacity:1\"/>\n",
       "<path class=\"bond-11 atom-4 atom-10\" d=\"M 47.0,116.7 L 23.4,119.8 L 23.4,113.3 Z\" style=\"fill:#000000;fill-rule:evenodd;fill-opacity:1;stroke:#000000;stroke-width:0.5px;stroke-linecap:butt;stroke-linejoin:miter;stroke-opacity:1;\"/>\n",
       "<path class=\"bond-12 atom-6 atom-11\" d=\"M 120.0,72.6 L 121.0,73.1\" style=\"fill:none;fill-rule:evenodd;stroke:#000000;stroke-width:1.0px;stroke-linecap:butt;stroke-linejoin:miter;stroke-opacity:1\"/>\n",
       "<path class=\"bond-12 atom-6 atom-11\" d=\"M 121.3,69.3 L 123.2,70.4\" style=\"fill:none;fill-rule:evenodd;stroke:#000000;stroke-width:1.0px;stroke-linecap:butt;stroke-linejoin:miter;stroke-opacity:1\"/>\n",
       "<path class=\"bond-12 atom-6 atom-11\" d=\"M 122.6,66.1 L 125.4,67.7\" style=\"fill:none;fill-rule:evenodd;stroke:#000000;stroke-width:1.0px;stroke-linecap:butt;stroke-linejoin:miter;stroke-opacity:1\"/>\n",
       "<path class=\"bond-12 atom-6 atom-11\" d=\"M 123.8,62.8 L 127.6,65.0\" style=\"fill:none;fill-rule:evenodd;stroke:#000000;stroke-width:1.0px;stroke-linecap:butt;stroke-linejoin:miter;stroke-opacity:1\"/>\n",
       "<path class=\"bond-12 atom-6 atom-11\" d=\"M 125.1,59.6 L 129.8,62.3\" style=\"fill:none;fill-rule:evenodd;stroke:#000000;stroke-width:1.0px;stroke-linecap:butt;stroke-linejoin:miter;stroke-opacity:1\"/>\n",
       "<path class=\"bond-12 atom-6 atom-11\" d=\"M 126.4,56.4 L 132.0,59.6\" style=\"fill:none;fill-rule:evenodd;stroke:#000000;stroke-width:1.0px;stroke-linecap:butt;stroke-linejoin:miter;stroke-opacity:1\"/>\n",
       "<path d=\"M 119.5,156.3 L 118.3,158.4 L 115.9,158.3\" style=\"fill:none;stroke:#000000;stroke-width:2.0px;stroke-linecap:butt;stroke-linejoin:miter;stroke-opacity:1;\"/>\n",
       "<path d=\"M 73.0,158.1 L 70.6,158.1 L 69.5,156.0\" style=\"fill:none;stroke:#000000;stroke-width:2.0px;stroke-linecap:butt;stroke-linejoin:miter;stroke-opacity:1;\"/>\n",
       "<path d=\"M 69.9,77.6 L 71.1,75.5 L 73.5,75.6\" style=\"fill:none;stroke:#000000;stroke-width:2.0px;stroke-linecap:butt;stroke-linejoin:miter;stroke-opacity:1;\"/>\n",
       "<path class=\"atom-10\" d=\"M 10.0 109.7 L 11.8 109.7 L 11.8 115.5 L 18.7 115.5 L 18.7 109.7 L 20.6 109.7 L 20.6 123.2 L 18.7 123.2 L 18.7 117.0 L 11.8 117.0 L 11.8 123.2 L 10.0 123.2 L 10.0 109.7 \" fill=\"#000000\"/>\n",
       "<path class=\"atom-11\" d=\"M 129.5 41.6 L 131.4 41.6 L 131.4 47.4 L 138.3 47.4 L 138.3 41.6 L 140.1 41.6 L 140.1 55.1 L 138.3 55.1 L 138.3 48.9 L 131.4 48.9 L 131.4 55.1 L 129.5 55.1 L 129.5 41.6 \" fill=\"#000000\"/>\n",
       "<path class=\"bond-0 atom-0 atom-1\" d=\"M 390.0,117.5 L 342.3,117.2\" style=\"fill:none;fill-rule:evenodd;stroke:#000000;stroke-width:2.0px;stroke-linecap:butt;stroke-linejoin:miter;stroke-opacity:1\"/>\n",
       "<path class=\"bond-1 atom-1 atom-2\" d=\"M 342.3,117.2 L 318.3,158.4\" style=\"fill:none;fill-rule:evenodd;stroke:#000000;stroke-width:2.0px;stroke-linecap:butt;stroke-linejoin:miter;stroke-opacity:1\"/>\n",
       "<path class=\"bond-1 atom-1 atom-2\" d=\"M 334.9,117.2 L 314.6,151.8\" style=\"fill:none;fill-rule:evenodd;stroke:#000000;stroke-width:2.0px;stroke-linecap:butt;stroke-linejoin:miter;stroke-opacity:1\"/>\n",
       "<path class=\"bond-2 atom-2 atom-3\" d=\"M 318.3,158.4 L 270.6,158.1\" style=\"fill:none;fill-rule:evenodd;stroke:#000000;stroke-width:2.0px;stroke-linecap:butt;stroke-linejoin:miter;stroke-opacity:1\"/>\n",
       "<path class=\"bond-3 atom-3 atom-4\" d=\"M 270.6,158.1 L 247.0,116.7\" style=\"fill:none;fill-rule:evenodd;stroke:#000000;stroke-width:2.0px;stroke-linecap:butt;stroke-linejoin:miter;stroke-opacity:1\"/>\n",
       "<path class=\"bond-4 atom-4 atom-5\" d=\"M 247.0,116.7 L 271.1,75.5\" style=\"fill:none;fill-rule:evenodd;stroke:#000000;stroke-width:2.0px;stroke-linecap:butt;stroke-linejoin:miter;stroke-opacity:1\"/>\n",
       "<path class=\"bond-5 atom-5 atom-6\" d=\"M 271.1,75.5 L 318.8,75.8\" style=\"fill:none;fill-rule:evenodd;stroke:#000000;stroke-width:2.0px;stroke-linecap:butt;stroke-linejoin:miter;stroke-opacity:1\"/>\n",
       "<path class=\"bond-6 atom-6 atom-7\" d=\"M 318.8,75.8 L 294.7,116.9\" style=\"fill:none;fill-rule:evenodd;stroke:#000000;stroke-width:2.0px;stroke-linecap:butt;stroke-linejoin:miter;stroke-opacity:1\"/>\n",
       "<path class=\"bond-7 atom-7 atom-8\" d=\"M 294.7,116.9 L 296.9,151.6\" style=\"fill:none;fill-rule:evenodd;stroke:#000000;stroke-width:2.0px;stroke-linecap:butt;stroke-linejoin:miter;stroke-opacity:1\"/>\n",
       "<path class=\"bond-8 atom-7 atom-9\" d=\"M 294.7,116.9 L 323.4,136.5\" style=\"fill:none;fill-rule:evenodd;stroke:#000000;stroke-width:2.0px;stroke-linecap:butt;stroke-linejoin:miter;stroke-opacity:1\"/>\n",
       "<path class=\"bond-9 atom-6 atom-1\" d=\"M 318.8,75.8 L 342.3,117.2\" style=\"fill:none;fill-rule:evenodd;stroke:#000000;stroke-width:2.0px;stroke-linecap:butt;stroke-linejoin:miter;stroke-opacity:1\"/>\n",
       "<path class=\"bond-10 atom-7 atom-4\" d=\"M 294.7,116.9 L 247.0,116.7\" style=\"fill:none;fill-rule:evenodd;stroke:#000000;stroke-width:2.0px;stroke-linecap:butt;stroke-linejoin:miter;stroke-opacity:1\"/>\n",
       "<path class=\"bond-11 atom-4 atom-10\" d=\"M 243.7,117.1 L 243.7,116.2\" style=\"fill:none;fill-rule:evenodd;stroke:#000000;stroke-width:1.0px;stroke-linecap:butt;stroke-linejoin:miter;stroke-opacity:1\"/>\n",
       "<path class=\"bond-11 atom-4 atom-10\" d=\"M 240.3,117.6 L 240.3,115.7\" style=\"fill:none;fill-rule:evenodd;stroke:#000000;stroke-width:1.0px;stroke-linecap:butt;stroke-linejoin:miter;stroke-opacity:1\"/>\n",
       "<path class=\"bond-11 atom-4 atom-10\" d=\"M 236.9,118.0 L 236.9,115.2\" style=\"fill:none;fill-rule:evenodd;stroke:#000000;stroke-width:1.0px;stroke-linecap:butt;stroke-linejoin:miter;stroke-opacity:1\"/>\n",
       "<path class=\"bond-11 atom-4 atom-10\" d=\"M 233.5,118.4 L 233.6,114.7\" style=\"fill:none;fill-rule:evenodd;stroke:#000000;stroke-width:1.0px;stroke-linecap:butt;stroke-linejoin:miter;stroke-opacity:1\"/>\n",
       "<path class=\"bond-11 atom-4 atom-10\" d=\"M 230.2,118.9 L 230.2,114.3\" style=\"fill:none;fill-rule:evenodd;stroke:#000000;stroke-width:1.0px;stroke-linecap:butt;stroke-linejoin:miter;stroke-opacity:1\"/>\n",
       "<path class=\"bond-11 atom-4 atom-10\" d=\"M 226.8,119.3 L 226.8,113.8\" style=\"fill:none;fill-rule:evenodd;stroke:#000000;stroke-width:1.0px;stroke-linecap:butt;stroke-linejoin:miter;stroke-opacity:1\"/>\n",
       "<path class=\"bond-11 atom-4 atom-10\" d=\"M 223.4,119.8 L 223.4,113.3\" style=\"fill:none;fill-rule:evenodd;stroke:#000000;stroke-width:1.0px;stroke-linecap:butt;stroke-linejoin:miter;stroke-opacity:1\"/>\n",
       "<path class=\"bond-12 atom-6 atom-11\" d=\"M 320.0,72.6 L 321.0,73.1\" style=\"fill:none;fill-rule:evenodd;stroke:#000000;stroke-width:1.0px;stroke-linecap:butt;stroke-linejoin:miter;stroke-opacity:1\"/>\n",
       "<path class=\"bond-12 atom-6 atom-11\" d=\"M 321.3,69.3 L 323.2,70.4\" style=\"fill:none;fill-rule:evenodd;stroke:#000000;stroke-width:1.0px;stroke-linecap:butt;stroke-linejoin:miter;stroke-opacity:1\"/>\n",
       "<path class=\"bond-12 atom-6 atom-11\" d=\"M 322.6,66.1 L 325.4,67.7\" style=\"fill:none;fill-rule:evenodd;stroke:#000000;stroke-width:1.0px;stroke-linecap:butt;stroke-linejoin:miter;stroke-opacity:1\"/>\n",
       "<path class=\"bond-12 atom-6 atom-11\" d=\"M 323.8,62.8 L 327.6,65.0\" style=\"fill:none;fill-rule:evenodd;stroke:#000000;stroke-width:1.0px;stroke-linecap:butt;stroke-linejoin:miter;stroke-opacity:1\"/>\n",
       "<path class=\"bond-12 atom-6 atom-11\" d=\"M 325.1,59.6 L 329.8,62.3\" style=\"fill:none;fill-rule:evenodd;stroke:#000000;stroke-width:1.0px;stroke-linecap:butt;stroke-linejoin:miter;stroke-opacity:1\"/>\n",
       "<path class=\"bond-12 atom-6 atom-11\" d=\"M 326.4,56.4 L 332.0,59.6\" style=\"fill:none;fill-rule:evenodd;stroke:#000000;stroke-width:1.0px;stroke-linecap:butt;stroke-linejoin:miter;stroke-opacity:1\"/>\n",
       "<path d=\"M 319.5,156.3 L 318.3,158.4 L 315.9,158.3\" style=\"fill:none;stroke:#000000;stroke-width:2.0px;stroke-linecap:butt;stroke-linejoin:miter;stroke-opacity:1;\"/>\n",
       "<path d=\"M 273.0,158.1 L 270.6,158.1 L 269.5,156.0\" style=\"fill:none;stroke:#000000;stroke-width:2.0px;stroke-linecap:butt;stroke-linejoin:miter;stroke-opacity:1;\"/>\n",
       "<path d=\"M 269.9,77.6 L 271.1,75.5 L 273.5,75.6\" style=\"fill:none;stroke:#000000;stroke-width:2.0px;stroke-linecap:butt;stroke-linejoin:miter;stroke-opacity:1;\"/>\n",
       "<path class=\"atom-10\" d=\"M 210.0 109.7 L 211.8 109.7 L 211.8 115.5 L 218.7 115.5 L 218.7 109.7 L 220.6 109.7 L 220.6 123.2 L 218.7 123.2 L 218.7 117.0 L 211.8 117.0 L 211.8 123.2 L 210.0 123.2 L 210.0 109.7 \" fill=\"#000000\"/>\n",
       "<path class=\"atom-11\" d=\"M 329.5 41.6 L 331.4 41.6 L 331.4 47.4 L 338.3 47.4 L 338.3 41.6 L 340.1 41.6 L 340.1 55.1 L 338.3 55.1 L 338.3 48.9 L 331.4 48.9 L 331.4 55.1 L 329.5 55.1 L 329.5 41.6 \" fill=\"#000000\"/>\n",
       "<path class=\"bond-0 atom-0 atom-1\" d=\"M 190.0,317.5 L 142.3,317.2\" style=\"fill:none;fill-rule:evenodd;stroke:#000000;stroke-width:2.0px;stroke-linecap:butt;stroke-linejoin:miter;stroke-opacity:1\"/>\n",
       "<path class=\"bond-1 atom-1 atom-2\" d=\"M 142.3,317.2 L 118.3,358.4\" style=\"fill:none;fill-rule:evenodd;stroke:#000000;stroke-width:2.0px;stroke-linecap:butt;stroke-linejoin:miter;stroke-opacity:1\"/>\n",
       "<path class=\"bond-1 atom-1 atom-2\" d=\"M 134.9,317.2 L 114.6,351.8\" style=\"fill:none;fill-rule:evenodd;stroke:#000000;stroke-width:2.0px;stroke-linecap:butt;stroke-linejoin:miter;stroke-opacity:1\"/>\n",
       "<path class=\"bond-2 atom-2 atom-3\" d=\"M 118.3,358.4 L 70.6,358.1\" style=\"fill:none;fill-rule:evenodd;stroke:#000000;stroke-width:2.0px;stroke-linecap:butt;stroke-linejoin:miter;stroke-opacity:1\"/>\n",
       "<path class=\"bond-3 atom-3 atom-4\" d=\"M 70.6,358.1 L 47.0,316.7\" style=\"fill:none;fill-rule:evenodd;stroke:#000000;stroke-width:2.0px;stroke-linecap:butt;stroke-linejoin:miter;stroke-opacity:1\"/>\n",
       "<path class=\"bond-4 atom-4 atom-5\" d=\"M 47.0,316.7 L 71.1,275.5\" style=\"fill:none;fill-rule:evenodd;stroke:#000000;stroke-width:2.0px;stroke-linecap:butt;stroke-linejoin:miter;stroke-opacity:1\"/>\n",
       "<path class=\"bond-5 atom-5 atom-6\" d=\"M 71.1,275.5 L 118.8,275.8\" style=\"fill:none;fill-rule:evenodd;stroke:#000000;stroke-width:2.0px;stroke-linecap:butt;stroke-linejoin:miter;stroke-opacity:1\"/>\n",
       "<path class=\"bond-6 atom-6 atom-7\" d=\"M 118.8,275.8 L 94.7,316.9\" style=\"fill:none;fill-rule:evenodd;stroke:#000000;stroke-width:2.0px;stroke-linecap:butt;stroke-linejoin:miter;stroke-opacity:1\"/>\n",
       "<path class=\"bond-7 atom-7 atom-8\" d=\"M 94.7,316.9 L 96.9,351.6\" style=\"fill:none;fill-rule:evenodd;stroke:#000000;stroke-width:2.0px;stroke-linecap:butt;stroke-linejoin:miter;stroke-opacity:1\"/>\n",
       "<path class=\"bond-8 atom-7 atom-9\" d=\"M 94.7,316.9 L 123.4,336.5\" style=\"fill:none;fill-rule:evenodd;stroke:#000000;stroke-width:2.0px;stroke-linecap:butt;stroke-linejoin:miter;stroke-opacity:1\"/>\n",
       "<path class=\"bond-9 atom-6 atom-1\" d=\"M 118.8,275.8 L 142.3,317.2\" style=\"fill:none;fill-rule:evenodd;stroke:#000000;stroke-width:2.0px;stroke-linecap:butt;stroke-linejoin:miter;stroke-opacity:1\"/>\n",
       "<path class=\"bond-10 atom-7 atom-4\" d=\"M 94.7,316.9 L 47.0,316.7\" style=\"fill:none;fill-rule:evenodd;stroke:#000000;stroke-width:2.0px;stroke-linecap:butt;stroke-linejoin:miter;stroke-opacity:1\"/>\n",
       "<path class=\"bond-11 atom-4 atom-10\" d=\"M 47.0,316.7 L 23.4,319.8 L 23.4,313.3 Z\" style=\"fill:#000000;fill-rule:evenodd;fill-opacity:1;stroke:#000000;stroke-width:0.5px;stroke-linecap:butt;stroke-linejoin:miter;stroke-opacity:1;\"/>\n",
       "<path class=\"bond-12 atom-6 atom-11\" d=\"M 118.8,275.8 L 126.4,256.4 L 132.0,259.6 Z\" style=\"fill:#000000;fill-rule:evenodd;fill-opacity:1;stroke:#000000;stroke-width:0.5px;stroke-linecap:butt;stroke-linejoin:miter;stroke-opacity:1;\"/>\n",
       "<path d=\"M 119.5,356.3 L 118.3,358.4 L 115.9,358.3\" style=\"fill:none;stroke:#000000;stroke-width:2.0px;stroke-linecap:butt;stroke-linejoin:miter;stroke-opacity:1;\"/>\n",
       "<path d=\"M 73.0,358.1 L 70.6,358.1 L 69.5,356.0\" style=\"fill:none;stroke:#000000;stroke-width:2.0px;stroke-linecap:butt;stroke-linejoin:miter;stroke-opacity:1;\"/>\n",
       "<path d=\"M 69.9,277.6 L 71.1,275.5 L 73.5,275.6\" style=\"fill:none;stroke:#000000;stroke-width:2.0px;stroke-linecap:butt;stroke-linejoin:miter;stroke-opacity:1;\"/>\n",
       "<path class=\"atom-10\" d=\"M 10.0 309.7 L 11.8 309.7 L 11.8 315.5 L 18.7 315.5 L 18.7 309.7 L 20.6 309.7 L 20.6 323.2 L 18.7 323.2 L 18.7 317.0 L 11.8 317.0 L 11.8 323.2 L 10.0 323.2 L 10.0 309.7 \" fill=\"#000000\"/>\n",
       "<path class=\"atom-11\" d=\"M 129.5 241.6 L 131.4 241.6 L 131.4 247.4 L 138.3 247.4 L 138.3 241.6 L 140.1 241.6 L 140.1 255.1 L 138.3 255.1 L 138.3 248.9 L 131.4 248.9 L 131.4 255.1 L 129.5 255.1 L 129.5 241.6 \" fill=\"#000000\"/>\n",
       "<path class=\"bond-0 atom-0 atom-1\" d=\"M 390.0,317.5 L 342.3,317.2\" style=\"fill:none;fill-rule:evenodd;stroke:#000000;stroke-width:2.0px;stroke-linecap:butt;stroke-linejoin:miter;stroke-opacity:1\"/>\n",
       "<path class=\"bond-1 atom-1 atom-2\" d=\"M 342.3,317.2 L 318.3,358.4\" style=\"fill:none;fill-rule:evenodd;stroke:#000000;stroke-width:2.0px;stroke-linecap:butt;stroke-linejoin:miter;stroke-opacity:1\"/>\n",
       "<path class=\"bond-1 atom-1 atom-2\" d=\"M 334.9,317.2 L 314.6,351.8\" style=\"fill:none;fill-rule:evenodd;stroke:#000000;stroke-width:2.0px;stroke-linecap:butt;stroke-linejoin:miter;stroke-opacity:1\"/>\n",
       "<path class=\"bond-2 atom-2 atom-3\" d=\"M 318.3,358.4 L 270.6,358.1\" style=\"fill:none;fill-rule:evenodd;stroke:#000000;stroke-width:2.0px;stroke-linecap:butt;stroke-linejoin:miter;stroke-opacity:1\"/>\n",
       "<path class=\"bond-3 atom-3 atom-4\" d=\"M 270.6,358.1 L 247.0,316.7\" style=\"fill:none;fill-rule:evenodd;stroke:#000000;stroke-width:2.0px;stroke-linecap:butt;stroke-linejoin:miter;stroke-opacity:1\"/>\n",
       "<path class=\"bond-4 atom-4 atom-5\" d=\"M 247.0,316.7 L 271.1,275.5\" style=\"fill:none;fill-rule:evenodd;stroke:#000000;stroke-width:2.0px;stroke-linecap:butt;stroke-linejoin:miter;stroke-opacity:1\"/>\n",
       "<path class=\"bond-5 atom-5 atom-6\" d=\"M 271.1,275.5 L 318.8,275.8\" style=\"fill:none;fill-rule:evenodd;stroke:#000000;stroke-width:2.0px;stroke-linecap:butt;stroke-linejoin:miter;stroke-opacity:1\"/>\n",
       "<path class=\"bond-6 atom-6 atom-7\" d=\"M 318.8,275.8 L 294.7,316.9\" style=\"fill:none;fill-rule:evenodd;stroke:#000000;stroke-width:2.0px;stroke-linecap:butt;stroke-linejoin:miter;stroke-opacity:1\"/>\n",
       "<path class=\"bond-7 atom-7 atom-8\" d=\"M 294.7,316.9 L 296.9,351.6\" style=\"fill:none;fill-rule:evenodd;stroke:#000000;stroke-width:2.0px;stroke-linecap:butt;stroke-linejoin:miter;stroke-opacity:1\"/>\n",
       "<path class=\"bond-8 atom-7 atom-9\" d=\"M 294.7,316.9 L 323.4,336.5\" style=\"fill:none;fill-rule:evenodd;stroke:#000000;stroke-width:2.0px;stroke-linecap:butt;stroke-linejoin:miter;stroke-opacity:1\"/>\n",
       "<path class=\"bond-9 atom-6 atom-1\" d=\"M 318.8,275.8 L 342.3,317.2\" style=\"fill:none;fill-rule:evenodd;stroke:#000000;stroke-width:2.0px;stroke-linecap:butt;stroke-linejoin:miter;stroke-opacity:1\"/>\n",
       "<path class=\"bond-10 atom-7 atom-4\" d=\"M 294.7,316.9 L 247.0,316.7\" style=\"fill:none;fill-rule:evenodd;stroke:#000000;stroke-width:2.0px;stroke-linecap:butt;stroke-linejoin:miter;stroke-opacity:1\"/>\n",
       "<path class=\"bond-11 atom-4 atom-10\" d=\"M 243.7,317.1 L 243.7,316.2\" style=\"fill:none;fill-rule:evenodd;stroke:#000000;stroke-width:1.0px;stroke-linecap:butt;stroke-linejoin:miter;stroke-opacity:1\"/>\n",
       "<path class=\"bond-11 atom-4 atom-10\" d=\"M 240.3,317.6 L 240.3,315.7\" style=\"fill:none;fill-rule:evenodd;stroke:#000000;stroke-width:1.0px;stroke-linecap:butt;stroke-linejoin:miter;stroke-opacity:1\"/>\n",
       "<path class=\"bond-11 atom-4 atom-10\" d=\"M 236.9,318.0 L 236.9,315.2\" style=\"fill:none;fill-rule:evenodd;stroke:#000000;stroke-width:1.0px;stroke-linecap:butt;stroke-linejoin:miter;stroke-opacity:1\"/>\n",
       "<path class=\"bond-11 atom-4 atom-10\" d=\"M 233.5,318.4 L 233.6,314.7\" style=\"fill:none;fill-rule:evenodd;stroke:#000000;stroke-width:1.0px;stroke-linecap:butt;stroke-linejoin:miter;stroke-opacity:1\"/>\n",
       "<path class=\"bond-11 atom-4 atom-10\" d=\"M 230.2,318.9 L 230.2,314.3\" style=\"fill:none;fill-rule:evenodd;stroke:#000000;stroke-width:1.0px;stroke-linecap:butt;stroke-linejoin:miter;stroke-opacity:1\"/>\n",
       "<path class=\"bond-11 atom-4 atom-10\" d=\"M 226.8,319.3 L 226.8,313.8\" style=\"fill:none;fill-rule:evenodd;stroke:#000000;stroke-width:1.0px;stroke-linecap:butt;stroke-linejoin:miter;stroke-opacity:1\"/>\n",
       "<path class=\"bond-11 atom-4 atom-10\" d=\"M 223.4,319.8 L 223.4,313.3\" style=\"fill:none;fill-rule:evenodd;stroke:#000000;stroke-width:1.0px;stroke-linecap:butt;stroke-linejoin:miter;stroke-opacity:1\"/>\n",
       "<path class=\"bond-12 atom-6 atom-11\" d=\"M 318.8,275.8 L 326.4,256.4 L 332.0,259.6 Z\" style=\"fill:#000000;fill-rule:evenodd;fill-opacity:1;stroke:#000000;stroke-width:0.5px;stroke-linecap:butt;stroke-linejoin:miter;stroke-opacity:1;\"/>\n",
       "<path d=\"M 319.5,356.3 L 318.3,358.4 L 315.9,358.3\" style=\"fill:none;stroke:#000000;stroke-width:2.0px;stroke-linecap:butt;stroke-linejoin:miter;stroke-opacity:1;\"/>\n",
       "<path d=\"M 273.0,358.1 L 270.6,358.1 L 269.5,356.0\" style=\"fill:none;stroke:#000000;stroke-width:2.0px;stroke-linecap:butt;stroke-linejoin:miter;stroke-opacity:1;\"/>\n",
       "<path d=\"M 269.9,277.6 L 271.1,275.5 L 273.5,275.6\" style=\"fill:none;stroke:#000000;stroke-width:2.0px;stroke-linecap:butt;stroke-linejoin:miter;stroke-opacity:1;\"/>\n",
       "<path class=\"atom-10\" d=\"M 210.0 309.7 L 211.8 309.7 L 211.8 315.5 L 218.7 315.5 L 218.7 309.7 L 220.6 309.7 L 220.6 323.2 L 218.7 323.2 L 218.7 317.0 L 211.8 317.0 L 211.8 323.2 L 210.0 323.2 L 210.0 309.7 \" fill=\"#000000\"/>\n",
       "<path class=\"atom-11\" d=\"M 329.5 241.6 L 331.4 241.6 L 331.4 247.4 L 338.3 247.4 L 338.3 241.6 L 340.1 241.6 L 340.1 255.1 L 338.3 255.1 L 338.3 248.9 L 331.4 248.9 L 331.4 255.1 L 329.5 255.1 L 329.5 241.6 \" fill=\"#000000\"/>\n",
       "</svg>"
      ],
      "text/plain": [
       "<IPython.core.display.SVG object>"
      ]
     },
     "execution_count": 58,
     "metadata": {},
     "output_type": "execute_result"
    }
   ],
   "source": [
    "Chem.Draw.MolsToGridImage(apinene_isomers, molsPerRow=2, useSVG=True)"
   ]
  },
  {
   "cell_type": "markdown",
   "id": "b32d5a56-cd29-45c6-a5d6-fe76cb77501a",
   "metadata": {},
   "source": [
    "Or let's inspect pinonaldehyde, an oxidation product of $\\alpha$-pinene:"
   ]
  },
  {
   "cell_type": "code",
   "execution_count": 75,
   "id": "f7039da2-eb88-4ada-a492-8a5f7cbfcf2b",
   "metadata": {},
   "outputs": [
    {
     "data": {
      "image/svg+xml": [
       "<svg xmlns=\"http://www.w3.org/2000/svg\" xmlns:rdkit=\"http://www.rdkit.org/xml\" xmlns:xlink=\"http://www.w3.org/1999/xlink\" version=\"1.1\" baseProfile=\"full\" xml:space=\"preserve\" width=\"400px\" height=\"400px\" viewBox=\"0 0 400 400\">\n",
       "<!-- END OF HEADER -->\n",
       "<rect style=\"opacity:1.0;fill:#FFFFFF;stroke:none\" width=\"200.0\" height=\"200.0\" x=\"0.0\" y=\"0.0\"> </rect>\n",
       "<path class=\"bond-0 atom-0 atom-1\" d=\"M 10.0,75.2 L 28.8,98.3\" style=\"fill:none;fill-rule:evenodd;stroke:#000000;stroke-width:2.0px;stroke-linecap:butt;stroke-linejoin:miter;stroke-opacity:1\"/>\n",
       "<path class=\"bond-1 atom-1 atom-2\" d=\"M 27.1,96.3 L 22.6,108.2\" style=\"fill:none;fill-rule:evenodd;stroke:#000000;stroke-width:2.0px;stroke-linecap:butt;stroke-linejoin:miter;stroke-opacity:1\"/>\n",
       "<path class=\"bond-1 atom-1 atom-2\" d=\"M 22.6,108.2 L 18.0,120.1\" style=\"fill:none;fill-rule:evenodd;stroke:#FF0000;stroke-width:2.0px;stroke-linecap:butt;stroke-linejoin:miter;stroke-opacity:1\"/>\n",
       "<path class=\"bond-1 atom-1 atom-2\" d=\"M 31.3,97.9 L 26.8,109.8\" style=\"fill:none;fill-rule:evenodd;stroke:#000000;stroke-width:2.0px;stroke-linecap:butt;stroke-linejoin:miter;stroke-opacity:1\"/>\n",
       "<path class=\"bond-1 atom-1 atom-2\" d=\"M 26.8,109.8 L 22.2,121.7\" style=\"fill:none;fill-rule:evenodd;stroke:#FF0000;stroke-width:2.0px;stroke-linecap:butt;stroke-linejoin:miter;stroke-opacity:1\"/>\n",
       "<path class=\"bond-2 atom-3 atom-1\" d=\"M 54.9,93.9 L 55.0,94.4\" style=\"fill:none;fill-rule:evenodd;stroke:#000000;stroke-width:1.0px;stroke-linecap:butt;stroke-linejoin:miter;stroke-opacity:1\"/>\n",
       "<path class=\"bond-2 atom-3 atom-1\" d=\"M 51.6,94.1 L 51.7,95.2\" style=\"fill:none;fill-rule:evenodd;stroke:#000000;stroke-width:1.0px;stroke-linecap:butt;stroke-linejoin:miter;stroke-opacity:1\"/>\n",
       "<path class=\"bond-2 atom-3 atom-1\" d=\"M 48.3,94.3 L 48.5,96.0\" style=\"fill:none;fill-rule:evenodd;stroke:#000000;stroke-width:1.0px;stroke-linecap:butt;stroke-linejoin:miter;stroke-opacity:1\"/>\n",
       "<path class=\"bond-2 atom-3 atom-1\" d=\"M 44.9,94.6 L 45.3,96.8\" style=\"fill:none;fill-rule:evenodd;stroke:#000000;stroke-width:1.0px;stroke-linecap:butt;stroke-linejoin:miter;stroke-opacity:1\"/>\n",
       "<path class=\"bond-2 atom-3 atom-1\" d=\"M 41.6,94.8 L 42.1,97.6\" style=\"fill:none;fill-rule:evenodd;stroke:#000000;stroke-width:1.0px;stroke-linecap:butt;stroke-linejoin:miter;stroke-opacity:1\"/>\n",
       "<path class=\"bond-2 atom-3 atom-1\" d=\"M 38.3,95.1 L 38.9,98.4\" style=\"fill:none;fill-rule:evenodd;stroke:#000000;stroke-width:1.0px;stroke-linecap:butt;stroke-linejoin:miter;stroke-opacity:1\"/>\n",
       "<path class=\"bond-2 atom-3 atom-1\" d=\"M 35.0,95.3 L 35.6,99.2\" style=\"fill:none;fill-rule:evenodd;stroke:#000000;stroke-width:1.0px;stroke-linecap:butt;stroke-linejoin:miter;stroke-opacity:1\"/>\n",
       "<path class=\"bond-2 atom-3 atom-1\" d=\"M 31.7,95.6 L 32.4,100.0\" style=\"fill:none;fill-rule:evenodd;stroke:#000000;stroke-width:1.0px;stroke-linecap:butt;stroke-linejoin:miter;stroke-opacity:1\"/>\n",
       "<path class=\"bond-3 atom-3 atom-4\" d=\"M 58.2,93.6 L 75.7,69.5\" style=\"fill:none;fill-rule:evenodd;stroke:#000000;stroke-width:2.0px;stroke-linecap:butt;stroke-linejoin:miter;stroke-opacity:1\"/>\n",
       "<path class=\"bond-4 atom-4 atom-5\" d=\"M 75.7,69.5 L 99.8,87.0\" style=\"fill:none;fill-rule:evenodd;stroke:#000000;stroke-width:2.0px;stroke-linecap:butt;stroke-linejoin:miter;stroke-opacity:1\"/>\n",
       "<path class=\"bond-5 atom-5 atom-6\" d=\"M 99.8,87.0 L 82.3,111.1\" style=\"fill:none;fill-rule:evenodd;stroke:#000000;stroke-width:2.0px;stroke-linecap:butt;stroke-linejoin:miter;stroke-opacity:1\"/>\n",
       "<path class=\"bond-6 atom-6 atom-7\" d=\"M 82.3,111.1 L 106.4,128.6\" style=\"fill:none;fill-rule:evenodd;stroke:#000000;stroke-width:2.0px;stroke-linecap:butt;stroke-linejoin:miter;stroke-opacity:1\"/>\n",
       "<path class=\"bond-7 atom-6 atom-8\" d=\"M 82.3,111.1 L 64.8,135.2\" style=\"fill:none;fill-rule:evenodd;stroke:#000000;stroke-width:2.0px;stroke-linecap:butt;stroke-linejoin:miter;stroke-opacity:1\"/>\n",
       "<path class=\"bond-8 atom-5 atom-9\" d=\"M 99.8,87.0 L 127.7,80.4 L 130.9,84.4 Z\" style=\"fill:#000000;fill-rule:evenodd;fill-opacity:1;stroke:#000000;stroke-width:0.5px;stroke-linecap:butt;stroke-linejoin:miter;stroke-opacity:1;\"/>\n",
       "<path class=\"bond-9 atom-9 atom-10\" d=\"M 127.7,80.4 L 148.0,105.4\" style=\"fill:none;fill-rule:evenodd;stroke:#000000;stroke-width:2.0px;stroke-linecap:butt;stroke-linejoin:miter;stroke-opacity:1\"/>\n",
       "<path class=\"bond-10 atom-10 atom-11\" d=\"M 148.0,105.4 L 160.3,103.5\" style=\"fill:none;fill-rule:evenodd;stroke:#000000;stroke-width:2.0px;stroke-linecap:butt;stroke-linejoin:miter;stroke-opacity:1\"/>\n",
       "<path class=\"bond-10 atom-10 atom-11\" d=\"M 160.3,103.5 L 172.5,101.5\" style=\"fill:none;fill-rule:evenodd;stroke:#FF0000;stroke-width:2.0px;stroke-linecap:butt;stroke-linejoin:miter;stroke-opacity:1\"/>\n",
       "<path class=\"bond-10 atom-10 atom-11\" d=\"M 149.8,100.6 L 159.6,99.1\" style=\"fill:none;fill-rule:evenodd;stroke:#000000;stroke-width:2.0px;stroke-linecap:butt;stroke-linejoin:miter;stroke-opacity:1\"/>\n",
       "<path class=\"bond-10 atom-10 atom-11\" d=\"M 159.6,99.1 L 171.8,97.1\" style=\"fill:none;fill-rule:evenodd;stroke:#FF0000;stroke-width:2.0px;stroke-linecap:butt;stroke-linejoin:miter;stroke-opacity:1\"/>\n",
       "<path class=\"bond-11 atom-6 atom-3\" d=\"M 82.3,111.1 L 58.2,93.6\" style=\"fill:none;fill-rule:evenodd;stroke:#000000;stroke-width:2.0px;stroke-linecap:butt;stroke-linejoin:miter;stroke-opacity:1\"/>\n",
       "<path d=\"M 59.1,92.4 L 58.2,93.6 L 59.4,94.5\" style=\"fill:none;stroke:#000000;stroke-width:2.0px;stroke-linecap:butt;stroke-linejoin:miter;stroke-opacity:1;\"/>\n",
       "<path d=\"M 74.8,70.7 L 75.7,69.5 L 76.9,70.4\" style=\"fill:none;stroke:#000000;stroke-width:2.0px;stroke-linecap:butt;stroke-linejoin:miter;stroke-opacity:1;\"/>\n",
       "<path d=\"M 98.6,86.1 L 99.8,87.0 L 98.9,88.2\" style=\"fill:none;stroke:#000000;stroke-width:2.0px;stroke-linecap:butt;stroke-linejoin:miter;stroke-opacity:1;\"/>\n",
       "<path d=\"M 147.0,104.2 L 148.0,105.4 L 148.6,105.3\" style=\"fill:none;stroke:#000000;stroke-width:2.0px;stroke-linecap:butt;stroke-linejoin:miter;stroke-opacity:1;\"/>\n",
       "<path class=\"atom-2\" d=\"M 14.2 126.1 Q 14.2 124.1, 15.2 123.0 Q 16.2 121.8, 18.1 121.8 Q 20.0 121.8, 21.0 123.0 Q 22.0 124.1, 22.0 126.1 Q 22.0 128.2, 21.0 129.4 Q 20.0 130.5, 18.1 130.5 Q 16.3 130.5, 15.2 129.4 Q 14.2 128.2, 14.2 126.1 M 18.1 129.6 Q 19.4 129.6, 20.1 128.7 Q 20.8 127.8, 20.8 126.1 Q 20.8 124.5, 20.1 123.6 Q 19.4 122.8, 18.1 122.8 Q 16.8 122.8, 16.1 123.6 Q 15.4 124.5, 15.4 126.1 Q 15.4 127.8, 16.1 128.7 Q 16.8 129.6, 18.1 129.6 \" fill=\"#FF0000\"/>\n",
       "<path class=\"atom-11\" d=\"M 173.2 98.6 Q 173.2 96.5, 174.2 95.4 Q 175.2 94.3, 177.0 94.3 Q 178.9 94.3, 179.9 95.4 Q 180.9 96.5, 180.9 98.6 Q 180.9 100.6, 179.9 101.8 Q 178.9 102.9, 177.0 102.9 Q 175.2 102.9, 174.2 101.8 Q 173.2 100.6, 173.2 98.6 M 177.0 102.0 Q 178.3 102.0, 179.0 101.1 Q 179.7 100.3, 179.7 98.6 Q 179.7 96.9, 179.0 96.1 Q 178.3 95.2, 177.0 95.2 Q 175.8 95.2, 175.1 96.1 Q 174.4 96.9, 174.4 98.6 Q 174.4 100.3, 175.1 101.1 Q 175.8 102.0, 177.0 102.0 \" fill=\"#FF0000\"/>\n",
       "<path class=\"note\" d=\"M 13.9 74.2 Q 13.1 74.2, 12.7 73.6 Q 12.3 73.1, 12.3 72.0 Q 12.3 71.0, 12.7 70.5 Q 13.1 69.9, 13.9 69.9 Q 14.6 69.9, 15.0 70.5 Q 15.4 71.0, 15.4 72.0 Q 15.4 73.1, 15.0 73.6 Q 14.6 74.2, 13.9 74.2 M 13.9 73.7 Q 14.3 73.7, 14.6 73.3 Q 14.8 72.9, 14.8 72.0 Q 14.8 71.2, 14.6 70.8 Q 14.3 70.4, 13.9 70.4 Q 13.4 70.4, 13.2 70.8 Q 12.9 71.2, 12.9 72.0 Q 12.9 72.9, 13.2 73.3 Q 13.4 73.7, 13.9 73.7 \" fill=\"#000000\"/>\n",
       "<path class=\"note\" d=\"M 17.9 101.5 L 18.8 101.5 L 18.8 98.3 L 17.8 98.7 L 17.7 98.3 L 19.0 97.7 L 19.4 97.8 L 19.4 101.5 L 20.2 101.5 L 20.2 102.0 L 17.9 102.0 L 17.9 101.5 \" fill=\"#000000\"/>\n",
       "<path class=\"note\" d=\"M 13.2 134.1 Q 13.3 133.7, 13.7 133.5 Q 14.0 133.3, 14.6 133.3 Q 15.2 133.3, 15.6 133.6 Q 15.9 133.9, 15.9 134.6 Q 15.9 135.2, 15.4 135.8 Q 15.0 136.4, 14.0 137.0 L 16.0 137.0 L 16.0 137.5 L 13.1 137.5 L 13.1 137.1 Q 13.9 136.6, 14.4 136.1 Q 14.9 135.7, 15.1 135.4 Q 15.3 135.0, 15.3 134.6 Q 15.3 134.2, 15.1 134.0 Q 14.9 133.7, 14.6 133.7 Q 14.2 133.7, 14.0 133.9 Q 13.8 134.0, 13.6 134.3 L 13.2 134.1 \" fill=\"#000000\"/>\n",
       "<path class=\"note\" d=\"M 56.2 89.3 Q 56.6 89.4, 56.8 89.7 Q 57.0 89.9, 57.0 90.4 Q 57.0 90.7, 56.8 91.0 Q 56.6 91.3, 56.3 91.4 Q 56.0 91.6, 55.6 91.6 Q 55.1 91.6, 54.8 91.4 Q 54.4 91.3, 54.2 90.9 L 54.5 90.6 Q 54.8 90.9, 55.0 91.0 Q 55.2 91.1, 55.6 91.1 Q 55.9 91.1, 56.2 90.9 Q 56.4 90.7, 56.4 90.3 Q 56.4 89.9, 56.2 89.7 Q 55.9 89.5, 55.4 89.5 L 55.1 89.5 L 55.1 89.1 L 55.4 89.1 Q 55.8 89.1, 56.1 88.9 Q 56.3 88.7, 56.3 88.3 Q 56.3 88.0, 56.1 87.9 Q 55.9 87.7, 55.6 87.7 Q 55.2 87.7, 55.0 87.8 Q 54.8 88.0, 54.6 88.3 L 54.2 88.1 Q 54.4 87.7, 54.7 87.5 Q 55.1 87.2, 55.6 87.2 Q 56.2 87.2, 56.6 87.5 Q 56.9 87.8, 56.9 88.3 Q 56.9 88.7, 56.7 88.9 Q 56.5 89.2, 56.2 89.3 \" fill=\"#000000\"/>\n",
       "<path class=\"note\" d=\"M 76.0 65.3 L 76.5 65.3 L 76.5 65.7 L 76.0 65.7 L 76.0 66.7 L 75.5 66.7 L 75.5 65.7 L 73.3 65.7 L 73.3 65.4 L 75.1 62.5 L 76.0 62.5 L 76.0 65.3 M 74.0 65.3 L 75.5 65.3 L 75.5 62.9 L 74.0 65.3 \" fill=\"#000000\"/>\n",
       "<path class=\"note\" d=\"M 101.7 81.8 Q 102.0 81.8, 102.3 82.0 Q 102.6 82.1, 102.8 82.4 Q 103.0 82.7, 103.0 83.1 Q 103.0 83.6, 102.8 83.9 Q 102.6 84.2, 102.2 84.3 Q 101.9 84.5, 101.5 84.5 Q 101.1 84.5, 100.7 84.4 Q 100.4 84.2, 100.1 83.9 L 100.5 83.6 Q 100.7 83.8, 101.0 83.9 Q 101.2 84.0, 101.5 84.0 Q 101.9 84.0, 102.1 83.8 Q 102.4 83.6, 102.4 83.1 Q 102.4 82.7, 102.1 82.5 Q 101.9 82.3, 101.5 82.3 Q 101.1 82.3, 100.7 82.4 L 100.4 82.3 L 100.6 80.2 L 102.7 80.2 L 102.7 80.7 L 101.1 80.7 L 100.9 82.0 Q 101.3 81.8, 101.7 81.8 \" fill=\"#000000\"/>\n",
       "<path class=\"note\" d=\"M 92.3 109.0 Q 92.7 109.0, 93.0 109.2 Q 93.2 109.4, 93.4 109.7 Q 93.6 109.9, 93.6 110.3 Q 93.6 110.7, 93.4 111.0 Q 93.2 111.4, 92.9 111.5 Q 92.6 111.7, 92.2 111.7 Q 91.4 111.7, 91.0 111.2 Q 90.6 110.7, 90.6 109.7 Q 90.6 108.6, 91.1 108.0 Q 91.6 107.4, 92.5 107.4 Q 92.7 107.4, 93.0 107.5 Q 93.2 107.5, 93.4 107.6 L 93.2 108.0 Q 92.9 107.9, 92.5 107.9 Q 91.9 107.9, 91.6 108.3 Q 91.3 108.7, 91.2 109.4 Q 91.5 109.2, 91.7 109.1 Q 92.0 109.0, 92.3 109.0 M 92.2 111.2 Q 92.4 111.2, 92.6 111.1 Q 92.8 111.0, 92.9 110.8 Q 93.0 110.6, 93.0 110.3 Q 93.0 109.9, 92.8 109.7 Q 92.6 109.5, 92.2 109.5 Q 91.9 109.5, 91.7 109.6 Q 91.4 109.7, 91.2 109.9 Q 91.3 110.6, 91.5 110.9 Q 91.7 111.2, 92.2 111.2 \" fill=\"#000000\"/>\n",
       "<path class=\"note\" d=\"M 104.3 131.0 L 102.1 131.0 L 102.1 130.5 L 104.9 130.5 L 104.9 130.9 L 103.2 134.7 L 102.6 134.7 L 104.3 131.0 \" fill=\"#000000\"/>\n",
       "<path class=\"note\" d=\"M 61.5 132.2 Q 61.8 132.4, 62.1 132.6 Q 62.3 132.9, 62.3 133.3 Q 62.3 133.6, 62.1 133.9 Q 61.9 134.2, 61.6 134.3 Q 61.2 134.5, 60.8 134.5 Q 60.1 134.5, 59.7 134.2 Q 59.3 133.8, 59.3 133.3 Q 59.3 132.9, 59.5 132.7 Q 59.7 132.4, 60.0 132.2 Q 59.8 132.1, 59.6 131.8 Q 59.5 131.6, 59.5 131.2 Q 59.5 130.7, 59.8 130.5 Q 60.2 130.2, 60.8 130.2 Q 61.4 130.2, 61.8 130.5 Q 62.1 130.7, 62.1 131.2 Q 62.1 131.6, 62.0 131.8 Q 61.8 132.0, 61.5 132.2 M 60.8 130.6 Q 60.4 130.6, 60.2 130.8 Q 60.1 130.9, 60.1 131.2 Q 60.1 131.5, 60.2 131.6 Q 60.3 131.8, 60.5 131.8 Q 60.7 131.9, 61.1 132.0 Q 61.3 131.9, 61.4 131.7 Q 61.5 131.5, 61.5 131.2 Q 61.5 130.9, 61.3 130.8 Q 61.1 130.6, 60.8 130.6 M 60.8 134.0 Q 61.2 134.0, 61.4 133.8 Q 61.7 133.6, 61.7 133.3 Q 61.7 133.0, 61.6 132.9 Q 61.4 132.8, 61.2 132.7 Q 61.1 132.6, 60.7 132.5 L 60.5 132.4 Q 60.2 132.6, 60.0 132.8 Q 59.9 133.0, 59.9 133.3 Q 59.9 133.6, 60.1 133.8 Q 60.4 134.0, 60.8 134.0 \" fill=\"#000000\"/>\n",
       "<path class=\"note\" d=\"M 130.9 75.5 Q 131.7 75.5, 132.1 76.0 Q 132.4 76.5, 132.4 77.6 Q 132.4 78.7, 132.0 79.3 Q 131.5 79.8, 130.6 79.8 Q 130.4 79.8, 130.1 79.8 Q 129.9 79.7, 129.7 79.6 L 129.9 79.2 Q 130.2 79.4, 130.6 79.4 Q 131.2 79.4, 131.5 79.0 Q 131.8 78.6, 131.8 77.8 Q 131.6 78.0, 131.4 78.1 Q 131.1 78.2, 130.8 78.2 Q 130.4 78.2, 130.1 78.1 Q 129.8 77.9, 129.7 77.6 Q 129.5 77.3, 129.5 76.9 Q 129.5 76.5, 129.7 76.2 Q 129.9 75.9, 130.2 75.7 Q 130.5 75.5, 130.9 75.5 M 130.1 76.9 Q 130.1 77.3, 130.3 77.5 Q 130.5 77.7, 130.9 77.7 Q 131.2 77.7, 131.4 77.6 Q 131.7 77.5, 131.8 77.3 Q 131.8 76.7, 131.6 76.3 Q 131.4 76.0, 130.9 76.0 Q 130.7 76.0, 130.5 76.1 Q 130.3 76.3, 130.2 76.5 Q 130.1 76.7, 130.1 76.9 \" fill=\"#000000\"/>\n",
       "<path class=\"note\" d=\"M 143.4 111.7 L 144.3 111.7 L 144.3 108.6 L 143.3 108.9 L 143.1 108.5 L 144.4 108.0 L 144.8 108.0 L 144.8 111.7 L 145.7 111.7 L 145.7 112.2 L 143.4 112.2 L 143.4 111.7 \" fill=\"#000000\"/>\n",
       "<path class=\"note\" d=\"M 147.7 112.3 Q 147.0 112.3, 146.6 111.7 Q 146.2 111.1, 146.2 110.1 Q 146.2 109.1, 146.6 108.5 Q 147.0 107.9, 147.7 107.9 Q 148.5 107.9, 148.9 108.5 Q 149.3 109.1, 149.3 110.1 Q 149.3 111.1, 148.9 111.7 Q 148.5 112.3, 147.7 112.3 M 147.7 111.8 Q 148.2 111.8, 148.4 111.4 Q 148.7 110.9, 148.7 110.1 Q 148.7 109.3, 148.4 108.8 Q 148.2 108.4, 147.7 108.4 Q 147.3 108.4, 147.0 108.8 Q 146.8 109.3, 146.8 110.1 Q 146.8 110.9, 147.0 111.4 Q 147.3 111.8, 147.7 111.8 \" fill=\"#000000\"/>\n",
       "<path class=\"note\" d=\"M 184.6 100.8 L 185.6 100.8 L 185.6 97.7 L 184.5 98.0 L 184.4 97.6 L 185.7 97.1 L 186.1 97.1 L 186.1 100.8 L 187.0 100.8 L 187.0 101.3 L 184.6 101.3 L 184.6 100.8 \" fill=\"#000000\"/>\n",
       "<path class=\"note\" d=\"M 187.7 100.8 L 188.6 100.8 L 188.6 97.7 L 187.6 98.0 L 187.5 97.6 L 188.7 97.1 L 189.2 97.1 L 189.2 100.8 L 190.0 100.8 L 190.0 101.3 L 187.7 101.3 L 187.7 100.8 \" fill=\"#000000\"/>\n",
       "<path class=\"bond-0 atom-0 atom-1\" d=\"M 210.0,75.2 L 228.8,98.3\" style=\"fill:none;fill-rule:evenodd;stroke:#000000;stroke-width:2.0px;stroke-linecap:butt;stroke-linejoin:miter;stroke-opacity:1\"/>\n",
       "<path class=\"bond-1 atom-1 atom-2\" d=\"M 227.1,96.3 L 222.6,108.2\" style=\"fill:none;fill-rule:evenodd;stroke:#000000;stroke-width:2.0px;stroke-linecap:butt;stroke-linejoin:miter;stroke-opacity:1\"/>\n",
       "<path class=\"bond-1 atom-1 atom-2\" d=\"M 222.6,108.2 L 218.0,120.1\" style=\"fill:none;fill-rule:evenodd;stroke:#FF0000;stroke-width:2.0px;stroke-linecap:butt;stroke-linejoin:miter;stroke-opacity:1\"/>\n",
       "<path class=\"bond-1 atom-1 atom-2\" d=\"M 231.3,97.9 L 226.8,109.8\" style=\"fill:none;fill-rule:evenodd;stroke:#000000;stroke-width:2.0px;stroke-linecap:butt;stroke-linejoin:miter;stroke-opacity:1\"/>\n",
       "<path class=\"bond-1 atom-1 atom-2\" d=\"M 226.8,109.8 L 222.2,121.7\" style=\"fill:none;fill-rule:evenodd;stroke:#FF0000;stroke-width:2.0px;stroke-linecap:butt;stroke-linejoin:miter;stroke-opacity:1\"/>\n",
       "<path class=\"bond-2 atom-3 atom-1\" d=\"M 258.2,93.6 L 230.3,100.2 L 227.1,96.2 Z\" style=\"fill:#000000;fill-rule:evenodd;fill-opacity:1;stroke:#000000;stroke-width:0.5px;stroke-linecap:butt;stroke-linejoin:miter;stroke-opacity:1;\"/>\n",
       "<path class=\"bond-3 atom-3 atom-4\" d=\"M 258.2,93.6 L 275.7,69.5\" style=\"fill:none;fill-rule:evenodd;stroke:#000000;stroke-width:2.0px;stroke-linecap:butt;stroke-linejoin:miter;stroke-opacity:1\"/>\n",
       "<path class=\"bond-4 atom-4 atom-5\" d=\"M 275.7,69.5 L 299.8,87.0\" style=\"fill:none;fill-rule:evenodd;stroke:#000000;stroke-width:2.0px;stroke-linecap:butt;stroke-linejoin:miter;stroke-opacity:1\"/>\n",
       "<path class=\"bond-5 atom-5 atom-6\" d=\"M 299.8,87.0 L 282.3,111.1\" style=\"fill:none;fill-rule:evenodd;stroke:#000000;stroke-width:2.0px;stroke-linecap:butt;stroke-linejoin:miter;stroke-opacity:1\"/>\n",
       "<path class=\"bond-6 atom-6 atom-7\" d=\"M 282.3,111.1 L 306.4,128.6\" style=\"fill:none;fill-rule:evenodd;stroke:#000000;stroke-width:2.0px;stroke-linecap:butt;stroke-linejoin:miter;stroke-opacity:1\"/>\n",
       "<path class=\"bond-7 atom-6 atom-8\" d=\"M 282.3,111.1 L 264.8,135.2\" style=\"fill:none;fill-rule:evenodd;stroke:#000000;stroke-width:2.0px;stroke-linecap:butt;stroke-linejoin:miter;stroke-opacity:1\"/>\n",
       "<path class=\"bond-8 atom-5 atom-9\" d=\"M 299.8,87.0 L 327.7,80.4 L 330.9,84.4 Z\" style=\"fill:#000000;fill-rule:evenodd;fill-opacity:1;stroke:#000000;stroke-width:0.5px;stroke-linecap:butt;stroke-linejoin:miter;stroke-opacity:1;\"/>\n",
       "<path class=\"bond-9 atom-9 atom-10\" d=\"M 327.7,80.4 L 348.0,105.4\" style=\"fill:none;fill-rule:evenodd;stroke:#000000;stroke-width:2.0px;stroke-linecap:butt;stroke-linejoin:miter;stroke-opacity:1\"/>\n",
       "<path class=\"bond-10 atom-10 atom-11\" d=\"M 348.0,105.4 L 360.3,103.5\" style=\"fill:none;fill-rule:evenodd;stroke:#000000;stroke-width:2.0px;stroke-linecap:butt;stroke-linejoin:miter;stroke-opacity:1\"/>\n",
       "<path class=\"bond-10 atom-10 atom-11\" d=\"M 360.3,103.5 L 372.5,101.5\" style=\"fill:none;fill-rule:evenodd;stroke:#FF0000;stroke-width:2.0px;stroke-linecap:butt;stroke-linejoin:miter;stroke-opacity:1\"/>\n",
       "<path class=\"bond-10 atom-10 atom-11\" d=\"M 349.8,100.6 L 359.6,99.1\" style=\"fill:none;fill-rule:evenodd;stroke:#000000;stroke-width:2.0px;stroke-linecap:butt;stroke-linejoin:miter;stroke-opacity:1\"/>\n",
       "<path class=\"bond-10 atom-10 atom-11\" d=\"M 359.6,99.1 L 371.8,97.1\" style=\"fill:none;fill-rule:evenodd;stroke:#FF0000;stroke-width:2.0px;stroke-linecap:butt;stroke-linejoin:miter;stroke-opacity:1\"/>\n",
       "<path class=\"bond-11 atom-6 atom-3\" d=\"M 282.3,111.1 L 258.2,93.6\" style=\"fill:none;fill-rule:evenodd;stroke:#000000;stroke-width:2.0px;stroke-linecap:butt;stroke-linejoin:miter;stroke-opacity:1\"/>\n",
       "<path d=\"M 259.1,92.4 L 258.2,93.6 L 259.4,94.5\" style=\"fill:none;stroke:#000000;stroke-width:2.0px;stroke-linecap:butt;stroke-linejoin:miter;stroke-opacity:1;\"/>\n",
       "<path d=\"M 274.8,70.7 L 275.7,69.5 L 276.9,70.4\" style=\"fill:none;stroke:#000000;stroke-width:2.0px;stroke-linecap:butt;stroke-linejoin:miter;stroke-opacity:1;\"/>\n",
       "<path d=\"M 298.6,86.1 L 299.8,87.0 L 298.9,88.2\" style=\"fill:none;stroke:#000000;stroke-width:2.0px;stroke-linecap:butt;stroke-linejoin:miter;stroke-opacity:1;\"/>\n",
       "<path d=\"M 347.0,104.2 L 348.0,105.4 L 348.6,105.3\" style=\"fill:none;stroke:#000000;stroke-width:2.0px;stroke-linecap:butt;stroke-linejoin:miter;stroke-opacity:1;\"/>\n",
       "<path class=\"atom-2\" d=\"M 214.2 126.1 Q 214.2 124.1, 215.2 123.0 Q 216.2 121.8, 218.1 121.8 Q 220.0 121.8, 221.0 123.0 Q 222.0 124.1, 222.0 126.1 Q 222.0 128.2, 221.0 129.4 Q 220.0 130.5, 218.1 130.5 Q 216.3 130.5, 215.2 129.4 Q 214.2 128.2, 214.2 126.1 M 218.1 129.6 Q 219.4 129.6, 220.1 128.7 Q 220.8 127.8, 220.8 126.1 Q 220.8 124.5, 220.1 123.6 Q 219.4 122.8, 218.1 122.8 Q 216.8 122.8, 216.1 123.6 Q 215.4 124.5, 215.4 126.1 Q 215.4 127.8, 216.1 128.7 Q 216.8 129.6, 218.1 129.6 \" fill=\"#FF0000\"/>\n",
       "<path class=\"atom-11\" d=\"M 373.2 98.6 Q 373.2 96.5, 374.2 95.4 Q 375.2 94.3, 377.0 94.3 Q 378.9 94.3, 379.9 95.4 Q 380.9 96.5, 380.9 98.6 Q 380.9 100.6, 379.9 101.8 Q 378.9 102.9, 377.0 102.9 Q 375.2 102.9, 374.2 101.8 Q 373.2 100.6, 373.2 98.6 M 377.0 102.0 Q 378.3 102.0, 379.0 101.1 Q 379.7 100.3, 379.7 98.6 Q 379.7 96.9, 379.0 96.1 Q 378.3 95.2, 377.0 95.2 Q 375.8 95.2, 375.1 96.1 Q 374.4 96.9, 374.4 98.6 Q 374.4 100.3, 375.1 101.1 Q 375.8 102.0, 377.0 102.0 \" fill=\"#FF0000\"/>\n",
       "<path class=\"note\" d=\"M 213.9 74.2 Q 213.1 74.2, 212.7 73.6 Q 212.3 73.1, 212.3 72.0 Q 212.3 71.0, 212.7 70.5 Q 213.1 69.9, 213.9 69.9 Q 214.6 69.9, 215.0 70.5 Q 215.4 71.0, 215.4 72.0 Q 215.4 73.1, 215.0 73.6 Q 214.6 74.2, 213.9 74.2 M 213.9 73.7 Q 214.3 73.7, 214.6 73.3 Q 214.8 72.9, 214.8 72.0 Q 214.8 71.2, 214.6 70.8 Q 214.3 70.4, 213.9 70.4 Q 213.4 70.4, 213.2 70.8 Q 212.9 71.2, 212.9 72.0 Q 212.9 72.9, 213.2 73.3 Q 213.4 73.7, 213.9 73.7 \" fill=\"#000000\"/>\n",
       "<path class=\"note\" d=\"M 217.9 101.5 L 218.8 101.5 L 218.8 98.3 L 217.8 98.7 L 217.7 98.3 L 219.0 97.7 L 219.4 97.8 L 219.4 101.5 L 220.2 101.5 L 220.2 102.0 L 217.9 102.0 L 217.9 101.5 \" fill=\"#000000\"/>\n",
       "<path class=\"note\" d=\"M 213.2 134.1 Q 213.3 133.7, 213.7 133.5 Q 214.0 133.3, 214.6 133.3 Q 215.2 133.3, 215.6 133.6 Q 215.9 133.9, 215.9 134.6 Q 215.9 135.2, 215.4 135.8 Q 215.0 136.4, 214.0 137.0 L 216.0 137.0 L 216.0 137.5 L 213.1 137.5 L 213.1 137.1 Q 213.9 136.6, 214.4 136.1 Q 214.9 135.7, 215.1 135.4 Q 215.3 135.0, 215.3 134.6 Q 215.3 134.2, 215.1 134.0 Q 214.9 133.7, 214.6 133.7 Q 214.2 133.7, 214.0 133.9 Q 213.8 134.0, 213.6 134.3 L 213.2 134.1 \" fill=\"#000000\"/>\n",
       "<path class=\"note\" d=\"M 256.2 89.3 Q 256.6 89.4, 256.8 89.7 Q 257.0 89.9, 257.0 90.4 Q 257.0 90.7, 256.8 91.0 Q 256.6 91.3, 256.3 91.4 Q 256.0 91.6, 255.6 91.6 Q 255.1 91.6, 254.8 91.4 Q 254.4 91.3, 254.2 90.9 L 254.5 90.6 Q 254.8 90.9, 255.0 91.0 Q 255.2 91.1, 255.6 91.1 Q 255.9 91.1, 256.2 90.9 Q 256.4 90.7, 256.4 90.3 Q 256.4 89.9, 256.2 89.7 Q 255.9 89.5, 255.4 89.5 L 255.1 89.5 L 255.1 89.1 L 255.4 89.1 Q 255.8 89.1, 256.1 88.9 Q 256.3 88.7, 256.3 88.3 Q 256.3 88.0, 256.1 87.9 Q 255.9 87.7, 255.6 87.7 Q 255.2 87.7, 255.0 87.8 Q 254.8 88.0, 254.6 88.3 L 254.2 88.1 Q 254.4 87.7, 254.7 87.5 Q 255.1 87.2, 255.6 87.2 Q 256.2 87.2, 256.6 87.5 Q 256.9 87.8, 256.9 88.3 Q 256.9 88.7, 256.7 88.9 Q 256.5 89.2, 256.2 89.3 \" fill=\"#000000\"/>\n",
       "<path class=\"note\" d=\"M 276.0 65.3 L 276.5 65.3 L 276.5 65.7 L 276.0 65.7 L 276.0 66.7 L 275.5 66.7 L 275.5 65.7 L 273.3 65.7 L 273.3 65.4 L 275.1 62.5 L 276.0 62.5 L 276.0 65.3 M 274.0 65.3 L 275.5 65.3 L 275.5 62.9 L 274.0 65.3 \" fill=\"#000000\"/>\n",
       "<path class=\"note\" d=\"M 301.7 81.8 Q 302.0 81.8, 302.3 82.0 Q 302.6 82.1, 302.8 82.4 Q 303.0 82.7, 303.0 83.1 Q 303.0 83.6, 302.8 83.9 Q 302.6 84.2, 302.2 84.3 Q 301.9 84.5, 301.5 84.5 Q 301.1 84.5, 300.7 84.4 Q 300.4 84.2, 300.1 83.9 L 300.5 83.6 Q 300.7 83.8, 301.0 83.9 Q 301.2 84.0, 301.5 84.0 Q 301.9 84.0, 302.1 83.8 Q 302.4 83.6, 302.4 83.1 Q 302.4 82.7, 302.1 82.5 Q 301.9 82.3, 301.5 82.3 Q 301.1 82.3, 300.7 82.4 L 300.4 82.3 L 300.6 80.2 L 302.7 80.2 L 302.7 80.7 L 301.1 80.7 L 300.9 82.0 Q 301.3 81.8, 301.7 81.8 \" fill=\"#000000\"/>\n",
       "<path class=\"note\" d=\"M 292.3 109.0 Q 292.7 109.0, 293.0 109.2 Q 293.2 109.4, 293.4 109.7 Q 293.6 109.9, 293.6 110.3 Q 293.6 110.7, 293.4 111.0 Q 293.2 111.4, 292.9 111.5 Q 292.6 111.7, 292.2 111.7 Q 291.4 111.7, 291.0 111.2 Q 290.6 110.7, 290.6 109.7 Q 290.6 108.6, 291.1 108.0 Q 291.6 107.4, 292.5 107.4 Q 292.7 107.4, 293.0 107.5 Q 293.2 107.5, 293.4 107.6 L 293.2 108.0 Q 292.9 107.9, 292.5 107.9 Q 291.9 107.9, 291.6 108.3 Q 291.3 108.7, 291.2 109.4 Q 291.5 109.2, 291.7 109.1 Q 292.0 109.0, 292.3 109.0 M 292.2 111.2 Q 292.4 111.2, 292.6 111.1 Q 292.8 111.0, 292.9 110.8 Q 293.0 110.6, 293.0 110.3 Q 293.0 109.9, 292.8 109.7 Q 292.6 109.5, 292.2 109.5 Q 291.9 109.5, 291.7 109.6 Q 291.4 109.7, 291.2 109.9 Q 291.3 110.6, 291.5 110.9 Q 291.7 111.2, 292.2 111.2 \" fill=\"#000000\"/>\n",
       "<path class=\"note\" d=\"M 304.3 131.0 L 302.1 131.0 L 302.1 130.5 L 304.9 130.5 L 304.9 130.9 L 303.2 134.7 L 302.6 134.7 L 304.3 131.0 \" fill=\"#000000\"/>\n",
       "<path class=\"note\" d=\"M 261.5 132.2 Q 261.8 132.4, 262.1 132.6 Q 262.3 132.9, 262.3 133.3 Q 262.3 133.6, 262.1 133.9 Q 261.9 134.2, 261.6 134.3 Q 261.2 134.5, 260.8 134.5 Q 260.1 134.5, 259.7 134.2 Q 259.3 133.8, 259.3 133.3 Q 259.3 132.9, 259.5 132.7 Q 259.7 132.4, 260.0 132.2 Q 259.8 132.1, 259.6 131.8 Q 259.5 131.6, 259.5 131.2 Q 259.5 130.7, 259.8 130.5 Q 260.2 130.2, 260.8 130.2 Q 261.4 130.2, 261.8 130.5 Q 262.1 130.7, 262.1 131.2 Q 262.1 131.6, 262.0 131.8 Q 261.8 132.0, 261.5 132.2 M 260.8 130.6 Q 260.4 130.6, 260.2 130.8 Q 260.1 130.9, 260.1 131.2 Q 260.1 131.5, 260.2 131.6 Q 260.3 131.8, 260.5 131.8 Q 260.7 131.9, 261.1 132.0 Q 261.3 131.9, 261.4 131.7 Q 261.5 131.5, 261.5 131.2 Q 261.5 130.9, 261.3 130.8 Q 261.1 130.6, 260.8 130.6 M 260.8 134.0 Q 261.2 134.0, 261.4 133.8 Q 261.7 133.6, 261.7 133.3 Q 261.7 133.0, 261.6 132.9 Q 261.4 132.8, 261.2 132.7 Q 261.1 132.6, 260.7 132.5 L 260.5 132.4 Q 260.2 132.6, 260.0 132.8 Q 259.9 133.0, 259.9 133.3 Q 259.9 133.6, 260.1 133.8 Q 260.4 134.0, 260.8 134.0 \" fill=\"#000000\"/>\n",
       "<path class=\"note\" d=\"M 330.9 75.5 Q 331.7 75.5, 332.1 76.0 Q 332.4 76.5, 332.4 77.6 Q 332.4 78.7, 332.0 79.3 Q 331.5 79.8, 330.6 79.8 Q 330.4 79.8, 330.1 79.8 Q 329.9 79.7, 329.7 79.6 L 329.9 79.2 Q 330.2 79.4, 330.6 79.4 Q 331.2 79.4, 331.5 79.0 Q 331.8 78.6, 331.8 77.8 Q 331.6 78.0, 331.4 78.1 Q 331.1 78.2, 330.8 78.2 Q 330.4 78.2, 330.1 78.1 Q 329.8 77.9, 329.7 77.6 Q 329.5 77.3, 329.5 76.9 Q 329.5 76.5, 329.7 76.2 Q 329.9 75.9, 330.2 75.7 Q 330.5 75.5, 330.9 75.5 M 330.1 76.9 Q 330.1 77.3, 330.3 77.5 Q 330.5 77.7, 330.9 77.7 Q 331.2 77.7, 331.4 77.6 Q 331.7 77.5, 331.8 77.3 Q 331.8 76.7, 331.6 76.3 Q 331.4 76.0, 330.9 76.0 Q 330.7 76.0, 330.5 76.1 Q 330.3 76.3, 330.2 76.5 Q 330.1 76.7, 330.1 76.9 \" fill=\"#000000\"/>\n",
       "<path class=\"note\" d=\"M 343.4 111.7 L 344.3 111.7 L 344.3 108.6 L 343.3 108.9 L 343.1 108.5 L 344.4 108.0 L 344.8 108.0 L 344.8 111.7 L 345.7 111.7 L 345.7 112.2 L 343.4 112.2 L 343.4 111.7 \" fill=\"#000000\"/>\n",
       "<path class=\"note\" d=\"M 347.7 112.3 Q 347.0 112.3, 346.6 111.7 Q 346.2 111.1, 346.2 110.1 Q 346.2 109.1, 346.6 108.5 Q 347.0 107.9, 347.7 107.9 Q 348.5 107.9, 348.9 108.5 Q 349.3 109.1, 349.3 110.1 Q 349.3 111.1, 348.9 111.7 Q 348.5 112.3, 347.7 112.3 M 347.7 111.8 Q 348.2 111.8, 348.4 111.4 Q 348.7 110.9, 348.7 110.1 Q 348.7 109.3, 348.4 108.8 Q 348.2 108.4, 347.7 108.4 Q 347.3 108.4, 347.0 108.8 Q 346.8 109.3, 346.8 110.1 Q 346.8 110.9, 347.0 111.4 Q 347.3 111.8, 347.7 111.8 \" fill=\"#000000\"/>\n",
       "<path class=\"note\" d=\"M 384.6 100.8 L 385.6 100.8 L 385.6 97.7 L 384.5 98.0 L 384.4 97.6 L 385.7 97.1 L 386.1 97.1 L 386.1 100.8 L 387.0 100.8 L 387.0 101.3 L 384.6 101.3 L 384.6 100.8 \" fill=\"#000000\"/>\n",
       "<path class=\"note\" d=\"M 387.7 100.8 L 388.6 100.8 L 388.6 97.7 L 387.6 98.0 L 387.5 97.6 L 388.7 97.1 L 389.2 97.1 L 389.2 100.8 L 390.0 100.8 L 390.0 101.3 L 387.7 101.3 L 387.7 100.8 \" fill=\"#000000\"/>\n",
       "<path class=\"bond-0 atom-0 atom-1\" d=\"M 10.0,275.2 L 28.8,298.3\" style=\"fill:none;fill-rule:evenodd;stroke:#000000;stroke-width:2.0px;stroke-linecap:butt;stroke-linejoin:miter;stroke-opacity:1\"/>\n",
       "<path class=\"bond-1 atom-1 atom-2\" d=\"M 27.1,296.3 L 22.6,308.2\" style=\"fill:none;fill-rule:evenodd;stroke:#000000;stroke-width:2.0px;stroke-linecap:butt;stroke-linejoin:miter;stroke-opacity:1\"/>\n",
       "<path class=\"bond-1 atom-1 atom-2\" d=\"M 22.6,308.2 L 18.0,320.1\" style=\"fill:none;fill-rule:evenodd;stroke:#FF0000;stroke-width:2.0px;stroke-linecap:butt;stroke-linejoin:miter;stroke-opacity:1\"/>\n",
       "<path class=\"bond-1 atom-1 atom-2\" d=\"M 31.3,297.9 L 26.8,309.8\" style=\"fill:none;fill-rule:evenodd;stroke:#000000;stroke-width:2.0px;stroke-linecap:butt;stroke-linejoin:miter;stroke-opacity:1\"/>\n",
       "<path class=\"bond-1 atom-1 atom-2\" d=\"M 26.8,309.8 L 22.2,321.7\" style=\"fill:none;fill-rule:evenodd;stroke:#FF0000;stroke-width:2.0px;stroke-linecap:butt;stroke-linejoin:miter;stroke-opacity:1\"/>\n",
       "<path class=\"bond-2 atom-3 atom-1\" d=\"M 54.9,293.9 L 55.0,294.4\" style=\"fill:none;fill-rule:evenodd;stroke:#000000;stroke-width:1.0px;stroke-linecap:butt;stroke-linejoin:miter;stroke-opacity:1\"/>\n",
       "<path class=\"bond-2 atom-3 atom-1\" d=\"M 51.6,294.1 L 51.7,295.2\" style=\"fill:none;fill-rule:evenodd;stroke:#000000;stroke-width:1.0px;stroke-linecap:butt;stroke-linejoin:miter;stroke-opacity:1\"/>\n",
       "<path class=\"bond-2 atom-3 atom-1\" d=\"M 48.3,294.3 L 48.5,296.0\" style=\"fill:none;fill-rule:evenodd;stroke:#000000;stroke-width:1.0px;stroke-linecap:butt;stroke-linejoin:miter;stroke-opacity:1\"/>\n",
       "<path class=\"bond-2 atom-3 atom-1\" d=\"M 44.9,294.6 L 45.3,296.8\" style=\"fill:none;fill-rule:evenodd;stroke:#000000;stroke-width:1.0px;stroke-linecap:butt;stroke-linejoin:miter;stroke-opacity:1\"/>\n",
       "<path class=\"bond-2 atom-3 atom-1\" d=\"M 41.6,294.8 L 42.1,297.6\" style=\"fill:none;fill-rule:evenodd;stroke:#000000;stroke-width:1.0px;stroke-linecap:butt;stroke-linejoin:miter;stroke-opacity:1\"/>\n",
       "<path class=\"bond-2 atom-3 atom-1\" d=\"M 38.3,295.1 L 38.9,298.4\" style=\"fill:none;fill-rule:evenodd;stroke:#000000;stroke-width:1.0px;stroke-linecap:butt;stroke-linejoin:miter;stroke-opacity:1\"/>\n",
       "<path class=\"bond-2 atom-3 atom-1\" d=\"M 35.0,295.3 L 35.6,299.2\" style=\"fill:none;fill-rule:evenodd;stroke:#000000;stroke-width:1.0px;stroke-linecap:butt;stroke-linejoin:miter;stroke-opacity:1\"/>\n",
       "<path class=\"bond-2 atom-3 atom-1\" d=\"M 31.7,295.6 L 32.4,300.0\" style=\"fill:none;fill-rule:evenodd;stroke:#000000;stroke-width:1.0px;stroke-linecap:butt;stroke-linejoin:miter;stroke-opacity:1\"/>\n",
       "<path class=\"bond-3 atom-3 atom-4\" d=\"M 58.2,293.6 L 75.7,269.5\" style=\"fill:none;fill-rule:evenodd;stroke:#000000;stroke-width:2.0px;stroke-linecap:butt;stroke-linejoin:miter;stroke-opacity:1\"/>\n",
       "<path class=\"bond-4 atom-4 atom-5\" d=\"M 75.7,269.5 L 99.8,287.0\" style=\"fill:none;fill-rule:evenodd;stroke:#000000;stroke-width:2.0px;stroke-linecap:butt;stroke-linejoin:miter;stroke-opacity:1\"/>\n",
       "<path class=\"bond-5 atom-5 atom-6\" d=\"M 99.8,287.0 L 82.3,311.1\" style=\"fill:none;fill-rule:evenodd;stroke:#000000;stroke-width:2.0px;stroke-linecap:butt;stroke-linejoin:miter;stroke-opacity:1\"/>\n",
       "<path class=\"bond-6 atom-6 atom-7\" d=\"M 82.3,311.1 L 106.4,328.6\" style=\"fill:none;fill-rule:evenodd;stroke:#000000;stroke-width:2.0px;stroke-linecap:butt;stroke-linejoin:miter;stroke-opacity:1\"/>\n",
       "<path class=\"bond-7 atom-6 atom-8\" d=\"M 82.3,311.1 L 64.8,335.2\" style=\"fill:none;fill-rule:evenodd;stroke:#000000;stroke-width:2.0px;stroke-linecap:butt;stroke-linejoin:miter;stroke-opacity:1\"/>\n",
       "<path class=\"bond-8 atom-5 atom-9\" d=\"M 103.1,286.7 L 103.0,286.2\" style=\"fill:none;fill-rule:evenodd;stroke:#000000;stroke-width:1.0px;stroke-linecap:butt;stroke-linejoin:miter;stroke-opacity:1\"/>\n",
       "<path class=\"bond-8 atom-5 atom-9\" d=\"M 106.4,286.5 L 106.2,285.4\" style=\"fill:none;fill-rule:evenodd;stroke:#000000;stroke-width:1.0px;stroke-linecap:butt;stroke-linejoin:miter;stroke-opacity:1\"/>\n",
       "<path class=\"bond-8 atom-5 atom-9\" d=\"M 109.7,286.3 L 109.5,284.6\" style=\"fill:none;fill-rule:evenodd;stroke:#000000;stroke-width:1.0px;stroke-linecap:butt;stroke-linejoin:miter;stroke-opacity:1\"/>\n",
       "<path class=\"bond-8 atom-5 atom-9\" d=\"M 113.0,286.0 L 112.7,283.8\" style=\"fill:none;fill-rule:evenodd;stroke:#000000;stroke-width:1.0px;stroke-linecap:butt;stroke-linejoin:miter;stroke-opacity:1\"/>\n",
       "<path class=\"bond-8 atom-5 atom-9\" d=\"M 116.3,285.8 L 115.9,283.0\" style=\"fill:none;fill-rule:evenodd;stroke:#000000;stroke-width:1.0px;stroke-linecap:butt;stroke-linejoin:miter;stroke-opacity:1\"/>\n",
       "<path class=\"bond-8 atom-5 atom-9\" d=\"M 119.7,285.5 L 119.1,282.2\" style=\"fill:none;fill-rule:evenodd;stroke:#000000;stroke-width:1.0px;stroke-linecap:butt;stroke-linejoin:miter;stroke-opacity:1\"/>\n",
       "<path class=\"bond-8 atom-5 atom-9\" d=\"M 123.0,285.3 L 122.3,281.4\" style=\"fill:none;fill-rule:evenodd;stroke:#000000;stroke-width:1.0px;stroke-linecap:butt;stroke-linejoin:miter;stroke-opacity:1\"/>\n",
       "<path class=\"bond-8 atom-5 atom-9\" d=\"M 126.3,285.0 L 125.6,280.6\" style=\"fill:none;fill-rule:evenodd;stroke:#000000;stroke-width:1.0px;stroke-linecap:butt;stroke-linejoin:miter;stroke-opacity:1\"/>\n",
       "<path class=\"bond-9 atom-9 atom-10\" d=\"M 129.2,282.3 L 148.0,305.4\" style=\"fill:none;fill-rule:evenodd;stroke:#000000;stroke-width:2.0px;stroke-linecap:butt;stroke-linejoin:miter;stroke-opacity:1\"/>\n",
       "<path class=\"bond-10 atom-10 atom-11\" d=\"M 148.0,305.4 L 160.3,303.5\" style=\"fill:none;fill-rule:evenodd;stroke:#000000;stroke-width:2.0px;stroke-linecap:butt;stroke-linejoin:miter;stroke-opacity:1\"/>\n",
       "<path class=\"bond-10 atom-10 atom-11\" d=\"M 160.3,303.5 L 172.5,301.5\" style=\"fill:none;fill-rule:evenodd;stroke:#FF0000;stroke-width:2.0px;stroke-linecap:butt;stroke-linejoin:miter;stroke-opacity:1\"/>\n",
       "<path class=\"bond-10 atom-10 atom-11\" d=\"M 149.8,300.6 L 159.6,299.1\" style=\"fill:none;fill-rule:evenodd;stroke:#000000;stroke-width:2.0px;stroke-linecap:butt;stroke-linejoin:miter;stroke-opacity:1\"/>\n",
       "<path class=\"bond-10 atom-10 atom-11\" d=\"M 159.6,299.1 L 171.8,297.1\" style=\"fill:none;fill-rule:evenodd;stroke:#FF0000;stroke-width:2.0px;stroke-linecap:butt;stroke-linejoin:miter;stroke-opacity:1\"/>\n",
       "<path class=\"bond-11 atom-6 atom-3\" d=\"M 82.3,311.1 L 58.2,293.6\" style=\"fill:none;fill-rule:evenodd;stroke:#000000;stroke-width:2.0px;stroke-linecap:butt;stroke-linejoin:miter;stroke-opacity:1\"/>\n",
       "<path d=\"M 59.1,292.4 L 58.2,293.6 L 59.4,294.5\" style=\"fill:none;stroke:#000000;stroke-width:2.0px;stroke-linecap:butt;stroke-linejoin:miter;stroke-opacity:1;\"/>\n",
       "<path d=\"M 74.8,270.7 L 75.7,269.5 L 76.9,270.4\" style=\"fill:none;stroke:#000000;stroke-width:2.0px;stroke-linecap:butt;stroke-linejoin:miter;stroke-opacity:1;\"/>\n",
       "<path d=\"M 98.6,286.1 L 99.8,287.0 L 98.9,288.2\" style=\"fill:none;stroke:#000000;stroke-width:2.0px;stroke-linecap:butt;stroke-linejoin:miter;stroke-opacity:1;\"/>\n",
       "<path d=\"M 147.0,304.3 L 148.0,305.4 L 148.6,305.3\" style=\"fill:none;stroke:#000000;stroke-width:2.0px;stroke-linecap:butt;stroke-linejoin:miter;stroke-opacity:1;\"/>\n",
       "<path class=\"atom-2\" d=\"M 14.2 326.1 Q 14.2 324.1, 15.2 323.0 Q 16.2 321.8, 18.1 321.8 Q 20.0 321.8, 21.0 323.0 Q 22.0 324.1, 22.0 326.1 Q 22.0 328.2, 21.0 329.4 Q 20.0 330.5, 18.1 330.5 Q 16.3 330.5, 15.2 329.4 Q 14.2 328.2, 14.2 326.1 M 18.1 329.6 Q 19.4 329.6, 20.1 328.7 Q 20.8 327.8, 20.8 326.1 Q 20.8 324.5, 20.1 323.6 Q 19.4 322.8, 18.1 322.8 Q 16.8 322.8, 16.1 323.6 Q 15.4 324.5, 15.4 326.1 Q 15.4 327.8, 16.1 328.7 Q 16.8 329.6, 18.1 329.6 \" fill=\"#FF0000\"/>\n",
       "<path class=\"atom-11\" d=\"M 173.2 298.6 Q 173.2 296.5, 174.2 295.4 Q 175.2 294.3, 177.0 294.3 Q 178.9 294.3, 179.9 295.4 Q 180.9 296.5, 180.9 298.6 Q 180.9 300.6, 179.9 301.8 Q 178.9 302.9, 177.0 302.9 Q 175.2 302.9, 174.2 301.8 Q 173.2 300.6, 173.2 298.6 M 177.0 302.0 Q 178.3 302.0, 179.0 301.1 Q 179.7 300.3, 179.7 298.6 Q 179.7 296.9, 179.0 296.1 Q 178.3 295.2, 177.0 295.2 Q 175.8 295.2, 175.1 296.1 Q 174.4 296.9, 174.4 298.6 Q 174.4 300.3, 175.1 301.1 Q 175.8 302.0, 177.0 302.0 \" fill=\"#FF0000\"/>\n",
       "<path class=\"note\" d=\"M 13.9 274.2 Q 13.1 274.2, 12.7 273.6 Q 12.3 273.1, 12.3 272.0 Q 12.3 271.0, 12.7 270.5 Q 13.1 269.9, 13.9 269.9 Q 14.6 269.9, 15.0 270.5 Q 15.4 271.0, 15.4 272.0 Q 15.4 273.1, 15.0 273.6 Q 14.6 274.2, 13.9 274.2 M 13.9 273.7 Q 14.3 273.7, 14.6 273.3 Q 14.8 272.9, 14.8 272.0 Q 14.8 271.2, 14.6 270.8 Q 14.3 270.4, 13.9 270.4 Q 13.4 270.4, 13.2 270.8 Q 12.9 271.2, 12.9 272.0 Q 12.9 272.9, 13.2 273.3 Q 13.4 273.7, 13.9 273.7 \" fill=\"#000000\"/>\n",
       "<path class=\"note\" d=\"M 17.9 301.5 L 18.8 301.5 L 18.8 298.3 L 17.8 298.7 L 17.7 298.3 L 19.0 297.7 L 19.4 297.8 L 19.4 301.5 L 20.2 301.5 L 20.2 302.0 L 17.9 302.0 L 17.9 301.5 \" fill=\"#000000\"/>\n",
       "<path class=\"note\" d=\"M 13.2 334.1 Q 13.3 333.7, 13.7 333.5 Q 14.0 333.3, 14.6 333.3 Q 15.2 333.3, 15.6 333.6 Q 15.9 333.9, 15.9 334.6 Q 15.9 335.2, 15.4 335.8 Q 15.0 336.4, 14.0 337.0 L 16.0 337.0 L 16.0 337.5 L 13.1 337.5 L 13.1 337.1 Q 13.9 336.6, 14.4 336.1 Q 14.9 335.7, 15.1 335.4 Q 15.3 335.0, 15.3 334.6 Q 15.3 334.2, 15.1 334.0 Q 14.9 333.7, 14.6 333.7 Q 14.2 333.7, 14.0 333.9 Q 13.8 334.0, 13.6 334.3 L 13.2 334.1 \" fill=\"#000000\"/>\n",
       "<path class=\"note\" d=\"M 56.2 289.3 Q 56.6 289.4, 56.8 289.7 Q 57.0 289.9, 57.0 290.4 Q 57.0 290.7, 56.8 291.0 Q 56.6 291.3, 56.3 291.4 Q 56.0 291.6, 55.6 291.6 Q 55.1 291.6, 54.8 291.4 Q 54.4 291.3, 54.2 290.9 L 54.5 290.6 Q 54.8 290.9, 55.0 291.0 Q 55.2 291.1, 55.6 291.1 Q 55.9 291.1, 56.2 290.9 Q 56.4 290.7, 56.4 290.3 Q 56.4 289.9, 56.2 289.7 Q 55.9 289.5, 55.4 289.5 L 55.1 289.5 L 55.1 289.1 L 55.4 289.1 Q 55.8 289.1, 56.1 288.9 Q 56.3 288.7, 56.3 288.3 Q 56.3 288.0, 56.1 287.9 Q 55.9 287.7, 55.6 287.7 Q 55.2 287.7, 55.0 287.8 Q 54.8 288.0, 54.6 288.3 L 54.2 288.1 Q 54.4 287.7, 54.7 287.5 Q 55.1 287.2, 55.6 287.2 Q 56.2 287.2, 56.6 287.5 Q 56.9 287.8, 56.9 288.3 Q 56.9 288.7, 56.7 288.9 Q 56.5 289.2, 56.2 289.3 \" fill=\"#000000\"/>\n",
       "<path class=\"note\" d=\"M 76.0 265.3 L 76.5 265.3 L 76.5 265.7 L 76.0 265.7 L 76.0 266.7 L 75.5 266.7 L 75.5 265.7 L 73.3 265.7 L 73.3 265.4 L 75.1 262.5 L 76.0 262.5 L 76.0 265.3 M 74.0 265.3 L 75.5 265.3 L 75.5 262.9 L 74.0 265.3 \" fill=\"#000000\"/>\n",
       "<path class=\"note\" d=\"M 101.7 281.8 Q 102.0 281.8, 102.3 282.0 Q 102.6 282.1, 102.8 282.4 Q 103.0 282.7, 103.0 283.1 Q 103.0 283.6, 102.8 283.9 Q 102.6 284.2, 102.2 284.3 Q 101.9 284.5, 101.5 284.5 Q 101.1 284.5, 100.7 284.4 Q 100.4 284.2, 100.1 283.9 L 100.5 283.6 Q 100.7 283.8, 101.0 283.9 Q 101.2 284.0, 101.5 284.0 Q 101.9 284.0, 102.1 283.8 Q 102.4 283.6, 102.4 283.1 Q 102.4 282.7, 102.1 282.5 Q 101.9 282.3, 101.5 282.3 Q 101.1 282.3, 100.7 282.4 L 100.4 282.3 L 100.6 280.2 L 102.7 280.2 L 102.7 280.7 L 101.1 280.7 L 100.9 282.0 Q 101.3 281.8, 101.7 281.8 \" fill=\"#000000\"/>\n",
       "<path class=\"note\" d=\"M 92.3 309.0 Q 92.7 309.0, 93.0 309.2 Q 93.2 309.4, 93.4 309.7 Q 93.6 309.9, 93.6 310.3 Q 93.6 310.7, 93.4 311.0 Q 93.2 311.4, 92.9 311.5 Q 92.6 311.7, 92.2 311.7 Q 91.4 311.7, 91.0 311.2 Q 90.6 310.7, 90.6 309.7 Q 90.6 308.6, 91.1 308.0 Q 91.6 307.4, 92.5 307.4 Q 92.7 307.4, 93.0 307.5 Q 93.2 307.5, 93.4 307.6 L 93.2 308.0 Q 92.9 307.9, 92.5 307.9 Q 91.9 307.9, 91.6 308.3 Q 91.3 308.7, 91.2 309.4 Q 91.5 309.2, 91.7 309.1 Q 92.0 309.0, 92.3 309.0 M 92.2 311.2 Q 92.4 311.2, 92.6 311.1 Q 92.8 311.0, 92.9 310.8 Q 93.0 310.6, 93.0 310.3 Q 93.0 309.9, 92.8 309.7 Q 92.6 309.5, 92.2 309.5 Q 91.9 309.5, 91.7 309.6 Q 91.4 309.7, 91.2 309.9 Q 91.3 310.6, 91.5 310.9 Q 91.7 311.2, 92.2 311.2 \" fill=\"#000000\"/>\n",
       "<path class=\"note\" d=\"M 104.3 331.0 L 102.1 331.0 L 102.1 330.5 L 104.9 330.5 L 104.9 330.9 L 103.2 334.7 L 102.6 334.7 L 104.3 331.0 \" fill=\"#000000\"/>\n",
       "<path class=\"note\" d=\"M 61.5 332.2 Q 61.8 332.4, 62.1 332.6 Q 62.3 332.9, 62.3 333.3 Q 62.3 333.6, 62.1 333.9 Q 61.9 334.2, 61.6 334.3 Q 61.2 334.5, 60.8 334.5 Q 60.1 334.5, 59.7 334.2 Q 59.3 333.8, 59.3 333.3 Q 59.3 332.9, 59.5 332.7 Q 59.7 332.4, 60.0 332.2 Q 59.8 332.1, 59.6 331.8 Q 59.5 331.6, 59.5 331.2 Q 59.5 330.7, 59.8 330.5 Q 60.2 330.2, 60.8 330.2 Q 61.4 330.2, 61.8 330.5 Q 62.1 330.7, 62.1 331.2 Q 62.1 331.6, 62.0 331.8 Q 61.8 332.0, 61.5 332.2 M 60.8 330.6 Q 60.4 330.6, 60.2 330.8 Q 60.1 330.9, 60.1 331.2 Q 60.1 331.5, 60.2 331.6 Q 60.3 331.8, 60.5 331.8 Q 60.7 331.9, 61.1 332.0 Q 61.3 331.9, 61.4 331.7 Q 61.5 331.5, 61.5 331.2 Q 61.5 330.9, 61.3 330.8 Q 61.1 330.6, 60.8 330.6 M 60.8 334.0 Q 61.2 334.0, 61.4 333.8 Q 61.7 333.6, 61.7 333.3 Q 61.7 333.0, 61.6 332.9 Q 61.4 332.8, 61.2 332.7 Q 61.1 332.6, 60.7 332.5 L 60.5 332.4 Q 60.2 332.6, 60.0 332.8 Q 59.9 333.0, 59.9 333.3 Q 59.9 333.6, 60.1 333.8 Q 60.4 334.0, 60.8 334.0 \" fill=\"#000000\"/>\n",
       "<path class=\"note\" d=\"M 133.0 277.0 Q 133.8 277.0, 134.1 277.6 Q 134.5 278.1, 134.5 279.1 Q 134.5 280.2, 134.1 280.8 Q 133.6 281.4, 132.7 281.4 Q 132.4 281.4, 132.2 281.3 Q 132.0 281.2, 131.8 281.1 L 132.0 280.7 Q 132.3 280.9, 132.7 280.9 Q 133.3 280.9, 133.6 280.5 Q 133.9 280.1, 133.9 279.3 Q 133.7 279.5, 133.4 279.6 Q 133.2 279.7, 132.9 279.7 Q 132.5 279.7, 132.2 279.6 Q 131.9 279.4, 131.8 279.1 Q 131.6 278.8, 131.6 278.4 Q 131.6 278.0, 131.8 277.7 Q 132.0 277.4, 132.3 277.2 Q 132.6 277.0, 133.0 277.0 M 132.2 278.4 Q 132.2 278.8, 132.4 279.0 Q 132.6 279.2, 133.0 279.2 Q 133.2 279.2, 133.5 279.1 Q 133.7 279.0, 133.9 278.9 Q 133.9 278.2, 133.7 277.8 Q 133.5 277.5, 133.0 277.5 Q 132.8 277.5, 132.6 277.6 Q 132.4 277.8, 132.3 278.0 Q 132.2 278.2, 132.2 278.4 \" fill=\"#000000\"/>\n",
       "<path class=\"note\" d=\"M 143.4 311.7 L 144.3 311.7 L 144.3 308.6 L 143.3 308.9 L 143.1 308.5 L 144.4 308.0 L 144.8 308.0 L 144.8 311.7 L 145.7 311.7 L 145.7 312.2 L 143.4 312.2 L 143.4 311.7 \" fill=\"#000000\"/>\n",
       "<path class=\"note\" d=\"M 147.7 312.3 Q 147.0 312.3, 146.6 311.7 Q 146.2 311.1, 146.2 310.1 Q 146.2 309.1, 146.6 308.5 Q 147.0 307.9, 147.7 307.9 Q 148.5 307.9, 148.9 308.5 Q 149.3 309.1, 149.3 310.1 Q 149.3 311.1, 148.9 311.7 Q 148.5 312.3, 147.7 312.3 M 147.7 311.8 Q 148.2 311.8, 148.4 311.4 Q 148.7 310.9, 148.7 310.1 Q 148.7 309.3, 148.4 308.8 Q 148.2 308.4, 147.7 308.4 Q 147.3 308.4, 147.0 308.8 Q 146.8 309.3, 146.8 310.1 Q 146.8 310.9, 147.0 311.4 Q 147.3 311.8, 147.7 311.8 \" fill=\"#000000\"/>\n",
       "<path class=\"note\" d=\"M 184.6 300.8 L 185.6 300.8 L 185.6 297.7 L 184.5 298.0 L 184.4 297.6 L 185.7 297.1 L 186.1 297.1 L 186.1 300.8 L 187.0 300.8 L 187.0 301.3 L 184.6 301.3 L 184.6 300.8 \" fill=\"#000000\"/>\n",
       "<path class=\"note\" d=\"M 187.7 300.8 L 188.6 300.8 L 188.6 297.7 L 187.6 298.0 L 187.5 297.6 L 188.7 297.1 L 189.2 297.1 L 189.2 300.8 L 190.0 300.8 L 190.0 301.3 L 187.7 301.3 L 187.7 300.8 \" fill=\"#000000\"/>\n",
       "<path class=\"bond-0 atom-0 atom-1\" d=\"M 210.0,275.2 L 228.8,298.3\" style=\"fill:none;fill-rule:evenodd;stroke:#000000;stroke-width:2.0px;stroke-linecap:butt;stroke-linejoin:miter;stroke-opacity:1\"/>\n",
       "<path class=\"bond-1 atom-1 atom-2\" d=\"M 227.1,296.3 L 222.6,308.2\" style=\"fill:none;fill-rule:evenodd;stroke:#000000;stroke-width:2.0px;stroke-linecap:butt;stroke-linejoin:miter;stroke-opacity:1\"/>\n",
       "<path class=\"bond-1 atom-1 atom-2\" d=\"M 222.6,308.2 L 218.0,320.1\" style=\"fill:none;fill-rule:evenodd;stroke:#FF0000;stroke-width:2.0px;stroke-linecap:butt;stroke-linejoin:miter;stroke-opacity:1\"/>\n",
       "<path class=\"bond-1 atom-1 atom-2\" d=\"M 231.3,297.9 L 226.8,309.8\" style=\"fill:none;fill-rule:evenodd;stroke:#000000;stroke-width:2.0px;stroke-linecap:butt;stroke-linejoin:miter;stroke-opacity:1\"/>\n",
       "<path class=\"bond-1 atom-1 atom-2\" d=\"M 226.8,309.8 L 222.2,321.7\" style=\"fill:none;fill-rule:evenodd;stroke:#FF0000;stroke-width:2.0px;stroke-linecap:butt;stroke-linejoin:miter;stroke-opacity:1\"/>\n",
       "<path class=\"bond-2 atom-3 atom-1\" d=\"M 258.2,293.6 L 230.3,300.2 L 227.1,296.2 Z\" style=\"fill:#000000;fill-rule:evenodd;fill-opacity:1;stroke:#000000;stroke-width:0.5px;stroke-linecap:butt;stroke-linejoin:miter;stroke-opacity:1;\"/>\n",
       "<path class=\"bond-3 atom-3 atom-4\" d=\"M 258.2,293.6 L 275.7,269.5\" style=\"fill:none;fill-rule:evenodd;stroke:#000000;stroke-width:2.0px;stroke-linecap:butt;stroke-linejoin:miter;stroke-opacity:1\"/>\n",
       "<path class=\"bond-4 atom-4 atom-5\" d=\"M 275.7,269.5 L 299.8,287.0\" style=\"fill:none;fill-rule:evenodd;stroke:#000000;stroke-width:2.0px;stroke-linecap:butt;stroke-linejoin:miter;stroke-opacity:1\"/>\n",
       "<path class=\"bond-5 atom-5 atom-6\" d=\"M 299.8,287.0 L 282.3,311.1\" style=\"fill:none;fill-rule:evenodd;stroke:#000000;stroke-width:2.0px;stroke-linecap:butt;stroke-linejoin:miter;stroke-opacity:1\"/>\n",
       "<path class=\"bond-6 atom-6 atom-7\" d=\"M 282.3,311.1 L 306.4,328.6\" style=\"fill:none;fill-rule:evenodd;stroke:#000000;stroke-width:2.0px;stroke-linecap:butt;stroke-linejoin:miter;stroke-opacity:1\"/>\n",
       "<path class=\"bond-7 atom-6 atom-8\" d=\"M 282.3,311.1 L 264.8,335.2\" style=\"fill:none;fill-rule:evenodd;stroke:#000000;stroke-width:2.0px;stroke-linecap:butt;stroke-linejoin:miter;stroke-opacity:1\"/>\n",
       "<path class=\"bond-8 atom-5 atom-9\" d=\"M 303.1,286.7 L 303.0,286.2\" style=\"fill:none;fill-rule:evenodd;stroke:#000000;stroke-width:1.0px;stroke-linecap:butt;stroke-linejoin:miter;stroke-opacity:1\"/>\n",
       "<path class=\"bond-8 atom-5 atom-9\" d=\"M 306.4,286.5 L 306.2,285.4\" style=\"fill:none;fill-rule:evenodd;stroke:#000000;stroke-width:1.0px;stroke-linecap:butt;stroke-linejoin:miter;stroke-opacity:1\"/>\n",
       "<path class=\"bond-8 atom-5 atom-9\" d=\"M 309.7,286.3 L 309.5,284.6\" style=\"fill:none;fill-rule:evenodd;stroke:#000000;stroke-width:1.0px;stroke-linecap:butt;stroke-linejoin:miter;stroke-opacity:1\"/>\n",
       "<path class=\"bond-8 atom-5 atom-9\" d=\"M 313.0,286.0 L 312.7,283.8\" style=\"fill:none;fill-rule:evenodd;stroke:#000000;stroke-width:1.0px;stroke-linecap:butt;stroke-linejoin:miter;stroke-opacity:1\"/>\n",
       "<path class=\"bond-8 atom-5 atom-9\" d=\"M 316.3,285.8 L 315.9,283.0\" style=\"fill:none;fill-rule:evenodd;stroke:#000000;stroke-width:1.0px;stroke-linecap:butt;stroke-linejoin:miter;stroke-opacity:1\"/>\n",
       "<path class=\"bond-8 atom-5 atom-9\" d=\"M 319.7,285.5 L 319.1,282.2\" style=\"fill:none;fill-rule:evenodd;stroke:#000000;stroke-width:1.0px;stroke-linecap:butt;stroke-linejoin:miter;stroke-opacity:1\"/>\n",
       "<path class=\"bond-8 atom-5 atom-9\" d=\"M 323.0,285.3 L 322.3,281.4\" style=\"fill:none;fill-rule:evenodd;stroke:#000000;stroke-width:1.0px;stroke-linecap:butt;stroke-linejoin:miter;stroke-opacity:1\"/>\n",
       "<path class=\"bond-8 atom-5 atom-9\" d=\"M 326.3,285.0 L 325.6,280.6\" style=\"fill:none;fill-rule:evenodd;stroke:#000000;stroke-width:1.0px;stroke-linecap:butt;stroke-linejoin:miter;stroke-opacity:1\"/>\n",
       "<path class=\"bond-9 atom-9 atom-10\" d=\"M 329.2,282.3 L 348.0,305.4\" style=\"fill:none;fill-rule:evenodd;stroke:#000000;stroke-width:2.0px;stroke-linecap:butt;stroke-linejoin:miter;stroke-opacity:1\"/>\n",
       "<path class=\"bond-10 atom-10 atom-11\" d=\"M 348.0,305.4 L 360.3,303.5\" style=\"fill:none;fill-rule:evenodd;stroke:#000000;stroke-width:2.0px;stroke-linecap:butt;stroke-linejoin:miter;stroke-opacity:1\"/>\n",
       "<path class=\"bond-10 atom-10 atom-11\" d=\"M 360.3,303.5 L 372.5,301.5\" style=\"fill:none;fill-rule:evenodd;stroke:#FF0000;stroke-width:2.0px;stroke-linecap:butt;stroke-linejoin:miter;stroke-opacity:1\"/>\n",
       "<path class=\"bond-10 atom-10 atom-11\" d=\"M 349.8,300.6 L 359.6,299.1\" style=\"fill:none;fill-rule:evenodd;stroke:#000000;stroke-width:2.0px;stroke-linecap:butt;stroke-linejoin:miter;stroke-opacity:1\"/>\n",
       "<path class=\"bond-10 atom-10 atom-11\" d=\"M 359.6,299.1 L 371.8,297.1\" style=\"fill:none;fill-rule:evenodd;stroke:#FF0000;stroke-width:2.0px;stroke-linecap:butt;stroke-linejoin:miter;stroke-opacity:1\"/>\n",
       "<path class=\"bond-11 atom-6 atom-3\" d=\"M 282.3,311.1 L 258.2,293.6\" style=\"fill:none;fill-rule:evenodd;stroke:#000000;stroke-width:2.0px;stroke-linecap:butt;stroke-linejoin:miter;stroke-opacity:1\"/>\n",
       "<path d=\"M 259.1,292.4 L 258.2,293.6 L 259.4,294.5\" style=\"fill:none;stroke:#000000;stroke-width:2.0px;stroke-linecap:butt;stroke-linejoin:miter;stroke-opacity:1;\"/>\n",
       "<path d=\"M 274.8,270.7 L 275.7,269.5 L 276.9,270.4\" style=\"fill:none;stroke:#000000;stroke-width:2.0px;stroke-linecap:butt;stroke-linejoin:miter;stroke-opacity:1;\"/>\n",
       "<path d=\"M 298.6,286.1 L 299.8,287.0 L 298.9,288.2\" style=\"fill:none;stroke:#000000;stroke-width:2.0px;stroke-linecap:butt;stroke-linejoin:miter;stroke-opacity:1;\"/>\n",
       "<path d=\"M 347.0,304.3 L 348.0,305.4 L 348.6,305.3\" style=\"fill:none;stroke:#000000;stroke-width:2.0px;stroke-linecap:butt;stroke-linejoin:miter;stroke-opacity:1;\"/>\n",
       "<path class=\"atom-2\" d=\"M 214.2 326.1 Q 214.2 324.1, 215.2 323.0 Q 216.2 321.8, 218.1 321.8 Q 220.0 321.8, 221.0 323.0 Q 222.0 324.1, 222.0 326.1 Q 222.0 328.2, 221.0 329.4 Q 220.0 330.5, 218.1 330.5 Q 216.3 330.5, 215.2 329.4 Q 214.2 328.2, 214.2 326.1 M 218.1 329.6 Q 219.4 329.6, 220.1 328.7 Q 220.8 327.8, 220.8 326.1 Q 220.8 324.5, 220.1 323.6 Q 219.4 322.8, 218.1 322.8 Q 216.8 322.8, 216.1 323.6 Q 215.4 324.5, 215.4 326.1 Q 215.4 327.8, 216.1 328.7 Q 216.8 329.6, 218.1 329.6 \" fill=\"#FF0000\"/>\n",
       "<path class=\"atom-11\" d=\"M 373.2 298.6 Q 373.2 296.5, 374.2 295.4 Q 375.2 294.3, 377.0 294.3 Q 378.9 294.3, 379.9 295.4 Q 380.9 296.5, 380.9 298.6 Q 380.9 300.6, 379.9 301.8 Q 378.9 302.9, 377.0 302.9 Q 375.2 302.9, 374.2 301.8 Q 373.2 300.6, 373.2 298.6 M 377.0 302.0 Q 378.3 302.0, 379.0 301.1 Q 379.7 300.3, 379.7 298.6 Q 379.7 296.9, 379.0 296.1 Q 378.3 295.2, 377.0 295.2 Q 375.8 295.2, 375.1 296.1 Q 374.4 296.9, 374.4 298.6 Q 374.4 300.3, 375.1 301.1 Q 375.8 302.0, 377.0 302.0 \" fill=\"#FF0000\"/>\n",
       "<path class=\"note\" d=\"M 213.9 274.2 Q 213.1 274.2, 212.7 273.6 Q 212.3 273.1, 212.3 272.0 Q 212.3 271.0, 212.7 270.5 Q 213.1 269.9, 213.9 269.9 Q 214.6 269.9, 215.0 270.5 Q 215.4 271.0, 215.4 272.0 Q 215.4 273.1, 215.0 273.6 Q 214.6 274.2, 213.9 274.2 M 213.9 273.7 Q 214.3 273.7, 214.6 273.3 Q 214.8 272.9, 214.8 272.0 Q 214.8 271.2, 214.6 270.8 Q 214.3 270.4, 213.9 270.4 Q 213.4 270.4, 213.2 270.8 Q 212.9 271.2, 212.9 272.0 Q 212.9 272.9, 213.2 273.3 Q 213.4 273.7, 213.9 273.7 \" fill=\"#000000\"/>\n",
       "<path class=\"note\" d=\"M 217.9 301.5 L 218.8 301.5 L 218.8 298.3 L 217.8 298.7 L 217.7 298.3 L 219.0 297.7 L 219.4 297.8 L 219.4 301.5 L 220.2 301.5 L 220.2 302.0 L 217.9 302.0 L 217.9 301.5 \" fill=\"#000000\"/>\n",
       "<path class=\"note\" d=\"M 213.2 334.1 Q 213.3 333.7, 213.7 333.5 Q 214.0 333.3, 214.6 333.3 Q 215.2 333.3, 215.6 333.6 Q 215.9 333.9, 215.9 334.6 Q 215.9 335.2, 215.4 335.8 Q 215.0 336.4, 214.0 337.0 L 216.0 337.0 L 216.0 337.5 L 213.1 337.5 L 213.1 337.1 Q 213.9 336.6, 214.4 336.1 Q 214.9 335.7, 215.1 335.4 Q 215.3 335.0, 215.3 334.6 Q 215.3 334.2, 215.1 334.0 Q 214.9 333.7, 214.6 333.7 Q 214.2 333.7, 214.0 333.9 Q 213.8 334.0, 213.6 334.3 L 213.2 334.1 \" fill=\"#000000\"/>\n",
       "<path class=\"note\" d=\"M 256.2 289.3 Q 256.6 289.4, 256.8 289.7 Q 257.0 289.9, 257.0 290.4 Q 257.0 290.7, 256.8 291.0 Q 256.6 291.3, 256.3 291.4 Q 256.0 291.6, 255.6 291.6 Q 255.1 291.6, 254.8 291.4 Q 254.4 291.3, 254.2 290.9 L 254.5 290.6 Q 254.8 290.9, 255.0 291.0 Q 255.2 291.1, 255.6 291.1 Q 255.9 291.1, 256.2 290.9 Q 256.4 290.7, 256.4 290.3 Q 256.4 289.9, 256.2 289.7 Q 255.9 289.5, 255.4 289.5 L 255.1 289.5 L 255.1 289.1 L 255.4 289.1 Q 255.8 289.1, 256.1 288.9 Q 256.3 288.7, 256.3 288.3 Q 256.3 288.0, 256.1 287.9 Q 255.9 287.7, 255.6 287.7 Q 255.2 287.7, 255.0 287.8 Q 254.8 288.0, 254.6 288.3 L 254.2 288.1 Q 254.4 287.7, 254.7 287.5 Q 255.1 287.2, 255.6 287.2 Q 256.2 287.2, 256.6 287.5 Q 256.9 287.8, 256.9 288.3 Q 256.9 288.7, 256.7 288.9 Q 256.5 289.2, 256.2 289.3 \" fill=\"#000000\"/>\n",
       "<path class=\"note\" d=\"M 276.0 265.3 L 276.5 265.3 L 276.5 265.7 L 276.0 265.7 L 276.0 266.7 L 275.5 266.7 L 275.5 265.7 L 273.3 265.7 L 273.3 265.4 L 275.1 262.5 L 276.0 262.5 L 276.0 265.3 M 274.0 265.3 L 275.5 265.3 L 275.5 262.9 L 274.0 265.3 \" fill=\"#000000\"/>\n",
       "<path class=\"note\" d=\"M 301.7 281.8 Q 302.0 281.8, 302.3 282.0 Q 302.6 282.1, 302.8 282.4 Q 303.0 282.7, 303.0 283.1 Q 303.0 283.6, 302.8 283.9 Q 302.6 284.2, 302.2 284.3 Q 301.9 284.5, 301.5 284.5 Q 301.1 284.5, 300.7 284.4 Q 300.4 284.2, 300.1 283.9 L 300.5 283.6 Q 300.7 283.8, 301.0 283.9 Q 301.2 284.0, 301.5 284.0 Q 301.9 284.0, 302.1 283.8 Q 302.4 283.6, 302.4 283.1 Q 302.4 282.7, 302.1 282.5 Q 301.9 282.3, 301.5 282.3 Q 301.1 282.3, 300.7 282.4 L 300.4 282.3 L 300.6 280.2 L 302.7 280.2 L 302.7 280.7 L 301.1 280.7 L 300.9 282.0 Q 301.3 281.8, 301.7 281.8 \" fill=\"#000000\"/>\n",
       "<path class=\"note\" d=\"M 292.3 309.0 Q 292.7 309.0, 293.0 309.2 Q 293.2 309.4, 293.4 309.7 Q 293.6 309.9, 293.6 310.3 Q 293.6 310.7, 293.4 311.0 Q 293.2 311.4, 292.9 311.5 Q 292.6 311.7, 292.2 311.7 Q 291.4 311.7, 291.0 311.2 Q 290.6 310.7, 290.6 309.7 Q 290.6 308.6, 291.1 308.0 Q 291.6 307.4, 292.5 307.4 Q 292.7 307.4, 293.0 307.5 Q 293.2 307.5, 293.4 307.6 L 293.2 308.0 Q 292.9 307.9, 292.5 307.9 Q 291.9 307.9, 291.6 308.3 Q 291.3 308.7, 291.2 309.4 Q 291.5 309.2, 291.7 309.1 Q 292.0 309.0, 292.3 309.0 M 292.2 311.2 Q 292.4 311.2, 292.6 311.1 Q 292.8 311.0, 292.9 310.8 Q 293.0 310.6, 293.0 310.3 Q 293.0 309.9, 292.8 309.7 Q 292.6 309.5, 292.2 309.5 Q 291.9 309.5, 291.7 309.6 Q 291.4 309.7, 291.2 309.9 Q 291.3 310.6, 291.5 310.9 Q 291.7 311.2, 292.2 311.2 \" fill=\"#000000\"/>\n",
       "<path class=\"note\" d=\"M 304.3 331.0 L 302.1 331.0 L 302.1 330.5 L 304.9 330.5 L 304.9 330.9 L 303.2 334.7 L 302.6 334.7 L 304.3 331.0 \" fill=\"#000000\"/>\n",
       "<path class=\"note\" d=\"M 261.5 332.2 Q 261.8 332.4, 262.1 332.6 Q 262.3 332.9, 262.3 333.3 Q 262.3 333.6, 262.1 333.9 Q 261.9 334.2, 261.6 334.3 Q 261.2 334.5, 260.8 334.5 Q 260.1 334.5, 259.7 334.2 Q 259.3 333.8, 259.3 333.3 Q 259.3 332.9, 259.5 332.7 Q 259.7 332.4, 260.0 332.2 Q 259.8 332.1, 259.6 331.8 Q 259.5 331.6, 259.5 331.2 Q 259.5 330.7, 259.8 330.5 Q 260.2 330.2, 260.8 330.2 Q 261.4 330.2, 261.8 330.5 Q 262.1 330.7, 262.1 331.2 Q 262.1 331.6, 262.0 331.8 Q 261.8 332.0, 261.5 332.2 M 260.8 330.6 Q 260.4 330.6, 260.2 330.8 Q 260.1 330.9, 260.1 331.2 Q 260.1 331.5, 260.2 331.6 Q 260.3 331.8, 260.5 331.8 Q 260.7 331.9, 261.1 332.0 Q 261.3 331.9, 261.4 331.7 Q 261.5 331.5, 261.5 331.2 Q 261.5 330.9, 261.3 330.8 Q 261.1 330.6, 260.8 330.6 M 260.8 334.0 Q 261.2 334.0, 261.4 333.8 Q 261.7 333.6, 261.7 333.3 Q 261.7 333.0, 261.6 332.9 Q 261.4 332.8, 261.2 332.7 Q 261.1 332.6, 260.7 332.5 L 260.5 332.4 Q 260.2 332.6, 260.0 332.8 Q 259.9 333.0, 259.9 333.3 Q 259.9 333.6, 260.1 333.8 Q 260.4 334.0, 260.8 334.0 \" fill=\"#000000\"/>\n",
       "<path class=\"note\" d=\"M 333.0 277.0 Q 333.8 277.0, 334.1 277.6 Q 334.5 278.1, 334.5 279.1 Q 334.5 280.2, 334.1 280.8 Q 333.6 281.4, 332.7 281.4 Q 332.4 281.4, 332.2 281.3 Q 332.0 281.2, 331.8 281.1 L 332.0 280.7 Q 332.3 280.9, 332.7 280.9 Q 333.3 280.9, 333.6 280.5 Q 333.9 280.1, 333.9 279.3 Q 333.7 279.5, 333.4 279.6 Q 333.2 279.7, 332.9 279.7 Q 332.5 279.7, 332.2 279.6 Q 331.9 279.4, 331.8 279.1 Q 331.6 278.8, 331.6 278.4 Q 331.6 278.0, 331.8 277.7 Q 332.0 277.4, 332.3 277.2 Q 332.6 277.0, 333.0 277.0 M 332.2 278.4 Q 332.2 278.8, 332.4 279.0 Q 332.6 279.2, 333.0 279.2 Q 333.2 279.2, 333.5 279.1 Q 333.7 279.0, 333.9 278.9 Q 333.9 278.2, 333.7 277.8 Q 333.5 277.5, 333.0 277.5 Q 332.8 277.5, 332.6 277.6 Q 332.4 277.8, 332.3 278.0 Q 332.2 278.2, 332.2 278.4 \" fill=\"#000000\"/>\n",
       "<path class=\"note\" d=\"M 343.4 311.7 L 344.3 311.7 L 344.3 308.6 L 343.3 308.9 L 343.1 308.5 L 344.4 308.0 L 344.8 308.0 L 344.8 311.7 L 345.7 311.7 L 345.7 312.2 L 343.4 312.2 L 343.4 311.7 \" fill=\"#000000\"/>\n",
       "<path class=\"note\" d=\"M 347.7 312.3 Q 347.0 312.3, 346.6 311.7 Q 346.2 311.1, 346.2 310.1 Q 346.2 309.1, 346.6 308.5 Q 347.0 307.9, 347.7 307.9 Q 348.5 307.9, 348.9 308.5 Q 349.3 309.1, 349.3 310.1 Q 349.3 311.1, 348.9 311.7 Q 348.5 312.3, 347.7 312.3 M 347.7 311.8 Q 348.2 311.8, 348.4 311.4 Q 348.7 310.9, 348.7 310.1 Q 348.7 309.3, 348.4 308.8 Q 348.2 308.4, 347.7 308.4 Q 347.3 308.4, 347.0 308.8 Q 346.8 309.3, 346.8 310.1 Q 346.8 310.9, 347.0 311.4 Q 347.3 311.8, 347.7 311.8 \" fill=\"#000000\"/>\n",
       "<path class=\"note\" d=\"M 384.6 300.8 L 385.6 300.8 L 385.6 297.7 L 384.5 298.0 L 384.4 297.6 L 385.7 297.1 L 386.1 297.1 L 386.1 300.8 L 387.0 300.8 L 387.0 301.3 L 384.6 301.3 L 384.6 300.8 \" fill=\"#000000\"/>\n",
       "<path class=\"note\" d=\"M 387.7 300.8 L 388.6 300.8 L 388.6 297.7 L 387.6 298.0 L 387.5 297.6 L 388.7 297.1 L 389.2 297.1 L 389.2 300.8 L 390.0 300.8 L 390.0 301.3 L 387.7 301.3 L 387.7 300.8 \" fill=\"#000000\"/>\n",
       "</svg>"
      ],
      "text/plain": [
       "<IPython.core.display.SVG object>"
      ]
     },
     "execution_count": 75,
     "metadata": {},
     "output_type": "execute_result"
    }
   ],
   "source": [
    "#found_compounds = pcp.get_compounds('2704-78-1', 'name')\n",
    "#print(found_compounds[0].isomeric_smiles)\n",
    "found_compounds = 'CC(=O)C1CC(C1(C)C)CC=O'\n",
    "mol = Chem.MolFromSmiles(found_compounds)\n",
    "\n",
    "isomers = list(EnumerateStereoisomers(mol))\n",
    "\n",
    "Chem.Draw.MolsToGridImage(isomers, molsPerRow=2, useSVG=True)"
   ]
  },
  {
   "cell_type": "markdown",
   "id": "8e66d543-7b5a-4a44-87ec-cd0a1c1e3f47",
   "metadata": {},
   "source": [
    "For such more complex molecules, it might be useful to inspect properties using `rdkit`. \n",
    "\n",
    "For that we need to understand how `rdkit` molecules are built programatically: The object-orientated approach of `rdkit` is such that all molecules are objects of a certain `class` (which comes with different methods available to all molecules):"
   ]
  },
  {
   "cell_type": "code",
   "execution_count": 60,
   "id": "d590b9af-0ef6-434c-b618-b51a61d58f50",
   "metadata": {},
   "outputs": [
    {
     "data": {
      "text/plain": [
       "rdkit.Chem.rdchem.Mol"
      ]
     },
     "execution_count": 60,
     "metadata": {},
     "output_type": "execute_result"
    }
   ],
   "source": [
    "type(mol)"
   ]
  },
  {
   "cell_type": "code",
   "execution_count": 61,
   "id": "8f1e2db9-467f-4958-aec8-4d979ba571a1",
   "metadata": {},
   "outputs": [
    {
     "data": {
      "text/plain": [
       "12"
      ]
     },
     "execution_count": 61,
     "metadata": {},
     "output_type": "execute_result"
    }
   ],
   "source": [
    "mol.GetNumHeavyAtoms()"
   ]
  },
  {
   "cell_type": "markdown",
   "id": "c4d80dc8-16e8-4936-9e89-d24dfb548d71",
   "metadata": {},
   "source": [
    "All molecules are built from the atoms inside it, which are another `class` of `rdkit`, the `rdkit.Chem.rdchem.Atom` class, which again has a bunch of methods available to inspect the object. "
   ]
  },
  {
   "cell_type": "code",
   "execution_count": 62,
   "id": "bdfc2a8c-eca9-4991-a574-fff950e99920",
   "metadata": {},
   "outputs": [
    {
     "data": {
      "text/plain": [
       "rdkit.Chem.rdchem.Atom"
      ]
     },
     "execution_count": 62,
     "metadata": {},
     "output_type": "execute_result"
    }
   ],
   "source": [
    "mol_atoms = mol.GetAtoms()\n",
    "\n",
    "type(mol_atoms[0])"
   ]
  },
  {
   "cell_type": "code",
   "execution_count": 63,
   "id": "a18f7906-b862-4b58-a273-6bc225ddabdc",
   "metadata": {},
   "outputs": [
    {
     "data": {
      "text/plain": [
       "'C'"
      ]
     },
     "execution_count": 63,
     "metadata": {},
     "output_type": "execute_result"
    }
   ],
   "source": [
    "mol_atoms[0].GetSymbol()"
   ]
  },
  {
   "cell_type": "code",
   "execution_count": 64,
   "id": "84b4772e-56be-4acd-bd79-5ec75310124a",
   "metadata": {},
   "outputs": [
    {
     "data": {
      "text/plain": [
       "False"
      ]
     },
     "execution_count": 64,
     "metadata": {},
     "output_type": "execute_result"
    }
   ],
   "source": [
    "mol_atoms[0].IsInRing()"
   ]
  },
  {
   "cell_type": "markdown",
   "id": "4ab5dfd7-8b54-4509-8c5a-ee97cb7b68b4",
   "metadata": {},
   "source": [
    "Or to check if a molecule is aromatic (contains at least one aromatic ring):"
   ]
  },
  {
   "cell_type": "code",
   "execution_count": 65,
   "id": "7e4ed8ea-b495-4677-be66-04a00ab3ac53",
   "metadata": {},
   "outputs": [
    {
     "data": {
      "text/plain": [
       "False"
      ]
     },
     "execution_count": 65,
     "metadata": {},
     "output_type": "execute_result"
    }
   ],
   "source": [
    "mol_atoms[0].GetIsAromatic()"
   ]
  },
  {
   "cell_type": "code",
   "execution_count": 66,
   "id": "b5a47901-2b0a-4c49-85a9-16333e9b12fa",
   "metadata": {},
   "outputs": [
    {
     "name": "stdout",
     "output_type": "stream",
     "text": [
      "Aromatic\n"
     ]
    },
    {
     "data": {
      "text/plain": [
       "((0, 5, 4, 3, 2, 1),)"
      ]
     },
     "execution_count": 66,
     "metadata": {},
     "output_type": "execute_result"
    }
   ],
   "source": [
    "mol = Chem.MolFromSmiles('C1=CC=CC=C1')\n",
    "\n",
    "ring_info = mol.GetRingInfo()  # Get ring information\n",
    "for ring in ring_info.AtomRings():  # List of rings (each as a list of atom indices)\n",
    "    if all(mol.GetAtomWithIdx(idx).GetIsAromatic() for idx in ring):\n",
    "        print('Aromatic')\n",
    "    else:\n",
    "        print('Not-Aromatic')\n",
    "\n",
    "ring_info.AtomRings()"
   ]
  },
  {
   "cell_type": "markdown",
   "id": "8fdfcc70-e2e9-4ee0-afa7-7e2460578c4f",
   "metadata": {},
   "source": [
    "To know which atom is which in the molecule it is also possible to change the drawing option of `rdkit`:"
   ]
  },
  {
   "cell_type": "code",
   "execution_count": 67,
   "id": "7646b8a2-74c1-4135-b9ea-acfeb9c93b63",
   "metadata": {},
   "outputs": [
    {
     "data": {
      "image/png": "[encoded data removed]",
      "text/plain": [
       "<rdkit.Chem.rdchem.Mol at 0x7f04a2f3ba00>"
      ]
     },
     "execution_count": 67,
     "metadata": {},
     "output_type": "execute_result"
    }
   ],
   "source": [
    "IPythonConsole.drawOptions.addAtomIndices = True\n",
    "\n",
    "mol"
   ]
  },
  {
   "cell_type": "code",
   "execution_count": 68,
   "id": "1fcf9da1-febd-4ad8-8198-6ad3467f33ee",
   "metadata": {},
   "outputs": [
    {
     "data": {
      "text/plain": [
       "True"
      ]
     },
     "execution_count": 68,
     "metadata": {},
     "output_type": "execute_result"
    }
   ],
   "source": [
    "mol_atoms[3].IsInRing()"
   ]
  },
  {
   "cell_type": "code",
   "execution_count": null,
   "id": "6da4fc85-2cd5-4543-ae44-a8fccbb2e9c5",
   "metadata": {},
   "outputs": [],
   "source": []
  },
  {
   "cell_type": "code",
   "execution_count": null,
   "id": "3bb49559-ad33-4c99-b2de-0586f9a72682",
   "metadata": {},
   "outputs": [],
   "source": []
  }
 ],
 "metadata": {
  "kernelspec": {
   "display_name": "Python 3",
   "language": "python",
   "name": "python3"
  },
  "language_info": {
   "codemirror_mode": {
    "name": "ipython",
    "version": 3
   },
   "file_extension": ".py",
   "mimetype": "text/x-python",
   "name": "python",
   "nbconvert_exporter": "python",
   "pygments_lexer": "ipython3",
   "version": "3.11.10"
  }
 },
 "nbformat": 4,
 "nbformat_minor": 5
}

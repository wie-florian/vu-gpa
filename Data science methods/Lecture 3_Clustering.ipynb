{
 "cells": [
  {
   "metadata": {},
   "cell_type": "markdown",
   "source": [
    "### 01.04.2025 Lecture 3\n",
    "# Clustering\n",
    "*Documentation for sklearn:* https://scikit-learn.org/stable/modules/generated/sklearn.cluster.AgglomerativeClustering.html"
   ],
   "id": "9ad6aa06a644e377"
  },
  {
   "metadata": {
    "collapsed": true,
    "ExecuteTime": {
     "end_time": "2025-04-01T08:25:54.208816Z",
     "start_time": "2025-04-01T08:25:54.090561Z"
    }
   },
   "cell_type": "code",
   "source": [
    "from sklearn.cluster import AgglomerativeClustering\n",
    "from scipy.cluster import hierarchy\n",
    "from scipy.cluster.hierarchy import dendrogram\n",
    "import numpy as np\n",
    "import matplotlib as mpl\n",
    "from matplotlib import pyplot as plt\n",
    "\n",
    "X = np.array([[ 3,  2],  [4, 5], [ 4,  7],  [2, 7], [ 6,  6],  [7, 7], [6, 4]]) # 7 samples, 2 features\n",
    "\n",
    "clustering = AgglomerativeClustering(n_clusters=None, metric='euclidean', memory=None, connectivity=None, compute_full_tree='auto', linkage='single',\n",
    "                                     distance_threshold=0, compute_distances=True).fit(X)\n",
    "\n",
    "clustering\n",
    "AgglomerativeClustering()\n",
    "clustering.n_clusters_\n",
    "clustering.labels_\n",
    "clustering.n_connected_components_\n",
    "clustering.n_features_in_\n",
    "clustering.children_\n",
    "clustering.distances_\n",
    "\n",
    "z=hierarchy.linkage(X,'single')\n",
    "hierarchy.dendrogram(z)\n",
    "plt.show"
   ],
   "id": "initial_id",
   "outputs": [
    {
     "data": {
      "text/plain": [
       "<function matplotlib.pyplot.show(close=None, block=None)>"
      ]
     },
     "execution_count": 7,
     "metadata": {},
     "output_type": "execute_result"
    },
    {
     "data": {
      "text/plain": [
       "<Figure size 640x480 with 1 Axes>"
      ],
      "image/png": "[encoded data removed]"
     },
     "metadata": {},
     "output_type": "display_data"
    }
   ],
   "execution_count": 7
  },
  {
   "metadata": {},
   "cell_type": "code",
   "outputs": [],
   "execution_count": null,
   "source": "",
   "id": "5245f5030560bfb9"
  }
 ],
 "metadata": {
  "kernelspec": {
   "display_name": "Python 3",
   "language": "python",
   "name": "python3"
  },
  "language_info": {
   "codemirror_mode": {
    "name": "ipython",
    "version": 2
   },
   "file_extension": ".py",
   "mimetype": "text/x-python",
   "name": "python",
   "nbconvert_exporter": "python",
   "pygments_lexer": "ipython2",
   "version": "2.7.6"
  }
 },
 "nbformat": 4,
 "nbformat_minor": 5
}

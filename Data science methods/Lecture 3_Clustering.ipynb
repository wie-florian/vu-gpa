{
 "cells": [
  {
   "metadata": {},
   "cell_type": "markdown",
   "source": [
    "### 01.04.2025 Lecture 3\n",
    "# Clustering\n",
    "*Documentation for sklearn:* https://scikit-learn.org/stable/modules/generated/sklearn.cluster.AgglomerativeClustering.html"
   ],
   "id": "9ad6aa06a644e377"
  },
  {
   "metadata": {
    "collapsed": true,
    "ExecuteTime": {
     "end_time": "2025-04-01T08:29:46.870143Z",
     "start_time": "2025-04-01T08:29:44.759974Z"
    }
   },
   "cell_type": "code",
   "source": [
    "from sklearn.cluster import AgglomerativeClustering\n",
    "from scipy.cluster import hierarchy\n",
    "from scipy.cluster.hierarchy import dendrogram\n",
    "import numpy as np\n",
    "import matplotlib as mpl\n",
    "from matplotlib import pyplot as plt\n",
    "\n",
    "X = np.array([[ 3,  2],  [4, 5], [ 4,  7],  [2, 7], [ 6,  6],  [7, 7], [6, 4]]) # 7 samples, 2 features\n",
    "\n",
    "clustering = AgglomerativeClustering(n_clusters=None, metric='euclidean', memory=None, connectivity=None, compute_full_tree='auto', linkage='single',\n",
    "                                     distance_threshold=0, compute_distances=True).fit(X)\n",
    "\n",
    "clustering\n",
    "AgglomerativeClustering()\n",
    "clustering.n_clusters_\n",
    "clustering.labels_\n",
    "clustering.n_connected_components_\n",
    "clustering.n_features_in_\n",
    "clustering.children_\n",
    "clustering.distances_\n",
    "\n",
    "z=hierarchy.linkage(X,'single')\n",
    "hierarchy.dendrogram(z)\n",
    "plt.show"
   ],
   "id": "initial_id",
   "outputs": [
    {
     "data": {
      "text/plain": [
       "<function matplotlib.pyplot.show(close=None, block=None)>"
      ]
     },
     "execution_count": 1,
     "metadata": {},
     "output_type": "execute_result"
    },
    {
     "data": {
      "text/plain": [
       "<Figure size 640x480 with 1 Axes>"
      ],
      "image/png": "[encoded data removed]"
     },
     "metadata": {},
     "output_type": "display_data"
    }
   ],
   "execution_count": 1
  },
  {
   "metadata": {},
   "cell_type": "markdown",
   "source": "## Example of using PuLP",
   "id": "812f91a82b1531ec"
  },
  {
   "metadata": {
    "ExecuteTime": {
     "end_time": "2025-04-08T08:13:47.818312Z",
     "start_time": "2025-04-08T08:13:47.742009Z"
    }
   },
   "cell_type": "code",
   "source": [
    "from pulp import LpProblem, LpVariable, LpMaximize, LpStatus\n",
    "\n",
    "#Initalize the LP\n",
    "prob=LpProblem(\"Problem_1\", LpMaximize)\n",
    "\n",
    "#Decision Variables\n",
    "x=LpVariable.dicts(\"x\", [1,2], lowBound=0, cat=\"Continuous\")\n",
    "\n",
    "#Objective Function\n",
    "prob +=10*x[1]+20*x[2]\n",
    "\n",
    "#Constraints\n",
    "prob +=-x[1]+2*x[2]<=15\n",
    "prob +=x[1]+x[2]<=12\n",
    "prob +=5*x[1]+3*x[2]<=45\n",
    "\n",
    "print(prob)\n",
    "\n",
    "#Solve Problem\n",
    "status=prob.solve()\n",
    "print(LpStatus[status])\n",
    "\n",
    "#Display Objective Value\n",
    "print()\n",
    "\n",
    "#Display Variables\n",
    "for var in prob.variables():\n",
    "    print(f\"{var.name}={var.varValue}\")\n",
    "\n",
    "print(f\"OBJECTIVE VALUE: {prob.objective.value()}\")\n",
    "\n"
   ],
   "id": "3f116c3bc86f6693",
   "outputs": [
    {
     "name": "stdout",
     "output_type": "stream",
     "text": [
      "Problem_1:\n",
      "MAXIMIZE\n",
      "10*x_1 + 20*x_2 + 0\n",
      "SUBJECT TO\n",
      "_C1: - x_1 + 2 x_2 <= 15\n",
      "\n",
      "_C2: x_1 + x_2 <= 12\n",
      "\n",
      "_C3: 5 x_1 + 3 x_2 <= 45\n",
      "\n",
      "VARIABLES\n",
      "x_1 Continuous\n",
      "x_2 Continuous\n",
      "\n",
      "Optimal\n",
      "\n",
      "x_1=3.0\n",
      "x_2=9.0\n",
      "OBJECTIVE VALUE: 210.0\n"
     ]
    }
   ],
   "execution_count": 1
  },
  {
   "metadata": {},
   "cell_type": "markdown",
   "source": "## LP-DEA.py",
   "id": "abc465a844eb11e7"
  },
  {
   "metadata": {
    "ExecuteTime": {
     "end_time": "2025-04-08T08:16:35.895333Z",
     "start_time": "2025-04-08T08:16:31.767697Z"
    }
   },
   "cell_type": "code",
   "source": [
    "import pandas as pd\n",
    "import numpy as np\n",
    "from pulp import LpMinimize\n",
    "\n",
    "# data=pd.read_excel(r'''\\Users\\spapadokonstantakis\\OneDrive - TU Wien\\Work\\Lehre\\Data Science_Gren Chem_Eng\\DEA-example.xlsx''', sheet_name=4, header=None)\n",
    "# print(data)\n",
    "# par=data.iloc[0:7, 0:5]\n",
    "# print(par)\n",
    "# parA=np.matrix(par)\n",
    "# print(parA)\n",
    "\n",
    "#Initalize the LP\n",
    "prob=LpProblem(\"DEA_SOLVENTS\", LpMinimize)\n",
    "\n",
    "#Decision Variables\n",
    "lamda=LpVariable.dicts(\"lamda\", [1,2,3,4,5,6,7], lowBound=0, cat=\"Continuous\")\n",
    "slack=LpVariable.dicts(\"slack\", [1,2,3,4,5], lowBound=0, cat=\"Continuous\")\n",
    "z=LpVariable.dicts(\"eff\", [1], lowBound=None, cat=\"Continuous\")\n",
    "\n",
    "#Objective Function\n",
    "prob +=z[1]\n",
    "\n",
    "#Constraints\n",
    "prob +=lamda[1]*0.57+lamda[2]*1.32+lamda[3]*0.77+lamda[4]*1.18+lamda[5]*0.94+lamda[6]*1.08+lamda[7]*1.8+slack[1]==z[1]*0.94\n",
    "prob +=lamda[1]*9.98+lamda[2]*6.37+lamda[3]*4.51+lamda[4]*5.97+lamda[5]*9.33+lamda[6]*8.34+lamda[7]*7.55+slack[2]==z[1]*9.33\n",
    "prob +=lamda[1]*21.69+lamda[2]*34.28+lamda[3]*27.51+lamda[4]*23.26+lamda[5]*34.35+lamda[6]*28.85+lamda[7]*33.66+slack[3]==z[1]*34.35\n",
    "prob +=lamda[1]*0.37+lamda[2]*0.20+lamda[3]*0.12+lamda[4]*0.17+lamda[5]*0.22+lamda[6]*0.28+lamda[7]*0.28+slack[4]==z[1]*0.22\n",
    "prob +=lamda[1]*36.4+lamda[2]*17.4+lamda[3]*8.9+lamda[4]*23.7+lamda[5]*6.3+lamda[6]*27.1+lamda[7]*32.5-slack[5]==6.3\n",
    "#prob +=lamda[1]+lamda[2]+lamda[3]+lamda[4]+lamda[5]+lamda[6]+lamda[7]==1\n",
    "\n",
    "print(prob)\n",
    "\n",
    "#Solve Problem\n",
    "status=prob.solve()\n",
    "print(LpStatus[status])\n",
    "\n",
    "#Display Objective Value\n",
    "print()\n",
    "\n",
    "#Display Variables\n",
    "for var in prob.variables():\n",
    "    print(f\"{var.name}={var.varValue}\")\n",
    "\n",
    "print(f\"OBJECTIVE VALUE: {prob.objective.value()}\")\n"
   ],
   "id": "695b6044bc88187b",
   "outputs": [
    {
     "name": "stdout",
     "output_type": "stream",
     "text": [
      "DEA_SOLVENTS:\n",
      "MINIMIZE\n",
      "1*eff_1 + 0\n",
      "SUBJECT TO\n",
      "_C1: - 0.94 eff_1 + 0.57 lamda_1 + 1.32 lamda_2 + 0.77 lamda_3 + 1.18 lamda_4\n",
      " + 0.94 lamda_5 + 1.08 lamda_6 + 1.8 lamda_7 + slack_1 = 0\n",
      "\n",
      "_C2: - 9.33 eff_1 + 9.98 lamda_1 + 6.37 lamda_2 + 4.51 lamda_3 + 5.97 lamda_4\n",
      " + 9.33 lamda_5 + 8.34 lamda_6 + 7.55 lamda_7 + slack_2 = 0\n",
      "\n",
      "_C3: - 34.35 eff_1 + 21.69 lamda_1 + 34.28 lamda_2 + 27.51 lamda_3\n",
      " + 23.26 lamda_4 + 34.35 lamda_5 + 28.85 lamda_6 + 33.66 lamda_7 + slack_3 = 0\n",
      "\n",
      "_C4: - 0.22 eff_1 + 0.37 lamda_1 + 0.2 lamda_2 + 0.12 lamda_3 + 0.17 lamda_4\n",
      " + 0.22 lamda_5 + 0.28 lamda_6 + 0.28 lamda_7 + slack_4 = 0\n",
      "\n",
      "_C5: 36.4 lamda_1 + 17.4 lamda_2 + 8.9 lamda_3 + 23.7 lamda_4 + 6.3 lamda_5\n",
      " + 27.1 lamda_6 + 32.5 lamda_7 - slack_5 = 6.3\n",
      "\n",
      "VARIABLES\n",
      "eff_1 free Continuous\n",
      "lamda_1 Continuous\n",
      "lamda_2 Continuous\n",
      "lamda_3 Continuous\n",
      "lamda_4 Continuous\n",
      "lamda_5 Continuous\n",
      "lamda_6 Continuous\n",
      "lamda_7 Continuous\n",
      "slack_1 Continuous\n",
      "slack_2 Continuous\n",
      "slack_3 Continuous\n",
      "slack_4 Continuous\n",
      "slack_5 Continuous\n",
      "\n",
      "Optimal\n",
      "\n",
      "eff_1=0.24036457\n",
      "lamda_1=0.07061638\n",
      "lamda_2=0.0\n",
      "lamda_3=0.0\n",
      "lamda_4=0.15736556\n",
      "lamda_5=0.0\n",
      "lamda_6=0.0\n",
      "lamda_7=0.0\n",
      "slack_1=0.0\n",
      "slack_2=0.59837759\n",
      "slack_3=3.0645308\n",
      "slack_4=0.0\n",
      "slack_5=0.0\n",
      "OBJECTIVE VALUE: 0.24036457\n"
     ]
    }
   ],
   "execution_count": 3
  },
  {
   "metadata": {},
   "cell_type": "code",
   "outputs": [],
   "execution_count": null,
   "source": "",
   "id": "be58700e57690dbf"
  }
 ],
 "metadata": {
  "kernelspec": {
   "display_name": "Python 3",
   "language": "python",
   "name": "python3"
  },
  "language_info": {
   "codemirror_mode": {
    "name": "ipython",
    "version": 2
   },
   "file_extension": ".py",
   "mimetype": "text/x-python",
   "name": "python",
   "nbconvert_exporter": "python",
   "pygments_lexer": "ipython2",
   "version": "2.7.6"
  }
 },
 "nbformat": 4,
 "nbformat_minor": 5
}

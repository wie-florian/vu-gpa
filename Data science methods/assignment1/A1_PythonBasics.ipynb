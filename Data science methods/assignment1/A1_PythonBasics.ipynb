{
 "cells": [
  {
   "cell_type": "markdown",
   "id": "bfd2cc50-7870-4385-ac03-7c0d2dd163a5",
   "metadata": {
    "deletable": false,
    "editable": false,
    "nbgrader": {
     "cell_type": "markdown",
     "checksum": "5113e2a915d1b66db2f3b13835952934",
     "grade": false,
     "grade_id": "cell-443d88670f161eff",
     "locked": true,
     "schema_version": 3,
     "solution": false,
     "task": false
    }
   },
   "source": [
    "# Assignment 1"
   ]
  },
  {
   "cell_type": "markdown",
   "id": "b9934ff9-f452-40cb-994f-ccd4851543d7",
   "metadata": {
    "deletable": false,
    "editable": false,
    "nbgrader": {
     "cell_type": "markdown",
     "checksum": "a379bad9cd8b8985c98ec91c6c22f407",
     "grade": false,
     "grade_id": "cell-faad0edc9929bd5c",
     "locked": true,
     "schema_version": 3,
     "solution": false,
     "task": false
    }
   },
   "source": [
    "## Exercise 1: Vapor pressures\n",
    "\n",
    "The vapor pressure of a substance if often approximated by the so-called Antoine equation: $ p = 10^{\\left( a − \\frac{b}{temp + c} \\right)} $ with the vapor pressure $p$ in bar and the temperature $temp$ in Kelvin. The empirical parameters $a$, $b$, and $c$ are valid over a certain temperature range. \n",
    "\n",
    "**(a) Write a function called `vap_pres_antoine(temp, a, b, c)` which calculates the vapor pressure of a substance for which we know the input parameters $a$, $b$, and $c$ at a certain temperature $temp$.**  "
   ]
  },
  {
   "cell_type": "code",
   "execution_count": null,
   "id": "5dfeabb2-15f6-4d12-a3e1-2e2c606c0f40",
   "metadata": {
    "deletable": false,
    "nbgrader": {
     "cell_type": "code",
     "checksum": "e9d4d327dd2eb70ef016be408bcc097b",
     "grade": false,
     "grade_id": "cell-77aa08c4ff4b1fb6",
     "locked": false,
     "schema_version": 3,
     "solution": true,
     "task": false
    },
    "revert": "# YOUR CODE HERE\nraise NotImplementedError()"
   },
   "outputs": [],
   "source": [
    "# YOUR CODE HERE\n",
    "raise NotImplementedError()"
   ]
  },
  {
   "cell_type": "code",
   "execution_count": null,
   "id": "95fe1c3a-a8f2-49c3-bf70-0a04bd1879a6",
   "metadata": {
    "deletable": false,
    "editable": false,
    "nbgrader": {
     "cell_type": "code",
     "checksum": "163ca921882d7090a34f109b282340a4",
     "grade": true,
     "grade_id": "cell-1503159ffcc1ff44",
     "locked": true,
     "points": 1,
     "schema_version": 3,
     "solution": false,
     "task": false
    }
   },
   "outputs": [],
   "source": []
  },
  {
   "cell_type": "markdown",
   "id": "c944963e-1820-423d-86c4-65923dd7a49f",
   "metadata": {
    "deletable": false,
    "editable": false,
    "nbgrader": {
     "cell_type": "markdown",
     "checksum": "3486a7e2ea1cfe51dfb80ad9e8a4cc8f",
     "grade": false,
     "grade_id": "cell-9565819fbc0fbb83",
     "locked": true,
     "schema_version": 3,
     "solution": false,
     "task": false
    }
   },
   "source": [
    "**(b) Build a vapor pressure guesser (function called `guess_vap_press()`), which prompts the user input to guess the vapor pressure of a substance known by its trivial name. The vapor pressure does not need to be guessed precisiely, but should just be within the correct order of magnitude such that the answer by the user is correct. Besides a printed answer to the test ('correct within one order of magnitude' or 'wrong vapor pressure'), the function should return 0 when the vapor pressure is guessed wrongly, and it should return 1, when it is guessed correctly (i.e. within one order of magnitude).**"
   ]
  },
  {
   "cell_type": "code",
   "execution_count": null,
   "id": "26e2cbfe-3410-4754-a999-eeeed02c8ffa",
   "metadata": {
    "deletable": false,
    "editable": false,
    "nbgrader": {
     "cell_type": "code",
     "checksum": "5698e66ec0516e290eebfec417b620d4",
     "grade": false,
     "grade_id": "cell-726e34e07d39ef12",
     "locked": true,
     "schema_version": 3,
     "solution": false,
     "task": false
    }
   },
   "outputs": [],
   "source": [
    "import numpy as np\n",
    "\n",
    "vapor_pressures = {\n",
    "    \"water\": 3169,           # in Pascal\n",
    "    \"ethanol\": 7897,         # in Pascal\n",
    "    \"methanol\": 12700,       # in Pascal\n",
    "    \"acetone\": 24700,        # in Pascal\n",
    "    \"benzene\": 12400,        # in Pascal\n",
    "    \"chloroform\": 21500,     # in Pascal\n",
    "    \"diethyl_ether\": 53700,  # in Pascal\n",
    "    \"n_hexane\": 16000,       # in Pascal\n",
    "    \"toluene\": 3800,         # in Pascal\n",
    "    \"acetic_acid\": 1560,     # in Pascal\n",
    "    \"carbon_tetrachloride\": 15000,  # in Pascal\n",
    "    \"ammonia\": 86600,        # in Pascal\n",
    "    \"butane\": 220000,        # in Pascal\n",
    "    \"pentane\": 57000,        # in Pascal\n",
    "    \"propane\": 101000,       # in Pascal\n",
    "    \"hydrogen_peroxide\": 750, # in Pascal\n",
    "    \"formic_acid\": 5610,     # in Pascal\n",
    "    \"hydrogen_sulfide\": 202000,  # in Pascal\n",
    "    \"carbon_dioxide\": 5700,  # in Pascal\n",
    "    \"sulfur_dioxide\": 3000,  # in Pascal\n",
    "    \"hydrochloric_acid\": 40000, # in Pascal\n",
    "    \"nitrogen\": 75500,       # in Pascal\n",
    "    \"oxygen\": 49200,         # in Pascal\n",
    "    \"argon\": 27000,          # in Pascal\n",
    "    \"xenon\": 77,             # in Pascal\n",
    "    \"mercury\": 0.27,         # in Pascal\n",
    "    \"bromine\": 2700,         # in Pascal\n",
    "    \"iodine\": 0.031,         # in Pascal\n",
    "    \"phosphine\": 200000,     # in Pascal\n",
    "    \"nitric_acid\": 47,       # in Pascal\n",
    "    \"ethene\": 581000,        # in Pascal\n",
    "    \"ethyne\": 417000         # in Pascal\n",
    "}"
   ]
  },
  {
   "cell_type": "code",
   "execution_count": null,
   "id": "cae8a9af-afab-44dd-ad3a-9b2c727b12ed",
   "metadata": {
    "deletable": false,
    "nbgrader": {
     "cell_type": "code",
     "checksum": "f1b83e87d5132edebf7ba29def258494",
     "grade": false,
     "grade_id": "cell-fe34a6eea3067568",
     "locked": false,
     "schema_version": 3,
     "solution": true,
     "task": false
    },
    "revert": "def guess_vap_pres(vap_pres_dict):\n# YOUR CODE HERE\nraise NotImplementedError()"
   },
   "outputs": [],
   "source": [
    "def guess_vap_pres(vap_pres_dict):\n",
    "# YOUR CODE HERE\n",
    "raise NotImplementedError()"
   ]
  },
  {
   "cell_type": "code",
   "execution_count": null,
   "id": "4df2ee95-369c-4898-8d6f-a6e6d00f087e",
   "metadata": {
    "deletable": false,
    "editable": false,
    "nbgrader": {
     "cell_type": "code",
     "checksum": "3377b51d64b82d8f3c3942469edc6322",
     "grade": true,
     "grade_id": "cell-8c53dc57e08f4859",
     "locked": true,
     "points": 2,
     "schema_version": 3,
     "solution": false,
     "task": false
    }
   },
   "outputs": [],
   "source": []
  },
  {
   "cell_type": "markdown",
   "id": "cb2ecf05-585b-458b-9b0b-2c32a206d370",
   "metadata": {
    "deletable": false,
    "editable": false,
    "nbgrader": {
     "cell_type": "markdown",
     "checksum": "b785440f48dedb82980c087afb905ed5",
     "grade": false,
     "grade_id": "cell-59c6c69fbd60e93f",
     "locked": true,
     "schema_version": 3,
     "solution": false,
     "task": false
    }
   },
   "source": [
    "**(c) we will now read-in a file `organic_vapor_pressures.csv` which contains the compound names, CAS number, sum formulas and vapor pressures at 300 K of a set of organic molecules. Write a function `read_in_basic(filename)` and a function `read_in_pandas(filename)` to read in the file and which return its content as a pandas DataFrame `df` (with the same column names than the first row of the file). The former solution should use python built-in functions only and the latter can use pandas read-in. Please be aware that a semicolon is used as the list seperator in the file (look up the pandas docs to change the seperator in the read-in)**\n"
   ]
  },
  {
   "cell_type": "code",
   "execution_count": null,
   "id": "b0ceb435-f7ee-4eaf-ad00-3d3e1c25d090",
   "metadata": {
    "deletable": false,
    "nbgrader": {
     "cell_type": "code",
     "checksum": "583a109832f91d99c0e9dfd3050483e5",
     "grade": false,
     "grade_id": "cell-422d5100a4764eba",
     "locked": false,
     "schema_version": 3,
     "solution": true,
     "task": false
    },
    "revert": "import pandas as pd\nimport numpy as np\n\ndef read_in_basic(filename):\n    # YOUR CODE HERE\n    raise NotImplementedError()\n\ndef read_in_pandas(filename):\n    # YOUR CODE HERE\n    raise NotImplementedError()"
   },
   "outputs": [],
   "source": [
    "import pandas as pd\n",
    "import numpy as np\n",
    "\n",
    "def read_in_basic(filename):\n",
    "    # YOUR CODE HERE\n",
    "    raise NotImplementedError()\n",
    "\n",
    "def read_in_pandas(filename):\n",
    "    # YOUR CODE HERE\n",
    "    raise NotImplementedError()"
   ]
  },
  {
   "cell_type": "code",
   "execution_count": null,
   "id": "b961942d-ad66-4145-9292-a73ca180daf7",
   "metadata": {
    "deletable": false,
    "editable": false,
    "nbgrader": {
     "cell_type": "code",
     "checksum": "b6e2e4afbc6f2162925bcbcebca746cb",
     "grade": true,
     "grade_id": "cell-6f65f4898c73768e",
     "locked": true,
     "points": 2,
     "schema_version": 3,
     "solution": false,
     "task": false
    }
   },
   "outputs": [],
   "source": []
  },
  {
   "cell_type": "markdown",
   "id": "d8c56e53-7e07-42c7-a550-30f3e9945de1",
   "metadata": {
    "deletable": false,
    "editable": false,
    "nbgrader": {
     "cell_type": "markdown",
     "checksum": "8d21b22abfc1e352f19211abba0546ea",
     "grade": false,
     "grade_id": "cell-5a70f5af6dc4d14d",
     "locked": true,
     "schema_version": 3,
     "solution": false,
     "task": false
    }
   },
   "source": [
    "**(d) Measure the time it takes for the two functions to read-in that file and store the outcome in the variables `time_basic` and `time_pandas`**"
   ]
  },
  {
   "cell_type": "code",
   "execution_count": null,
   "id": "8f137ec3-4c5a-40b5-b96f-c29451a64117",
   "metadata": {
    "deletable": false,
    "nbgrader": {
     "cell_type": "code",
     "checksum": "c85139733fb81e987fac22ce51fd5599",
     "grade": false,
     "grade_id": "cell-af08d22bb398fc2c",
     "locked": false,
     "schema_version": 3,
     "solution": true,
     "task": false
    },
    "revert": "import time\n\n# YOUR CODE HERE\nraise NotImplementedError()"
   },
   "outputs": [],
   "source": [
    "import time\n",
    "\n",
    "# YOUR CODE HERE\n",
    "raise NotImplementedError()"
   ]
  },
  {
   "cell_type": "code",
   "execution_count": null,
   "id": "e14911b8-285e-4c69-b182-03e49f87d9ad",
   "metadata": {
    "deletable": false,
    "editable": false,
    "nbgrader": {
     "cell_type": "code",
     "checksum": "903dfc33bdc57a94ea48e30193573d91",
     "grade": true,
     "grade_id": "cell-fb33e2aa864adcfa",
     "locked": true,
     "points": 1,
     "schema_version": 3,
     "solution": false,
     "task": false
    }
   },
   "outputs": [],
   "source": []
  },
  {
   "cell_type": "markdown",
   "id": "68ba54be-d6a7-4237-9893-4c54f2fc1291",
   "metadata": {
    "deletable": false,
    "editable": false,
    "nbgrader": {
     "cell_type": "markdown",
     "checksum": "4e2c4f8401ef84324cea0942dfab5b25",
     "grade": false,
     "grade_id": "cell-600c90b9e01e5db6",
     "locked": true,
     "schema_version": 3,
     "solution": false,
     "task": false
    }
   },
   "source": [
    "**(e) Now disentengle the sum formulas such that the DataFrame has new columns giving integer numbers for the number of atome of each element found in the molecules. Again use two approaches, a function `disentengle_sum_formulas_basic(df)` and `disentengle_sum_formulas_regex(df)` with the former using only basic python string manipulation (check out the [string class methods](https://docs.python.org/3/library/stdtypes.html#str) isdigit() and islower(), they might come in handy) and the latter using regular expressions. The functions should return the modified DataFrame. Again compare the time the two functions need for execution by storing them into `time_basic` and `time_regex`.**"
   ]
  },
  {
   "cell_type": "code",
   "execution_count": null,
   "id": "353a64f9-ea05-479b-b4b6-35b830119a23",
   "metadata": {
    "deletable": false,
    "nbgrader": {
     "cell_type": "code",
     "checksum": "6cf54800b5d2c5f40973da485bd7d7d3",
     "grade": false,
     "grade_id": "cell-6c9bfd600cd4fbbc",
     "locked": false,
     "schema_version": 3,
     "solution": true,
     "task": false
    },
    "revert": "import re\nimport pandas as pd\nimport time\n\ndef disentengle_sum_formulas_basic(df):\n    # YOUR CODE HERE\n    raise NotImplementedError()\n\n\ndef disentengle_sum_formulas_regex(df):\n    # YOUR CODE HERE\n    raise NotImplementedError()\n\n\ntime_basic = 0\ntime_regex = 0 \n# YOUR CODE HERE\nraise NotImplementedError()"
   },
   "outputs": [],
   "source": [
    "import re\n",
    "import pandas as pd\n",
    "import time\n",
    "\n",
    "def disentengle_sum_formulas_basic(df):\n",
    "    # YOUR CODE HERE\n",
    "    raise NotImplementedError()\n",
    "\n",
    "\n",
    "def disentengle_sum_formulas_regex(df):\n",
    "    # YOUR CODE HERE\n",
    "    raise NotImplementedError()\n",
    "\n",
    "\n",
    "time_basic = 0\n",
    "time_regex = 0 \n",
    "# YOUR CODE HERE\n",
    "raise NotImplementedError()"
   ]
  },
  {
   "cell_type": "code",
   "execution_count": null,
   "id": "ff28e508-75fc-456a-8a66-5d2550f5a2bd",
   "metadata": {
    "deletable": false,
    "editable": false,
    "nbgrader": {
     "cell_type": "code",
     "checksum": "2012c1540629ee389df10af0349c7fd3",
     "grade": true,
     "grade_id": "cell-27e52589d3e21644",
     "locked": true,
     "points": 3,
     "schema_version": 3,
     "solution": false,
     "task": false
    }
   },
   "outputs": [],
   "source": []
  },
  {
   "cell_type": "markdown",
   "id": "92ea59a4-8bae-46de-96ef-3c74b3d20638",
   "metadata": {
    "deletable": false,
    "editable": false,
    "nbgrader": {
     "cell_type": "markdown",
     "checksum": "d47999e9d7adbc0dfb4fc0753f8e0120",
     "grade": false,
     "grade_id": "cell-6e7a70ae6627e250",
     "locked": true,
     "schema_version": 3,
     "solution": false,
     "task": false
    }
   },
   "source": [
    "**(f) Now we want to filter the available data, which we do within a function `filter_low_vap_press(df)`, which returns compented and filtered vapor pressure DataFrame as specified below: First we need to convert the vapor pressures in bar to vapor pressures given in units of cm<sup>-3</sup>, for which we use the ideal gas law (at 300 K) for conversion, because we are interested in their phase-partitioning in the gas-phase (aerosol formation). The new column is to be named `'P [cm-3] at 300 K'`. In addition, calculate the molecular mass for these compounds in a new column (`M [g mol-1]`). Then we reduce the DataFrame `df` to those substances with a vapor pressure smaller than 10<sup>17</sup> cm<sup>-3</sup>.  What pattern do you observe by inspecting the remaining DataFrame (answer for the discussion, no text needed here)?** "
   ]
  },
  {
   "cell_type": "code",
   "execution_count": null,
   "id": "6f941ae3-aa9d-46e1-9b15-13b33f383614",
   "metadata": {
    "deletable": false,
    "nbgrader": {
     "cell_type": "code",
     "checksum": "2b733e1f1f1b8f530fb4d31b5f155aee",
     "grade": false,
     "grade_id": "cell-df54bb563cdf02c4",
     "locked": false,
     "schema_version": 3,
     "solution": true,
     "task": false
    },
    "revert": "def filter_low_vap_press(df):\n    # YOUR CODE HERE\n    raise NotImplementedError()\n\ndf = read_in_pandas('./organic_vapor_pressures.csv')\ndf = disentengle_sum_formulas_regex(df)\ndf = filter_low_vap_press(df)"
   },
   "outputs": [],
   "source": [
    "def filter_low_vap_press(df):\n",
    "    # YOUR CODE HERE\n",
    "    raise NotImplementedError()\n",
    "\n",
    "df = read_in_pandas('./organic_vapor_pressures.csv')\n",
    "df = disentengle_sum_formulas_regex(df)\n",
    "df = filter_low_vap_press(df)"
   ]
  },
  {
   "cell_type": "code",
   "execution_count": null,
   "id": "64481535-7aa5-45fe-b7c0-448720677d53",
   "metadata": {
    "deletable": false,
    "editable": false,
    "nbgrader": {
     "cell_type": "code",
     "checksum": "13421fb94202a377ccffb9c6f9a98088",
     "grade": true,
     "grade_id": "cell-c757a87a1bf2e72e",
     "locked": true,
     "points": 1,
     "schema_version": 3,
     "solution": false,
     "task": false
    }
   },
   "outputs": [],
   "source": []
  },
  {
   "cell_type": "markdown",
   "id": "fdb9498d-ca2d-4ac0-ac71-fb027d7126b8",
   "metadata": {
    "deletable": false,
    "editable": false,
    "nbgrader": {
     "cell_type": "markdown",
     "checksum": "dcd197204c928142151e427cfd4e1bb8",
     "grade": false,
     "grade_id": "cell-b73b9f5e3d5803ec",
     "locked": true,
     "schema_version": 3,
     "solution": false,
     "task": false
    }
   },
   "source": [
    "## Exercise 2: Dual mass spectrometer data\n",
    "\n",
    "In this exercise we will deal with two sets of data from two complimentary mass spectrometers. These atmospheric-pressure interface mass spectrometers are used in climate and air pollution studies to identify gaseous trace compounds in the atmosphere. They use chemical ionization witch specific reagent ions to ionize the substances by forming adduct clusters. In this case we use two different instruments with two different reagent ions, one with Nitrate (NO<sub>3</sub><sup>-</sup>) and one with Bromide (Br<sup>-</sup>). The mass spectrometers were operated in Hyytiälä, Finland, where they detected gaseous substances which can form new aerosol particles due to their low vapor pressure. The raw dataset was already processed  by a skilled experimental chemist, i.e. the peaks in the mass spectrum were identified, fitted and averaged over a longer time period. Now, we have two excel sheets available which contain the identified sum formulas and their average concentration. With these we will get to know how to compute, slice and overlap datasets with pandas. A detailed guide for this can be found in the [pandas user guide](https://pandas.pydata.org/docs/dev/user_guide/merging.html)."
   ]
  },
  {
   "cell_type": "markdown",
   "id": "bff6a8b2-e582-42ae-8afc-455ede5ba9f3",
   "metadata": {
    "deletable": false,
    "editable": false,
    "nbgrader": {
     "cell_type": "markdown",
     "checksum": "9999f86898e6d88a3dc45f19fcca3f3f",
     "grade": false,
     "grade_id": "cell-b99064b4209f8e50",
     "locked": true,
     "schema_version": 3,
     "solution": false,
     "task": false
    }
   },
   "source": [
    "**(a) use the pandas function [read_excel](https://pandas.pydata.org/pandas-docs/version/1.5/reference/api/pandas.read_excel.html) to read in the two files `nitrate.xlsx` and `bromide.xlsx` and name the DataFrames `nitrate` and `bromide`, respectively. Apply a procedure to transform the sum formulas to columns containing the elemental abundances. Be careful with -, (NO3-) and (Br-) in the sum formulas, as they are not part of the analyte, but specify the ionization mode of detection. They should not end up in the elemental abundances list.**"
   ]
  },
  {
   "cell_type": "code",
   "execution_count": null,
   "id": "294b112b-8e7a-427f-a129-65726adc4018",
   "metadata": {
    "deletable": false,
    "nbgrader": {
     "cell_type": "code",
     "checksum": "75ce55a1583d8527275656897667368b",
     "grade": false,
     "grade_id": "cell-6df022c3b8d2a22c",
     "locked": false,
     "schema_version": 3,
     "solution": true,
     "task": false
    },
    "revert": "import pandas as pd\nimport re\n\n# YOUR CODE HERE\nraise NotImplementedError()"
   },
   "outputs": [],
   "source": [
    "import pandas as pd\n",
    "import re\n",
    "\n",
    "# YOUR CODE HERE\n",
    "raise NotImplementedError()"
   ]
  },
  {
   "cell_type": "code",
   "execution_count": null,
   "id": "b0c3d9a0-f9af-4141-abd0-b82d5de98f1d",
   "metadata": {
    "deletable": false,
    "editable": false,
    "nbgrader": {
     "cell_type": "code",
     "checksum": "3969c892e9ca398570d3b4ed6a8b1269",
     "grade": true,
     "grade_id": "cell-b24429f88fa6b86c",
     "locked": true,
     "points": 2,
     "schema_version": 3,
     "solution": false,
     "task": false
    }
   },
   "outputs": [],
   "source": []
  },
  {
   "cell_type": "markdown",
   "id": "a2b6cee6-9d52-4c9c-ad4e-1c1b5fb404bf",
   "metadata": {
    "deletable": false,
    "editable": false,
    "nbgrader": {
     "cell_type": "markdown",
     "checksum": "279b54ce29a56a62b9acda0b44968d03",
     "grade": false,
     "grade_id": "cell-50d9a2fcf662475c",
     "locked": true,
     "schema_version": 3,
     "solution": false,
     "task": false
    }
   },
   "source": [
    "**(b) now we want to clean the dataset, as we are only interested in organic compounds this time. Except for the primary ion peaks (NO3-), H1N1O3(NO3-), H2N2O6(NO3-) and (Br-), H2O1(Br-) we want to get rid of all inorganics in the dataset, i.e. create two dataframes nitrate_org and bromide_org, which only contain the primary ions of the ionization method and organic peaks (C>0). Recall how conditional statements can be used to reduce a DataFrame and note that they can be [combined](https://pandas.pydata.org/pandas-docs/stable/user_guide/indexing.html#boolean-indexing). Possibly, [pd.concat](https://pandas.pydata.org/docs/reference/api/pandas.concat.html) could be helpful. At the end also drop ([pd.drop()](https://pandas.pydata.org/docs/reference/api/pandas.DataFrame.drop.html)) all columns which show up only in inorganic molecular ions, namely 'Cl', 'I'.** "
   ]
  },
  {
   "cell_type": "code",
   "execution_count": null,
   "id": "26067041-7eef-4727-8e33-8406c02de185",
   "metadata": {
    "deletable": false,
    "nbgrader": {
     "cell_type": "code",
     "checksum": "443f673a9b4210b0139dce9ef9d7e11b",
     "grade": false,
     "grade_id": "cell-dea979870c1f44ac",
     "locked": false,
     "schema_version": 3,
     "solution": true,
     "task": false
    },
    "revert": "# YOUR CODE HERE\nraise NotImplementedError()"
   },
   "outputs": [],
   "source": [
    "# YOUR CODE HERE\n",
    "raise NotImplementedError()"
   ]
  },
  {
   "cell_type": "code",
   "execution_count": null,
   "id": "2d659022-02a2-413f-bd92-196e602494b8",
   "metadata": {
    "deletable": false,
    "editable": false,
    "nbgrader": {
     "cell_type": "code",
     "checksum": "71bf83666d3a445d32fed5ec77749113",
     "grade": true,
     "grade_id": "cell-5f62e2bea3e652c5",
     "locked": true,
     "points": 1,
     "schema_version": 3,
     "solution": false,
     "task": false
    }
   },
   "outputs": [],
   "source": []
  },
  {
   "cell_type": "markdown",
   "id": "b7f55041-dc11-4eb8-ad18-e56203c6ca5d",
   "metadata": {
    "deletable": false,
    "editable": false,
    "nbgrader": {
     "cell_type": "markdown",
     "checksum": "6f2d5b144c1ba825adc636f6fa23d431",
     "grade": false,
     "grade_id": "cell-bd5e8891058bab6a",
     "locked": true,
     "schema_version": 3,
     "solution": false,
     "task": false
    }
   },
   "source": [
    "**(c) Now we will identify molecules which are measured twice by the *same* instrument, e.g., they might be measured as the (NO3-) adduct (M+(NO3-)) and a deprotonated (M-) signal, so as different molecular ions, by writing a function called `remove_duplicate_molecules(df)`. There are two ways: One using [pd.duplicated](https://pandas.pydata.org/docs/reference/api/pandas.DataFrame.duplicated.html) and one using [pd.groupby](https://pandas.pydata.org/docs/reference/api/pandas.DataFrame.groupby.html). In either case, the raw signal in counts per second of the molecules measured via two different molecular ions should be summed and one of the duplicates removed from the DataFrame.**"
   ]
  },
  {
   "cell_type": "code",
   "execution_count": null,
   "id": "513eb1b8-939e-494e-9268-eeb6b7545df4",
   "metadata": {
    "deletable": false,
    "nbgrader": {
     "cell_type": "code",
     "checksum": "9c348f544dd25b83b22a120157c61db8",
     "grade": false,
     "grade_id": "cell-501f9fb17dc9f1e3",
     "locked": false,
     "schema_version": 3,
     "solution": true,
     "task": false
    },
    "revert": "import numpy as np\n\ndef remove_duplicate_molecules(df):\n    df = df.copy()\n    # YOUR CODE HERE\n    raise NotImplementedError()"
   },
   "outputs": [],
   "source": [
    "import numpy as np\n",
    "\n",
    "def remove_duplicate_molecules(df):\n",
    "    df = df.copy()\n",
    "    # YOUR CODE HERE\n",
    "    raise NotImplementedError()"
   ]
  },
  {
   "cell_type": "code",
   "execution_count": null,
   "id": "bbc622af-770d-4fd2-b3f1-d531a340e57b",
   "metadata": {
    "deletable": false,
    "editable": false,
    "nbgrader": {
     "cell_type": "code",
     "checksum": "27380030b7fd032832c690531cefa7d7",
     "grade": true,
     "grade_id": "cell-2ba91a15746e6174",
     "locked": true,
     "points": 2,
     "schema_version": 3,
     "solution": false,
     "task": false
    }
   },
   "outputs": [],
   "source": []
  },
  {
   "cell_type": "markdown",
   "id": "92e2e10b-b919-40cc-b5f2-1af16304e5bd",
   "metadata": {
    "deletable": false,
    "editable": false,
    "nbgrader": {
     "cell_type": "markdown",
     "checksum": "714d1fafe42aafd201d4caf84b6ceab1",
     "grade": false,
     "grade_id": "cell-86dad1bc3231d9de",
     "locked": true,
     "schema_version": 3,
     "solution": false,
     "task": false
    }
   },
   "source": [
    "**(d) Currently we only have the raw signal per molecular ion ($cps(analyte)$) available in both mass spectra, but we want to transform this to meaningful concentrations ($c(analyte)$ in molecules per cm<sup>3</sup>) for both mass spectra. For that the data is normalized by the primary ion signals (to account for differences in the performance between calibration and actual measurement) and then multiplied by a calibration factor $f$.** \n",
    "\n",
    "For nitrate we use the following formula:\n",
    "$$ c(analyte) = \\frac{cps(analyte)}{cps(NO3-)+cps(HNO3(NO3-))+cps(H2N2O6)(NO3-)}\\cdot f(nitrate)$$\n",
    "with $f(nitrate)=2.6\\cdot10^{9}$. \n",
    "\n",
    "And for bromide we use:\n",
    "$$ c(analyte) = \\frac{cps(analyte)}{cps(Br-)+cps(H2O(Br-))}\\cdot f(bromide)$$\n",
    "with $f(bromide)=3.0\\cdot10^{9}$.\n",
    "\n",
    "**Create two new DataFrames `nitrate_calib` and `bromide_calib` which originate from `bromide_org`and `nitrate_org` and have a new column giving the proper concentrations (named 'conc') for each measured molecule.**"
   ]
  },
  {
   "cell_type": "code",
   "execution_count": null,
   "id": "a623346d-d2e3-4769-96b9-af8935e402cd",
   "metadata": {
    "deletable": false,
    "nbgrader": {
     "cell_type": "code",
     "checksum": "6108904158e0a1511edf03819975ff57",
     "grade": false,
     "grade_id": "cell-7d07432a5e4c4d99",
     "locked": false,
     "schema_version": 3,
     "solution": true,
     "task": false
    },
    "revert": "# YOUR CODE HERE\nraise NotImplementedError()"
   },
   "outputs": [],
   "source": [
    "# YOUR CODE HERE\n",
    "raise NotImplementedError()"
   ]
  },
  {
   "cell_type": "code",
   "execution_count": null,
   "id": "4e1e52ea-4cc4-48c4-8051-5c1501ac9ebb",
   "metadata": {
    "deletable": false,
    "editable": false,
    "nbgrader": {
     "cell_type": "code",
     "checksum": "888deba5a95d353e9521f4f319fea2bc",
     "grade": true,
     "grade_id": "cell-2329bbafdeaeed00",
     "locked": true,
     "points": 2,
     "schema_version": 3,
     "solution": false,
     "task": false
    }
   },
   "outputs": [],
   "source": []
  },
  {
   "cell_type": "markdown",
   "id": "8e93a16b-6a9e-41d7-8325-16dd43404921",
   "metadata": {
    "deletable": false,
    "editable": false,
    "nbgrader": {
     "cell_type": "markdown",
     "checksum": "10289c4370ddc44941cbe5e281efe025",
     "grade": false,
     "grade_id": "cell-5a64f45a043202d8",
     "locked": true,
     "schema_version": 3,
     "solution": false,
     "task": false
    }
   },
   "source": [
    "**(e) The organics measured in the two mass spectra (`nitrate_calib` and `bromide_calib`) need to be combined. For that we first need to identify the molecules measured in both instruments, i.e. we need to extract the overlap. We will use [pd.merge](https://pandas.pydata.org/docs/reference/api/pandas.DataFrame.merge.html) for this. `pd.merge`  is commonly used to merge data from two DataFrames based on a common column(s), and when used with the `how='inner'` keyword, it performs an inner join returning only the rows where there is a match in both DataFrames based on the specified key columns. Drop the primary ions from both DataFrames, and also get rid of the columns for the halogenes which might be still in your `bromide_calib` (namely 'Br','Cl','I'). For the overlapping peaks we will then compare the measured concentrations and use the instrument with the higher concentration and discard the other. At the end, we combine everything together again into one DataFrame which contains all sum formulas, the elemental abundances, the instrument which was used and the concentration. Put your code into a function called `combine_bromide_nitrate(bromide, nitrate)` where you pass `bromide_calib` and `nitrate_calib` as arguments and which return the final mass spectrum as a DataFrame (with reset index, going from 0 to ).**"
   ]
  },
  {
   "cell_type": "code",
   "execution_count": null,
   "id": "4ee2d265-8dce-4136-a3d5-9849ebe52153",
   "metadata": {
    "deletable": false,
    "nbgrader": {
     "cell_type": "code",
     "checksum": "f1cf3457a05b8037df006abdfa49a297",
     "grade": false,
     "grade_id": "cell-e99694a501984559",
     "locked": false,
     "schema_version": 3,
     "solution": true,
     "task": false
    },
    "revert": "def combine_bromide_nitrate(bromide, nitrate):\n    # YOUR CODE HERE\n    raise NotImplementedError()"
   },
   "outputs": [],
   "source": [
    "def combine_bromide_nitrate(bromide, nitrate):\n",
    "    # YOUR CODE HERE\n",
    "    raise NotImplementedError()"
   ]
  },
  {
   "cell_type": "code",
   "execution_count": null,
   "id": "f82fdb47-09c6-422c-bef4-60fa0f95e95f",
   "metadata": {
    "deletable": false,
    "editable": false,
    "nbgrader": {
     "cell_type": "code",
     "checksum": "1b9fc55eabaebad99f7995b99ee89c7b",
     "grade": true,
     "grade_id": "cell-76662a237e59a8eb",
     "locked": true,
     "points": 3,
     "schema_version": 3,
     "solution": false,
     "task": false
    }
   },
   "outputs": [],
   "source": []
  }
 ],
 "metadata": {
  "kernelspec": {
   "display_name": "Python 3",
   "language": "python",
   "name": "python3"
  },
  "language_info": {
   "codemirror_mode": {
    "name": "ipython",
    "version": 3
   },
   "file_extension": ".py",
   "mimetype": "text/x-python",
   "name": "python",
   "nbconvert_exporter": "python",
   "pygments_lexer": "ipython3",
   "version": "3.11.10"
  }
 },
 "nbformat": 4,
 "nbformat_minor": 5
}

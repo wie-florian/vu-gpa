{
 "cells": [
  {
   "cell_type": "markdown",
   "id": "bfd2cc50-7870-4385-ac03-7c0d2dd163a5",
   "metadata": {
    "deletable": false,
    "editable": false,
    "nbgrader": {
     "cell_type": "markdown",
     "checksum": "5113e2a915d1b66db2f3b13835952934",
     "grade": false,
     "grade_id": "cell-443d88670f161eff",
     "locked": true,
     "schema_version": 3,
     "solution": false,
     "task": false
    }
   },
   "source": [
    "# Assignment 1"
   ]
  },
  {
   "cell_type": "markdown",
   "id": "b9934ff9-f452-40cb-994f-ccd4851543d7",
   "metadata": {
    "deletable": false,
    "editable": false,
    "nbgrader": {
     "cell_type": "markdown",
     "checksum": "a379bad9cd8b8985c98ec91c6c22f407",
     "grade": false,
     "grade_id": "cell-faad0edc9929bd5c",
     "locked": true,
     "schema_version": 3,
     "solution": false,
     "task": false
    }
   },
   "source": [
    "## Exercise 1: Vapor pressures\n",
    "\n",
    "The vapor pressure of a substance if often approximated by the so-called Antoine equation: $ p = 10^{\\left( a − \\frac{b}{temp + c} \\right)} $ with the vapor pressure $p$ in bar and the temperature $temp$ in Kelvin. The empirical parameters $a$, $b$, and $c$ are valid over a certain temperature range. \n",
    "\n",
    "**(a) Write a function called `vap_pres_antoine(temp, a, b, c)` which calculates the vapor pressure of a substance for which we know the input parameters $a$, $b$, and $c$ at a certain temperature $temp$.**  "
   ]
  },
  {
   "cell_type": "code",
   "execution_count": 1,
   "id": "5dfeabb2-15f6-4d12-a3e1-2e2c606c0f40",
   "metadata": {
    "deletable": false,
    "nbgrader": {
     "cell_type": "code",
     "checksum": "e9d4d327dd2eb70ef016be408bcc097b",
     "grade": false,
     "grade_id": "cell-77aa08c4ff4b1fb6",
     "locked": false,
     "schema_version": 3,
     "solution": true,
     "task": false
    },
    "revert": "# YOUR CODE HERE\nraise NotImplementedError()"
   },
   "outputs": [],
   "source": [
    "def vap_pres_antoine(temp, a, b, c):\n",
    "    p = 10 ** (a - (b / (temp + c)))\n",
    "    \n",
    "    return p\n",
    "\n",
    "\n",
    "# print(vap_pres_antoine(293, 1, 1, 1))\n"
   ]
  },
  {
   "cell_type": "code",
   "execution_count": null,
   "id": "95fe1c3a-a8f2-49c3-bf70-0a04bd1879a6",
   "metadata": {
    "deletable": false,
    "editable": false,
    "nbgrader": {
     "cell_type": "code",
     "checksum": "163ca921882d7090a34f109b282340a4",
     "grade": true,
     "grade_id": "cell-1503159ffcc1ff44",
     "locked": true,
     "points": 1,
     "schema_version": 3,
     "solution": false,
     "task": false
    }
   },
   "outputs": [],
   "source": []
  },
  {
   "cell_type": "markdown",
   "id": "c944963e-1820-423d-86c4-65923dd7a49f",
   "metadata": {
    "deletable": false,
    "editable": false,
    "nbgrader": {
     "cell_type": "markdown",
     "checksum": "3486a7e2ea1cfe51dfb80ad9e8a4cc8f",
     "grade": false,
     "grade_id": "cell-9565819fbc0fbb83",
     "locked": true,
     "schema_version": 3,
     "solution": false,
     "task": false
    }
   },
   "source": [
    "**(b) Build a vapor pressure guesser (function called `guess_vap_press()`), which prompts the user input to guess the vapor pressure of a substance known by its trivial name. The vapor pressure does not need to be guessed precisiely, but should just be within the correct order of magnitude such that the answer by the user is correct. Besides a printed answer to the test ('correct within one order of magnitude' or 'wrong vapor pressure'), the function should return 0 when the vapor pressure is guessed wrongly, and it should return 1, when it is guessed correctly (i.e. within one order of magnitude).**"
   ]
  },
  {
   "cell_type": "code",
   "execution_count": 2,
   "id": "26e2cbfe-3410-4754-a999-eeeed02c8ffa",
   "metadata": {
    "deletable": false,
    "editable": false,
    "nbgrader": {
     "cell_type": "code",
     "checksum": "5698e66ec0516e290eebfec417b620d4",
     "grade": false,
     "grade_id": "cell-726e34e07d39ef12",
     "locked": true,
     "schema_version": 3,
     "solution": false,
     "task": false
    }
   },
   "outputs": [],
   "source": [
    "import numpy as np\n",
    "\n",
    "vapor_pressures = {\n",
    "    \"water\": 3169,           # in Pascal\n",
    "    \"ethanol\": 7897,         # in Pascal\n",
    "    \"methanol\": 12700,       # in Pascal\n",
    "    \"acetone\": 24700,        # in Pascal\n",
    "    \"benzene\": 12400,        # in Pascal\n",
    "    \"chloroform\": 21500,     # in Pascal\n",
    "    \"diethyl_ether\": 53700,  # in Pascal\n",
    "    \"n_hexane\": 16000,       # in Pascal\n",
    "    \"toluene\": 3800,         # in Pascal\n",
    "    \"acetic_acid\": 1560,     # in Pascal\n",
    "    \"carbon_tetrachloride\": 15000,  # in Pascal\n",
    "    \"ammonia\": 86600,        # in Pascal\n",
    "    \"butane\": 220000,        # in Pascal\n",
    "    \"pentane\": 57000,        # in Pascal\n",
    "    \"propane\": 101000,       # in Pascal\n",
    "    \"hydrogen_peroxide\": 750, # in Pascal\n",
    "    \"formic_acid\": 5610,     # in Pascal\n",
    "    \"hydrogen_sulfide\": 202000,  # in Pascal\n",
    "    \"carbon_dioxide\": 5700,  # in Pascal\n",
    "    \"sulfur_dioxide\": 3000,  # in Pascal\n",
    "    \"hydrochloric_acid\": 40000, # in Pascal\n",
    "    \"nitrogen\": 75500,       # in Pascal\n",
    "    \"oxygen\": 49200,         # in Pascal\n",
    "    \"argon\": 27000,          # in Pascal\n",
    "    \"xenon\": 77,             # in Pascal\n",
    "    \"mercury\": 0.27,         # in Pascal\n",
    "    \"bromine\": 2700,         # in Pascal\n",
    "    \"iodine\": 0.031,         # in Pascal\n",
    "    \"phosphine\": 200000,     # in Pascal\n",
    "    \"nitric_acid\": 47,       # in Pascal\n",
    "    \"ethene\": 581000,        # in Pascal\n",
    "    \"ethyne\": 417000         # in Pascal\n",
    "}"
   ]
  },
  {
   "cell_type": "code",
   "execution_count": 3,
   "id": "cae8a9af-afab-44dd-ad3a-9b2c727b12ed",
   "metadata": {
    "deletable": false,
    "nbgrader": {
     "cell_type": "code",
     "checksum": "f1b83e87d5132edebf7ba29def258494",
     "grade": false,
     "grade_id": "cell-fe34a6eea3067568",
     "locked": false,
     "schema_version": 3,
     "solution": true,
     "task": false
    },
    "revert": "def guess_vap_pres(vap_pres_dict):\n# YOUR CODE HERE\nraise NotImplementedError()"
   },
   "outputs": [],
   "source": [
    "def guess_vap_pres(vap_pres_dict):\n",
    "    trivial_name = input(\"Enter the trivial name of a substance: \")\n",
    "\n",
    "    pressure_dict = int(vapor_pressures[trivial_name])\n",
    "    pressure_user = int(input(\"Guess the pressure (in Pascal): \"))\n",
    "\n",
    "    if pressure_user > (pressure_dict * 10):\n",
    "        print(\"Sorry, your guess is too high\")\n",
    "    elif pressure_user < (pressure_dict / 10):\n",
    "        print(\"Sorry, your guess is too low\")\n",
    "    else:\n",
    "        print(\"Correct! The actual pressure is {pressure_dict}, so you are within the limit.\")\n",
    "\n",
    "    return\n",
    "\n",
    "# guess_vap_pres(vapor_pressures)\n"
   ]
  },
  {
   "cell_type": "code",
   "execution_count": null,
   "id": "4df2ee95-369c-4898-8d6f-a6e6d00f087e",
   "metadata": {
    "deletable": false,
    "editable": false,
    "nbgrader": {
     "cell_type": "code",
     "checksum": "3377b51d64b82d8f3c3942469edc6322",
     "grade": true,
     "grade_id": "cell-8c53dc57e08f4859",
     "locked": true,
     "points": 2,
     "schema_version": 3,
     "solution": false,
     "task": false
    }
   },
   "outputs": [],
   "source": []
  },
  {
   "cell_type": "markdown",
   "id": "cb2ecf05-585b-458b-9b0b-2c32a206d370",
   "metadata": {
    "deletable": false,
    "editable": false,
    "nbgrader": {
     "cell_type": "markdown",
     "checksum": "b785440f48dedb82980c087afb905ed5",
     "grade": false,
     "grade_id": "cell-59c6c69fbd60e93f",
     "locked": true,
     "schema_version": 3,
     "solution": false,
     "task": false
    }
   },
   "source": [
    "**(c) we will now read-in a file `organic_vapor_pressures.csv` which contains the compound names, CAS number, sum formulas and vapor pressures at 300 K of a set of organic molecules. Write a function `read_in_basic(filename)` and a function `read_in_pandas(filename)` to read in the file and which return its content as a pandas DataFrame `df` (with the same column names than the first row of the file). The former solution should use python built-in functions only and the latter can use pandas read-in. Please be aware that a semicolon is used as the list seperator in the file (look up the pandas docs to change the seperator in the read-in)**\n"
   ]
  },
  {
   "cell_type": "code",
   "execution_count": 4,
   "id": "b0ceb435-f7ee-4eaf-ad00-3d3e1c25d090",
   "metadata": {
    "deletable": false,
    "nbgrader": {
     "cell_type": "code",
     "checksum": "583a109832f91d99c0e9dfd3050483e5",
     "grade": false,
     "grade_id": "cell-422d5100a4764eba",
     "locked": false,
     "schema_version": 3,
     "solution": true,
     "task": false
    },
    "revert": "import pandas as pd\nimport numpy as np\n\ndef read_in_basic(filename):\n    # YOUR CODE HERE\n    raise NotImplementedError()\n\ndef read_in_pandas(filename):\n    # YOUR CODE HERE\n    raise NotImplementedError()"
   },
   "outputs": [
    {
     "data": {
      "text/html": [
       "<div>\n",
       "<style scoped>\n",
       "    .dataframe tbody tr th:only-of-type {\n",
       "        vertical-align: middle;\n",
       "    }\n",
       "\n",
       "    .dataframe tbody tr th {\n",
       "        vertical-align: top;\n",
       "    }\n",
       "\n",
       "    .dataframe thead th {\n",
       "        text-align: right;\n",
       "    }\n",
       "</style>\n",
       "<table border=\"1\" class=\"dataframe\">\n",
       "  <thead>\n",
       "    <tr style=\"text-align: right;\">\n",
       "      <th></th>\n",
       "      <th>Name</th>\n",
       "      <th>CAS</th>\n",
       "      <th>Sum Formula</th>\n",
       "      <th>P [bar] at 300 K</th>\n",
       "    </tr>\n",
       "  </thead>\n",
       "  <tbody>\n",
       "    <tr>\n",
       "      <th>0</th>\n",
       "      <td>2,3-Dimethylbutane</td>\n",
       "      <td>79-29-8</td>\n",
       "      <td>C6H14</td>\n",
       "      <td>0.388000</td>\n",
       "    </tr>\n",
       "    <tr>\n",
       "      <th>1</th>\n",
       "      <td>2-Methylpentane</td>\n",
       "      <td>107-83-5</td>\n",
       "      <td>C6H14</td>\n",
       "      <td>0.305000</td>\n",
       "    </tr>\n",
       "    <tr>\n",
       "      <th>2</th>\n",
       "      <td>3-Methylpentane</td>\n",
       "      <td>96-14-0</td>\n",
       "      <td>C6H14</td>\n",
       "      <td>0.273500</td>\n",
       "    </tr>\n",
       "    <tr>\n",
       "      <th>3</th>\n",
       "      <td>n-Hexane</td>\n",
       "      <td>110-54-3</td>\n",
       "      <td>C6H14</td>\n",
       "      <td>0.219000</td>\n",
       "    </tr>\n",
       "    <tr>\n",
       "      <th>4</th>\n",
       "      <td>2,2-Dimethylbutane</td>\n",
       "      <td>75-83-2</td>\n",
       "      <td>C6H14</td>\n",
       "      <td>0.457000</td>\n",
       "    </tr>\n",
       "    <tr>\n",
       "      <th>...</th>\n",
       "      <td>...</td>\n",
       "      <td>...</td>\n",
       "      <td>...</td>\n",
       "      <td>...</td>\n",
       "    </tr>\n",
       "    <tr>\n",
       "      <th>89</th>\n",
       "      <td>Toluene</td>\n",
       "      <td>108-88-3</td>\n",
       "      <td>C7H8</td>\n",
       "      <td>0.041690</td>\n",
       "    </tr>\n",
       "    <tr>\n",
       "      <th>90</th>\n",
       "      <td>Cyclohexanol</td>\n",
       "      <td>108-93-0</td>\n",
       "      <td>C6H12O</td>\n",
       "      <td>0.000947</td>\n",
       "    </tr>\n",
       "    <tr>\n",
       "      <th>91</th>\n",
       "      <td>Cycloheptanol</td>\n",
       "      <td>502-41-0</td>\n",
       "      <td>C7H14O</td>\n",
       "      <td>0.000328</td>\n",
       "    </tr>\n",
       "    <tr>\n",
       "      <th>92</th>\n",
       "      <td>Cyclohexanone</td>\n",
       "      <td>108-94-1</td>\n",
       "      <td>C6H10O</td>\n",
       "      <td>0.006063</td>\n",
       "    </tr>\n",
       "    <tr>\n",
       "      <th>93</th>\n",
       "      <td>Cyclobutanone</td>\n",
       "      <td>1191-95-3</td>\n",
       "      <td>C4H6O</td>\n",
       "      <td>0.060450</td>\n",
       "    </tr>\n",
       "  </tbody>\n",
       "</table>\n",
       "<p>94 rows × 4 columns</p>\n",
       "</div>"
      ],
      "text/plain": [
       "                  Name        CAS Sum Formula  P [bar] at 300 K\n",
       "0   2,3-Dimethylbutane    79-29-8       C6H14          0.388000\n",
       "1      2-Methylpentane   107-83-5       C6H14          0.305000\n",
       "2      3-Methylpentane    96-14-0       C6H14          0.273500\n",
       "3             n-Hexane   110-54-3       C6H14          0.219000\n",
       "4   2,2-Dimethylbutane    75-83-2       C6H14          0.457000\n",
       "..                 ...        ...         ...               ...\n",
       "89             Toluene   108-88-3        C7H8          0.041690\n",
       "90        Cyclohexanol   108-93-0      C6H12O          0.000947\n",
       "91       Cycloheptanol   502-41-0      C7H14O          0.000328\n",
       "92       Cyclohexanone   108-94-1      C6H10O          0.006063\n",
       "93       Cyclobutanone  1191-95-3       C4H6O          0.060450\n",
       "\n",
       "[94 rows x 4 columns]"
      ]
     },
     "execution_count": 4,
     "metadata": {},
     "output_type": "execute_result"
    }
   ],
   "source": [
    "import pandas as pd\n",
    "import numpy as np\n",
    "\n",
    "def read_in_basic(filename):\n",
    "    file = open(filename)\n",
    "    names = []\n",
    "    cas_list = []\n",
    "    sum_formulas = []\n",
    "    pressures = []\n",
    "    \n",
    "    for line in file:\n",
    "        text_in_line = line.split('\\n')[0]\n",
    "        # print(text_in_line)\n",
    "        name, cas, sum_formula, pressure = text_in_line.split(';')\n",
    "        names.append(name)\n",
    "        cas_list.append(cas)\n",
    "        sum_formulas.append(sum_formula)\n",
    "        pressures.append(pressure)\n",
    "    # print(cas_list)\n",
    "    file.close()\n",
    "\n",
    "    zipped = list(zip(names, cas_list, sum_formulas, pressures))\n",
    "    df = pd.DataFrame(zipped, columns = zipped[0])\n",
    "    df = df.drop(index=0)\n",
    "    df = df.reset_index(drop = True)\n",
    "    #print(df)\n",
    "    return df\n",
    "\n",
    "def read_in_pandas(filename):\n",
    "    df = pd.read_csv(filename, sep = ';')\n",
    "    #print(df)\n",
    "    return df\n",
    "\n",
    "\n",
    "read_in_basic('organic_vapor_pressures.csv')\n",
    "read_in_pandas('organic_vapor_pressures.csv')"
   ]
  },
  {
   "cell_type": "code",
   "execution_count": 5,
   "id": "b961942d-ad66-4145-9292-a73ca180daf7",
   "metadata": {
    "deletable": false,
    "editable": false,
    "nbgrader": {
     "cell_type": "code",
     "checksum": "52f02b2a2eead7d93e22edb43d5058cc",
     "grade": true,
     "grade_id": "cell-6f65f4898c73768e",
     "locked": true,
     "points": 2,
     "schema_version": 3,
     "solution": false,
     "task": false
    }
   },
   "outputs": [
    {
     "name": "stdout",
     "output_type": "stream",
     "text": [
      "All tests passed!\n"
     ]
    }
   ],
   "source": [
    "###BEGIN ALWAYS HIDDEN TEST\n",
    "import pandas as pd\n",
    "import numpy as np\n",
    "import os\n",
    "\n",
    "def test_read_in_functions():\n",
    "    # Create a temporary CSV file for testing\n",
    "    test_filename = \"test_organic_vapor_pressures.csv\"\n",
    "    with open(test_filename, \"w\") as f:\n",
    "        f.write(\"Name;CAS Number;Sum Formula;Vapor Pressure\\n\")\n",
    "        f.write(\"Methanol;67-56-1;CH4O;128\\n\")\n",
    "        f.write(\"Ethanol;64-17-5;C2H6O;59\\n\")\n",
    "        f.write(\"Acetone;67-64-1;C3H6O;231\\n\")\n",
    "    \n",
    "    try:\n",
    "        # Expected DataFrame\n",
    "        expected_data = {\n",
    "            \"Name\": [\"Methanol\", \"Ethanol\", \"Acetone\"],\n",
    "            \"CAS Number\": [\"67-56-1\", \"64-17-5\", \"67-64-1\"],\n",
    "            \"Sum Formula\": [\"CH4O\", \"C2H6O\", \"C3H6O\"],\n",
    "            \"Vapor Pressure\": [128, 59, 231]\n",
    "        }\n",
    "        expected_df = pd.DataFrame(expected_data)\n",
    "\n",
    "        # Run student functions\n",
    "        df_basic = read_in_basic(test_filename)\n",
    "        df_pandas = read_in_pandas(test_filename)\n",
    "\n",
    "        expected_df[\"Vapor Pressure\"] = expected_df[\"Vapor Pressure\"].astype(float)\n",
    "        df_basic[\"Vapor Pressure\"] = df_basic[\"Vapor Pressure\"].astype(float)\n",
    "        df_pandas[\"Vapor Pressure\"] = df_pandas[\"Vapor Pressure\"].astype(float)\n",
    "\n",
    "        # Test if the outputs are DataFrames\n",
    "        assert isinstance(df_basic, pd.DataFrame), \"read_in_basic() should return a DataFrame\"\n",
    "        assert isinstance(df_pandas, pd.DataFrame), \"read_in_pandas() should return a DataFrame\"\n",
    "\n",
    "        # Test if column names match expected\n",
    "        assert list(df_basic.columns) == list(expected_df.columns), \"Column names do not match in read_in_basic()\"\n",
    "        assert list(df_pandas.columns) == list(expected_df.columns), \"Column names do not match in read_in_pandas()\"\n",
    "\n",
    "        # Test if data matches expected\n",
    "        assert df_basic.equals(expected_df), \"Data in read_in_basic() does not match expected\"\n",
    "        assert df_pandas.equals(expected_df), \"Data in read_in_pandas() does not match expected\"\n",
    "\n",
    "        print(\"All tests passed!\")\n",
    "\n",
    "    finally:\n",
    "        # Ensure the temporary test file is deleted even if an error occurs\n",
    "        if os.path.exists(test_filename):\n",
    "            os.remove(test_filename)\n",
    "\n",
    "# Run the test function\n",
    "test_read_in_functions()\n",
    "### END ALWAYS HIDDEN TEST\n"
   ]
  },
  {
   "cell_type": "markdown",
   "id": "d8c56e53-7e07-42c7-a550-30f3e9945de1",
   "metadata": {
    "deletable": false,
    "editable": false,
    "nbgrader": {
     "cell_type": "markdown",
     "checksum": "8d21b22abfc1e352f19211abba0546ea",
     "grade": false,
     "grade_id": "cell-5a70f5af6dc4d14d",
     "locked": true,
     "schema_version": 3,
     "solution": false,
     "task": false
    }
   },
   "source": [
    "**(d) Measure the time it takes for the two functions to read-in that file and store the outcome in the variables `time_basic` and `time_pandas`**"
   ]
  },
  {
   "cell_type": "code",
   "execution_count": 6,
   "id": "8f137ec3-4c5a-40b5-b96f-c29451a64117",
   "metadata": {
    "deletable": false,
    "nbgrader": {
     "cell_type": "code",
     "checksum": "c85139733fb81e987fac22ce51fd5599",
     "grade": false,
     "grade_id": "cell-af08d22bb398fc2c",
     "locked": false,
     "schema_version": 3,
     "solution": true,
     "task": false
    },
    "revert": "import time\n\n# YOUR CODE HERE\nraise NotImplementedError()"
   },
   "outputs": [
    {
     "name": "stdout",
     "output_type": "stream",
     "text": [
      "time_basic = 0.0007066726684570312 and time_pandas = 0.000850677490234375\n",
      "Time difference (basic - pandas) = -0.00014400482177734375\n"
     ]
    }
   ],
   "source": [
    "import time\n",
    "\n",
    "start_basic = time.time()\n",
    "read_in_basic('organic_vapor_pressures.csv')\n",
    "end_basic = time.time()\n",
    "time_basic = end_basic - start_basic\n",
    "\n",
    "\n",
    "start_pandas = time.time()\n",
    "read_in_pandas('organic_vapor_pressures.csv')\n",
    "end_pandas = time.time()\n",
    "time_pandas = end_pandas - start_pandas\n",
    "\n",
    "print(f'time_basic = {time_basic} and time_pandas = {time_pandas}')\n",
    "print(f'Time difference (basic - pandas) = {time_basic - time_pandas}')\n"
   ]
  },
  {
   "cell_type": "code",
   "execution_count": 7,
   "id": "e14911b8-285e-4c69-b182-03e49f87d9ad",
   "metadata": {
    "deletable": false,
    "editable": false,
    "nbgrader": {
     "cell_type": "code",
     "checksum": "d082b8f73f4606ec62f9b057fb66bff3",
     "grade": true,
     "grade_id": "cell-fb33e2aa864adcfa",
     "locked": true,
     "points": 1,
     "schema_version": 3,
     "solution": false,
     "task": false
    }
   },
   "outputs": [],
   "source": [
    "###BEGIN ALWAYS HIDDEN TEST\n",
    "assert time_basic>0\n",
    "assert time_pandas>0\n",
    "\n",
    "assert time_basic<0.1\n",
    "assert time_pandas<0.1\n",
    "###END ALWAYS HIDDEN TEST"
   ]
  },
  {
   "cell_type": "markdown",
   "id": "68ba54be-d6a7-4237-9893-4c54f2fc1291",
   "metadata": {
    "deletable": false,
    "editable": false,
    "nbgrader": {
     "cell_type": "markdown",
     "checksum": "4e2c4f8401ef84324cea0942dfab5b25",
     "grade": false,
     "grade_id": "cell-600c90b9e01e5db6",
     "locked": true,
     "schema_version": 3,
     "solution": false,
     "task": false
    }
   },
   "source": [
    "**(e) Now disentengle the sum formulas such that the DataFrame has new columns giving integer numbers for the number of atome of each element found in the molecules. Again use two approaches, a function `disentengle_sum_formulas_basic(df)` and `disentengle_sum_formulas_regex(df)` with the former using only basic python string manipulation (check out the [string class methods](https://docs.python.org/3/library/stdtypes.html#str) isdigit() and islower(), they might come in handy) and the latter using regular expressions. The functions should return the modified DataFrame. Again compare the time the two functions need for execution by storing them into `time_basic` and `time_regex`.**"
   ]
  },
  {
   "cell_type": "code",
   "execution_count": 8,
   "id": "353a64f9-ea05-479b-b4b6-35b830119a23",
   "metadata": {
    "deletable": false,
    "nbgrader": {
     "cell_type": "code",
     "checksum": "6cf54800b5d2c5f40973da485bd7d7d3",
     "grade": false,
     "grade_id": "cell-6c9bfd600cd4fbbc",
     "locked": false,
     "schema_version": 3,
     "solution": true,
     "task": false
    },
    "revert": "import re\nimport pandas as pd\nimport time\n\ndef disentengle_sum_formulas_basic(df):\n    # YOUR CODE HERE\n    raise NotImplementedError()\n\n\ndef disentengle_sum_formulas_regex(df):\n    # YOUR CODE HERE\n    raise NotImplementedError()\n\n\ntime_basic = 0\ntime_regex = 0 \n# YOUR CODE HERE\nraise NotImplementedError()"
   },
   "outputs": [
    {
     "name": "stdout",
     "output_type": "stream",
     "text": [
      "time_basic = 0.0010952949523925781 and time_pandas = 0.02438068389892578\n",
      "Time difference (basic - pandas) = -0.023285388946533203\n"
     ]
    }
   ],
   "source": [
    "import re\n",
    "import pandas as pd\n",
    "import time\n",
    "\n",
    "def disentengle_sum_formulas_basic(df):\n",
    "    c_atom_list = []\n",
    "    h_atom_list = []\n",
    "    o_atom_list = []\n",
    "\n",
    "    for line in df['Sum Formula']:\n",
    "        text_in_line = line.split('\\n')[0]\n",
    "\n",
    "        c_index = text_in_line.find('C')\n",
    "        h_index = text_in_line.find('H')\n",
    "        o_index = text_in_line.find('O')\n",
    "        #print(f'C = {c_index} H = {h_index} O = {o_index}')\n",
    "\n",
    "        c_number = text_in_line[c_index+1:h_index]\n",
    "\n",
    "        if o_index == -1:\n",
    "            h_number = text_in_line[h_index+1:len(text_in_line)]\n",
    "            o_number = 0\n",
    "        else:\n",
    "            h_number = text_in_line[h_index+1:o_index]\n",
    "            if o_index+1 > len(text_in_line)-1:\n",
    "                o_number = 1\n",
    "            else:\n",
    "                o_number = text_in_line[o_index+1:len(text_in_line)]\n",
    "\n",
    "        c_atom_list.append(c_number)\n",
    "        h_atom_list.append(h_number)\n",
    "        o_atom_list.append(o_number)\n",
    "\n",
    "    df['C'] = c_atom_list\n",
    "    df['H'] = h_atom_list\n",
    "    df['O'] = o_atom_list\n",
    "\n",
    "    return df\n",
    "\n",
    "\n",
    "def disentengle_sum_formulas_regex(df):\n",
    "    pattern = r\"([A-Z][a-z]*)([0-9]*)\"\n",
    "    \n",
    "    for idx in df.index:    \n",
    "        parsed = re.findall(pattern, df.loc[idx, 'Sum Formula'])\n",
    "        for element in parsed:\n",
    "            if element[0] not in df.columns:\n",
    "                    df[element[0]] = 0\n",
    "            if element[1] == '':\n",
    "                df.loc[idx, element[0]] = 1\n",
    "            else:\n",
    "                df.loc[idx, element[0]] = int(element[1])\n",
    "\n",
    "    return df\n",
    "    \n",
    "\n",
    "\n",
    "time_basic = 0\n",
    "time_regex = 0 \n",
    "# YOUR CODE HERE\n",
    "\n",
    "df = read_in_basic('organic_vapor_pressures.csv')\n",
    "\n",
    "start_basic = time.time()\n",
    "disentengle_sum_formulas_basic(df)\n",
    "end_basic = time.time()\n",
    "time_basic = end_basic - start_basic\n",
    "\n",
    "\n",
    "start_pandas = time.time()\n",
    "disentengle_sum_formulas_regex(df)\n",
    "end_pandas = time.time()\n",
    "time_pandas = end_pandas - start_pandas\n",
    "\n",
    "print(f'time_basic = {time_basic} and time_pandas = {time_pandas}')\n",
    "print(f'Time difference (basic - pandas) = {time_basic - time_pandas}')\n",
    "\n"
   ]
  },
  {
   "cell_type": "code",
   "execution_count": 9,
   "id": "ff28e508-75fc-456a-8a66-5d2550f5a2bd",
   "metadata": {
    "deletable": false,
    "editable": false,
    "nbgrader": {
     "cell_type": "code",
     "checksum": "e6b9a51e6c778491a8627bb6ff760868",
     "grade": true,
     "grade_id": "cell-27e52589d3e21644",
     "locked": true,
     "points": 3,
     "schema_version": 3,
     "solution": false,
     "task": false
    }
   },
   "outputs": [
    {
     "ename": "AssertionError",
     "evalue": "Element N missing from basic implementation output",
     "output_type": "error",
     "traceback": [
      "\u001B[0;31m---------------------------------------------------------------------------\u001B[0m",
      "\u001B[0;31mAssertionError\u001B[0m                            Traceback (most recent call last)",
      "Cell \u001B[0;32mIn[9], line 53\u001B[0m\n\u001B[1;32m     50\u001B[0m     \u001B[38;5;28mprint\u001B[39m(\u001B[38;5;124m\"\u001B[39m\u001B[38;5;124mAll tests passed.\u001B[39m\u001B[38;5;124m\"\u001B[39m)\n\u001B[1;32m     52\u001B[0m \u001B[38;5;66;03m# Run the test\u001B[39;00m\n\u001B[0;32m---> 53\u001B[0m \u001B[43mtest_disentangle_functions\u001B[49m\u001B[43m(\u001B[49m\u001B[43m)\u001B[49m\n",
      "Cell \u001B[0;32mIn[9], line 32\u001B[0m, in \u001B[0;36mtest_disentangle_functions\u001B[0;34m()\u001B[0m\n\u001B[1;32m     30\u001B[0m expected_elements \u001B[38;5;241m=\u001B[39m [\u001B[38;5;124m'\u001B[39m\u001B[38;5;124mH\u001B[39m\u001B[38;5;124m'\u001B[39m, \u001B[38;5;124m'\u001B[39m\u001B[38;5;124mO\u001B[39m\u001B[38;5;124m'\u001B[39m, \u001B[38;5;124m'\u001B[39m\u001B[38;5;124mC\u001B[39m\u001B[38;5;124m'\u001B[39m, \u001B[38;5;124m'\u001B[39m\u001B[38;5;124mN\u001B[39m\u001B[38;5;124m'\u001B[39m]\n\u001B[1;32m     31\u001B[0m \u001B[38;5;28;01mfor\u001B[39;00m element \u001B[38;5;129;01min\u001B[39;00m expected_elements:\n\u001B[0;32m---> 32\u001B[0m     \u001B[38;5;28;01massert\u001B[39;00m element \u001B[38;5;129;01min\u001B[39;00m df_basic\u001B[38;5;241m.\u001B[39mcolumns, \u001B[38;5;124mf\u001B[39m\u001B[38;5;124m\"\u001B[39m\u001B[38;5;124mElement \u001B[39m\u001B[38;5;132;01m{\u001B[39;00melement\u001B[38;5;132;01m}\u001B[39;00m\u001B[38;5;124m missing from basic implementation output\u001B[39m\u001B[38;5;124m\"\u001B[39m\n\u001B[1;32m     33\u001B[0m     \u001B[38;5;28;01massert\u001B[39;00m element \u001B[38;5;129;01min\u001B[39;00m df_regex\u001B[38;5;241m.\u001B[39mcolumns, \u001B[38;5;124mf\u001B[39m\u001B[38;5;124m\"\u001B[39m\u001B[38;5;124mElement \u001B[39m\u001B[38;5;132;01m{\u001B[39;00melement\u001B[38;5;132;01m}\u001B[39;00m\u001B[38;5;124m missing from regex implementation output\u001B[39m\u001B[38;5;124m\"\u001B[39m\n\u001B[1;32m     35\u001B[0m \u001B[38;5;66;03m# Check values against expected results\u001B[39;00m\n",
      "\u001B[0;31mAssertionError\u001B[0m: Element N missing from basic implementation output"
     ]
    }
   ],
   "source": [
    "import pandas as pd\n",
    "import numpy as np\n",
    "\n",
    "def test_disentangle_functions():\n",
    "    # Sample data for testing\n",
    "    test_data = {\n",
    "        'Molecule': ['Water', 'Carbon Dioxide', 'Ethanol', 'Ammonia', 'Methane'],\n",
    "        'Sum Formula': ['H2O', 'CO2', 'C2H6O', 'NH3', 'CH4']\n",
    "    }\n",
    "    df_test = pd.DataFrame(test_data)\n",
    "\n",
    "    # Expected output for each molecule\n",
    "    expected_results = {\n",
    "        'H2O': {'H': 2, 'O': 1, 'C': 0, 'N': 0},\n",
    "        'CO2': {'C': 1, 'O': 2, 'H': 0, 'N': 0},\n",
    "        'C2H6O': {'C': 2, 'H': 6, 'O': 1, 'N': 0},\n",
    "        'NH3': {'N': 1, 'H': 3, 'C': 0, 'O': 0},\n",
    "        'CH4': {'C': 1, 'H': 4, 'O': 0, 'N': 0},\n",
    "    }\n",
    "\n",
    "    # Run both functions\n",
    "    df_basic = disentengle_sum_formulas_basic(df_test.copy())\n",
    "    df_regex = disentengle_sum_formulas_regex(df_test.copy())\n",
    "\n",
    "    # Ensure output is a DataFrame\n",
    "    assert isinstance(df_basic, pd.DataFrame), \"disentengle_sum_formulas_basic() did not return a DataFrame\"\n",
    "    assert isinstance(df_regex, pd.DataFrame), \"disentengle_sum_formulas_regex() did not return a DataFrame\"\n",
    "\n",
    "    # Ensure all expected elements exist as columns\n",
    "    expected_elements = ['H', 'O', 'C', 'N']\n",
    "    for element in expected_elements:\n",
    "        assert element in df_basic.columns, f\"Element {element} missing from basic implementation output\"\n",
    "        assert element in df_regex.columns, f\"Element {element} missing from regex implementation output\"\n",
    "\n",
    "    # Check values against expected results\n",
    "    for idx, row in df_basic.iterrows():\n",
    "        formula = row['Sum Formula']\n",
    "        for element, expected_value in expected_results[formula].items():\n",
    "            assert row[element] == expected_value, f\"Basic: Incorrect value for {element} in {formula}\"\n",
    "\n",
    "    for idx, row in df_regex.iterrows():\n",
    "        formula = row['Sum Formula']\n",
    "        for element, expected_value in expected_results[formula].items():\n",
    "            assert row[element] == expected_value, f\"Regex: Incorrect value for {element} in {formula}\"\n",
    "\n",
    "    # Ensure timing variables are set\n",
    "    assert isinstance(time_basic, float), \"time_basic is not a float\"\n",
    "    assert isinstance(time_regex, float), \"time_regex is not a float\"\n",
    "\n",
    "    print(\"All tests passed.\")\n",
    "\n",
    "# Run the test\n",
    "test_disentangle_functions()"
   ]
  },
  {
   "cell_type": "markdown",
   "id": "92ea59a4-8bae-46de-96ef-3c74b3d20638",
   "metadata": {
    "deletable": false,
    "editable": false,
    "nbgrader": {
     "cell_type": "markdown",
     "checksum": "d47999e9d7adbc0dfb4fc0753f8e0120",
     "grade": false,
     "grade_id": "cell-6e7a70ae6627e250",
     "locked": true,
     "schema_version": 3,
     "solution": false,
     "task": false
    }
   },
   "source": [
    "**(f) Now we want to filter the available data, which we do within a function `filter_low_vap_press(df)`, which returns compented and filtered vapor pressure DataFrame as specified below: First we need to convert the vapor pressures in bar to vapor pressures given in units of cm<sup>-3</sup>, for which we use the ideal gas law (at 300 K) for conversion, because we are interested in their phase-partitioning in the gas-phase (aerosol formation). The new column is to be named `'P [cm-3] at 300 K'`. In addition, calculate the molecular mass for these compounds in a new column (`M [g mol-1]`). Then we reduce the DataFrame `df` to those substances with a vapor pressure smaller than 10<sup>17</sup> cm<sup>-3</sup>.  What pattern do you observe by inspecting the remaining DataFrame (answer for the discussion, no text needed here)?** "
   ]
  },
  {
   "cell_type": "code",
   "execution_count": 21,
   "id": "6f941ae3-aa9d-46e1-9b15-13b33f383614",
   "metadata": {
    "deletable": false,
    "nbgrader": {
     "cell_type": "code",
     "checksum": "2b733e1f1f1b8f530fb4d31b5f155aee",
     "grade": false,
     "grade_id": "cell-df54bb563cdf02c4",
     "locked": false,
     "schema_version": 3,
     "solution": true,
     "task": false
    },
    "revert": "def filter_low_vap_press(df):\n    # YOUR CODE HERE\n    raise NotImplementedError()\n\ndf = read_in_pandas('./organic_vapor_pressures.csv')\ndf = disentengle_sum_formulas_regex(df)\ndf = filter_low_vap_press(df)"
   },
   "outputs": [
    {
     "name": "stdout",
     "output_type": "stream",
     "text": [
      "0     9.367877e+18\n",
      "1     7.363924e+18\n",
      "2     6.603388e+18\n",
      "3     5.287539e+18\n",
      "4     1.103381e+19\n",
      "          ...     \n",
      "89    1.006564e+18\n",
      "90    2.285472e+16\n",
      "91    7.928894e+15\n",
      "92    1.463779e+17\n",
      "93    1.459506e+18\n",
      "Name: P [cm-3] at 300 K, Length: 94, dtype: float64\n",
      "35    3.295658e+16\n",
      "41    3.072809e+16\n",
      "48    8.291054e+16\n",
      "51    9.392021e+15\n",
      "53    3.148379e+15\n",
      "54    9.109537e+15\n",
      "55    1.036503e+16\n",
      "56    1.235208e+16\n",
      "73    5.408259e+16\n",
      "75    4.345923e+16\n",
      "76    8.641143e+16\n",
      "77    4.104482e+16\n",
      "78    7.701941e+16\n",
      "80    8.324856e+16\n",
      "84    4.097239e+16\n",
      "85    5.825951e+16\n",
      "86    6.719279e+15\n",
      "87    1.888545e+16\n",
      "90    2.285472e+16\n",
      "91    7.928894e+15\n",
      "Name: P [cm-3] at 300 K, dtype: float64\n"
     ]
    }
   ],
   "source": [
    "def filter_low_vap_press(df):\n",
    "    # Define constants for conversion\n",
    "    T = 300  # Temperature in K\n",
    "    R = 8.314  # Gas constant in J/(mol·K)\n",
    "    N_A = 6.022e23  # Avogadro's number\n",
    "    conversion_prefactor = (N_A / (R * T * 1e6)) * 1e5  # Conversion factor for bar to cm^-3\n",
    "\n",
    "    # Conversion to Volume\n",
    "    df['P [cm-3] at 300 K'] = df['P [bar] at 300 K'] * conversion_prefactor\n",
    "\n",
    "    df['M [g mol-1]'] = df['C'] * 12.011 + df['H'] * 1.008 + df['O'] * 15.999\n",
    "    \n",
    "    #print(df['P [cm-3] at 300 K'])\n",
    "    \n",
    "    df = df[df['P [cm-3] at 300 K'] < 10**(17)]\n",
    "\n",
    "    #print(df['P [cm-3] at 300 K'])\n",
    "\n",
    "    return df\n",
    "\n",
    "df = read_in_pandas('organic_vapor_pressures.csv')\n",
    "df = disentengle_sum_formulas_regex(df)\n",
    "df = filter_low_vap_press(df)"
   ]
  },
  {
   "cell_type": "code",
   "execution_count": 22,
   "id": "64481535-7aa5-45fe-b7c0-448720677d53",
   "metadata": {
    "deletable": false,
    "editable": false,
    "nbgrader": {
     "cell_type": "code",
     "checksum": "7dc9046c3e5051fb1c46c1ea89d0c76f",
     "grade": true,
     "grade_id": "cell-c757a87a1bf2e72e",
     "locked": true,
     "points": 1,
     "schema_version": 3,
     "solution": false,
     "task": false
    }
   },
   "outputs": [
    {
     "name": "stdout",
     "output_type": "stream",
     "text": [
      "0    2.414401e+19\n",
      "1    9.657606e+17\n",
      "2    2.414401e+16\n",
      "3    2.414401e+09\n",
      "Name: P [cm-3] at 300 K, dtype: float64\n",
      "2    2.414401e+16\n",
      "3    2.414401e+09\n",
      "Name: P [cm-3] at 300 K, dtype: float64\n",
      "All tests passed!\n"
     ]
    }
   ],
   "source": [
    "import pandas as pd\n",
    "import numpy as np\n",
    "\n",
    "# Define constants for conversion\n",
    "T = 300  # Temperature in K\n",
    "R = 8.314  # Gas constant in J/(mol·K)\n",
    "N_A = 6.022e23  # Avogadro's number\n",
    "conversion_prefactor = (N_A / (R * T * 1e6)) * 1e5  # Conversion factor for bar to cm^-3\n",
    "\n",
    "def test_filter_low_vap_press():\n",
    "    # Sample input data\n",
    "    test_data = {\n",
    "        'Molecule': ['Water', 'Carbon Dioxide', 'Ethanol', 'Large Molecule'],\n",
    "        'Sum Formula': ['H2O', 'CO2', 'C2H6O', 'C30H62'],\n",
    "        'H': [2, 0, 6, 62],\n",
    "        'O': [1, 2, 1, 0],\n",
    "        'C': [0, 1, 2, 30],\n",
    "        'P [bar] at 300 K': [1.0, 0.04, 1e-3, 1e-10]  # Vapor pressures in bar\n",
    "    }\n",
    "    df_test = pd.DataFrame(test_data)\n",
    "\n",
    "    # Run student's function\n",
    "    df_filtered = filter_low_vap_press(df_test.copy())\n",
    "\n",
    "    # Ensure output is a DataFrame\n",
    "    assert isinstance(df_filtered, pd.DataFrame), \"filter_low_vap_press() did not return a DataFrame\"\n",
    "\n",
    "    # Ensure the required columns exist\n",
    "    required_columns = ['M [g mol-1]', 'P [cm-3] at 300 K']\n",
    "    for col in required_columns:\n",
    "        assert col in df_filtered.columns, f\"Missing column: {col}\"\n",
    "\n",
    "    # Check molecular mass calculation\n",
    "    expected_mass = {\n",
    "        'H2O': 2 * 1.008 + 1 * 15.999,  \n",
    "        'CO2': 1 * 12.011 + 2 * 15.999,  \n",
    "        'C2H6O': 2 * 12.011 + 6 * 1.008 + 1 * 15.999,  \n",
    "        'C30H62': 30 * 12.011 + 62 * 1.008  \n",
    "    }\n",
    "\n",
    "    for idx, row in df_test.iterrows():\n",
    "        formula = row['Sum Formula']\n",
    "        if formula in df_filtered['Sum Formula'].values:\n",
    "            expected_value = expected_mass[formula]\n",
    "            student_value = df_filtered.loc[df_filtered['Sum Formula'] == formula, 'M [g mol-1]'].values[0]\n",
    "            assert np.isclose(student_value, expected_value, atol=0.001), f\"Incorrect molecular mass for {formula}\"\n",
    "\n",
    "    # Check vapor pressure conversion\n",
    "    for idx, row in df_test.iterrows():\n",
    "        formula = row['Sum Formula']\n",
    "        expected_vp_cm3 = row['P [bar] at 300 K'] * conversion_prefactor  # Convert bar to cm^-3\n",
    "        if formula in df_filtered['Sum Formula'].values:\n",
    "            student_vp_cm3 = df_filtered.loc[df_filtered['Sum Formula'] == formula, 'P [cm-3] at 300 K'].values[0]\n",
    "            assert np.isclose(student_vp_cm3, expected_vp_cm3, rtol=0.1), f\"Incorrect vapor pressure for {formula}\"\n",
    "\n",
    "    # Check if filtering was applied correctly (P < 1e17 cm^-3)\n",
    "    assert (df_filtered['P [cm-3] at 300 K'] < 1e17).all(), \"Filtered DataFrame contains high vapor pressure compounds\"\n",
    "\n",
    "    print(\"All tests passed!\")\n",
    "\n",
    "# Run the test\n",
    "test_filter_low_vap_press()"
   ]
  },
  {
   "cell_type": "markdown",
   "id": "fdb9498d-ca2d-4ac0-ac71-fb027d7126b8",
   "metadata": {
    "deletable": false,
    "editable": false,
    "nbgrader": {
     "cell_type": "markdown",
     "checksum": "dcd197204c928142151e427cfd4e1bb8",
     "grade": false,
     "grade_id": "cell-b73b9f5e3d5803ec",
     "locked": true,
     "schema_version": 3,
     "solution": false,
     "task": false
    }
   },
   "source": [
    "## Exercise 2: Dual mass spectrometer data\n",
    "\n",
    "In this exercise we will deal with two sets of data from two complimentary mass spectrometers. These atmospheric-pressure interface mass spectrometers are used in climate and air pollution studies to identify gaseous trace compounds in the atmosphere. They use chemical ionization witch specific reagent ions to ionize the substances by forming adduct clusters. In this case we use two different instruments with two different reagent ions, one with Nitrate (NO<sub>3</sub><sup>-</sup>) and one with Bromide (Br<sup>-</sup>). The mass spectrometers were operated in Hyytiälä, Finland, where they detected gaseous substances which can form new aerosol particles due to their low vapor pressure. The raw dataset was already processed  by a skilled experimental chemist, i.e. the peaks in the mass spectrum were identified, fitted and averaged over a longer time period. Now, we have two excel sheets available which contain the identified sum formulas and their average concentration. With these we will get to know how to compute, slice and overlap datasets with pandas. A detailed guide for this can be found in the [pandas user guide](https://pandas.pydata.org/docs/dev/user_guide/merging.html)."
   ]
  },
  {
   "cell_type": "markdown",
   "id": "bff6a8b2-e582-42ae-8afc-455ede5ba9f3",
   "metadata": {
    "deletable": false,
    "editable": false,
    "nbgrader": {
     "cell_type": "markdown",
     "checksum": "9999f86898e6d88a3dc45f19fcca3f3f",
     "grade": false,
     "grade_id": "cell-b99064b4209f8e50",
     "locked": true,
     "schema_version": 3,
     "solution": false,
     "task": false
    }
   },
   "source": [
    "**(a) use the pandas function [read_excel](https://pandas.pydata.org/pandas-docs/version/1.5/reference/api/pandas.read_excel.html) to read in the two files `nitrate.xlsx` and `bromide.xlsx` and name the DataFrames `nitrate` and `bromide`, respectively. Apply a procedure to transform the sum formulas to columns containing the elemental abundances. Be careful with -, (NO3-) and (Br-) in the sum formulas, as they are not part of the analyte, but specify the ionization mode of detection. They should not end up in the elemental abundances list.**"
   ]
  },
  {
   "cell_type": "code",
   "execution_count": null,
   "id": "294b112b-8e7a-427f-a129-65726adc4018",
   "metadata": {
    "deletable": false,
    "nbgrader": {
     "cell_type": "code",
     "checksum": "75ce55a1583d8527275656897667368b",
     "grade": false,
     "grade_id": "cell-6df022c3b8d2a22c",
     "locked": false,
     "schema_version": 3,
     "solution": true,
     "task": false
    },
    "revert": "import pandas as pd\nimport re\n\n# YOUR CODE HERE\nraise NotImplementedError()"
   },
   "outputs": [],
   "source": [
    "import pandas as pd\n",
    "import re\n",
    "\n",
    "# YOUR CODE HERE\n",
    "raise NotImplementedError()"
   ]
  },
  {
   "cell_type": "code",
   "execution_count": null,
   "id": "b0c3d9a0-f9af-4141-abd0-b82d5de98f1d",
   "metadata": {
    "deletable": false,
    "editable": false,
    "nbgrader": {
     "cell_type": "code",
     "checksum": "3969c892e9ca398570d3b4ed6a8b1269",
     "grade": true,
     "grade_id": "cell-b24429f88fa6b86c",
     "locked": true,
     "points": 2,
     "schema_version": 3,
     "solution": false,
     "task": false
    }
   },
   "outputs": [],
   "source": []
  },
  {
   "cell_type": "markdown",
   "id": "a2b6cee6-9d52-4c9c-ad4e-1c1b5fb404bf",
   "metadata": {
    "deletable": false,
    "editable": false,
    "nbgrader": {
     "cell_type": "markdown",
     "checksum": "279b54ce29a56a62b9acda0b44968d03",
     "grade": false,
     "grade_id": "cell-50d9a2fcf662475c",
     "locked": true,
     "schema_version": 3,
     "solution": false,
     "task": false
    }
   },
   "source": [
    "**(b) now we want to clean the dataset, as we are only interested in organic compounds this time. Except for the primary ion peaks (NO3-), H1N1O3(NO3-), H2N2O6(NO3-) and (Br-), H2O1(Br-) we want to get rid of all inorganics in the dataset, i.e. create two dataframes nitrate_org and bromide_org, which only contain the primary ions of the ionization method and organic peaks (C>0). Recall how conditional statements can be used to reduce a DataFrame and note that they can be [combined](https://pandas.pydata.org/pandas-docs/stable/user_guide/indexing.html#boolean-indexing). Possibly, [pd.concat](https://pandas.pydata.org/docs/reference/api/pandas.concat.html) could be helpful. At the end also drop ([pd.drop()](https://pandas.pydata.org/docs/reference/api/pandas.DataFrame.drop.html)) all columns which show up only in inorganic molecular ions, namely 'Cl', 'I'.** "
   ]
  },
  {
   "cell_type": "code",
   "execution_count": null,
   "id": "26067041-7eef-4727-8e33-8406c02de185",
   "metadata": {
    "deletable": false,
    "nbgrader": {
     "cell_type": "code",
     "checksum": "443f673a9b4210b0139dce9ef9d7e11b",
     "grade": false,
     "grade_id": "cell-dea979870c1f44ac",
     "locked": false,
     "schema_version": 3,
     "solution": true,
     "task": false
    },
    "revert": "# YOUR CODE HERE\nraise NotImplementedError()"
   },
   "outputs": [],
   "source": [
    "# YOUR CODE HERE\n",
    "raise NotImplementedError()"
   ]
  },
  {
   "cell_type": "code",
   "execution_count": null,
   "id": "2d659022-02a2-413f-bd92-196e602494b8",
   "metadata": {
    "deletable": false,
    "editable": false,
    "nbgrader": {
     "cell_type": "code",
     "checksum": "71bf83666d3a445d32fed5ec77749113",
     "grade": true,
     "grade_id": "cell-5f62e2bea3e652c5",
     "locked": true,
     "points": 1,
     "schema_version": 3,
     "solution": false,
     "task": false
    }
   },
   "outputs": [],
   "source": []
  },
  {
   "cell_type": "markdown",
   "id": "b7f55041-dc11-4eb8-ad18-e56203c6ca5d",
   "metadata": {
    "deletable": false,
    "editable": false,
    "nbgrader": {
     "cell_type": "markdown",
     "checksum": "6f2d5b144c1ba825adc636f6fa23d431",
     "grade": false,
     "grade_id": "cell-bd5e8891058bab6a",
     "locked": true,
     "schema_version": 3,
     "solution": false,
     "task": false
    }
   },
   "source": [
    "**(c) Now we will identify molecules which are measured twice by the *same* instrument, e.g., they might be measured as the (NO3-) adduct (M+(NO3-)) and a deprotonated (M-) signal, so as different molecular ions, by writing a function called `remove_duplicate_molecules(df)`. There are two ways: One using [pd.duplicated](https://pandas.pydata.org/docs/reference/api/pandas.DataFrame.duplicated.html) and one using [pd.groupby](https://pandas.pydata.org/docs/reference/api/pandas.DataFrame.groupby.html). In either case, the raw signal in counts per second of the molecules measured via two different molecular ions should be summed and one of the duplicates removed from the DataFrame.**"
   ]
  },
  {
   "cell_type": "code",
   "execution_count": null,
   "id": "513eb1b8-939e-494e-9268-eeb6b7545df4",
   "metadata": {
    "deletable": false,
    "nbgrader": {
     "cell_type": "code",
     "checksum": "9c348f544dd25b83b22a120157c61db8",
     "grade": false,
     "grade_id": "cell-501f9fb17dc9f1e3",
     "locked": false,
     "schema_version": 3,
     "solution": true,
     "task": false
    },
    "revert": "import numpy as np\n\ndef remove_duplicate_molecules(df):\n    df = df.copy()\n    # YOUR CODE HERE\n    raise NotImplementedError()"
   },
   "outputs": [],
   "source": [
    "import numpy as np\n",
    "\n",
    "def remove_duplicate_molecules(df):\n",
    "    df = df.copy()\n",
    "    # YOUR CODE HERE\n",
    "    raise NotImplementedError()"
   ]
  },
  {
   "cell_type": "code",
   "execution_count": null,
   "id": "bbc622af-770d-4fd2-b3f1-d531a340e57b",
   "metadata": {
    "deletable": false,
    "editable": false,
    "nbgrader": {
     "cell_type": "code",
     "checksum": "0d2a9bc418a39ddd06b43f51d24b4703",
     "grade": true,
     "grade_id": "cell-2ba91a15746e6174",
     "locked": true,
     "points": 2,
     "schema_version": 3,
     "solution": false,
     "task": false
    }
   },
   "outputs": [],
   "source": [
    "### BEGIN ALWAYS HIDDEN TEST\n",
    "import pandas as pd\n",
    "import numpy as np\n",
    "\n",
    "# Check if function exists\n",
    "assert 'remove_duplicate_molecules' in globals(), \"The function 'remove_duplicate_molecules' is not defined.\"\n",
    "\n",
    "# Create a test DataFrame\n",
    "data = {\n",
    "    \"sum formula\": [\"C6H6O2(NO3-)\", \"C6H6O2\", \"C5H10O\", \"C6H6O2(NO3-)\", \"C5H10O\"],\n",
    "    \"detected mass\": [172.024599, 110.036780, 86.073165, 172.024599, 86.073165],\n",
    "    \"mean cps\": [100, 200, 300, 150, 400],\n",
    "    \"C\": [6, 6, 5, 6, 5],\n",
    "    \"H\": [6, 6, 10, 6, 10],\n",
    "    \"O\": [2, 2, 1, 2, 1],\n",
    "    \"N\": [0, 0, 0, 0, 0]\n",
    "}\n",
    "\n",
    "df_test = pd.DataFrame(data)\n",
    "\n",
    "# Expected output: Remove duplicate elemental compositions, sum signals\n",
    "expected_data = {\n",
    "    \"sum formula\": [\"C6H6O2(NO3-)\", \"C5H10O\"],  # Only unique elemental compositions remain\n",
    "    \"detected mass\": [172.024599, 86.073165],\n",
    "    \"mean cps\": [450, 700],  # Summed signal values\n",
    "    \"C\": [6, 5],\n",
    "    \"H\": [6, 10],\n",
    "    \"O\": [2, 1],\n",
    "    \"N\": [0, 0]\n",
    "}\n",
    "\n",
    "expected_df = pd.DataFrame(expected_data)\n",
    "\n",
    "# Run student function\n",
    "df_cleaned = remove_duplicate_molecules(df_test)\n",
    "\n",
    "# Check if output is a DataFrame\n",
    "assert isinstance(df_cleaned, pd.DataFrame), \"The output of 'remove_duplicate_molecules' is not a pandas DataFrame.\"\n",
    "\n",
    "# Check the number of rows in the cleaned DataFrame\n",
    "assert df_cleaned.shape[0] == expected_df.shape[0], f\"Expected {expected_df.shape[0]} rows, but got {df_cleaned.shape[0]}.\"\n",
    "\n",
    "# Check that sum formulas remain consistent\n",
    "pd.testing.assert_series_equal(df_cleaned[\"sum formula\"].reset_index(drop=True),\n",
    "                               expected_df[\"sum formula\"],\n",
    "                               check_dtype=False,\n",
    "                               obj=\"The 'sum formula' column does not match the expected output.\")\n",
    "\n",
    "# Check that elemental compositions remain correct\n",
    "for element in [\"C\", \"H\", \"O\", \"N\"]:\n",
    "    pd.testing.assert_series_equal(df_cleaned[element].reset_index(drop=True),\n",
    "                                   expected_df[element],\n",
    "                                   check_dtype=False,\n",
    "                                   obj=f\"The '{element}' column does not match the expected output.\")\n",
    "\n",
    "# Check that Raw Signal (cps) was summed correctly\n",
    "pd.testing.assert_series_equal(df_cleaned[\"mean cps\"].reset_index(drop=True),\n",
    "                               expected_df[\"mean cps\"],\n",
    "                               check_dtype=False,\n",
    "                               obj=\"The 'Raw Signal (cps)' column does not match the expected summed values.\")\n",
    "\n",
    "test = remove_duplicate_molecules(bromide_org)\n",
    "\n",
    "assert np.isclose(test.loc[test['sum formula'] == 'C2H2O4-', 'mean cps'], 0.030224, rtol=1e-2)\n",
    "\n",
    "print('All tests passed')\n",
    "\n",
    "### END ALWAYS HIDDEN TEST"
   ]
  },
  {
   "cell_type": "markdown",
   "id": "92e2e10b-b919-40cc-b5f2-1af16304e5bd",
   "metadata": {
    "deletable": false,
    "editable": false,
    "nbgrader": {
     "cell_type": "markdown",
     "checksum": "714d1fafe42aafd201d4caf84b6ceab1",
     "grade": false,
     "grade_id": "cell-86dad1bc3231d9de",
     "locked": true,
     "schema_version": 3,
     "solution": false,
     "task": false
    }
   },
   "source": [
    "**(d) Currently we only have the raw signal per molecular ion ($cps(analyte)$) available in both mass spectra, but we want to transform this to meaningful concentrations ($c(analyte)$ in molecules per cm<sup>3</sup>) for both mass spectra. For that the data is normalized by the primary ion signals (to account for differences in the performance between calibration and actual measurement) and then multiplied by a calibration factor $f$.** \n",
    "\n",
    "For nitrate we use the following formula:\n",
    "$$ c(analyte) = \\frac{cps(analyte)}{cps(NO3-)+cps(HNO3(NO3-))+cps(H2N2O6)(NO3-)}\\cdot f(nitrate)$$\n",
    "with $f(nitrate)=2.6\\cdot10^{9}$. \n",
    "\n",
    "And for bromide we use:\n",
    "$$ c(analyte) = \\frac{cps(analyte)}{cps(Br-)+cps(H2O(Br-))}\\cdot f(bromide)$$\n",
    "with $f(bromide)=3.0\\cdot10^{9}$.\n",
    "\n",
    "**Create two new DataFrames `nitrate_calib` and `bromide_calib` which originate from `bromide_org`and `nitrate_org` and have a new column giving the proper concentrations (named 'conc') for each measured molecule.**"
   ]
  },
  {
   "cell_type": "code",
   "execution_count": null,
   "id": "a623346d-d2e3-4769-96b9-af8935e402cd",
   "metadata": {
    "deletable": false,
    "nbgrader": {
     "cell_type": "code",
     "checksum": "6108904158e0a1511edf03819975ff57",
     "grade": false,
     "grade_id": "cell-7d07432a5e4c4d99",
     "locked": false,
     "schema_version": 3,
     "solution": true,
     "task": false
    },
    "revert": "# YOUR CODE HERE\nraise NotImplementedError()"
   },
   "outputs": [],
   "source": [
    "# YOUR CODE HERE\n",
    "raise NotImplementedError()"
   ]
  },
  {
   "cell_type": "code",
   "execution_count": null,
   "id": "4e1e52ea-4cc4-48c4-8051-5c1501ac9ebb",
   "metadata": {
    "deletable": false,
    "editable": false,
    "nbgrader": {
     "cell_type": "code",
     "checksum": "bbc556509ec41386146d674f7b4efcea",
     "grade": true,
     "grade_id": "cell-2329bbafdeaeed00",
     "locked": true,
     "points": 2,
     "schema_version": 3,
     "solution": false,
     "task": false
    }
   },
   "outputs": [],
   "source": [
    "### BEGIN ALWAYS HIDDEN TEST\n",
    "\n",
    "# Check if variables exist\n",
    "assert 'nitrate_calib' in globals(), \"The variable 'nitrate_calib' is not defined.\"\n",
    "assert 'bromide_calib' in globals(), \"The variable 'bromide_calib' is not defined.\"\n",
    "\n",
    "# Check if they are pandas DataFrames\n",
    "assert isinstance(nitrate_calib, pd.DataFrame), \"'nitrate_calib' is not a pandas DataFrame.\"\n",
    "assert isinstance(bromide_calib, pd.DataFrame), \"'bromide_calib' is not a pandas DataFrame.\"\n",
    "\n",
    "# Check if the 'conc' column exists\n",
    "assert 'conc' in nitrate_calib.columns, \"The column 'conc' is missing in 'nitrate_calib'.\"\n",
    "assert 'conc' in bromide_calib.columns, \"The column 'conc' is missing in 'bromide_calib'.\"\n",
    "\n",
    "assert np.isclose(bromide_calib.loc[2:, 'conc'].median(), 2e7, rtol=1e-1), \"bromide_calib 'conc' are in the wrong order of magnitude\"\n",
    "assert np.isclose(nitrate_calib.loc[3:, 'conc'].median(), 7e6, rtol=1e-1), \"nitrate_calib 'conc' are in the wrong order of magnitude\"\n",
    "\n",
    "print('All tests passed')\n",
    "### END ALWAYS HIDDEN TEST"
   ]
  },
  {
   "cell_type": "markdown",
   "id": "8e93a16b-6a9e-41d7-8325-16dd43404921",
   "metadata": {
    "deletable": false,
    "editable": false,
    "nbgrader": {
     "cell_type": "markdown",
     "checksum": "10289c4370ddc44941cbe5e281efe025",
     "grade": false,
     "grade_id": "cell-5a64f45a043202d8",
     "locked": true,
     "schema_version": 3,
     "solution": false,
     "task": false
    }
   },
   "source": [
    "**(e) The organics measured in the two mass spectra (`nitrate_calib` and `bromide_calib`) need to be combined. For that we first need to identify the molecules measured in both instruments, i.e. we need to extract the overlap. We will use [pd.merge](https://pandas.pydata.org/docs/reference/api/pandas.DataFrame.merge.html) for this. `pd.merge`  is commonly used to merge data from two DataFrames based on a common column(s), and when used with the `how='inner'` keyword, it performs an inner join returning only the rows where there is a match in both DataFrames based on the specified key columns. Drop the primary ions from both DataFrames, and also get rid of the columns for the halogenes which might be still in your `bromide_calib` (namely 'Br','Cl','I'). For the overlapping peaks we will then compare the measured concentrations and use the instrument with the higher concentration and discard the other. At the end, we combine everything together again into one DataFrame which contains all sum formulas, the elemental abundances, the instrument which was used and the concentration. Put your code into a function called `combine_bromide_nitrate(bromide, nitrate)` where you pass `bromide_calib` and `nitrate_calib` as arguments and which return the final mass spectrum as a DataFrame (with reset index, going from 0 to ).**"
   ]
  },
  {
   "cell_type": "code",
   "execution_count": null,
   "id": "4ee2d265-8dce-4136-a3d5-9849ebe52153",
   "metadata": {
    "deletable": false,
    "nbgrader": {
     "cell_type": "code",
     "checksum": "f1cf3457a05b8037df006abdfa49a297",
     "grade": false,
     "grade_id": "cell-e99694a501984559",
     "locked": false,
     "schema_version": 3,
     "solution": true,
     "task": false
    },
    "revert": "def combine_bromide_nitrate(bromide, nitrate):\n    # YOUR CODE HERE\n    raise NotImplementedError()"
   },
   "outputs": [],
   "source": [
    "def combine_bromide_nitrate(bromide, nitrate):\n",
    "    # YOUR CODE HERE\n",
    "    raise NotImplementedError()"
   ]
  },
  {
   "cell_type": "code",
   "execution_count": null,
   "id": "f82fdb47-09c6-422c-bef4-60fa0f95e95f",
   "metadata": {
    "deletable": false,
    "editable": false,
    "nbgrader": {
     "cell_type": "code",
     "checksum": "1b9fc55eabaebad99f7995b99ee89c7b",
     "grade": true,
     "grade_id": "cell-76662a237e59a8eb",
     "locked": true,
     "points": 3,
     "schema_version": 3,
     "solution": false,
     "task": false
    }
   },
   "outputs": [],
   "source": []
  }
 ],
 "metadata": {
  "kernelspec": {
   "display_name": "Python 3",
   "language": "python",
   "name": "python3"
  },
  "language_info": {
   "codemirror_mode": {
    "name": "ipython",
    "version": 3
   },
   "file_extension": ".py",
   "mimetype": "text/x-python",
   "name": "python",
   "nbconvert_exporter": "python",
   "pygments_lexer": "ipython3",
   "version": "3.11.10"
  }
 },
 "nbformat": 4,
 "nbformat_minor": 5
}
